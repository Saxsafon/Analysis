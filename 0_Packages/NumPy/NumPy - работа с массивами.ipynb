{
 "cells": [
  {
   "cell_type": "code",
   "execution_count": 1,
   "metadata": {},
   "outputs": [],
   "source": [
    "import numpy as np"
   ]
  },
  {
   "cell_type": "markdown",
   "metadata": {},
   "source": [
    "## Базовая информация\n",
    "\n",
    "#### В отличие от списков языка Python библиотека NumPy ограничевается массивами, содержащими элементы одного типа"
   ]
  },
  {
   "cell_type": "code",
   "execution_count": 5,
   "metadata": {},
   "outputs": [],
   "source": [
    "ar = np.array([1, 2, 3, 4]) "
   ]
  },
  {
   "cell_type": "markdown",
   "metadata": {},
   "source": [
    "#### Если типы данных не совпадают, NumPy попытается выполнить повышающее приведение типов (в данном случае целовчисленные значения приводятся к числам с плавающей точкой)"
   ]
  },
  {
   "cell_type": "code",
   "execution_count": 6,
   "metadata": {},
   "outputs": [
    {
     "data": {
      "text/plain": [
       "array([3.14, 4.  , 2.  , 3.  ])"
      ]
     },
     "execution_count": 6,
     "metadata": {},
     "output_type": "execute_result"
    }
   ],
   "source": [
    "np.array([3.14, 4, 2, 3])"
   ]
  },
  {
   "cell_type": "markdown",
   "metadata": {},
   "source": [
    "#### Можно задать тип данных для элементов массива"
   ]
  },
  {
   "cell_type": "code",
   "execution_count": 2,
   "metadata": {},
   "outputs": [
    {
     "data": {
      "text/plain": [
       "array([1., 2., 3., 4.], dtype=float32)"
      ]
     },
     "execution_count": 2,
     "metadata": {},
     "output_type": "execute_result"
    }
   ],
   "source": [
    "np.array([1, 2, 3, 4], dtype='float32')"
   ]
  },
  {
   "cell_type": "markdown",
   "metadata": {},
   "source": [
    "## Создание массивов"
   ]
  },
  {
   "cell_type": "markdown",
   "metadata": {},
   "source": [
    "#### Создаем массив целых чисел длины 10, заплненный нулями"
   ]
  },
  {
   "cell_type": "code",
   "execution_count": 3,
   "metadata": {},
   "outputs": [
    {
     "data": {
      "text/plain": [
       "array([0, 0, 0, 0, 0, 0, 0, 0, 0, 0])"
      ]
     },
     "execution_count": 3,
     "metadata": {},
     "output_type": "execute_result"
    }
   ],
   "source": [
    "np.zeros(10, dtype=int)"
   ]
  },
  {
   "cell_type": "markdown",
   "metadata": {},
   "source": [
    "#### Создаем массив размером 3 x 5 значений с плавающей точкой, заполненный единицами"
   ]
  },
  {
   "cell_type": "code",
   "execution_count": 4,
   "metadata": {},
   "outputs": [
    {
     "data": {
      "text/plain": [
       "array([[1., 1., 1., 1., 1.],\n",
       "       [1., 1., 1., 1., 1.],\n",
       "       [1., 1., 1., 1., 1.]])"
      ]
     },
     "execution_count": 4,
     "metadata": {},
     "output_type": "execute_result"
    }
   ],
   "source": [
    "np.ones((3,5), dtype=float)"
   ]
  },
  {
   "cell_type": "markdown",
   "metadata": {},
   "source": [
    "#### Создаем массив размером 3 x 5, заполненный значением 3.14"
   ]
  },
  {
   "cell_type": "code",
   "execution_count": 5,
   "metadata": {},
   "outputs": [
    {
     "data": {
      "text/plain": [
       "array([[3.14, 3.14, 3.14, 3.14, 3.14],\n",
       "       [3.14, 3.14, 3.14, 3.14, 3.14],\n",
       "       [3.14, 3.14, 3.14, 3.14, 3.14]])"
      ]
     },
     "execution_count": 5,
     "metadata": {},
     "output_type": "execute_result"
    }
   ],
   "source": [
    "np.full((3,5), 3.14)"
   ]
  },
  {
   "cell_type": "markdown",
   "metadata": {},
   "source": [
    "#### Создаем массив, заполненный линейной последовательностью, начинающейся с 0 и заканчивающейся 20, с шагом 2 аналогично встроенной функции range()"
   ]
  },
  {
   "cell_type": "code",
   "execution_count": 15,
   "metadata": {},
   "outputs": [
    {
     "data": {
      "text/plain": [
       "array([ 0,  2,  4,  6,  8, 10, 12, 14, 16, 18])"
      ]
     },
     "execution_count": 15,
     "metadata": {},
     "output_type": "execute_result"
    }
   ],
   "source": [
    "np.arange(0,20, 2)"
   ]
  },
  {
   "cell_type": "markdown",
   "metadata": {},
   "source": [
    "#### Создаем массив из пяти значений, равномерно располагающихся между 0 и 1"
   ]
  },
  {
   "cell_type": "code",
   "execution_count": 6,
   "metadata": {},
   "outputs": [
    {
     "data": {
      "text/plain": [
       "array([0.  , 0.25, 0.5 , 0.75, 1.  ])"
      ]
     },
     "execution_count": 6,
     "metadata": {},
     "output_type": "execute_result"
    }
   ],
   "source": [
    "np.linspace(0, 1, 5)"
   ]
  },
  {
   "cell_type": "markdown",
   "metadata": {},
   "source": [
    "#### Создаем массив размером 3 x 3 равномерно распределенных случайных значений от 0 до 1"
   ]
  },
  {
   "cell_type": "code",
   "execution_count": 7,
   "metadata": {},
   "outputs": [
    {
     "data": {
      "text/plain": [
       "array([[0.44081953, 0.30011129, 0.01068541],\n",
       "       [0.17147632, 0.78639246, 0.3510725 ],\n",
       "       [0.11200804, 0.76696266, 0.25565744]])"
      ]
     },
     "execution_count": 7,
     "metadata": {},
     "output_type": "execute_result"
    }
   ],
   "source": [
    "np.random.random((3,3))"
   ]
  },
  {
   "cell_type": "markdown",
   "metadata": {},
   "source": [
    "#### Создаем массив размером 3 x 3 нормально распределенных случайных величин с медианой 0 и стандартным отклонением 1"
   ]
  },
  {
   "cell_type": "code",
   "execution_count": 8,
   "metadata": {},
   "outputs": [
    {
     "data": {
      "text/plain": [
       "array([[ 0.55823132, -1.44984155, -0.4651683 ],\n",
       "       [ 1.89749919,  0.27430666,  0.06817185],\n",
       "       [ 0.73456004,  0.9067067 , -1.29427414]])"
      ]
     },
     "execution_count": 8,
     "metadata": {},
     "output_type": "execute_result"
    }
   ],
   "source": [
    "np.random.normal(0, 1, (3, 3))"
   ]
  },
  {
   "cell_type": "markdown",
   "metadata": {},
   "source": [
    "#### Создаем массив размером 3 x 3 случайных целых чисел в промежутке [0, 10)"
   ]
  },
  {
   "cell_type": "code",
   "execution_count": 9,
   "metadata": {},
   "outputs": [
    {
     "data": {
      "text/plain": [
       "array([[3, 8, 1],\n",
       "       [6, 9, 8],\n",
       "       [3, 9, 0]])"
      ]
     },
     "execution_count": 9,
     "metadata": {},
     "output_type": "execute_result"
    }
   ],
   "source": [
    "np.random.randint(0, 10, (3,3))"
   ]
  },
  {
   "cell_type": "markdown",
   "metadata": {},
   "source": [
    "#### Создаем единичную матрицу размером 3 x 3"
   ]
  },
  {
   "cell_type": "code",
   "execution_count": 10,
   "metadata": {},
   "outputs": [
    {
     "data": {
      "text/plain": [
       "array([[1., 0., 0.],\n",
       "       [0., 1., 0.],\n",
       "       [0., 0., 1.]])"
      ]
     },
     "execution_count": 10,
     "metadata": {},
     "output_type": "execute_result"
    }
   ],
   "source": [
    "np.eye(3)"
   ]
  },
  {
   "cell_type": "markdown",
   "metadata": {},
   "source": [
    "#### Создаем неинициализированный массив из трех целочисленных значений. Значениями будут произвольные, случайно оказавшиеся в соответствующих ячейках памяти данные"
   ]
  },
  {
   "cell_type": "code",
   "execution_count": 11,
   "metadata": {},
   "outputs": [
    {
     "data": {
      "text/plain": [
       "array([1., 1., 1.])"
      ]
     },
     "execution_count": 11,
     "metadata": {},
     "output_type": "execute_result"
    }
   ],
   "source": [
    "np.empty(3) # Зачем оно нужно?"
   ]
  },
  {
   "cell_type": "markdown",
   "metadata": {},
   "source": [
    "## Атрибуты массивов"
   ]
  },
  {
   "cell_type": "markdown",
   "metadata": {},
   "source": [
    "#### Созданим 3 массива случайных чисел: одномерного, двумерного и трехмерного"
   ]
  },
  {
   "cell_type": "code",
   "execution_count": 12,
   "metadata": {},
   "outputs": [],
   "source": [
    "# Задаем начальное значение SEED, чтобы гарантировать генерацию одних и тех же массивов при каждом выполнении кода \n",
    "np.random.seed(0)\n",
    "\n",
    "x1 = np.random.randint(10, size=6) # одномерный массив\n",
    "x2 = np.random.randint(10, size=(3,4)) # двумерный массив\n",
    "x3 = np.random.randint(10, size=(3,4,5)) # трехмерный массив"
   ]
  },
  {
   "cell_type": "markdown",
   "metadata": {},
   "source": [
    "#### У каждого из массивов есть атрибуты: \n",
    "- ndim - размерность\n",
    "- shape - размер каждого измерения\n",
    "- size - общий размер массива\n",
    "\n",
    "\n",
    "- dtype - тип данных массива\n",
    "\n",
    "\n",
    "- itemsize - размер каждого элемента массива в байтах\n",
    "- nbytes - полный размер массива в байтах"
   ]
  },
  {
   "cell_type": "code",
   "execution_count": 13,
   "metadata": {},
   "outputs": [
    {
     "name": "stdout",
     "output_type": "stream",
     "text": [
      "x3 ndim:  3\n",
      "x3 shape:  (3, 4, 5)\n",
      "x3 size:  60\n",
      "\n",
      "x3 dtype:  int32\n",
      "\n",
      "x3 itemsize: 4 bytes\n",
      "x3 nbytes: 240 bytes\n"
     ]
    }
   ],
   "source": [
    "print(\"x3 ndim: \", x3.ndim)\n",
    "print(\"x3 shape: \", x3.shape)\n",
    "print(\"x3 size: \", x3.size, end='\\n\\n')\n",
    "\n",
    "print(\"x3 dtype: \", x3.dtype, end='\\n\\n')\n",
    "\n",
    "print(f\"x3 itemsize: {x3.itemsize} bytes\")\n",
    "print(f\"x3 nbytes: {x3.nbytes} bytes\") # в общем равно size * itemsize"
   ]
  },
  {
   "cell_type": "markdown",
   "metadata": {},
   "source": [
    "## Индексация массивов"
   ]
  },
  {
   "cell_type": "markdown",
   "metadata": {},
   "source": [
    "#### В случае одномерного массива в NumPy все работает также как и в строенных списках Python"
   ]
  },
  {
   "cell_type": "code",
   "execution_count": 14,
   "metadata": {},
   "outputs": [
    {
     "name": "stdout",
     "output_type": "stream",
     "text": [
      "x1:  [5 0 3 3 7 9]\n",
      "Первый элемент массива:  5\n",
      "Четвертый элемент массива:  7\n",
      "Последний элемент массива:  9\n",
      "Предпоследний элемент массива:  7\n"
     ]
    }
   ],
   "source": [
    "print(\"x1: \", x1)\n",
    "print(\"Первый элемент массива: \", x1[0])\n",
    "print(\"Четвертый элемент массива: \", x1[4])\n",
    "print(\"Последний элемент массива: \", x1[-1])\n",
    "print(\"Предпоследний элемент массива: \", x1[-2])"
   ]
  },
  {
   "cell_type": "markdown",
   "metadata": {},
   "source": [
    "#### Обращаться к элементам в многомерных массивах можно с помощью разделенных запятыми кортежей индексов:"
   ]
  },
  {
   "cell_type": "code",
   "execution_count": 15,
   "metadata": {},
   "outputs": [
    {
     "name": "stdout",
     "output_type": "stream",
     "text": [
      "[[3 5 2 4]\n",
      " [7 6 8 8]\n",
      " [1 6 7 7]]\n",
      "\n",
      "Первый элемент, первой строки массива:  3\n",
      "Первый элемент, третьей строки массива:  1\n",
      "Последний элемент, третьей строки массива:  7\n"
     ]
    }
   ],
   "source": [
    "print(x2, end=\"\\n\\n\")\n",
    "print(\"Первый элемент, первой строки массива: \", x2[0, 0])\n",
    "print(\"Первый элемент, третьей строки массива: \", x2[2, 0])\n",
    "print(\"Последний элемент, третьей строки массива: \", x2[2, -1])"
   ]
  },
  {
   "cell_type": "markdown",
   "metadata": {},
   "source": [
    "#### Таким же способом можно изменить значение элемента в массиве"
   ]
  },
  {
   "cell_type": "code",
   "execution_count": 16,
   "metadata": {},
   "outputs": [
    {
     "data": {
      "text/plain": [
       "array([[3, 5, 2, 4],\n",
       "       [7, 6, 8, 8],\n",
       "       [1, 6, 7, 6]])"
      ]
     },
     "execution_count": 16,
     "metadata": {},
     "output_type": "execute_result"
    }
   ],
   "source": [
    "x2[2, -1] = 6\n",
    "x2"
   ]
  },
  {
   "cell_type": "markdown",
   "metadata": {},
   "source": [
    "#### Помните про фиксированный тип данных массива. При попытке вставить в массив целых чисел значение с плавающей точкой это значение будет учечено"
   ]
  },
  {
   "cell_type": "code",
   "execution_count": 17,
   "metadata": {},
   "outputs": [
    {
     "name": "stdout",
     "output_type": "stream",
     "text": [
      "[5 0 3 3 7 9]\n",
      "[3 0 3 3 7 9]\n"
     ]
    }
   ],
   "source": [
    "print(x1)\n",
    "x1[0] = 3.14159\n",
    "print(x1)"
   ]
  },
  {
   "cell_type": "markdown",
   "metadata": {},
   "source": [
    "## Срезы массивов"
   ]
  },
  {
   "cell_type": "markdown",
   "metadata": {},
   "source": [
    "### Доступ к подмассивам\n",
    "\n",
    "#### Синтаксис срезов библиотеки NumPy соответствует аналогичному синтаксису для страндартных списков языка Python. Для доступа к срезу массива x используется синтаксис:\n",
    "#### [начало: конец: шаг]\n",
    "#### Если какие-либо из этих значений не указаны, значения применяются по умолчанию:\n",
    "- начало = 0\n",
    "- конец = размер соответствующего измерения\n",
    "- шаг = 1"
   ]
  },
  {
   "cell_type": "code",
   "execution_count": 62,
   "metadata": {},
   "outputs": [
    {
     "data": {
      "text/plain": [
       "array([0, 1, 2, 3, 4, 5, 6, 7, 8, 9])"
      ]
     },
     "execution_count": 62,
     "metadata": {},
     "output_type": "execute_result"
    }
   ],
   "source": [
    "x = np.arange(10)\n",
    "x"
   ]
  },
  {
   "cell_type": "code",
   "execution_count": 63,
   "metadata": {},
   "outputs": [
    {
     "name": "stdout",
     "output_type": "stream",
     "text": [
      "Первые пять элементов массива:  [0 1 2 3 4]\n",
      "Элементы после индекса = 5:  [5 6 7 8 9]\n",
      "Подмассив из середины:  [4 5 6]\n",
      "Каждый второй элемент:  [0 2 4 6 8]\n",
      "Каждый второй элемент, начиная с индекса 1:  [1 3 5 7 9]\n"
     ]
    }
   ],
   "source": [
    "print(\"Первые пять элементов массива: \", x[:5])\n",
    "print(\"Элементы после индекса = 5: \", x[5:])\n",
    "print(\"Подмассив из середины: \", x[4:7])\n",
    "print(\"Каждый второй элемент: \", x[::2])\n",
    "print(\"Каждый второй элемент, начиная с индекса 1: \", x[1::2])"
   ]
  },
  {
   "cell_type": "markdown",
   "metadata": {},
   "source": [
    "##### Отрицательное значение параметра \"шаг\" может запутать. В этом случае значения по умалчанию для \"начало\" и \"конец\" меняются местами. Это удобный способ перевернуть массив"
   ]
  },
  {
   "cell_type": "code",
   "execution_count": 68,
   "metadata": {},
   "outputs": [
    {
     "name": "stdout",
     "output_type": "stream",
     "text": [
      "Массив x:  [0 1 2 3 4 5 6 7 8 9]\n",
      "Все элементы в обратном порядке:  [9 8 7 6 5 4 3 2 1 0]\n",
      "Каждый второй элемент в обратном порядке, начиная с индекса 5:  [5 3 1]\n"
     ]
    }
   ],
   "source": [
    "print(\"Массив x: \", x)\n",
    "print(\"Все элементы в обратном порядке: \", x[::-1])\n",
    "print(\"Каждый второй элемент в обратном порядке, начиная с индекса 5: \", x[5::-2])"
   ]
  },
  {
   "cell_type": "markdown",
   "metadata": {},
   "source": [
    "### Многомерные подмассивы"
   ]
  },
  {
   "cell_type": "markdown",
   "metadata": {},
   "source": [
    "#### Многомерные срезы задаются схожим образом, с разделением срезов запятыми"
   ]
  },
  {
   "cell_type": "code",
   "execution_count": 72,
   "metadata": {},
   "outputs": [
    {
     "name": "stdout",
     "output_type": "stream",
     "text": [
      "[[3 5 2 4]\n",
      " [7 6 8 8]\n",
      " [1 6 7 6]]\n",
      "\n",
      "Две строки, три столбца: \n",
      " [[3 5 2]\n",
      " [7 6 8]]\n",
      "\n",
      "Все строки, каждый второй столбец: \n",
      " [[3 2]\n",
      " [7 8]\n",
      " [1 7]]\n",
      "\n"
     ]
    }
   ],
   "source": [
    "print(x2, end='\\n\\n')\n",
    "print(\"Две строки, три столбца: \\n\", x2[:2, :3], end='\\n\\n')\n",
    "print(\"Все строки, каждый второй столбец: \\n\", x2[:3, ::2], end='\\n\\n')"
   ]
  },
  {
   "cell_type": "markdown",
   "metadata": {},
   "source": [
    "##### Измерения подмассивов также можно переворачивать:"
   ]
  },
  {
   "cell_type": "code",
   "execution_count": 73,
   "metadata": {},
   "outputs": [
    {
     "data": {
      "text/plain": [
       "array([[6, 7, 6, 1],\n",
       "       [8, 8, 6, 7],\n",
       "       [4, 2, 5, 3]])"
      ]
     },
     "execution_count": 73,
     "metadata": {},
     "output_type": "execute_result"
    }
   ],
   "source": [
    "x2[::-1, ::-1]"
   ]
  },
  {
   "cell_type": "markdown",
   "metadata": {},
   "source": [
    "##### При этом срезы массивов являются представлениеми (views), а не копиями (copies) данных изначального массива. Тоесть..."
   ]
  },
  {
   "cell_type": "code",
   "execution_count": 77,
   "metadata": {},
   "outputs": [
    {
     "name": "stdout",
     "output_type": "stream",
     "text": [
      "Изначальный массив: \n",
      "\n",
      " [[3 5 2 4]\n",
      " [7 6 8 8]\n",
      " [1 6 7 6]]\n",
      "\n",
      "Подмассив: \n",
      "\n",
      " [[3 5]\n",
      " [7 6]]\n"
     ]
    }
   ],
   "source": [
    "# Если мы извлечем из массива подмассив подмассив...\n",
    "print(\"Изначальный массив: \\n\\n\", x2, end=\"\\n\\n\")\n",
    "x2_sub = x2[:2, :2]\n",
    "print(\"Подмассив: \\n\\n\", x2_sub)"
   ]
  },
  {
   "cell_type": "code",
   "execution_count": 80,
   "metadata": {},
   "outputs": [
    {
     "name": "stdout",
     "output_type": "stream",
     "text": [
      "Измененный подмассив: \n",
      "\n",
      " [[99  5]\n",
      " [ 7  6]]\n",
      "\n",
      "Изначальный подмассив: \n",
      "\n",
      " [[99  5  2  4]\n",
      " [ 7  6  8  8]\n",
      " [ 1  6  7  6]]\n",
      "\n"
     ]
    }
   ],
   "source": [
    "# ...То изменение подмасива также изменит изначальный массив\n",
    "x2_sub[0, 0] = 99\n",
    "print(\"Измененный подмассив: \\n\\n\", x2_sub, end='\\n\\n')\n",
    "print(\"Изначальный подмассив: \\n\\n\", x2, end='\\n\\n')"
   ]
  },
  {
   "cell_type": "markdown",
   "metadata": {},
   "source": [
    "##### Таким образом, при работе с большими наборами данных не требуется копировать базовый буфер данных для обращения к их частям и обработки этих частей"
   ]
  },
  {
   "cell_type": "markdown",
   "metadata": {},
   "source": [
    "##### Но если нужно явным образом скопировать данные из массива или подмассива, это легко можно сделать с помощью метода copy:"
   ]
  },
  {
   "cell_type": "code",
   "execution_count": 85,
   "metadata": {},
   "outputs": [
    {
     "name": "stdout",
     "output_type": "stream",
     "text": [
      "Изначальный массив: \n",
      "\n",
      " [[99  5  2  4]\n",
      " [ 7  6  8  8]\n",
      " [ 1  6  7  6]]\n",
      "\n",
      "Копия среза массива: \n",
      "\n",
      " [[99  5]\n",
      " [ 7  6]]\n",
      "\n",
      "Измененная копия среза: \n",
      "\n",
      " [[42  5]\n",
      " [ 7  6]]\n",
      "\n",
      "Изначальный массив: \n",
      "\n",
      " [[99  5  2  4]\n",
      " [ 7  6  8  8]\n",
      " [ 1  6  7  6]]\n"
     ]
    }
   ],
   "source": [
    "print(\"Изначальный массив: \\n\\n\", x2, end='\\n\\n')\n",
    "\n",
    "x2_sub_copy = x2[:2, :2].copy()\n",
    "print(\"Копия среза массива: \\n\\n\", x2_sub_copy, end='\\n\\n')\n",
    "\n",
    "x2_sub_copy[0, 0] = 42\n",
    "print(\"Измененная копия среза: \\n\\n\", x2_sub_copy, end='\\n\\n')\n",
    "\n",
    "print(\"Изначальный массив: \\n\\n\", x2)"
   ]
  },
  {
   "cell_type": "markdown",
   "metadata": {},
   "source": [
    "### Изменение формы массивов"
   ]
  },
  {
   "cell_type": "markdown",
   "metadata": {},
   "source": [
    "##### Если вам, например, требуется поместить числа от 1 до 9 в таблицу 3 x 3, сделать это можно следующим образом:"
   ]
  },
  {
   "cell_type": "code",
   "execution_count": 18,
   "metadata": {},
   "outputs": [
    {
     "name": "stdout",
     "output_type": "stream",
     "text": [
      "[[1 2 3]\n",
      " [4 5 6]\n",
      " [7 8 9]]\n"
     ]
    }
   ],
   "source": [
    "grid = np.arange(1, 10).reshape((3,3))\n",
    "print(grid)"
   ]
  },
  {
   "cell_type": "markdown",
   "metadata": {},
   "source": [
    "##### При этом размер (size) исходного массива должен соответствовать размеру измененного"
   ]
  },
  {
   "cell_type": "markdown",
   "metadata": {},
   "source": [
    "##### Часто используемый паттерн изменения формы  - преобразование одномерного массива в двумерную матрицу-строку или матрицу-столбец. Для этого можно воспользоваться методом reshape, но лучше воспользоваться ключевым словом newaxis при выпольнении опреации среза"
   ]
  },
  {
   "cell_type": "code",
   "execution_count": 19,
   "metadata": {},
   "outputs": [
    {
     "name": "stdout",
     "output_type": "stream",
     "text": [
      "Изначальный массив:  [1 2 3]\n",
      "Преобразование в вектор-строку с помощью reshape:  [[1 2 3]]\n",
      "Преобразование в вектор-строку с помощью newaxis:  [[1 2 3]]\n",
      "\n",
      "Преобразование в вектор-столбец с помощью reshape: \n",
      "\n",
      " [[1]\n",
      " [2]\n",
      " [3]]\n",
      "\n",
      "Преобразование в вектор-столбец с помощью newaxis: \n",
      "\n",
      " [[1]\n",
      " [2]\n",
      " [3]]\n",
      "\n"
     ]
    }
   ],
   "source": [
    "x = np.array([1,2,3])\n",
    "print(\"Изначальный массив: \", x)\n",
    "print(\"Преобразование в вектор-строку с помощью reshape: \", x.reshape((1,3)))\n",
    "print(\"Преобразование в вектор-строку с помощью newaxis: \", x[np.newaxis,:], end= '\\n\\n')\n",
    "\n",
    "print(\"Преобразование в вектор-столбец с помощью reshape: \\n\\n\", x.reshape((3,1)), end='\\n\\n')\n",
    "print(\"Преобразование в вектор-столбец с помощью newaxis: \\n\\n\", x[:, np.newaxis], end='\\n\\n')"
   ]
  },
  {
   "cell_type": "markdown",
   "metadata": {},
   "source": [
    "##### Все предыдущие операции работали с одним массивом. Но можно объединить несколько массивов в один и, наоборот, разбить единый массив на несколько подмассивов"
   ]
  },
  {
   "cell_type": "markdown",
   "metadata": {},
   "source": [
    "### Слияние массивов\n",
    "\n",
    "##### Слияние, или объединение, двух массивов выполняется, в основном, с помощью метожов:\n",
    "- np.concatenate\n",
    "- np.vstack\n",
    "- np.hstack"
   ]
  },
  {
   "cell_type": "markdown",
   "metadata": {},
   "source": [
    "np.concatenate"
   ]
  },
  {
   "cell_type": "code",
   "execution_count": 20,
   "metadata": {},
   "outputs": [
    {
     "data": {
      "text/plain": [
       "array([1, 2, 3, 3, 2, 1])"
      ]
     },
     "execution_count": 20,
     "metadata": {},
     "output_type": "execute_result"
    }
   ],
   "source": [
    "x = np.array([1, 2, 3])\n",
    "y = np.array([3, 2, 1])\n",
    "\n",
    "np.concatenate([x, y])"
   ]
  },
  {
   "cell_type": "markdown",
   "metadata": {},
   "source": [
    "##### Можно объединить более двух массивов одновременно"
   ]
  },
  {
   "cell_type": "code",
   "execution_count": 21,
   "metadata": {},
   "outputs": [
    {
     "data": {
      "text/plain": [
       "array([ 1,  2,  3,  3,  2,  1, 99, 99, 99])"
      ]
     },
     "execution_count": 21,
     "metadata": {},
     "output_type": "execute_result"
    }
   ],
   "source": [
    "z = [99, 99, 99]\n",
    "\n",
    "np.concatenate([x, y, z]) "
   ]
  },
  {
   "cell_type": "markdown",
   "metadata": {},
   "source": [
    "##### Для объединения двумерных массивов также использовать np.concatinate"
   ]
  },
  {
   "cell_type": "code",
   "execution_count": 22,
   "metadata": {},
   "outputs": [],
   "source": [
    "grid = np.array([[1, 2, 3], \n",
    "                 [4, 5, 6]])"
   ]
  },
  {
   "cell_type": "code",
   "execution_count": 23,
   "metadata": {},
   "outputs": [
    {
     "data": {
      "text/plain": [
       "array([[1, 2, 3],\n",
       "       [4, 5, 6],\n",
       "       [1, 2, 3],\n",
       "       [4, 5, 6]])"
      ]
     },
     "execution_count": 23,
     "metadata": {},
     "output_type": "execute_result"
    }
   ],
   "source": [
    "np.concatenate([grid, grid]) # слияние по первой оси координат"
   ]
  },
  {
   "cell_type": "code",
   "execution_count": 24,
   "metadata": {},
   "outputs": [
    {
     "data": {
      "text/plain": [
       "array([[1, 2, 3, 1, 2, 3],\n",
       "       [4, 5, 6, 4, 5, 6]])"
      ]
     },
     "execution_count": 24,
     "metadata": {},
     "output_type": "execute_result"
    }
   ],
   "source": [
    "np.concatenate([grid, grid], axis=1) # слияние по второй оси координат (с интексом 0)"
   ]
  },
  {
   "cell_type": "markdown",
   "metadata": {},
   "source": [
    "##### Для работы с массивами с различающимися измерениями удобно использовать функции np.vstack (вертикальное объединение) и np.hstack (горизонтальное объединение)"
   ]
  },
  {
   "cell_type": "markdown",
   "metadata": {},
   "source": [
    "np.vstack"
   ]
  },
  {
   "cell_type": "code",
   "execution_count": 25,
   "metadata": {},
   "outputs": [],
   "source": [
    "x = np.array([1,2,3])\n",
    "grid = np.array([[9,8,7], \n",
    "                 [6,5,4]])"
   ]
  },
  {
   "cell_type": "code",
   "execution_count": 26,
   "metadata": {},
   "outputs": [
    {
     "data": {
      "text/plain": [
       "array([[1, 2, 3],\n",
       "       [9, 8, 7],\n",
       "       [6, 5, 4]])"
      ]
     },
     "execution_count": 26,
     "metadata": {},
     "output_type": "execute_result"
    }
   ],
   "source": [
    "np.vstack([x, grid]) # объединение массивов по вертикали"
   ]
  },
  {
   "cell_type": "markdown",
   "metadata": {},
   "source": [
    "np.hstack"
   ]
  },
  {
   "cell_type": "code",
   "execution_count": 27,
   "metadata": {},
   "outputs": [
    {
     "data": {
      "text/plain": [
       "array([[1, 2, 3],\n",
       "       [9, 8, 7],\n",
       "       [6, 5, 4]])"
      ]
     },
     "execution_count": 27,
     "metadata": {},
     "output_type": "execute_result"
    }
   ],
   "source": [
    "np.vstack([x, grid]) # объединение массивов по горизонтали"
   ]
  },
  {
   "cell_type": "markdown",
   "metadata": {},
   "source": [
    "##### Функция np.dstack аналогично объединяет массивы по третьей оси"
   ]
  },
  {
   "cell_type": "markdown",
   "metadata": {},
   "source": [
    "### Разбиение массивов"
   ]
  },
  {
   "cell_type": "markdown",
   "metadata": {},
   "source": [
    "###### Противоположностью слияния является разбиение, выполняемой с помощью функций:\n",
    "- np.split\n",
    "- np.hsplit\n",
    "- np.vsplit\n",
    "\n",
    "###### Каждой из них необходимо передавать список индексов, задаюзих точки раздела"
   ]
  },
  {
   "cell_type": "markdown",
   "metadata": {},
   "source": [
    "np.split"
   ]
  },
  {
   "cell_type": "code",
   "execution_count": 28,
   "metadata": {},
   "outputs": [
    {
     "name": "stdout",
     "output_type": "stream",
     "text": [
      "[1 2 3] [99 99] [3 2 1]\n"
     ]
    }
   ],
   "source": [
    "x = [1, 2, 3, 99, 99, 3, 2, 1]\n",
    "\n",
    "x1, x2, x3 = np.split(x, [3,5])\n",
    "print(x1, x2, x3)"
   ]
  },
  {
   "cell_type": "markdown",
   "metadata": {},
   "source": [
    "##### Обратите внимание, что N точек раздела означают N + 1 подмассив. Функции np.hsplit и np.vsplit действуют аналогично"
   ]
  },
  {
   "cell_type": "code",
   "execution_count": 29,
   "metadata": {},
   "outputs": [
    {
     "data": {
      "text/plain": [
       "array([[ 0,  1,  2,  3],\n",
       "       [ 4,  5,  6,  7],\n",
       "       [ 8,  9, 10, 11],\n",
       "       [12, 13, 14, 15]])"
      ]
     },
     "execution_count": 29,
     "metadata": {},
     "output_type": "execute_result"
    }
   ],
   "source": [
    "grid = np.arange(16).reshape((4, 4))\n",
    "grid"
   ]
  },
  {
   "cell_type": "code",
   "execution_count": 30,
   "metadata": {},
   "outputs": [
    {
     "name": "stdout",
     "output_type": "stream",
     "text": [
      "[[0 1 2 3]\n",
      " [4 5 6 7]]\n",
      "\n",
      "[[ 8  9 10 11]\n",
      " [12 13 14 15]]\n"
     ]
    }
   ],
   "source": [
    "upper, lower = np.vsplit(grid, [2])\n",
    "\n",
    "print(upper, end='\\n\\n')\n",
    "print(lower)"
   ]
  },
  {
   "cell_type": "markdown",
   "metadata": {},
   "source": [
    "np.hsplit"
   ]
  },
  {
   "cell_type": "code",
   "execution_count": 31,
   "metadata": {},
   "outputs": [
    {
     "name": "stdout",
     "output_type": "stream",
     "text": [
      "[[ 0  1]\n",
      " [ 4  5]\n",
      " [ 8  9]\n",
      " [12 13]]\n",
      "\n",
      "[[ 2  3]\n",
      " [ 6  7]\n",
      " [10 11]\n",
      " [14 15]]\n"
     ]
    }
   ],
   "source": [
    "left, right = np.hsplit(grid, [2])\n",
    "\n",
    "print(left, end='\\n\\n')\n",
    "print(right)"
   ]
  },
  {
   "cell_type": "markdown",
   "metadata": {},
   "source": [
    "##### Функция np.dsplit аналогично разделяет массивы по третьей оси"
   ]
  }
 ],
 "metadata": {
  "kernelspec": {
   "display_name": "venv",
   "language": "python",
   "name": "venv"
  },
  "language_info": {
   "codemirror_mode": {
    "name": "ipython",
    "version": 3
   },
   "file_extension": ".py",
   "mimetype": "text/x-python",
   "name": "python",
   "nbconvert_exporter": "python",
   "pygments_lexer": "ipython3",
   "version": "3.9.7"
  }
 },
 "nbformat": 4,
 "nbformat_minor": 4
}
