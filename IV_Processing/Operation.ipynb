{
 "cells": [
  {
   "cell_type": "code",
   "execution_count": 2,
   "metadata": {},
   "outputs": [],
   "source": [
    "import pandas as pd\n",
    "import numpy as np"
   ]
  },
  {
   "cell_type": "code",
   "execution_count": 7,
   "metadata": {},
   "outputs": [
    {
     "data": {
      "text/html": [
       "<style>.container { width:100% !important; }</style>"
      ],
      "text/plain": [
       "<IPython.core.display.HTML object>"
      ]
     },
     "metadata": {},
     "output_type": "display_data"
    }
   ],
   "source": [
    "from IPython.core.display import display, HTML\n",
    "display(HTML(\"<style>.container { width:100% !important; }</style>\"))"
   ]
  },
  {
   "cell_type": "code",
   "execution_count": 3,
   "metadata": {},
   "outputs": [],
   "source": [
    "data = pd.DataFrame([\n",
    "            ['16-10-2021', '23:56:10', 'A', 'a1', '0001', np.random.randint(100)], \n",
    "            ['16-10-2021', '23:58:30', 'A', 'a1', '0002', np.random.randint(100)],\n",
    "            ['16-10-2021', '23:58:35', 'B', 'b1', '0003', np.random.randint(100)],\n",
    "            ['16-10-2021', '23:58:56', 'B', 'b2', '0004', np.random.randint(100)],\n",
    "            ['16-10-2021', '23:59:21', 'C', 'c1', '0005', np.random.randint(100)],\n",
    "            ['16-10-2021', '23:59:42', 'C', 'c1', '0006', np.random.randint(100)],\n",
    "\n",
    "            ['17-10-2021', '00:03:05', 'A', 'a1', '0007', np.random.randint(100)],\n",
    "            ['17-10-2021', '00:03:25', 'A', 'a2', '0008', np.random.randint(100)],\n",
    "            ['17-10-2021', '00:03:48', 'A', 'a3', '0009', np.random.randint(100)],\n",
    "            ['17-10-2021', '00:05:24', 'B', 'b1', '0010', np.random.randint(100)],\n",
    "            ['17-10-2021', '00:05:36', 'B', 'b1', '0011', np.random.randint(100)],\n",
    "            ['17-10-2021', '00:05:44', 'B', 'b2', '0012', np.random.randint(100)],\n",
    "            ['17-10-2021', '00:06:03', 'B', 'b2', '0013', np.random.randint(100)],\n",
    "            ['17-10-2021', '03:12:13', 'B', 'b3', '0014', np.random.randint(100)],\n",
    "            ['17-10-2021', '03:12:46', 'C', 'c1', '0015', np.random.randint(100)],\n",
    "            ['17-10-2021', '13:06:54', 'C', 'c1', '0016', np.random.randint(100)], \n",
    "            ['17-10-2021', '13:12:10', 'C', 'c2', '0017', np.random.randint(100)], \n",
    "            ['17-10-2021', '19:48:30', 'C', 'c2', '0018', np.random.randint(100)], \n",
    "\n",
    "            ['18-10-2021', '00:06:05', 'C', 'c1', '0019', np.random.randint(100)], \n",
    "            ['18-10-2021', '03:08:03', 'C', 'c2', '0020', np.random.randint(100)],\n",
    "            ['18-10-2021', '12:07:08', 'C', 'c3', '0021', np.random.randint(100)],\n",
    "    \n",
    "            ['19-10-2021', '00:04:03', 'A', 'a1', '0022', np.random.randint(100)], \n",
    "            ['19-10-2021', '02:08:20', 'A', 'a2', '0023', np.random.randint(100)],\n",
    "            ['19-10-2021', '10:03:08', 'B', 'a2', '0024', np.random.randint(100)],\n",
    "            ['19-10-2021', '12:07:08', 'B', 'b1', '0025', np.random.randint(100)],\n",
    "    \n",
    "], columns=['str_date', 'str_time','group', 'sub_group','val_id', 'value'])"
   ]
  },
  {
   "cell_type": "markdown",
   "metadata": {},
   "source": [
    "# Маски"
   ]
  },
  {
   "cell_type": "code",
   "execution_count": 6,
   "metadata": {},
   "outputs": [
    {
     "data": {
      "text/html": [
       "<div>\n",
       "<style scoped>\n",
       "    .dataframe tbody tr th:only-of-type {\n",
       "        vertical-align: middle;\n",
       "    }\n",
       "\n",
       "    .dataframe tbody tr th {\n",
       "        vertical-align: top;\n",
       "    }\n",
       "\n",
       "    .dataframe thead th {\n",
       "        text-align: right;\n",
       "    }\n",
       "</style>\n",
       "<table border=\"1\" class=\"dataframe\">\n",
       "  <thead>\n",
       "    <tr style=\"text-align: right;\">\n",
       "      <th></th>\n",
       "      <th>str_date</th>\n",
       "      <th>str_time</th>\n",
       "      <th>group</th>\n",
       "      <th>sub_group</th>\n",
       "      <th>val_id</th>\n",
       "      <th>value</th>\n",
       "    </tr>\n",
       "  </thead>\n",
       "  <tbody>\n",
       "    <tr>\n",
       "      <th>0</th>\n",
       "      <td>16-10-2021</td>\n",
       "      <td>23:56:10</td>\n",
       "      <td>A</td>\n",
       "      <td>a1</td>\n",
       "      <td>0001</td>\n",
       "      <td>44</td>\n",
       "    </tr>\n",
       "    <tr>\n",
       "      <th>1</th>\n",
       "      <td>16-10-2021</td>\n",
       "      <td>23:58:30</td>\n",
       "      <td>A</td>\n",
       "      <td>a1</td>\n",
       "      <td>0002</td>\n",
       "      <td>68</td>\n",
       "    </tr>\n",
       "    <tr>\n",
       "      <th>6</th>\n",
       "      <td>17-10-2021</td>\n",
       "      <td>00:03:05</td>\n",
       "      <td>A</td>\n",
       "      <td>a1</td>\n",
       "      <td>0007</td>\n",
       "      <td>44</td>\n",
       "    </tr>\n",
       "    <tr>\n",
       "      <th>21</th>\n",
       "      <td>19-10-2021</td>\n",
       "      <td>00:04:03</td>\n",
       "      <td>A</td>\n",
       "      <td>a1</td>\n",
       "      <td>0022</td>\n",
       "      <td>37</td>\n",
       "    </tr>\n",
       "  </tbody>\n",
       "</table>\n",
       "</div>"
      ],
      "text/plain": [
       "      str_date  str_time group sub_group val_id  value\n",
       "0   16-10-2021  23:56:10     A        a1   0001     44\n",
       "1   16-10-2021  23:58:30     A        a1   0002     68\n",
       "6   17-10-2021  00:03:05     A        a1   0007     44\n",
       "21  19-10-2021  00:04:03     A        a1   0022     37"
      ]
     },
     "execution_count": 6,
     "metadata": {},
     "output_type": "execute_result"
    }
   ],
   "source": [
    "group_mask = (data.group == 'A')\n",
    "sub_group_mask = (data.sub_group == 'a1')\n",
    "\n",
    "data[group_mask & sub_group_mask]"
   ]
  },
  {
   "cell_type": "markdown",
   "metadata": {},
   "source": [
    "# Векторизованные операции над строками"
   ]
  },
  {
   "cell_type": "markdown",
   "metadata": {},
   "source": [
    "### Методы, аналогичные строковым методам языка Python\n",
    "\n",
    "| Methond                  | Description                 |\n",
    "| ------------------------ | ----------------------------|\n",
    "| len()                    |  Длинна строки              |\n",
    "| ljust()                  |                             |\n",
    "| rjust()                  |                             |\n",
    "| center()                 |                             |\n",
    "| zfill()                  |                             |\n",
    "| strip()                  |                             |\n",
    "| rstrip()                 |                             |\n",
    "| lstrip()                 |                             |\n"
   ]
  },
  {
   "cell_type": "code",
   "execution_count": null,
   "metadata": {},
   "outputs": [],
   "source": []
  },
  {
   "cell_type": "markdown",
   "metadata": {},
   "source": [
    "| Methond                  | Description                 |\n",
    "| ------------------------ | ----------------------------|\n",
    "| lower()                  |Перевести в нижний регистр   |\n",
    "| upper()                  |Перевести в верхний регистр  |\n",
    "| find()                   |                             |\n",
    "| rfind()                  |                             |\n",
    "| index()                  |                             |\n",
    "| rindex()                 |                             |\n",
    "| capitalize()             |                             |\n",
    "| swapcase()               |                             |"
   ]
  },
  {
   "cell_type": "code",
   "execution_count": null,
   "metadata": {},
   "outputs": [],
   "source": []
  },
  {
   "cell_type": "markdown",
   "metadata": {},
   "source": [
    "| Methond                  | Description                 |\n",
    "| ------------------------ | ----------------------------|\n",
    "| translate()              |                             |\n",
    "| startswith()             |                             |\n",
    "| endswith()               |                             |\n",
    "| isalnum()                |                             |\n",
    "| isalpha()                |                             |\n",
    "| isdigit()                |                             |\n",
    "| isspace()                |                             |\n",
    "| istitle()                |                             |"
   ]
  },
  {
   "cell_type": "code",
   "execution_count": null,
   "metadata": {},
   "outputs": [],
   "source": []
  },
  {
   "cell_type": "markdown",
   "metadata": {},
   "source": [
    "| Methond                  | Description                 |\n",
    "| ------------------------ | ----------------------------|\n",
    "| islower()                |                             |\n",
    "| issupper()               |                             |\n",
    "| isnumeric()              |                             |\n",
    "| isdecimal()              |                             |\n",
    "| split()                  |                             |\n",
    "| rsplit()                 |                             |\n",
    "| partition()              |                             |\n",
    "| rpartition()             |                             |"
   ]
  },
  {
   "cell_type": "markdown",
   "metadata": {},
   "source": [
    "### Методы использующие регулярные выражения"
   ]
  },
  {
   "cell_type": "markdown",
   "metadata": {},
   "source": [
    "| Methond                  | Description                                                                                 |\n",
    "| ------------------------ | ------------------------------------------------------------------------------------------- |\n",
    "| match()                  |  Вызывает функцию re.match() для каждого элемента, возвращая булево значение                |\n",
    "| extract()                |  Вызывает функцию re.match() для каждого элемента, возвращая подходящие группы в виде строк |\n",
    "| findall()                |  Вызвает функцию re.findall() для каждого элемента                                          |\n",
    "| replace()                |  Заменяет вхождения шаблона какой-нибудь другой строкой                                     |\n",
    "| contains()               |  Вызывает функцию re.search() для каждого элемента, возвращая булево значение               |\n",
    "| count()                  |  Подсчитывает вхождения шаблона                                                             |\n",
    "| split()                  |  Эквивалент функции str.split(), но принимающий на входе регулярные выражения               |\n",
    "| rsplit()                 |  Эквивалент функции str.rsplit(), но принимающий на входе регулярные выражения              |"
   ]
  },
  {
   "cell_type": "markdown",
   "metadata": {},
   "source": [
    "### Прочие методы"
   ]
  },
  {
   "cell_type": "markdown",
   "metadata": {},
   "source": [
    "| Methond                  | Description                                                                                 |\n",
    "| ------------------------ | ------------------------------------------------------------------------------------------- |\n",
    "| get()                    |  Индексирует все элементы                                                                   |\n",
    "| slice()                  |  Вызывает подстроку из каждого элемента                                                     |\n",
    "| slice_replace()          |  Земеняет в каждом элементе вырезанную подстроку заданным значением                         |\n",
    "| cat()                    |  Конкатенация строк                                                                         |\n",
    "| repeat()                 |  Повторяет значения (указанное число раз)                                                   |\n",
    "| normalize()              |  Возвращает версию строки в кодировке Unicode                                               |\n",
    "| pad()                    |  Добавляет пробелы слева, справа или с обеих сторон строки                                  |\n",
    "| wrap()                   |  Разбивает длинные строковые значения на строки длины, не превышающей заданную              |\n",
    "| join()                   |  Объединяет строки из всех элементов с использовнием заданного разделителя                  |\n",
    "| get_dummies()            |  Извлекает значения переменных-идентификаторов в виде объекта DataFrame                     |"
   ]
  },
  {
   "cell_type": "code",
   "execution_count": null,
   "metadata": {},
   "outputs": [],
   "source": []
  }
 ],
 "metadata": {
  "kernelspec": {
   "display_name": "venv",
   "language": "python",
   "name": "venv"
  },
  "language_info": {
   "codemirror_mode": {
    "name": "ipython",
    "version": 3
   },
   "file_extension": ".py",
   "mimetype": "text/x-python",
   "name": "python",
   "nbconvert_exporter": "python",
   "pygments_lexer": "ipython3",
   "version": "3.7.3"
  }
 },
 "nbformat": 4,
 "nbformat_minor": 4
}
