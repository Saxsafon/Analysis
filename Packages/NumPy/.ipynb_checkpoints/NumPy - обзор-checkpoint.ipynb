{
 "cells": [
  {
   "cell_type": "markdown",
   "id": "1b8923df",
   "metadata": {},
   "source": [
    "# Что такое NumPy?\n",
    "### NumPy (Numerical Python - \"числовой Python\")"
   ]
  },
  {
   "cell_type": "markdown",
   "id": "b5bc71e6",
   "metadata": {},
   "source": [
    "# Схема пакета NumPy, основные объекты и методы"
   ]
  },
  {
   "cell_type": "markdown",
   "id": "364a9db1",
   "metadata": {},
   "source": []
  },
  {
   "cell_type": "markdown",
   "id": "8d823198",
   "metadata": {},
   "source": []
  },
  {
   "cell_type": "markdown",
   "id": "613c89d5",
   "metadata": {},
   "source": []
  }
 ],
 "metadata": {
  "kernelspec": {
   "display_name": "venv",
   "language": "python",
   "name": "venv"
  },
  "language_info": {
   "codemirror_mode": {
    "name": "ipython",
    "version": 3
   },
   "file_extension": ".py",
   "mimetype": "text/x-python",
   "name": "python",
   "nbconvert_exporter": "python",
   "pygments_lexer": "ipython3",
   "version": "3.9.7"
  }
 },
 "nbformat": 4,
 "nbformat_minor": 5
}
