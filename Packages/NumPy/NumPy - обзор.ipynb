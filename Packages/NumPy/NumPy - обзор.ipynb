{
 "cells": [
  {
   "cell_type": "markdown",
   "id": "1b8923df",
   "metadata": {},
   "source": [
    "# Что такое NumPy?\n",
    "### NumPy (Numerical Python - \"числовой Python\")"
   ]
  },
  {
   "cell_type": "markdown",
   "id": "b5bc71e6",
   "metadata": {},
   "source": [
    "# Схема пакета NumPy, основные объекты и методы"
   ]
  },
  {
   "cell_type": "markdown",
   "id": "d81f76dc",
   "metadata": {},
   "source": [
    "# Возможности пакета NumPy"
   ]
  },
  {
   "cell_type": "code",
   "execution_count": null,
   "id": "a34d6903",
   "metadata": {},
   "outputs": [],
   "source": []
  },
  {
   "cell_type": "code",
   "execution_count": null,
   "id": "d66ea63a",
   "metadata": {},
   "outputs": [],
   "source": []
  },
  {
   "cell_type": "code",
   "execution_count": null,
   "id": "4676901c",
   "metadata": {},
   "outputs": [],
   "source": []
  }
 ],
 "metadata": {
  "kernelspec": {
   "display_name": "venv",
   "language": "python",
   "name": "venv"
  },
  "language_info": {
   "codemirror_mode": {
    "name": "ipython",
    "version": 3
   },
   "file_extension": ".py",
   "mimetype": "text/x-python",
   "name": "python",
   "nbconvert_exporter": "python",
   "pygments_lexer": "ipython3",
   "version": "3.9.7"
  }
 },
 "nbformat": 4,
 "nbformat_minor": 5
}
