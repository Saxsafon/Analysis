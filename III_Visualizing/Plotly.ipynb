{
 "cells": [
  {
   "cell_type": "code",
   "execution_count": 49,
   "metadata": {},
   "outputs": [],
   "source": [
    "import pandas as pd\n",
    "import numpy as np\n",
    "\n",
    "import datetime as dt"
   ]
  },
  {
   "cell_type": "code",
   "execution_count": 50,
   "metadata": {},
   "outputs": [],
   "source": [
    "import plotly.express as px\n",
    "import plotly.graph_objects as go"
   ]
  },
  {
   "cell_type": "code",
   "execution_count": 51,
   "metadata": {},
   "outputs": [
    {
     "data": {
      "text/html": [
       "<style>.container { width:100% !important; }</style>"
      ],
      "text/plain": [
       "<IPython.core.display.HTML object>"
      ]
     },
     "metadata": {},
     "output_type": "display_data"
    }
   ],
   "source": [
    "from IPython.core.display import display, HTML # Расширить рабочее поле ноутбука на весь экран\n",
    "display(HTML(\"<style>.container { width:100% !important; }</style>\"))"
   ]
  },
  {
   "cell_type": "code",
   "execution_count": 52,
   "metadata": {},
   "outputs": [],
   "source": [
    "pd.options.display.max_colwidth = 300 # Увеличить длинну отображаемых строк"
   ]
  },
  {
   "cell_type": "markdown",
   "metadata": {},
   "source": [
    "# Генерация данных"
   ]
  },
  {
   "cell_type": "code",
   "execution_count": 53,
   "metadata": {},
   "outputs": [
    {
     "data": {
      "text/html": [
       "<div>\n",
       "<style scoped>\n",
       "    .dataframe tbody tr th:only-of-type {\n",
       "        vertical-align: middle;\n",
       "    }\n",
       "\n",
       "    .dataframe tbody tr th {\n",
       "        vertical-align: top;\n",
       "    }\n",
       "\n",
       "    .dataframe thead th {\n",
       "        text-align: right;\n",
       "    }\n",
       "</style>\n",
       "<table border=\"1\" class=\"dataframe\">\n",
       "  <thead>\n",
       "    <tr style=\"text-align: right;\">\n",
       "      <th></th>\n",
       "      <th>datetime</th>\n",
       "      <th>date</th>\n",
       "      <th>time</th>\n",
       "      <th>week</th>\n",
       "      <th>weekday</th>\n",
       "      <th>group</th>\n",
       "      <th>sub_group</th>\n",
       "      <th>val_id</th>\n",
       "      <th>value</th>\n",
       "    </tr>\n",
       "  </thead>\n",
       "  <tbody>\n",
       "    <tr>\n",
       "      <th>0</th>\n",
       "      <td>2021-10-16 23:56:10</td>\n",
       "      <td>2021-10-16</td>\n",
       "      <td>23:56:10</td>\n",
       "      <td>41</td>\n",
       "      <td>Saturday</td>\n",
       "      <td>A</td>\n",
       "      <td>a1</td>\n",
       "      <td>0001</td>\n",
       "      <td>2</td>\n",
       "    </tr>\n",
       "    <tr>\n",
       "      <th>1</th>\n",
       "      <td>2021-10-16 23:58:30</td>\n",
       "      <td>2021-10-16</td>\n",
       "      <td>23:58:30</td>\n",
       "      <td>41</td>\n",
       "      <td>Saturday</td>\n",
       "      <td>A</td>\n",
       "      <td>a1</td>\n",
       "      <td>0002</td>\n",
       "      <td>16</td>\n",
       "    </tr>\n",
       "    <tr>\n",
       "      <th>2</th>\n",
       "      <td>2021-10-16 23:58:35</td>\n",
       "      <td>2021-10-16</td>\n",
       "      <td>23:58:35</td>\n",
       "      <td>41</td>\n",
       "      <td>Saturday</td>\n",
       "      <td>B</td>\n",
       "      <td>b1</td>\n",
       "      <td>0003</td>\n",
       "      <td>94</td>\n",
       "    </tr>\n",
       "    <tr>\n",
       "      <th>3</th>\n",
       "      <td>2021-10-16 23:58:56</td>\n",
       "      <td>2021-10-16</td>\n",
       "      <td>23:58:56</td>\n",
       "      <td>41</td>\n",
       "      <td>Saturday</td>\n",
       "      <td>B</td>\n",
       "      <td>b2</td>\n",
       "      <td>0004</td>\n",
       "      <td>9</td>\n",
       "    </tr>\n",
       "    <tr>\n",
       "      <th>4</th>\n",
       "      <td>2021-10-16 23:59:21</td>\n",
       "      <td>2021-10-16</td>\n",
       "      <td>23:59:21</td>\n",
       "      <td>41</td>\n",
       "      <td>Saturday</td>\n",
       "      <td>C</td>\n",
       "      <td>c1</td>\n",
       "      <td>0005</td>\n",
       "      <td>72</td>\n",
       "    </tr>\n",
       "  </tbody>\n",
       "</table>\n",
       "</div>"
      ],
      "text/plain": [
       "             datetime        date      time  week   weekday group sub_group  \\\n",
       "0 2021-10-16 23:56:10  2021-10-16  23:56:10    41  Saturday     A        a1   \n",
       "1 2021-10-16 23:58:30  2021-10-16  23:58:30    41  Saturday     A        a1   \n",
       "2 2021-10-16 23:58:35  2021-10-16  23:58:35    41  Saturday     B        b1   \n",
       "3 2021-10-16 23:58:56  2021-10-16  23:58:56    41  Saturday     B        b2   \n",
       "4 2021-10-16 23:59:21  2021-10-16  23:59:21    41  Saturday     C        c1   \n",
       "\n",
       "  val_id  value  \n",
       "0   0001      2  \n",
       "1   0002     16  \n",
       "2   0003     94  \n",
       "3   0004      9  \n",
       "4   0005     72  "
      ]
     },
     "execution_count": 53,
     "metadata": {},
     "output_type": "execute_result"
    }
   ],
   "source": [
    "data = pd.DataFrame([\n",
    "            ['16-10-2021', '23:56:10', 'A', 'a1', '0001', np.random.randint(100)], \n",
    "            ['16-10-2021', '23:58:30', 'A', 'a1', '0002', np.random.randint(100)],\n",
    "            ['16-10-2021', '23:58:35', 'B', 'b1', '0003', np.random.randint(100)],\n",
    "            ['16-10-2021', '23:58:56', 'B', 'b2', '0004', np.random.randint(100)],\n",
    "            ['16-10-2021', '23:59:21', 'C', 'c1', '0005', np.random.randint(100)],\n",
    "            ['16-10-2021', '23:59:42', 'C', 'c1', '0006', np.random.randint(100)],\n",
    "\n",
    "            ['17-10-2021', '00:03:05', 'A', 'a1', '0007', np.random.randint(100)],\n",
    "            ['17-10-2021', '00:03:25', 'A', 'a2', '0008', np.random.randint(100)],\n",
    "            ['17-10-2021', '00:03:48', 'A', 'a3', '0009', np.random.randint(100)],\n",
    "            ['17-10-2021', '00:05:24', 'B', 'b1', '0010', np.random.randint(100)],\n",
    "            ['17-10-2021', '00:05:36', 'B', 'b1', '0011', np.random.randint(100)],\n",
    "            ['17-10-2021', '00:05:44', 'B', 'b2', '0012', np.random.randint(100)],\n",
    "            ['17-10-2021', '00:06:03', 'B', 'b2', '0013', np.random.randint(100)],\n",
    "            ['17-10-2021', '03:12:13', 'B', 'b3', '0014', np.random.randint(100)],\n",
    "            ['17-10-2021', '03:12:46', 'C', 'c1', '0015', np.random.randint(100)],\n",
    "            ['17-10-2021', '13:06:54', 'C', 'c1', '0016', np.random.randint(100)], \n",
    "            ['17-10-2021', '13:12:10', 'C', 'c2', '0017', np.random.randint(100)], \n",
    "            ['17-10-2021', '19:48:30', 'C', 'c2', '0018', np.random.randint(100)], \n",
    "\n",
    "            ['18-10-2021', '00:06:05', 'C', 'c1', '0019', np.random.randint(100)], \n",
    "            ['18-10-2021', '03:08:03', 'C', 'c2', '0020', np.random.randint(100)],\n",
    "            ['18-10-2021', '12:07:08', 'C', 'c3', '0021', np.random.randint(100)],\n",
    "    \n",
    "            ['19-10-2021', '00:04:03', 'A', 'a1', '0022', np.random.randint(100)], \n",
    "            ['19-10-2021', '02:08:20', 'A', 'a2', '0023', np.random.randint(100)],\n",
    "            ['19-10-2021', '10:03:08', 'B', 'a2', '0024', np.random.randint(100)],\n",
    "            ['19-10-2021', '12:07:08', 'B', 'b1', '0025', np.random.randint(100)],\n",
    "    \n",
    "], columns=['str_date', 'str_time','group', 'sub_group','val_id', 'value'])\n",
    "\n",
    "data['datetime'] = data.apply(lambda row:  dt.datetime.strptime(f'{row.str_date} {row.str_time}', '%d-%m-%Y %H:%M:%S'), axis=1)\n",
    "\n",
    "data['date'] = data.datetime.dt.date\n",
    "data['time'] = data.datetime.dt.time\n",
    "data['week'] = data.datetime.dt.isocalendar().week # Получить номер недели\n",
    "\n",
    "# data['weekday'] = data.datetime.dt.strftime('%A') \n",
    "data['weekday'] = data.datetime.dt.day_name() # Получить день недели (на английском)\n",
    "\n",
    "datetime_cols = ['datetime', 'date','time','week','weekday']\n",
    "group_cols = ['group', 'sub_group']\n",
    "data = data[[*datetime_cols, *group_cols, 'val_id', 'value']]\n",
    "\n",
    "data.head()"
   ]
  },
  {
   "cell_type": "markdown",
   "metadata": {},
   "source": [
    "# Plotly\n",
    "\n",
    "https://plotly.com/python/"
   ]
  },
  {
   "cell_type": "markdown",
   "metadata": {},
   "source": [
    "В Plotly есть два отдельных пакета для рисования графиков: express и graph_objects. Первый как, говорят создатели, новее быстрее и лучше. Однако во втором, на мой взгляд, удобнее проводить тонкую настройку графиков. Потому я чаще всего пользуюсь graph_objects  "
   ]
  },
  {
   "cell_type": "markdown",
   "metadata": {},
   "source": [
    "## Bar chart - столбчатые диаграммы"
   ]
  },
  {
   "cell_type": "markdown",
   "metadata": {},
   "source": [
    "### Быстрый вариант"
   ]
  },
  {
   "cell_type": "code",
   "execution_count": 54,
   "metadata": {},
   "outputs": [
    {
     "name": "stdout",
     "output_type": "stream",
     "text": [
      "|    | date       | group   |   val_id |\n",
      "|---:|:-----------|:--------|---------:|\n",
      "|  0 | 2021-10-16 | A       |        2 |\n",
      "|  1 | 2021-10-16 | B       |        2 |\n",
      "|  2 | 2021-10-16 | C       |        2 |\n",
      "|  3 | 2021-10-17 | A       |        3 |\n",
      "|  4 | 2021-10-17 | B       |        5 |\n",
      "|  5 | 2021-10-17 | C       |        4 |\n",
      "|  6 | 2021-10-18 | C       |        3 |\n",
      "|  7 | 2021-10-19 | A       |        2 |\n",
      "|  8 | 2021-10-19 | B       |        2 |\n"
     ]
    },
    {
     "data": {
      "image/svg+xml": [
       "<svg class=\"main-svg\" xmlns=\"http://www.w3.org/2000/svg\" xmlns:xlink=\"http://www.w3.org/1999/xlink\" width=\"700\" height=\"500\" style=\"\" viewBox=\"0 0 700 500\"><rect x=\"0\" y=\"0\" width=\"700\" height=\"500\" style=\"fill: rgb(255, 255, 255); fill-opacity: 1;\"/><defs id=\"defs-9d87db\"><g class=\"clips\"><clipPath id=\"clip9d87dbxyplot\" class=\"plotclip\"><rect width=\"540\" height=\"320\"/></clipPath><clipPath class=\"axesclip\" id=\"clip9d87dbx\"><rect x=\"80\" y=\"0\" width=\"540\" height=\"500\"/></clipPath><clipPath class=\"axesclip\" id=\"clip9d87dby\"><rect x=\"0\" y=\"100\" width=\"700\" height=\"320\"/></clipPath><clipPath class=\"axesclip\" id=\"clip9d87dbxy\"><rect x=\"80\" y=\"100\" width=\"540\" height=\"320\"/></clipPath></g><g class=\"gradients\"/><g class=\"patterns\"/></defs><g class=\"bglayer\"><rect class=\"bg\" x=\"80\" y=\"100\" width=\"540\" height=\"320\" style=\"fill: rgb(229, 236, 246); fill-opacity: 1; stroke-width: 0;\"/></g><g class=\"layer-below\"><g class=\"imagelayer\"/><g class=\"shapelayer\"/></g><g class=\"cartesianlayer\"><g class=\"subplot xy\"><g class=\"layer-subplot\"><g class=\"shapelayer\"/><g class=\"imagelayer\"/></g><g class=\"gridlayer\"><g class=\"x\"/><g class=\"y\"><path class=\"ygrid crisp\" transform=\"translate(0,369.33)\" d=\"M80,0h540\" style=\"stroke: rgb(255, 255, 255); stroke-opacity: 1; stroke-width: 1px;\"/><path class=\"ygrid crisp\" transform=\"translate(0,318.66999999999996)\" d=\"M80,0h540\" style=\"stroke: rgb(255, 255, 255); stroke-opacity: 1; stroke-width: 1px;\"/><path class=\"ygrid crisp\" transform=\"translate(0,268)\" d=\"M80,0h540\" style=\"stroke: rgb(255, 255, 255); stroke-opacity: 1; stroke-width: 1px;\"/><path class=\"ygrid crisp\" transform=\"translate(0,217.32999999999998)\" d=\"M80,0h540\" style=\"stroke: rgb(255, 255, 255); stroke-opacity: 1; stroke-width: 1px;\"/><path class=\"ygrid crisp\" transform=\"translate(0,166.67000000000002)\" d=\"M80,0h540\" style=\"stroke: rgb(255, 255, 255); stroke-opacity: 1; stroke-width: 1px;\"/><path class=\"ygrid crisp\" transform=\"translate(0,116)\" d=\"M80,0h540\" style=\"stroke: rgb(255, 255, 255); stroke-opacity: 1; stroke-width: 1px;\"/></g></g><g class=\"zerolinelayer\"><path class=\"yzl zl crisp\" transform=\"translate(0,420)\" d=\"M80,0h540\" style=\"stroke: rgb(255, 255, 255); stroke-opacity: 1; stroke-width: 2px;\"/></g><path class=\"xlines-below\"/><path class=\"ylines-below\"/><g class=\"overlines-below\"/><g class=\"xaxislayer-below\"/><g class=\"yaxislayer-below\"/><g class=\"overaxes-below\"/><g class=\"plot\" transform=\"translate(80,100)\" clip-path=\"url(#clip9d87dbxyplot)\"><g class=\"barlayer mlayer\"><g class=\"trace bars\" style=\"opacity: 1;\"><g class=\"points\"><g class=\"point\"><path d=\"M13.5,320V269.33H121.5V320Z\" style=\"vector-effect: non-scaling-stroke; opacity: 1; stroke-width: 0.5px; fill: rgb(99, 110, 250); fill-opacity: 1; stroke: rgb(229, 236, 246); stroke-opacity: 1;\"/></g><g class=\"point\"><path d=\"M148.5,320V244H256.5V320Z\" style=\"vector-effect: non-scaling-stroke; opacity: 1; stroke-width: 0.5px; fill: rgb(99, 110, 250); fill-opacity: 1; stroke: rgb(229, 236, 246); stroke-opacity: 1;\"/></g><g class=\"point\"><path d=\"M418.5,320V269.33H526.5V320Z\" style=\"vector-effect: non-scaling-stroke; opacity: 1; stroke-width: 0.5px; fill: rgb(99, 110, 250); fill-opacity: 1; stroke: rgb(229, 236, 246); stroke-opacity: 1;\"/></g></g></g><g class=\"trace bars\" style=\"opacity: 1;\"><g class=\"points\"><g class=\"point\"><path d=\"M13.5,269.33V218.67H121.5V269.33Z\" style=\"vector-effect: non-scaling-stroke; opacity: 1; stroke-width: 0.5px; fill: rgb(239, 85, 59); fill-opacity: 1; stroke: rgb(229, 236, 246); stroke-opacity: 1;\"/></g><g class=\"point\"><path d=\"M148.5,244V117.33H256.5V244Z\" style=\"vector-effect: non-scaling-stroke; opacity: 1; stroke-width: 0.5px; fill: rgb(239, 85, 59); fill-opacity: 1; stroke: rgb(229, 236, 246); stroke-opacity: 1;\"/></g><g class=\"point\"><path d=\"M418.5,269.33V218.67H526.5V269.33Z\" style=\"vector-effect: non-scaling-stroke; opacity: 1; stroke-width: 0.5px; fill: rgb(239, 85, 59); fill-opacity: 1; stroke: rgb(229, 236, 246); stroke-opacity: 1;\"/></g></g></g><g class=\"trace bars\" style=\"opacity: 1;\"><g class=\"points\"><g class=\"point\"><path d=\"M13.5,218.67V168H121.5V218.67Z\" style=\"vector-effect: non-scaling-stroke; opacity: 1; stroke-width: 0.5px; fill: rgb(0, 204, 150); fill-opacity: 1; stroke: rgb(229, 236, 246); stroke-opacity: 1;\"/></g><g class=\"point\"><path d=\"M148.5,117.33V16H256.5V117.33Z\" style=\"vector-effect: non-scaling-stroke; opacity: 1; stroke-width: 0.5px; fill: rgb(0, 204, 150); fill-opacity: 1; stroke: rgb(229, 236, 246); stroke-opacity: 1;\"/></g><g class=\"point\"><path d=\"M283.5,320V244H391.5V320Z\" style=\"vector-effect: non-scaling-stroke; opacity: 1; stroke-width: 0.5px; fill: rgb(0, 204, 150); fill-opacity: 1; stroke: rgb(229, 236, 246); stroke-opacity: 1;\"/></g></g></g></g></g><g class=\"overplot\"/><path class=\"xlines-above crisp\" d=\"M0,0\" style=\"fill: none;\"/><path class=\"ylines-above crisp\" d=\"M0,0\" style=\"fill: none;\"/><g class=\"overlines-above\"/><g class=\"xaxislayer-above\"><g class=\"xtick\"><text text-anchor=\"middle\" x=\"0\" y=\"433\" transform=\"translate(147.5,0)\" style=\"font-family: 'Open Sans', verdana, arial, sans-serif; font-size: 12px; fill: rgb(42, 63, 95); fill-opacity: 1; white-space: pre; opacity: 1;\"><tspan class=\"line\" dy=\"0em\" x=\"0\" y=\"433\">Oct 16</tspan><tspan class=\"line\" dy=\"1.3em\" x=\"0\" y=\"433\">2021</tspan></text></g><g class=\"xtick\"><text text-anchor=\"middle\" x=\"0\" y=\"433\" style=\"font-family: 'Open Sans', verdana, arial, sans-serif; font-size: 12px; fill: rgb(42, 63, 95); fill-opacity: 1; white-space: pre; opacity: 1;\" transform=\"translate(282.5,0)\">Oct 17</text></g><g class=\"xtick\"><text text-anchor=\"middle\" x=\"0\" y=\"433\" style=\"font-family: 'Open Sans', verdana, arial, sans-serif; font-size: 12px; fill: rgb(42, 63, 95); fill-opacity: 1; white-space: pre; opacity: 1;\" transform=\"translate(417.5,0)\">Oct 18</text></g><g class=\"xtick\"><text text-anchor=\"middle\" x=\"0\" y=\"433\" style=\"font-family: 'Open Sans', verdana, arial, sans-serif; font-size: 12px; fill: rgb(42, 63, 95); fill-opacity: 1; white-space: pre; opacity: 1;\" transform=\"translate(552.5,0)\">Oct 19</text></g></g><g class=\"yaxislayer-above\"><g class=\"ytick\"><text text-anchor=\"end\" x=\"79\" y=\"4.199999999999999\" transform=\"translate(0,420)\" style=\"font-family: 'Open Sans', verdana, arial, sans-serif; font-size: 12px; fill: rgb(42, 63, 95); fill-opacity: 1; white-space: pre; opacity: 1;\">0</text></g><g class=\"ytick\"><text text-anchor=\"end\" x=\"79\" y=\"4.199999999999999\" style=\"font-family: 'Open Sans', verdana, arial, sans-serif; font-size: 12px; fill: rgb(42, 63, 95); fill-opacity: 1; white-space: pre; opacity: 1;\" transform=\"translate(0,369.33)\">2</text></g><g class=\"ytick\"><text text-anchor=\"end\" x=\"79\" y=\"4.199999999999999\" style=\"font-family: 'Open Sans', verdana, arial, sans-serif; font-size: 12px; fill: rgb(42, 63, 95); fill-opacity: 1; white-space: pre; opacity: 1;\" transform=\"translate(0,318.66999999999996)\">4</text></g><g class=\"ytick\"><text text-anchor=\"end\" x=\"79\" y=\"4.199999999999999\" style=\"font-family: 'Open Sans', verdana, arial, sans-serif; font-size: 12px; fill: rgb(42, 63, 95); fill-opacity: 1; white-space: pre; opacity: 1;\" transform=\"translate(0,268)\">6</text></g><g class=\"ytick\"><text text-anchor=\"end\" x=\"79\" y=\"4.199999999999999\" style=\"font-family: 'Open Sans', verdana, arial, sans-serif; font-size: 12px; fill: rgb(42, 63, 95); fill-opacity: 1; white-space: pre; opacity: 1;\" transform=\"translate(0,217.32999999999998)\">8</text></g><g class=\"ytick\"><text text-anchor=\"end\" x=\"79\" y=\"4.199999999999999\" style=\"font-family: 'Open Sans', verdana, arial, sans-serif; font-size: 12px; fill: rgb(42, 63, 95); fill-opacity: 1; white-space: pre; opacity: 1;\" transform=\"translate(0,166.67000000000002)\">10</text></g><g class=\"ytick\"><text text-anchor=\"end\" x=\"79\" y=\"4.199999999999999\" style=\"font-family: 'Open Sans', verdana, arial, sans-serif; font-size: 12px; fill: rgb(42, 63, 95); fill-opacity: 1; white-space: pre; opacity: 1;\" transform=\"translate(0,116)\">12</text></g></g><g class=\"overaxes-above\"/></g></g><g class=\"polarlayer\"/><g class=\"smithlayer\"/><g class=\"ternarylayer\"/><g class=\"geolayer\"/><g class=\"funnelarealayer\"/><g class=\"pielayer\"/><g class=\"iciclelayer\"/><g class=\"treemaplayer\"/><g class=\"sunburstlayer\"/><g class=\"glimages\"/><defs id=\"topdefs-9d87db\"><g class=\"clips\"/><clipPath id=\"legend9d87db\"><rect width=\"54\" height=\"86\" x=\"0\" y=\"0\"/></clipPath></defs><g class=\"layer-above\"><g class=\"imagelayer\"/><g class=\"shapelayer\"/></g><g class=\"infolayer\"><g class=\"legend\" pointer-events=\"all\" transform=\"translate(630.8,100)\"><rect class=\"bg\" shape-rendering=\"crispEdges\" style=\"stroke: rgb(68, 68, 68); stroke-opacity: 1; fill: rgb(255, 255, 255); fill-opacity: 1; stroke-width: 0px;\" width=\"54\" height=\"86\" x=\"0\" y=\"0\"/><g class=\"scrollbox\" transform=\"\" clip-path=\"url(#legend9d87db)\"><text class=\"legendtitletext\" text-anchor=\"start\" x=\"2\" y=\"18.2\" style=\"font-family: 'Open Sans', verdana, arial, sans-serif; font-size: 14px; fill: rgb(42, 63, 95); fill-opacity: 1; white-space: pre;\">group</text><g class=\"groups\" transform=\"\"><g class=\"traces\" transform=\"translate(0,32.7)\" style=\"opacity: 1;\"><text class=\"legendtext\" text-anchor=\"start\" x=\"40\" y=\"4.680000000000001\" style=\"font-family: 'Open Sans', verdana, arial, sans-serif; font-size: 12px; fill: rgb(42, 63, 95); fill-opacity: 1; white-space: pre;\">A</text><g class=\"layers\" style=\"opacity: 1;\"><g class=\"legendfill\"/><g class=\"legendlines\"/><g class=\"legendsymbols\"><g class=\"legendpoints\"><path class=\"legendundefined\" d=\"M6,6H-6V-6H6Z\" transform=\"translate(20,0)\" style=\"stroke-width: 0.5px; fill: rgb(99, 110, 250); fill-opacity: 1; stroke: rgb(229, 236, 246); stroke-opacity: 1;\"/></g></g></g><rect class=\"legendtoggle\" x=\"0\" y=\"-9.5\" width=\"49\" height=\"19\" style=\"fill: rgb(0, 0, 0); fill-opacity: 0;\"/></g></g><g class=\"groups\" transform=\"\"><g class=\"traces\" transform=\"translate(0,51.7)\" style=\"opacity: 1;\"><text class=\"legendtext\" text-anchor=\"start\" x=\"40\" y=\"4.680000000000001\" style=\"font-family: 'Open Sans', verdana, arial, sans-serif; font-size: 12px; fill: rgb(42, 63, 95); fill-opacity: 1; white-space: pre;\">B</text><g class=\"layers\" style=\"opacity: 1;\"><g class=\"legendfill\"/><g class=\"legendlines\"/><g class=\"legendsymbols\"><g class=\"legendpoints\"><path class=\"legendundefined\" d=\"M6,6H-6V-6H6Z\" transform=\"translate(20,0)\" style=\"stroke-width: 0.5px; fill: rgb(239, 85, 59); fill-opacity: 1; stroke: rgb(229, 236, 246); stroke-opacity: 1;\"/></g></g></g><rect class=\"legendtoggle\" x=\"0\" y=\"-9.5\" width=\"49\" height=\"19\" style=\"fill: rgb(0, 0, 0); fill-opacity: 0;\"/></g></g><g class=\"groups\" transform=\"\"><g class=\"traces\" transform=\"translate(0,70.7)\" style=\"opacity: 1;\"><text class=\"legendtext\" text-anchor=\"start\" x=\"40\" y=\"4.680000000000001\" style=\"font-family: 'Open Sans', verdana, arial, sans-serif; font-size: 12px; fill: rgb(42, 63, 95); fill-opacity: 1; white-space: pre;\">C</text><g class=\"layers\" style=\"opacity: 1;\"><g class=\"legendfill\"/><g class=\"legendlines\"/><g class=\"legendsymbols\"><g class=\"legendpoints\"><path class=\"legendundefined\" d=\"M6,6H-6V-6H6Z\" transform=\"translate(20,0)\" style=\"stroke-width: 0.5px; fill: rgb(0, 204, 150); fill-opacity: 1; stroke: rgb(229, 236, 246); stroke-opacity: 1;\"/></g></g></g><rect class=\"legendtoggle\" x=\"0\" y=\"-9.5\" width=\"49\" height=\"19\" style=\"fill: rgb(0, 0, 0); fill-opacity: 0;\"/></g></g></g><rect class=\"scrollbar\" rx=\"20\" ry=\"3\" width=\"0\" height=\"0\" style=\"fill: rgb(128, 139, 164); fill-opacity: 1;\" x=\"0\" y=\"0\"/></g><g class=\"g-gtitle\"><text class=\"gtitle\" x=\"35\" y=\"50\" text-anchor=\"start\" dy=\"0em\" style=\"font-family: 'Open Sans', verdana, arial, sans-serif; font-size: 17px; fill: rgb(42, 63, 95); opacity: 1; font-weight: normal; white-space: pre;\">Динамика значений</text></g><g class=\"g-xtitle\"><text class=\"xtitle\" x=\"350\" y=\"476.409375\" text-anchor=\"middle\" style=\"font-family: 'Open Sans', verdana, arial, sans-serif; font-size: 14px; fill: rgb(42, 63, 95); opacity: 1; font-weight: normal; white-space: pre;\">date</text></g><g class=\"g-ytitle\"><text class=\"ytitle\" transform=\"rotate(-90,40.840625,260)\" x=\"40.840625\" y=\"260\" text-anchor=\"middle\" style=\"font-family: 'Open Sans', verdana, arial, sans-serif; font-size: 14px; fill: rgb(42, 63, 95); opacity: 1; font-weight: normal; white-space: pre;\">val_id</text></g></g></svg>"
      ]
     },
     "metadata": {},
     "output_type": "display_data"
    }
   ],
   "source": [
    "x_col = 'date'\n",
    "y_col = 'val_id'\n",
    "group_col = 'group'\n",
    "\n",
    "# df = data.groupby([x_col, group_col], as_index=False)[y_col].nunique() # as_index=False почему-то теперь сбрасывает индекс\n",
    "df = data.groupby([x_col, group_col])[y_col].nunique().reset_index()\n",
    "print(df.to_markdown())\n",
    "\n",
    "fig = px.bar(df, x=x_col, y=y_col, color=group_col, title=\"Динамика значений\")\n",
    "\n",
    "fig.show(renderer=\"svg\")\n",
    "# fig.show(\"notebook\")"
   ]
  },
  {
   "cell_type": "markdown",
   "metadata": {},
   "source": [
    "### Цикличный вариант"
   ]
  },
  {
   "cell_type": "code",
   "execution_count": 55,
   "metadata": {},
   "outputs": [
    {
     "name": "stdout",
     "output_type": "stream",
     "text": [
      "|    | date       |   A |   B |   C |\n",
      "|---:|:-----------|----:|----:|----:|\n",
      "|  0 | 2021-10-16 |   2 |   2 |   2 |\n",
      "|  1 | 2021-10-17 |   3 |   5 |   4 |\n",
      "|  2 | 2021-10-18 |   0 |   0 |   3 |\n",
      "|  3 | 2021-10-19 |   2 |   2 |   0 |\n"
     ]
    },
    {
     "data": {
      "image/svg+xml": [
       "<svg class=\"main-svg\" xmlns=\"http://www.w3.org/2000/svg\" xmlns:xlink=\"http://www.w3.org/1999/xlink\" width=\"800\" height=\"600\" style=\"\" viewBox=\"0 0 800 600\"><rect x=\"0\" y=\"0\" width=\"800\" height=\"600\" style=\"fill: rgb(255, 255, 255); fill-opacity: 1;\"/><defs id=\"defs-da2be4\"><g class=\"clips\"><clipPath id=\"clipda2be4xyplot\" class=\"plotclip\"><rect width=\"640\" height=\"420\"/></clipPath><clipPath class=\"axesclip\" id=\"clipda2be4x\"><rect x=\"80\" y=\"0\" width=\"640\" height=\"600\"/></clipPath><clipPath class=\"axesclip\" id=\"clipda2be4y\"><rect x=\"0\" y=\"100\" width=\"800\" height=\"420\"/></clipPath><clipPath class=\"axesclip\" id=\"clipda2be4xy\"><rect x=\"80\" y=\"100\" width=\"640\" height=\"420\"/></clipPath></g><g class=\"gradients\"/><g class=\"patterns\"/></defs><g class=\"bglayer\"><rect class=\"bg\" x=\"80\" y=\"100\" width=\"640\" height=\"420\" style=\"fill: rgb(229, 236, 246); fill-opacity: 1; stroke-width: 0;\"/></g><g class=\"layer-below\"><g class=\"imagelayer\"/><g class=\"shapelayer\"/></g><g class=\"cartesianlayer\"><g class=\"subplot xy\"><g class=\"layer-subplot\"><g class=\"shapelayer\"/><g class=\"imagelayer\"/></g><g class=\"gridlayer\"><g class=\"x\"/><g class=\"y\"><path class=\"ygrid crisp\" transform=\"translate(0,453.5)\" d=\"M80,0h640\" style=\"stroke: rgb(255, 255, 255); stroke-opacity: 1; stroke-width: 1px;\"/><path class=\"ygrid crisp\" transform=\"translate(0,387)\" d=\"M80,0h640\" style=\"stroke: rgb(255, 255, 255); stroke-opacity: 1; stroke-width: 1px;\"/><path class=\"ygrid crisp\" transform=\"translate(0,320.5)\" d=\"M80,0h640\" style=\"stroke: rgb(255, 255, 255); stroke-opacity: 1; stroke-width: 1px;\"/><path class=\"ygrid crisp\" transform=\"translate(0,254)\" d=\"M80,0h640\" style=\"stroke: rgb(255, 255, 255); stroke-opacity: 1; stroke-width: 1px;\"/><path class=\"ygrid crisp\" transform=\"translate(0,187.5)\" d=\"M80,0h640\" style=\"stroke: rgb(255, 255, 255); stroke-opacity: 1; stroke-width: 1px;\"/><path class=\"ygrid crisp\" transform=\"translate(0,121)\" d=\"M80,0h640\" style=\"stroke: rgb(255, 255, 255); stroke-opacity: 1; stroke-width: 1px;\"/></g></g><g class=\"zerolinelayer\"><path class=\"yzl zl crisp\" transform=\"translate(0,520)\" d=\"M80,0h640\" style=\"stroke: rgb(255, 255, 255); stroke-opacity: 1; stroke-width: 2px;\"/></g><path class=\"xlines-below\"/><path class=\"ylines-below\"/><g class=\"overlines-below\"/><g class=\"xaxislayer-below\"/><g class=\"yaxislayer-below\"/><g class=\"overaxes-below\"/><g class=\"plot\" transform=\"translate(80,100)\" clip-path=\"url(#clipda2be4xyplot)\"><g class=\"barlayer mlayer\"><g class=\"trace bars\" shape-rendering=\"crispEdges\" style=\"opacity: 1;\"><g class=\"points\"><g class=\"point\"><path d=\"M16,420V353.5H144V420Z\" style=\"vector-effect: non-scaling-stroke; opacity: 1; stroke-width: 0.5px; fill: rgb(99, 110, 250); fill-opacity: 1; stroke: rgb(229, 236, 246); stroke-opacity: 1;\"/></g><g class=\"point\"><path d=\"M176,420V320.25H304V420Z\" style=\"vector-effect: non-scaling-stroke; opacity: 1; stroke-width: 0.5px; fill: rgb(99, 110, 250); fill-opacity: 1; stroke: rgb(229, 236, 246); stroke-opacity: 1;\"/></g><g class=\"point\"><path d=\"M336,420V420H464V420Z\" style=\"vector-effect: non-scaling-stroke; opacity: 1; stroke-width: 0.5px; fill: rgb(99, 110, 250); fill-opacity: 1; stroke: rgb(229, 236, 246); stroke-opacity: 1;\"/></g><g class=\"point\"><path d=\"M496,420V353.5H624V420Z\" style=\"vector-effect: non-scaling-stroke; opacity: 1; stroke-width: 0.5px; fill: rgb(99, 110, 250); fill-opacity: 1; stroke: rgb(229, 236, 246); stroke-opacity: 1;\"/></g></g></g><g class=\"trace bars\" shape-rendering=\"crispEdges\" style=\"opacity: 1;\"><g class=\"points\"><g class=\"point\"><path d=\"M16,353.5V287H144V353.5Z\" style=\"vector-effect: non-scaling-stroke; opacity: 1; stroke-width: 0.5px; fill: rgb(239, 85, 59); fill-opacity: 1; stroke: rgb(229, 236, 246); stroke-opacity: 1;\"/></g><g class=\"point\"><path d=\"M176,320.25V154H304V320.25Z\" style=\"vector-effect: non-scaling-stroke; opacity: 1; stroke-width: 0.5px; fill: rgb(239, 85, 59); fill-opacity: 1; stroke: rgb(229, 236, 246); stroke-opacity: 1;\"/></g><g class=\"point\"><path d=\"M336,420V420H464V420Z\" style=\"vector-effect: non-scaling-stroke; opacity: 1; stroke-width: 0.5px; fill: rgb(239, 85, 59); fill-opacity: 1; stroke: rgb(229, 236, 246); stroke-opacity: 1;\"/></g><g class=\"point\"><path d=\"M496,353.5V287H624V353.5Z\" style=\"vector-effect: non-scaling-stroke; opacity: 1; stroke-width: 0.5px; fill: rgb(239, 85, 59); fill-opacity: 1; stroke: rgb(229, 236, 246); stroke-opacity: 1;\"/></g></g></g><g class=\"trace bars\" shape-rendering=\"crispEdges\" style=\"opacity: 1;\"><g class=\"points\"><g class=\"point\"><path d=\"M16,287V220.5H144V287Z\" style=\"vector-effect: non-scaling-stroke; opacity: 1; stroke-width: 0.5px; fill: rgb(0, 204, 150); fill-opacity: 1; stroke: rgb(229, 236, 246); stroke-opacity: 1;\"/></g><g class=\"point\"><path d=\"M176,154V21H304V154Z\" style=\"vector-effect: non-scaling-stroke; opacity: 1; stroke-width: 0.5px; fill: rgb(0, 204, 150); fill-opacity: 1; stroke: rgb(229, 236, 246); stroke-opacity: 1;\"/></g><g class=\"point\"><path d=\"M336,420V320.25H464V420Z\" style=\"vector-effect: non-scaling-stroke; opacity: 1; stroke-width: 0.5px; fill: rgb(0, 204, 150); fill-opacity: 1; stroke: rgb(229, 236, 246); stroke-opacity: 1;\"/></g><g class=\"point\"><path d=\"M496,287V287H624V287Z\" style=\"vector-effect: non-scaling-stroke; opacity: 1; stroke-width: 0.5px; fill: rgb(0, 204, 150); fill-opacity: 1; stroke: rgb(229, 236, 246); stroke-opacity: 1;\"/></g></g></g></g></g><g class=\"overplot\"/><path class=\"xlines-above crisp\" d=\"M0,0\" style=\"fill: none;\"/><path class=\"ylines-above crisp\" d=\"M0,0\" style=\"fill: none;\"/><g class=\"overlines-above\"/><g class=\"xaxislayer-above\"><g class=\"xtick\"><text text-anchor=\"middle\" x=\"0\" y=\"533\" transform=\"translate(80,0)\" style=\"font-family: 'Open Sans', verdana, arial, sans-serif; font-size: 12px; fill: rgb(42, 63, 95); fill-opacity: 1; white-space: pre; opacity: 1;\"><tspan class=\"line\" dy=\"0em\" x=\"0\" y=\"533\">12:00</tspan><tspan class=\"line\" dy=\"1.3em\" x=\"0\" y=\"533\">Oct 15, 2021</tspan></text></g><g class=\"xtick\"><text text-anchor=\"middle\" x=\"0\" y=\"533\" style=\"font-family: 'Open Sans', verdana, arial, sans-serif; font-size: 12px; fill: rgb(42, 63, 95); fill-opacity: 1; white-space: pre; opacity: 1;\" transform=\"translate(160,0)\"><tspan class=\"line\" dy=\"0em\" x=\"0\" y=\"533\">00:00</tspan><tspan class=\"line\" dy=\"1.3em\" x=\"0\" y=\"533\">Oct 16, 2021</tspan></text></g><g class=\"xtick\"><text text-anchor=\"middle\" x=\"0\" y=\"533\" style=\"font-family: 'Open Sans', verdana, arial, sans-serif; font-size: 12px; fill: rgb(42, 63, 95); fill-opacity: 1; white-space: pre; opacity: 1;\" transform=\"translate(240,0)\">12:00</text></g><g class=\"xtick\"><text text-anchor=\"middle\" x=\"0\" y=\"533\" style=\"font-family: 'Open Sans', verdana, arial, sans-serif; font-size: 12px; fill: rgb(42, 63, 95); fill-opacity: 1; white-space: pre; opacity: 1;\" transform=\"translate(320,0)\"><tspan class=\"line\" dy=\"0em\" x=\"0\" y=\"533\">00:00</tspan><tspan class=\"line\" dy=\"1.3em\" x=\"0\" y=\"533\">Oct 17, 2021</tspan></text></g><g class=\"xtick\"><text text-anchor=\"middle\" x=\"0\" y=\"533\" style=\"font-family: 'Open Sans', verdana, arial, sans-serif; font-size: 12px; fill: rgb(42, 63, 95); fill-opacity: 1; white-space: pre; opacity: 1;\" transform=\"translate(400,0)\">12:00</text></g><g class=\"xtick\"><text text-anchor=\"middle\" x=\"0\" y=\"533\" style=\"font-family: 'Open Sans', verdana, arial, sans-serif; font-size: 12px; fill: rgb(42, 63, 95); fill-opacity: 1; white-space: pre; opacity: 1;\" transform=\"translate(480,0)\"><tspan class=\"line\" dy=\"0em\" x=\"0\" y=\"533\">00:00</tspan><tspan class=\"line\" dy=\"1.3em\" x=\"0\" y=\"533\">Oct 18, 2021</tspan></text></g><g class=\"xtick\"><text text-anchor=\"middle\" x=\"0\" y=\"533\" style=\"font-family: 'Open Sans', verdana, arial, sans-serif; font-size: 12px; fill: rgb(42, 63, 95); fill-opacity: 1; white-space: pre; opacity: 1;\" transform=\"translate(560,0)\">12:00</text></g><g class=\"xtick\"><text text-anchor=\"middle\" x=\"0\" y=\"533\" style=\"font-family: 'Open Sans', verdana, arial, sans-serif; font-size: 12px; fill: rgb(42, 63, 95); fill-opacity: 1; white-space: pre; opacity: 1;\" transform=\"translate(640,0)\"><tspan class=\"line\" dy=\"0em\" x=\"0\" y=\"533\">00:00</tspan><tspan class=\"line\" dy=\"1.3em\" x=\"0\" y=\"533\">Oct 19, 2021</tspan></text></g><g class=\"xtick\"><text text-anchor=\"middle\" x=\"0\" y=\"533\" style=\"font-family: 'Open Sans', verdana, arial, sans-serif; font-size: 12px; fill: rgb(42, 63, 95); fill-opacity: 1; white-space: pre; opacity: 1;\" transform=\"translate(720,0)\">12:00</text></g></g><g class=\"yaxislayer-above\"><g class=\"ytick\"><text text-anchor=\"end\" x=\"79\" y=\"4.199999999999999\" transform=\"translate(0,520)\" style=\"font-family: 'Open Sans', verdana, arial, sans-serif; font-size: 12px; fill: rgb(42, 63, 95); fill-opacity: 1; white-space: pre; opacity: 1;\">0</text></g><g class=\"ytick\"><text text-anchor=\"end\" x=\"79\" y=\"4.199999999999999\" style=\"font-family: 'Open Sans', verdana, arial, sans-serif; font-size: 12px; fill: rgb(42, 63, 95); fill-opacity: 1; white-space: pre; opacity: 1;\" transform=\"translate(0,453.5)\">2</text></g><g class=\"ytick\"><text text-anchor=\"end\" x=\"79\" y=\"4.199999999999999\" style=\"font-family: 'Open Sans', verdana, arial, sans-serif; font-size: 12px; fill: rgb(42, 63, 95); fill-opacity: 1; white-space: pre; opacity: 1;\" transform=\"translate(0,387)\">4</text></g><g class=\"ytick\"><text text-anchor=\"end\" x=\"79\" y=\"4.199999999999999\" style=\"font-family: 'Open Sans', verdana, arial, sans-serif; font-size: 12px; fill: rgb(42, 63, 95); fill-opacity: 1; white-space: pre; opacity: 1;\" transform=\"translate(0,320.5)\">6</text></g><g class=\"ytick\"><text text-anchor=\"end\" x=\"79\" y=\"4.199999999999999\" style=\"font-family: 'Open Sans', verdana, arial, sans-serif; font-size: 12px; fill: rgb(42, 63, 95); fill-opacity: 1; white-space: pre; opacity: 1;\" transform=\"translate(0,254)\">8</text></g><g class=\"ytick\"><text text-anchor=\"end\" x=\"79\" y=\"4.199999999999999\" style=\"font-family: 'Open Sans', verdana, arial, sans-serif; font-size: 12px; fill: rgb(42, 63, 95); fill-opacity: 1; white-space: pre; opacity: 1;\" transform=\"translate(0,187.5)\">10</text></g><g class=\"ytick\"><text text-anchor=\"end\" x=\"79\" y=\"4.199999999999999\" style=\"font-family: 'Open Sans', verdana, arial, sans-serif; font-size: 12px; fill: rgb(42, 63, 95); fill-opacity: 1; white-space: pre; opacity: 1;\" transform=\"translate(0,121)\">12</text></g></g><g class=\"overaxes-above\"/></g></g><g class=\"polarlayer\"/><g class=\"smithlayer\"/><g class=\"ternarylayer\"/><g class=\"geolayer\"/><g class=\"funnelarealayer\"/><g class=\"pielayer\"/><g class=\"iciclelayer\"/><g class=\"treemaplayer\"/><g class=\"sunburstlayer\"/><g class=\"glimages\"/><defs id=\"topdefs-da2be4\"><g class=\"clips\"/><clipPath id=\"legendda2be4\"><rect width=\"54\" height=\"67\" x=\"0\" y=\"0\"/></clipPath></defs><g class=\"layer-above\"><g class=\"imagelayer\"/><g class=\"shapelayer\"/></g><g class=\"infolayer\"><g class=\"legend\" pointer-events=\"all\" transform=\"translate(732.8,100)\"><rect class=\"bg\" shape-rendering=\"crispEdges\" width=\"54\" height=\"67\" x=\"0\" y=\"0\" style=\"stroke: rgb(68, 68, 68); stroke-opacity: 1; fill: rgb(255, 255, 255); fill-opacity: 1; stroke-width: 0px;\"/><g class=\"scrollbox\" transform=\"\" clip-path=\"url(#legendda2be4)\"><g class=\"groups\"><g class=\"traces\" transform=\"translate(0,14.5)\" style=\"opacity: 1;\"><text class=\"legendtext\" text-anchor=\"start\" x=\"40\" y=\"4.680000000000001\" style=\"font-family: 'Open Sans', verdana, arial, sans-serif; font-size: 12px; fill: rgb(42, 63, 95); fill-opacity: 1; white-space: pre;\">C</text><g class=\"layers\" style=\"opacity: 1;\"><g class=\"legendfill\"/><g class=\"legendlines\"/><g class=\"legendsymbols\"><g class=\"legendpoints\"><path class=\"legendundefined\" d=\"M6,6H-6V-6H6Z\" transform=\"translate(20,0)\" style=\"stroke-width: 0.5px; fill: rgb(0, 204, 150); fill-opacity: 1; stroke: rgb(229, 236, 246); stroke-opacity: 1;\"/></g></g></g><rect class=\"legendtoggle\" x=\"0\" y=\"-9.5\" width=\"49\" height=\"19\" style=\"fill: rgb(0, 0, 0); fill-opacity: 0;\"/></g><g class=\"traces\" transform=\"translate(0,33.5)\" style=\"opacity: 1;\"><text class=\"legendtext\" text-anchor=\"start\" x=\"40\" y=\"4.680000000000001\" style=\"font-family: 'Open Sans', verdana, arial, sans-serif; font-size: 12px; fill: rgb(42, 63, 95); fill-opacity: 1; white-space: pre;\">B</text><g class=\"layers\" style=\"opacity: 1;\"><g class=\"legendfill\"/><g class=\"legendlines\"/><g class=\"legendsymbols\"><g class=\"legendpoints\"><path class=\"legendundefined\" d=\"M6,6H-6V-6H6Z\" transform=\"translate(20,0)\" style=\"stroke-width: 0.5px; fill: rgb(239, 85, 59); fill-opacity: 1; stroke: rgb(229, 236, 246); stroke-opacity: 1;\"/></g></g></g><rect class=\"legendtoggle\" x=\"0\" y=\"-9.5\" width=\"49\" height=\"19\" style=\"fill: rgb(0, 0, 0); fill-opacity: 0;\"/></g><g class=\"traces\" transform=\"translate(0,52.5)\" style=\"opacity: 1;\"><text class=\"legendtext\" text-anchor=\"start\" x=\"40\" y=\"4.680000000000001\" style=\"font-family: 'Open Sans', verdana, arial, sans-serif; font-size: 12px; fill: rgb(42, 63, 95); fill-opacity: 1; white-space: pre;\">A</text><g class=\"layers\" style=\"opacity: 1;\"><g class=\"legendfill\"/><g class=\"legendlines\"/><g class=\"legendsymbols\"><g class=\"legendpoints\"><path class=\"legendundefined\" d=\"M6,6H-6V-6H6Z\" transform=\"translate(20,0)\" style=\"stroke-width: 0.5px; fill: rgb(99, 110, 250); fill-opacity: 1; stroke: rgb(229, 236, 246); stroke-opacity: 1;\"/></g></g></g><rect class=\"legendtoggle\" x=\"0\" y=\"-9.5\" width=\"49\" height=\"19\" style=\"fill: rgb(0, 0, 0); fill-opacity: 0;\"/></g></g></g><rect class=\"scrollbar\" rx=\"20\" ry=\"3\" width=\"0\" height=\"0\" x=\"0\" y=\"0\" style=\"fill: rgb(128, 139, 164); fill-opacity: 1;\"/></g><g class=\"g-gtitle\"><text class=\"gtitle\" x=\"40\" y=\"50\" text-anchor=\"start\" dy=\"0em\" style=\"font-family: 'Open Sans', verdana, arial, sans-serif; font-size: 17px; fill: rgb(42, 63, 95); opacity: 1; font-weight: normal; white-space: pre;\">Динамика значений</text></g><g class=\"g-xtitle\"><text class=\"xtitle\" x=\"400\" y=\"576.409375\" text-anchor=\"middle\" style=\"font-family: 'Open Sans', verdana, arial, sans-serif; font-size: 14px; fill: rgb(42, 63, 95); opacity: 1; font-weight: normal; white-space: pre;\">Дата</text></g><g class=\"g-ytitle\"><text class=\"ytitle\" transform=\"rotate(-90,40.840625,310)\" x=\"40.840625\" y=\"310\" text-anchor=\"middle\" style=\"font-family: 'Open Sans', verdana, arial, sans-serif; font-size: 14px; fill: rgb(42, 63, 95); opacity: 1; font-weight: normal; white-space: pre;\">Количество значений</text></g></g></svg>"
      ]
     },
     "metadata": {},
     "output_type": "display_data"
    }
   ],
   "source": [
    "x_col = 'date'\n",
    "y_col = 'val_id'\n",
    "group_col = 'group'\n",
    "\n",
    "df = data.pivot_table(index=x_col, columns=group_col, values=y_col, aggfunc='nunique').fillna(0).reset_index()\n",
    "print(df.to_markdown())\n",
    "\n",
    "width = 1000\n",
    "height = 600\n",
    "title = 'Динамика значений'\n",
    "xaxis_title = \"Дата\"\n",
    "yaxis_title = 'Количество значений'\n",
    "\n",
    "fig = go.Figure(data=[\n",
    "    go.Bar(name=group, x=df[x_col], y=df[group])\n",
    "    \n",
    "    for group in data[group_col].unique()\n",
    "])\n",
    "\n",
    "fig.update_layout(\n",
    "    title = title,\n",
    "    xaxis_title=xaxis_title,\n",
    "    yaxis_title=yaxis_title,\n",
    "    width=800,\n",
    "    height=600,\n",
    "    barmode='stack',\n",
    ")\n",
    "\n",
    "fig.show(renderer=\"svg\")\n",
    "# fig.show(\"notebook\")"
   ]
  },
  {
   "cell_type": "markdown",
   "metadata": {},
   "source": [
    "### Диаграмма с текстами"
   ]
  },
  {
   "cell_type": "code",
   "execution_count": 56,
   "metadata": {},
   "outputs": [
    {
     "name": "stdout",
     "output_type": "stream",
     "text": [
      "|    | date       |   A |   B |   C |   Sum | A%   | B%   | C%   |\n",
      "|---:|:-----------|----:|----:|----:|------:|:-----|:-----|:-----|\n",
      "|  0 | 2021-10-16 |   2 |   2 |   2 |     6 | 33%  | 33%  | 33%  |\n",
      "|  1 | 2021-10-17 |   3 |   5 |   4 |    12 | 25%  | 42%  | 33%  |\n",
      "|  2 | 2021-10-18 |   0 |   0 |   3 |     3 | 0%   | 0%   | 100% |\n",
      "|  3 | 2021-10-19 |   2 |   2 |   0 |     4 | 50%  | 50%  | 0%   |\n"
     ]
    },
    {
     "data": {
      "image/svg+xml": [
       "<svg class=\"main-svg\" xmlns=\"http://www.w3.org/2000/svg\" xmlns:xlink=\"http://www.w3.org/1999/xlink\" width=\"800\" height=\"600\" style=\"\" viewBox=\"0 0 800 600\"><rect x=\"0\" y=\"0\" width=\"800\" height=\"600\" style=\"fill: rgb(255, 255, 255); fill-opacity: 1;\"/><defs id=\"defs-8cd0f0\"><g class=\"clips\"><clipPath id=\"clip8cd0f0xyplot\" class=\"plotclip\"><rect width=\"640\" height=\"420\"/></clipPath><clipPath class=\"axesclip\" id=\"clip8cd0f0x\"><rect x=\"80\" y=\"0\" width=\"640\" height=\"600\"/></clipPath><clipPath class=\"axesclip\" id=\"clip8cd0f0y\"><rect x=\"0\" y=\"100\" width=\"800\" height=\"420\"/></clipPath><clipPath class=\"axesclip\" id=\"clip8cd0f0xy\"><rect x=\"80\" y=\"100\" width=\"640\" height=\"420\"/></clipPath></g><g class=\"gradients\"/><g class=\"patterns\"/></defs><g class=\"bglayer\"><rect class=\"bg\" x=\"80\" y=\"100\" width=\"640\" height=\"420\" style=\"fill: rgb(229, 236, 246); fill-opacity: 1; stroke-width: 0;\"/></g><g class=\"layer-below\"><g class=\"imagelayer\"/><g class=\"shapelayer\"/></g><g class=\"cartesianlayer\"><g class=\"subplot xy\"><g class=\"layer-subplot\"><g class=\"shapelayer\"/><g class=\"imagelayer\"/></g><g class=\"gridlayer\"><g class=\"x\"/><g class=\"y\"><path class=\"ygrid crisp\" transform=\"translate(0,453.5)\" d=\"M80,0h640\" style=\"stroke: rgb(255, 255, 255); stroke-opacity: 1; stroke-width: 1px;\"/><path class=\"ygrid crisp\" transform=\"translate(0,387)\" d=\"M80,0h640\" style=\"stroke: rgb(255, 255, 255); stroke-opacity: 1; stroke-width: 1px;\"/><path class=\"ygrid crisp\" transform=\"translate(0,320.5)\" d=\"M80,0h640\" style=\"stroke: rgb(255, 255, 255); stroke-opacity: 1; stroke-width: 1px;\"/><path class=\"ygrid crisp\" transform=\"translate(0,254)\" d=\"M80,0h640\" style=\"stroke: rgb(255, 255, 255); stroke-opacity: 1; stroke-width: 1px;\"/><path class=\"ygrid crisp\" transform=\"translate(0,187.5)\" d=\"M80,0h640\" style=\"stroke: rgb(255, 255, 255); stroke-opacity: 1; stroke-width: 1px;\"/><path class=\"ygrid crisp\" transform=\"translate(0,121)\" d=\"M80,0h640\" style=\"stroke: rgb(255, 255, 255); stroke-opacity: 1; stroke-width: 1px;\"/></g></g><g class=\"zerolinelayer\"><path class=\"yzl zl crisp\" transform=\"translate(0,520)\" d=\"M80,0h640\" style=\"stroke: rgb(255, 255, 255); stroke-opacity: 1; stroke-width: 2px;\"/></g><path class=\"xlines-below\"/><path class=\"ylines-below\"/><g class=\"overlines-below\"/><g class=\"xaxislayer-below\"/><g class=\"yaxislayer-below\"/><g class=\"overaxes-below\"/><g class=\"plot\" transform=\"translate(80,100)\" clip-path=\"url(#clip8cd0f0xyplot)\"><g class=\"barlayer mlayer\"><g class=\"trace bars\" shape-rendering=\"crispEdges\" style=\"opacity: 1;\"><g class=\"points\"><g class=\"point\"><path d=\"M16,420V353.5H144V420Z\" style=\"vector-effect: non-scaling-stroke; opacity: 1; stroke-width: 0.5px; fill: rgb(99, 110, 250); fill-opacity: 1; stroke: rgb(229, 236, 246); stroke-opacity: 1;\"/><text class=\"bartext bartext-inside\" text-anchor=\"middle\" data-notex=\"1\" x=\"0\" y=\"0\" style=\"font-family: 'Open Sans', verdana, arial, sans-serif; font-size: 12px; fill: rgb(255, 255, 255); fill-opacity: 1; white-space: pre;\" transform=\"translate(79.8359375,367.5)\">33%</text></g><g class=\"point\"><path d=\"M176,420V320.25H304V420Z\" style=\"vector-effect: non-scaling-stroke; opacity: 1; stroke-width: 0.5px; fill: rgb(99, 110, 250); fill-opacity: 1; stroke: rgb(229, 236, 246); stroke-opacity: 1;\"/><text class=\"bartext bartext-inside\" text-anchor=\"middle\" data-notex=\"1\" x=\"0\" y=\"0\" style=\"font-family: 'Open Sans', verdana, arial, sans-serif; font-size: 12px; fill: rgb(255, 255, 255); fill-opacity: 1; white-space: pre;\" transform=\"translate(239.8359375,334.25)\">25%</text></g><g class=\"point\"><path d=\"M336,420V420H464V420Z\" style=\"vector-effect: non-scaling-stroke; opacity: 1; stroke-width: 0.5px; fill: rgb(99, 110, 250); fill-opacity: 1; stroke: rgb(229, 236, 246); stroke-opacity: 1;\"/></g><g class=\"point\"><path d=\"M496,420V353.5H624V420Z\" style=\"vector-effect: non-scaling-stroke; opacity: 1; stroke-width: 0.5px; fill: rgb(99, 110, 250); fill-opacity: 1; stroke: rgb(229, 236, 246); stroke-opacity: 1;\"/><text class=\"bartext bartext-inside\" text-anchor=\"middle\" data-notex=\"1\" x=\"0\" y=\"0\" style=\"font-family: 'Open Sans', verdana, arial, sans-serif; font-size: 12px; fill: rgb(255, 255, 255); fill-opacity: 1; white-space: pre;\" transform=\"translate(559.8359375,367.5)\">50%</text></g></g></g><g class=\"trace bars\" shape-rendering=\"crispEdges\" style=\"opacity: 1;\"><g class=\"points\"><g class=\"point\"><path d=\"M16,353.5V287H144V353.5Z\" style=\"vector-effect: non-scaling-stroke; opacity: 1; stroke-width: 0.5px; fill: rgb(239, 85, 59); fill-opacity: 1; stroke: rgb(229, 236, 246); stroke-opacity: 1;\"/><text class=\"bartext bartext-inside\" text-anchor=\"middle\" data-notex=\"1\" x=\"0\" y=\"0\" style=\"font-family: 'Open Sans', verdana, arial, sans-serif; font-size: 12px; fill: rgb(68, 68, 68); fill-opacity: 1; white-space: pre;\" transform=\"translate(79.8359375,301)\">33%</text></g><g class=\"point\"><path d=\"M176,320.25V154H304V320.25Z\" style=\"vector-effect: non-scaling-stroke; opacity: 1; stroke-width: 0.5px; fill: rgb(239, 85, 59); fill-opacity: 1; stroke: rgb(229, 236, 246); stroke-opacity: 1;\"/><text class=\"bartext bartext-inside\" text-anchor=\"middle\" data-notex=\"1\" x=\"0\" y=\"0\" style=\"font-family: 'Open Sans', verdana, arial, sans-serif; font-size: 12px; fill: rgb(68, 68, 68); fill-opacity: 1; white-space: pre;\" transform=\"translate(239.8359375,168)\">42%</text></g><g class=\"point\"><path d=\"M336,420V420H464V420Z\" style=\"vector-effect: non-scaling-stroke; opacity: 1; stroke-width: 0.5px; fill: rgb(239, 85, 59); fill-opacity: 1; stroke: rgb(229, 236, 246); stroke-opacity: 1;\"/></g><g class=\"point\"><path d=\"M496,353.5V287H624V353.5Z\" style=\"vector-effect: non-scaling-stroke; opacity: 1; stroke-width: 0.5px; fill: rgb(239, 85, 59); fill-opacity: 1; stroke: rgb(229, 236, 246); stroke-opacity: 1;\"/><text class=\"bartext bartext-inside\" text-anchor=\"middle\" data-notex=\"1\" x=\"0\" y=\"0\" style=\"font-family: 'Open Sans', verdana, arial, sans-serif; font-size: 12px; fill: rgb(68, 68, 68); fill-opacity: 1; white-space: pre;\" transform=\"translate(559.8359375,301)\">50%</text></g></g></g><g class=\"trace bars\" shape-rendering=\"crispEdges\" style=\"opacity: 1;\"><g class=\"points\"><g class=\"point\"><path d=\"M16,287V220.5H144V287Z\" style=\"vector-effect: non-scaling-stroke; opacity: 1; stroke-width: 0.5px; fill: rgb(0, 204, 150); fill-opacity: 1; stroke: rgb(229, 236, 246); stroke-opacity: 1;\"/><text class=\"bartext bartext-inside\" text-anchor=\"middle\" data-notex=\"1\" x=\"0\" y=\"0\" style=\"font-family: 'Open Sans', verdana, arial, sans-serif; font-size: 12px; fill: rgb(68, 68, 68); fill-opacity: 1; white-space: pre;\" transform=\"translate(79.8359375,234.5)\">33%</text></g><g class=\"point\"><path d=\"M176,154V21H304V154Z\" style=\"vector-effect: non-scaling-stroke; opacity: 1; stroke-width: 0.5px; fill: rgb(0, 204, 150); fill-opacity: 1; stroke: rgb(229, 236, 246); stroke-opacity: 1;\"/><text class=\"bartext bartext-inside\" text-anchor=\"middle\" data-notex=\"1\" x=\"0\" y=\"0\" style=\"font-family: 'Open Sans', verdana, arial, sans-serif; font-size: 12px; fill: rgb(68, 68, 68); fill-opacity: 1; white-space: pre;\" transform=\"translate(239.8359375,35)\">33%</text></g><g class=\"point\"><path d=\"M336,420V320.25H464V420Z\" style=\"vector-effect: non-scaling-stroke; opacity: 1; stroke-width: 0.5px; fill: rgb(0, 204, 150); fill-opacity: 1; stroke: rgb(229, 236, 246); stroke-opacity: 1;\"/><text class=\"bartext bartext-inside\" text-anchor=\"middle\" data-notex=\"1\" x=\"0\" y=\"0\" style=\"font-family: 'Open Sans', verdana, arial, sans-serif; font-size: 12px; fill: rgb(68, 68, 68); fill-opacity: 1; white-space: pre;\" transform=\"translate(399.8359375,334.25)\">100%</text></g><g class=\"point\"><path d=\"M496,287V287H624V287Z\" style=\"vector-effect: non-scaling-stroke; opacity: 1; stroke-width: 0.5px; fill: rgb(0, 204, 150); fill-opacity: 1; stroke: rgb(229, 236, 246); stroke-opacity: 1;\"/></g></g></g></g></g><g class=\"overplot\"/><path class=\"xlines-above crisp\" d=\"M0,0\" style=\"fill: none;\"/><path class=\"ylines-above crisp\" d=\"M0,0\" style=\"fill: none;\"/><g class=\"overlines-above\"/><g class=\"xaxislayer-above\"><g class=\"xtick\"><text text-anchor=\"middle\" x=\"0\" y=\"533\" transform=\"translate(80,0)\" style=\"font-family: 'Open Sans', verdana, arial, sans-serif; font-size: 12px; fill: rgb(42, 63, 95); fill-opacity: 1; white-space: pre; opacity: 1;\"><tspan class=\"line\" dy=\"0em\" x=\"0\" y=\"533\">12:00</tspan><tspan class=\"line\" dy=\"1.3em\" x=\"0\" y=\"533\">Oct 15, 2021</tspan></text></g><g class=\"xtick\"><text text-anchor=\"middle\" x=\"0\" y=\"533\" style=\"font-family: 'Open Sans', verdana, arial, sans-serif; font-size: 12px; fill: rgb(42, 63, 95); fill-opacity: 1; white-space: pre; opacity: 1;\" transform=\"translate(160,0)\"><tspan class=\"line\" dy=\"0em\" x=\"0\" y=\"533\">00:00</tspan><tspan class=\"line\" dy=\"1.3em\" x=\"0\" y=\"533\">Oct 16, 2021</tspan></text></g><g class=\"xtick\"><text text-anchor=\"middle\" x=\"0\" y=\"533\" style=\"font-family: 'Open Sans', verdana, arial, sans-serif; font-size: 12px; fill: rgb(42, 63, 95); fill-opacity: 1; white-space: pre; opacity: 1;\" transform=\"translate(240,0)\">12:00</text></g><g class=\"xtick\"><text text-anchor=\"middle\" x=\"0\" y=\"533\" style=\"font-family: 'Open Sans', verdana, arial, sans-serif; font-size: 12px; fill: rgb(42, 63, 95); fill-opacity: 1; white-space: pre; opacity: 1;\" transform=\"translate(320,0)\"><tspan class=\"line\" dy=\"0em\" x=\"0\" y=\"533\">00:00</tspan><tspan class=\"line\" dy=\"1.3em\" x=\"0\" y=\"533\">Oct 17, 2021</tspan></text></g><g class=\"xtick\"><text text-anchor=\"middle\" x=\"0\" y=\"533\" style=\"font-family: 'Open Sans', verdana, arial, sans-serif; font-size: 12px; fill: rgb(42, 63, 95); fill-opacity: 1; white-space: pre; opacity: 1;\" transform=\"translate(400,0)\">12:00</text></g><g class=\"xtick\"><text text-anchor=\"middle\" x=\"0\" y=\"533\" style=\"font-family: 'Open Sans', verdana, arial, sans-serif; font-size: 12px; fill: rgb(42, 63, 95); fill-opacity: 1; white-space: pre; opacity: 1;\" transform=\"translate(480,0)\"><tspan class=\"line\" dy=\"0em\" x=\"0\" y=\"533\">00:00</tspan><tspan class=\"line\" dy=\"1.3em\" x=\"0\" y=\"533\">Oct 18, 2021</tspan></text></g><g class=\"xtick\"><text text-anchor=\"middle\" x=\"0\" y=\"533\" style=\"font-family: 'Open Sans', verdana, arial, sans-serif; font-size: 12px; fill: rgb(42, 63, 95); fill-opacity: 1; white-space: pre; opacity: 1;\" transform=\"translate(560,0)\">12:00</text></g><g class=\"xtick\"><text text-anchor=\"middle\" x=\"0\" y=\"533\" style=\"font-family: 'Open Sans', verdana, arial, sans-serif; font-size: 12px; fill: rgb(42, 63, 95); fill-opacity: 1; white-space: pre; opacity: 1;\" transform=\"translate(640,0)\"><tspan class=\"line\" dy=\"0em\" x=\"0\" y=\"533\">00:00</tspan><tspan class=\"line\" dy=\"1.3em\" x=\"0\" y=\"533\">Oct 19, 2021</tspan></text></g><g class=\"xtick\"><text text-anchor=\"middle\" x=\"0\" y=\"533\" style=\"font-family: 'Open Sans', verdana, arial, sans-serif; font-size: 12px; fill: rgb(42, 63, 95); fill-opacity: 1; white-space: pre; opacity: 1;\" transform=\"translate(720,0)\">12:00</text></g></g><g class=\"yaxislayer-above\"><g class=\"ytick\"><text text-anchor=\"end\" x=\"79\" y=\"4.199999999999999\" transform=\"translate(0,520)\" style=\"font-family: 'Open Sans', verdana, arial, sans-serif; font-size: 12px; fill: rgb(42, 63, 95); fill-opacity: 1; white-space: pre; opacity: 1;\">0</text></g><g class=\"ytick\"><text text-anchor=\"end\" x=\"79\" y=\"4.199999999999999\" style=\"font-family: 'Open Sans', verdana, arial, sans-serif; font-size: 12px; fill: rgb(42, 63, 95); fill-opacity: 1; white-space: pre; opacity: 1;\" transform=\"translate(0,453.5)\">2</text></g><g class=\"ytick\"><text text-anchor=\"end\" x=\"79\" y=\"4.199999999999999\" style=\"font-family: 'Open Sans', verdana, arial, sans-serif; font-size: 12px; fill: rgb(42, 63, 95); fill-opacity: 1; white-space: pre; opacity: 1;\" transform=\"translate(0,387)\">4</text></g><g class=\"ytick\"><text text-anchor=\"end\" x=\"79\" y=\"4.199999999999999\" style=\"font-family: 'Open Sans', verdana, arial, sans-serif; font-size: 12px; fill: rgb(42, 63, 95); fill-opacity: 1; white-space: pre; opacity: 1;\" transform=\"translate(0,320.5)\">6</text></g><g class=\"ytick\"><text text-anchor=\"end\" x=\"79\" y=\"4.199999999999999\" style=\"font-family: 'Open Sans', verdana, arial, sans-serif; font-size: 12px; fill: rgb(42, 63, 95); fill-opacity: 1; white-space: pre; opacity: 1;\" transform=\"translate(0,254)\">8</text></g><g class=\"ytick\"><text text-anchor=\"end\" x=\"79\" y=\"4.199999999999999\" style=\"font-family: 'Open Sans', verdana, arial, sans-serif; font-size: 12px; fill: rgb(42, 63, 95); fill-opacity: 1; white-space: pre; opacity: 1;\" transform=\"translate(0,187.5)\">10</text></g><g class=\"ytick\"><text text-anchor=\"end\" x=\"79\" y=\"4.199999999999999\" style=\"font-family: 'Open Sans', verdana, arial, sans-serif; font-size: 12px; fill: rgb(42, 63, 95); fill-opacity: 1; white-space: pre; opacity: 1;\" transform=\"translate(0,121)\">12</text></g></g><g class=\"overaxes-above\"/></g></g><g class=\"polarlayer\"/><g class=\"smithlayer\"/><g class=\"ternarylayer\"/><g class=\"geolayer\"/><g class=\"funnelarealayer\"/><g class=\"pielayer\"/><g class=\"iciclelayer\"/><g class=\"treemaplayer\"/><g class=\"sunburstlayer\"/><g class=\"glimages\"/><defs id=\"topdefs-8cd0f0\"><g class=\"clips\"/><clipPath id=\"legend8cd0f0\"><rect width=\"54\" height=\"67\" x=\"0\" y=\"0\"/></clipPath></defs><g class=\"layer-above\"><g class=\"imagelayer\"/><g class=\"shapelayer\"/></g><g class=\"infolayer\"><g class=\"legend\" pointer-events=\"all\" transform=\"translate(732.8,100)\"><rect class=\"bg\" shape-rendering=\"crispEdges\" width=\"54\" height=\"67\" x=\"0\" y=\"0\" style=\"stroke: rgb(68, 68, 68); stroke-opacity: 1; fill: rgb(255, 255, 255); fill-opacity: 1; stroke-width: 0px;\"/><g class=\"scrollbox\" transform=\"\" clip-path=\"url(#legend8cd0f0)\"><g class=\"groups\"><g class=\"traces\" transform=\"translate(0,14.5)\" style=\"opacity: 1;\"><text class=\"legendtext\" text-anchor=\"start\" x=\"40\" y=\"4.680000000000001\" style=\"font-family: 'Open Sans', verdana, arial, sans-serif; font-size: 12px; fill: rgb(42, 63, 95); fill-opacity: 1; white-space: pre;\">C</text><g class=\"layers\" style=\"opacity: 1;\"><g class=\"legendfill\"/><g class=\"legendlines\"/><g class=\"legendsymbols\"><g class=\"legendpoints\"><path class=\"legendundefined\" d=\"M6,6H-6V-6H6Z\" transform=\"translate(20,0)\" style=\"stroke-width: 0.5px; fill: rgb(0, 204, 150); fill-opacity: 1; stroke: rgb(229, 236, 246); stroke-opacity: 1;\"/></g></g></g><rect class=\"legendtoggle\" x=\"0\" y=\"-9.5\" width=\"49\" height=\"19\" style=\"fill: rgb(0, 0, 0); fill-opacity: 0;\"/></g><g class=\"traces\" transform=\"translate(0,33.5)\" style=\"opacity: 1;\"><text class=\"legendtext\" text-anchor=\"start\" x=\"40\" y=\"4.680000000000001\" style=\"font-family: 'Open Sans', verdana, arial, sans-serif; font-size: 12px; fill: rgb(42, 63, 95); fill-opacity: 1; white-space: pre;\">B</text><g class=\"layers\" style=\"opacity: 1;\"><g class=\"legendfill\"/><g class=\"legendlines\"/><g class=\"legendsymbols\"><g class=\"legendpoints\"><path class=\"legendundefined\" d=\"M6,6H-6V-6H6Z\" transform=\"translate(20,0)\" style=\"stroke-width: 0.5px; fill: rgb(239, 85, 59); fill-opacity: 1; stroke: rgb(229, 236, 246); stroke-opacity: 1;\"/></g></g></g><rect class=\"legendtoggle\" x=\"0\" y=\"-9.5\" width=\"49\" height=\"19\" style=\"fill: rgb(0, 0, 0); fill-opacity: 0;\"/></g><g class=\"traces\" transform=\"translate(0,52.5)\" style=\"opacity: 1;\"><text class=\"legendtext\" text-anchor=\"start\" x=\"40\" y=\"4.680000000000001\" style=\"font-family: 'Open Sans', verdana, arial, sans-serif; font-size: 12px; fill: rgb(42, 63, 95); fill-opacity: 1; white-space: pre;\">A</text><g class=\"layers\" style=\"opacity: 1;\"><g class=\"legendfill\"/><g class=\"legendlines\"/><g class=\"legendsymbols\"><g class=\"legendpoints\"><path class=\"legendundefined\" d=\"M6,6H-6V-6H6Z\" transform=\"translate(20,0)\" style=\"stroke-width: 0.5px; fill: rgb(99, 110, 250); fill-opacity: 1; stroke: rgb(229, 236, 246); stroke-opacity: 1;\"/></g></g></g><rect class=\"legendtoggle\" x=\"0\" y=\"-9.5\" width=\"49\" height=\"19\" style=\"fill: rgb(0, 0, 0); fill-opacity: 0;\"/></g></g></g><rect class=\"scrollbar\" rx=\"20\" ry=\"3\" width=\"0\" height=\"0\" x=\"0\" y=\"0\" style=\"fill: rgb(128, 139, 164); fill-opacity: 1;\"/></g><g class=\"g-gtitle\"><text class=\"gtitle\" x=\"40\" y=\"50\" text-anchor=\"start\" dy=\"0em\" style=\"font-family: 'Open Sans', verdana, arial, sans-serif; font-size: 17px; fill: rgb(42, 63, 95); opacity: 1; font-weight: normal; white-space: pre;\">Динамика значений</text></g><g class=\"g-xtitle\"><text class=\"xtitle\" x=\"400\" y=\"576.409375\" text-anchor=\"middle\" style=\"font-family: 'Open Sans', verdana, arial, sans-serif; font-size: 14px; fill: rgb(42, 63, 95); opacity: 1; font-weight: normal; white-space: pre;\">Дата</text></g><g class=\"g-ytitle\"><text class=\"ytitle\" transform=\"rotate(-90,40.840625,310)\" x=\"40.840625\" y=\"310\" text-anchor=\"middle\" style=\"font-family: 'Open Sans', verdana, arial, sans-serif; font-size: 14px; fill: rgb(42, 63, 95); opacity: 1; font-weight: normal; white-space: pre;\">Количество значений</text></g></g></svg>"
      ]
     },
     "metadata": {},
     "output_type": "display_data"
    }
   ],
   "source": [
    "x_col = 'date'\n",
    "y_col = 'val_id'\n",
    "group_col = 'group'\n",
    "\n",
    "df = data.pivot_table(index=x_col, columns=group_col, values=y_col, aggfunc='nunique').fillna(0).reset_index()\n",
    "\n",
    "# Посчитаем проценты для каждой группы\n",
    "groups = data[group_col].unique().tolist()\n",
    "df['Sum'] = df[groups].sum(axis=1)\n",
    "for group in data[group_col].unique():\n",
    "    df[f\"{group}%\"] = df.apply(lambda row: f\"{int(np.round(row[group]*100/row['Sum']))}%\", axis=1)\n",
    "\n",
    "\n",
    "print(df.to_markdown())\n",
    "\n",
    "width = 1000\n",
    "height = 600\n",
    "title = 'Динамика значений'\n",
    "xaxis_title = \"Дата\"\n",
    "yaxis_title = 'Количество значений'\n",
    "\n",
    "\n",
    "fig = go.Figure(data=[\n",
    "    go.Bar(\n",
    "        name=group, \n",
    "        x=df[x_col], y=df[group], \n",
    "        text=df[f'{group}%'],  textposition = 'inside'\n",
    "    )\n",
    "    \n",
    "    for group in data[group_col].unique()\n",
    "])\n",
    "\n",
    "fig.update_layout(\n",
    "    title = title,\n",
    "    xaxis_title=xaxis_title,\n",
    "    yaxis_title=yaxis_title,\n",
    "    width=800,\n",
    "    height=600,\n",
    "    barmode='stack',\n",
    ")\n",
    "\n",
    "fig.show(renderer=\"svg\")\n",
    "# fig.show(\"notebook\")"
   ]
  },
  {
   "cell_type": "markdown",
   "metadata": {},
   "source": [
    "### Горизонтальная диограмма"
   ]
  },
  {
   "cell_type": "code",
   "execution_count": 57,
   "metadata": {},
   "outputs": [
    {
     "name": "stdout",
     "output_type": "stream",
     "text": [
      "|    | date       |   A |   B |   C | A%   | B%   | C%   |\n",
      "|---:|:-----------|----:|----:|----:|:-----|:-----|:-----|\n",
      "|  0 | 2021-10-16 |   2 |   2 |   2 | 33%  | 33%  | 33%  |\n",
      "|  1 | 2021-10-17 |   3 |   5 |   4 | 25%  | 42%  | 33%  |\n",
      "|  2 | 2021-10-18 |   0 |   0 |   3 | 0%   | 0%   | 100% |\n",
      "|  3 | 2021-10-19 |   2 |   2 |   0 | 50%  | 50%  | 0%   |\n"
     ]
    },
    {
     "data": {
      "image/svg+xml": [
       "<svg class=\"main-svg\" xmlns=\"http://www.w3.org/2000/svg\" xmlns:xlink=\"http://www.w3.org/1999/xlink\" width=\"1000\" height=\"600\" style=\"\" viewBox=\"0 0 1000 600\"><rect x=\"0\" y=\"0\" width=\"1000\" height=\"600\" style=\"fill: rgb(255, 255, 255); fill-opacity: 1;\"/><defs id=\"defs-992331\"><g class=\"clips\"><clipPath id=\"clip992331xyplot\" class=\"plotclip\"><rect width=\"811\" height=\"420\"/></clipPath><clipPath class=\"axesclip\" id=\"clip992331x\"><rect x=\"107\" y=\"0\" width=\"811\" height=\"600\"/></clipPath><clipPath class=\"axesclip\" id=\"clip992331y\"><rect x=\"0\" y=\"100\" width=\"1000\" height=\"420\"/></clipPath><clipPath class=\"axesclip\" id=\"clip992331xy\"><rect x=\"107\" y=\"100\" width=\"811\" height=\"420\"/></clipPath></g><g class=\"gradients\"/><g class=\"patterns\"/></defs><g class=\"bglayer\"><rect class=\"bg\" x=\"107\" y=\"100\" width=\"811\" height=\"420\" style=\"fill: rgb(229, 236, 246); fill-opacity: 1; stroke-width: 0;\"/></g><g class=\"layer-below\"><g class=\"imagelayer\"/><g class=\"shapelayer\"/></g><g class=\"cartesianlayer\"><g class=\"subplot xy\"><g class=\"layer-subplot\"><g class=\"shapelayer\"/><g class=\"imagelayer\"/></g><g class=\"gridlayer\"><g class=\"x\"><path class=\"xgrid crisp\" transform=\"translate(235.41,0)\" d=\"M0,100v420\" style=\"stroke: rgb(255, 255, 255); stroke-opacity: 1; stroke-width: 1px;\"/><path class=\"xgrid crisp\" transform=\"translate(363.82,0)\" d=\"M0,100v420\" style=\"stroke: rgb(255, 255, 255); stroke-opacity: 1; stroke-width: 1px;\"/><path class=\"xgrid crisp\" transform=\"translate(492.23,0)\" d=\"M0,100v420\" style=\"stroke: rgb(255, 255, 255); stroke-opacity: 1; stroke-width: 1px;\"/><path class=\"xgrid crisp\" transform=\"translate(620.63,0)\" d=\"M0,100v420\" style=\"stroke: rgb(255, 255, 255); stroke-opacity: 1; stroke-width: 1px;\"/><path class=\"xgrid crisp\" transform=\"translate(749.04,0)\" d=\"M0,100v420\" style=\"stroke: rgb(255, 255, 255); stroke-opacity: 1; stroke-width: 1px;\"/><path class=\"xgrid crisp\" transform=\"translate(877.45,0)\" d=\"M0,100v420\" style=\"stroke: rgb(255, 255, 255); stroke-opacity: 1; stroke-width: 1px;\"/></g><g class=\"y\"/></g><g class=\"zerolinelayer\"><path class=\"xzl zl crisp\" transform=\"translate(107,0)\" d=\"M0,100v420\" style=\"stroke: rgb(255, 255, 255); stroke-opacity: 1; stroke-width: 2px;\"/></g><path class=\"xlines-below\"/><path class=\"ylines-below\"/><g class=\"overlines-below\"/><g class=\"xaxislayer-below\"/><g class=\"yaxislayer-below\"/><g class=\"overaxes-below\"/><g class=\"plot\" transform=\"translate(107,100)\" clip-path=\"url(#clip992331xyplot)\"><g class=\"barlayer mlayer\"><g class=\"trace bars\" shape-rendering=\"crispEdges\" style=\"opacity: 1;\"><g class=\"points\"><g class=\"point\"><path d=\"M0,409.5V325.5H128.41V409.5Z\" style=\"vector-effect: non-scaling-stroke; opacity: 1; stroke-width: 0.5px; fill: rgb(40, 180, 99); fill-opacity: 1; stroke: rgb(229, 236, 246); stroke-opacity: 1;\"/><text class=\"bartext bartext-inside\" text-anchor=\"middle\" data-notex=\"1\" x=\"0\" y=\"0\" style=\"font-family: 'Open Sans', verdana, arial, sans-serif; font-size: 12px; fill: rgb(68, 68, 68); fill-opacity: 1; white-space: pre;\" transform=\"translate(113.06625,371.5)\">33%</text></g><g class=\"point\"><path d=\"M0,304.5V220.5H192.61V304.5Z\" style=\"vector-effect: non-scaling-stroke; opacity: 1; stroke-width: 0.5px; fill: rgb(40, 180, 99); fill-opacity: 1; stroke: rgb(229, 236, 246); stroke-opacity: 1;\"/><text class=\"bartext bartext-inside\" text-anchor=\"middle\" data-notex=\"1\" x=\"0\" y=\"0\" style=\"font-family: 'Open Sans', verdana, arial, sans-serif; font-size: 12px; fill: rgb(68, 68, 68); fill-opacity: 1; white-space: pre;\" transform=\"translate(177.26625,266.5)\">25%</text></g><g class=\"point\"><path d=\"M0,199.5V115.5H0V199.5Z\" style=\"vector-effect: non-scaling-stroke; opacity: 1; stroke-width: 0.5px; fill: rgb(40, 180, 99); fill-opacity: 1; stroke: rgb(229, 236, 246); stroke-opacity: 1;\"/></g><g class=\"point\"><path d=\"M0,94.5V10.5H128.41V94.5Z\" style=\"vector-effect: non-scaling-stroke; opacity: 1; stroke-width: 0.5px; fill: rgb(40, 180, 99); fill-opacity: 1; stroke: rgb(229, 236, 246); stroke-opacity: 1;\"/><text class=\"bartext bartext-inside\" text-anchor=\"middle\" data-notex=\"1\" x=\"0\" y=\"0\" style=\"font-family: 'Open Sans', verdana, arial, sans-serif; font-size: 12px; fill: rgb(68, 68, 68); fill-opacity: 1; white-space: pre;\" transform=\"translate(113.06625,56.5)\">50%</text></g></g></g><g class=\"trace bars\" shape-rendering=\"crispEdges\" style=\"opacity: 1;\"><g class=\"points\"><g class=\"point\"><path d=\"M128.41,409.5V325.5H256.82V409.5Z\" style=\"vector-effect: non-scaling-stroke; opacity: 1; stroke-width: 0.5px; fill: rgb(249, 231, 159); fill-opacity: 1; stroke: rgb(229, 236, 246); stroke-opacity: 1;\"/><text class=\"bartext bartext-inside\" text-anchor=\"middle\" data-notex=\"1\" x=\"0\" y=\"0\" style=\"font-family: 'Open Sans', verdana, arial, sans-serif; font-size: 12px; fill: rgb(68, 68, 68); fill-opacity: 1; white-space: pre;\" transform=\"translate(241.47625,371.5)\">33%</text></g><g class=\"point\"><path d=\"M192.61,304.5V220.5H513.63V304.5Z\" style=\"vector-effect: non-scaling-stroke; opacity: 1; stroke-width: 0.5px; fill: rgb(249, 231, 159); fill-opacity: 1; stroke: rgb(229, 236, 246); stroke-opacity: 1;\"/><text class=\"bartext bartext-inside\" text-anchor=\"middle\" data-notex=\"1\" x=\"0\" y=\"0\" style=\"font-family: 'Open Sans', verdana, arial, sans-serif; font-size: 12px; fill: rgb(68, 68, 68); fill-opacity: 1; white-space: pre;\" transform=\"translate(498.28625,266.5)\">42%</text></g><g class=\"point\"><path d=\"M0,199.5V115.5H0V199.5Z\" style=\"vector-effect: non-scaling-stroke; opacity: 1; stroke-width: 0.5px; fill: rgb(249, 231, 159); fill-opacity: 1; stroke: rgb(229, 236, 246); stroke-opacity: 1;\"/></g><g class=\"point\"><path d=\"M128.41,94.5V10.5H256.82V94.5Z\" style=\"vector-effect: non-scaling-stroke; opacity: 1; stroke-width: 0.5px; fill: rgb(249, 231, 159); fill-opacity: 1; stroke: rgb(229, 236, 246); stroke-opacity: 1;\"/><text class=\"bartext bartext-inside\" text-anchor=\"middle\" data-notex=\"1\" x=\"0\" y=\"0\" style=\"font-family: 'Open Sans', verdana, arial, sans-serif; font-size: 12px; fill: rgb(68, 68, 68); fill-opacity: 1; white-space: pre;\" transform=\"translate(241.47625,56.5)\">50%</text></g></g></g><g class=\"trace bars\" shape-rendering=\"crispEdges\" style=\"opacity: 1;\"><g class=\"points\"><g class=\"point\"><path d=\"M256.82,409.5V325.5H385.23V409.5Z\" style=\"vector-effect: non-scaling-stroke; opacity: 1; stroke-width: 0.5px; fill: rgb(231, 76, 60); fill-opacity: 1; stroke: rgb(229, 236, 246); stroke-opacity: 1;\"/><text class=\"bartext bartext-inside\" text-anchor=\"middle\" data-notex=\"1\" x=\"0\" y=\"0\" style=\"font-family: 'Open Sans', verdana, arial, sans-serif; font-size: 12px; fill: rgb(255, 255, 255); fill-opacity: 1; white-space: pre;\" transform=\"translate(369.88625,371.5)\">33%</text></g><g class=\"point\"><path d=\"M513.63,304.5V220.5H770.45V304.5Z\" style=\"vector-effect: non-scaling-stroke; opacity: 1; stroke-width: 0.5px; fill: rgb(231, 76, 60); fill-opacity: 1; stroke: rgb(229, 236, 246); stroke-opacity: 1;\"/><text class=\"bartext bartext-inside\" text-anchor=\"middle\" data-notex=\"1\" x=\"0\" y=\"0\" style=\"font-family: 'Open Sans', verdana, arial, sans-serif; font-size: 12px; fill: rgb(255, 255, 255); fill-opacity: 1; white-space: pre;\" transform=\"translate(755.10625,266.5)\">33%</text></g><g class=\"point\"><path d=\"M0,199.5V115.5H192.61V199.5Z\" style=\"vector-effect: non-scaling-stroke; opacity: 1; stroke-width: 0.5px; fill: rgb(231, 76, 60); fill-opacity: 1; stroke: rgb(229, 236, 246); stroke-opacity: 1;\"/><text class=\"bartext bartext-inside\" text-anchor=\"middle\" data-notex=\"1\" x=\"0\" y=\"0\" style=\"font-family: 'Open Sans', verdana, arial, sans-serif; font-size: 12px; fill: rgb(255, 255, 255); fill-opacity: 1; white-space: pre;\" transform=\"translate(173.9225,161.5)\">100%</text></g><g class=\"point\"><path d=\"M256.82,94.5V10.5H256.82V94.5Z\" style=\"vector-effect: non-scaling-stroke; opacity: 1; stroke-width: 0.5px; fill: rgb(231, 76, 60); fill-opacity: 1; stroke: rgb(229, 236, 246); stroke-opacity: 1;\"/></g></g></g></g></g><g class=\"overplot\"/><path class=\"xlines-above crisp\" d=\"M0,0\" style=\"fill: none;\"/><path class=\"ylines-above crisp\" d=\"M0,0\" style=\"fill: none;\"/><g class=\"overlines-above\"/><g class=\"xaxislayer-above\"><g class=\"xtick\"><text text-anchor=\"middle\" x=\"0\" y=\"533\" transform=\"translate(107,0)\" style=\"font-family: 'Open Sans', verdana, arial, sans-serif; font-size: 12px; fill: rgb(42, 63, 95); fill-opacity: 1; white-space: pre; opacity: 1;\">0</text></g><g class=\"xtick\"><text text-anchor=\"middle\" x=\"0\" y=\"533\" style=\"font-family: 'Open Sans', verdana, arial, sans-serif; font-size: 12px; fill: rgb(42, 63, 95); fill-opacity: 1; white-space: pre; opacity: 1;\" transform=\"translate(235.41,0)\">2</text></g><g class=\"xtick\"><text text-anchor=\"middle\" x=\"0\" y=\"533\" style=\"font-family: 'Open Sans', verdana, arial, sans-serif; font-size: 12px; fill: rgb(42, 63, 95); fill-opacity: 1; white-space: pre; opacity: 1;\" transform=\"translate(363.82,0)\">4</text></g><g class=\"xtick\"><text text-anchor=\"middle\" x=\"0\" y=\"533\" style=\"font-family: 'Open Sans', verdana, arial, sans-serif; font-size: 12px; fill: rgb(42, 63, 95); fill-opacity: 1; white-space: pre; opacity: 1;\" transform=\"translate(492.23,0)\">6</text></g><g class=\"xtick\"><text text-anchor=\"middle\" x=\"0\" y=\"533\" style=\"font-family: 'Open Sans', verdana, arial, sans-serif; font-size: 12px; fill: rgb(42, 63, 95); fill-opacity: 1; white-space: pre; opacity: 1;\" transform=\"translate(620.63,0)\">8</text></g><g class=\"xtick\"><text text-anchor=\"middle\" x=\"0\" y=\"533\" style=\"font-family: 'Open Sans', verdana, arial, sans-serif; font-size: 12px; fill: rgb(42, 63, 95); fill-opacity: 1; white-space: pre; opacity: 1;\" transform=\"translate(749.04,0)\">10</text></g><g class=\"xtick\"><text text-anchor=\"middle\" x=\"0\" y=\"533\" style=\"font-family: 'Open Sans', verdana, arial, sans-serif; font-size: 12px; fill: rgb(42, 63, 95); fill-opacity: 1; white-space: pre; opacity: 1;\" transform=\"translate(877.45,0)\">12</text></g></g><g class=\"yaxislayer-above\"><g class=\"ytick\"><text text-anchor=\"end\" x=\"106\" y=\"4.199999999999999\" transform=\"translate(0,520)translate(0,-7.800000000000001)\" style=\"font-family: 'Open Sans', verdana, arial, sans-serif; font-size: 12px; fill: rgb(42, 63, 95); fill-opacity: 1; white-space: pre; opacity: 1;\"><tspan class=\"line\" dy=\"0em\" x=\"106\" y=\"4.199999999999999\">12:00</tspan><tspan class=\"line\" dy=\"1.3em\" x=\"106\" y=\"4.199999999999999\">Oct 15, 2021</tspan></text></g><g class=\"ytick\"><text text-anchor=\"end\" x=\"106\" y=\"4.199999999999999\" style=\"font-family: 'Open Sans', verdana, arial, sans-serif; font-size: 12px; fill: rgb(42, 63, 95); fill-opacity: 1; white-space: pre; opacity: 1;\" transform=\"translate(0,467.5)translate(0,-7.800000000000001)\"><tspan class=\"line\" dy=\"0em\" x=\"106\" y=\"4.199999999999999\">00:00</tspan><tspan class=\"line\" dy=\"1.3em\" x=\"106\" y=\"4.199999999999999\">Oct 16, 2021</tspan></text></g><g class=\"ytick\"><text text-anchor=\"end\" x=\"106\" y=\"4.199999999999999\" style=\"font-family: 'Open Sans', verdana, arial, sans-serif; font-size: 12px; fill: rgb(42, 63, 95); fill-opacity: 1; white-space: pre; opacity: 1;\" transform=\"translate(0,415)\">12:00</text></g><g class=\"ytick\"><text text-anchor=\"end\" x=\"106\" y=\"4.199999999999999\" style=\"font-family: 'Open Sans', verdana, arial, sans-serif; font-size: 12px; fill: rgb(42, 63, 95); fill-opacity: 1; white-space: pre; opacity: 1;\" transform=\"translate(0,362.5)translate(0,-7.800000000000001)\"><tspan class=\"line\" dy=\"0em\" x=\"106\" y=\"4.199999999999999\">00:00</tspan><tspan class=\"line\" dy=\"1.3em\" x=\"106\" y=\"4.199999999999999\">Oct 17, 2021</tspan></text></g><g class=\"ytick\"><text text-anchor=\"end\" x=\"106\" y=\"4.199999999999999\" style=\"font-family: 'Open Sans', verdana, arial, sans-serif; font-size: 12px; fill: rgb(42, 63, 95); fill-opacity: 1; white-space: pre; opacity: 1;\" transform=\"translate(0,310)\">12:00</text></g><g class=\"ytick\"><text text-anchor=\"end\" x=\"106\" y=\"4.199999999999999\" style=\"font-family: 'Open Sans', verdana, arial, sans-serif; font-size: 12px; fill: rgb(42, 63, 95); fill-opacity: 1; white-space: pre; opacity: 1;\" transform=\"translate(0,257.5)translate(0,-7.800000000000001)\"><tspan class=\"line\" dy=\"0em\" x=\"106\" y=\"4.199999999999999\">00:00</tspan><tspan class=\"line\" dy=\"1.3em\" x=\"106\" y=\"4.199999999999999\">Oct 18, 2021</tspan></text></g><g class=\"ytick\"><text text-anchor=\"end\" x=\"106\" y=\"4.199999999999999\" style=\"font-family: 'Open Sans', verdana, arial, sans-serif; font-size: 12px; fill: rgb(42, 63, 95); fill-opacity: 1; white-space: pre; opacity: 1;\" transform=\"translate(0,205)\">12:00</text></g><g class=\"ytick\"><text text-anchor=\"end\" x=\"106\" y=\"4.199999999999999\" style=\"font-family: 'Open Sans', verdana, arial, sans-serif; font-size: 12px; fill: rgb(42, 63, 95); fill-opacity: 1; white-space: pre; opacity: 1;\" transform=\"translate(0,152.5)translate(0,-7.800000000000001)\"><tspan class=\"line\" dy=\"0em\" x=\"106\" y=\"4.199999999999999\">00:00</tspan><tspan class=\"line\" dy=\"1.3em\" x=\"106\" y=\"4.199999999999999\">Oct 19, 2021</tspan></text></g><g class=\"ytick\"><text text-anchor=\"end\" x=\"106\" y=\"4.199999999999999\" style=\"font-family: 'Open Sans', verdana, arial, sans-serif; font-size: 12px; fill: rgb(42, 63, 95); fill-opacity: 1; white-space: pre; opacity: 1;\" transform=\"translate(0,100)\">12:00</text></g></g><g class=\"overaxes-above\"/></g></g><g class=\"polarlayer\"/><g class=\"smithlayer\"/><g class=\"ternarylayer\"/><g class=\"geolayer\"/><g class=\"funnelarealayer\"/><g class=\"pielayer\"/><g class=\"iciclelayer\"/><g class=\"treemaplayer\"/><g class=\"sunburstlayer\"/><g class=\"glimages\"/><defs id=\"topdefs-992331\"><g class=\"clips\"/><clipPath id=\"legend992331\"><rect width=\"54\" height=\"67\" x=\"0\" y=\"0\"/></clipPath></defs><g class=\"layer-above\"><g class=\"imagelayer\"/><g class=\"shapelayer\"/></g><g class=\"infolayer\"><g class=\"legend\" pointer-events=\"all\" transform=\"translate(934.22,100)\"><rect class=\"bg\" shape-rendering=\"crispEdges\" width=\"54\" height=\"67\" x=\"0\" y=\"0\" style=\"stroke: rgb(68, 68, 68); stroke-opacity: 1; fill: rgb(255, 255, 255); fill-opacity: 1; stroke-width: 0px;\"/><g class=\"scrollbox\" transform=\"\" clip-path=\"url(#legend992331)\"><g class=\"groups\"><g class=\"traces\" transform=\"translate(0,14.5)\" style=\"opacity: 1;\"><text class=\"legendtext\" text-anchor=\"start\" x=\"40\" y=\"4.680000000000001\" style=\"font-family: 'Open Sans', verdana, arial, sans-serif; font-size: 12px; fill: rgb(42, 63, 95); fill-opacity: 1; white-space: pre;\">C</text><g class=\"layers\" style=\"opacity: 1;\"><g class=\"legendfill\"/><g class=\"legendlines\"/><g class=\"legendsymbols\"><g class=\"legendpoints\"><path class=\"legendundefined\" d=\"M6,6H-6V-6H6Z\" transform=\"translate(20,0)\" style=\"stroke-width: 0.5px; fill: rgb(231, 76, 60); fill-opacity: 1; stroke: rgb(229, 236, 246); stroke-opacity: 1;\"/></g></g></g><rect class=\"legendtoggle\" x=\"0\" y=\"-9.5\" width=\"49\" height=\"19\" style=\"fill: rgb(0, 0, 0); fill-opacity: 0;\"/></g><g class=\"traces\" transform=\"translate(0,33.5)\" style=\"opacity: 1;\"><text class=\"legendtext\" text-anchor=\"start\" x=\"40\" y=\"4.680000000000001\" style=\"font-family: 'Open Sans', verdana, arial, sans-serif; font-size: 12px; fill: rgb(42, 63, 95); fill-opacity: 1; white-space: pre;\">B</text><g class=\"layers\" style=\"opacity: 1;\"><g class=\"legendfill\"/><g class=\"legendlines\"/><g class=\"legendsymbols\"><g class=\"legendpoints\"><path class=\"legendundefined\" d=\"M6,6H-6V-6H6Z\" transform=\"translate(20,0)\" style=\"stroke-width: 0.5px; fill: rgb(249, 231, 159); fill-opacity: 1; stroke: rgb(229, 236, 246); stroke-opacity: 1;\"/></g></g></g><rect class=\"legendtoggle\" x=\"0\" y=\"-9.5\" width=\"49\" height=\"19\" style=\"fill: rgb(0, 0, 0); fill-opacity: 0;\"/></g><g class=\"traces\" transform=\"translate(0,52.5)\" style=\"opacity: 1;\"><text class=\"legendtext\" text-anchor=\"start\" x=\"40\" y=\"4.680000000000001\" style=\"font-family: 'Open Sans', verdana, arial, sans-serif; font-size: 12px; fill: rgb(42, 63, 95); fill-opacity: 1; white-space: pre;\">A</text><g class=\"layers\" style=\"opacity: 1;\"><g class=\"legendfill\"/><g class=\"legendlines\"/><g class=\"legendsymbols\"><g class=\"legendpoints\"><path class=\"legendundefined\" d=\"M6,6H-6V-6H6Z\" transform=\"translate(20,0)\" style=\"stroke-width: 0.5px; fill: rgb(40, 180, 99); fill-opacity: 1; stroke: rgb(229, 236, 246); stroke-opacity: 1;\"/></g></g></g><rect class=\"legendtoggle\" x=\"0\" y=\"-9.5\" width=\"49\" height=\"19\" style=\"fill: rgb(0, 0, 0); fill-opacity: 0;\"/></g></g></g><rect class=\"scrollbar\" rx=\"20\" ry=\"3\" width=\"0\" height=\"0\" x=\"0\" y=\"0\" style=\"fill: rgb(128, 139, 164); fill-opacity: 1;\"/></g><g class=\"g-gtitle\"><text class=\"gtitle\" x=\"50\" y=\"50\" text-anchor=\"start\" dy=\"0em\" style=\"font-family: 'Open Sans', verdana, arial, sans-serif; font-size: 17px; fill: rgb(42, 63, 95); opacity: 1; font-weight: normal; white-space: pre;\">Динамика значений</text></g><g class=\"g-xtitle\"><text class=\"xtitle\" x=\"512.5\" y=\"560.8\" text-anchor=\"middle\" style=\"font-family: 'Open Sans', verdana, arial, sans-serif; font-size: 14px; fill: rgb(42, 63, 95); opacity: 1; font-weight: normal; white-space: pre;\">Дата</text></g><g class=\"g-ytitle\" transform=\"translate(0.5185546875,0)\"><text class=\"ytitle\" transform=\"rotate(-90,12.481250000000003,310)\" x=\"12.481250000000003\" y=\"310\" text-anchor=\"middle\" style=\"font-family: 'Open Sans', verdana, arial, sans-serif; font-size: 14px; fill: rgb(42, 63, 95); opacity: 1; font-weight: normal; white-space: pre;\">Количество значений</text></g></g></svg>"
      ]
     },
     "metadata": {},
     "output_type": "display_data"
    }
   ],
   "source": [
    "df = data.pivot_table(index='date', columns='group', values='val_id', aggfunc='nunique').fillna(0).reset_index()\n",
    "groups = data.group.unique().tolist()\n",
    "\n",
    "\n",
    "width = 1000\n",
    "height = 600\n",
    "title = 'Динамика значений'\n",
    "xaxis_title = \"Дата\"\n",
    "yaxis_title = 'Количество значений'\n",
    "\n",
    "for group in groups:\n",
    "    df[f\"{group}%\"] = (np.round(df[group]/df[groups].sum(axis=1), 2) * 100).astype('int').astype('str') + '%'\n",
    "\n",
    "print(df.to_markdown())\n",
    "\n",
    "fig = go.Figure(data=[\n",
    "    go.Bar(name='A',y=df['date'], x=df['A'], marker_color=\"#28B463\", text=df['A%'], textposition = 'inside'),\n",
    "    go.Bar(name='B',y=df['date'], x=df['B'], marker_color=\"#F9E79F\", text=df['B%'], textposition = 'inside'),\n",
    "    go.Bar(name='C',y=df['date'], x=df['C'], marker_color=\"#E74C3C\", text=df['C%'], textposition = 'inside'),\n",
    "\n",
    "])\n",
    "\n",
    "fig.update_layout(\n",
    "    width=width,\n",
    "    height=height,\n",
    "    title = title,\n",
    "    xaxis_title=xaxis_title,\n",
    "    yaxis_title=yaxis_title,\n",
    "    barmode='stack',\n",
    ")\n",
    "fig.update_traces(orientation='h')\n",
    "\n",
    "fig.show(renderer=\"svg\")\n",
    "# fig.show(\"notebook\")"
   ]
  },
  {
   "cell_type": "markdown",
   "metadata": {},
   "source": [
    "## Pie chart - круговые диаграммы"
   ]
  },
  {
   "cell_type": "markdown",
   "metadata": {},
   "source": [
    "### Простой вариант с текстами"
   ]
  },
  {
   "cell_type": "code",
   "execution_count": 58,
   "metadata": {},
   "outputs": [
    {
     "name": "stdout",
     "output_type": "stream",
     "text": [
      "|    | Группа   |   Количество |\n",
      "|---:|:---------|-------------:|\n",
      "|  0 | B        |            9 |\n",
      "|  1 | C        |            9 |\n",
      "|  2 | A        |            7 |\n"
     ]
    },
    {
     "data": {
      "image/svg+xml": [
       "<svg class=\"main-svg\" xmlns=\"http://www.w3.org/2000/svg\" xmlns:xlink=\"http://www.w3.org/1999/xlink\" width=\"700\" height=\"500\" style=\"\" viewBox=\"0 0 700 500\"><rect x=\"0\" y=\"0\" width=\"700\" height=\"500\" style=\"fill: rgb(255, 255, 255); fill-opacity: 1;\"/><defs id=\"defs-fc854b\"><g class=\"clips\"/><g class=\"gradients\"/><g class=\"patterns\"/></defs><g class=\"bglayer\"/><g class=\"layer-below\"><g class=\"imagelayer\"/><g class=\"shapelayer\"/></g><g class=\"cartesianlayer\"/><g class=\"polarlayer\"/><g class=\"smithlayer\"/><g class=\"ternarylayer\"/><g class=\"geolayer\"/><g class=\"funnelarealayer\"/><g class=\"pielayer\"><g class=\"trace\" stroke-linejoin=\"round\" style=\"opacity: 1;\"><g class=\"slice\"><path class=\"surface\" d=\"M350,240l0,-180a180,180 0 0 1 138.69238369964208,294.73631815476415Z\" style=\"pointer-events: all; stroke-width: 0; fill: rgb(99, 110, 250); fill-opacity: 1; stroke: rgb(68, 68, 68); stroke-opacity: 1;\"/><g class=\"slicetext\"><text data-notex=\"1\" class=\"slicetext\" transform=\"translate(435.3391695299267,188.16367057851318)\" text-anchor=\"middle\" x=\"0\" y=\"0\" style=\"font-family: 'Open Sans', verdana, arial, sans-serif; font-size: 12px; fill: rgb(255, 255, 255); fill-opacity: 1; white-space: pre;\"><tspan class=\"line\" dy=\"0em\" x=\"0\" y=\"0\">B</tspan><tspan class=\"line\" dy=\"1.3em\" x=\"0\" y=\"0\">9</tspan><tspan class=\"line\" dy=\"2.6em\" x=\"0\" y=\"0\">36%</tspan></text></g></g><g class=\"slice\"><path class=\"surface\" d=\"M350,240l-138.69238369964208,114.73631815476415a180,180 0 0 1 138.69238369964208,-294.73631815476415Z\" style=\"pointer-events: all; stroke-width: 0; fill: rgb(239, 85, 59); fill-opacity: 1; stroke: rgb(68, 68, 68); stroke-opacity: 1;\"/><g class=\"slicetext\"><text data-notex=\"1\" class=\"slicetext\" transform=\"translate(264.3327054700733,188.16367057851318)\" text-anchor=\"middle\" x=\"0\" y=\"0\" style=\"font-family: 'Open Sans', verdana, arial, sans-serif; font-size: 12px; fill: rgb(68, 68, 68); fill-opacity: 1; white-space: pre;\"><tspan class=\"line\" dy=\"0em\" x=\"0\" y=\"0\">C</tspan><tspan class=\"line\" dy=\"1.3em\" x=\"0\" y=\"0\">9</tspan><tspan class=\"line\" dy=\"2.6em\" x=\"0\" y=\"0\">36%</tspan></text></g></g><g class=\"slice\"><path class=\"surface\" d=\"M350,240l138.69238369964208,114.73631815476412a180,180 0 0 1 -277.38476739928416,2.842170943040401e-14Z\" style=\"pointer-events: all; stroke-width: 0; fill: rgb(0, 204, 150); fill-opacity: 1; stroke: rgb(68, 68, 68); stroke-opacity: 1;\"/><g class=\"slicetext\"><text data-notex=\"1\" class=\"slicetext\" transform=\"translate(349.8359375,330.0638730647734)\" text-anchor=\"middle\" x=\"0\" y=\"0\" style=\"font-family: 'Open Sans', verdana, arial, sans-serif; font-size: 12px; fill: rgb(68, 68, 68); fill-opacity: 1; white-space: pre;\"><tspan class=\"line\" dy=\"0em\" x=\"0\" y=\"0\">A</tspan><tspan class=\"line\" dy=\"1.3em\" x=\"0\" y=\"0\">7</tspan><tspan class=\"line\" dy=\"2.6em\" x=\"0\" y=\"0\">28%</tspan></text></g></g></g></g><g class=\"iciclelayer\"/><g class=\"treemaplayer\"/><g class=\"sunburstlayer\"/><g class=\"glimages\"/><defs id=\"topdefs-fc854b\"><g class=\"clips\"/><clipPath id=\"legendfc854b\"><rect width=\"54\" height=\"67\" x=\"0\" y=\"0\"/></clipPath></defs><g class=\"layer-above\"><g class=\"imagelayer\"/><g class=\"shapelayer\"/></g><g class=\"infolayer\"><g class=\"legend\" pointer-events=\"all\" transform=\"translate(630.8,60)\"><rect class=\"bg\" shape-rendering=\"crispEdges\" width=\"54\" height=\"67\" x=\"0\" y=\"0\" style=\"stroke: rgb(68, 68, 68); stroke-opacity: 1; fill: rgb(255, 255, 255); fill-opacity: 1; stroke-width: 0px;\"/><g class=\"scrollbox\" transform=\"\" clip-path=\"url(#legendfc854b)\"><g class=\"groups\"><g class=\"traces\" transform=\"translate(0,14.5)\" style=\"opacity: 1;\"><text class=\"legendtext\" text-anchor=\"start\" x=\"40\" y=\"4.680000000000001\" style=\"font-family: 'Open Sans', verdana, arial, sans-serif; font-size: 12px; fill: rgb(42, 63, 95); fill-opacity: 1; white-space: pre;\">B</text><g class=\"layers\" style=\"opacity: 1;\"><g class=\"legendfill\"/><g class=\"legendlines\"/><g class=\"legendsymbols\"><g class=\"legendpoints\"><path class=\"legendpie\" d=\"M6,6H-6V-6H6Z\" transform=\"translate(20,0)\" style=\"stroke-width: 0; fill: rgb(99, 110, 250); fill-opacity: 1; stroke: rgb(68, 68, 68); stroke-opacity: 1;\"/></g></g></g><rect class=\"legendtoggle\" x=\"0\" y=\"-9.5\" width=\"49\" height=\"19\" style=\"fill: rgb(0, 0, 0); fill-opacity: 0;\"/></g><g class=\"traces\" transform=\"translate(0,33.5)\" style=\"opacity: 1;\"><text class=\"legendtext\" text-anchor=\"start\" x=\"40\" y=\"4.680000000000001\" style=\"font-family: 'Open Sans', verdana, arial, sans-serif; font-size: 12px; fill: rgb(42, 63, 95); fill-opacity: 1; white-space: pre;\">C</text><g class=\"layers\" style=\"opacity: 1;\"><g class=\"legendfill\"/><g class=\"legendlines\"/><g class=\"legendsymbols\"><g class=\"legendpoints\"><path class=\"legendpie\" d=\"M6,6H-6V-6H6Z\" transform=\"translate(20,0)\" style=\"stroke-width: 0; fill: rgb(239, 85, 59); fill-opacity: 1; stroke: rgb(68, 68, 68); stroke-opacity: 1;\"/></g></g></g><rect class=\"legendtoggle\" x=\"0\" y=\"-9.5\" width=\"49\" height=\"19\" style=\"fill: rgb(0, 0, 0); fill-opacity: 0;\"/></g><g class=\"traces\" transform=\"translate(0,52.5)\" style=\"opacity: 1;\"><text class=\"legendtext\" text-anchor=\"start\" x=\"40\" y=\"4.680000000000001\" style=\"font-family: 'Open Sans', verdana, arial, sans-serif; font-size: 12px; fill: rgb(42, 63, 95); fill-opacity: 1; white-space: pre;\">A</text><g class=\"layers\" style=\"opacity: 1;\"><g class=\"legendfill\"/><g class=\"legendlines\"/><g class=\"legendsymbols\"><g class=\"legendpoints\"><path class=\"legendpie\" d=\"M6,6H-6V-6H6Z\" transform=\"translate(20,0)\" style=\"stroke-width: 0; fill: rgb(0, 204, 150); fill-opacity: 1; stroke: rgb(68, 68, 68); stroke-opacity: 1;\"/></g></g></g><rect class=\"legendtoggle\" x=\"0\" y=\"-9.5\" width=\"49\" height=\"19\" style=\"fill: rgb(0, 0, 0); fill-opacity: 0;\"/></g></g></g><rect class=\"scrollbar\" rx=\"20\" ry=\"3\" width=\"0\" height=\"0\" x=\"0\" y=\"0\" style=\"fill: rgb(128, 139, 164); fill-opacity: 1;\"/></g><g class=\"g-gtitle\"/></g></svg>"
      ]
     },
     "metadata": {},
     "output_type": "display_data"
    }
   ],
   "source": [
    "df = data.group.value_counts().reset_index().rename(columns={'index': 'Группа','group': 'Количество'})\n",
    "print(df.to_markdown())\n",
    "\n",
    "fig = px.pie(df, names='Группа', values= 'Количество')\n",
    "fig.update_traces(textposition='inside', textinfo='value+percent+label')\n",
    "\n",
    "fig.show(renderer=\"svg\")\n",
    "# fig.show(\"notebook\")"
   ]
  },
  {
   "cell_type": "markdown",
   "metadata": {},
   "source": [
    "### Кргуговая диаграмма с текстами в легенде (бывает полезно, когда есть маленькие доли)"
   ]
  },
  {
   "cell_type": "code",
   "execution_count": 59,
   "metadata": {},
   "outputs": [
    {
     "data": {
      "image/svg+xml": [
       "<svg class=\"main-svg\" xmlns=\"http://www.w3.org/2000/svg\" xmlns:xlink=\"http://www.w3.org/1999/xlink\" width=\"700\" height=\"500\" style=\"\" viewBox=\"0 0 700 500\"><rect x=\"0\" y=\"0\" width=\"700\" height=\"500\" style=\"fill: rgb(255, 255, 255); fill-opacity: 1;\"/><defs id=\"defs-739147\"><g class=\"clips\"/><g class=\"gradients\"/><g class=\"patterns\"/></defs><g class=\"bglayer\"/><g class=\"layer-below\"><g class=\"imagelayer\"/><g class=\"shapelayer\"/></g><g class=\"cartesianlayer\"/><g class=\"polarlayer\"/><g class=\"smithlayer\"/><g class=\"ternarylayer\"/><g class=\"geolayer\"/><g class=\"funnelarealayer\"/><g class=\"pielayer\"><g class=\"trace\" stroke-linejoin=\"round\" style=\"opacity: 1;\"><g class=\"slice\"><path class=\"surface\" d=\"M320,260l0,-160a160,160 0 0 1 123.28211884412627,261.9878383597904Z\" style=\"pointer-events: all; stroke-width: 0; fill: rgb(99, 110, 250); fill-opacity: 1; stroke: rgb(68, 68, 68); stroke-opacity: 1;\"/></g><g class=\"slice\"><path class=\"surface\" d=\"M320,260l-123.28211884412627,101.98783835979036a160,160 0 0 1 123.28211884412627,-261.9878383597904Z\" style=\"pointer-events: all; stroke-width: 0; fill: rgb(239, 85, 59); fill-opacity: 1; stroke: rgb(68, 68, 68); stroke-opacity: 1;\"/></g><g class=\"slice\"><path class=\"surface\" d=\"M320,260l123.2821188441263,101.98783835979032a160,160 0 0 1 -246.56423768825258,4.263256414560601e-14Z\" style=\"pointer-events: all; stroke-width: 0; fill: rgb(0, 204, 150); fill-opacity: 1; stroke: rgb(68, 68, 68); stroke-opacity: 1;\"/></g></g></g><g class=\"iciclelayer\"/><g class=\"treemaplayer\"/><g class=\"sunburstlayer\"/><g class=\"glimages\"/><defs id=\"topdefs-739147\"><g class=\"clips\"/><clipPath id=\"legend739147\"><rect width=\"118\" height=\"67\" x=\"0\" y=\"0\"/></clipPath></defs><g class=\"layer-above\"><g class=\"imagelayer\"/><g class=\"shapelayer\"/></g><g class=\"infolayer\"><g class=\"legend\" pointer-events=\"all\" transform=\"translate(569.6,100)\"><rect class=\"bg\" shape-rendering=\"crispEdges\" style=\"stroke: rgb(68, 68, 68); stroke-opacity: 1; fill: rgb(255, 255, 255); fill-opacity: 1; stroke-width: 0px;\" width=\"118\" height=\"67\" x=\"0\" y=\"0\"/><g class=\"scrollbox\" transform=\"\" clip-path=\"url(#legend739147)\"><g class=\"groups\"><g class=\"traces\" transform=\"translate(0,14.5)\" style=\"opacity: 1;\"><text class=\"legendtext\" text-anchor=\"start\" x=\"40\" y=\"4.680000000000001\" style=\"font-family: 'Open Sans', verdana, arial, sans-serif; font-size: 12px; fill: rgb(42, 63, 95); fill-opacity: 1; white-space: pre;\">B (36.0%) (9)</text><g class=\"layers\" style=\"opacity: 1;\"><g class=\"legendfill\"/><g class=\"legendlines\"/><g class=\"legendsymbols\"><g class=\"legendpoints\"><path class=\"legendpie\" d=\"M6,6H-6V-6H6Z\" transform=\"translate(20,0)\" style=\"stroke-width: 0; fill: rgb(99, 110, 250); fill-opacity: 1; stroke: rgb(68, 68, 68); stroke-opacity: 1;\"/></g></g></g><rect class=\"legendtoggle\" x=\"0\" y=\"-9.5\" width=\"112.03125\" height=\"19\" style=\"fill: rgb(0, 0, 0); fill-opacity: 0;\"/></g><g class=\"traces\" transform=\"translate(0,33.5)\" style=\"opacity: 1;\"><text class=\"legendtext\" text-anchor=\"start\" x=\"40\" y=\"4.680000000000001\" style=\"font-family: 'Open Sans', verdana, arial, sans-serif; font-size: 12px; fill: rgb(42, 63, 95); fill-opacity: 1; white-space: pre;\">C (36.0%) (9)</text><g class=\"layers\" style=\"opacity: 1;\"><g class=\"legendfill\"/><g class=\"legendlines\"/><g class=\"legendsymbols\"><g class=\"legendpoints\"><path class=\"legendpie\" d=\"M6,6H-6V-6H6Z\" transform=\"translate(20,0)\" style=\"stroke-width: 0; fill: rgb(239, 85, 59); fill-opacity: 1; stroke: rgb(68, 68, 68); stroke-opacity: 1;\"/></g></g></g><rect class=\"legendtoggle\" x=\"0\" y=\"-9.5\" width=\"112.03125\" height=\"19\" style=\"fill: rgb(0, 0, 0); fill-opacity: 0;\"/></g><g class=\"traces\" transform=\"translate(0,52.5)\" style=\"opacity: 1;\"><text class=\"legendtext\" text-anchor=\"start\" x=\"40\" y=\"4.680000000000001\" style=\"font-family: 'Open Sans', verdana, arial, sans-serif; font-size: 12px; fill: rgb(42, 63, 95); fill-opacity: 1; white-space: pre;\">A (28.0%) (7)</text><g class=\"layers\" style=\"opacity: 1;\"><g class=\"legendfill\"/><g class=\"legendlines\"/><g class=\"legendsymbols\"><g class=\"legendpoints\"><path class=\"legendpie\" d=\"M6,6H-6V-6H6Z\" transform=\"translate(20,0)\" style=\"stroke-width: 0; fill: rgb(0, 204, 150); fill-opacity: 1; stroke: rgb(68, 68, 68); stroke-opacity: 1;\"/></g></g></g><rect class=\"legendtoggle\" x=\"0\" y=\"-9.5\" width=\"112.03125\" height=\"19\" style=\"fill: rgb(0, 0, 0); fill-opacity: 0;\"/></g></g></g><rect class=\"scrollbar\" rx=\"20\" ry=\"3\" width=\"0\" height=\"0\" style=\"fill: rgb(128, 139, 164); fill-opacity: 1;\" x=\"0\" y=\"0\"/></g><g class=\"g-gtitle\"/></g></svg>"
      ]
     },
     "metadata": {},
     "output_type": "display_data"
    }
   ],
   "source": [
    "df = data.group.value_counts().reset_index().rename(columns={'index': 'Группа','group': 'Количество'})\n",
    "\n",
    "df['Процент'] = df.apply(lambda row: np.round(row['Количество']*100/df['Количество'].sum(), 3), axis=1)\n",
    "df['Текст'] = df.apply(lambda row: f\"{row['Группа']} ({row['Процент']}%) ({row['Количество']})\", axis=1)\n",
    "\n",
    "fig = go.Figure(data=[\n",
    "    go.Pie(labels=df['Текст'], values=df['Процент'])\n",
    "])\n",
    "\n",
    "fig.update_traces(hoverinfo='label+percent', textinfo='none', textfont_size=20)\n",
    "\n",
    "fig.show(renderer=\"svg\")\n",
    "# fig.show(\"notebook\")"
   ]
  },
  {
   "cell_type": "markdown",
   "metadata": {},
   "source": [
    "##  Line chart - линейный график"
   ]
  },
  {
   "cell_type": "markdown",
   "metadata": {},
   "source": [
    "#### В некоторых случаях проще воспользоваться методом .scatter"
   ]
  },
  {
   "cell_type": "code",
   "execution_count": 60,
   "metadata": {},
   "outputs": [
    {
     "name": "stdout",
     "output_type": "stream",
     "text": [
      "|    | date       |   A |   B |   C |\n",
      "|---:|:-----------|----:|----:|----:|\n",
      "|  0 | 2021-10-16 |   2 |   2 |   2 |\n",
      "|  1 | 2021-10-17 |   3 |   5 |   4 |\n",
      "|  2 | 2021-10-18 |   0 |   0 |   3 |\n",
      "|  3 | 2021-10-19 |   2 |   2 |   0 |\n"
     ]
    },
    {
     "data": {
      "image/svg+xml": [
       "<svg class=\"main-svg\" xmlns=\"http://www.w3.org/2000/svg\" xmlns:xlink=\"http://www.w3.org/1999/xlink\" width=\"1000\" height=\"500\" style=\"\" viewBox=\"0 0 1000 500\"><rect x=\"0\" y=\"0\" width=\"1000\" height=\"500\" style=\"fill: rgb(255, 255, 255); fill-opacity: 1;\"/><defs id=\"defs-5db1b0\"><g class=\"clips\"><clipPath id=\"clip5db1b0xyplot\" class=\"plotclip\"><rect width=\"837\" height=\"320\"/></clipPath><clipPath class=\"axesclip\" id=\"clip5db1b0x\"><rect x=\"80\" y=\"0\" width=\"837\" height=\"500\"/></clipPath><clipPath class=\"axesclip\" id=\"clip5db1b0y\"><rect x=\"0\" y=\"100\" width=\"1000\" height=\"320\"/></clipPath><clipPath class=\"axesclip\" id=\"clip5db1b0xy\"><rect x=\"80\" y=\"100\" width=\"837\" height=\"320\"/></clipPath></g><g class=\"gradients\"/><g class=\"patterns\"/></defs><g class=\"bglayer\"><rect class=\"bg\" x=\"80\" y=\"100\" width=\"837\" height=\"320\" style=\"fill: rgb(229, 236, 246); fill-opacity: 1; stroke-width: 0;\"/></g><g class=\"layer-below\"><g class=\"imagelayer\"/><g class=\"shapelayer\"/></g><g class=\"cartesianlayer\"><g class=\"subplot xy\"><g class=\"layer-subplot\"><g class=\"shapelayer\"/><g class=\"imagelayer\"/></g><g class=\"gridlayer\"><g class=\"x\"><path class=\"xgrid crisp\" transform=\"translate(125.6,0)\" d=\"M0,100v320\" style=\"stroke: rgb(255, 255, 255); stroke-opacity: 1; stroke-width: 1px;\"/><path class=\"xgrid crisp\" transform=\"translate(249.9,0)\" d=\"M0,100v320\" style=\"stroke: rgb(255, 255, 255); stroke-opacity: 1; stroke-width: 1px;\"/><path class=\"xgrid crisp\" transform=\"translate(374.2,0)\" d=\"M0,100v320\" style=\"stroke: rgb(255, 255, 255); stroke-opacity: 1; stroke-width: 1px;\"/><path class=\"xgrid crisp\" transform=\"translate(498.5,0)\" d=\"M0,100v320\" style=\"stroke: rgb(255, 255, 255); stroke-opacity: 1; stroke-width: 1px;\"/><path class=\"xgrid crisp\" transform=\"translate(622.8,0)\" d=\"M0,100v320\" style=\"stroke: rgb(255, 255, 255); stroke-opacity: 1; stroke-width: 1px;\"/><path class=\"xgrid crisp\" transform=\"translate(747.1,0)\" d=\"M0,100v320\" style=\"stroke: rgb(255, 255, 255); stroke-opacity: 1; stroke-width: 1px;\"/><path class=\"xgrid crisp\" transform=\"translate(871.4,0)\" d=\"M0,100v320\" style=\"stroke: rgb(255, 255, 255); stroke-opacity: 1; stroke-width: 1px;\"/></g><g class=\"y\"><path class=\"ygrid crisp\" transform=\"translate(0,344.15)\" d=\"M80,0h837\" style=\"stroke: rgb(255, 255, 255); stroke-opacity: 1; stroke-width: 1px;\"/><path class=\"ygrid crisp\" transform=\"translate(0,288.05)\" d=\"M80,0h837\" style=\"stroke: rgb(255, 255, 255); stroke-opacity: 1; stroke-width: 1px;\"/><path class=\"ygrid crisp\" transform=\"translate(0,231.95)\" d=\"M80,0h837\" style=\"stroke: rgb(255, 255, 255); stroke-opacity: 1; stroke-width: 1px;\"/><path class=\"ygrid crisp\" transform=\"translate(0,175.85)\" d=\"M80,0h837\" style=\"stroke: rgb(255, 255, 255); stroke-opacity: 1; stroke-width: 1px;\"/><path class=\"ygrid crisp\" transform=\"translate(0,119.75)\" d=\"M80,0h837\" style=\"stroke: rgb(255, 255, 255); stroke-opacity: 1; stroke-width: 1px;\"/></g></g><g class=\"zerolinelayer\"><path class=\"yzl zl crisp\" transform=\"translate(0,400.25)\" d=\"M80,0h837\" style=\"stroke: rgb(255, 255, 255); stroke-opacity: 1; stroke-width: 2px;\"/></g><path class=\"xlines-below\"/><path class=\"ylines-below\"/><g class=\"overlines-below\"/><g class=\"xaxislayer-below\"/><g class=\"yaxislayer-below\"/><g class=\"overaxes-below\"/><g class=\"plot\" transform=\"translate(80,100)\" clip-path=\"url(#clip5db1b0xyplot)\"><g class=\"scatterlayer mlayer\"><g class=\"trace scatter tracee9c085\" style=\"stroke-miterlimit: 2; opacity: 1;\"><g class=\"fills\"/><g class=\"errorbars\"/><g class=\"lines\"><path class=\"js-line\" d=\"M45.6,188.05L294.2,131.95L542.8,300.25L791.4,188.05\" style=\"vector-effect: non-scaling-stroke; fill: none; stroke: rgb(99, 110, 250); stroke-opacity: 1; stroke-width: 2px; opacity: 1;\"/></g><g class=\"points\"><path class=\"point\" transform=\"translate(45.6,188.05)\" d=\"M3,0A3,3 0 1,1 0,-3A3,3 0 0,1 3,0Z\" style=\"opacity: 1; stroke-width: 0px; fill: rgb(99, 110, 250); fill-opacity: 1;\"/><path class=\"point\" transform=\"translate(294.2,131.95)\" d=\"M3,0A3,3 0 1,1 0,-3A3,3 0 0,1 3,0Z\" style=\"opacity: 1; stroke-width: 0px; fill: rgb(99, 110, 250); fill-opacity: 1;\"/><path class=\"point\" transform=\"translate(542.8,300.25)\" d=\"M3,0A3,3 0 1,1 0,-3A3,3 0 0,1 3,0Z\" style=\"opacity: 1; stroke-width: 0px; fill: rgb(99, 110, 250); fill-opacity: 1;\"/><path class=\"point\" transform=\"translate(791.4,188.05)\" d=\"M3,0A3,3 0 1,1 0,-3A3,3 0 0,1 3,0Z\" style=\"opacity: 1; stroke-width: 0px; fill: rgb(99, 110, 250); fill-opacity: 1;\"/></g><g class=\"text\"/></g><g class=\"trace scatter trace3c6c9a\" style=\"stroke-miterlimit: 2; opacity: 1;\"><g class=\"fills\"/><g class=\"errorbars\"/><g class=\"lines\"><path class=\"js-line\" d=\"M45.6,188.05L294.2,19.75L542.8,300.25L791.4,188.05\" style=\"vector-effect: non-scaling-stroke; fill: none; stroke: rgb(239, 85, 59); stroke-opacity: 1; stroke-width: 2px; opacity: 1;\"/></g><g class=\"points\"><path class=\"point\" transform=\"translate(45.6,188.05)\" d=\"M3,0A3,3 0 1,1 0,-3A3,3 0 0,1 3,0Z\" style=\"opacity: 1; stroke-width: 0px; fill: rgb(239, 85, 59); fill-opacity: 1;\"/><path class=\"point\" transform=\"translate(294.2,19.75)\" d=\"M3,0A3,3 0 1,1 0,-3A3,3 0 0,1 3,0Z\" style=\"opacity: 1; stroke-width: 0px; fill: rgb(239, 85, 59); fill-opacity: 1;\"/><path class=\"point\" transform=\"translate(542.8,300.25)\" d=\"M3,0A3,3 0 1,1 0,-3A3,3 0 0,1 3,0Z\" style=\"opacity: 1; stroke-width: 0px; fill: rgb(239, 85, 59); fill-opacity: 1;\"/><path class=\"point\" transform=\"translate(791.4,188.05)\" d=\"M3,0A3,3 0 1,1 0,-3A3,3 0 0,1 3,0Z\" style=\"opacity: 1; stroke-width: 0px; fill: rgb(239, 85, 59); fill-opacity: 1;\"/></g><g class=\"text\"/></g><g class=\"trace scatter trace04b245\" style=\"stroke-miterlimit: 2; opacity: 1;\"><g class=\"fills\"/><g class=\"errorbars\"/><g class=\"lines\"><path class=\"js-line\" d=\"M45.6,188.05L294.2,75.85L542.8,131.95L791.4,300.25\" style=\"vector-effect: non-scaling-stroke; fill: none; stroke: rgb(0, 204, 150); stroke-opacity: 1; stroke-width: 2px; opacity: 1;\"/></g><g class=\"points\"><path class=\"point\" transform=\"translate(45.6,188.05)\" d=\"M3,0A3,3 0 1,1 0,-3A3,3 0 0,1 3,0Z\" style=\"opacity: 1; stroke-width: 0px; fill: rgb(0, 204, 150); fill-opacity: 1;\"/><path class=\"point\" transform=\"translate(294.2,75.85)\" d=\"M3,0A3,3 0 1,1 0,-3A3,3 0 0,1 3,0Z\" style=\"opacity: 1; stroke-width: 0px; fill: rgb(0, 204, 150); fill-opacity: 1;\"/><path class=\"point\" transform=\"translate(542.8,131.95)\" d=\"M3,0A3,3 0 1,1 0,-3A3,3 0 0,1 3,0Z\" style=\"opacity: 1; stroke-width: 0px; fill: rgb(0, 204, 150); fill-opacity: 1;\"/><path class=\"point\" transform=\"translate(791.4,300.25)\" d=\"M3,0A3,3 0 1,1 0,-3A3,3 0 0,1 3,0Z\" style=\"opacity: 1; stroke-width: 0px; fill: rgb(0, 204, 150); fill-opacity: 1;\"/></g><g class=\"text\"/></g></g></g><g class=\"overplot\"/><path class=\"xlines-above crisp\" d=\"M0,0\" style=\"fill: none;\"/><path class=\"ylines-above crisp\" d=\"M0,0\" style=\"fill: none;\"/><g class=\"overlines-above\"/><g class=\"xaxislayer-above\"><g class=\"xtick\"><text text-anchor=\"middle\" x=\"0\" y=\"433\" transform=\"translate(125.6,0)\" style=\"font-family: 'Open Sans', verdana, arial, sans-serif; font-size: 12px; fill: rgb(42, 63, 95); fill-opacity: 1; white-space: pre; opacity: 1;\"><tspan class=\"line\" dy=\"0em\" x=\"0\" y=\"433\">00:00</tspan><tspan class=\"line\" dy=\"1.3em\" x=\"0\" y=\"433\">Oct 16, 2021</tspan></text></g><g class=\"xtick\"><text text-anchor=\"middle\" x=\"0\" y=\"433\" style=\"font-family: 'Open Sans', verdana, arial, sans-serif; font-size: 12px; fill: rgb(42, 63, 95); fill-opacity: 1; white-space: pre; opacity: 1;\" transform=\"translate(249.9,0)\">12:00</text></g><g class=\"xtick\"><text text-anchor=\"middle\" x=\"0\" y=\"433\" style=\"font-family: 'Open Sans', verdana, arial, sans-serif; font-size: 12px; fill: rgb(42, 63, 95); fill-opacity: 1; white-space: pre; opacity: 1;\" transform=\"translate(374.2,0)\"><tspan class=\"line\" dy=\"0em\" x=\"0\" y=\"433\">00:00</tspan><tspan class=\"line\" dy=\"1.3em\" x=\"0\" y=\"433\">Oct 17, 2021</tspan></text></g><g class=\"xtick\"><text text-anchor=\"middle\" x=\"0\" y=\"433\" style=\"font-family: 'Open Sans', verdana, arial, sans-serif; font-size: 12px; fill: rgb(42, 63, 95); fill-opacity: 1; white-space: pre; opacity: 1;\" transform=\"translate(498.5,0)\">12:00</text></g><g class=\"xtick\"><text text-anchor=\"middle\" x=\"0\" y=\"433\" style=\"font-family: 'Open Sans', verdana, arial, sans-serif; font-size: 12px; fill: rgb(42, 63, 95); fill-opacity: 1; white-space: pre; opacity: 1;\" transform=\"translate(622.8,0)\"><tspan class=\"line\" dy=\"0em\" x=\"0\" y=\"433\">00:00</tspan><tspan class=\"line\" dy=\"1.3em\" x=\"0\" y=\"433\">Oct 18, 2021</tspan></text></g><g class=\"xtick\"><text text-anchor=\"middle\" x=\"0\" y=\"433\" style=\"font-family: 'Open Sans', verdana, arial, sans-serif; font-size: 12px; fill: rgb(42, 63, 95); fill-opacity: 1; white-space: pre; opacity: 1;\" transform=\"translate(747.1,0)\">12:00</text></g><g class=\"xtick\"><text text-anchor=\"middle\" x=\"0\" y=\"433\" style=\"font-family: 'Open Sans', verdana, arial, sans-serif; font-size: 12px; fill: rgb(42, 63, 95); fill-opacity: 1; white-space: pre; opacity: 1;\" transform=\"translate(871.4,0)\"><tspan class=\"line\" dy=\"0em\" x=\"0\" y=\"433\">00:00</tspan><tspan class=\"line\" dy=\"1.3em\" x=\"0\" y=\"433\">Oct 19, 2021</tspan></text></g></g><g class=\"yaxislayer-above\"><g class=\"ytick\"><text text-anchor=\"end\" x=\"79\" y=\"4.199999999999999\" transform=\"translate(0,400.25)\" style=\"font-family: 'Open Sans', verdana, arial, sans-serif; font-size: 12px; fill: rgb(42, 63, 95); fill-opacity: 1; white-space: pre; opacity: 1;\">0</text></g><g class=\"ytick\"><text text-anchor=\"end\" x=\"79\" y=\"4.199999999999999\" style=\"font-family: 'Open Sans', verdana, arial, sans-serif; font-size: 12px; fill: rgb(42, 63, 95); fill-opacity: 1; white-space: pre; opacity: 1;\" transform=\"translate(0,344.15)\">1</text></g><g class=\"ytick\"><text text-anchor=\"end\" x=\"79\" y=\"4.199999999999999\" style=\"font-family: 'Open Sans', verdana, arial, sans-serif; font-size: 12px; fill: rgb(42, 63, 95); fill-opacity: 1; white-space: pre; opacity: 1;\" transform=\"translate(0,288.05)\">2</text></g><g class=\"ytick\"><text text-anchor=\"end\" x=\"79\" y=\"4.199999999999999\" style=\"font-family: 'Open Sans', verdana, arial, sans-serif; font-size: 12px; fill: rgb(42, 63, 95); fill-opacity: 1; white-space: pre; opacity: 1;\" transform=\"translate(0,231.95)\">3</text></g><g class=\"ytick\"><text text-anchor=\"end\" x=\"79\" y=\"4.199999999999999\" style=\"font-family: 'Open Sans', verdana, arial, sans-serif; font-size: 12px; fill: rgb(42, 63, 95); fill-opacity: 1; white-space: pre; opacity: 1;\" transform=\"translate(0,175.85)\">4</text></g><g class=\"ytick\"><text text-anchor=\"end\" x=\"79\" y=\"4.199999999999999\" style=\"font-family: 'Open Sans', verdana, arial, sans-serif; font-size: 12px; fill: rgb(42, 63, 95); fill-opacity: 1; white-space: pre; opacity: 1;\" transform=\"translate(0,119.75)\">5</text></g></g><g class=\"overaxes-above\"/></g></g><g class=\"polarlayer\"/><g class=\"smithlayer\"/><g class=\"ternarylayer\"/><g class=\"geolayer\"/><g class=\"funnelarealayer\"/><g class=\"pielayer\"/><g class=\"iciclelayer\"/><g class=\"treemaplayer\"/><g class=\"sunburstlayer\"/><g class=\"glimages\"/><defs id=\"topdefs-5db1b0\"><g class=\"clips\"/><clipPath id=\"legend5db1b0\"><rect width=\"54\" height=\"67\" x=\"0\" y=\"0\"/></clipPath></defs><g class=\"layer-above\"><g class=\"imagelayer\"/><g class=\"shapelayer\"/></g><g class=\"infolayer\"><g class=\"legend\" pointer-events=\"all\" transform=\"translate(933.74,100)\"><rect class=\"bg\" shape-rendering=\"crispEdges\" width=\"54\" height=\"67\" x=\"0\" y=\"0\" style=\"stroke: rgb(68, 68, 68); stroke-opacity: 1; fill: rgb(255, 255, 255); fill-opacity: 1; stroke-width: 0px;\"/><g class=\"scrollbox\" transform=\"\" clip-path=\"url(#legend5db1b0)\"><g class=\"groups\"><g class=\"traces\" transform=\"translate(0,14.5)\" style=\"opacity: 1;\"><text class=\"legendtext\" text-anchor=\"start\" x=\"40\" y=\"4.680000000000001\" style=\"font-family: 'Open Sans', verdana, arial, sans-serif; font-size: 12px; fill: rgb(42, 63, 95); fill-opacity: 1; white-space: pre;\">A</text><g class=\"layers\" style=\"opacity: 1;\"><g class=\"legendfill\"/><g class=\"legendlines\"><path class=\"js-line\" d=\"M5,0h30\" style=\"fill: none; stroke: rgb(99, 110, 250); stroke-opacity: 1; stroke-width: 2px;\"/></g><g class=\"legendsymbols\"><g class=\"legendpoints\"><path class=\"scatterpts\" transform=\"translate(20,0)\" d=\"M3,0A3,3 0 1,1 0,-3A3,3 0 0,1 3,0Z\" style=\"opacity: 1; stroke-width: 0px; fill: rgb(99, 110, 250); fill-opacity: 1;\"/></g></g></g><rect class=\"legendtoggle\" x=\"0\" y=\"-9.5\" width=\"49\" height=\"19\" style=\"fill: rgb(0, 0, 0); fill-opacity: 0;\"/></g><g class=\"traces\" transform=\"translate(0,33.5)\" style=\"opacity: 1;\"><text class=\"legendtext\" text-anchor=\"start\" x=\"40\" y=\"4.680000000000001\" style=\"font-family: 'Open Sans', verdana, arial, sans-serif; font-size: 12px; fill: rgb(42, 63, 95); fill-opacity: 1; white-space: pre;\">B</text><g class=\"layers\" style=\"opacity: 1;\"><g class=\"legendfill\"/><g class=\"legendlines\"><path class=\"js-line\" d=\"M5,0h30\" style=\"fill: none; stroke: rgb(239, 85, 59); stroke-opacity: 1; stroke-width: 2px;\"/></g><g class=\"legendsymbols\"><g class=\"legendpoints\"><path class=\"scatterpts\" transform=\"translate(20,0)\" d=\"M3,0A3,3 0 1,1 0,-3A3,3 0 0,1 3,0Z\" style=\"opacity: 1; stroke-width: 0px; fill: rgb(239, 85, 59); fill-opacity: 1;\"/></g></g></g><rect class=\"legendtoggle\" x=\"0\" y=\"-9.5\" width=\"49\" height=\"19\" style=\"fill: rgb(0, 0, 0); fill-opacity: 0;\"/></g><g class=\"traces\" transform=\"translate(0,52.5)\" style=\"opacity: 1;\"><text class=\"legendtext\" text-anchor=\"start\" x=\"40\" y=\"4.680000000000001\" style=\"font-family: 'Open Sans', verdana, arial, sans-serif; font-size: 12px; fill: rgb(42, 63, 95); fill-opacity: 1; white-space: pre;\">C</text><g class=\"layers\" style=\"opacity: 1;\"><g class=\"legendfill\"/><g class=\"legendlines\"><path class=\"js-line\" d=\"M5,0h30\" style=\"fill: none; stroke: rgb(0, 204, 150); stroke-opacity: 1; stroke-width: 2px;\"/></g><g class=\"legendsymbols\"><g class=\"legendpoints\"><path class=\"scatterpts\" transform=\"translate(20,0)\" d=\"M3,0A3,3 0 1,1 0,-3A3,3 0 0,1 3,0Z\" style=\"opacity: 1; stroke-width: 0px; fill: rgb(0, 204, 150); fill-opacity: 1;\"/></g></g></g><rect class=\"legendtoggle\" x=\"0\" y=\"-9.5\" width=\"49\" height=\"19\" style=\"fill: rgb(0, 0, 0); fill-opacity: 0;\"/></g></g></g><rect class=\"scrollbar\" rx=\"20\" ry=\"3\" width=\"0\" height=\"0\" x=\"0\" y=\"0\" style=\"fill: rgb(128, 139, 164); fill-opacity: 1;\"/></g><g class=\"g-gtitle\"><text class=\"gtitle\" x=\"50\" y=\"50\" text-anchor=\"start\" dy=\"0em\" style=\"font-family: 'Open Sans', verdana, arial, sans-serif; font-size: 17px; fill: rgb(42, 63, 95); opacity: 1; font-weight: normal; white-space: pre;\">Динамика значений</text></g><g class=\"g-xtitle\"><text class=\"xtitle\" x=\"498.5\" y=\"476.409375\" text-anchor=\"middle\" style=\"font-family: 'Open Sans', verdana, arial, sans-serif; font-size: 14px; fill: rgb(42, 63, 95); opacity: 1; font-weight: normal; white-space: pre;\">Дата</text></g><g class=\"g-ytitle\"><text class=\"ytitle\" transform=\"rotate(-90,47.5125,260)\" x=\"47.5125\" y=\"260\" text-anchor=\"middle\" style=\"font-family: 'Open Sans', verdana, arial, sans-serif; font-size: 14px; fill: rgb(42, 63, 95); opacity: 1; font-weight: normal; white-space: pre;\">Количество значений</text></g></g></svg>"
      ]
     },
     "metadata": {},
     "output_type": "display_data"
    }
   ],
   "source": [
    "x_col = 'date'\n",
    "y_col = 'val_id'\n",
    "group_col = 'group'\n",
    "\n",
    "df = data.pivot_table(index=x_col, columns=group_col, values=y_col, aggfunc='nunique').fillna(0).reset_index()\n",
    "print(df.to_markdown())\n",
    "\n",
    "width = 1000\n",
    "height = 600\n",
    "title = 'Динамика значений'\n",
    "xaxis_title = \"Дата\"\n",
    "yaxis_title = 'Количество значений'\n",
    "\n",
    "\n",
    "fig = go.Figure(data=[\n",
    "    go.Scatter(x=df[x_col], y=df[group], name=group)\n",
    "    \n",
    "    for group in data[group_col].unique()\n",
    "\n",
    "])\n",
    "\n",
    "fig.update_layout(\n",
    "    width = width,\n",
    "    title=title,\n",
    "    xaxis_title=xaxis_title,\n",
    "    yaxis_title=yaxis_title\n",
    ")\n",
    "\n",
    "fig.show(renderer=\"svg\")\n",
    "# fig.show(\"notebook\")"
   ]
  },
  {
   "cell_type": "markdown",
   "metadata": {},
   "source": [
    "### Скользящее среднее"
   ]
  },
  {
   "cell_type": "code",
   "execution_count": 61,
   "metadata": {},
   "outputs": [
    {
     "data": {
      "text/html": [
       "<div>\n",
       "<style scoped>\n",
       "    .dataframe tbody tr th:only-of-type {\n",
       "        vertical-align: middle;\n",
       "    }\n",
       "\n",
       "    .dataframe tbody tr th {\n",
       "        vertical-align: top;\n",
       "    }\n",
       "\n",
       "    .dataframe thead th {\n",
       "        text-align: right;\n",
       "    }\n",
       "</style>\n",
       "<table border=\"1\" class=\"dataframe\">\n",
       "  <thead>\n",
       "    <tr style=\"text-align: right;\">\n",
       "      <th></th>\n",
       "      <th>date</th>\n",
       "      <th>value</th>\n",
       "      <th>rolling</th>\n",
       "    </tr>\n",
       "  </thead>\n",
       "  <tbody>\n",
       "    <tr>\n",
       "      <th>0</th>\n",
       "      <td>2021-09-01</td>\n",
       "      <td>47</td>\n",
       "      <td>NaN</td>\n",
       "    </tr>\n",
       "    <tr>\n",
       "      <th>1</th>\n",
       "      <td>2021-09-02</td>\n",
       "      <td>55</td>\n",
       "      <td>NaN</td>\n",
       "    </tr>\n",
       "    <tr>\n",
       "      <th>2</th>\n",
       "      <td>2021-09-03</td>\n",
       "      <td>23</td>\n",
       "      <td>NaN</td>\n",
       "    </tr>\n",
       "    <tr>\n",
       "      <th>3</th>\n",
       "      <td>2021-09-04</td>\n",
       "      <td>63</td>\n",
       "      <td>NaN</td>\n",
       "    </tr>\n",
       "    <tr>\n",
       "      <th>4</th>\n",
       "      <td>2021-09-05</td>\n",
       "      <td>15</td>\n",
       "      <td>NaN</td>\n",
       "    </tr>\n",
       "    <tr>\n",
       "      <th>5</th>\n",
       "      <td>2021-09-06</td>\n",
       "      <td>12</td>\n",
       "      <td>NaN</td>\n",
       "    </tr>\n",
       "    <tr>\n",
       "      <th>6</th>\n",
       "      <td>2021-09-07</td>\n",
       "      <td>39</td>\n",
       "      <td>36.285714</td>\n",
       "    </tr>\n",
       "    <tr>\n",
       "      <th>7</th>\n",
       "      <td>2021-09-08</td>\n",
       "      <td>46</td>\n",
       "      <td>36.142857</td>\n",
       "    </tr>\n",
       "    <tr>\n",
       "      <th>8</th>\n",
       "      <td>2021-09-09</td>\n",
       "      <td>15</td>\n",
       "      <td>30.428571</td>\n",
       "    </tr>\n",
       "    <tr>\n",
       "      <th>9</th>\n",
       "      <td>2021-09-10</td>\n",
       "      <td>90</td>\n",
       "      <td>40.000000</td>\n",
       "    </tr>\n",
       "    <tr>\n",
       "      <th>10</th>\n",
       "      <td>2021-09-11</td>\n",
       "      <td>32</td>\n",
       "      <td>35.571429</td>\n",
       "    </tr>\n",
       "    <tr>\n",
       "      <th>11</th>\n",
       "      <td>2021-09-12</td>\n",
       "      <td>39</td>\n",
       "      <td>39.000000</td>\n",
       "    </tr>\n",
       "    <tr>\n",
       "      <th>12</th>\n",
       "      <td>2021-09-13</td>\n",
       "      <td>6</td>\n",
       "      <td>38.142857</td>\n",
       "    </tr>\n",
       "    <tr>\n",
       "      <th>13</th>\n",
       "      <td>2021-09-14</td>\n",
       "      <td>2</td>\n",
       "      <td>32.857143</td>\n",
       "    </tr>\n",
       "    <tr>\n",
       "      <th>14</th>\n",
       "      <td>2021-09-15</td>\n",
       "      <td>43</td>\n",
       "      <td>32.428571</td>\n",
       "    </tr>\n",
       "  </tbody>\n",
       "</table>\n",
       "</div>"
      ],
      "text/plain": [
       "         date  value    rolling\n",
       "0  2021-09-01     47        NaN\n",
       "1  2021-09-02     55        NaN\n",
       "2  2021-09-03     23        NaN\n",
       "3  2021-09-04     63        NaN\n",
       "4  2021-09-05     15        NaN\n",
       "5  2021-09-06     12        NaN\n",
       "6  2021-09-07     39  36.285714\n",
       "7  2021-09-08     46  36.142857\n",
       "8  2021-09-09     15  30.428571\n",
       "9  2021-09-10     90  40.000000\n",
       "10 2021-09-11     32  35.571429\n",
       "11 2021-09-12     39  39.000000\n",
       "12 2021-09-13      6  38.142857\n",
       "13 2021-09-14      2  32.857143\n",
       "14 2021-09-15     43  32.428571"
      ]
     },
     "execution_count": 61,
     "metadata": {},
     "output_type": "execute_result"
    }
   ],
   "source": [
    "dates = pd.date_range(start='09/01/2021', end='10/30/2021')\n",
    "values = np.random.choice(range(100), len(dates), replace=True)\n",
    "\n",
    "rolling_df = pd.DataFrame({\n",
    "    'date': dates,\n",
    "    'value': values,\n",
    "})\n",
    "rolling_df['rolling'] = rolling_df.value.rolling(7).mean()\n",
    "\n",
    "rolling_df.head(15)"
   ]
  },
  {
   "cell_type": "code",
   "execution_count": 62,
   "metadata": {},
   "outputs": [
    {
     "data": {
      "image/svg+xml": [
       "<svg class=\"main-svg\" xmlns=\"http://www.w3.org/2000/svg\" xmlns:xlink=\"http://www.w3.org/1999/xlink\" width=\"1000\" height=\"500\" style=\"\" viewBox=\"0 0 1000 500\"><rect x=\"0\" y=\"0\" width=\"1000\" height=\"500\" style=\"fill: rgb(255, 255, 255); fill-opacity: 1;\"/><defs id=\"defs-f60248\"><g class=\"clips\"><clipPath id=\"clipf60248xyplot\" class=\"plotclip\"><rect width=\"673\" height=\"320\"/></clipPath><clipPath class=\"axesclip\" id=\"clipf60248x\"><rect x=\"80\" y=\"0\" width=\"673\" height=\"500\"/></clipPath><clipPath class=\"axesclip\" id=\"clipf60248y\"><rect x=\"0\" y=\"100\" width=\"1000\" height=\"320\"/></clipPath><clipPath class=\"axesclip\" id=\"clipf60248xy\"><rect x=\"80\" y=\"100\" width=\"673\" height=\"320\"/></clipPath></g><g class=\"gradients\"/><g class=\"patterns\"/></defs><g class=\"bglayer\"><rect class=\"bg\" x=\"80\" y=\"100\" width=\"673\" height=\"320\" style=\"fill: rgb(229, 236, 246); fill-opacity: 1; stroke-width: 0;\"/></g><g class=\"layer-below\"><g class=\"imagelayer\"/><g class=\"shapelayer\"/></g><g class=\"cartesianlayer\"><g class=\"subplot xy\"><g class=\"layer-subplot\"><g class=\"shapelayer\"/><g class=\"imagelayer\"/></g><g class=\"gridlayer\"><g class=\"x\"><path class=\"xgrid crisp\" transform=\"translate(125.63,0)\" d=\"M0,100v320\" style=\"stroke: rgb(255, 255, 255); stroke-opacity: 1; stroke-width: 1px;\"/><path class=\"xgrid crisp\" transform=\"translate(205.47,0)\" d=\"M0,100v320\" style=\"stroke: rgb(255, 255, 255); stroke-opacity: 1; stroke-width: 1px;\"/><path class=\"xgrid crisp\" transform=\"translate(285.32,0)\" d=\"M0,100v320\" style=\"stroke: rgb(255, 255, 255); stroke-opacity: 1; stroke-width: 1px;\"/><path class=\"xgrid crisp\" transform=\"translate(365.17,0)\" d=\"M0,100v320\" style=\"stroke: rgb(255, 255, 255); stroke-opacity: 1; stroke-width: 1px;\"/><path class=\"xgrid crisp\" transform=\"translate(445.02,0)\" d=\"M0,100v320\" style=\"stroke: rgb(255, 255, 255); stroke-opacity: 1; stroke-width: 1px;\"/><path class=\"xgrid crisp\" transform=\"translate(524.86,0)\" d=\"M0,100v320\" style=\"stroke: rgb(255, 255, 255); stroke-opacity: 1; stroke-width: 1px;\"/><path class=\"xgrid crisp\" transform=\"translate(604.71,0)\" d=\"M0,100v320\" style=\"stroke: rgb(255, 255, 255); stroke-opacity: 1; stroke-width: 1px;\"/><path class=\"xgrid crisp\" transform=\"translate(684.56,0)\" d=\"M0,100v320\" style=\"stroke: rgb(255, 255, 255); stroke-opacity: 1; stroke-width: 1px;\"/></g><g class=\"y\"><path class=\"ygrid crisp\" transform=\"translate(0,343.37)\" d=\"M80,0h673\" style=\"stroke: rgb(255, 255, 255); stroke-opacity: 1; stroke-width: 1px;\"/><path class=\"ygrid crisp\" transform=\"translate(0,282.74)\" d=\"M80,0h673\" style=\"stroke: rgb(255, 255, 255); stroke-opacity: 1; stroke-width: 1px;\"/><path class=\"ygrid crisp\" transform=\"translate(0,222.11)\" d=\"M80,0h673\" style=\"stroke: rgb(255, 255, 255); stroke-opacity: 1; stroke-width: 1px;\"/><path class=\"ygrid crisp\" transform=\"translate(0,161.47)\" d=\"M80,0h673\" style=\"stroke: rgb(255, 255, 255); stroke-opacity: 1; stroke-width: 1px;\"/></g></g><g class=\"zerolinelayer\"><path class=\"yzl zl crisp\" transform=\"translate(0,404)\" d=\"M80,0h673\" style=\"stroke: rgb(255, 255, 255); stroke-opacity: 1; stroke-width: 2px;\"/></g><path class=\"xlines-below\"/><path class=\"ylines-below\"/><g class=\"overlines-below\"/><g class=\"xaxislayer-below\"/><g class=\"yaxislayer-below\"/><g class=\"overaxes-below\"/><g class=\"plot\" transform=\"translate(80,100)\" clip-path=\"url(#clipf60248xyplot)\"><g class=\"scatterlayer mlayer\"><g class=\"trace scatter trace40b134\" style=\"stroke-miterlimit: 2; opacity: 1;\"><g class=\"fills\"/><g class=\"errorbars\"/><g class=\"lines\"><path class=\"js-line\" d=\"M0,161.52L11.41,137.26L22.81,234.27L34.22,113.01L45.63,258.53L57.03,267.62L68.44,185.77L79.85,164.55L91.25,258.53L102.66,31.16L114.07,206.99L125.47,185.77L136.88,285.81L148.29,297.94L159.69,173.64L171.1,37.22L182.51,282.78L193.92,164.55L205.32,300.97L216.73,300.97L228.14,285.81L239.54,167.58L250.95,194.86L262.36,243.37L273.76,16L285.17,134.23L296.58,40.25L307.98,94.82L319.39,158.48L330.8,255.49L342.2,185.77L353.61,134.23L365.02,106.95L376.42,113.01L387.83,304L399.24,185.77L410.64,228.21L422.05,58.44L433.46,116.04L444.86,173.64L456.27,131.2L467.68,234.27L479.08,179.71L490.49,291.87L501.9,282.78L513.31,267.62L524.71,37.22L536.12,49.35L547.53,304L558.93,288.84L570.34,264.59L581.75,103.92L593.15,119.07L604.56,91.79L615.97,97.85L627.37,40.25L638.78,240.34L650.19,206.99L661.59,219.12L673,216.08\" style=\"vector-effect: non-scaling-stroke; fill: none; stroke: rgb(215, 219, 221); stroke-opacity: 1; stroke-width: 2px; opacity: 1;\"/></g><g class=\"points\"/><g class=\"text\"/></g><g class=\"trace scatter trace19f051\" style=\"stroke-miterlimit: 2; opacity: 1;\"><g class=\"fills\"/><g class=\"errorbars\"/><g class=\"lines\"><path class=\"js-line\" d=\"M68.44,194L79.85,194.43L91.25,211.75L102.66,182.74L114.07,196.16L125.47,185.77L136.88,188.37L148.29,204.39L159.69,205.69L171.1,174.08L182.51,210.02L193.92,203.96L205.32,220.42L216.73,222.58L228.14,220.85L239.54,219.98L250.95,242.5L262.36,236.87L273.76,215.65L285.17,191.83L296.58,154.59L307.98,127.3L319.39,126L330.8,134.66L342.2,126.44L353.61,143.33L365.02,139.43L376.42,149.82L387.83,179.71L399.24,183.6L410.64,179.71L422.05,161.52L433.46,158.92L444.86,168.45L456.27,171.04L467.68,161.08L479.08,160.22L490.49,169.31L501.9,201.36L513.31,223.01L524.71,203.52L536.12,191.83L547.53,201.79L558.93,217.38L570.34,213.49L581.75,187.93L593.15,166.71L615.97,181.44L627.37,143.76L638.78,136.83L650.19,128.6L661.59,145.06L673,158.92\" style=\"vector-effect: non-scaling-stroke; fill: none; stroke: rgb(77, 86, 86); stroke-opacity: 1; stroke-width: 2px; opacity: 1;\"/></g><g class=\"points\"/><g class=\"text\"/></g></g></g><g class=\"overplot\"/><path class=\"xlines-above crisp\" d=\"M0,0\" style=\"fill: none;\"/><path class=\"ylines-above crisp\" d=\"M0,0\" style=\"fill: none;\"/><g class=\"overlines-above\"/><g class=\"xaxislayer-above\"><g class=\"xtick\"><text text-anchor=\"middle\" x=\"0\" y=\"433\" transform=\"translate(125.63,0)\" style=\"font-family: 'Open Sans', verdana, arial, sans-serif; font-size: 12px; fill: rgb(42, 63, 95); fill-opacity: 1; white-space: pre; opacity: 1;\"><tspan class=\"line\" dy=\"0em\" x=\"0\" y=\"433\">Sep 5</tspan><tspan class=\"line\" dy=\"1.3em\" x=\"0\" y=\"433\">2021</tspan></text></g><g class=\"xtick\"><text text-anchor=\"middle\" x=\"0\" y=\"433\" style=\"font-family: 'Open Sans', verdana, arial, sans-serif; font-size: 12px; fill: rgb(42, 63, 95); fill-opacity: 1; white-space: pre; opacity: 1;\" transform=\"translate(205.47,0)\">Sep 12</text></g><g class=\"xtick\"><text text-anchor=\"middle\" x=\"0\" y=\"433\" style=\"font-family: 'Open Sans', verdana, arial, sans-serif; font-size: 12px; fill: rgb(42, 63, 95); fill-opacity: 1; white-space: pre; opacity: 1;\" transform=\"translate(285.32,0)\">Sep 19</text></g><g class=\"xtick\"><text text-anchor=\"middle\" x=\"0\" y=\"433\" style=\"font-family: 'Open Sans', verdana, arial, sans-serif; font-size: 12px; fill: rgb(42, 63, 95); fill-opacity: 1; white-space: pre; opacity: 1;\" transform=\"translate(365.17,0)\">Sep 26</text></g><g class=\"xtick\"><text text-anchor=\"middle\" x=\"0\" y=\"433\" style=\"font-family: 'Open Sans', verdana, arial, sans-serif; font-size: 12px; fill: rgb(42, 63, 95); fill-opacity: 1; white-space: pre; opacity: 1;\" transform=\"translate(445.02,0)\">Oct 3</text></g><g class=\"xtick\"><text text-anchor=\"middle\" x=\"0\" y=\"433\" style=\"font-family: 'Open Sans', verdana, arial, sans-serif; font-size: 12px; fill: rgb(42, 63, 95); fill-opacity: 1; white-space: pre; opacity: 1;\" transform=\"translate(524.86,0)\">Oct 10</text></g><g class=\"xtick\"><text text-anchor=\"middle\" x=\"0\" y=\"433\" style=\"font-family: 'Open Sans', verdana, arial, sans-serif; font-size: 12px; fill: rgb(42, 63, 95); fill-opacity: 1; white-space: pre; opacity: 1;\" transform=\"translate(604.71,0)\">Oct 17</text></g><g class=\"xtick\"><text text-anchor=\"middle\" x=\"0\" y=\"433\" style=\"font-family: 'Open Sans', verdana, arial, sans-serif; font-size: 12px; fill: rgb(42, 63, 95); fill-opacity: 1; white-space: pre; opacity: 1;\" transform=\"translate(684.56,0)\">Oct 24</text></g></g><g class=\"yaxislayer-above\"><g class=\"ytick\"><text text-anchor=\"end\" x=\"79\" y=\"4.199999999999999\" transform=\"translate(0,404)\" style=\"font-family: 'Open Sans', verdana, arial, sans-serif; font-size: 12px; fill: rgb(42, 63, 95); fill-opacity: 1; white-space: pre; opacity: 1;\">0</text></g><g class=\"ytick\"><text text-anchor=\"end\" x=\"79\" y=\"4.199999999999999\" style=\"font-family: 'Open Sans', verdana, arial, sans-serif; font-size: 12px; fill: rgb(42, 63, 95); fill-opacity: 1; white-space: pre; opacity: 1;\" transform=\"translate(0,343.37)\">20</text></g><g class=\"ytick\"><text text-anchor=\"end\" x=\"79\" y=\"4.199999999999999\" style=\"font-family: 'Open Sans', verdana, arial, sans-serif; font-size: 12px; fill: rgb(42, 63, 95); fill-opacity: 1; white-space: pre; opacity: 1;\" transform=\"translate(0,282.74)\">40</text></g><g class=\"ytick\"><text text-anchor=\"end\" x=\"79\" y=\"4.199999999999999\" style=\"font-family: 'Open Sans', verdana, arial, sans-serif; font-size: 12px; fill: rgb(42, 63, 95); fill-opacity: 1; white-space: pre; opacity: 1;\" transform=\"translate(0,222.11)\">60</text></g><g class=\"ytick\"><text text-anchor=\"end\" x=\"79\" y=\"4.199999999999999\" style=\"font-family: 'Open Sans', verdana, arial, sans-serif; font-size: 12px; fill: rgb(42, 63, 95); fill-opacity: 1; white-space: pre; opacity: 1;\" transform=\"translate(0,161.47)\">80</text></g><g class=\"ytick\"><text text-anchor=\"end\" x=\"79\" y=\"4.199999999999999\" style=\"font-family: 'Open Sans', verdana, arial, sans-serif; font-size: 12px; fill: rgb(42, 63, 95); fill-opacity: 1; white-space: pre; opacity: 1;\" transform=\"translate(0,100.84)\">100</text></g></g><g class=\"overaxes-above\"/></g></g><g class=\"polarlayer\"/><g class=\"smithlayer\"/><g class=\"ternarylayer\"/><g class=\"geolayer\"/><g class=\"funnelarealayer\"/><g class=\"pielayer\"/><g class=\"iciclelayer\"/><g class=\"treemaplayer\"/><g class=\"sunburstlayer\"/><g class=\"glimages\"/><defs id=\"topdefs-f60248\"><g class=\"clips\"/><clipPath id=\"legendf60248\"><rect width=\"222\" height=\"48\" x=\"0\" y=\"0\"/></clipPath></defs><g class=\"layer-above\"><g class=\"imagelayer\"/><g class=\"shapelayer\"/></g><g class=\"infolayer\"><g class=\"legend\" pointer-events=\"all\" transform=\"translate(766.46,100)\"><rect class=\"bg\" shape-rendering=\"crispEdges\" style=\"stroke: rgb(68, 68, 68); stroke-opacity: 1; fill: rgb(255, 255, 255); fill-opacity: 1; stroke-width: 0px;\" width=\"222\" height=\"48\" x=\"0\" y=\"0\"/><g class=\"scrollbox\" transform=\"\" clip-path=\"url(#legendf60248)\"><g class=\"groups\"><g class=\"traces\" transform=\"translate(0,14.5)\" style=\"opacity: 1;\"><text class=\"legendtext\" text-anchor=\"start\" x=\"40\" y=\"4.680000000000001\" style=\"font-family: 'Open Sans', verdana, arial, sans-serif; font-size: 12px; fill: rgb(42, 63, 95); fill-opacity: 1; white-space: pre;\">Количество в день</text><g class=\"layers\" style=\"opacity: 1;\"><g class=\"legendfill\"/><g class=\"legendlines\"><path class=\"js-line\" d=\"M5,0h30\" style=\"fill: none; stroke: rgb(215, 219, 221); stroke-opacity: 1; stroke-width: 2px;\"/></g><g class=\"legendsymbols\"><g class=\"legendpoints\"/></g></g><rect class=\"legendtoggle\" x=\"0\" y=\"-9.5\" width=\"216.0625\" height=\"19\" style=\"fill: rgb(0, 0, 0); fill-opacity: 0;\"/></g><g class=\"traces\" transform=\"translate(0,33.5)\" style=\"opacity: 1;\"><text class=\"legendtext\" text-anchor=\"start\" x=\"40\" y=\"4.680000000000001\" style=\"font-family: 'Open Sans', verdana, arial, sans-serif; font-size: 12px; fill: rgb(42, 63, 95); fill-opacity: 1; white-space: pre;\">Среднее количество за неделю</text><g class=\"layers\" style=\"opacity: 1;\"><g class=\"legendfill\"/><g class=\"legendlines\"><path class=\"js-line\" d=\"M5,0h30\" style=\"fill: none; stroke: rgb(77, 86, 86); stroke-opacity: 1; stroke-width: 2px;\"/></g><g class=\"legendsymbols\"><g class=\"legendpoints\"/></g></g><rect class=\"legendtoggle\" x=\"0\" y=\"-9.5\" width=\"216.0625\" height=\"19\" style=\"fill: rgb(0, 0, 0); fill-opacity: 0;\"/></g></g></g><rect class=\"scrollbar\" rx=\"20\" ry=\"3\" width=\"0\" height=\"0\" style=\"fill: rgb(128, 139, 164); fill-opacity: 1;\" x=\"0\" y=\"0\"/></g><g class=\"g-gtitle\"/><g class=\"g-xtitle\"><text class=\"xtitle\" x=\"416.5\" y=\"476.409375\" text-anchor=\"middle\" style=\"font-family: 'Open Sans', verdana, arial, sans-serif; font-size: 14px; fill: rgb(42, 63, 95); opacity: 1; font-weight: normal; white-space: pre;\">Дата</text></g><g class=\"g-ytitle\"><text class=\"ytitle\" transform=\"rotate(-90,34.16875,260)\" x=\"34.16875\" y=\"260\" text-anchor=\"middle\" style=\"font-family: 'Open Sans', verdana, arial, sans-serif; font-size: 14px; fill: rgb(42, 63, 95); opacity: 1; font-weight: normal; white-space: pre;\">Количество</text></g></g></svg>"
      ]
     },
     "metadata": {},
     "output_type": "display_data"
    }
   ],
   "source": [
    "df = rolling_df\n",
    "\n",
    "x_col = 'date'\n",
    "y_col1 = 'value'\n",
    "y_col2 = 'rolling'\n",
    "\n",
    "width = 1000\n",
    "height = 600\n",
    "xaxis_title = \"Дата\"\n",
    "yaxis_title = 'Количество'\n",
    "\n",
    "\n",
    "fig = go.Figure(data=[\n",
    "    \n",
    "    go.Scatter(x=df[x_col], y=df[y_col1], marker_color='#D7DBDD', name = 'Количество в день'),\n",
    "    go.Scatter(x=df[x_col], y=df[y_col2], marker_color='#4D5656', name = 'Среднее количество за неделю'),\n",
    "\n",
    "])\n",
    "\n",
    "fig.update_layout(\n",
    "    width=width,\n",
    "    xaxis_title=xaxis_title,\n",
    "    yaxis_title=yaxis_title\n",
    ")\n",
    "\n",
    "fig.show(renderer=\"svg\")\n",
    "# fig.show(\"notebook\")"
   ]
  },
  {
   "cell_type": "markdown",
   "metadata": {},
   "source": [
    "### Вертикальные линии и выделения областей\n",
    "\n",
    "- https://plotly.com/python/horizontal-vertical-shapes/"
   ]
  },
  {
   "cell_type": "code",
   "execution_count": 73,
   "metadata": {},
   "outputs": [
    {
     "data": {
      "image/svg+xml": [
       "<svg class=\"main-svg\" xmlns=\"http://www.w3.org/2000/svg\" xmlns:xlink=\"http://www.w3.org/1999/xlink\" width=\"1000\" height=\"600\" style=\"\" viewBox=\"0 0 1000 600\"><rect x=\"0\" y=\"0\" width=\"1000\" height=\"600\" style=\"fill: rgb(255, 255, 255); fill-opacity: 1;\"/><defs id=\"defs-addd54\"><g class=\"clips\"><clipPath id=\"clipaddd54xyplot\" class=\"plotclip\"><rect width=\"673\" height=\"420\"/></clipPath><clipPath class=\"axesclip\" id=\"clipaddd54x\"><rect x=\"80\" y=\"0\" width=\"673\" height=\"600\"/></clipPath><clipPath class=\"axesclip\" id=\"clipaddd54y\"><rect x=\"0\" y=\"100\" width=\"1000\" height=\"420\"/></clipPath><clipPath class=\"axesclip\" id=\"clipaddd54xy\"><rect x=\"80\" y=\"100\" width=\"673\" height=\"420\"/></clipPath></g><g class=\"gradients\"/><g class=\"patterns\"/></defs><g class=\"bglayer\"><rect class=\"bg\" x=\"80\" y=\"100\" width=\"673\" height=\"420\" style=\"fill: rgb(229, 236, 246); fill-opacity: 1; stroke-width: 0;\"/></g><g class=\"layer-below\"><g class=\"imagelayer\"/><g class=\"shapelayer\"/></g><g class=\"cartesianlayer\"><g class=\"subplot xy\"><g class=\"layer-subplot\"><g class=\"shapelayer\"/><g class=\"imagelayer\"/></g><g class=\"gridlayer\"><g class=\"x\"><path class=\"xgrid crisp\" transform=\"translate(125.63,0)\" d=\"M0,100v420\" style=\"stroke: rgb(255, 255, 255); stroke-opacity: 1; stroke-width: 1px;\"/><path class=\"xgrid crisp\" transform=\"translate(205.47,0)\" d=\"M0,100v420\" style=\"stroke: rgb(255, 255, 255); stroke-opacity: 1; stroke-width: 1px;\"/><path class=\"xgrid crisp\" transform=\"translate(285.32,0)\" d=\"M0,100v420\" style=\"stroke: rgb(255, 255, 255); stroke-opacity: 1; stroke-width: 1px;\"/><path class=\"xgrid crisp\" transform=\"translate(365.17,0)\" d=\"M0,100v420\" style=\"stroke: rgb(255, 255, 255); stroke-opacity: 1; stroke-width: 1px;\"/><path class=\"xgrid crisp\" transform=\"translate(445.02,0)\" d=\"M0,100v420\" style=\"stroke: rgb(255, 255, 255); stroke-opacity: 1; stroke-width: 1px;\"/><path class=\"xgrid crisp\" transform=\"translate(524.86,0)\" d=\"M0,100v420\" style=\"stroke: rgb(255, 255, 255); stroke-opacity: 1; stroke-width: 1px;\"/><path class=\"xgrid crisp\" transform=\"translate(604.71,0)\" d=\"M0,100v420\" style=\"stroke: rgb(255, 255, 255); stroke-opacity: 1; stroke-width: 1px;\"/><path class=\"xgrid crisp\" transform=\"translate(684.56,0)\" d=\"M0,100v420\" style=\"stroke: rgb(255, 255, 255); stroke-opacity: 1; stroke-width: 1px;\"/></g><g class=\"y\"><path class=\"ygrid crisp\" transform=\"translate(0,419.42)\" d=\"M80,0h673\" style=\"stroke: rgb(255, 255, 255); stroke-opacity: 1; stroke-width: 1px;\"/><path class=\"ygrid crisp\" transform=\"translate(0,339.84000000000003)\" d=\"M80,0h673\" style=\"stroke: rgb(255, 255, 255); stroke-opacity: 1; stroke-width: 1px;\"/><path class=\"ygrid crisp\" transform=\"translate(0,260.26)\" d=\"M80,0h673\" style=\"stroke: rgb(255, 255, 255); stroke-opacity: 1; stroke-width: 1px;\"/><path class=\"ygrid crisp\" transform=\"translate(0,180.68)\" d=\"M80,0h673\" style=\"stroke: rgb(255, 255, 255); stroke-opacity: 1; stroke-width: 1px;\"/><path class=\"ygrid crisp\" transform=\"translate(0,101.11)\" d=\"M80,0h673\" style=\"stroke: rgb(255, 255, 255); stroke-opacity: 1; stroke-width: 1px;\"/></g></g><g class=\"zerolinelayer\"><path class=\"yzl zl crisp\" transform=\"translate(0,499)\" d=\"M80,0h673\" style=\"stroke: rgb(255, 255, 255); stroke-opacity: 1; stroke-width: 2px;\"/></g><path class=\"xlines-below\"/><path class=\"ylines-below\"/><g class=\"overlines-below\"/><g class=\"xaxislayer-below\"/><g class=\"yaxislayer-below\"/><g class=\"overaxes-below\"/><g class=\"plot\" transform=\"translate(80,100)\" clip-path=\"url(#clipaddd54xyplot)\"><g class=\"scatterlayer mlayer\"><g class=\"trace scatter tracef1a478\" style=\"stroke-miterlimit: 2; opacity: 1;\"><g class=\"fills\"/><g class=\"errorbars\"/><g class=\"lines\"><path class=\"js-line\" d=\"M0,211.99L11.41,180.16L22.81,307.48L34.22,148.33L45.63,339.32L57.03,351.25L68.44,243.82L79.85,215.97L91.25,339.32L102.66,40.89L114.07,271.67L125.47,243.82L136.88,375.13L148.29,391.04L159.69,227.91L171.1,48.85L182.51,371.15L193.92,215.97L205.32,395.02L216.73,395.02L228.14,375.13L239.54,219.95L250.95,255.76L262.36,319.42L273.76,21L285.17,176.18L296.58,52.83L307.98,124.45L319.39,208.01L330.8,335.34L342.2,243.82L353.61,176.18L365.02,140.37L376.42,148.33L387.83,399L399.24,243.82L410.64,299.53L422.05,76.71L433.46,152.31L444.86,227.91L456.27,172.2L467.68,307.48L479.08,235.86L490.49,383.08L501.9,371.15L513.31,351.25L524.71,48.85L536.12,64.77L547.53,399L558.93,379.11L570.34,347.27L581.75,136.39L593.15,156.28L604.56,120.47L615.97,128.43L627.37,52.83L638.78,315.44L650.19,271.67L661.59,287.59L673,283.61\" style=\"vector-effect: non-scaling-stroke; fill: none; stroke: rgb(215, 219, 221); stroke-opacity: 1; stroke-width: 2px; opacity: 1;\"/></g><g class=\"points\"/><g class=\"text\"/></g><g class=\"trace scatter traceb41dbd\" style=\"stroke-miterlimit: 2; opacity: 1;\"><g class=\"fills\"/><g class=\"errorbars\"/><g class=\"lines\"><path class=\"js-line\" d=\"M68.44,254.62L79.85,255.19L91.25,277.93L102.66,239.84L114.07,257.46L125.47,243.82L136.88,247.23L148.29,268.26L159.69,269.97L171.1,228.47L182.51,275.65L193.92,267.69L205.32,289.29L216.73,292.14L228.14,289.86L239.54,288.73L250.95,318.28L262.36,310.89L273.76,283.04L285.17,251.78L296.58,202.89L307.98,167.08L319.39,165.38L330.8,176.75L342.2,165.95L353.61,188.12L365.02,183L376.42,196.64L387.83,235.86L399.24,240.98L410.64,235.86L422.05,211.99L433.46,208.58L444.86,221.08L456.27,224.49L467.68,211.42L479.08,210.28L490.49,222.22L501.9,264.28L513.31,292.71L524.71,267.13L536.12,251.78L547.53,264.85L558.93,285.32L570.34,280.2L581.75,246.66L593.15,218.81L604.56,229.04L615.97,238.14L627.37,188.68L638.78,179.59L650.19,168.79L661.59,190.39L673,208.58\" style=\"vector-effect: non-scaling-stroke; fill: none; stroke: rgb(77, 86, 86); stroke-opacity: 1; stroke-width: 2px; opacity: 1;\"/></g><g class=\"points\"/><g class=\"text\"/></g></g></g><g class=\"overplot\"/><path class=\"xlines-above crisp\" d=\"M0,0\" style=\"fill: none;\"/><path class=\"ylines-above crisp\" d=\"M0,0\" style=\"fill: none;\"/><g class=\"overlines-above\"/><g class=\"xaxislayer-above\"><g class=\"xtick\"><text text-anchor=\"middle\" x=\"0\" y=\"533\" transform=\"translate(125.63,0)\" style=\"font-family: 'Open Sans', verdana, arial, sans-serif; font-size: 12px; fill: rgb(42, 63, 95); fill-opacity: 1; white-space: pre; opacity: 1;\"><tspan class=\"line\" dy=\"0em\" x=\"0\" y=\"533\">Sep 5</tspan><tspan class=\"line\" dy=\"1.3em\" x=\"0\" y=\"533\">2021</tspan></text></g><g class=\"xtick\"><text text-anchor=\"middle\" x=\"0\" y=\"533\" style=\"font-family: 'Open Sans', verdana, arial, sans-serif; font-size: 12px; fill: rgb(42, 63, 95); fill-opacity: 1; white-space: pre; opacity: 1;\" transform=\"translate(205.47,0)\">Sep 12</text></g><g class=\"xtick\"><text text-anchor=\"middle\" x=\"0\" y=\"533\" style=\"font-family: 'Open Sans', verdana, arial, sans-serif; font-size: 12px; fill: rgb(42, 63, 95); fill-opacity: 1; white-space: pre; opacity: 1;\" transform=\"translate(285.32,0)\">Sep 19</text></g><g class=\"xtick\"><text text-anchor=\"middle\" x=\"0\" y=\"533\" style=\"font-family: 'Open Sans', verdana, arial, sans-serif; font-size: 12px; fill: rgb(42, 63, 95); fill-opacity: 1; white-space: pre; opacity: 1;\" transform=\"translate(365.17,0)\">Sep 26</text></g><g class=\"xtick\"><text text-anchor=\"middle\" x=\"0\" y=\"533\" style=\"font-family: 'Open Sans', verdana, arial, sans-serif; font-size: 12px; fill: rgb(42, 63, 95); fill-opacity: 1; white-space: pre; opacity: 1;\" transform=\"translate(445.02,0)\">Oct 3</text></g><g class=\"xtick\"><text text-anchor=\"middle\" x=\"0\" y=\"533\" style=\"font-family: 'Open Sans', verdana, arial, sans-serif; font-size: 12px; fill: rgb(42, 63, 95); fill-opacity: 1; white-space: pre; opacity: 1;\" transform=\"translate(524.86,0)\">Oct 10</text></g><g class=\"xtick\"><text text-anchor=\"middle\" x=\"0\" y=\"533\" style=\"font-family: 'Open Sans', verdana, arial, sans-serif; font-size: 12px; fill: rgb(42, 63, 95); fill-opacity: 1; white-space: pre; opacity: 1;\" transform=\"translate(604.71,0)\">Oct 17</text></g><g class=\"xtick\"><text text-anchor=\"middle\" x=\"0\" y=\"533\" style=\"font-family: 'Open Sans', verdana, arial, sans-serif; font-size: 12px; fill: rgb(42, 63, 95); fill-opacity: 1; white-space: pre; opacity: 1;\" transform=\"translate(684.56,0)\">Oct 24</text></g></g><g class=\"yaxislayer-above\"><g class=\"ytick\"><text text-anchor=\"end\" x=\"79\" y=\"4.199999999999999\" transform=\"translate(0,499)\" style=\"font-family: 'Open Sans', verdana, arial, sans-serif; font-size: 12px; fill: rgb(42, 63, 95); fill-opacity: 1; white-space: pre; opacity: 1;\">0</text></g><g class=\"ytick\"><text text-anchor=\"end\" x=\"79\" y=\"4.199999999999999\" style=\"font-family: 'Open Sans', verdana, arial, sans-serif; font-size: 12px; fill: rgb(42, 63, 95); fill-opacity: 1; white-space: pre; opacity: 1;\" transform=\"translate(0,419.42)\">20</text></g><g class=\"ytick\"><text text-anchor=\"end\" x=\"79\" y=\"4.199999999999999\" style=\"font-family: 'Open Sans', verdana, arial, sans-serif; font-size: 12px; fill: rgb(42, 63, 95); fill-opacity: 1; white-space: pre; opacity: 1;\" transform=\"translate(0,339.84000000000003)\">40</text></g><g class=\"ytick\"><text text-anchor=\"end\" x=\"79\" y=\"4.199999999999999\" style=\"font-family: 'Open Sans', verdana, arial, sans-serif; font-size: 12px; fill: rgb(42, 63, 95); fill-opacity: 1; white-space: pre; opacity: 1;\" transform=\"translate(0,260.26)\">60</text></g><g class=\"ytick\"><text text-anchor=\"end\" x=\"79\" y=\"4.199999999999999\" style=\"font-family: 'Open Sans', verdana, arial, sans-serif; font-size: 12px; fill: rgb(42, 63, 95); fill-opacity: 1; white-space: pre; opacity: 1;\" transform=\"translate(0,180.68)\">80</text></g><g class=\"ytick\"><text text-anchor=\"end\" x=\"79\" y=\"4.199999999999999\" style=\"font-family: 'Open Sans', verdana, arial, sans-serif; font-size: 12px; fill: rgb(42, 63, 95); fill-opacity: 1; white-space: pre; opacity: 1;\" transform=\"translate(0,101.11)\">100</text></g></g><g class=\"overaxes-above\"/></g></g><g class=\"polarlayer\"/><g class=\"smithlayer\"/><g class=\"ternarylayer\"/><g class=\"geolayer\"/><g class=\"funnelarealayer\"/><g class=\"pielayer\"/><g class=\"iciclelayer\"/><g class=\"treemaplayer\"/><g class=\"sunburstlayer\"/><g class=\"glimages\"/><defs id=\"topdefs-addd54\"><g class=\"clips\"/><clipPath id=\"legendaddd54\"><rect width=\"222\" height=\"48\" x=\"0\" y=\"0\"/></clipPath></defs><g class=\"layer-above\"><g class=\"imagelayer\"/><g class=\"shapelayer\"><path data-index=\"0\" fill-rule=\"evenodd\" d=\"M251.1,520H251.1V100H251.1Z\" clip-path=\"url(#clipaddd54x)\" style=\"opacity: 1; stroke: rgb(0, 128, 0); stroke-opacity: 1; fill: rgb(0, 0, 0); fill-opacity: 0; stroke-dasharray: 9px, 9px; stroke-width: 1px;\"/><path data-index=\"1\" fill-rule=\"evenodd\" d=\"M524.86,520H604.71V100H524.86Z\" clip-path=\"url(#clipaddd54x)\" style=\"opacity: 0.25; stroke: rgb(0, 0, 0); stroke-opacity: 0; fill: rgb(0, 128, 0); fill-opacity: 1; stroke-width: 0px;\"/><path data-index=\"2\" fill-rule=\"evenodd\" d=\"M80,499H753V419.42H80Z\" clip-path=\"url(#clipaddd54y)\" style=\"opacity: 0.25; stroke: rgb(0, 0, 0); stroke-opacity: 0; fill: rgb(255, 0, 0); fill-opacity: 1; stroke-width: 0px;\"/></g></g><g class=\"infolayer\"><g class=\"legend\" pointer-events=\"all\" transform=\"translate(766.46,100)\"><rect class=\"bg\" shape-rendering=\"crispEdges\" width=\"222\" height=\"48\" x=\"0\" y=\"0\" style=\"stroke: rgb(68, 68, 68); stroke-opacity: 1; fill: rgb(255, 255, 255); fill-opacity: 1; stroke-width: 0px;\"/><g class=\"scrollbox\" transform=\"\" clip-path=\"url(#legendaddd54)\"><g class=\"groups\"><g class=\"traces\" transform=\"translate(0,14.5)\" style=\"opacity: 1;\"><text class=\"legendtext\" text-anchor=\"start\" x=\"40\" y=\"4.680000000000001\" style=\"font-family: 'Open Sans', verdana, arial, sans-serif; font-size: 12px; fill: rgb(42, 63, 95); fill-opacity: 1; white-space: pre;\">Количество в день</text><g class=\"layers\" style=\"opacity: 1;\"><g class=\"legendfill\"/><g class=\"legendlines\"><path class=\"js-line\" d=\"M5,0h30\" style=\"fill: none; stroke: rgb(215, 219, 221); stroke-opacity: 1; stroke-width: 2px;\"/></g><g class=\"legendsymbols\"><g class=\"legendpoints\"/></g></g><rect class=\"legendtoggle\" x=\"0\" y=\"-9.5\" width=\"216.0625\" height=\"19\" style=\"fill: rgb(0, 0, 0); fill-opacity: 0;\"/></g><g class=\"traces\" transform=\"translate(0,33.5)\" style=\"opacity: 1;\"><text class=\"legendtext\" text-anchor=\"start\" x=\"40\" y=\"4.680000000000001\" style=\"font-family: 'Open Sans', verdana, arial, sans-serif; font-size: 12px; fill: rgb(42, 63, 95); fill-opacity: 1; white-space: pre;\">Среднее количество за неделю</text><g class=\"layers\" style=\"opacity: 1;\"><g class=\"legendfill\"/><g class=\"legendlines\"><path class=\"js-line\" d=\"M5,0h30\" style=\"fill: none; stroke: rgb(77, 86, 86); stroke-opacity: 1; stroke-width: 2px;\"/></g><g class=\"legendsymbols\"><g class=\"legendpoints\"/></g></g><rect class=\"legendtoggle\" x=\"0\" y=\"-9.5\" width=\"216.0625\" height=\"19\" style=\"fill: rgb(0, 0, 0); fill-opacity: 0;\"/></g></g></g><rect class=\"scrollbar\" rx=\"20\" ry=\"3\" width=\"0\" height=\"0\" x=\"0\" y=\"0\" style=\"fill: rgb(128, 139, 164); fill-opacity: 1;\"/></g><g class=\"g-gtitle\"/><g class=\"g-xtitle\"><text class=\"xtitle\" x=\"416.5\" y=\"576.409375\" text-anchor=\"middle\" style=\"font-family: 'Open Sans', verdana, arial, sans-serif; font-size: 14px; fill: rgb(42, 63, 95); opacity: 1; font-weight: normal; white-space: pre;\">Дата</text></g><g class=\"g-ytitle\"><text class=\"ytitle\" transform=\"rotate(-90,34.16875,310)\" x=\"34.16875\" y=\"310\" text-anchor=\"middle\" style=\"font-family: 'Open Sans', verdana, arial, sans-serif; font-size: 14px; fill: rgb(42, 63, 95); opacity: 1; font-weight: normal; white-space: pre;\">Количество</text></g><g class=\"annotation\" data-index=\"0\" style=\"opacity: 1;\"><g class=\"annotation-text-g\" transform=\"rotate(0,197.1,109)\"><g class=\"cursor-pointer\" transform=\"translate(143,100)\"><rect class=\"bg\" x=\"0.5\" y=\"0.5\" width=\"107\" height=\"17\" style=\"stroke-width: 1px; stroke: rgb(0, 0, 0); stroke-opacity: 0; fill: rgb(0, 0, 0); fill-opacity: 0;\"/><text class=\"annotation-text\" text-anchor=\"middle\" x=\"53.765625\" y=\"13\" style=\"font-family: 'Open Sans', verdana, arial, sans-serif; font-size: 12px; fill: rgb(42, 63, 95); fill-opacity: 1; white-space: pre;\">Началальная дата</text></g></g></g><g class=\"annotation\" data-index=\"1\" style=\"opacity: 1;\"><g class=\"annotation-text-g\" transform=\"rotate(0,564.71,109)\"><g class=\"cursor-pointer\" transform=\"translate(525,100)\"><rect class=\"bg\" x=\"0.5\" y=\"0.5\" width=\"79\" height=\"17\" style=\"stroke-width: 1px; stroke: rgb(0, 0, 0); stroke-opacity: 0; fill: rgb(0, 0, 0); fill-opacity: 0;\"/><text class=\"annotation-text\" text-anchor=\"middle\" x=\"39.84375\" y=\"13\" style=\"font-family: 'Open Sans', verdana, arial, sans-serif; font-size: 12px; fill: rgb(42, 63, 95); fill-opacity: 1; white-space: pre;\">Зеленая зона</text></g></g></g><g class=\"annotation\" data-index=\"2\" style=\"opacity: 1;\"><g class=\"annotation-text-g\" transform=\"rotate(0,713.5,428.42)\"><g class=\"cursor-pointer\" transform=\"translate(674,419)\"><rect class=\"bg\" x=\"0.5\" y=\"0.5\" width=\"78\" height=\"17\" style=\"stroke-width: 1px; stroke: rgb(0, 0, 0); stroke-opacity: 0; fill: rgb(0, 0, 0); fill-opacity: 0;\"/><text class=\"annotation-text\" text-anchor=\"middle\" x=\"39.40625\" y=\"13\" style=\"font-family: 'Open Sans', verdana, arial, sans-serif; font-size: 12px; fill: rgb(42, 63, 95); fill-opacity: 1; white-space: pre;\">Красная зона</text></g></g></g></g></svg>"
      ]
     },
     "metadata": {},
     "output_type": "display_data"
    }
   ],
   "source": [
    "df = rolling_df\n",
    "\n",
    "x_col = 'date'\n",
    "y_col1 = 'value'\n",
    "y_col2 = 'rolling'\n",
    "\n",
    "width = 1000\n",
    "height = 600\n",
    "xaxis_title = \"Дата\"\n",
    "yaxis_title = 'Количество'\n",
    "\n",
    "fig = go.Figure(data=[\n",
    "    go.Scatter(x=df[x_col], y=df[y_col1], marker_color='#D7DBDD', name = 'Количество в день'),\n",
    "    go.Scatter(x=df[x_col], y=df[y_col2], marker_color='#4D5656', name = 'Среднее количество за неделю')\n",
    "])\n",
    "\n",
    "fig.update_layout(\n",
    "    width=width,\n",
    "    height = height,\n",
    "    xaxis_title=xaxis_title,\n",
    "    yaxis_title=yaxis_title\n",
    ")\n",
    "\n",
    "fig.add_vrect(\n",
    "    x0='2021-09-16', \n",
    "    x1='2021-09-16',\n",
    "    line_width=1, \n",
    "    line_dash=\"dash\", \n",
    "    line_color=\"green\",\n",
    "    annotation_text=\"Началальная дата\",\n",
    "\n",
    ")\n",
    "\n",
    "\n",
    "fig.add_vrect(\n",
    "    x0='2021-10-10', \n",
    "    x1='2021-10-17', \n",
    "    fillcolor=\"green\", \n",
    "    opacity=0.25, \n",
    "    line_width=0,\n",
    "    annotation_text=\"Зеленая зона\",\n",
    "\n",
    ")\n",
    "\n",
    "fig.add_hrect(\n",
    "    y0=0, \n",
    "    y1=20,\n",
    "    fillcolor=\"red\",\n",
    "    opacity=0.25, \n",
    "    line_width=0,\n",
    "    annotation_text=\"Красная зона\",\n",
    "\n",
    ")\n",
    "\n",
    "fig.show(renderer=\"svg\")\n",
    "# fig.show(\"notebook\")"
   ]
  },
  {
   "cell_type": "markdown",
   "metadata": {},
   "source": [
    "### Горизонтальные линии и разноцветные маркеры"
   ]
  },
  {
   "cell_type": "code",
   "execution_count": null,
   "metadata": {},
   "outputs": [],
   "source": []
  },
  {
   "cell_type": "markdown",
   "metadata": {},
   "source": [
    "## Визуализация деревьев"
   ]
  },
  {
   "cell_type": "markdown",
   "metadata": {},
   "source": [
    "### Пример из документации Plotly\n",
    "https://plotly.com/python/tree-plots/"
   ]
  },
  {
   "cell_type": "code",
   "execution_count": 64,
   "metadata": {},
   "outputs": [],
   "source": [
    "import igraph\n",
    "from igraph import Graph, EdgeSeq"
   ]
  },
  {
   "cell_type": "code",
   "execution_count": 65,
   "metadata": {},
   "outputs": [],
   "source": [
    "nr_vertices = 25\n",
    "v_label = list(map(str, range(nr_vertices)))\n",
    "G = Graph.Tree(nr_vertices, 2) # 2 stands for children number\n",
    "lay = G.layout('rt')\n",
    "\n",
    "position = {k: lay[k] for k in range(nr_vertices)}\n",
    "Y = [lay[k][1] for k in range(nr_vertices)]\n",
    "M = max(Y)\n",
    "\n",
    "es = EdgeSeq(G) # sequence of edges\n",
    "E = [e.tuple for e in G.es] # list of edges\n",
    "\n",
    "L = len(position)\n",
    "Xn = [position[k][0] for k in range(L)]\n",
    "Yn = [2*M-position[k][1] for k in range(L)]\n",
    "Xe = []\n",
    "Ye = []\n",
    "for edge in E:\n",
    "    Xe+=[position[edge[0]][0],position[edge[1]][0], None]\n",
    "    Ye+=[2*M-position[edge[0]][1],2*M-position[edge[1]][1], None]\n",
    "\n",
    "labels = v_label"
   ]
  },
  {
   "cell_type": "code",
   "execution_count": 66,
   "metadata": {},
   "outputs": [
    {
     "data": {
      "image/svg+xml": [
       "<svg class=\"main-svg\" xmlns=\"http://www.w3.org/2000/svg\" xmlns:xlink=\"http://www.w3.org/1999/xlink\" width=\"700\" height=\"500\" style=\"\" viewBox=\"0 0 700 500\"><rect x=\"0\" y=\"0\" width=\"700\" height=\"500\" style=\"fill: rgb(255, 255, 255); fill-opacity: 1;\"/><defs id=\"defs-9988f5\"><g class=\"clips\"><clipPath id=\"clip9988f5xyplot\" class=\"plotclip\"><rect width=\"515\" height=\"320\"/></clipPath><clipPath class=\"axesclip\" id=\"clip9988f5x\"><rect x=\"80\" y=\"0\" width=\"515\" height=\"500\"/></clipPath><clipPath class=\"axesclip\" id=\"clip9988f5y\"><rect x=\"0\" y=\"100\" width=\"700\" height=\"320\"/></clipPath><clipPath class=\"axesclip\" id=\"clip9988f5xy\"><rect x=\"80\" y=\"100\" width=\"515\" height=\"320\"/></clipPath></g><g class=\"gradients\"/><g class=\"patterns\"/></defs><g class=\"bglayer\"><rect class=\"bg\" x=\"80\" y=\"100\" width=\"515\" height=\"320\" style=\"fill: rgb(229, 236, 246); fill-opacity: 1; stroke-width: 0;\"/></g><g class=\"layer-below\"><g class=\"imagelayer\"/><g class=\"shapelayer\"/></g><g class=\"cartesianlayer\"><g class=\"subplot xy\"><g class=\"layer-subplot\"><g class=\"shapelayer\"/><g class=\"imagelayer\"/></g><g class=\"gridlayer\"><g class=\"x\"><path class=\"xgrid crisp\" transform=\"translate(145.76,0)\" d=\"M0,100v320\" style=\"stroke: rgb(255, 255, 255); stroke-opacity: 1; stroke-width: 1px;\"/><path class=\"xgrid crisp\" transform=\"translate(222.46,0)\" d=\"M0,100v320\" style=\"stroke: rgb(255, 255, 255); stroke-opacity: 1; stroke-width: 1px;\"/><path class=\"xgrid crisp\" transform=\"translate(299.15,0)\" d=\"M0,100v320\" style=\"stroke: rgb(255, 255, 255); stroke-opacity: 1; stroke-width: 1px;\"/><path class=\"xgrid crisp\" transform=\"translate(452.54,0)\" d=\"M0,100v320\" style=\"stroke: rgb(255, 255, 255); stroke-opacity: 1; stroke-width: 1px;\"/><path class=\"xgrid crisp\" transform=\"translate(529.24,0)\" d=\"M0,100v320\" style=\"stroke: rgb(255, 255, 255); stroke-opacity: 1; stroke-width: 1px;\"/></g><g class=\"y\"><path class=\"ygrid crisp\" transform=\"translate(0,392.75)\" d=\"M80,0h515\" style=\"stroke: rgb(255, 255, 255); stroke-opacity: 1; stroke-width: 1px;\"/><path class=\"ygrid crisp\" transform=\"translate(0,326.37)\" d=\"M80,0h515\" style=\"stroke: rgb(255, 255, 255); stroke-opacity: 1; stroke-width: 1px;\"/><path class=\"ygrid crisp\" transform=\"translate(0,260)\" d=\"M80,0h515\" style=\"stroke: rgb(255, 255, 255); stroke-opacity: 1; stroke-width: 1px;\"/><path class=\"ygrid crisp\" transform=\"translate(0,193.63)\" d=\"M80,0h515\" style=\"stroke: rgb(255, 255, 255); stroke-opacity: 1; stroke-width: 1px;\"/><path class=\"ygrid crisp\" transform=\"translate(0,127.25)\" d=\"M80,0h515\" style=\"stroke: rgb(255, 255, 255); stroke-opacity: 1; stroke-width: 1px;\"/></g></g><g class=\"zerolinelayer\"><path class=\"xzl zl crisp\" transform=\"translate(375.85,0)\" d=\"M0,100v320\" style=\"stroke: rgb(255, 255, 255); stroke-opacity: 1; stroke-width: 2px;\"/></g><path class=\"xlines-below\"/><path class=\"ylines-below\"/><g class=\"overlines-below\"/><g class=\"xaxislayer-below\"/><g class=\"yaxislayer-below\"/><g class=\"overaxes-below\"/><g class=\"plot\" transform=\"translate(80,100)\" clip-path=\"url(#clip9988f5xyplot)\"><g class=\"scatterlayer mlayer\"><g class=\"trace scatter tracee8daa8\" style=\"stroke-miterlimit: 2; opacity: 1;\"><g class=\"fills\"/><g class=\"errorbars\"/><g class=\"lines\"><path class=\"js-line\" d=\"M295.85,27.25L171.22,93.63\" style=\"vector-effect: non-scaling-stroke; fill: none; stroke: rgb(210, 210, 210); stroke-opacity: 1; stroke-width: 1px; opacity: 1;\"/><path class=\"js-line\" d=\"M295.85,27.25L420.48,93.63\" style=\"vector-effect: non-scaling-stroke; fill: none; stroke: rgb(210, 210, 210); stroke-opacity: 1; stroke-width: 1px; opacity: 1;\"/><path class=\"js-line\" d=\"M171.22,93.63L94.52,160\" style=\"vector-effect: non-scaling-stroke; fill: none; stroke: rgb(210, 210, 210); stroke-opacity: 1; stroke-width: 1px; opacity: 1;\"/><path class=\"js-line\" d=\"M171.22,93.63L247.91,160\" style=\"vector-effect: non-scaling-stroke; fill: none; stroke: rgb(210, 210, 210); stroke-opacity: 1; stroke-width: 1px; opacity: 1;\"/><path class=\"js-line\" d=\"M420.48,93.63L382.13,160\" style=\"vector-effect: non-scaling-stroke; fill: none; stroke: rgb(210, 210, 210); stroke-opacity: 1; stroke-width: 1px; opacity: 1;\"/><path class=\"js-line\" d=\"M420.48,93.63L458.83,160\" style=\"vector-effect: non-scaling-stroke; fill: none; stroke: rgb(210, 210, 210); stroke-opacity: 1; stroke-width: 1px; opacity: 1;\"/><path class=\"js-line\" d=\"M94.52,160L56.17,226.37\" style=\"vector-effect: non-scaling-stroke; fill: none; stroke: rgb(210, 210, 210); stroke-opacity: 1; stroke-width: 1px; opacity: 1;\"/><path class=\"js-line\" d=\"M94.52,160L132.87,226.37\" style=\"vector-effect: non-scaling-stroke; fill: none; stroke: rgb(210, 210, 210); stroke-opacity: 1; stroke-width: 1px; opacity: 1;\"/><path class=\"js-line\" d=\"M247.91,160L209.57,226.37\" style=\"vector-effect: non-scaling-stroke; fill: none; stroke: rgb(210, 210, 210); stroke-opacity: 1; stroke-width: 1px; opacity: 1;\"/><path class=\"js-line\" d=\"M247.91,160L286.26,226.37\" style=\"vector-effect: non-scaling-stroke; fill: none; stroke: rgb(210, 210, 210); stroke-opacity: 1; stroke-width: 1px; opacity: 1;\"/><path class=\"js-line\" d=\"M382.13,160L362.96,226.37\" style=\"vector-effect: non-scaling-stroke; fill: none; stroke: rgb(210, 210, 210); stroke-opacity: 1; stroke-width: 1px; opacity: 1;\"/><path class=\"js-line\" d=\"M382.13,160L401.3,226.37\" style=\"vector-effect: non-scaling-stroke; fill: none; stroke: rgb(210, 210, 210); stroke-opacity: 1; stroke-width: 1px; opacity: 1;\"/><path class=\"js-line\" d=\"M458.83,160L439.65,226.37\" style=\"vector-effect: non-scaling-stroke; fill: none; stroke: rgb(210, 210, 210); stroke-opacity: 1; stroke-width: 1px; opacity: 1;\"/><path class=\"js-line\" d=\"M458.83,160L478,226.37\" style=\"vector-effect: non-scaling-stroke; fill: none; stroke: rgb(210, 210, 210); stroke-opacity: 1; stroke-width: 1px; opacity: 1;\"/><path class=\"js-line\" d=\"M56.17,226.37L37,292.75\" style=\"vector-effect: non-scaling-stroke; fill: none; stroke: rgb(210, 210, 210); stroke-opacity: 1; stroke-width: 1px; opacity: 1;\"/><path class=\"js-line\" d=\"M56.17,226.37L75.35,292.75\" style=\"vector-effect: non-scaling-stroke; fill: none; stroke: rgb(210, 210, 210); stroke-opacity: 1; stroke-width: 1px; opacity: 1;\"/><path class=\"js-line\" d=\"M132.87,226.37L113.7,292.75\" style=\"vector-effect: non-scaling-stroke; fill: none; stroke: rgb(210, 210, 210); stroke-opacity: 1; stroke-width: 1px; opacity: 1;\"/><path class=\"js-line\" d=\"M132.87,226.37L152.04,292.75\" style=\"vector-effect: non-scaling-stroke; fill: none; stroke: rgb(210, 210, 210); stroke-opacity: 1; stroke-width: 1px; opacity: 1;\"/><path class=\"js-line\" d=\"M209.57,226.37L190.39,292.75\" style=\"vector-effect: non-scaling-stroke; fill: none; stroke: rgb(210, 210, 210); stroke-opacity: 1; stroke-width: 1px; opacity: 1;\"/><path class=\"js-line\" d=\"M209.57,226.37L228.74,292.75\" style=\"vector-effect: non-scaling-stroke; fill: none; stroke: rgb(210, 210, 210); stroke-opacity: 1; stroke-width: 1px; opacity: 1;\"/><path class=\"js-line\" d=\"M286.26,226.37L267.09,292.75\" style=\"vector-effect: non-scaling-stroke; fill: none; stroke: rgb(210, 210, 210); stroke-opacity: 1; stroke-width: 1px; opacity: 1;\"/><path class=\"js-line\" d=\"M286.26,226.37L305.43,292.75\" style=\"vector-effect: non-scaling-stroke; fill: none; stroke: rgb(210, 210, 210); stroke-opacity: 1; stroke-width: 1px; opacity: 1;\"/><path class=\"js-line\" d=\"M362.96,226.37L343.78,292.75\" style=\"vector-effect: non-scaling-stroke; fill: none; stroke: rgb(210, 210, 210); stroke-opacity: 1; stroke-width: 1px; opacity: 1;\"/><path class=\"js-line\" d=\"M362.96,226.37L382.13,292.75\" style=\"vector-effect: non-scaling-stroke; fill: none; stroke: rgb(210, 210, 210); stroke-opacity: 1; stroke-width: 1px; opacity: 1;\"/></g><g class=\"points\"/><g class=\"text\"/></g><g class=\"trace scatter trace16fe38\" style=\"stroke-miterlimit: 2; opacity: 0.8;\"><g class=\"fills\"/><g class=\"errorbars\"/><g class=\"lines\"/><g class=\"points\"><path class=\"point\" transform=\"translate(295.85,27.25)\" d=\"M9,0A9,9 0 1,1 0,-9A9,9 0 0,1 9,0ZM0,0.5L0.5,0L0,-0.5L-0.5,0Z\" style=\"opacity: 1; stroke-width: 1px; fill: rgb(97, 117, 193); fill-opacity: 1; stroke: rgb(50, 50, 50); stroke-opacity: 1;\"/><path class=\"point\" transform=\"translate(171.22,93.63)\" d=\"M9,0A9,9 0 1,1 0,-9A9,9 0 0,1 9,0ZM0,0.5L0.5,0L0,-0.5L-0.5,0Z\" style=\"opacity: 1; stroke-width: 1px; fill: rgb(97, 117, 193); fill-opacity: 1; stroke: rgb(50, 50, 50); stroke-opacity: 1;\"/><path class=\"point\" transform=\"translate(420.48,93.63)\" d=\"M9,0A9,9 0 1,1 0,-9A9,9 0 0,1 9,0ZM0,0.5L0.5,0L0,-0.5L-0.5,0Z\" style=\"opacity: 1; stroke-width: 1px; fill: rgb(97, 117, 193); fill-opacity: 1; stroke: rgb(50, 50, 50); stroke-opacity: 1;\"/><path class=\"point\" transform=\"translate(94.52,160)\" d=\"M9,0A9,9 0 1,1 0,-9A9,9 0 0,1 9,0ZM0,0.5L0.5,0L0,-0.5L-0.5,0Z\" style=\"opacity: 1; stroke-width: 1px; fill: rgb(97, 117, 193); fill-opacity: 1; stroke: rgb(50, 50, 50); stroke-opacity: 1;\"/><path class=\"point\" transform=\"translate(247.91,160)\" d=\"M9,0A9,9 0 1,1 0,-9A9,9 0 0,1 9,0ZM0,0.5L0.5,0L0,-0.5L-0.5,0Z\" style=\"opacity: 1; stroke-width: 1px; fill: rgb(97, 117, 193); fill-opacity: 1; stroke: rgb(50, 50, 50); stroke-opacity: 1;\"/><path class=\"point\" transform=\"translate(382.13,160)\" d=\"M9,0A9,9 0 1,1 0,-9A9,9 0 0,1 9,0ZM0,0.5L0.5,0L0,-0.5L-0.5,0Z\" style=\"opacity: 1; stroke-width: 1px; fill: rgb(97, 117, 193); fill-opacity: 1; stroke: rgb(50, 50, 50); stroke-opacity: 1;\"/><path class=\"point\" transform=\"translate(458.83,160)\" d=\"M9,0A9,9 0 1,1 0,-9A9,9 0 0,1 9,0ZM0,0.5L0.5,0L0,-0.5L-0.5,0Z\" style=\"opacity: 1; stroke-width: 1px; fill: rgb(97, 117, 193); fill-opacity: 1; stroke: rgb(50, 50, 50); stroke-opacity: 1;\"/><path class=\"point\" transform=\"translate(56.17,226.37)\" d=\"M9,0A9,9 0 1,1 0,-9A9,9 0 0,1 9,0ZM0,0.5L0.5,0L0,-0.5L-0.5,0Z\" style=\"opacity: 1; stroke-width: 1px; fill: rgb(97, 117, 193); fill-opacity: 1; stroke: rgb(50, 50, 50); stroke-opacity: 1;\"/><path class=\"point\" transform=\"translate(132.87,226.37)\" d=\"M9,0A9,9 0 1,1 0,-9A9,9 0 0,1 9,0ZM0,0.5L0.5,0L0,-0.5L-0.5,0Z\" style=\"opacity: 1; stroke-width: 1px; fill: rgb(97, 117, 193); fill-opacity: 1; stroke: rgb(50, 50, 50); stroke-opacity: 1;\"/><path class=\"point\" transform=\"translate(209.57,226.37)\" d=\"M9,0A9,9 0 1,1 0,-9A9,9 0 0,1 9,0ZM0,0.5L0.5,0L0,-0.5L-0.5,0Z\" style=\"opacity: 1; stroke-width: 1px; fill: rgb(97, 117, 193); fill-opacity: 1; stroke: rgb(50, 50, 50); stroke-opacity: 1;\"/><path class=\"point\" transform=\"translate(286.26,226.37)\" d=\"M9,0A9,9 0 1,1 0,-9A9,9 0 0,1 9,0ZM0,0.5L0.5,0L0,-0.5L-0.5,0Z\" style=\"opacity: 1; stroke-width: 1px; fill: rgb(97, 117, 193); fill-opacity: 1; stroke: rgb(50, 50, 50); stroke-opacity: 1;\"/><path class=\"point\" transform=\"translate(362.96,226.37)\" d=\"M9,0A9,9 0 1,1 0,-9A9,9 0 0,1 9,0ZM0,0.5L0.5,0L0,-0.5L-0.5,0Z\" style=\"opacity: 1; stroke-width: 1px; fill: rgb(97, 117, 193); fill-opacity: 1; stroke: rgb(50, 50, 50); stroke-opacity: 1;\"/><path class=\"point\" transform=\"translate(401.3,226.37)\" d=\"M9,0A9,9 0 1,1 0,-9A9,9 0 0,1 9,0ZM0,0.5L0.5,0L0,-0.5L-0.5,0Z\" style=\"opacity: 1; stroke-width: 1px; fill: rgb(97, 117, 193); fill-opacity: 1; stroke: rgb(50, 50, 50); stroke-opacity: 1;\"/><path class=\"point\" transform=\"translate(439.65,226.37)\" d=\"M9,0A9,9 0 1,1 0,-9A9,9 0 0,1 9,0ZM0,0.5L0.5,0L0,-0.5L-0.5,0Z\" style=\"opacity: 1; stroke-width: 1px; fill: rgb(97, 117, 193); fill-opacity: 1; stroke: rgb(50, 50, 50); stroke-opacity: 1;\"/><path class=\"point\" transform=\"translate(478,226.37)\" d=\"M9,0A9,9 0 1,1 0,-9A9,9 0 0,1 9,0ZM0,0.5L0.5,0L0,-0.5L-0.5,0Z\" style=\"opacity: 1; stroke-width: 1px; fill: rgb(97, 117, 193); fill-opacity: 1; stroke: rgb(50, 50, 50); stroke-opacity: 1;\"/><path class=\"point\" transform=\"translate(37,292.75)\" d=\"M9,0A9,9 0 1,1 0,-9A9,9 0 0,1 9,0ZM0,0.5L0.5,0L0,-0.5L-0.5,0Z\" style=\"opacity: 1; stroke-width: 1px; fill: rgb(97, 117, 193); fill-opacity: 1; stroke: rgb(50, 50, 50); stroke-opacity: 1;\"/><path class=\"point\" transform=\"translate(75.35,292.75)\" d=\"M9,0A9,9 0 1,1 0,-9A9,9 0 0,1 9,0ZM0,0.5L0.5,0L0,-0.5L-0.5,0Z\" style=\"opacity: 1; stroke-width: 1px; fill: rgb(97, 117, 193); fill-opacity: 1; stroke: rgb(50, 50, 50); stroke-opacity: 1;\"/><path class=\"point\" transform=\"translate(113.7,292.75)\" d=\"M9,0A9,9 0 1,1 0,-9A9,9 0 0,1 9,0ZM0,0.5L0.5,0L0,-0.5L-0.5,0Z\" style=\"opacity: 1; stroke-width: 1px; fill: rgb(97, 117, 193); fill-opacity: 1; stroke: rgb(50, 50, 50); stroke-opacity: 1;\"/><path class=\"point\" transform=\"translate(152.04,292.75)\" d=\"M9,0A9,9 0 1,1 0,-9A9,9 0 0,1 9,0ZM0,0.5L0.5,0L0,-0.5L-0.5,0Z\" style=\"opacity: 1; stroke-width: 1px; fill: rgb(97, 117, 193); fill-opacity: 1; stroke: rgb(50, 50, 50); stroke-opacity: 1;\"/><path class=\"point\" transform=\"translate(190.39,292.75)\" d=\"M9,0A9,9 0 1,1 0,-9A9,9 0 0,1 9,0ZM0,0.5L0.5,0L0,-0.5L-0.5,0Z\" style=\"opacity: 1; stroke-width: 1px; fill: rgb(97, 117, 193); fill-opacity: 1; stroke: rgb(50, 50, 50); stroke-opacity: 1;\"/><path class=\"point\" transform=\"translate(228.74,292.75)\" d=\"M9,0A9,9 0 1,1 0,-9A9,9 0 0,1 9,0ZM0,0.5L0.5,0L0,-0.5L-0.5,0Z\" style=\"opacity: 1; stroke-width: 1px; fill: rgb(97, 117, 193); fill-opacity: 1; stroke: rgb(50, 50, 50); stroke-opacity: 1;\"/><path class=\"point\" transform=\"translate(267.09,292.75)\" d=\"M9,0A9,9 0 1,1 0,-9A9,9 0 0,1 9,0ZM0,0.5L0.5,0L0,-0.5L-0.5,0Z\" style=\"opacity: 1; stroke-width: 1px; fill: rgb(97, 117, 193); fill-opacity: 1; stroke: rgb(50, 50, 50); stroke-opacity: 1;\"/><path class=\"point\" transform=\"translate(305.43,292.75)\" d=\"M9,0A9,9 0 1,1 0,-9A9,9 0 0,1 9,0ZM0,0.5L0.5,0L0,-0.5L-0.5,0Z\" style=\"opacity: 1; stroke-width: 1px; fill: rgb(97, 117, 193); fill-opacity: 1; stroke: rgb(50, 50, 50); stroke-opacity: 1;\"/><path class=\"point\" transform=\"translate(343.78,292.75)\" d=\"M9,0A9,9 0 1,1 0,-9A9,9 0 0,1 9,0ZM0,0.5L0.5,0L0,-0.5L-0.5,0Z\" style=\"opacity: 1; stroke-width: 1px; fill: rgb(97, 117, 193); fill-opacity: 1; stroke: rgb(50, 50, 50); stroke-opacity: 1;\"/><path class=\"point\" transform=\"translate(382.13,292.75)\" d=\"M9,0A9,9 0 1,1 0,-9A9,9 0 0,1 9,0ZM0,0.5L0.5,0L0,-0.5L-0.5,0Z\" style=\"opacity: 1; stroke-width: 1px; fill: rgb(97, 117, 193); fill-opacity: 1; stroke: rgb(50, 50, 50); stroke-opacity: 1;\"/></g><g class=\"text\"/></g></g></g><g class=\"overplot\"/><path class=\"xlines-above crisp\" d=\"M0,0\" style=\"fill: none;\"/><path class=\"ylines-above crisp\" d=\"M0,0\" style=\"fill: none;\"/><g class=\"overlines-above\"/><g class=\"xaxislayer-above\"><g class=\"xtick\"><text text-anchor=\"middle\" x=\"0\" y=\"433\" transform=\"translate(145.76,0)\" style=\"font-family: 'Open Sans', verdana, arial, sans-serif; font-size: 12px; fill: rgb(42, 63, 95); fill-opacity: 1; white-space: pre; opacity: 1;\">−6</text></g><g class=\"xtick\"><text text-anchor=\"middle\" x=\"0\" y=\"433\" style=\"font-family: 'Open Sans', verdana, arial, sans-serif; font-size: 12px; fill: rgb(42, 63, 95); fill-opacity: 1; white-space: pre; opacity: 1;\" transform=\"translate(222.46,0)\">−4</text></g><g class=\"xtick\"><text text-anchor=\"middle\" x=\"0\" y=\"433\" style=\"font-family: 'Open Sans', verdana, arial, sans-serif; font-size: 12px; fill: rgb(42, 63, 95); fill-opacity: 1; white-space: pre; opacity: 1;\" transform=\"translate(299.15,0)\">−2</text></g><g class=\"xtick\"><text text-anchor=\"middle\" x=\"0\" y=\"433\" style=\"font-family: 'Open Sans', verdana, arial, sans-serif; font-size: 12px; fill: rgb(42, 63, 95); fill-opacity: 1; white-space: pre; opacity: 1;\" transform=\"translate(375.85,0)\">0</text></g><g class=\"xtick\"><text text-anchor=\"middle\" x=\"0\" y=\"433\" style=\"font-family: 'Open Sans', verdana, arial, sans-serif; font-size: 12px; fill: rgb(42, 63, 95); fill-opacity: 1; white-space: pre; opacity: 1;\" transform=\"translate(452.54,0)\">2</text></g><g class=\"xtick\"><text text-anchor=\"middle\" x=\"0\" y=\"433\" style=\"font-family: 'Open Sans', verdana, arial, sans-serif; font-size: 12px; fill: rgb(42, 63, 95); fill-opacity: 1; white-space: pre; opacity: 1;\" transform=\"translate(529.24,0)\">4</text></g></g><g class=\"yaxislayer-above\"><g class=\"ytick\"><text text-anchor=\"end\" x=\"79\" y=\"4.199999999999999\" transform=\"translate(0,392.75)\" style=\"font-family: 'Open Sans', verdana, arial, sans-serif; font-size: 12px; fill: rgb(42, 63, 95); fill-opacity: 1; white-space: pre; opacity: 1;\">4</text></g><g class=\"ytick\"><text text-anchor=\"end\" x=\"79\" y=\"4.199999999999999\" style=\"font-family: 'Open Sans', verdana, arial, sans-serif; font-size: 12px; fill: rgb(42, 63, 95); fill-opacity: 1; white-space: pre; opacity: 1;\" transform=\"translate(0,326.37)\">5</text></g><g class=\"ytick\"><text text-anchor=\"end\" x=\"79\" y=\"4.199999999999999\" style=\"font-family: 'Open Sans', verdana, arial, sans-serif; font-size: 12px; fill: rgb(42, 63, 95); fill-opacity: 1; white-space: pre; opacity: 1;\" transform=\"translate(0,260)\">6</text></g><g class=\"ytick\"><text text-anchor=\"end\" x=\"79\" y=\"4.199999999999999\" style=\"font-family: 'Open Sans', verdana, arial, sans-serif; font-size: 12px; fill: rgb(42, 63, 95); fill-opacity: 1; white-space: pre; opacity: 1;\" transform=\"translate(0,193.63)\">7</text></g><g class=\"ytick\"><text text-anchor=\"end\" x=\"79\" y=\"4.199999999999999\" style=\"font-family: 'Open Sans', verdana, arial, sans-serif; font-size: 12px; fill: rgb(42, 63, 95); fill-opacity: 1; white-space: pre; opacity: 1;\" transform=\"translate(0,127.25)\">8</text></g></g><g class=\"overaxes-above\"/></g></g><g class=\"polarlayer\"/><g class=\"smithlayer\"/><g class=\"ternarylayer\"/><g class=\"geolayer\"/><g class=\"funnelarealayer\"/><g class=\"pielayer\"/><g class=\"iciclelayer\"/><g class=\"treemaplayer\"/><g class=\"sunburstlayer\"/><g class=\"glimages\"/><defs id=\"topdefs-9988f5\"><g class=\"clips\"/><clipPath id=\"legend9988f5\"><rect width=\"83\" height=\"48\" x=\"0\" y=\"0\"/></clipPath></defs><g class=\"layer-above\"><g class=\"imagelayer\"/><g class=\"shapelayer\"/></g><g class=\"infolayer\"><g class=\"legend\" pointer-events=\"all\" transform=\"translate(605.3,100)\"><rect class=\"bg\" shape-rendering=\"crispEdges\" style=\"stroke: rgb(68, 68, 68); stroke-opacity: 1; fill: rgb(255, 255, 255); fill-opacity: 1; stroke-width: 0px;\" width=\"83\" height=\"48\" x=\"0\" y=\"0\"/><g class=\"scrollbox\" transform=\"\" clip-path=\"url(#legend9988f5)\"><g class=\"groups\"><g class=\"traces\" transform=\"translate(0,14.5)\" style=\"opacity: 1;\"><text class=\"legendtext\" text-anchor=\"start\" x=\"40\" y=\"4.680000000000001\" style=\"font-family: 'Open Sans', verdana, arial, sans-serif; font-size: 12px; fill: rgb(42, 63, 95); fill-opacity: 1; white-space: pre;\">trace 0</text><g class=\"layers\" style=\"opacity: 1;\"><g class=\"legendfill\"/><g class=\"legendlines\"><path class=\"js-line\" d=\"M5,0h30\" style=\"fill: none; stroke: rgb(210, 210, 210); stroke-opacity: 1; stroke-width: 1px;\"/></g><g class=\"legendsymbols\"><g class=\"legendpoints\"/></g></g><rect class=\"legendtoggle\" x=\"0\" y=\"-9.5\" width=\"77.015625\" height=\"19\" style=\"fill: rgb(0, 0, 0); fill-opacity: 0;\"/></g><g class=\"traces\" transform=\"translate(0,33.5)\" style=\"opacity: 1;\"><text class=\"legendtext\" text-anchor=\"start\" x=\"40\" y=\"4.680000000000001\" style=\"font-family: 'Open Sans', verdana, arial, sans-serif; font-size: 12px; fill: rgb(42, 63, 95); fill-opacity: 1; white-space: pre;\">bla</text><g class=\"layers\" style=\"opacity: 0.8;\"><g class=\"legendfill\"/><g class=\"legendlines\"/><g class=\"legendsymbols\"><g class=\"legendpoints\"><path class=\"scatterpts\" transform=\"translate(20,0)\" d=\"M8,0A8,8 0 1,1 0,-8A8,8 0 0,1 8,0ZM0,0.5L0.5,0L0,-0.5L-0.5,0Z\" style=\"opacity: 1; stroke-width: 1px; fill: rgb(97, 117, 193); fill-opacity: 1; stroke: rgb(50, 50, 50); stroke-opacity: 1;\"/></g></g></g><rect class=\"legendtoggle\" x=\"0\" y=\"-9.5\" width=\"77.015625\" height=\"19\" style=\"fill: rgb(0, 0, 0); fill-opacity: 0;\"/></g></g></g><rect class=\"scrollbar\" rx=\"20\" ry=\"3\" width=\"0\" height=\"0\" style=\"fill: rgb(128, 139, 164); fill-opacity: 1;\" x=\"0\" y=\"0\"/></g><g class=\"g-gtitle\"/><g class=\"g-xtitle\"/><g class=\"g-ytitle\"/></g></svg>"
      ]
     },
     "metadata": {},
     "output_type": "display_data"
    }
   ],
   "source": [
    "fig = go.Figure()\n",
    "fig.add_trace(go.Scatter(x=Xe,\n",
    "                   y=Ye,\n",
    "                   mode='lines',\n",
    "                   line=dict(color='rgb(210,210,210)', width=1),\n",
    "                   hoverinfo='none'\n",
    "                   ))\n",
    "fig.add_trace(go.Scatter(x=Xn,\n",
    "                  y=Yn,\n",
    "                  mode='markers',\n",
    "                  name='bla',\n",
    "                  marker=dict(symbol='circle-dot',\n",
    "                                size=18,\n",
    "                                color='#6175c1',    #'#DB4551',\n",
    "                                line=dict(color='rgb(50,50,50)', width=1)\n",
    "                                ),\n",
    "                  text=labels,\n",
    "                  hoverinfo='text',\n",
    "                  opacity=0.8\n",
    "                  ))\n",
    "\n",
    "fig.show(renderer=\"svg\")\n",
    "# fig.show(\"notebook\")"
   ]
  },
  {
   "cell_type": "code",
   "execution_count": 67,
   "metadata": {},
   "outputs": [],
   "source": [
    "def make_annotations(pos, text, font_size=10, font_color='rgb(250,250,250)'):\n",
    "    L=len(pos)\n",
    "    if len(text)!=L:\n",
    "        raise ValueError('The lists pos and text must have the same len')\n",
    "    annotations = []\n",
    "    for k in range(L):\n",
    "        annotations.append(\n",
    "            dict(\n",
    "                text=labels[k], # or replace labels with a different list for the text within the circle\n",
    "                x=pos[k][0], y=2*M-position[k][1],\n",
    "                xref='x1', yref='y1',\n",
    "                font=dict(color=font_color, size=font_size),\n",
    "                showarrow=False)\n",
    "        )\n",
    "    return annotations"
   ]
  },
  {
   "cell_type": "code",
   "execution_count": 68,
   "metadata": {},
   "outputs": [
    {
     "data": {
      "image/svg+xml": [
       "<svg class=\"main-svg\" xmlns=\"http://www.w3.org/2000/svg\" xmlns:xlink=\"http://www.w3.org/1999/xlink\" width=\"700\" height=\"500\" style=\"\" viewBox=\"0 0 700 500\"><rect x=\"0\" y=\"0\" width=\"700\" height=\"500\" style=\"fill: rgb(255, 255, 255); fill-opacity: 1;\"/><defs id=\"defs-166b9a\"><g class=\"clips\"><clipPath id=\"clip166b9axyplot\" class=\"plotclip\"><rect width=\"620\" height=\"315\"/></clipPath><clipPath class=\"axesclip\" id=\"clip166b9ax\"><rect x=\"40\" y=\"0\" width=\"620\" height=\"500\"/></clipPath><clipPath class=\"axesclip\" id=\"clip166b9ay\"><rect x=\"0\" y=\"100\" width=\"700\" height=\"315\"/></clipPath><clipPath class=\"axesclip\" id=\"clip166b9axy\"><rect x=\"40\" y=\"100\" width=\"620\" height=\"315\"/></clipPath></g><g class=\"gradients\"/><g class=\"patterns\"/></defs><g class=\"bglayer\"><rect class=\"bg\" x=\"40\" y=\"100\" width=\"620\" height=\"315\" style=\"fill: rgb(248, 248, 248); fill-opacity: 1; stroke-width: 0;\"/></g><g class=\"layer-below\"><g class=\"imagelayer\"/><g class=\"shapelayer\"/></g><g class=\"cartesianlayer\"><g class=\"subplot xy\"><g class=\"layer-subplot\"><g class=\"shapelayer\"/><g class=\"imagelayer\"/></g><g class=\"gridlayer\"><g class=\"x\"/><g class=\"y\"/></g><g class=\"zerolinelayer\"/><path class=\"xlines-below\"/><path class=\"ylines-below\"/><g class=\"overlines-below\"/><g class=\"xaxislayer-below\"/><g class=\"yaxislayer-below\"/><g class=\"overaxes-below\"/><g class=\"plot\" transform=\"translate(40,100)\" clip-path=\"url(#clip166b9axyplot)\"><g class=\"scatterlayer mlayer\"><g class=\"trace scatter trace6bcc7d\" style=\"stroke-miterlimit: 2; opacity: 1;\"><g class=\"fills\"/><g class=\"errorbars\"/><g class=\"lines\"><path class=\"js-line\" d=\"M356.57,27L205.23,92.25\" style=\"vector-effect: non-scaling-stroke; fill: none; stroke: rgb(210, 210, 210); stroke-opacity: 1; stroke-width: 1px; opacity: 1;\"/><path class=\"js-line\" d=\"M356.57,27L507.9,92.25\" style=\"vector-effect: non-scaling-stroke; fill: none; stroke: rgb(210, 210, 210); stroke-opacity: 1; stroke-width: 1px; opacity: 1;\"/><path class=\"js-line\" d=\"M205.23,92.25L112.1,157.5\" style=\"vector-effect: non-scaling-stroke; fill: none; stroke: rgb(210, 210, 210); stroke-opacity: 1; stroke-width: 1px; opacity: 1;\"/><path class=\"js-line\" d=\"M205.23,92.25L298.36,157.5\" style=\"vector-effect: non-scaling-stroke; fill: none; stroke: rgb(210, 210, 210); stroke-opacity: 1; stroke-width: 1px; opacity: 1;\"/><path class=\"js-line\" d=\"M507.9,92.25L461.34,157.5\" style=\"vector-effect: non-scaling-stroke; fill: none; stroke: rgb(210, 210, 210); stroke-opacity: 1; stroke-width: 1px; opacity: 1;\"/><path class=\"js-line\" d=\"M507.9,92.25L554.47,157.5\" style=\"vector-effect: non-scaling-stroke; fill: none; stroke: rgb(210, 210, 210); stroke-opacity: 1; stroke-width: 1px; opacity: 1;\"/><path class=\"js-line\" d=\"M112.1,157.5L65.53,222.75\" style=\"vector-effect: non-scaling-stroke; fill: none; stroke: rgb(210, 210, 210); stroke-opacity: 1; stroke-width: 1px; opacity: 1;\"/><path class=\"js-line\" d=\"M112.1,157.5L158.66,222.75\" style=\"vector-effect: non-scaling-stroke; fill: none; stroke: rgb(210, 210, 210); stroke-opacity: 1; stroke-width: 1px; opacity: 1;\"/><path class=\"js-line\" d=\"M298.36,157.5L251.79,222.75\" style=\"vector-effect: non-scaling-stroke; fill: none; stroke: rgb(210, 210, 210); stroke-opacity: 1; stroke-width: 1px; opacity: 1;\"/><path class=\"js-line\" d=\"M298.36,157.5L344.92,222.75\" style=\"vector-effect: non-scaling-stroke; fill: none; stroke: rgb(210, 210, 210); stroke-opacity: 1; stroke-width: 1px; opacity: 1;\"/><path class=\"js-line\" d=\"M461.34,157.5L438.05,222.75\" style=\"vector-effect: non-scaling-stroke; fill: none; stroke: rgb(210, 210, 210); stroke-opacity: 1; stroke-width: 1px; opacity: 1;\"/><path class=\"js-line\" d=\"M461.34,157.5L484.62,222.75\" style=\"vector-effect: non-scaling-stroke; fill: none; stroke: rgb(210, 210, 210); stroke-opacity: 1; stroke-width: 1px; opacity: 1;\"/><path class=\"js-line\" d=\"M554.47,157.5L531.18,222.75\" style=\"vector-effect: non-scaling-stroke; fill: none; stroke: rgb(210, 210, 210); stroke-opacity: 1; stroke-width: 1px; opacity: 1;\"/><path class=\"js-line\" d=\"M554.47,157.5L577.75,222.75\" style=\"vector-effect: non-scaling-stroke; fill: none; stroke: rgb(210, 210, 210); stroke-opacity: 1; stroke-width: 1px; opacity: 1;\"/><path class=\"js-line\" d=\"M65.53,222.75L42.25,288\" style=\"vector-effect: non-scaling-stroke; fill: none; stroke: rgb(210, 210, 210); stroke-opacity: 1; stroke-width: 1px; opacity: 1;\"/><path class=\"js-line\" d=\"M65.53,222.75L88.82,288\" style=\"vector-effect: non-scaling-stroke; fill: none; stroke: rgb(210, 210, 210); stroke-opacity: 1; stroke-width: 1px; opacity: 1;\"/><path class=\"js-line\" d=\"M158.66,222.75L135.38,288\" style=\"vector-effect: non-scaling-stroke; fill: none; stroke: rgb(210, 210, 210); stroke-opacity: 1; stroke-width: 1px; opacity: 1;\"/><path class=\"js-line\" d=\"M158.66,222.75L181.95,288\" style=\"vector-effect: non-scaling-stroke; fill: none; stroke: rgb(210, 210, 210); stroke-opacity: 1; stroke-width: 1px; opacity: 1;\"/><path class=\"js-line\" d=\"M251.79,222.75L228.51,288\" style=\"vector-effect: non-scaling-stroke; fill: none; stroke: rgb(210, 210, 210); stroke-opacity: 1; stroke-width: 1px; opacity: 1;\"/><path class=\"js-line\" d=\"M251.79,222.75L275.08,288\" style=\"vector-effect: non-scaling-stroke; fill: none; stroke: rgb(210, 210, 210); stroke-opacity: 1; stroke-width: 1px; opacity: 1;\"/><path class=\"js-line\" d=\"M344.92,222.75L321.64,288\" style=\"vector-effect: non-scaling-stroke; fill: none; stroke: rgb(210, 210, 210); stroke-opacity: 1; stroke-width: 1px; opacity: 1;\"/><path class=\"js-line\" d=\"M344.92,222.75L368.21,288\" style=\"vector-effect: non-scaling-stroke; fill: none; stroke: rgb(210, 210, 210); stroke-opacity: 1; stroke-width: 1px; opacity: 1;\"/><path class=\"js-line\" d=\"M438.05,222.75L414.77,288\" style=\"vector-effect: non-scaling-stroke; fill: none; stroke: rgb(210, 210, 210); stroke-opacity: 1; stroke-width: 1px; opacity: 1;\"/><path class=\"js-line\" d=\"M438.05,222.75L461.34,288\" style=\"vector-effect: non-scaling-stroke; fill: none; stroke: rgb(210, 210, 210); stroke-opacity: 1; stroke-width: 1px; opacity: 1;\"/></g><g class=\"points\"/><g class=\"text\"/></g><g class=\"trace scatter trace01811e\" style=\"stroke-miterlimit: 2; opacity: 0.8;\"><g class=\"fills\"/><g class=\"errorbars\"/><g class=\"lines\"/><g class=\"points\"><path class=\"point\" transform=\"translate(356.57,27)\" d=\"M9,0A9,9 0 1,1 0,-9A9,9 0 0,1 9,0ZM0,0.5L0.5,0L0,-0.5L-0.5,0Z\" style=\"opacity: 1; stroke-width: 1px; fill: rgb(97, 117, 193); fill-opacity: 1; stroke: rgb(50, 50, 50); stroke-opacity: 1;\"/><path class=\"point\" transform=\"translate(205.23,92.25)\" d=\"M9,0A9,9 0 1,1 0,-9A9,9 0 0,1 9,0ZM0,0.5L0.5,0L0,-0.5L-0.5,0Z\" style=\"opacity: 1; stroke-width: 1px; fill: rgb(97, 117, 193); fill-opacity: 1; stroke: rgb(50, 50, 50); stroke-opacity: 1;\"/><path class=\"point\" transform=\"translate(507.9,92.25)\" d=\"M9,0A9,9 0 1,1 0,-9A9,9 0 0,1 9,0ZM0,0.5L0.5,0L0,-0.5L-0.5,0Z\" style=\"opacity: 1; stroke-width: 1px; fill: rgb(97, 117, 193); fill-opacity: 1; stroke: rgb(50, 50, 50); stroke-opacity: 1;\"/><path class=\"point\" transform=\"translate(112.1,157.5)\" d=\"M9,0A9,9 0 1,1 0,-9A9,9 0 0,1 9,0ZM0,0.5L0.5,0L0,-0.5L-0.5,0Z\" style=\"opacity: 1; stroke-width: 1px; fill: rgb(97, 117, 193); fill-opacity: 1; stroke: rgb(50, 50, 50); stroke-opacity: 1;\"/><path class=\"point\" transform=\"translate(298.36,157.5)\" d=\"M9,0A9,9 0 1,1 0,-9A9,9 0 0,1 9,0ZM0,0.5L0.5,0L0,-0.5L-0.5,0Z\" style=\"opacity: 1; stroke-width: 1px; fill: rgb(97, 117, 193); fill-opacity: 1; stroke: rgb(50, 50, 50); stroke-opacity: 1;\"/><path class=\"point\" transform=\"translate(461.34,157.5)\" d=\"M9,0A9,9 0 1,1 0,-9A9,9 0 0,1 9,0ZM0,0.5L0.5,0L0,-0.5L-0.5,0Z\" style=\"opacity: 1; stroke-width: 1px; fill: rgb(97, 117, 193); fill-opacity: 1; stroke: rgb(50, 50, 50); stroke-opacity: 1;\"/><path class=\"point\" transform=\"translate(554.47,157.5)\" d=\"M9,0A9,9 0 1,1 0,-9A9,9 0 0,1 9,0ZM0,0.5L0.5,0L0,-0.5L-0.5,0Z\" style=\"opacity: 1; stroke-width: 1px; fill: rgb(97, 117, 193); fill-opacity: 1; stroke: rgb(50, 50, 50); stroke-opacity: 1;\"/><path class=\"point\" transform=\"translate(65.53,222.75)\" d=\"M9,0A9,9 0 1,1 0,-9A9,9 0 0,1 9,0ZM0,0.5L0.5,0L0,-0.5L-0.5,0Z\" style=\"opacity: 1; stroke-width: 1px; fill: rgb(97, 117, 193); fill-opacity: 1; stroke: rgb(50, 50, 50); stroke-opacity: 1;\"/><path class=\"point\" transform=\"translate(158.66,222.75)\" d=\"M9,0A9,9 0 1,1 0,-9A9,9 0 0,1 9,0ZM0,0.5L0.5,0L0,-0.5L-0.5,0Z\" style=\"opacity: 1; stroke-width: 1px; fill: rgb(97, 117, 193); fill-opacity: 1; stroke: rgb(50, 50, 50); stroke-opacity: 1;\"/><path class=\"point\" transform=\"translate(251.79,222.75)\" d=\"M9,0A9,9 0 1,1 0,-9A9,9 0 0,1 9,0ZM0,0.5L0.5,0L0,-0.5L-0.5,0Z\" style=\"opacity: 1; stroke-width: 1px; fill: rgb(97, 117, 193); fill-opacity: 1; stroke: rgb(50, 50, 50); stroke-opacity: 1;\"/><path class=\"point\" transform=\"translate(344.92,222.75)\" d=\"M9,0A9,9 0 1,1 0,-9A9,9 0 0,1 9,0ZM0,0.5L0.5,0L0,-0.5L-0.5,0Z\" style=\"opacity: 1; stroke-width: 1px; fill: rgb(97, 117, 193); fill-opacity: 1; stroke: rgb(50, 50, 50); stroke-opacity: 1;\"/><path class=\"point\" transform=\"translate(438.05,222.75)\" d=\"M9,0A9,9 0 1,1 0,-9A9,9 0 0,1 9,0ZM0,0.5L0.5,0L0,-0.5L-0.5,0Z\" style=\"opacity: 1; stroke-width: 1px; fill: rgb(97, 117, 193); fill-opacity: 1; stroke: rgb(50, 50, 50); stroke-opacity: 1;\"/><path class=\"point\" transform=\"translate(484.62,222.75)\" d=\"M9,0A9,9 0 1,1 0,-9A9,9 0 0,1 9,0ZM0,0.5L0.5,0L0,-0.5L-0.5,0Z\" style=\"opacity: 1; stroke-width: 1px; fill: rgb(97, 117, 193); fill-opacity: 1; stroke: rgb(50, 50, 50); stroke-opacity: 1;\"/><path class=\"point\" transform=\"translate(531.18,222.75)\" d=\"M9,0A9,9 0 1,1 0,-9A9,9 0 0,1 9,0ZM0,0.5L0.5,0L0,-0.5L-0.5,0Z\" style=\"opacity: 1; stroke-width: 1px; fill: rgb(97, 117, 193); fill-opacity: 1; stroke: rgb(50, 50, 50); stroke-opacity: 1;\"/><path class=\"point\" transform=\"translate(577.75,222.75)\" d=\"M9,0A9,9 0 1,1 0,-9A9,9 0 0,1 9,0ZM0,0.5L0.5,0L0,-0.5L-0.5,0Z\" style=\"opacity: 1; stroke-width: 1px; fill: rgb(97, 117, 193); fill-opacity: 1; stroke: rgb(50, 50, 50); stroke-opacity: 1;\"/><path class=\"point\" transform=\"translate(42.25,288)\" d=\"M9,0A9,9 0 1,1 0,-9A9,9 0 0,1 9,0ZM0,0.5L0.5,0L0,-0.5L-0.5,0Z\" style=\"opacity: 1; stroke-width: 1px; fill: rgb(97, 117, 193); fill-opacity: 1; stroke: rgb(50, 50, 50); stroke-opacity: 1;\"/><path class=\"point\" transform=\"translate(88.82,288)\" d=\"M9,0A9,9 0 1,1 0,-9A9,9 0 0,1 9,0ZM0,0.5L0.5,0L0,-0.5L-0.5,0Z\" style=\"opacity: 1; stroke-width: 1px; fill: rgb(97, 117, 193); fill-opacity: 1; stroke: rgb(50, 50, 50); stroke-opacity: 1;\"/><path class=\"point\" transform=\"translate(135.38,288)\" d=\"M9,0A9,9 0 1,1 0,-9A9,9 0 0,1 9,0ZM0,0.5L0.5,0L0,-0.5L-0.5,0Z\" style=\"opacity: 1; stroke-width: 1px; fill: rgb(97, 117, 193); fill-opacity: 1; stroke: rgb(50, 50, 50); stroke-opacity: 1;\"/><path class=\"point\" transform=\"translate(181.95,288)\" d=\"M9,0A9,9 0 1,1 0,-9A9,9 0 0,1 9,0ZM0,0.5L0.5,0L0,-0.5L-0.5,0Z\" style=\"opacity: 1; stroke-width: 1px; fill: rgb(97, 117, 193); fill-opacity: 1; stroke: rgb(50, 50, 50); stroke-opacity: 1;\"/><path class=\"point\" transform=\"translate(228.51,288)\" d=\"M9,0A9,9 0 1,1 0,-9A9,9 0 0,1 9,0ZM0,0.5L0.5,0L0,-0.5L-0.5,0Z\" style=\"opacity: 1; stroke-width: 1px; fill: rgb(97, 117, 193); fill-opacity: 1; stroke: rgb(50, 50, 50); stroke-opacity: 1;\"/><path class=\"point\" transform=\"translate(275.08,288)\" d=\"M9,0A9,9 0 1,1 0,-9A9,9 0 0,1 9,0ZM0,0.5L0.5,0L0,-0.5L-0.5,0Z\" style=\"opacity: 1; stroke-width: 1px; fill: rgb(97, 117, 193); fill-opacity: 1; stroke: rgb(50, 50, 50); stroke-opacity: 1;\"/><path class=\"point\" transform=\"translate(321.64,288)\" d=\"M9,0A9,9 0 1,1 0,-9A9,9 0 0,1 9,0ZM0,0.5L0.5,0L0,-0.5L-0.5,0Z\" style=\"opacity: 1; stroke-width: 1px; fill: rgb(97, 117, 193); fill-opacity: 1; stroke: rgb(50, 50, 50); stroke-opacity: 1;\"/><path class=\"point\" transform=\"translate(368.21,288)\" d=\"M9,0A9,9 0 1,1 0,-9A9,9 0 0,1 9,0ZM0,0.5L0.5,0L0,-0.5L-0.5,0Z\" style=\"opacity: 1; stroke-width: 1px; fill: rgb(97, 117, 193); fill-opacity: 1; stroke: rgb(50, 50, 50); stroke-opacity: 1;\"/><path class=\"point\" transform=\"translate(414.77,288)\" d=\"M9,0A9,9 0 1,1 0,-9A9,9 0 0,1 9,0ZM0,0.5L0.5,0L0,-0.5L-0.5,0Z\" style=\"opacity: 1; stroke-width: 1px; fill: rgb(97, 117, 193); fill-opacity: 1; stroke: rgb(50, 50, 50); stroke-opacity: 1;\"/><path class=\"point\" transform=\"translate(461.34,288)\" d=\"M9,0A9,9 0 1,1 0,-9A9,9 0 0,1 9,0ZM0,0.5L0.5,0L0,-0.5L-0.5,0Z\" style=\"opacity: 1; stroke-width: 1px; fill: rgb(97, 117, 193); fill-opacity: 1; stroke: rgb(50, 50, 50); stroke-opacity: 1;\"/></g><g class=\"text\"/></g></g></g><g class=\"overplot\"/><path class=\"xlines-above crisp\" d=\"M0,0\" style=\"fill: none;\"/><path class=\"ylines-above crisp\" d=\"M0,0\" style=\"fill: none;\"/><g class=\"overlines-above\"/><g class=\"xaxislayer-above\"/><g class=\"yaxislayer-above\"/><g class=\"overaxes-above\"/></g></g><g class=\"polarlayer\"/><g class=\"smithlayer\"/><g class=\"ternarylayer\"/><g class=\"geolayer\"/><g class=\"funnelarealayer\"/><g class=\"pielayer\"/><g class=\"iciclelayer\"/><g class=\"treemaplayer\"/><g class=\"sunburstlayer\"/><g class=\"glimages\"/><defs id=\"topdefs-166b9a\"><g class=\"clips\"/></defs><g class=\"layer-above\"><g class=\"imagelayer\"/><g class=\"shapelayer\"/></g><g class=\"infolayer\"><g class=\"g-gtitle\"><text class=\"gtitle\" x=\"35\" y=\"50\" text-anchor=\"start\" dy=\"0em\" style=\"font-family: 'Open Sans', verdana, arial, sans-serif; font-size: 17px; fill: rgb(42, 63, 95); opacity: 1; font-weight: normal; white-space: pre;\">Tree with Reingold-Tilford Layout</text></g><g class=\"g-xtitle\"/><g class=\"g-ytitle\"/><g class=\"annotation\" data-index=\"0\" style=\"opacity: 1;\"><g class=\"annotation-text-g\" transform=\"rotate(0,396.57,127)\"><g class=\"cursor-pointer\" transform=\"translate(392,120)\"><rect class=\"bg\" x=\"0.5\" y=\"0.5\" width=\"9\" height=\"14\" style=\"stroke-width: 1px; stroke: rgb(0, 0, 0); stroke-opacity: 0; fill: rgb(0, 0, 0); fill-opacity: 0;\"/><text class=\"annotation-text\" text-anchor=\"middle\" x=\"4.78125\" y=\"11\" style=\"font-family: 'Open Sans', verdana, arial, sans-serif; font-size: 10px; fill: rgb(250, 250, 250); fill-opacity: 1; white-space: pre;\">0</text></g></g></g><g class=\"annotation\" data-index=\"1\" style=\"opacity: 1;\"><g class=\"annotation-text-g\" transform=\"rotate(0,245.23,192.25)\"><g class=\"cursor-pointer\" transform=\"translate(240,185)\"><rect class=\"bg\" x=\"0.5\" y=\"0.5\" width=\"9\" height=\"14\" style=\"stroke-width: 1px; stroke: rgb(0, 0, 0); stroke-opacity: 0; fill: rgb(0, 0, 0); fill-opacity: 0;\"/><text class=\"annotation-text\" text-anchor=\"middle\" x=\"4.78125\" y=\"11\" style=\"font-family: 'Open Sans', verdana, arial, sans-serif; font-size: 10px; fill: rgb(250, 250, 250); fill-opacity: 1; white-space: pre;\">1</text></g></g></g><g class=\"annotation\" data-index=\"2\" style=\"opacity: 1;\"><g class=\"annotation-text-g\" transform=\"rotate(0,547.9,192.25)\"><g class=\"cursor-pointer\" transform=\"translate(543,185)\"><rect class=\"bg\" x=\"0.5\" y=\"0.5\" width=\"9\" height=\"14\" style=\"stroke-width: 1px; stroke: rgb(0, 0, 0); stroke-opacity: 0; fill: rgb(0, 0, 0); fill-opacity: 0;\"/><text class=\"annotation-text\" text-anchor=\"middle\" x=\"4.78125\" y=\"11\" style=\"font-family: 'Open Sans', verdana, arial, sans-serif; font-size: 10px; fill: rgb(250, 250, 250); fill-opacity: 1; white-space: pre;\">2</text></g></g></g><g class=\"annotation\" data-index=\"3\" style=\"opacity: 1;\"><g class=\"annotation-text-g\" transform=\"rotate(0,152.1,257.5)\"><g class=\"cursor-pointer\" transform=\"translate(147,250)\"><rect class=\"bg\" x=\"0.5\" y=\"0.5\" width=\"9\" height=\"14\" style=\"stroke-width: 1px; stroke: rgb(0, 0, 0); stroke-opacity: 0; fill: rgb(0, 0, 0); fill-opacity: 0;\"/><text class=\"annotation-text\" text-anchor=\"middle\" x=\"4.78125\" y=\"11\" style=\"font-family: 'Open Sans', verdana, arial, sans-serif; font-size: 10px; fill: rgb(250, 250, 250); fill-opacity: 1; white-space: pre;\">3</text></g></g></g><g class=\"annotation\" data-index=\"4\" style=\"opacity: 1;\"><g class=\"annotation-text-g\" transform=\"rotate(0,338.36,257.5)\"><g class=\"cursor-pointer\" transform=\"translate(333,250)\"><rect class=\"bg\" x=\"0.5\" y=\"0.5\" width=\"9\" height=\"14\" style=\"stroke-width: 1px; stroke: rgb(0, 0, 0); stroke-opacity: 0; fill: rgb(0, 0, 0); fill-opacity: 0;\"/><text class=\"annotation-text\" text-anchor=\"middle\" x=\"4.78125\" y=\"11\" style=\"font-family: 'Open Sans', verdana, arial, sans-serif; font-size: 10px; fill: rgb(250, 250, 250); fill-opacity: 1; white-space: pre;\">4</text></g></g></g><g class=\"annotation\" data-index=\"5\" style=\"opacity: 1;\"><g class=\"annotation-text-g\" transform=\"rotate(0,501.34,257.5)\"><g class=\"cursor-pointer\" transform=\"translate(496,250)\"><rect class=\"bg\" x=\"0.5\" y=\"0.5\" width=\"9\" height=\"14\" style=\"stroke-width: 1px; stroke: rgb(0, 0, 0); stroke-opacity: 0; fill: rgb(0, 0, 0); fill-opacity: 0;\"/><text class=\"annotation-text\" text-anchor=\"middle\" x=\"4.78125\" y=\"11\" style=\"font-family: 'Open Sans', verdana, arial, sans-serif; font-size: 10px; fill: rgb(250, 250, 250); fill-opacity: 1; white-space: pre;\">5</text></g></g></g><g class=\"annotation\" data-index=\"6\" style=\"opacity: 1;\"><g class=\"annotation-text-g\" transform=\"rotate(0,594.47,257.5)\"><g class=\"cursor-pointer\" transform=\"translate(589,250)\"><rect class=\"bg\" x=\"0.5\" y=\"0.5\" width=\"9\" height=\"14\" style=\"stroke-width: 1px; stroke: rgb(0, 0, 0); stroke-opacity: 0; fill: rgb(0, 0, 0); fill-opacity: 0;\"/><text class=\"annotation-text\" text-anchor=\"middle\" x=\"4.78125\" y=\"11\" style=\"font-family: 'Open Sans', verdana, arial, sans-serif; font-size: 10px; fill: rgb(250, 250, 250); fill-opacity: 1; white-space: pre;\">6</text></g></g></g><g class=\"annotation\" data-index=\"7\" style=\"opacity: 1;\"><g class=\"annotation-text-g\" transform=\"rotate(0,105.53,322.75)\"><g class=\"cursor-pointer\" transform=\"translate(101,315)\"><rect class=\"bg\" x=\"0.5\" y=\"0.5\" width=\"9\" height=\"14\" style=\"stroke-width: 1px; stroke: rgb(0, 0, 0); stroke-opacity: 0; fill: rgb(0, 0, 0); fill-opacity: 0;\"/><text class=\"annotation-text\" text-anchor=\"middle\" x=\"4.78125\" y=\"11\" style=\"font-family: 'Open Sans', verdana, arial, sans-serif; font-size: 10px; fill: rgb(250, 250, 250); fill-opacity: 1; white-space: pre;\">7</text></g></g></g><g class=\"annotation\" data-index=\"8\" style=\"opacity: 1;\"><g class=\"annotation-text-g\" transform=\"rotate(0,198.66,322.75)\"><g class=\"cursor-pointer\" transform=\"translate(194,315)\"><rect class=\"bg\" x=\"0.5\" y=\"0.5\" width=\"9\" height=\"14\" style=\"stroke-width: 1px; stroke: rgb(0, 0, 0); stroke-opacity: 0; fill: rgb(0, 0, 0); fill-opacity: 0;\"/><text class=\"annotation-text\" text-anchor=\"middle\" x=\"4.78125\" y=\"11\" style=\"font-family: 'Open Sans', verdana, arial, sans-serif; font-size: 10px; fill: rgb(250, 250, 250); fill-opacity: 1; white-space: pre;\">8</text></g></g></g><g class=\"annotation\" data-index=\"9\" style=\"opacity: 1;\"><g class=\"annotation-text-g\" transform=\"rotate(0,291.78999999999996,322.75)\"><g class=\"cursor-pointer\" transform=\"translate(287,315)\"><rect class=\"bg\" x=\"0.5\" y=\"0.5\" width=\"9\" height=\"14\" style=\"stroke-width: 1px; stroke: rgb(0, 0, 0); stroke-opacity: 0; fill: rgb(0, 0, 0); fill-opacity: 0;\"/><text class=\"annotation-text\" text-anchor=\"middle\" x=\"4.78125\" y=\"11\" style=\"font-family: 'Open Sans', verdana, arial, sans-serif; font-size: 10px; fill: rgb(250, 250, 250); fill-opacity: 1; white-space: pre;\">9</text></g></g></g><g class=\"annotation\" data-index=\"10\" style=\"opacity: 1;\"><g class=\"annotation-text-g\" transform=\"rotate(0,384.92,322.75)\"><g class=\"cursor-pointer\" transform=\"translate(377,315)\"><rect class=\"bg\" x=\"0.5\" y=\"0.5\" width=\"15\" height=\"14\" style=\"stroke-width: 1px; stroke: rgb(0, 0, 0); stroke-opacity: 0; fill: rgb(0, 0, 0); fill-opacity: 0;\"/><text class=\"annotation-text\" text-anchor=\"middle\" x=\"7.5625\" y=\"11\" style=\"font-family: 'Open Sans', verdana, arial, sans-serif; font-size: 10px; fill: rgb(250, 250, 250); fill-opacity: 1; white-space: pre;\">10</text></g></g></g><g class=\"annotation\" data-index=\"11\" style=\"opacity: 1;\"><g class=\"annotation-text-g\" transform=\"rotate(0,478.05,322.75)\"><g class=\"cursor-pointer\" transform=\"translate(470,315)\"><rect class=\"bg\" x=\"0.5\" y=\"0.5\" width=\"15\" height=\"14\" style=\"stroke-width: 1px; stroke: rgb(0, 0, 0); stroke-opacity: 0; fill: rgb(0, 0, 0); fill-opacity: 0;\"/><text class=\"annotation-text\" text-anchor=\"middle\" x=\"7.5625\" y=\"11\" style=\"font-family: 'Open Sans', verdana, arial, sans-serif; font-size: 10px; fill: rgb(250, 250, 250); fill-opacity: 1; white-space: pre;\">11</text></g></g></g><g class=\"annotation\" data-index=\"12\" style=\"opacity: 1;\"><g class=\"annotation-text-g\" transform=\"rotate(0,524.62,322.75)\"><g class=\"cursor-pointer\" transform=\"translate(517,315)\"><rect class=\"bg\" x=\"0.5\" y=\"0.5\" width=\"15\" height=\"14\" style=\"stroke-width: 1px; stroke: rgb(0, 0, 0); stroke-opacity: 0; fill: rgb(0, 0, 0); fill-opacity: 0;\"/><text class=\"annotation-text\" text-anchor=\"middle\" x=\"7.5625\" y=\"11\" style=\"font-family: 'Open Sans', verdana, arial, sans-serif; font-size: 10px; fill: rgb(250, 250, 250); fill-opacity: 1; white-space: pre;\">12</text></g></g></g><g class=\"annotation\" data-index=\"13\" style=\"opacity: 1;\"><g class=\"annotation-text-g\" transform=\"rotate(0,571.18,322.75)\"><g class=\"cursor-pointer\" transform=\"translate(563,315)\"><rect class=\"bg\" x=\"0.5\" y=\"0.5\" width=\"15\" height=\"14\" style=\"stroke-width: 1px; stroke: rgb(0, 0, 0); stroke-opacity: 0; fill: rgb(0, 0, 0); fill-opacity: 0;\"/><text class=\"annotation-text\" text-anchor=\"middle\" x=\"7.5625\" y=\"11\" style=\"font-family: 'Open Sans', verdana, arial, sans-serif; font-size: 10px; fill: rgb(250, 250, 250); fill-opacity: 1; white-space: pre;\">13</text></g></g></g><g class=\"annotation\" data-index=\"14\" style=\"opacity: 1;\"><g class=\"annotation-text-g\" transform=\"rotate(0,617.75,322.75)\"><g class=\"cursor-pointer\" transform=\"translate(610,315)\"><rect class=\"bg\" x=\"0.5\" y=\"0.5\" width=\"15\" height=\"14\" style=\"stroke-width: 1px; stroke: rgb(0, 0, 0); stroke-opacity: 0; fill: rgb(0, 0, 0); fill-opacity: 0;\"/><text class=\"annotation-text\" text-anchor=\"middle\" x=\"7.5625\" y=\"11\" style=\"font-family: 'Open Sans', verdana, arial, sans-serif; font-size: 10px; fill: rgb(250, 250, 250); fill-opacity: 1; white-space: pre;\">14</text></g></g></g><g class=\"annotation\" data-index=\"15\" style=\"opacity: 1;\"><g class=\"annotation-text-g\" transform=\"rotate(0,82.25,388)\"><g class=\"cursor-pointer\" transform=\"translate(74,381)\"><rect class=\"bg\" x=\"0.5\" y=\"0.5\" width=\"15\" height=\"14\" style=\"stroke-width: 1px; stroke: rgb(0, 0, 0); stroke-opacity: 0; fill: rgb(0, 0, 0); fill-opacity: 0;\"/><text class=\"annotation-text\" text-anchor=\"middle\" x=\"7.5625\" y=\"11\" style=\"font-family: 'Open Sans', verdana, arial, sans-serif; font-size: 10px; fill: rgb(250, 250, 250); fill-opacity: 1; white-space: pre;\">15</text></g></g></g><g class=\"annotation\" data-index=\"16\" style=\"opacity: 1;\"><g class=\"annotation-text-g\" transform=\"rotate(0,128.82,388)\"><g class=\"cursor-pointer\" transform=\"translate(121,381)\"><rect class=\"bg\" x=\"0.5\" y=\"0.5\" width=\"15\" height=\"14\" style=\"stroke-width: 1px; stroke: rgb(0, 0, 0); stroke-opacity: 0; fill: rgb(0, 0, 0); fill-opacity: 0;\"/><text class=\"annotation-text\" text-anchor=\"middle\" x=\"7.5625\" y=\"11\" style=\"font-family: 'Open Sans', verdana, arial, sans-serif; font-size: 10px; fill: rgb(250, 250, 250); fill-opacity: 1; white-space: pre;\">16</text></g></g></g><g class=\"annotation\" data-index=\"17\" style=\"opacity: 1;\"><g class=\"annotation-text-g\" transform=\"rotate(0,175.38,388)\"><g class=\"cursor-pointer\" transform=\"translate(167,381)\"><rect class=\"bg\" x=\"0.5\" y=\"0.5\" width=\"15\" height=\"14\" style=\"stroke-width: 1px; stroke: rgb(0, 0, 0); stroke-opacity: 0; fill: rgb(0, 0, 0); fill-opacity: 0;\"/><text class=\"annotation-text\" text-anchor=\"middle\" x=\"7.5625\" y=\"11\" style=\"font-family: 'Open Sans', verdana, arial, sans-serif; font-size: 10px; fill: rgb(250, 250, 250); fill-opacity: 1; white-space: pre;\">17</text></g></g></g><g class=\"annotation\" data-index=\"18\" style=\"opacity: 1;\"><g class=\"annotation-text-g\" transform=\"rotate(0,221.95,388)\"><g class=\"cursor-pointer\" transform=\"translate(214,381)\"><rect class=\"bg\" x=\"0.5\" y=\"0.5\" width=\"15\" height=\"14\" style=\"stroke-width: 1px; stroke: rgb(0, 0, 0); stroke-opacity: 0; fill: rgb(0, 0, 0); fill-opacity: 0;\"/><text class=\"annotation-text\" text-anchor=\"middle\" x=\"7.5625\" y=\"11\" style=\"font-family: 'Open Sans', verdana, arial, sans-serif; font-size: 10px; fill: rgb(250, 250, 250); fill-opacity: 1; white-space: pre;\">18</text></g></g></g><g class=\"annotation\" data-index=\"19\" style=\"opacity: 1;\"><g class=\"annotation-text-g\" transform=\"rotate(0,268.51,388)\"><g class=\"cursor-pointer\" transform=\"translate(261,381)\"><rect class=\"bg\" x=\"0.5\" y=\"0.5\" width=\"15\" height=\"14\" style=\"stroke-width: 1px; stroke: rgb(0, 0, 0); stroke-opacity: 0; fill: rgb(0, 0, 0); fill-opacity: 0;\"/><text class=\"annotation-text\" text-anchor=\"middle\" x=\"7.5625\" y=\"11\" style=\"font-family: 'Open Sans', verdana, arial, sans-serif; font-size: 10px; fill: rgb(250, 250, 250); fill-opacity: 1; white-space: pre;\">19</text></g></g></g><g class=\"annotation\" data-index=\"20\" style=\"opacity: 1;\"><g class=\"annotation-text-g\" transform=\"rotate(0,315.08,388)\"><g class=\"cursor-pointer\" transform=\"translate(307,381)\"><rect class=\"bg\" x=\"0.5\" y=\"0.5\" width=\"15\" height=\"14\" style=\"stroke-width: 1px; stroke: rgb(0, 0, 0); stroke-opacity: 0; fill: rgb(0, 0, 0); fill-opacity: 0;\"/><text class=\"annotation-text\" text-anchor=\"middle\" x=\"7.5625\" y=\"11\" style=\"font-family: 'Open Sans', verdana, arial, sans-serif; font-size: 10px; fill: rgb(250, 250, 250); fill-opacity: 1; white-space: pre;\">20</text></g></g></g><g class=\"annotation\" data-index=\"21\" style=\"opacity: 1;\"><g class=\"annotation-text-g\" transform=\"rotate(0,361.64,388)\"><g class=\"cursor-pointer\" transform=\"translate(354,381)\"><rect class=\"bg\" x=\"0.5\" y=\"0.5\" width=\"15\" height=\"14\" style=\"stroke-width: 1px; stroke: rgb(0, 0, 0); stroke-opacity: 0; fill: rgb(0, 0, 0); fill-opacity: 0;\"/><text class=\"annotation-text\" text-anchor=\"middle\" x=\"7.5625\" y=\"11\" style=\"font-family: 'Open Sans', verdana, arial, sans-serif; font-size: 10px; fill: rgb(250, 250, 250); fill-opacity: 1; white-space: pre;\">21</text></g></g></g><g class=\"annotation\" data-index=\"22\" style=\"opacity: 1;\"><g class=\"annotation-text-g\" transform=\"rotate(0,408.21,388)\"><g class=\"cursor-pointer\" transform=\"translate(400,381)\"><rect class=\"bg\" x=\"0.5\" y=\"0.5\" width=\"15\" height=\"14\" style=\"stroke-width: 1px; stroke: rgb(0, 0, 0); stroke-opacity: 0; fill: rgb(0, 0, 0); fill-opacity: 0;\"/><text class=\"annotation-text\" text-anchor=\"middle\" x=\"7.5625\" y=\"11\" style=\"font-family: 'Open Sans', verdana, arial, sans-serif; font-size: 10px; fill: rgb(250, 250, 250); fill-opacity: 1; white-space: pre;\">22</text></g></g></g><g class=\"annotation\" data-index=\"23\" style=\"opacity: 1;\"><g class=\"annotation-text-g\" transform=\"rotate(0,454.77,388)\"><g class=\"cursor-pointer\" transform=\"translate(447,381)\"><rect class=\"bg\" x=\"0.5\" y=\"0.5\" width=\"15\" height=\"14\" style=\"stroke-width: 1px; stroke: rgb(0, 0, 0); stroke-opacity: 0; fill: rgb(0, 0, 0); fill-opacity: 0;\"/><text class=\"annotation-text\" text-anchor=\"middle\" x=\"7.5625\" y=\"11\" style=\"font-family: 'Open Sans', verdana, arial, sans-serif; font-size: 10px; fill: rgb(250, 250, 250); fill-opacity: 1; white-space: pre;\">23</text></g></g></g><g class=\"annotation\" data-index=\"24\" style=\"opacity: 1;\"><g class=\"annotation-text-g\" transform=\"rotate(0,501.34,388)\"><g class=\"cursor-pointer\" transform=\"translate(493,381)\"><rect class=\"bg\" x=\"0.5\" y=\"0.5\" width=\"15\" height=\"14\" style=\"stroke-width: 1px; stroke: rgb(0, 0, 0); stroke-opacity: 0; fill: rgb(0, 0, 0); fill-opacity: 0;\"/><text class=\"annotation-text\" text-anchor=\"middle\" x=\"7.5625\" y=\"11\" style=\"font-family: 'Open Sans', verdana, arial, sans-serif; font-size: 10px; fill: rgb(250, 250, 250); fill-opacity: 1; white-space: pre;\">24</text></g></g></g></g></svg>"
      ]
     },
     "metadata": {},
     "output_type": "display_data"
    }
   ],
   "source": [
    "axis = dict(showline=False, # hide axis line, grid, ticklabels and  title\n",
    "            zeroline=False,\n",
    "            showgrid=False,\n",
    "            showticklabels=False,\n",
    "            )\n",
    "\n",
    "fig.update_layout(title= 'Tree with Reingold-Tilford Layout',\n",
    "              annotations=make_annotations(position, v_label),\n",
    "              font_size=12,\n",
    "              showlegend=False,\n",
    "              xaxis=axis,\n",
    "              yaxis=axis,\n",
    "              margin=dict(l=40, r=40, b=85, t=100),\n",
    "              hovermode='closest',\n",
    "              plot_bgcolor='rgb(248,248,248)'\n",
    ")\n",
    "\n",
    "fig.show(renderer=\"svg\")\n",
    "# fig.show(\"notebook\")"
   ]
  },
  {
   "cell_type": "markdown",
   "metadata": {},
   "source": [
    "### Визуализация группировки"
   ]
  },
  {
   "cell_type": "code",
   "execution_count": 69,
   "metadata": {},
   "outputs": [
    {
     "data": {
      "text/html": [
       "<div>\n",
       "<style scoped>\n",
       "    .dataframe tbody tr th:only-of-type {\n",
       "        vertical-align: middle;\n",
       "    }\n",
       "\n",
       "    .dataframe tbody tr th {\n",
       "        vertical-align: top;\n",
       "    }\n",
       "\n",
       "    .dataframe thead th {\n",
       "        text-align: right;\n",
       "    }\n",
       "</style>\n",
       "<table border=\"1\" class=\"dataframe\">\n",
       "  <thead>\n",
       "    <tr style=\"text-align: right;\">\n",
       "      <th></th>\n",
       "      <th>all</th>\n",
       "      <th>all_count</th>\n",
       "      <th>group</th>\n",
       "      <th>group_count</th>\n",
       "      <th>sub_group</th>\n",
       "      <th>sub_group_count</th>\n",
       "    </tr>\n",
       "  </thead>\n",
       "  <tbody>\n",
       "    <tr>\n",
       "      <th>0</th>\n",
       "      <td>ALL</td>\n",
       "      <td>84</td>\n",
       "      <td>A</td>\n",
       "      <td>7</td>\n",
       "      <td>a1</td>\n",
       "      <td>4</td>\n",
       "    </tr>\n",
       "    <tr>\n",
       "      <th>1</th>\n",
       "      <td>ALL</td>\n",
       "      <td>84</td>\n",
       "      <td>A</td>\n",
       "      <td>7</td>\n",
       "      <td>a2</td>\n",
       "      <td>2</td>\n",
       "    </tr>\n",
       "    <tr>\n",
       "      <th>2</th>\n",
       "      <td>ALL</td>\n",
       "      <td>84</td>\n",
       "      <td>A</td>\n",
       "      <td>7</td>\n",
       "      <td>a3</td>\n",
       "      <td>1</td>\n",
       "    </tr>\n",
       "    <tr>\n",
       "      <th>3</th>\n",
       "      <td>ALL</td>\n",
       "      <td>84</td>\n",
       "      <td>B</td>\n",
       "      <td>9</td>\n",
       "      <td>a2</td>\n",
       "      <td>1</td>\n",
       "    </tr>\n",
       "    <tr>\n",
       "      <th>4</th>\n",
       "      <td>ALL</td>\n",
       "      <td>84</td>\n",
       "      <td>B</td>\n",
       "      <td>9</td>\n",
       "      <td>b1</td>\n",
       "      <td>4</td>\n",
       "    </tr>\n",
       "    <tr>\n",
       "      <th>5</th>\n",
       "      <td>ALL</td>\n",
       "      <td>84</td>\n",
       "      <td>B</td>\n",
       "      <td>9</td>\n",
       "      <td>b2</td>\n",
       "      <td>3</td>\n",
       "    </tr>\n",
       "    <tr>\n",
       "      <th>6</th>\n",
       "      <td>ALL</td>\n",
       "      <td>84</td>\n",
       "      <td>B</td>\n",
       "      <td>9</td>\n",
       "      <td>b3</td>\n",
       "      <td>1</td>\n",
       "    </tr>\n",
       "    <tr>\n",
       "      <th>7</th>\n",
       "      <td>ALL</td>\n",
       "      <td>84</td>\n",
       "      <td>C</td>\n",
       "      <td>9</td>\n",
       "      <td>c1</td>\n",
       "      <td>5</td>\n",
       "    </tr>\n",
       "    <tr>\n",
       "      <th>8</th>\n",
       "      <td>ALL</td>\n",
       "      <td>84</td>\n",
       "      <td>C</td>\n",
       "      <td>9</td>\n",
       "      <td>c2</td>\n",
       "      <td>3</td>\n",
       "    </tr>\n",
       "    <tr>\n",
       "      <th>9</th>\n",
       "      <td>ALL</td>\n",
       "      <td>84</td>\n",
       "      <td>C</td>\n",
       "      <td>9</td>\n",
       "      <td>c3</td>\n",
       "      <td>1</td>\n",
       "    </tr>\n",
       "  </tbody>\n",
       "</table>\n",
       "</div>"
      ],
      "text/plain": [
       "   all  all_count group  group_count sub_group  sub_group_count\n",
       "0  ALL         84     A            7        a1                4\n",
       "1  ALL         84     A            7        a2                2\n",
       "2  ALL         84     A            7        a3                1\n",
       "3  ALL         84     B            9        a2                1\n",
       "4  ALL         84     B            9        b1                4\n",
       "5  ALL         84     B            9        b2                3\n",
       "6  ALL         84     B            9        b3                1\n",
       "7  ALL         84     C            9        c1                5\n",
       "8  ALL         84     C            9        c2                3\n",
       "9  ALL         84     C            9        c3                1"
      ]
     },
     "execution_count": 69,
     "metadata": {},
     "output_type": "execute_result"
    }
   ],
   "source": [
    "def groupcount(df, cols, char, prefix=\"_count\"):\n",
    "    grouplist = []\n",
    "    \n",
    "    for col in cols:\n",
    "        grouplist.append(col)\n",
    "        add = df.groupby([*grouplist])[char].nunique().reset_index()\n",
    "        \n",
    "        old, new = add.iloc[:,-1].name, f\"{col}{prefix}\"\n",
    "        add = add.rename(columns={old: new})\n",
    "        \n",
    "        add = add[[*grouplist, new]]\n",
    "        df = pd.merge(df, add, on=[*grouplist])\n",
    "        grouplist.append(new)\n",
    "        \n",
    "    gc = df.groupby([*grouplist[:-1]])[char].nunique().to_frame().rename(columns={char: grouplist[-1]})\n",
    "    return gc\n",
    "\n",
    "groupcount_df = groupcount(data, cols=['group', 'sub_group'], char='val_id', prefix=\"_count\")\n",
    "groupcount_df = groupcount_df.reset_index()\n",
    "groupcount_df['all'] = 'ALL'\n",
    "groupcount_df['all_count'] = groupcount_df['group_count'].sum()\n",
    "groupcount_df = groupcount_df[['all', 'all_count', 'group', 'group_count', 'sub_group', 'sub_group_count']]\n",
    "groupcount_df"
   ]
  },
  {
   "cell_type": "markdown",
   "metadata": {},
   "source": [
    "## Визуализация катировок"
   ]
  },
  {
   "cell_type": "code",
   "execution_count": 70,
   "metadata": {},
   "outputs": [
    {
     "data": {
      "text/html": [
       "<div>\n",
       "<style scoped>\n",
       "    .dataframe tbody tr th:only-of-type {\n",
       "        vertical-align: middle;\n",
       "    }\n",
       "\n",
       "    .dataframe tbody tr th {\n",
       "        vertical-align: top;\n",
       "    }\n",
       "\n",
       "    .dataframe thead th {\n",
       "        text-align: right;\n",
       "    }\n",
       "</style>\n",
       "<table border=\"1\" class=\"dataframe\">\n",
       "  <thead>\n",
       "    <tr style=\"text-align: right;\">\n",
       "      <th></th>\n",
       "      <th>hour</th>\n",
       "      <th>open</th>\n",
       "      <th>high</th>\n",
       "      <th>low</th>\n",
       "      <th>close</th>\n",
       "    </tr>\n",
       "  </thead>\n",
       "  <tbody>\n",
       "    <tr>\n",
       "      <th>0</th>\n",
       "      <td>10.0</td>\n",
       "      <td>108230.0</td>\n",
       "      <td>108380.0</td>\n",
       "      <td>107520.0</td>\n",
       "      <td>107640.0</td>\n",
       "    </tr>\n",
       "    <tr>\n",
       "      <th>1</th>\n",
       "      <td>11.0</td>\n",
       "      <td>107620.0</td>\n",
       "      <td>107690.0</td>\n",
       "      <td>107350.0</td>\n",
       "      <td>107470.0</td>\n",
       "    </tr>\n",
       "    <tr>\n",
       "      <th>2</th>\n",
       "      <td>12.0</td>\n",
       "      <td>107460.0</td>\n",
       "      <td>107820.0</td>\n",
       "      <td>107340.0</td>\n",
       "      <td>107770.0</td>\n",
       "    </tr>\n",
       "    <tr>\n",
       "      <th>3</th>\n",
       "      <td>13.0</td>\n",
       "      <td>107780.0</td>\n",
       "      <td>108210.0</td>\n",
       "      <td>107660.0</td>\n",
       "      <td>108080.0</td>\n",
       "    </tr>\n",
       "    <tr>\n",
       "      <th>4</th>\n",
       "      <td>14.0</td>\n",
       "      <td>108080.0</td>\n",
       "      <td>108330.0</td>\n",
       "      <td>107990.0</td>\n",
       "      <td>108170.0</td>\n",
       "    </tr>\n",
       "  </tbody>\n",
       "</table>\n",
       "</div>"
      ],
      "text/plain": [
       "   hour      open      high       low     close\n",
       "0  10.0  108230.0  108380.0  107520.0  107640.0\n",
       "1  11.0  107620.0  107690.0  107350.0  107470.0\n",
       "2  12.0  107460.0  107820.0  107340.0  107770.0\n",
       "3  13.0  107780.0  108210.0  107660.0  108080.0\n",
       "4  14.0  108080.0  108330.0  107990.0  108170.0"
      ]
     },
     "execution_count": 70,
     "metadata": {},
     "output_type": "execute_result"
    }
   ],
   "source": [
    "stock = pd.read_csv('data/stock.csv')\n",
    "stock.head()"
   ]
  },
  {
   "cell_type": "markdown",
   "metadata": {},
   "source": [
    "### Candlestick Charts - японские свечи\n",
    "https://plotly.com/python/candlestick-charts/"
   ]
  },
  {
   "cell_type": "code",
   "execution_count": 71,
   "metadata": {},
   "outputs": [
    {
     "data": {
      "image/svg+xml": [
       "<svg class=\"main-svg\" xmlns=\"http://www.w3.org/2000/svg\" xmlns:xlink=\"http://www.w3.org/1999/xlink\" width=\"1000\" height=\"600\" style=\"\" viewBox=\"0 0 1000 600\"><rect x=\"0\" y=\"0\" width=\"1000\" height=\"600\" style=\"fill: rgb(255, 255, 255); fill-opacity: 1;\"/><defs id=\"defs-cb5feb\"><g class=\"clips\"><clipPath id=\"clipcb5febxyplot\" class=\"plotclip\"><rect width=\"840\" height=\"420\"/></clipPath><clipPath class=\"axesclip\" id=\"clipcb5febx\"><rect x=\"80\" y=\"0\" width=\"840\" height=\"600\"/></clipPath><clipPath class=\"axesclip\" id=\"clipcb5feby\"><rect x=\"0\" y=\"100\" width=\"1000\" height=\"420\"/></clipPath><clipPath class=\"axesclip\" id=\"clipcb5febxy\"><rect x=\"80\" y=\"100\" width=\"840\" height=\"420\"/></clipPath></g><g class=\"gradients\"/><g class=\"patterns\"/></defs><g class=\"bglayer\"><rect class=\"bg\" x=\"80\" y=\"100\" width=\"840\" height=\"420\" style=\"fill: rgb(229, 236, 246); fill-opacity: 1; stroke-width: 0;\"/></g><g class=\"layer-below\"><g class=\"imagelayer\"/><g class=\"shapelayer\"/></g><g class=\"cartesianlayer\"><g class=\"subplot xy\"><g class=\"layer-subplot\"><g class=\"shapelayer\"/><g class=\"imagelayer\"/></g><g class=\"gridlayer\"><g class=\"x\"><path class=\"xgrid crisp\" transform=\"translate(110,0)\" d=\"M0,100v420\" style=\"stroke: rgb(255, 255, 255); stroke-opacity: 1; stroke-width: 1px;\"/><path class=\"xgrid crisp\" transform=\"translate(230,0)\" d=\"M0,100v420\" style=\"stroke: rgb(255, 255, 255); stroke-opacity: 1; stroke-width: 1px;\"/><path class=\"xgrid crisp\" transform=\"translate(350,0)\" d=\"M0,100v420\" style=\"stroke: rgb(255, 255, 255); stroke-opacity: 1; stroke-width: 1px;\"/><path class=\"xgrid crisp\" transform=\"translate(470,0)\" d=\"M0,100v420\" style=\"stroke: rgb(255, 255, 255); stroke-opacity: 1; stroke-width: 1px;\"/><path class=\"xgrid crisp\" transform=\"translate(590,0)\" d=\"M0,100v420\" style=\"stroke: rgb(255, 255, 255); stroke-opacity: 1; stroke-width: 1px;\"/><path class=\"xgrid crisp\" transform=\"translate(710,0)\" d=\"M0,100v420\" style=\"stroke: rgb(255, 255, 255); stroke-opacity: 1; stroke-width: 1px;\"/><path class=\"xgrid crisp\" transform=\"translate(830,0)\" d=\"M0,100v420\" style=\"stroke: rgb(255, 255, 255); stroke-opacity: 1; stroke-width: 1px;\"/></g><g class=\"y\"><path class=\"ygrid crisp\" transform=\"translate(0,482.2)\" d=\"M80,0h840\" style=\"stroke: rgb(255, 255, 255); stroke-opacity: 1; stroke-width: 1px;\"/><path class=\"ygrid crisp\" transform=\"translate(0,426.2)\" d=\"M80,0h840\" style=\"stroke: rgb(255, 255, 255); stroke-opacity: 1; stroke-width: 1px;\"/><path class=\"ygrid crisp\" transform=\"translate(0,370.2)\" d=\"M80,0h840\" style=\"stroke: rgb(255, 255, 255); stroke-opacity: 1; stroke-width: 1px;\"/><path class=\"ygrid crisp\" transform=\"translate(0,314.2)\" d=\"M80,0h840\" style=\"stroke: rgb(255, 255, 255); stroke-opacity: 1; stroke-width: 1px;\"/><path class=\"ygrid crisp\" transform=\"translate(0,258.2)\" d=\"M80,0h840\" style=\"stroke: rgb(255, 255, 255); stroke-opacity: 1; stroke-width: 1px;\"/><path class=\"ygrid crisp\" transform=\"translate(0,202.2)\" d=\"M80,0h840\" style=\"stroke: rgb(255, 255, 255); stroke-opacity: 1; stroke-width: 1px;\"/><path class=\"ygrid crisp\" transform=\"translate(0,146.2)\" d=\"M80,0h840\" style=\"stroke: rgb(255, 255, 255); stroke-opacity: 1; stroke-width: 1px;\"/></g></g><g class=\"zerolinelayer\"/><path class=\"xlines-below\"/><path class=\"ylines-below\"/><g class=\"overlines-below\"/><g class=\"xaxislayer-below\"/><g class=\"yaxislayer-below\"/><g class=\"overaxes-below\"/><g class=\"plot\" transform=\"translate(80,100)\" clip-path=\"url(#clipcb5febxyplot)\"><g class=\"boxlayer mlayer\"><g class=\"trace boxes\" style=\"opacity: 1;\"><path class=\"box\" d=\"M15.3,314H44.7M15.3,315H44.7V149.8H15.3ZM30,315V348.6M30,149.8V107.8\" style=\"vector-effect: non-scaling-stroke; stroke-width: 2px; stroke: rgb(255, 65, 54); stroke-opacity: 1; fill: rgb(255, 65, 54); fill-opacity: 0.5; opacity: 1;\"/><path class=\"box\" d=\"M75.3,361.6H104.7M75.3,362.6H104.7V320.6H75.3ZM90,362.6V396.2M90,320.6V301\" style=\"vector-effect: non-scaling-stroke; stroke-width: 2px; stroke: rgb(255, 65, 54); stroke-opacity: 1; fill: rgb(255, 65, 54); fill-opacity: 0.5; opacity: 1;\"/><path class=\"box\" d=\"M135.3,279.6H164.7M135.3,365.4H164.7V278.6H135.3ZM150,365.4V399M150,278.6V264.6\" style=\"vector-effect: non-scaling-stroke; stroke-width: 2px; stroke: rgb(61, 153, 112); stroke-opacity: 1; fill: rgb(61, 153, 112); fill-opacity: 0.5; opacity: 1;\"/><path class=\"box\" d=\"M195.3,192.8H224.7M195.3,275.8H224.7V191.8H195.3ZM210,275.8V309.4M210,191.8V155.4\" style=\"vector-effect: non-scaling-stroke; stroke-width: 2px; stroke: rgb(61, 153, 112); stroke-opacity: 1; fill: rgb(61, 153, 112); fill-opacity: 0.5; opacity: 1;\"/><path class=\"box\" d=\"M255.3,167.6H284.7M255.3,191.8H284.7V166.6H255.3ZM270,191.8V217M270,166.6V121.8\" style=\"vector-effect: non-scaling-stroke; stroke-width: 2px; stroke: rgb(61, 153, 112); stroke-opacity: 1; fill: rgb(61, 153, 112); fill-opacity: 0.5; opacity: 1;\"/><path class=\"box\" d=\"M315.3,139.6H344.7M315.3,175H344.7V138.6H315.3ZM330,175V191.8M330,138.6V133\" style=\"vector-effect: non-scaling-stroke; stroke-width: 2px; stroke: rgb(61, 153, 112); stroke-opacity: 1; fill: rgb(61, 153, 112); fill-opacity: 0.5; opacity: 1;\"/><path class=\"box\" d=\"M375.3,114.4H404.7M375.3,138.6H404.7V113.4H375.3ZM390,138.6V155.4M390,113.4V88.2\" style=\"vector-effect: non-scaling-stroke; stroke-width: 2px; stroke: rgb(61, 153, 112); stroke-opacity: 1; fill: rgb(61, 153, 112); fill-opacity: 0.5; opacity: 1;\"/><path class=\"box\" d=\"M435.3,129.2H464.7M435.3,130.2H464.7V113.4H435.3ZM450,130.2V144.2M450,113.4V51.8\" style=\"vector-effect: non-scaling-stroke; stroke-width: 2px; stroke: rgb(255, 65, 54); stroke-opacity: 1; fill: rgb(255, 65, 54); fill-opacity: 0.5; opacity: 1;\"/><path class=\"box\" d=\"M495.3,36H524.7M495.3,127.4H524.7V35H495.3ZM510,127.4V175M510,35V23.8\" style=\"vector-effect: non-scaling-stroke; stroke-width: 2px; stroke: rgb(61, 153, 112); stroke-opacity: 1; fill: rgb(61, 153, 112); fill-opacity: 0.5; opacity: 1;\"/><path class=\"box\" d=\"M555.3,67.6H584.7M555.3,68.6H584.7V37.8H555.3ZM570,68.6V110.6M570,37.8V21\" style=\"vector-effect: non-scaling-stroke; stroke-width: 2px; stroke: rgb(255, 65, 54); stroke-opacity: 1; fill: rgb(255, 65, 54); fill-opacity: 0.5; opacity: 1;\"/><path class=\"box\" d=\"M615.3,47.2H644.7M615.3,65.8H644.7V46.2H615.3ZM630,65.8V88.2M630,46.2V46.2\" style=\"vector-effect: non-scaling-stroke; stroke-width: 2px; stroke: rgb(61, 153, 112); stroke-opacity: 1; fill: rgb(61, 153, 112); fill-opacity: 0.5; opacity: 1;\"/><path class=\"box\" d=\"M675.3,76H704.7M675.3,77H704.7V49H675.3ZM690,77V77M690,49V32.2\" style=\"vector-effect: non-scaling-stroke; stroke-width: 2px; stroke: rgb(255, 65, 54); stroke-opacity: 1; fill: rgb(255, 65, 54); fill-opacity: 0.5; opacity: 1;\"/><path class=\"box\" d=\"M735.3,109.6H764.7M735.3,110.6H764.7V68.6H735.3ZM750,110.6V124.6M750,68.6V40.6\" style=\"vector-effect: non-scaling-stroke; stroke-width: 2px; stroke: rgb(255, 65, 54); stroke-opacity: 1; fill: rgb(255, 65, 54); fill-opacity: 0.5; opacity: 1;\"/><path class=\"box\" d=\"M795.3,91H824.7M795.3,91H824.7V91H795.3ZM810,91V110.6M810,91V63\" style=\"vector-effect: non-scaling-stroke; stroke-width: 2px; stroke: rgb(61, 153, 112); stroke-opacity: 1; fill: rgb(61, 153, 112); fill-opacity: 0.5; opacity: 1;\"/></g></g></g><g class=\"overplot\"/><path class=\"xlines-above crisp\" d=\"M0,0\" style=\"fill: none;\"/><path class=\"ylines-above crisp\" d=\"M0,0\" style=\"fill: none;\"/><g class=\"overlines-above\"/><g class=\"xaxislayer-above\"><g class=\"xtick\"><text text-anchor=\"middle\" x=\"0\" y=\"533\" transform=\"translate(110,0)\" style=\"font-family: 'Open Sans', verdana, arial, sans-serif; font-size: 12px; fill: rgb(42, 63, 95); fill-opacity: 1; white-space: pre; opacity: 1;\">10</text></g><g class=\"xtick\"><text text-anchor=\"middle\" x=\"0\" y=\"533\" style=\"font-family: 'Open Sans', verdana, arial, sans-serif; font-size: 12px; fill: rgb(42, 63, 95); fill-opacity: 1; white-space: pre; opacity: 1;\" transform=\"translate(230,0)\">12</text></g><g class=\"xtick\"><text text-anchor=\"middle\" x=\"0\" y=\"533\" style=\"font-family: 'Open Sans', verdana, arial, sans-serif; font-size: 12px; fill: rgb(42, 63, 95); fill-opacity: 1; white-space: pre; opacity: 1;\" transform=\"translate(350,0)\">14</text></g><g class=\"xtick\"><text text-anchor=\"middle\" x=\"0\" y=\"533\" style=\"font-family: 'Open Sans', verdana, arial, sans-serif; font-size: 12px; fill: rgb(42, 63, 95); fill-opacity: 1; white-space: pre; opacity: 1;\" transform=\"translate(470,0)\">16</text></g><g class=\"xtick\"><text text-anchor=\"middle\" x=\"0\" y=\"533\" style=\"font-family: 'Open Sans', verdana, arial, sans-serif; font-size: 12px; fill: rgb(42, 63, 95); fill-opacity: 1; white-space: pre; opacity: 1;\" transform=\"translate(590,0)\">18</text></g><g class=\"xtick\"><text text-anchor=\"middle\" x=\"0\" y=\"533\" style=\"font-family: 'Open Sans', verdana, arial, sans-serif; font-size: 12px; fill: rgb(42, 63, 95); fill-opacity: 1; white-space: pre; opacity: 1;\" transform=\"translate(710,0)\">20</text></g><g class=\"xtick\"><text text-anchor=\"middle\" x=\"0\" y=\"533\" style=\"font-family: 'Open Sans', verdana, arial, sans-serif; font-size: 12px; fill: rgb(42, 63, 95); fill-opacity: 1; white-space: pre; opacity: 1;\" transform=\"translate(830,0)\">22</text></g></g><g class=\"yaxislayer-above\"><g class=\"ytick\"><text text-anchor=\"end\" x=\"79\" y=\"4.199999999999999\" transform=\"translate(0,482.2)\" style=\"font-family: 'Open Sans', verdana, arial, sans-serif; font-size: 12px; fill: rgb(42, 63, 95); fill-opacity: 1; white-space: pre; opacity: 1;\">107.4k</text></g><g class=\"ytick\"><text text-anchor=\"end\" x=\"79\" y=\"4.199999999999999\" style=\"font-family: 'Open Sans', verdana, arial, sans-serif; font-size: 12px; fill: rgb(42, 63, 95); fill-opacity: 1; white-space: pre; opacity: 1;\" transform=\"translate(0,426.2)\">107.6k</text></g><g class=\"ytick\"><text text-anchor=\"end\" x=\"79\" y=\"4.199999999999999\" style=\"font-family: 'Open Sans', verdana, arial, sans-serif; font-size: 12px; fill: rgb(42, 63, 95); fill-opacity: 1; white-space: pre; opacity: 1;\" transform=\"translate(0,370.2)\">107.8k</text></g><g class=\"ytick\"><text text-anchor=\"end\" x=\"79\" y=\"4.199999999999999\" style=\"font-family: 'Open Sans', verdana, arial, sans-serif; font-size: 12px; fill: rgb(42, 63, 95); fill-opacity: 1; white-space: pre; opacity: 1;\" transform=\"translate(0,314.2)\">108k</text></g><g class=\"ytick\"><text text-anchor=\"end\" x=\"79\" y=\"4.199999999999999\" style=\"font-family: 'Open Sans', verdana, arial, sans-serif; font-size: 12px; fill: rgb(42, 63, 95); fill-opacity: 1; white-space: pre; opacity: 1;\" transform=\"translate(0,258.2)\">108.2k</text></g><g class=\"ytick\"><text text-anchor=\"end\" x=\"79\" y=\"4.199999999999999\" style=\"font-family: 'Open Sans', verdana, arial, sans-serif; font-size: 12px; fill: rgb(42, 63, 95); fill-opacity: 1; white-space: pre; opacity: 1;\" transform=\"translate(0,202.2)\">108.4k</text></g><g class=\"ytick\"><text text-anchor=\"end\" x=\"79\" y=\"4.199999999999999\" style=\"font-family: 'Open Sans', verdana, arial, sans-serif; font-size: 12px; fill: rgb(42, 63, 95); fill-opacity: 1; white-space: pre; opacity: 1;\" transform=\"translate(0,146.2)\">108.6k</text></g></g><g class=\"overaxes-above\"/></g></g><g class=\"polarlayer\"/><g class=\"smithlayer\"/><g class=\"ternarylayer\"/><g class=\"geolayer\"/><g class=\"funnelarealayer\"/><g class=\"pielayer\"/><g class=\"iciclelayer\"/><g class=\"treemaplayer\"/><g class=\"sunburstlayer\"/><g class=\"glimages\"/><defs id=\"topdefs-cb5feb\"><g class=\"clips\"/></defs><g class=\"layer-above\"><g class=\"imagelayer\"/><g class=\"shapelayer\"/></g><g class=\"infolayer\"><g class=\"g-gtitle\"/><g class=\"g-xtitle\"/><g class=\"g-ytitle\"/></g></svg>"
      ]
     },
     "metadata": {},
     "output_type": "display_data"
    }
   ],
   "source": [
    "df = stock\n",
    "\n",
    "width = 1000\n",
    "height = 600\n",
    "\n",
    "fig = go.Figure(data=[\n",
    "    go.Candlestick(\n",
    "        x=df['hour'],\n",
    "        open=df['open'],\n",
    "        high=df['high'],\n",
    "        low=df['low'],\n",
    "        close=df['close'])\n",
    "])\n",
    "\n",
    "fig.update_layout(\n",
    "    width = width,\n",
    "    height = height,\n",
    "    xaxis_rangeslider_visible=False\n",
    ")\n",
    "\n",
    "fig.show(renderer=\"svg\")\n",
    "# fig.show(\"notebook\")"
   ]
  },
  {
   "cell_type": "markdown",
   "metadata": {},
   "source": [
    "### OHLC Charts\n",
    "https://plotly.com/python/ohlc-charts/"
   ]
  },
  {
   "cell_type": "code",
   "execution_count": 72,
   "metadata": {},
   "outputs": [
    {
     "data": {
      "image/svg+xml": [
       "<svg class=\"main-svg\" xmlns=\"http://www.w3.org/2000/svg\" xmlns:xlink=\"http://www.w3.org/1999/xlink\" width=\"1000\" height=\"600\" style=\"\" viewBox=\"0 0 1000 600\"><rect x=\"0\" y=\"0\" width=\"1000\" height=\"600\" style=\"fill: rgb(255, 255, 255); fill-opacity: 1;\"/><defs id=\"defs-d7e336\"><g class=\"clips\"><clipPath id=\"clipd7e336xyplot\" class=\"plotclip\"><rect width=\"840\" height=\"420\"/></clipPath><clipPath class=\"axesclip\" id=\"clipd7e336x\"><rect x=\"80\" y=\"0\" width=\"840\" height=\"600\"/></clipPath><clipPath class=\"axesclip\" id=\"clipd7e336y\"><rect x=\"0\" y=\"100\" width=\"1000\" height=\"420\"/></clipPath><clipPath class=\"axesclip\" id=\"clipd7e336xy\"><rect x=\"80\" y=\"100\" width=\"840\" height=\"420\"/></clipPath></g><g class=\"gradients\"/><g class=\"patterns\"/></defs><g class=\"bglayer\"><rect class=\"bg\" x=\"80\" y=\"100\" width=\"840\" height=\"420\" style=\"fill: rgb(229, 236, 246); fill-opacity: 1; stroke-width: 0;\"/></g><g class=\"layer-below\"><g class=\"imagelayer\"/><g class=\"shapelayer\"/></g><g class=\"cartesianlayer\"><g class=\"subplot xy\"><g class=\"layer-subplot\"><g class=\"shapelayer\"/><g class=\"imagelayer\"/></g><g class=\"gridlayer\"><g class=\"x\"><path class=\"xgrid crisp\" transform=\"translate(110,0)\" d=\"M0,100v420\" style=\"stroke: rgb(255, 255, 255); stroke-opacity: 1; stroke-width: 1px;\"/><path class=\"xgrid crisp\" transform=\"translate(230,0)\" d=\"M0,100v420\" style=\"stroke: rgb(255, 255, 255); stroke-opacity: 1; stroke-width: 1px;\"/><path class=\"xgrid crisp\" transform=\"translate(350,0)\" d=\"M0,100v420\" style=\"stroke: rgb(255, 255, 255); stroke-opacity: 1; stroke-width: 1px;\"/><path class=\"xgrid crisp\" transform=\"translate(470,0)\" d=\"M0,100v420\" style=\"stroke: rgb(255, 255, 255); stroke-opacity: 1; stroke-width: 1px;\"/><path class=\"xgrid crisp\" transform=\"translate(590,0)\" d=\"M0,100v420\" style=\"stroke: rgb(255, 255, 255); stroke-opacity: 1; stroke-width: 1px;\"/><path class=\"xgrid crisp\" transform=\"translate(710,0)\" d=\"M0,100v420\" style=\"stroke: rgb(255, 255, 255); stroke-opacity: 1; stroke-width: 1px;\"/><path class=\"xgrid crisp\" transform=\"translate(830,0)\" d=\"M0,100v420\" style=\"stroke: rgb(255, 255, 255); stroke-opacity: 1; stroke-width: 1px;\"/></g><g class=\"y\"><path class=\"ygrid crisp\" transform=\"translate(0,482.2)\" d=\"M80,0h840\" style=\"stroke: rgb(255, 255, 255); stroke-opacity: 1; stroke-width: 1px;\"/><path class=\"ygrid crisp\" transform=\"translate(0,426.2)\" d=\"M80,0h840\" style=\"stroke: rgb(255, 255, 255); stroke-opacity: 1; stroke-width: 1px;\"/><path class=\"ygrid crisp\" transform=\"translate(0,370.2)\" d=\"M80,0h840\" style=\"stroke: rgb(255, 255, 255); stroke-opacity: 1; stroke-width: 1px;\"/><path class=\"ygrid crisp\" transform=\"translate(0,314.2)\" d=\"M80,0h840\" style=\"stroke: rgb(255, 255, 255); stroke-opacity: 1; stroke-width: 1px;\"/><path class=\"ygrid crisp\" transform=\"translate(0,258.2)\" d=\"M80,0h840\" style=\"stroke: rgb(255, 255, 255); stroke-opacity: 1; stroke-width: 1px;\"/><path class=\"ygrid crisp\" transform=\"translate(0,202.2)\" d=\"M80,0h840\" style=\"stroke: rgb(255, 255, 255); stroke-opacity: 1; stroke-width: 1px;\"/><path class=\"ygrid crisp\" transform=\"translate(0,146.2)\" d=\"M80,0h840\" style=\"stroke: rgb(255, 255, 255); stroke-opacity: 1; stroke-width: 1px;\"/></g></g><g class=\"zerolinelayer\"/><path class=\"xlines-below\"/><path class=\"ylines-below\"/><g class=\"overlines-below\"/><g class=\"xaxislayer-below\"/><g class=\"yaxislayer-below\"/><g class=\"overaxes-below\"/><g class=\"plot\" transform=\"translate(80,100)\" clip-path=\"url(#clipd7e336xyplot)\"><g class=\"ohlclayer mlayer\"><g class=\"trace ohlc\" style=\"opacity: 1;\"><path d=\"M12,149.8H30M30,107.8V348.6M48,315H30\" style=\"fill: none; stroke: rgb(255, 65, 54); stroke-opacity: 1; stroke-width: 2px; opacity: 1;\"/><path d=\"M72,320.6H90M90,301V396.2M108,362.6H90\" style=\"fill: none; stroke: rgb(255, 65, 54); stroke-opacity: 1; stroke-width: 2px; opacity: 1;\"/><path d=\"M132,365.4H150M150,264.6V399M168,278.6H150\" style=\"fill: none; stroke: rgb(61, 153, 112); stroke-opacity: 1; stroke-width: 2px; opacity: 1;\"/><path d=\"M192,275.8H210M210,155.4V309.4M228,191.8H210\" style=\"fill: none; stroke: rgb(61, 153, 112); stroke-opacity: 1; stroke-width: 2px; opacity: 1;\"/><path d=\"M252,191.8H270M270,121.8V217M288,166.6H270\" style=\"fill: none; stroke: rgb(61, 153, 112); stroke-opacity: 1; stroke-width: 2px; opacity: 1;\"/><path d=\"M312,175H330M330,133V191.8M348,138.6H330\" style=\"fill: none; stroke: rgb(61, 153, 112); stroke-opacity: 1; stroke-width: 2px; opacity: 1;\"/><path d=\"M372,138.6H390M390,88.2V155.4M408,113.4H390\" style=\"fill: none; stroke: rgb(61, 153, 112); stroke-opacity: 1; stroke-width: 2px; opacity: 1;\"/><path d=\"M432,113.4H450M450,51.8V144.2M468,130.2H450\" style=\"fill: none; stroke: rgb(255, 65, 54); stroke-opacity: 1; stroke-width: 2px; opacity: 1;\"/><path d=\"M492,127.4H510M510,23.8V175M528,35H510\" style=\"fill: none; stroke: rgb(61, 153, 112); stroke-opacity: 1; stroke-width: 2px; opacity: 1;\"/><path d=\"M552,37.8H570M570,21V110.6M588,68.6H570\" style=\"fill: none; stroke: rgb(255, 65, 54); stroke-opacity: 1; stroke-width: 2px; opacity: 1;\"/><path d=\"M612,65.8H630M630,46.2V88.2M648,46.2H630\" style=\"fill: none; stroke: rgb(61, 153, 112); stroke-opacity: 1; stroke-width: 2px; opacity: 1;\"/><path d=\"M672,49H690M690,32.2V77M708,77H690\" style=\"fill: none; stroke: rgb(255, 65, 54); stroke-opacity: 1; stroke-width: 2px; opacity: 1;\"/><path d=\"M732,68.6H750M750,40.6V124.6M768,110.6H750\" style=\"fill: none; stroke: rgb(255, 65, 54); stroke-opacity: 1; stroke-width: 2px; opacity: 1;\"/><path d=\"M792,91H810M810,63V110.6M828,91H810\" style=\"fill: none; stroke: rgb(61, 153, 112); stroke-opacity: 1; stroke-width: 2px; opacity: 1;\"/></g></g></g><g class=\"overplot\"/><path class=\"xlines-above crisp\" d=\"M0,0\" style=\"fill: none;\"/><path class=\"ylines-above crisp\" d=\"M0,0\" style=\"fill: none;\"/><g class=\"overlines-above\"/><g class=\"xaxislayer-above\"><g class=\"xtick\"><text text-anchor=\"middle\" x=\"0\" y=\"533\" transform=\"translate(110,0)\" style=\"font-family: 'Open Sans', verdana, arial, sans-serif; font-size: 12px; fill: rgb(42, 63, 95); fill-opacity: 1; white-space: pre; opacity: 1;\">10</text></g><g class=\"xtick\"><text text-anchor=\"middle\" x=\"0\" y=\"533\" style=\"font-family: 'Open Sans', verdana, arial, sans-serif; font-size: 12px; fill: rgb(42, 63, 95); fill-opacity: 1; white-space: pre; opacity: 1;\" transform=\"translate(230,0)\">12</text></g><g class=\"xtick\"><text text-anchor=\"middle\" x=\"0\" y=\"533\" style=\"font-family: 'Open Sans', verdana, arial, sans-serif; font-size: 12px; fill: rgb(42, 63, 95); fill-opacity: 1; white-space: pre; opacity: 1;\" transform=\"translate(350,0)\">14</text></g><g class=\"xtick\"><text text-anchor=\"middle\" x=\"0\" y=\"533\" style=\"font-family: 'Open Sans', verdana, arial, sans-serif; font-size: 12px; fill: rgb(42, 63, 95); fill-opacity: 1; white-space: pre; opacity: 1;\" transform=\"translate(470,0)\">16</text></g><g class=\"xtick\"><text text-anchor=\"middle\" x=\"0\" y=\"533\" style=\"font-family: 'Open Sans', verdana, arial, sans-serif; font-size: 12px; fill: rgb(42, 63, 95); fill-opacity: 1; white-space: pre; opacity: 1;\" transform=\"translate(590,0)\">18</text></g><g class=\"xtick\"><text text-anchor=\"middle\" x=\"0\" y=\"533\" style=\"font-family: 'Open Sans', verdana, arial, sans-serif; font-size: 12px; fill: rgb(42, 63, 95); fill-opacity: 1; white-space: pre; opacity: 1;\" transform=\"translate(710,0)\">20</text></g><g class=\"xtick\"><text text-anchor=\"middle\" x=\"0\" y=\"533\" style=\"font-family: 'Open Sans', verdana, arial, sans-serif; font-size: 12px; fill: rgb(42, 63, 95); fill-opacity: 1; white-space: pre; opacity: 1;\" transform=\"translate(830,0)\">22</text></g></g><g class=\"yaxislayer-above\"><g class=\"ytick\"><text text-anchor=\"end\" x=\"79\" y=\"4.199999999999999\" transform=\"translate(0,482.2)\" style=\"font-family: 'Open Sans', verdana, arial, sans-serif; font-size: 12px; fill: rgb(42, 63, 95); fill-opacity: 1; white-space: pre; opacity: 1;\">107.4k</text></g><g class=\"ytick\"><text text-anchor=\"end\" x=\"79\" y=\"4.199999999999999\" style=\"font-family: 'Open Sans', verdana, arial, sans-serif; font-size: 12px; fill: rgb(42, 63, 95); fill-opacity: 1; white-space: pre; opacity: 1;\" transform=\"translate(0,426.2)\">107.6k</text></g><g class=\"ytick\"><text text-anchor=\"end\" x=\"79\" y=\"4.199999999999999\" style=\"font-family: 'Open Sans', verdana, arial, sans-serif; font-size: 12px; fill: rgb(42, 63, 95); fill-opacity: 1; white-space: pre; opacity: 1;\" transform=\"translate(0,370.2)\">107.8k</text></g><g class=\"ytick\"><text text-anchor=\"end\" x=\"79\" y=\"4.199999999999999\" style=\"font-family: 'Open Sans', verdana, arial, sans-serif; font-size: 12px; fill: rgb(42, 63, 95); fill-opacity: 1; white-space: pre; opacity: 1;\" transform=\"translate(0,314.2)\">108k</text></g><g class=\"ytick\"><text text-anchor=\"end\" x=\"79\" y=\"4.199999999999999\" style=\"font-family: 'Open Sans', verdana, arial, sans-serif; font-size: 12px; fill: rgb(42, 63, 95); fill-opacity: 1; white-space: pre; opacity: 1;\" transform=\"translate(0,258.2)\">108.2k</text></g><g class=\"ytick\"><text text-anchor=\"end\" x=\"79\" y=\"4.199999999999999\" style=\"font-family: 'Open Sans', verdana, arial, sans-serif; font-size: 12px; fill: rgb(42, 63, 95); fill-opacity: 1; white-space: pre; opacity: 1;\" transform=\"translate(0,202.2)\">108.4k</text></g><g class=\"ytick\"><text text-anchor=\"end\" x=\"79\" y=\"4.199999999999999\" style=\"font-family: 'Open Sans', verdana, arial, sans-serif; font-size: 12px; fill: rgb(42, 63, 95); fill-opacity: 1; white-space: pre; opacity: 1;\" transform=\"translate(0,146.2)\">108.6k</text></g></g><g class=\"overaxes-above\"/></g></g><g class=\"polarlayer\"/><g class=\"smithlayer\"/><g class=\"ternarylayer\"/><g class=\"geolayer\"/><g class=\"funnelarealayer\"/><g class=\"pielayer\"/><g class=\"iciclelayer\"/><g class=\"treemaplayer\"/><g class=\"sunburstlayer\"/><g class=\"glimages\"/><defs id=\"topdefs-d7e336\"><g class=\"clips\"/></defs><g class=\"layer-above\"><g class=\"imagelayer\"/><g class=\"shapelayer\"/></g><g class=\"infolayer\"><g class=\"g-gtitle\"/><g class=\"g-xtitle\"/><g class=\"g-ytitle\"/></g></svg>"
      ]
     },
     "metadata": {},
     "output_type": "display_data"
    }
   ],
   "source": [
    "df = stock\n",
    "\n",
    "width = 1000\n",
    "height = 600\n",
    "\n",
    "fig = go.Figure(data=[\n",
    "    go.Ohlc(\n",
    "        x=df['hour'],\n",
    "        open=df['open'],\n",
    "        high=df['high'],\n",
    "        low=df['low'],\n",
    "        close=df['close'])\n",
    "])\n",
    "\n",
    "fig.update_layout(\n",
    "    width = width,\n",
    "    height = height,\n",
    "    xaxis_rangeslider_visible=False\n",
    ")\n",
    "\n",
    "fig.show(renderer=\"svg\")\n",
    "# fig.show(\"notebook\")"
   ]
  },
  {
   "cell_type": "code",
   "execution_count": null,
   "metadata": {},
   "outputs": [],
   "source": []
  },
  {
   "cell_type": "code",
   "execution_count": null,
   "metadata": {},
   "outputs": [],
   "source": []
  }
 ],
 "metadata": {
  "kernelspec": {
   "display_name": "venv",
   "language": "python",
   "name": "venv"
  },
  "language_info": {
   "codemirror_mode": {
    "name": "ipython",
    "version": 3
   },
   "file_extension": ".py",
   "mimetype": "text/x-python",
   "name": "python",
   "nbconvert_exporter": "python",
   "pygments_lexer": "ipython3",
   "version": "3.7.3"
  }
 },
 "nbformat": 4,
 "nbformat_minor": 4
}
