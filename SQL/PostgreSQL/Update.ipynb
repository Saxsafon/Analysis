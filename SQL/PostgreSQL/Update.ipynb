{
 "cells": [
  {
   "cell_type": "markdown",
   "metadata": {},
   "source": [
    "# Настройка ноутбука"
   ]
  },
  {
   "cell_type": "code",
   "execution_count": 19,
   "metadata": {},
   "outputs": [],
   "source": [
    "import pandas as pd\n",
    "import numpy as np\n",
    "import datetime as dt\n",
    "\n",
    "from pandasql import sqldf"
   ]
  },
  {
   "cell_type": "code",
   "execution_count": 20,
   "metadata": {},
   "outputs": [],
   "source": [
    "import warnings\n",
    "warnings.filterwarnings('ignore')"
   ]
  },
  {
   "cell_type": "code",
   "execution_count": 21,
   "metadata": {},
   "outputs": [
    {
     "data": {
      "text/html": [
       "<style>.container { width:100% !important; }</style>"
      ],
      "text/plain": [
       "<IPython.core.display.HTML object>"
      ]
     },
     "metadata": {},
     "output_type": "display_data"
    }
   ],
   "source": [
    "# Расширить рабочее поле ноутбука на весь экран\n",
    "from IPython.display import display, HTML\n",
    "display(HTML(\"<style>.container { width:100% !important; }</style>\"))"
   ]
  },
  {
   "cell_type": "markdown",
   "metadata": {},
   "source": [
    "# Описание"
   ]
  },
  {
   "cell_type": "markdown",
   "metadata": {},
   "source": [
    "В этом ноутбуки я документирую примеры update-запросов, а также описание ситуаций их применения. В моей практике, update запросы обычно выполняются при проведении миграций в базу. "
   ]
  },
  {
   "cell_type": "markdown",
   "metadata": {},
   "source": [
    "# Кейсы"
   ]
  },
  {
   "cell_type": "markdown",
   "metadata": {},
   "source": [
    "### Упаковка значений колонок в json-формат"
   ]
  },
  {
   "cell_type": "markdown",
   "metadata": {},
   "source": [
    "При разработке конвейера обработки данных, возникла потребность изменить тип колонки в базе данных со строкового на json.\n",
    "Для этого нужно было:\n",
    "\n",
    "1. Упаковать все непустые значения в колонке (current_col) в установленный json-формат ({'json_key': col_value})\n",
    "2. Заменить все пустые строки на обычные null значения.\n",
    "3. Поменять тип колонки на json (точнее jsonb)\n",
    "\n",
    "Ниже приведена последовательность запросов, которые выполняют эти шаги:"
   ]
  },
  {
   "cell_type": "markdown",
   "metadata": {},
   "source": [
    "```sql\n",
    "WITH json_vals AS (\n",
    "    SELECT\n",
    "          json_build_object('json_key', json_agg(current_col)) AS packed_value\n",
    "        , chat_id, mes_num\n",
    "    FROM \n",
    "        scheme.tab\n",
    "    WHERE \n",
    "        current_col IS NOT NULL AND button_id <> ''\n",
    "    GROUP BY chat_id, mes_num\n",
    ")\n",
    "UPDATE scheme.tab final_tab SET current_col = json_vals.packed_value FROM json_vals\n",
    "WHERE \n",
    "    final_tab.chat_id = json_vals.chat_id \n",
    "    AND\n",
    "    final_tab.mes_num = json_vals.mes_num;\n",
    "\n",
    "UPDATE scheme.tab SET current_col = nullif(current_col, '')::jsonb;\n",
    "ALTER tab scheme.tab ALTER COLUMN current_col TYPE jsonb USING current_col::jsonb;\n",
    "```"
   ]
  },
  {
   "cell_type": "markdown",
   "metadata": {},
   "source": [
    "### Заменить конкретные значения колонки на строковый 'null'"
   ]
  },
  {
   "cell_type": "markdown",
   "metadata": {},
   "source": [
    "Иногда возникает необходимость удалить конкретные значения колонки, при этом не удоляя всю строку, тоесть заменить его пустым значением. В моем случае, из за неполадки в одной из функций, на месте пустых значений выгружались строки 'null'. Ниже приведен запрос, который заменяет их на обычные null-значения:"
   ]
  },
  {
   "cell_type": "markdown",
   "metadata": {},
   "source": [
    "```sql\n",
    "UPDATE scheme.tab SET current_table = NULL WHERE current_table = 'null'\n",
    "```"
   ]
  },
  {
   "cell_type": "markdown",
   "metadata": {},
   "source": [
    "### Добавить новую колонку"
   ]
  },
  {
   "cell_type": "markdown",
   "metadata": {},
   "source": [
    "```sql\n",
    "ALTER TABLE scheme.tab ADD COLUMN new_col integer;\n",
    "```"
   ]
  },
  {
   "cell_type": "markdown",
   "metadata": {},
   "source": [
    "### Переименовать колонку"
   ]
  },
  {
   "cell_type": "markdown",
   "metadata": {},
   "source": [
    "```sql\n",
    "ALTER TABLE scheme.tab RENAME COLUMN old_col_name TO new_col_name;\n",
    "```"
   ]
  },
  {
   "cell_type": "markdown",
   "metadata": {},
   "source": [
    "### Удалить колонку"
   ]
  },
  {
   "cell_type": "markdown",
   "metadata": {},
   "source": [
    "```sql\n",
    "ALTER TABLE scheme.tab DROP COLUMN col_to_delete;\n",
    "```"
   ]
  }
 ],
 "metadata": {
  "hide_input": false,
  "kernelspec": {
   "display_name": "venv",
   "language": "python",
   "name": "venv"
  },
  "language_info": {
   "codemirror_mode": {
    "name": "ipython",
    "version": 3
   },
   "file_extension": ".py",
   "mimetype": "text/x-python",
   "name": "python",
   "nbconvert_exporter": "python",
   "pygments_lexer": "ipython3",
   "version": "3.10.2"
  },
  "toc": {
   "base_numbering": 1,
   "nav_menu": {},
   "number_sections": true,
   "sideBar": true,
   "skip_h1_title": false,
   "title_cell": "Table of Contents",
   "title_sidebar": "Contents",
   "toc_cell": false,
   "toc_position": {},
   "toc_section_display": true,
   "toc_window_display": false
  }
 },
 "nbformat": 4,
 "nbformat_minor": 4
}
