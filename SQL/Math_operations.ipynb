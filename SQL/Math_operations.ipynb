{
 "cells": [
  {
   "cell_type": "markdown",
   "id": "29485942",
   "metadata": {},
   "source": [
    "# Настройка ноутбука"
   ]
  },
  {
   "cell_type": "code",
   "execution_count": 1,
   "id": "5b4cbc1d",
   "metadata": {},
   "outputs": [],
   "source": [
    "import pandas as pd\n",
    "import numpy as np\n",
    "from sklearn import datasets\n",
    "import datetime as dt\n",
    "\n",
    "from pandasql import sqldf"
   ]
  },
  {
   "cell_type": "code",
   "execution_count": 2,
   "id": "08234c2f",
   "metadata": {},
   "outputs": [],
   "source": [
    "import warnings\n",
    "warnings.filterwarnings('ignore')"
   ]
  },
  {
   "cell_type": "code",
   "execution_count": 3,
   "id": "1e4e8400",
   "metadata": {},
   "outputs": [
    {
     "data": {
      "text/html": [
       "<style>.container { width:100% !important; }</style>"
      ],
      "text/plain": [
       "<IPython.core.display.HTML object>"
      ]
     },
     "metadata": {},
     "output_type": "display_data"
    }
   ],
   "source": [
    "# Расширить рабочее поле ноутбука на весь экран\n",
    "from IPython.display import display, HTML\n",
    "display(HTML(\"<style>.container { width:100% !important; }</style>\"))"
   ]
  },
  {
   "cell_type": "markdown",
   "id": "6853dbe0",
   "metadata": {},
   "source": [
    "# Описание"
   ]
  },
  {
   "cell_type": "markdown",
   "id": "72ee096f",
   "metadata": {},
   "source": [
    "Здесь я привел примеры использования математических функций доступных в PostgreSQL."
   ]
  },
  {
   "cell_type": "markdown",
   "id": "8ae9affa",
   "metadata": {},
   "source": [
    "# Практики"
   ]
  },
  {
   "cell_type": "markdown",
   "id": "065c20ed",
   "metadata": {},
   "source": [
    "### Посчитать среднеквадратическую ошибку прогноза (root mean squared error - RMSE)"
   ]
  },
  {
   "cell_type": "markdown",
   "id": "a49e2645",
   "metadata": {},
   "source": [
    "Считается как sqrt(mean(square(actual - forecast))"
   ]
  },
  {
   "cell_type": "markdown",
   "id": "49cc850e",
   "metadata": {},
   "source": [
    "```sql\n",
    "select \n",
    "    sqrt(avg(pow(forecast - actual, 2))) as rmse\n",
    "from data\n",
    "```"
   ]
  },
  {
   "cell_type": "markdown",
   "id": "2ae72bd1",
   "metadata": {},
   "source": [
    "#### Примеры задач:"
   ]
  },
  {
   "cell_type": "markdown",
   "id": "dc1cdd2d",
   "metadata": {},
   "source": [
    "- [Stratascratch: Naive Forecasting - Hard - Premium](https://platform.stratascratch.com/coding/10313-naive-forecasting?code_type=1)"
   ]
  },
  {
   "cell_type": "markdown",
   "id": "897d51fa",
   "metadata": {},
   "source": [
    "### Посчитать растояние между двумя точками"
   ]
  },
  {
   "cell_type": "markdown",
   "id": "f4ef4d27",
   "metadata": {},
   "source": [
    "```sql\n",
    "select \n",
    "      user_id, day, session_id\n",
    "    , acos(sin(lat1*(pi()/180)) * sin(lat2*(pi()/180)) + cos(lat1*(pi()/180)) * cos(lat2*(pi()/180)) * cos(lon2*(pi()/180) - lon1*(pi()/180))) * 6371 as distance_curv\n",
    "    , sqrt(pow(lat2 - lat1, 2) + pow(lon2 - lon1, 2)) * 111 as distance_flat\n",
    "from points_tab\n",
    "```"
   ]
  },
  {
   "cell_type": "markdown",
   "id": "e4d2f03e",
   "metadata": {},
   "source": [
    "#### Примеры задач:"
   ]
  },
  {
   "cell_type": "markdown",
   "id": "9620bc2a",
   "metadata": {},
   "source": [
    "- [Stratascratch: Google Fit User Tracking - Hard - Premium](https://platform.stratascratch.com/coding/10067-google-fit-user-tracking?code_type=1)"
   ]
  }
 ],
 "metadata": {
  "hide_input": false,
  "kernelspec": {
   "display_name": "venv",
   "language": "python",
   "name": "venv"
  },
  "language_info": {
   "codemirror_mode": {
    "name": "ipython",
    "version": 3
   },
   "file_extension": ".py",
   "mimetype": "text/x-python",
   "name": "python",
   "nbconvert_exporter": "python",
   "pygments_lexer": "ipython3",
   "version": "3.10.2"
  },
  "toc": {
   "base_numbering": 1,
   "nav_menu": {},
   "number_sections": true,
   "sideBar": true,
   "skip_h1_title": false,
   "title_cell": "Table of Contents",
   "title_sidebar": "Contents",
   "toc_cell": false,
   "toc_position": {},
   "toc_section_display": true,
   "toc_window_display": false
  }
 },
 "nbformat": 4,
 "nbformat_minor": 5
}
