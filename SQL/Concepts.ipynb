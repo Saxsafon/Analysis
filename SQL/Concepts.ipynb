{
 "cells": [
  {
   "cell_type": "markdown",
   "id": "29485942",
   "metadata": {},
   "source": [
    "# Настройка ноутбука"
   ]
  },
  {
   "cell_type": "code",
   "execution_count": 2,
   "id": "5b4cbc1d",
   "metadata": {},
   "outputs": [],
   "source": [
    "import pandas as pd\n",
    "import numpy as np\n",
    "from sklearn import datasets\n",
    "import datetime as dt\n",
    "\n",
    "from pandasql import sqldf"
   ]
  },
  {
   "cell_type": "code",
   "execution_count": 1,
   "id": "08234c2f",
   "metadata": {},
   "outputs": [],
   "source": [
    "import warnings\n",
    "warnings.filterwarnings('ignore')"
   ]
  },
  {
   "cell_type": "code",
   "execution_count": 2,
   "id": "1e4e8400",
   "metadata": {},
   "outputs": [
    {
     "data": {
      "text/html": [
       "<style>.container { width:100% !important; }</style>"
      ],
      "text/plain": [
       "<IPython.core.display.HTML object>"
      ]
     },
     "metadata": {},
     "output_type": "display_data"
    }
   ],
   "source": [
    "# Расширить рабочее поле ноутбука на весь экран\n",
    "from IPython.display import display, HTML\n",
    "display(HTML(\"<style>.container { width:100% !important; }</style>\"))"
   ]
  },
  {
   "cell_type": "markdown",
   "id": "6853dbe0",
   "metadata": {},
   "source": [
    "# Описание"
   ]
  },
  {
   "cell_type": "markdown",
   "id": "50bebf45",
   "metadata": {},
   "source": [
    "Ноутбук формализует основные концепты языка SQL. Приведены основные практики с примерами задач, где они могут использоваться "
   ]
  },
  {
   "cell_type": "markdown",
   "id": "c421358f",
   "metadata": {},
   "source": [
    "## Ресурсы\n",
    "\n",
    "[7 Advanced SQL Concepts You Need to Know!](https://medium.com/dp6-us-blog/7-advanced-sql-concepts-you-need-to-know-45fa149ba0b0)"
   ]
  },
  {
   "cell_type": "markdown",
   "id": "366d5ac6",
   "metadata": {},
   "source": [
    "# Концепты"
   ]
  },
  {
   "cell_type": "markdown",
   "id": "7a1629d1",
   "metadata": {},
   "source": [
    "## Порядок выполнения команд - execution order"
   ]
  },
  {
   "cell_type": "markdown",
   "id": "e138527c",
   "metadata": {},
   "source": [
    "Python - это императивный язык программирования, в нем мы описываем **как** сделать то, что нам нужно. А SQL это декларативный язык, в нем мы описываем **что** хотим получить. Разница между этими двумя подходами проявляется в последновательности исполнения комманд. В SQL они выполняются не в порядке их ввода (как в питоне), а в строго заданной последовательности:\n",
    "\n",
    "[Ресурс](https://techrocks.ru/2021/03/05/order-of-sql-operations/)\n",
    "\n",
    "1. FROM (выбор таблицы) / JOIN (комбинация с подходящими по условию данными из второй таблицы)\n",
    "2. WHERE (фильтрация строк)\n",
    "3. GROUP BY (агрегирование данных)\n",
    "4. HAVING (фильтрация агрегированных данных)\n",
    "5. SELECT (возврат результирующего датасета) / CASE (if-else выражения) / OVER () (оконные функции)\n",
    "6. DISTINCT\n",
    "7. UNION (объединение )\n",
    "8. ORDER BY (сортировка)\n",
    "9. LIMIT, TOP OFFSET\n",
    "\n",
    "Как правило, запрос исполняется именно в такой последовательности.\n",
    "\n",
    "Однако, в последних SQL-диалектах допускаются отходы от этой последовательности. Так в SQLite можно использовать в GROUP BY обозначения из SELECT. Хотя по идее это равносильно обращению к еще не заданной переменной. Это видно на примере ниже:"
   ]
  },
  {
   "cell_type": "markdown",
   "id": "e631a754",
   "metadata": {},
   "source": [
    "### Пример"
   ]
  },
  {
   "cell_type": "code",
   "execution_count": 4,
   "id": "18d78699",
   "metadata": {},
   "outputs": [
    {
     "data": {
      "text/html": [
       "<div>\n",
       "<style scoped>\n",
       "    .dataframe tbody tr th:only-of-type {\n",
       "        vertical-align: middle;\n",
       "    }\n",
       "\n",
       "    .dataframe tbody tr th {\n",
       "        vertical-align: top;\n",
       "    }\n",
       "\n",
       "    .dataframe thead th {\n",
       "        text-align: right;\n",
       "    }\n",
       "</style>\n",
       "<table border=\"1\" class=\"dataframe\">\n",
       "  <thead>\n",
       "    <tr style=\"text-align: right;\">\n",
       "      <th></th>\n",
       "      <th>name</th>\n",
       "    </tr>\n",
       "  </thead>\n",
       "  <tbody>\n",
       "    <tr>\n",
       "      <th>0</th>\n",
       "      <td>Robert</td>\n",
       "    </tr>\n",
       "    <tr>\n",
       "      <th>1</th>\n",
       "      <td>Rojer</td>\n",
       "    </tr>\n",
       "    <tr>\n",
       "      <th>2</th>\n",
       "      <td>Rex</td>\n",
       "    </tr>\n",
       "    <tr>\n",
       "      <th>3</th>\n",
       "      <td>Alex</td>\n",
       "    </tr>\n",
       "    <tr>\n",
       "      <th>4</th>\n",
       "      <td>Jason</td>\n",
       "    </tr>\n",
       "  </tbody>\n",
       "</table>\n",
       "</div>"
      ],
      "text/plain": [
       "     name\n",
       "0  Robert\n",
       "1   Rojer\n",
       "2     Rex\n",
       "3    Alex\n",
       "4   Jason"
      ]
     },
     "execution_count": 4,
     "metadata": {},
     "output_type": "execute_result"
    }
   ],
   "source": [
    "df = pd.DataFrame({\n",
    "    'name': ['Robert', 'Rojer', 'Rex', 'Alex', 'Jason', 'Thomas', 'Tobias'],\n",
    "})\n",
    "df.head()"
   ]
  },
  {
   "cell_type": "code",
   "execution_count": 5,
   "id": "284fd2ad",
   "metadata": {},
   "outputs": [
    {
     "data": {
      "text/html": [
       "<div>\n",
       "<style scoped>\n",
       "    .dataframe tbody tr th:only-of-type {\n",
       "        vertical-align: middle;\n",
       "    }\n",
       "\n",
       "    .dataframe tbody tr th {\n",
       "        vertical-align: top;\n",
       "    }\n",
       "\n",
       "    .dataframe thead th {\n",
       "        text-align: right;\n",
       "    }\n",
       "</style>\n",
       "<table border=\"1\" class=\"dataframe\">\n",
       "  <thead>\n",
       "    <tr style=\"text-align: right;\">\n",
       "      <th></th>\n",
       "      <th>first_letter</th>\n",
       "      <th>n_rows</th>\n",
       "    </tr>\n",
       "  </thead>\n",
       "  <tbody>\n",
       "    <tr>\n",
       "      <th>0</th>\n",
       "      <td>R</td>\n",
       "      <td>3</td>\n",
       "    </tr>\n",
       "    <tr>\n",
       "      <th>1</th>\n",
       "      <td>T</td>\n",
       "      <td>2</td>\n",
       "    </tr>\n",
       "    <tr>\n",
       "      <th>2</th>\n",
       "      <td>A</td>\n",
       "      <td>1</td>\n",
       "    </tr>\n",
       "    <tr>\n",
       "      <th>3</th>\n",
       "      <td>J</td>\n",
       "      <td>1</td>\n",
       "    </tr>\n",
       "  </tbody>\n",
       "</table>\n",
       "</div>"
      ],
      "text/plain": [
       "  first_letter  n_rows\n",
       "0            R       3\n",
       "1            T       2\n",
       "2            A       1\n",
       "3            J       1"
      ]
     },
     "execution_count": 5,
     "metadata": {},
     "output_type": "execute_result"
    }
   ],
   "source": [
    "# Почему это работает?\n",
    "query = \"\"\"\n",
    "select\n",
    "      substr(name, 1, 1) as first_letter\n",
    "    , count(1) as n_rows\n",
    "from\n",
    "    df\n",
    "group by \n",
    "    first_letter\n",
    "order by\n",
    "    n_rows desc\n",
    "\"\"\"\n",
    "\n",
    "pysqldf = lambda q: sqldf(q, globals())\n",
    "pysqldf(query)"
   ]
  },
  {
   "cell_type": "code",
   "execution_count": 6,
   "id": "7d32a823",
   "metadata": {},
   "outputs": [
    {
     "data": {
      "text/html": [
       "<div>\n",
       "<style scoped>\n",
       "    .dataframe tbody tr th:only-of-type {\n",
       "        vertical-align: middle;\n",
       "    }\n",
       "\n",
       "    .dataframe tbody tr th {\n",
       "        vertical-align: top;\n",
       "    }\n",
       "\n",
       "    .dataframe thead th {\n",
       "        text-align: right;\n",
       "    }\n",
       "</style>\n",
       "<table border=\"1\" class=\"dataframe\">\n",
       "  <thead>\n",
       "    <tr style=\"text-align: right;\">\n",
       "      <th></th>\n",
       "      <th>first_letter</th>\n",
       "      <th>n_rows</th>\n",
       "    </tr>\n",
       "  </thead>\n",
       "  <tbody>\n",
       "    <tr>\n",
       "      <th>0</th>\n",
       "      <td>R</td>\n",
       "      <td>3</td>\n",
       "    </tr>\n",
       "    <tr>\n",
       "      <th>1</th>\n",
       "      <td>T</td>\n",
       "      <td>2</td>\n",
       "    </tr>\n",
       "    <tr>\n",
       "      <th>2</th>\n",
       "      <td>A</td>\n",
       "      <td>1</td>\n",
       "    </tr>\n",
       "    <tr>\n",
       "      <th>3</th>\n",
       "      <td>J</td>\n",
       "      <td>1</td>\n",
       "    </tr>\n",
       "  </tbody>\n",
       "</table>\n",
       "</div>"
      ],
      "text/plain": [
       "  first_letter  n_rows\n",
       "0            R       3\n",
       "1            T       2\n",
       "2            A       1\n",
       "3            J       1"
      ]
     },
     "execution_count": 6,
     "metadata": {},
     "output_type": "execute_result"
    }
   ],
   "source": [
    "query = \"\"\"\n",
    "select\n",
    "      substr(name, 1, 1) as first_letter\n",
    "    , count(name) as n_rows\n",
    "from\n",
    "    df\n",
    "group by \n",
    "    substr(name, 1, 1)\n",
    "order by\n",
    "    n_rows desc\n",
    "\"\"\"\n",
    "\n",
    "pysqldf = lambda q: sqldf(q, globals())\n",
    "pysqldf(query)"
   ]
  },
  {
   "cell_type": "markdown",
   "id": "568a2431",
   "metadata": {},
   "source": [
    "## Функции агрегации"
   ]
  },
  {
   "cell_type": "markdown",
   "id": "bc5b6f0e",
   "metadata": {},
   "source": [
    "Позволяют находить агрегаты (числовые характеристики) по группе значений, например максимальное, минимальное или среднее значение. Активно используются вместе с группировками. Подробнее об этом [здесь](https://github.com/Saxsafon/Analysis/blob/master/Processing/SQL/Groupby.ipynb)."
   ]
  },
  {
   "cell_type": "markdown",
   "id": "d621fddd",
   "metadata": {},
   "source": [
    "### Посчитать основные статистики выборки"
   ]
  },
  {
   "cell_type": "markdown",
   "id": "1877c6ca",
   "metadata": {},
   "source": [
    "**Минимум, среднее, медиана, максимум:**\n",
    "\n",
    "```sql\n",
    "select \n",
    "    cat, min(val), avg(val), median(val), max(val) \n",
    "from data \n",
    "group by cat\n",
    "```"
   ]
  },
  {
   "cell_type": "markdown",
   "id": "2328ddeb",
   "metadata": {},
   "source": [
    "**Квартили:**\n",
    "\n",
    "```sql\n",
    "select\n",
    "      cat\n",
    "    , round(percentile_cont(0)    within group (order by val)) as q0_min\n",
    "    , round(percentile_cont(0.25) within group (order by val)) as q25\n",
    "    , round(percentile_cont(0.5)  within group (order by val)) as q50_median\n",
    "    , round(percentile_cont(0.75) within group (order by val)) as q75\n",
    "    , round(percentile_cont(1)    within group (order by val)) as q100_max\n",
    "from data\n",
    "group by cat\n",
    "order by q50_median desc\n",
    "```"
   ]
  },
  {
   "cell_type": "markdown",
   "id": "adc13ab9",
   "metadata": {},
   "source": [
    "### Определить размах"
   ]
  },
  {
   "cell_type": "markdown",
   "id": "b341d5ee",
   "metadata": {},
   "source": [
    "Разницу между максимальным и минимальным значением (сумм значений-колонок):\n",
    "\n",
    "```sql\n",
    "select max(val1 + val2 + val3) - min(val1 + val2 + val3) from data\n",
    "```"
   ]
  },
  {
   "cell_type": "markdown",
   "id": "98f5d884",
   "metadata": {},
   "source": [
    "#### Примеры задач:"
   ]
  },
  {
   "cell_type": "markdown",
   "id": "d765bab7",
   "metadata": {},
   "source": [
    "- [Stratascratch: Class Performance - Medium](https://platform.stratascratch.com/coding/10310-class-performance?code_type=1)"
   ]
  },
  {
   "cell_type": "markdown",
   "id": "86c06413",
   "metadata": {
    "heading_collapsed": true
   },
   "source": [
    "## Подзапросы - subqueries"
   ]
  },
  {
   "cell_type": "markdown",
   "id": "6a7f34cd",
   "metadata": {
    "hidden": true
   },
   "source": [
    "Есть три основных способа использования подзапросов:"
   ]
  },
  {
   "cell_type": "markdown",
   "id": "76a0362e",
   "metadata": {
    "hidden": true
   },
   "source": [
    "### 1) Как источник данных для основного запроса"
   ]
  },
  {
   "cell_type": "markdown",
   "id": "2e6c66fe",
   "metadata": {
    "hidden": true
   },
   "source": [
    "Эта практика обычно используется для получения подмножества или фильтрации записей."
   ]
  },
  {
   "cell_type": "markdown",
   "id": "72a87494",
   "metadata": {
    "hidden": true
   },
   "source": [
    "```sql\n",
    "select\n",
    "    val1, val2, ...\n",
    "from (select val1, val2, ... from data where val1 == 'A') df\n",
    "```"
   ]
  },
  {
   "cell_type": "markdown",
   "id": "11c42ba6",
   "metadata": {
    "hidden": true
   },
   "source": [
    "#### Пример"
   ]
  },
  {
   "cell_type": "code",
   "execution_count": 7,
   "id": "fce81254",
   "metadata": {
    "hidden": true
   },
   "outputs": [
    {
     "data": {
      "text/html": [
       "<div>\n",
       "<style scoped>\n",
       "    .dataframe tbody tr th:only-of-type {\n",
       "        vertical-align: middle;\n",
       "    }\n",
       "\n",
       "    .dataframe tbody tr th {\n",
       "        vertical-align: top;\n",
       "    }\n",
       "\n",
       "    .dataframe thead th {\n",
       "        text-align: right;\n",
       "    }\n",
       "</style>\n",
       "<table border=\"1\" class=\"dataframe\">\n",
       "  <thead>\n",
       "    <tr style=\"text-align: right;\">\n",
       "      <th></th>\n",
       "      <th>name</th>\n",
       "      <th>surname</th>\n",
       "    </tr>\n",
       "  </thead>\n",
       "  <tbody>\n",
       "    <tr>\n",
       "      <th>0</th>\n",
       "      <td>Robert</td>\n",
       "      <td>Pattison</td>\n",
       "    </tr>\n",
       "    <tr>\n",
       "      <th>1</th>\n",
       "      <td>Robert</td>\n",
       "      <td>Paulson</td>\n",
       "    </tr>\n",
       "    <tr>\n",
       "      <th>2</th>\n",
       "      <td>Rex</td>\n",
       "      <td>Roberts</td>\n",
       "    </tr>\n",
       "  </tbody>\n",
       "</table>\n",
       "</div>"
      ],
      "text/plain": [
       "     name   surname\n",
       "0  Robert  Pattison\n",
       "1  Robert   Paulson\n",
       "2     Rex   Roberts"
      ]
     },
     "execution_count": 7,
     "metadata": {},
     "output_type": "execute_result"
    }
   ],
   "source": [
    "df = pd.DataFrame({\n",
    "    'name': ['Robert', 'Robert', 'Rex'],\n",
    "    'surname': ['Pattison', 'Paulson', 'Roberts']\n",
    "})\n",
    "\n",
    "df.head()"
   ]
  },
  {
   "cell_type": "code",
   "execution_count": 8,
   "id": "fa576fae",
   "metadata": {
    "hidden": true
   },
   "outputs": [
    {
     "data": {
      "text/html": [
       "<div>\n",
       "<style scoped>\n",
       "    .dataframe tbody tr th:only-of-type {\n",
       "        vertical-align: middle;\n",
       "    }\n",
       "\n",
       "    .dataframe tbody tr th {\n",
       "        vertical-align: top;\n",
       "    }\n",
       "\n",
       "    .dataframe thead th {\n",
       "        text-align: right;\n",
       "    }\n",
       "</style>\n",
       "<table border=\"1\" class=\"dataframe\">\n",
       "  <thead>\n",
       "    <tr style=\"text-align: right;\">\n",
       "      <th></th>\n",
       "      <th>surname</th>\n",
       "      <th>n_students</th>\n",
       "    </tr>\n",
       "  </thead>\n",
       "  <tbody>\n",
       "    <tr>\n",
       "      <th>0</th>\n",
       "      <td>Pattison</td>\n",
       "      <td>1</td>\n",
       "    </tr>\n",
       "    <tr>\n",
       "      <th>1</th>\n",
       "      <td>Paulson</td>\n",
       "      <td>1</td>\n",
       "    </tr>\n",
       "  </tbody>\n",
       "</table>\n",
       "</div>"
      ],
      "text/plain": [
       "    surname  n_students\n",
       "0  Pattison           1\n",
       "1   Paulson           1"
      ]
     },
     "execution_count": 8,
     "metadata": {},
     "output_type": "execute_result"
    }
   ],
   "source": [
    "query = \"\"\"\n",
    "select\n",
    "      surname\n",
    "    , count(surname) as n_students\n",
    "from\n",
    "    (select surname from df where name = 'Robert') as t\n",
    "group by \n",
    "    t.surname\n",
    "\"\"\"\n",
    "\n",
    "pysqldf = lambda q: sqldf(q, globals())\n",
    "pysqldf(query)"
   ]
  },
  {
   "cell_type": "markdown",
   "id": "251efbce",
   "metadata": {
    "hidden": true
   },
   "source": [
    "Технически мы неограничены в количестве уровней подзапросов. Однако читаемость кода уменьшается с каждым уровнем."
   ]
  },
  {
   "cell_type": "markdown",
   "id": "f04960e9",
   "metadata": {
    "hidden": true
   },
   "source": [
    "### 2) Внутри списка колонок выбранных в select-е"
   ]
  },
  {
   "cell_type": "markdown",
   "id": "00fa2b23",
   "metadata": {
    "hidden": true
   },
   "source": [
    "Это может быть полезно, когда для расчета нужных метрик необходимы данные из другой таблицы, при этом не хочется их объединять.\n",
    "\n",
    "Либо, когда нужно получить сумму для рассчета процентов"
   ]
  },
  {
   "cell_type": "markdown",
   "id": "323a4a86",
   "metadata": {
    "hidden": true
   },
   "source": [
    "```sql\n",
    "select \n",
    "      id\n",
    "    , sum(val)*100/(select sum(val) from data) as pct\n",
    "from data\n",
    "group by id  \n",
    "```"
   ]
  },
  {
   "cell_type": "markdown",
   "id": "18541a26",
   "metadata": {
    "heading_collapsed": true,
    "hidden": true
   },
   "source": [
    "#### Пример"
   ]
  },
  {
   "cell_type": "code",
   "execution_count": 9,
   "id": "b7808817",
   "metadata": {
    "hidden": true
   },
   "outputs": [
    {
     "data": {
      "text/html": [
       "<div>\n",
       "<style scoped>\n",
       "    .dataframe tbody tr th:only-of-type {\n",
       "        vertical-align: middle;\n",
       "    }\n",
       "\n",
       "    .dataframe tbody tr th {\n",
       "        vertical-align: top;\n",
       "    }\n",
       "\n",
       "    .dataframe thead th {\n",
       "        text-align: right;\n",
       "    }\n",
       "</style>\n",
       "<table border=\"1\" class=\"dataframe\">\n",
       "  <thead>\n",
       "    <tr style=\"text-align: right;\">\n",
       "      <th></th>\n",
       "      <th>std_id</th>\n",
       "      <th>name</th>\n",
       "    </tr>\n",
       "  </thead>\n",
       "  <tbody>\n",
       "    <tr>\n",
       "      <th>0</th>\n",
       "      <td>1</td>\n",
       "      <td>Robert Pattison</td>\n",
       "    </tr>\n",
       "    <tr>\n",
       "      <th>1</th>\n",
       "      <td>2</td>\n",
       "      <td>Robert Paulson</td>\n",
       "    </tr>\n",
       "    <tr>\n",
       "      <th>2</th>\n",
       "      <td>3</td>\n",
       "      <td>Rex Roberts</td>\n",
       "    </tr>\n",
       "    <tr>\n",
       "      <th>3</th>\n",
       "      <td>4</td>\n",
       "      <td>Thomas Edison</td>\n",
       "    </tr>\n",
       "    <tr>\n",
       "      <th>4</th>\n",
       "      <td>5</td>\n",
       "      <td>Bonny Bones</td>\n",
       "    </tr>\n",
       "  </tbody>\n",
       "</table>\n",
       "</div>"
      ],
      "text/plain": [
       "   std_id             name\n",
       "0       1  Robert Pattison\n",
       "1       2   Robert Paulson\n",
       "2       3      Rex Roberts\n",
       "3       4    Thomas Edison\n",
       "4       5      Bonny Bones"
      ]
     },
     "execution_count": 9,
     "metadata": {},
     "output_type": "execute_result"
    }
   ],
   "source": [
    "students = pd.DataFrame({\n",
    "    'std_id': [1, 2, 3, 4, 5, 6],\n",
    "    'name': ['Robert Pattison', 'Robert Paulson', 'Rex Roberts', 'Thomas Edison', 'Bonny Bones', 'Elison Woods'],\n",
    "})\n",
    "\n",
    "students.head()"
   ]
  },
  {
   "cell_type": "code",
   "execution_count": 10,
   "id": "6c7f6615",
   "metadata": {
    "hidden": true
   },
   "outputs": [
    {
     "data": {
      "text/html": [
       "<div>\n",
       "<style scoped>\n",
       "    .dataframe tbody tr th:only-of-type {\n",
       "        vertical-align: middle;\n",
       "    }\n",
       "\n",
       "    .dataframe tbody tr th {\n",
       "        vertical-align: top;\n",
       "    }\n",
       "\n",
       "    .dataframe thead th {\n",
       "        text-align: right;\n",
       "    }\n",
       "</style>\n",
       "<table border=\"1\" class=\"dataframe\">\n",
       "  <thead>\n",
       "    <tr style=\"text-align: right;\">\n",
       "      <th></th>\n",
       "      <th>std_id</th>\n",
       "      <th>lesson_id</th>\n",
       "      <th>is_present</th>\n",
       "    </tr>\n",
       "  </thead>\n",
       "  <tbody>\n",
       "    <tr>\n",
       "      <th>0</th>\n",
       "      <td>1</td>\n",
       "      <td>1</td>\n",
       "      <td>True</td>\n",
       "    </tr>\n",
       "    <tr>\n",
       "      <th>1</th>\n",
       "      <td>2</td>\n",
       "      <td>1</td>\n",
       "      <td>False</td>\n",
       "    </tr>\n",
       "    <tr>\n",
       "      <th>2</th>\n",
       "      <td>3</td>\n",
       "      <td>1</td>\n",
       "      <td>False</td>\n",
       "    </tr>\n",
       "    <tr>\n",
       "      <th>3</th>\n",
       "      <td>4</td>\n",
       "      <td>1</td>\n",
       "      <td>True</td>\n",
       "    </tr>\n",
       "    <tr>\n",
       "      <th>4</th>\n",
       "      <td>5</td>\n",
       "      <td>1</td>\n",
       "      <td>True</td>\n",
       "    </tr>\n",
       "  </tbody>\n",
       "</table>\n",
       "</div>"
      ],
      "text/plain": [
       "   std_id  lesson_id  is_present\n",
       "0       1          1        True\n",
       "1       2          1       False\n",
       "2       3          1       False\n",
       "3       4          1        True\n",
       "4       5          1        True"
      ]
     },
     "execution_count": 10,
     "metadata": {},
     "output_type": "execute_result"
    }
   ],
   "source": [
    "presence = pd.DataFrame({\n",
    "    'std_id': [\n",
    "        1, 2, 3, 4, 5, 6,\n",
    "        1, 2, 3, 4, 5, 6,\n",
    "        1, 2, 3, 4, 5, 6,\n",
    "    ],\n",
    "    'lesson_id': [\n",
    "        1, 1, 1, 1, 1, 1,\n",
    "        2, 2, 2, 2, 2, 2,\n",
    "        3, 3, 3, 3, 3, 3,\n",
    "    ],\n",
    "    \n",
    "    'is_present': [\n",
    "        True, False, False, True, True, True,\n",
    "        True, True, True, True, True, True,\n",
    "        False, True, True, True, True, False,\n",
    "    ],\n",
    "})\n",
    "\n",
    "presence.head()"
   ]
  },
  {
   "cell_type": "code",
   "execution_count": 11,
   "id": "b8745fc0",
   "metadata": {
    "hidden": true
   },
   "outputs": [
    {
     "data": {
      "text/html": [
       "<div>\n",
       "<style scoped>\n",
       "    .dataframe tbody tr th:only-of-type {\n",
       "        vertical-align: middle;\n",
       "    }\n",
       "\n",
       "    .dataframe tbody tr th {\n",
       "        vertical-align: top;\n",
       "    }\n",
       "\n",
       "    .dataframe thead th {\n",
       "        text-align: right;\n",
       "    }\n",
       "</style>\n",
       "<table border=\"1\" class=\"dataframe\">\n",
       "  <thead>\n",
       "    <tr style=\"text-align: right;\">\n",
       "      <th></th>\n",
       "      <th>std_id</th>\n",
       "      <th>exam_id</th>\n",
       "      <th>grade</th>\n",
       "    </tr>\n",
       "  </thead>\n",
       "  <tbody>\n",
       "    <tr>\n",
       "      <th>0</th>\n",
       "      <td>1</td>\n",
       "      <td>1</td>\n",
       "      <td>5</td>\n",
       "    </tr>\n",
       "    <tr>\n",
       "      <th>1</th>\n",
       "      <td>2</td>\n",
       "      <td>1</td>\n",
       "      <td>2</td>\n",
       "    </tr>\n",
       "    <tr>\n",
       "      <th>2</th>\n",
       "      <td>3</td>\n",
       "      <td>1</td>\n",
       "      <td>3</td>\n",
       "    </tr>\n",
       "    <tr>\n",
       "      <th>3</th>\n",
       "      <td>4</td>\n",
       "      <td>1</td>\n",
       "      <td>4</td>\n",
       "    </tr>\n",
       "    <tr>\n",
       "      <th>4</th>\n",
       "      <td>5</td>\n",
       "      <td>1</td>\n",
       "      <td>3</td>\n",
       "    </tr>\n",
       "  </tbody>\n",
       "</table>\n",
       "</div>"
      ],
      "text/plain": [
       "   std_id  exam_id  grade\n",
       "0       1        1      5\n",
       "1       2        1      2\n",
       "2       3        1      3\n",
       "3       4        1      4\n",
       "4       5        1      3"
      ]
     },
     "execution_count": 11,
     "metadata": {},
     "output_type": "execute_result"
    }
   ],
   "source": [
    "exams = pd.DataFrame({\n",
    "    'std_id': [\n",
    "        1, 2, 3, 4, 5, 6,\n",
    "        1, 2, 3, 4, 5, 6,\n",
    "    ],\n",
    "    'exam_id': [\n",
    "        1, 1, 1, 1, 1, 1,\n",
    "        2, 2, 2, 2, 2, 2,\n",
    "    ],\n",
    "    'grade': [\n",
    "        5, 2, 3, 4, 3, 5,\n",
    "        4, 4, 4, 5, 4, 5,\n",
    "    ],\n",
    "})\n",
    "\n",
    "exams.head()"
   ]
  },
  {
   "cell_type": "code",
   "execution_count": 12,
   "id": "df19eee7",
   "metadata": {
    "hidden": true
   },
   "outputs": [
    {
     "data": {
      "text/html": [
       "<div>\n",
       "<style scoped>\n",
       "    .dataframe tbody tr th:only-of-type {\n",
       "        vertical-align: middle;\n",
       "    }\n",
       "\n",
       "    .dataframe tbody tr th {\n",
       "        vertical-align: top;\n",
       "    }\n",
       "\n",
       "    .dataframe thead th {\n",
       "        text-align: right;\n",
       "    }\n",
       "</style>\n",
       "<table border=\"1\" class=\"dataframe\">\n",
       "  <thead>\n",
       "    <tr style=\"text-align: right;\">\n",
       "      <th></th>\n",
       "      <th>name</th>\n",
       "      <th>average_grades</th>\n",
       "      <th>quantity_of_presence</th>\n",
       "    </tr>\n",
       "  </thead>\n",
       "  <tbody>\n",
       "    <tr>\n",
       "      <th>0</th>\n",
       "      <td>Robert Pattison</td>\n",
       "      <td>4.5</td>\n",
       "      <td>2</td>\n",
       "    </tr>\n",
       "    <tr>\n",
       "      <th>1</th>\n",
       "      <td>Robert Paulson</td>\n",
       "      <td>3.0</td>\n",
       "      <td>2</td>\n",
       "    </tr>\n",
       "    <tr>\n",
       "      <th>2</th>\n",
       "      <td>Rex Roberts</td>\n",
       "      <td>3.5</td>\n",
       "      <td>2</td>\n",
       "    </tr>\n",
       "    <tr>\n",
       "      <th>3</th>\n",
       "      <td>Thomas Edison</td>\n",
       "      <td>4.5</td>\n",
       "      <td>3</td>\n",
       "    </tr>\n",
       "    <tr>\n",
       "      <th>4</th>\n",
       "      <td>Bonny Bones</td>\n",
       "      <td>3.5</td>\n",
       "      <td>3</td>\n",
       "    </tr>\n",
       "    <tr>\n",
       "      <th>5</th>\n",
       "      <td>Elison Woods</td>\n",
       "      <td>5.0</td>\n",
       "      <td>2</td>\n",
       "    </tr>\n",
       "  </tbody>\n",
       "</table>\n",
       "</div>"
      ],
      "text/plain": [
       "              name  average_grades  quantity_of_presence\n",
       "0  Robert Pattison             4.5                     2\n",
       "1   Robert Paulson             3.0                     2\n",
       "2      Rex Roberts             3.5                     2\n",
       "3    Thomas Edison             4.5                     3\n",
       "4      Bonny Bones             3.5                     3\n",
       "5     Elison Woods             5.0                     2"
      ]
     },
     "execution_count": 12,
     "metadata": {},
     "output_type": "execute_result"
    }
   ],
   "source": [
    "query = \"\"\"\n",
    "select\n",
    "     name\n",
    "    , (\n",
    "        select avg(grade)\n",
    "        from exams e\n",
    "        where s.std_id = e.std_id\n",
    "    \n",
    "    ) as average_grades\n",
    "    \n",
    "    , (\n",
    "        select count(is_present)\n",
    "        from presence p\n",
    "        where s.std_id = p.std_id and p.is_present = True\n",
    "    ) as quantity_of_presence\n",
    "from\n",
    "    students s\n",
    "\"\"\"\n",
    "\n",
    "pysqldf = lambda q: sqldf(q, globals())\n",
    "pysqldf(query)"
   ]
  },
  {
   "cell_type": "markdown",
   "id": "06a076c1",
   "metadata": {
    "hidden": true
   },
   "source": [
    "#### Примеры задач"
   ]
  },
  {
   "cell_type": "markdown",
   "id": "d85ce4b1",
   "metadata": {
    "hidden": true
   },
   "source": [
    "- [Stratascratch: Popularity Percentage - Hard](https://platform.stratascratch.com/coding/10284-popularity-percentage?tabname=question)"
   ]
  },
  {
   "cell_type": "markdown",
   "id": "d904d6b8",
   "metadata": {
    "hidden": true
   },
   "source": [
    "### 3) Как внешний фильтр запроса"
   ]
  },
  {
   "cell_type": "markdown",
   "id": "dbe597a0",
   "metadata": {
    "hidden": true
   },
   "source": [
    "```sql\n",
    "select\n",
    "    id, val1, val2, ...\n",
    "from data\n",
    "where id in (select id from data where cat = True)\n",
    "```"
   ]
  },
  {
   "cell_type": "markdown",
   "id": "6937b33a",
   "metadata": {
    "hidden": true
   },
   "source": [
    "Чтобы отфильтровать данные по нескольким полям, нужно перечислеть их в скобках:\n",
    "\n",
    "```sql\n",
    "select\n",
    "    id, val1, val2, ..., val\n",
    "from data\n",
    "where (id, val) in (select id, max(val) from data group by id)\n",
    "```"
   ]
  },
  {
   "cell_type": "markdown",
   "id": "7c21bd53",
   "metadata": {
    "heading_collapsed": true,
    "hidden": true
   },
   "source": [
    "#### Пример"
   ]
  },
  {
   "cell_type": "code",
   "execution_count": 13,
   "id": "fb1eede6",
   "metadata": {
    "hidden": true
   },
   "outputs": [
    {
     "data": {
      "text/html": [
       "<div>\n",
       "<style scoped>\n",
       "    .dataframe tbody tr th:only-of-type {\n",
       "        vertical-align: middle;\n",
       "    }\n",
       "\n",
       "    .dataframe tbody tr th {\n",
       "        vertical-align: top;\n",
       "    }\n",
       "\n",
       "    .dataframe thead th {\n",
       "        text-align: right;\n",
       "    }\n",
       "</style>\n",
       "<table border=\"1\" class=\"dataframe\">\n",
       "  <thead>\n",
       "    <tr style=\"text-align: right;\">\n",
       "      <th></th>\n",
       "      <th>std_id</th>\n",
       "      <th>name</th>\n",
       "    </tr>\n",
       "  </thead>\n",
       "  <tbody>\n",
       "    <tr>\n",
       "      <th>0</th>\n",
       "      <td>1</td>\n",
       "      <td>Robert Pattison</td>\n",
       "    </tr>\n",
       "    <tr>\n",
       "      <th>1</th>\n",
       "      <td>2</td>\n",
       "      <td>Robert Paulson</td>\n",
       "    </tr>\n",
       "    <tr>\n",
       "      <th>2</th>\n",
       "      <td>3</td>\n",
       "      <td>Rex Roberts</td>\n",
       "    </tr>\n",
       "    <tr>\n",
       "      <th>3</th>\n",
       "      <td>4</td>\n",
       "      <td>Thomas Edison</td>\n",
       "    </tr>\n",
       "    <tr>\n",
       "      <th>4</th>\n",
       "      <td>5</td>\n",
       "      <td>Bonny Bones</td>\n",
       "    </tr>\n",
       "  </tbody>\n",
       "</table>\n",
       "</div>"
      ],
      "text/plain": [
       "   std_id             name\n",
       "0       1  Robert Pattison\n",
       "1       2   Robert Paulson\n",
       "2       3      Rex Roberts\n",
       "3       4    Thomas Edison\n",
       "4       5      Bonny Bones"
      ]
     },
     "execution_count": 13,
     "metadata": {},
     "output_type": "execute_result"
    }
   ],
   "source": [
    "students = pd.DataFrame({\n",
    "    'std_id': [1, 2, 3, 4, 5, 6],\n",
    "    'name': ['Robert Pattison', 'Robert Paulson', 'Rex Roberts', 'Thomas Edison', 'Bonny Bones', 'Elison Woods'],\n",
    "})\n",
    "\n",
    "students.head()"
   ]
  },
  {
   "cell_type": "code",
   "execution_count": 14,
   "id": "a593ee52",
   "metadata": {
    "hidden": true
   },
   "outputs": [
    {
     "data": {
      "text/html": [
       "<div>\n",
       "<style scoped>\n",
       "    .dataframe tbody tr th:only-of-type {\n",
       "        vertical-align: middle;\n",
       "    }\n",
       "\n",
       "    .dataframe tbody tr th {\n",
       "        vertical-align: top;\n",
       "    }\n",
       "\n",
       "    .dataframe thead th {\n",
       "        text-align: right;\n",
       "    }\n",
       "</style>\n",
       "<table border=\"1\" class=\"dataframe\">\n",
       "  <thead>\n",
       "    <tr style=\"text-align: right;\">\n",
       "      <th></th>\n",
       "      <th>std_id</th>\n",
       "      <th>lesson_id</th>\n",
       "      <th>is_present</th>\n",
       "    </tr>\n",
       "  </thead>\n",
       "  <tbody>\n",
       "    <tr>\n",
       "      <th>0</th>\n",
       "      <td>1</td>\n",
       "      <td>1</td>\n",
       "      <td>True</td>\n",
       "    </tr>\n",
       "    <tr>\n",
       "      <th>1</th>\n",
       "      <td>2</td>\n",
       "      <td>1</td>\n",
       "      <td>False</td>\n",
       "    </tr>\n",
       "    <tr>\n",
       "      <th>2</th>\n",
       "      <td>3</td>\n",
       "      <td>1</td>\n",
       "      <td>False</td>\n",
       "    </tr>\n",
       "    <tr>\n",
       "      <th>3</th>\n",
       "      <td>4</td>\n",
       "      <td>1</td>\n",
       "      <td>True</td>\n",
       "    </tr>\n",
       "    <tr>\n",
       "      <th>4</th>\n",
       "      <td>5</td>\n",
       "      <td>1</td>\n",
       "      <td>True</td>\n",
       "    </tr>\n",
       "  </tbody>\n",
       "</table>\n",
       "</div>"
      ],
      "text/plain": [
       "   std_id  lesson_id  is_present\n",
       "0       1          1        True\n",
       "1       2          1       False\n",
       "2       3          1       False\n",
       "3       4          1        True\n",
       "4       5          1        True"
      ]
     },
     "execution_count": 14,
     "metadata": {},
     "output_type": "execute_result"
    }
   ],
   "source": [
    "presence = pd.DataFrame({\n",
    "    'std_id': [\n",
    "        1, 2, 3, 4, 5, 6,\n",
    "        1, 2, 3, 4, 5, 6,\n",
    "        1, 2, 3, 4, 5, 6,\n",
    "    ],\n",
    "    'lesson_id': [\n",
    "        1, 1, 1, 1, 1, 1,\n",
    "        2, 2, 2, 2, 2, 2,\n",
    "        3, 3, 3, 3, 3, 3,\n",
    "    ],\n",
    "    \n",
    "    'is_present': [\n",
    "        True, False, False, True, True, True,\n",
    "        True, True, True, True, True, True,\n",
    "        False, True, True, True, True, False,\n",
    "    ],\n",
    "})\n",
    "\n",
    "presence.head()"
   ]
  },
  {
   "cell_type": "code",
   "execution_count": 15,
   "id": "cbf671c9",
   "metadata": {
    "hidden": true
   },
   "outputs": [
    {
     "data": {
      "text/html": [
       "<div>\n",
       "<style scoped>\n",
       "    .dataframe tbody tr th:only-of-type {\n",
       "        vertical-align: middle;\n",
       "    }\n",
       "\n",
       "    .dataframe tbody tr th {\n",
       "        vertical-align: top;\n",
       "    }\n",
       "\n",
       "    .dataframe thead th {\n",
       "        text-align: right;\n",
       "    }\n",
       "</style>\n",
       "<table border=\"1\" class=\"dataframe\">\n",
       "  <thead>\n",
       "    <tr style=\"text-align: right;\">\n",
       "      <th></th>\n",
       "      <th>std_id</th>\n",
       "      <th>name</th>\n",
       "    </tr>\n",
       "  </thead>\n",
       "  <tbody>\n",
       "    <tr>\n",
       "      <th>0</th>\n",
       "      <td>1</td>\n",
       "      <td>Robert Pattison</td>\n",
       "    </tr>\n",
       "    <tr>\n",
       "      <th>1</th>\n",
       "      <td>2</td>\n",
       "      <td>Robert Paulson</td>\n",
       "    </tr>\n",
       "    <tr>\n",
       "      <th>2</th>\n",
       "      <td>3</td>\n",
       "      <td>Rex Roberts</td>\n",
       "    </tr>\n",
       "    <tr>\n",
       "      <th>3</th>\n",
       "      <td>4</td>\n",
       "      <td>Thomas Edison</td>\n",
       "    </tr>\n",
       "    <tr>\n",
       "      <th>4</th>\n",
       "      <td>5</td>\n",
       "      <td>Bonny Bones</td>\n",
       "    </tr>\n",
       "    <tr>\n",
       "      <th>5</th>\n",
       "      <td>6</td>\n",
       "      <td>Elison Woods</td>\n",
       "    </tr>\n",
       "  </tbody>\n",
       "</table>\n",
       "</div>"
      ],
      "text/plain": [
       "   std_id             name\n",
       "0       1  Robert Pattison\n",
       "1       2   Robert Paulson\n",
       "2       3      Rex Roberts\n",
       "3       4    Thomas Edison\n",
       "4       5      Bonny Bones\n",
       "5       6     Elison Woods"
      ]
     },
     "execution_count": 15,
     "metadata": {},
     "output_type": "execute_result"
    }
   ],
   "source": [
    "query = \"\"\"\n",
    "select\n",
    "      std_id\n",
    "    , name\n",
    "from\n",
    "    students\n",
    "where\n",
    "    std_id in (select std_id from presence where is_present = True)\n",
    "\"\"\"\n",
    "\n",
    "pysqldf = lambda q: sqldf(q, globals())\n",
    "pysqldf(query)"
   ]
  },
  {
   "cell_type": "markdown",
   "id": "61516769",
   "metadata": {
    "hidden": true
   },
   "source": [
    "В большинстве случаев можно добиться тех же результатов не прибегая к подзапросам, а используя join-ы. Однак, если основной запрос явно не использует колонки из другой таблицы, лучше воспользоваться постзапросами, поскольку процедура объединения довольно затратна."
   ]
  },
  {
   "cell_type": "markdown",
   "id": "473d760e",
   "metadata": {
    "hidden": true
   },
   "source": [
    "#### Примеры задач"
   ]
  },
  {
   "cell_type": "markdown",
   "id": "6d70c03b",
   "metadata": {
    "hidden": true
   },
   "source": [
    "- [Stratascratch: Finding Updated Records - Easy](https://platform.stratascratch.com/coding/10299-finding-updated-records?tabname=question)\n",
    "- [Stratascratch: Find all posts which were reacted to with a heart - Easy](https://platform.stratascratch.com/coding/10087-find-all-posts-which-were-reacted-to-with-a-heart?tabname=solutions)\n",
    "- [Stratascratch: Top Cool Votes - Medium](https://platform.stratascratch.com/coding/10060-top-cool-votes?tabname=solutions)\n",
    "- [Stratascratch: Workers With The Highest Salaries - Medium](https://platform.stratascratch.com/coding/10353-workers-with-the-highest-salaries?code_type=1)\n",
    "- [Stratascratch: Highest Target Under Manager - Medium](https://platform.stratascratch.com/coding/9905-highest-target-under-manager?tabname=question)\n",
    "- [Stratascratch: Highest Energy Consumption - Medium](https://platform.stratascratch.com/coding/10064-highest-energy-consumption?tabname=solutions)\n",
    "- [Stratascratch: Highest Cost Orders - Medium](https://platform.stratascratch.com/coding/9915-highest-cost-orders?code_type=1)\n",
    "- [Stratascratch: Highest Salary In Department - Medium](https://platform.stratascratch.com/coding/9897-highest-salary-in-department?tabname=solutions)\n",
    "- [Stratascratch: Population Density - Medium](https://platform.stratascratch.com/coding/10368-population-density?code_type=1)"
   ]
  },
  {
   "cell_type": "markdown",
   "id": "95f94259",
   "metadata": {
    "heading_collapsed": true
   },
   "source": [
    "## Case"
   ]
  },
  {
   "cell_type": "markdown",
   "id": "36c1509a",
   "metadata": {
    "hidden": true
   },
   "source": [
    "### Фильтрование значений перед агрегированием - Filtering values before aggregating"
   ]
  },
  {
   "cell_type": "markdown",
   "id": "59ce585b",
   "metadata": {
    "hidden": true
   },
   "source": [
    "Хорошее решение, когда нужно подсчитать сумму по определенной категории значений:\n",
    "```sql\n",
    "select sum(case where cat=True then value end) from data\n",
    "```"
   ]
  },
  {
   "cell_type": "markdown",
   "id": "d4bd77e4",
   "metadata": {
    "hidden": true
   },
   "source": [
    "Это будет работать вместе с группировкой или оконной функцией:\n",
    "```sql\n",
    "select sum(case where cat=True then value end) from data group by date\n",
    "```\n",
    "```sql\n",
    "select sum(case where cat=True then value end) over (partition by date) from data\n",
    "```"
   ]
  },
  {
   "cell_type": "markdown",
   "id": "2f3487b8",
   "metadata": {
    "hidden": true
   },
   "source": [
    "Можно применять сразу несколько условий. Пригодится в случаях, когда нужно подсчитать, например, разность агрегатов за различные периоды:"
   ]
  },
  {
   "cell_type": "markdown",
   "id": "b9f1db4a",
   "metadata": {
    "hidden": true
   },
   "source": [
    "```sql \n",
    "select \n",
    "      date\n",
    "    , sum(\n",
    "    case \n",
    "        when year=2020 then 1 \n",
    "        when year=2019 then -1\n",
    "        else 0\n",
    "    end\n",
    "    ) as value\n",
    "from data \n",
    "group by date\n",
    "```"
   ]
  },
  {
   "cell_type": "markdown",
   "id": "edfe6a13",
   "metadata": {
    "hidden": true
   },
   "source": [
    "#### Примеры задач"
   ]
  },
  {
   "cell_type": "markdown",
   "id": "be808703",
   "metadata": {
    "hidden": true
   },
   "source": [
    "- [Stratascratch: Salaries Differences - Easy](https://platform.stratascratch.com/coding/10308-salaries-differences?tabname=solutions)\n",
    "- [Stratascratch: Find the rate of processed tickets for each type - Medium](https://platform.stratascratch.com/coding/9781-find-the-rate-of-processed-tickets-for-each-type?tabname=solutions)\n",
    "- [Stratascratch: New Products - Medium](https://platform.stratascratch.com/coding/10318-new-products?code_type=1)\n",
    "- [Stratascratch: Premium vs Freemium - Hard](https://platform.stratascratch.com/coding/10300-premium-vs-freemium?tabname=solutions)\n",
    "- [Stratascratch: Algorithm Performance - Hard](https://platform.stratascratch.com/coding/10350-algorithm-performance?code_type=1)"
   ]
  },
  {
   "cell_type": "markdown",
   "id": "e91ac6b3",
   "metadata": {
    "hidden": true
   },
   "source": [
    "### Введение колонки категориального признака - Introduction of a categorical attribute column"
   ]
  },
  {
   "cell_type": "markdown",
   "id": "8016e202",
   "metadata": {
    "hidden": true
   },
   "source": [
    "```sql\n",
    "select\n",
    "      id\n",
    "    , (\n",
    "        case\n",
    "            when val = 0 then 'zero'\n",
    "            when val between 1 and 5 then '1-5'\n",
    "            when val > 5 then '>5'\n",
    "        end\n",
    "    ) as new_cat\n",
    "    , ...\n",
    "from data\n",
    "```"
   ]
  },
  {
   "cell_type": "markdown",
   "id": "da390497",
   "metadata": {
    "hidden": true
   },
   "source": [
    "#### Примеры задач"
   ]
  },
  {
   "cell_type": "markdown",
   "id": "9d82598d",
   "metadata": {
    "hidden": true
   },
   "source": [
    "- [Stratascratch: Classify Business Type - Medium](https://platform.stratascratch.com/coding/9726-classify-business-type?tabname=question)\n",
    "- [Stratascratch: Host Popularity Rental Prices - Hard](https://platform.stratascratch.com/coding/9632-host-popularity-rental-prices?code_type=1)"
   ]
  },
  {
   "cell_type": "markdown",
   "id": "40788cfb",
   "metadata": {
    "hidden": true
   },
   "source": [
    "### Подсчет процентов"
   ]
  },
  {
   "cell_type": "markdown",
   "id": "f4316f3c",
   "metadata": {
    "hidden": true
   },
   "source": [
    "Чтобы посчитать процент значений, которые отличаются от общего количества, можно использовать case + group by.\n",
    "\n",
    "```sql\n",
    "select \n",
    "    group_name, sum(case when val > 1000 then 1 else 1 end)/count(id) as percentage\n",
    "from df\n",
    "group by group_name\n",
    "```\n",
    "\n",
    "Иногда требуется округлить проценты до второго знака после запятой. Для этого можно использовать функцию round(), однако нужно не забыть обозначить тип данных числителя на numeric. Иначе эта функция вернет 0.\n",
    "\n",
    "```sql\n",
    "select \n",
    "    group_name, round(sum(case when val > 1000 then 1 else 1 end)::numeric/count(id), 2) as percentage\n",
    "from df\n",
    "group by group_name\n",
    "```"
   ]
  },
  {
   "cell_type": "markdown",
   "id": "fb98bb2e",
   "metadata": {
    "hidden": true
   },
   "source": [
    "Вместо отношения sum()/count() в этом случае можно просто использовать avg()\n",
    "\n",
    "```sql\n",
    "select \n",
    "    group_name, avg(case when val > 1000 then 1 else 1 end) as percentage\n",
    "from df\n",
    "group by group_name\n",
    "```"
   ]
  },
  {
   "cell_type": "markdown",
   "id": "44d9018a",
   "metadata": {
    "hidden": true
   },
   "source": [
    "#### Примеры задач: "
   ]
  },
  {
   "cell_type": "markdown",
   "id": "92b8f122",
   "metadata": {
    "hidden": true
   },
   "source": [
    "- [InterviewQuery: Employee Salaries - Medium](https://www.interviewquery.com/questions/employee-salaries)"
   ]
  },
  {
   "cell_type": "markdown",
   "id": "8898718c",
   "metadata": {
    "heading_collapsed": true
   },
   "source": [
    "## Табличные выражения - Common Table Expressions (CTEs)"
   ]
  },
  {
   "cell_type": "markdown",
   "id": "8138cd83",
   "metadata": {
    "hidden": true
   },
   "source": [
    "Проблема подзапросов в том, что они вредят читаемости запросов. Для решения этой проблемы были введены табличные выражения. Они позволяют инкапсулировать отдельные части запроса в отдельные блоки и обращаться к ним из основного запроса. "
   ]
  },
  {
   "cell_type": "markdown",
   "id": "998c4397",
   "metadata": {
    "heading_collapsed": true,
    "hidden": true
   },
   "source": [
    "#### Пример"
   ]
  },
  {
   "cell_type": "code",
   "execution_count": 127,
   "id": "d32d9584",
   "metadata": {
    "hidden": true
   },
   "outputs": [
    {
     "data": {
      "text/html": [
       "<div>\n",
       "<style scoped>\n",
       "    .dataframe tbody tr th:only-of-type {\n",
       "        vertical-align: middle;\n",
       "    }\n",
       "\n",
       "    .dataframe tbody tr th {\n",
       "        vertical-align: top;\n",
       "    }\n",
       "\n",
       "    .dataframe thead th {\n",
       "        text-align: right;\n",
       "    }\n",
       "</style>\n",
       "<table border=\"1\" class=\"dataframe\">\n",
       "  <thead>\n",
       "    <tr style=\"text-align: right;\">\n",
       "      <th></th>\n",
       "      <th>name</th>\n",
       "      <th>surname</th>\n",
       "    </tr>\n",
       "  </thead>\n",
       "  <tbody>\n",
       "    <tr>\n",
       "      <th>0</th>\n",
       "      <td>Robert</td>\n",
       "      <td>Pattison</td>\n",
       "    </tr>\n",
       "    <tr>\n",
       "      <th>1</th>\n",
       "      <td>Robert</td>\n",
       "      <td>Paulson</td>\n",
       "    </tr>\n",
       "    <tr>\n",
       "      <th>2</th>\n",
       "      <td>Rex</td>\n",
       "      <td>Roberts</td>\n",
       "    </tr>\n",
       "    <tr>\n",
       "      <th>3</th>\n",
       "      <td>Robert</td>\n",
       "      <td>De Niro</td>\n",
       "    </tr>\n",
       "  </tbody>\n",
       "</table>\n",
       "</div>"
      ],
      "text/plain": [
       "     name   surname\n",
       "0  Robert  Pattison\n",
       "1  Robert   Paulson\n",
       "2     Rex   Roberts\n",
       "3  Robert   De Niro"
      ]
     },
     "execution_count": 127,
     "metadata": {},
     "output_type": "execute_result"
    }
   ],
   "source": [
    "df = pd.DataFrame({\n",
    "    'name': ['Robert', 'Robert', 'Rex', 'Robert'],\n",
    "    'surname': ['Pattison', 'Paulson', 'Roberts', 'De Niro']\n",
    "})\n",
    "\n",
    "df.head()"
   ]
  },
  {
   "cell_type": "code",
   "execution_count": 128,
   "id": "ed62a816",
   "metadata": {
    "hidden": true
   },
   "outputs": [
    {
     "data": {
      "text/html": [
       "<div>\n",
       "<style scoped>\n",
       "    .dataframe tbody tr th:only-of-type {\n",
       "        vertical-align: middle;\n",
       "    }\n",
       "\n",
       "    .dataframe tbody tr th {\n",
       "        vertical-align: top;\n",
       "    }\n",
       "\n",
       "    .dataframe thead th {\n",
       "        text-align: right;\n",
       "    }\n",
       "</style>\n",
       "<table border=\"1\" class=\"dataframe\">\n",
       "  <thead>\n",
       "    <tr style=\"text-align: right;\">\n",
       "      <th></th>\n",
       "      <th>surname</th>\n",
       "      <th>n_students</th>\n",
       "    </tr>\n",
       "  </thead>\n",
       "  <tbody>\n",
       "    <tr>\n",
       "      <th>0</th>\n",
       "      <td>De Niro</td>\n",
       "      <td>1</td>\n",
       "    </tr>\n",
       "    <tr>\n",
       "      <th>1</th>\n",
       "      <td>Pattison</td>\n",
       "      <td>1</td>\n",
       "    </tr>\n",
       "    <tr>\n",
       "      <th>2</th>\n",
       "      <td>Paulson</td>\n",
       "      <td>1</td>\n",
       "    </tr>\n",
       "  </tbody>\n",
       "</table>\n",
       "</div>"
      ],
      "text/plain": [
       "    surname  n_students\n",
       "0   De Niro           1\n",
       "1  Pattison           1\n",
       "2   Paulson           1"
      ]
     },
     "execution_count": 128,
     "metadata": {},
     "output_type": "execute_result"
    }
   ],
   "source": [
    "query = \"\"\"\n",
    "with robert_table as (\n",
    "    select surname from df where name = 'Robert'\n",
    ")\n",
    "\n",
    "select\n",
    "      surname\n",
    "    , count(surname) as n_students\n",
    "from\n",
    "    robert_table\n",
    "group by \n",
    "    robert_table.surname\n",
    "\"\"\"\n",
    "\n",
    "pysqldf = lambda q: sqldf(q, globals())\n",
    "pysqldf(query)"
   ]
  },
  {
   "cell_type": "code",
   "execution_count": 129,
   "id": "6a3679f7",
   "metadata": {
    "hidden": true
   },
   "outputs": [
    {
     "data": {
      "text/html": [
       "<div>\n",
       "<style scoped>\n",
       "    .dataframe tbody tr th:only-of-type {\n",
       "        vertical-align: middle;\n",
       "    }\n",
       "\n",
       "    .dataframe tbody tr th {\n",
       "        vertical-align: top;\n",
       "    }\n",
       "\n",
       "    .dataframe thead th {\n",
       "        text-align: right;\n",
       "    }\n",
       "</style>\n",
       "<table border=\"1\" class=\"dataframe\">\n",
       "  <thead>\n",
       "    <tr style=\"text-align: right;\">\n",
       "      <th></th>\n",
       "      <th>surname</th>\n",
       "      <th>n_students</th>\n",
       "    </tr>\n",
       "  </thead>\n",
       "  <tbody>\n",
       "    <tr>\n",
       "      <th>0</th>\n",
       "      <td>Pattison</td>\n",
       "      <td>1</td>\n",
       "    </tr>\n",
       "    <tr>\n",
       "      <th>1</th>\n",
       "      <td>Paulson</td>\n",
       "      <td>1</td>\n",
       "    </tr>\n",
       "  </tbody>\n",
       "</table>\n",
       "</div>"
      ],
      "text/plain": [
       "    surname  n_students\n",
       "0  Pattison           1\n",
       "1   Paulson           1"
      ]
     },
     "execution_count": 129,
     "metadata": {},
     "output_type": "execute_result"
    }
   ],
   "source": [
    "query = \"\"\"\n",
    "with \n",
    "\n",
    "robert_table as (\n",
    "    select surname from df where name = 'Robert'\n",
    "),\n",
    "\n",
    "surname_count as (\n",
    "    select \n",
    "          surname\n",
    "        , count(surname) as n_students \n",
    "    from \n",
    "        robert_table \n",
    "    group by \n",
    "        robert_table.surname\n",
    ")\n",
    "\n",
    "\n",
    "select\n",
    "      surname\n",
    "    , n_students\n",
    "from \n",
    "    surname_count\n",
    "where\n",
    "    surname like 'P%'\n",
    "      \n",
    "\"\"\"\n",
    "\n",
    "pysqldf = lambda q: sqldf(q, globals())\n",
    "pysqldf(query)"
   ]
  },
  {
   "cell_type": "markdown",
   "id": "c7542cf1",
   "metadata": {
    "hidden": true
   },
   "source": [
    "Особенность CTE в том, что после создания мы можем обащаться к каждому блоку из основного заброса. Что позволяет сильно его упростить.\n",
    "Однако это работает только для первого запроса. Если выполнить сразу два запроса подряд, то второй выведет ошибку.\n",
    "\n",
    "<img src=\"../../data/img/CTE.PNG\" width=\"800\">"
   ]
  },
  {
   "cell_type": "markdown",
   "id": "d0512757",
   "metadata": {
    "hidden": true
   },
   "source": [
    "#### Прмеры задач"
   ]
  },
  {
   "cell_type": "markdown",
   "id": "019b816a",
   "metadata": {
    "hidden": true
   },
   "source": [
    "- [Stratascratch: Users By Average Session Time - Medium](https://platform.stratascratch.com/coding/10352-users-by-avg-session-time?tabname=question)\n",
    "- [Income By Title and Gender](https://platform.stratascratch.com/coding/10077-income-by-title-and-gender?tabname=solutions)\n",
    "- [VC.RU: Полезные оконные функции](https://vc.ru/dev/130856-poleznye-okonnye-funkcii-sql)"
   ]
  },
  {
   "cell_type": "markdown",
   "id": "0509bc94",
   "metadata": {
    "heading_collapsed": true
   },
   "source": [
    "## Оконные функции - window functions"
   ]
  },
  {
   "cell_type": "markdown",
   "id": "cccde355",
   "metadata": {
    "hidden": true
   },
   "source": [
    "В SQL есть несколько типов функций. Скалярные функции принимают на вход одно значение и возвращают тоже одно (например concat, upper, lower). Агрегирующие функции принимают на вход набор значений и возращают одно значение (sum, min, max, avg и т.д.). \n",
    "\n",
    "Есть также третий тип функций, которые принимают на вход набор строк, выполняют преобразования в контексте этого набора и возвращают приобразованные значения  - это оконные функции (RANK, DENSE_RANK, ROW_NUMBER). \n",
    "\n",
    "<img src=\"../data/img/window_functions.PNG\" width=\"800\">"
   ]
  },
  {
   "cell_type": "markdown",
   "id": "580de2f3",
   "metadata": {
    "hidden": true
   },
   "source": [
    "### Синтаксис"
   ]
  },
  {
   "cell_type": "markdown",
   "id": "88e31da9",
   "metadata": {
    "hidden": true
   },
   "source": [
    "```sql\n",
    "<название функции>(<выражение>) OVER (\n",
    "    <окно>\n",
    "  <сортировка>\n",
    "  <границы окна>\n",
    ")\n",
    "```\n",
    "\n",
    "```sql\n",
    "select \n",
    "    id, date\n",
    "    , avg(time) over(partition by id order by date rows between 1 preceding and current row) \n",
    "    as avg_time\n",
    "FROM data\n",
    "```\n",
    "\n",
    "```sql\n",
    "ROWS BETWEEN 1 PRECEDING AND CURRENT ROW\n",
    "ROWS BETWEEN UNBOUNDED PRECEDING AND CURRENT ROW\n",
    "ROWS BETWEEN 15 PRECEDING AND 15 FOLLOWING\n",
    "```"
   ]
  },
  {
   "cell_type": "markdown",
   "id": "c98f4c4f",
   "metadata": {
    "hidden": true
   },
   "source": [
    "### Виды оконных функций"
   ]
  },
  {
   "cell_type": "markdown",
   "id": "2c65f5f6",
   "metadata": {
    "hidden": true
   },
   "source": [
    "Оконные функции делятся на:\n",
    "- Агрегатные функции\n",
    "- Ранжирующие функции\n",
    "- Функции смещения\n",
    "- Аналитические функции\n",
    "\n",
    "---\n",
    "**Агрегатные функции - Aggregate functions**\n",
    "\n",
    "Собственно, те же, что и обычные, только встроенные в конструкцию с OVER: \n",
    "\n",
    "SUM, AVG, COUNT, MIN, MAX\n",
    "\n",
    "---\n",
    "**Ранжируемые функции - Numbering functions**\n",
    "\n",
    "ROW_NUMBER() — нумерует строки в результирующем наборе.\n",
    "\n",
    "RANK() — присваивает ранг для каждой строки, если найдутся одинаковые значения, то следующий ранг присваивается с пропуском.\n",
    "\n",
    "DENSE_RANK() — присваивает ранг для каждой строки, если найдутся одинаковые значения, то следующий ранг присваивается без пропуска.\n",
    "\n",
    "PERCENT_RANK() - присваивает персентиль значений.\n",
    "\n",
    "\n",
    "NTILE() — помогает разделить результирующий набор на группы.\n",
    "\n",
    "---\n",
    "**Функции смещения / навигации -  Navigation functions**\n",
    "\n",
    "Используется в случаях, когда нужно обратиться к строке в наборе данных из окна с некоторым смещением относительно текущей строки.\n",
    "\n",
    "LAG() — смещение назад\n",
    "\n",
    "LEAD() — смещение вперед\n",
    "\n",
    "LAG() и LEAD() имеют следующие аргументы:\n",
    "    - Столбец, значение которого необходимо вернуть\n",
    "    - На сколько строк выполнить смешение (дефолт =1)\n",
    "    - Что вставить, если вернулся NULL\n",
    "    \n",
    "\n",
    "FIRST_VALUE() — найти первое значение набора данных\n",
    "\n",
    "LAST_VALUE() — найти последнее значение набора данных"
   ]
  },
  {
   "cell_type": "markdown",
   "id": "5bf8c3de",
   "metadata": {
    "hidden": true
   },
   "source": [
    "#### Примеры задач"
   ]
  },
  {
   "cell_type": "markdown",
   "id": "8c656dda",
   "metadata": {
    "hidden": true
   },
   "source": [
    "- [Stratascratch:Finding User Purchases - Medium](https://platform.stratascratch.com/coding/10322-finding-user-purchases?code_type=1)\n",
    "- [Stratascratch: Marketing Campaign Success [Advanced] - Hard](https://platform.stratascratch.com/coding/514-marketing-campaign-success-advanced?tabname=question)"
   ]
  },
  {
   "cell_type": "markdown",
   "id": "3ef0a45c",
   "metadata": {
    "hidden": true
   },
   "source": [
    "### Пример"
   ]
  },
  {
   "cell_type": "code",
   "execution_count": 5,
   "id": "ed70cc25",
   "metadata": {
    "hidden": true
   },
   "outputs": [
    {
     "data": {
      "text/html": [
       "<div>\n",
       "<style scoped>\n",
       "    .dataframe tbody tr th:only-of-type {\n",
       "        vertical-align: middle;\n",
       "    }\n",
       "\n",
       "    .dataframe tbody tr th {\n",
       "        vertical-align: top;\n",
       "    }\n",
       "\n",
       "    .dataframe thead th {\n",
       "        text-align: right;\n",
       "    }\n",
       "</style>\n",
       "<table border=\"1\" class=\"dataframe\">\n",
       "  <thead>\n",
       "    <tr style=\"text-align: right;\">\n",
       "      <th></th>\n",
       "      <th>name</th>\n",
       "      <th>exam_id</th>\n",
       "      <th>grade</th>\n",
       "    </tr>\n",
       "  </thead>\n",
       "  <tbody>\n",
       "    <tr>\n",
       "      <th>0</th>\n",
       "      <td>Robert Pattison</td>\n",
       "      <td>1</td>\n",
       "      <td>5</td>\n",
       "    </tr>\n",
       "    <tr>\n",
       "      <th>1</th>\n",
       "      <td>Robert Paulson</td>\n",
       "      <td>1</td>\n",
       "      <td>2</td>\n",
       "    </tr>\n",
       "    <tr>\n",
       "      <th>2</th>\n",
       "      <td>Rex Roberts</td>\n",
       "      <td>1</td>\n",
       "      <td>3</td>\n",
       "    </tr>\n",
       "    <tr>\n",
       "      <th>3</th>\n",
       "      <td>Thomas Edison</td>\n",
       "      <td>1</td>\n",
       "      <td>4</td>\n",
       "    </tr>\n",
       "    <tr>\n",
       "      <th>4</th>\n",
       "      <td>Bonny Bones</td>\n",
       "      <td>1</td>\n",
       "      <td>3</td>\n",
       "    </tr>\n",
       "  </tbody>\n",
       "</table>\n",
       "</div>"
      ],
      "text/plain": [
       "              name  exam_id  grade\n",
       "0  Robert Pattison        1      5\n",
       "1   Robert Paulson        1      2\n",
       "2      Rex Roberts        1      3\n",
       "3    Thomas Edison        1      4\n",
       "4      Bonny Bones        1      3"
      ]
     },
     "execution_count": 5,
     "metadata": {},
     "output_type": "execute_result"
    }
   ],
   "source": [
    "exams = pd.DataFrame({\n",
    "    'name': [\n",
    "        'Robert Pattison', 'Robert Paulson', 'Rex Roberts', 'Thomas Edison', 'Bonny Bones', 'Elison Woods',\n",
    "        'Robert Pattison', 'Robert Paulson', 'Rex Roberts', 'Thomas Edison', 'Bonny Bones', 'Elison Woods',\n",
    "    ],\n",
    "    'exam_id': [\n",
    "        1, 1, 1, 1, 1, 1,\n",
    "        2, 2, 2, 2, 2, 2,\n",
    "    ],\n",
    "    'grade': [\n",
    "        5, 2, 3, 4, 3, 5,\n",
    "        4, 4, 4, 5, 4, 5,\n",
    "    ],\n",
    "})\n",
    "\n",
    "exams.head()"
   ]
  },
  {
   "cell_type": "code",
   "execution_count": 6,
   "id": "2bb52d6a",
   "metadata": {
    "hidden": true
   },
   "outputs": [
    {
     "data": {
      "text/html": [
       "<div>\n",
       "<style scoped>\n",
       "    .dataframe tbody tr th:only-of-type {\n",
       "        vertical-align: middle;\n",
       "    }\n",
       "\n",
       "    .dataframe tbody tr th {\n",
       "        vertical-align: top;\n",
       "    }\n",
       "\n",
       "    .dataframe thead th {\n",
       "        text-align: right;\n",
       "    }\n",
       "</style>\n",
       "<table border=\"1\" class=\"dataframe\">\n",
       "  <thead>\n",
       "    <tr style=\"text-align: right;\">\n",
       "      <th></th>\n",
       "      <th>row_number</th>\n",
       "      <th>name</th>\n",
       "      <th>grade</th>\n",
       "    </tr>\n",
       "  </thead>\n",
       "  <tbody>\n",
       "    <tr>\n",
       "      <th>0</th>\n",
       "      <td>1</td>\n",
       "      <td>Robert Pattison</td>\n",
       "      <td>5</td>\n",
       "    </tr>\n",
       "    <tr>\n",
       "      <th>1</th>\n",
       "      <td>2</td>\n",
       "      <td>Robert Paulson</td>\n",
       "      <td>2</td>\n",
       "    </tr>\n",
       "    <tr>\n",
       "      <th>2</th>\n",
       "      <td>3</td>\n",
       "      <td>Rex Roberts</td>\n",
       "      <td>3</td>\n",
       "    </tr>\n",
       "    <tr>\n",
       "      <th>3</th>\n",
       "      <td>4</td>\n",
       "      <td>Thomas Edison</td>\n",
       "      <td>4</td>\n",
       "    </tr>\n",
       "    <tr>\n",
       "      <th>4</th>\n",
       "      <td>5</td>\n",
       "      <td>Bonny Bones</td>\n",
       "      <td>3</td>\n",
       "    </tr>\n",
       "    <tr>\n",
       "      <th>5</th>\n",
       "      <td>6</td>\n",
       "      <td>Elison Woods</td>\n",
       "      <td>5</td>\n",
       "    </tr>\n",
       "    <tr>\n",
       "      <th>6</th>\n",
       "      <td>7</td>\n",
       "      <td>Robert Pattison</td>\n",
       "      <td>4</td>\n",
       "    </tr>\n",
       "    <tr>\n",
       "      <th>7</th>\n",
       "      <td>8</td>\n",
       "      <td>Robert Paulson</td>\n",
       "      <td>4</td>\n",
       "    </tr>\n",
       "    <tr>\n",
       "      <th>8</th>\n",
       "      <td>9</td>\n",
       "      <td>Rex Roberts</td>\n",
       "      <td>4</td>\n",
       "    </tr>\n",
       "    <tr>\n",
       "      <th>9</th>\n",
       "      <td>10</td>\n",
       "      <td>Thomas Edison</td>\n",
       "      <td>5</td>\n",
       "    </tr>\n",
       "    <tr>\n",
       "      <th>10</th>\n",
       "      <td>11</td>\n",
       "      <td>Bonny Bones</td>\n",
       "      <td>4</td>\n",
       "    </tr>\n",
       "    <tr>\n",
       "      <th>11</th>\n",
       "      <td>12</td>\n",
       "      <td>Elison Woods</td>\n",
       "      <td>5</td>\n",
       "    </tr>\n",
       "  </tbody>\n",
       "</table>\n",
       "</div>"
      ],
      "text/plain": [
       "    row_number             name  grade\n",
       "0            1  Robert Pattison      5\n",
       "1            2   Robert Paulson      2\n",
       "2            3      Rex Roberts      3\n",
       "3            4    Thomas Edison      4\n",
       "4            5      Bonny Bones      3\n",
       "5            6     Elison Woods      5\n",
       "6            7  Robert Pattison      4\n",
       "7            8   Robert Paulson      4\n",
       "8            9      Rex Roberts      4\n",
       "9           10    Thomas Edison      5\n",
       "10          11      Bonny Bones      4\n",
       "11          12     Elison Woods      5"
      ]
     },
     "execution_count": 6,
     "metadata": {},
     "output_type": "execute_result"
    }
   ],
   "source": [
    "query = \"\"\"\n",
    "select \n",
    "      row_number() over () as row_number\n",
    "    , name\n",
    "    , grade\n",
    "FROM \n",
    "    exams\n",
    "\"\"\"\n",
    "\n",
    "pysqldf = lambda q: sqldf(q, globals())\n",
    "pysqldf(query)"
   ]
  },
  {
   "cell_type": "code",
   "execution_count": 132,
   "id": "ec132257",
   "metadata": {
    "hidden": true
   },
   "outputs": [
    {
     "data": {
      "text/html": [
       "<div>\n",
       "<style scoped>\n",
       "    .dataframe tbody tr th:only-of-type {\n",
       "        vertical-align: middle;\n",
       "    }\n",
       "\n",
       "    .dataframe tbody tr th {\n",
       "        vertical-align: top;\n",
       "    }\n",
       "\n",
       "    .dataframe thead th {\n",
       "        text-align: right;\n",
       "    }\n",
       "</style>\n",
       "<table border=\"1\" class=\"dataframe\">\n",
       "  <thead>\n",
       "    <tr style=\"text-align: right;\">\n",
       "      <th></th>\n",
       "      <th>row_number</th>\n",
       "      <th>name</th>\n",
       "      <th>grade</th>\n",
       "    </tr>\n",
       "  </thead>\n",
       "  <tbody>\n",
       "    <tr>\n",
       "      <th>0</th>\n",
       "      <td>1</td>\n",
       "      <td>Bonny Bones</td>\n",
       "      <td>3</td>\n",
       "    </tr>\n",
       "    <tr>\n",
       "      <th>1</th>\n",
       "      <td>2</td>\n",
       "      <td>Bonny Bones</td>\n",
       "      <td>4</td>\n",
       "    </tr>\n",
       "    <tr>\n",
       "      <th>2</th>\n",
       "      <td>1</td>\n",
       "      <td>Elison Woods</td>\n",
       "      <td>5</td>\n",
       "    </tr>\n",
       "    <tr>\n",
       "      <th>3</th>\n",
       "      <td>2</td>\n",
       "      <td>Elison Woods</td>\n",
       "      <td>5</td>\n",
       "    </tr>\n",
       "    <tr>\n",
       "      <th>4</th>\n",
       "      <td>1</td>\n",
       "      <td>Rex Roberts</td>\n",
       "      <td>3</td>\n",
       "    </tr>\n",
       "    <tr>\n",
       "      <th>5</th>\n",
       "      <td>2</td>\n",
       "      <td>Rex Roberts</td>\n",
       "      <td>4</td>\n",
       "    </tr>\n",
       "    <tr>\n",
       "      <th>6</th>\n",
       "      <td>1</td>\n",
       "      <td>Robert Pattison</td>\n",
       "      <td>5</td>\n",
       "    </tr>\n",
       "    <tr>\n",
       "      <th>7</th>\n",
       "      <td>2</td>\n",
       "      <td>Robert Pattison</td>\n",
       "      <td>4</td>\n",
       "    </tr>\n",
       "    <tr>\n",
       "      <th>8</th>\n",
       "      <td>1</td>\n",
       "      <td>Robert Paulson</td>\n",
       "      <td>2</td>\n",
       "    </tr>\n",
       "    <tr>\n",
       "      <th>9</th>\n",
       "      <td>2</td>\n",
       "      <td>Robert Paulson</td>\n",
       "      <td>4</td>\n",
       "    </tr>\n",
       "    <tr>\n",
       "      <th>10</th>\n",
       "      <td>1</td>\n",
       "      <td>Thomas Edison</td>\n",
       "      <td>4</td>\n",
       "    </tr>\n",
       "    <tr>\n",
       "      <th>11</th>\n",
       "      <td>2</td>\n",
       "      <td>Thomas Edison</td>\n",
       "      <td>5</td>\n",
       "    </tr>\n",
       "  </tbody>\n",
       "</table>\n",
       "</div>"
      ],
      "text/plain": [
       "    row_number             name  grade\n",
       "0            1      Bonny Bones      3\n",
       "1            2      Bonny Bones      4\n",
       "2            1     Elison Woods      5\n",
       "3            2     Elison Woods      5\n",
       "4            1      Rex Roberts      3\n",
       "5            2      Rex Roberts      4\n",
       "6            1  Robert Pattison      5\n",
       "7            2  Robert Pattison      4\n",
       "8            1   Robert Paulson      2\n",
       "9            2   Robert Paulson      4\n",
       "10           1    Thomas Edison      4\n",
       "11           2    Thomas Edison      5"
      ]
     },
     "execution_count": 132,
     "metadata": {},
     "output_type": "execute_result"
    }
   ],
   "source": [
    "query = \"\"\"\n",
    "select\n",
    "      row_number() over (partition by name) as row_number\n",
    "    , name\n",
    "    , grade\n",
    "FROM \n",
    "    exams\n",
    "\"\"\"\n",
    "\n",
    "pysqldf = lambda q: sqldf(q, globals())\n",
    "pysqldf(query)"
   ]
  },
  {
   "cell_type": "markdown",
   "id": "dd1fce82",
   "metadata": {
    "hidden": true
   },
   "source": [
    "### Посчитать процентное изменение"
   ]
  },
  {
   "cell_type": "markdown",
   "id": "d3630787",
   "metadata": {
    "hidden": true
   },
   "source": [
    "```sql \n",
    "select \n",
    "      to_char(created_at::date, 'YYYY-MM') as year_month\n",
    "    , round(\n",
    "        (sum(value) - lag(sum(value),1) over (w)) *100/lag(sum(value),1) over (w), 2\n",
    "    ) as revenue_diff\n",
    "from df\n",
    "group by year_month\n",
    "window w as (order by to_char(created_at::date, 'YYYY-MM'))\n",
    "```"
   ]
  },
  {
   "cell_type": "markdown",
   "id": "4d2e2991",
   "metadata": {
    "hidden": true
   },
   "source": [
    "#### Прмеры задач"
   ]
  },
  {
   "cell_type": "markdown",
   "id": "c7bbcf23",
   "metadata": {
    "hidden": true
   },
   "source": [
    "- [Stratascratch: Monthly Percentage Difference - Hard](https://platform.stratascratch.com/coding/10319-monthly-percentage-difference?tabname=question)"
   ]
  },
  {
   "cell_type": "markdown",
   "id": "03799285",
   "metadata": {
    "hidden": true
   },
   "source": [
    "### Отранжировать агрегаты"
   ]
  },
  {
   "cell_type": "markdown",
   "id": "f33e03e8",
   "metadata": {
    "hidden": true
   },
   "source": [
    "```sql \n",
    "select \n",
    "      id_col\n",
    "    , sum(value_col) as values_sum\n",
    "    , dense_rank() over (order by sum(value_col) desc)\n",
    "from df\n",
    "group by id_col\n",
    "```"
   ]
  },
  {
   "cell_type": "markdown",
   "id": "5220af93",
   "metadata": {
    "hidden": true
   },
   "source": [
    "#### Примеры задач:"
   ]
  },
  {
   "cell_type": "markdown",
   "id": "0add02db",
   "metadata": {
    "hidden": true
   },
   "source": [
    "- [Stratascratch: Ranking Most Active Guests - Medium](https://platform.stratascratch.com/coding/10159-ranking-most-active-guests?tabname=question)\n",
    "- [Stratascratch: Activity Rank - Medium](https://platform.stratascratch.com/coding/10351-activity-rank/solutions?code_type=1)\n",
    "- [Stratascratch: Find the top 5 cities with the most 5 star businesses - Medium](https://platform.stratascratch.com/coding/10148-find-the-top-10-cities-with-the-most-5-star-businesses?code_type=1)\n",
    "- [Stratascratch: Most Checkins - Medium](https://platform.stratascratch.com/coding/10053-most-checkins/solutions?code_type=1)"
   ]
  },
  {
   "cell_type": "markdown",
   "id": "1ecfb26c",
   "metadata": {
    "hidden": true
   },
   "source": [
    "### Отранжировать значения "
   ]
  },
  {
   "cell_type": "markdown",
   "id": "f01177ac",
   "metadata": {
    "hidden": true
   },
   "source": [
    "ROW_NUMBER() — нумерует строки в результирующем наборе.\n",
    "\n",
    "RANK() — присваивает ранг для каждой строки, если найдутся одинаковые значения, то следующий ранг присваивается с пропуском.\n",
    "\n",
    "DENSE_RANK() — присваивает ранг для каждой строки, если найдутся одинаковые значения, то следующий ранг присваивается без пропуска.\n",
    "\n",
    "PERCENT_RANK() - присваивает персентиль значений."
   ]
  },
  {
   "cell_type": "markdown",
   "id": "c783c06a",
   "metadata": {
    "hidden": true
   },
   "source": [
    "...В каждой группе (от максимального к минимальному)"
   ]
  },
  {
   "cell_type": "markdown",
   "id": "8454a625",
   "metadata": {
    "hidden": true
   },
   "source": [
    "```sql \n",
    "select\n",
    "      dense_rank() over (partition by gr order by val desc), gr, val\n",
    "from df\n",
    "```"
   ]
  },
  {
   "cell_type": "markdown",
   "id": "d7958b42",
   "metadata": {
    "hidden": true
   },
   "source": [
    "### Посчитать персентиль значения (в контексте групп)"
   ]
  },
  {
   "cell_type": "markdown",
   "id": "200a416f",
   "metadata": {
    "hidden": true
   },
   "source": [
    "```sql\n",
    "select \n",
    "      percent_rank() over (partition by group_name order by val asc)\n",
    "--     , 1 - ntile(100) over (partition by state order by fraud_score desc)/100::decimal as percentile\n",
    "from data\n",
    "```"
   ]
  },
  {
   "cell_type": "markdown",
   "id": "75bcfc6a",
   "metadata": {
    "hidden": true
   },
   "source": [
    "#### Примеры задач:"
   ]
  },
  {
   "cell_type": "markdown",
   "id": "0e2a1999",
   "metadata": {
    "hidden": true
   },
   "source": [
    "- [Stratascratch: Top Percentile Fraud - Medium](https://platform.stratascratch.com/coding/10303-top-percentile-fraud?code_type=1)\n",
    "- [Stratascratch: Ranking Hosts By Beds - Medium](https://platform.stratascratch.com/coding/10161-ranking-hosts-by-beds/solutions?code_type=1)\n",
    "- [Stratascratch: Start Dates Of Top Drivers - Medium](https://platform.stratascratch.com/coding/10083-start-dates-of-top-drivers?code_type=1)"
   ]
  },
  {
   "cell_type": "markdown",
   "id": "666d479c",
   "metadata": {
    "hidden": true
   },
   "source": [
    "### Выделить первую, последнюю и n-ную строку "
   ]
  },
  {
   "cell_type": "markdown",
   "id": "5386514f",
   "metadata": {
    "hidden": true
   },
   "source": [
    "Вывести первое, последнее и n-ное значение в группе "
   ]
  },
  {
   "cell_type": "markdown",
   "id": "ca995687",
   "metadata": {
    "hidden": true
   },
   "source": [
    "```sql\n",
    "select \n",
    "      distinct gr\n",
    "    , first_value(val) over w as first\n",
    "    , last_value(val) over w as last \n",
    "    , nth_value(val, {n}) over w as nth\n",
    "from data\n",
    "window w as (partition by gr)\n",
    "```"
   ]
  },
  {
   "cell_type": "markdown",
   "id": "270d6bf3",
   "metadata": {
    "hidden": true
   },
   "source": [
    "#### Альтернативные решения"
   ]
  },
  {
   "cell_type": "markdown",
   "id": "7e4499be",
   "metadata": {
    "hidden": true
   },
   "source": [
    "##### Выделить n-ную строку"
   ]
  },
  {
   "cell_type": "markdown",
   "id": "be01cec1",
   "metadata": {
    "hidden": true
   },
   "source": [
    "```sql\n",
    "select \n",
    "    gr, val\n",
    "from (\n",
    "    select\n",
    "          gr \n",
    "        , row_number() over (partition by gr) as row_number\n",
    "        , val\n",
    "    FROM data\n",
    ")\n",
    "where row_number = {n}\n",
    "```"
   ]
  },
  {
   "cell_type": "markdown",
   "id": "801a54b5",
   "metadata": {
    "hidden": true
   },
   "source": [
    "##### Выделить последнюю строку"
   ]
  },
  {
   "cell_type": "markdown",
   "id": "d3fed6a6",
   "metadata": {
    "hidden": true
   },
   "source": [
    "```sql\n",
    "with ordered_data as (\n",
    "    select *, row_number() over () as order_column from data\n",
    ")\n",
    "\n",
    "select \n",
    "    gr, val\n",
    "from (\n",
    "    select *, row_number() over (partition by group_col order by order_column desc) as row_number\n",
    "    from ordered_data\n",
    ") subquery\n",
    "where \n",
    "    row_number = 1\n",
    "```"
   ]
  },
  {
   "cell_type": "markdown",
   "id": "bd09f3d0",
   "metadata": {
    "hidden": true
   },
   "source": [
    "#### Пример"
   ]
  },
  {
   "cell_type": "code",
   "execution_count": 23,
   "id": "e1b44069",
   "metadata": {
    "hidden": true
   },
   "outputs": [
    {
     "data": {
      "text/html": [
       "<div>\n",
       "<style scoped>\n",
       "    .dataframe tbody tr th:only-of-type {\n",
       "        vertical-align: middle;\n",
       "    }\n",
       "\n",
       "    .dataframe tbody tr th {\n",
       "        vertical-align: top;\n",
       "    }\n",
       "\n",
       "    .dataframe thead th {\n",
       "        text-align: right;\n",
       "    }\n",
       "</style>\n",
       "<table border=\"1\" class=\"dataframe\">\n",
       "  <thead>\n",
       "    <tr style=\"text-align: right;\">\n",
       "      <th></th>\n",
       "      <th>gr</th>\n",
       "      <th>val</th>\n",
       "    </tr>\n",
       "  </thead>\n",
       "  <tbody>\n",
       "    <tr>\n",
       "      <th>0</th>\n",
       "      <td>A</td>\n",
       "      <td>a1</td>\n",
       "    </tr>\n",
       "    <tr>\n",
       "      <th>1</th>\n",
       "      <td>A</td>\n",
       "      <td>a2</td>\n",
       "    </tr>\n",
       "    <tr>\n",
       "      <th>2</th>\n",
       "      <td>A</td>\n",
       "      <td>a3</td>\n",
       "    </tr>\n",
       "    <tr>\n",
       "      <th>3</th>\n",
       "      <td>B</td>\n",
       "      <td>b1</td>\n",
       "    </tr>\n",
       "    <tr>\n",
       "      <th>4</th>\n",
       "      <td>B</td>\n",
       "      <td>b2</td>\n",
       "    </tr>\n",
       "  </tbody>\n",
       "</table>\n",
       "</div>"
      ],
      "text/plain": [
       "  gr val\n",
       "0  A  a1\n",
       "1  A  a2\n",
       "2  A  a3\n",
       "3  B  b1\n",
       "4  B  b2"
      ]
     },
     "execution_count": 23,
     "metadata": {},
     "output_type": "execute_result"
    }
   ],
   "source": [
    "data = pd.DataFrame({\n",
    "    'gr': ['A', 'A', 'A', 'B', 'B', 'C', 'C', 'C'],\n",
    "    'val': ['a1','a2', 'a3', 'b1', 'b2', 'c1', 'c2', 'c3'],\n",
    "})\n",
    "\n",
    "data.head()"
   ]
  },
  {
   "cell_type": "code",
   "execution_count": 24,
   "id": "1db27384",
   "metadata": {
    "hidden": true
   },
   "outputs": [
    {
     "data": {
      "text/html": [
       "<div>\n",
       "<style scoped>\n",
       "    .dataframe tbody tr th:only-of-type {\n",
       "        vertical-align: middle;\n",
       "    }\n",
       "\n",
       "    .dataframe tbody tr th {\n",
       "        vertical-align: top;\n",
       "    }\n",
       "\n",
       "    .dataframe thead th {\n",
       "        text-align: right;\n",
       "    }\n",
       "</style>\n",
       "<table border=\"1\" class=\"dataframe\">\n",
       "  <thead>\n",
       "    <tr style=\"text-align: right;\">\n",
       "      <th></th>\n",
       "      <th>gr</th>\n",
       "      <th>first</th>\n",
       "      <th>last</th>\n",
       "      <th>nth</th>\n",
       "    </tr>\n",
       "  </thead>\n",
       "  <tbody>\n",
       "    <tr>\n",
       "      <th>0</th>\n",
       "      <td>A</td>\n",
       "      <td>a1</td>\n",
       "      <td>a3</td>\n",
       "      <td>a2</td>\n",
       "    </tr>\n",
       "    <tr>\n",
       "      <th>1</th>\n",
       "      <td>B</td>\n",
       "      <td>b1</td>\n",
       "      <td>b2</td>\n",
       "      <td>b2</td>\n",
       "    </tr>\n",
       "    <tr>\n",
       "      <th>2</th>\n",
       "      <td>C</td>\n",
       "      <td>c1</td>\n",
       "      <td>c3</td>\n",
       "      <td>c2</td>\n",
       "    </tr>\n",
       "  </tbody>\n",
       "</table>\n",
       "</div>"
      ],
      "text/plain": [
       "  gr first last nth\n",
       "0  A    a1   a3  a2\n",
       "1  B    b1   b2  b2\n",
       "2  C    c1   c3  c2"
      ]
     },
     "execution_count": 24,
     "metadata": {},
     "output_type": "execute_result"
    }
   ],
   "source": [
    "n = 2\n",
    "\n",
    "query = f\"\"\"\n",
    "\n",
    "select \n",
    "      distinct gr\n",
    "    , first_value(val) over w as first\n",
    "    , last_value(val) over w as last \n",
    "    , nth_value(val, {n}) over w as nth\n",
    "from data\n",
    "window w as (partition by gr)\n",
    "\"\"\"\n",
    "\n",
    "pysqldf = lambda q: sqldf(q, globals())\n",
    "pysqldf(query)"
   ]
  },
  {
   "cell_type": "code",
   "execution_count": 8,
   "id": "05af6de1",
   "metadata": {
    "hidden": true
   },
   "outputs": [
    {
     "data": {
      "text/html": [
       "<div>\n",
       "<style scoped>\n",
       "    .dataframe tbody tr th:only-of-type {\n",
       "        vertical-align: middle;\n",
       "    }\n",
       "\n",
       "    .dataframe tbody tr th {\n",
       "        vertical-align: top;\n",
       "    }\n",
       "\n",
       "    .dataframe thead th {\n",
       "        text-align: right;\n",
       "    }\n",
       "</style>\n",
       "<table border=\"1\" class=\"dataframe\">\n",
       "  <thead>\n",
       "    <tr style=\"text-align: right;\">\n",
       "      <th></th>\n",
       "      <th>gr</th>\n",
       "      <th>val</th>\n",
       "    </tr>\n",
       "  </thead>\n",
       "  <tbody>\n",
       "    <tr>\n",
       "      <th>0</th>\n",
       "      <td>A</td>\n",
       "      <td>a3</td>\n",
       "    </tr>\n",
       "    <tr>\n",
       "      <th>1</th>\n",
       "      <td>C</td>\n",
       "      <td>c3</td>\n",
       "    </tr>\n",
       "  </tbody>\n",
       "</table>\n",
       "</div>"
      ],
      "text/plain": [
       "  gr val\n",
       "0  A  a3\n",
       "1  C  c3"
      ]
     },
     "execution_count": 8,
     "metadata": {},
     "output_type": "execute_result"
    }
   ],
   "source": [
    "n = 3\n",
    "\n",
    "query = f\"\"\"\n",
    "\n",
    "select \n",
    "    gr, val\n",
    "from (\n",
    "    select\n",
    "          gr \n",
    "        , row_number() over (partition by gr) as row_number\n",
    "        , val\n",
    "    FROM data\n",
    ")\n",
    "where row_number = {n}\n",
    "\n",
    "\"\"\"\n",
    "\n",
    "pysqldf = lambda q: sqldf(q, globals())\n",
    "pysqldf(query)"
   ]
  },
  {
   "cell_type": "code",
   "execution_count": 21,
   "id": "25a3bf54",
   "metadata": {
    "hidden": true
   },
   "outputs": [
    {
     "data": {
      "text/html": [
       "<div>\n",
       "<style scoped>\n",
       "    .dataframe tbody tr th:only-of-type {\n",
       "        vertical-align: middle;\n",
       "    }\n",
       "\n",
       "    .dataframe tbody tr th {\n",
       "        vertical-align: top;\n",
       "    }\n",
       "\n",
       "    .dataframe thead th {\n",
       "        text-align: right;\n",
       "    }\n",
       "</style>\n",
       "<table border=\"1\" class=\"dataframe\">\n",
       "  <thead>\n",
       "    <tr style=\"text-align: right;\">\n",
       "      <th></th>\n",
       "      <th>gr</th>\n",
       "      <th>val</th>\n",
       "    </tr>\n",
       "  </thead>\n",
       "  <tbody>\n",
       "    <tr>\n",
       "      <th>0</th>\n",
       "      <td>A</td>\n",
       "      <td>a3</td>\n",
       "    </tr>\n",
       "    <tr>\n",
       "      <th>1</th>\n",
       "      <td>B</td>\n",
       "      <td>b2</td>\n",
       "    </tr>\n",
       "    <tr>\n",
       "      <th>2</th>\n",
       "      <td>C</td>\n",
       "      <td>c3</td>\n",
       "    </tr>\n",
       "  </tbody>\n",
       "</table>\n",
       "</div>"
      ],
      "text/plain": [
       "  gr val\n",
       "0  A  a3\n",
       "1  B  b2\n",
       "2  C  c3"
      ]
     },
     "execution_count": 21,
     "metadata": {},
     "output_type": "execute_result"
    }
   ],
   "source": [
    "query = '''\n",
    "\n",
    "with ordered_data as (\n",
    "    select *, row_number() over () as order_column from data\n",
    ")\n",
    "\n",
    "select \n",
    "    gr, val\n",
    "from (\n",
    "    select *, row_number() over (partition by gr order by order_column desc) as row_number\n",
    "    from ordered_data\n",
    ") subquery\n",
    "where \n",
    "    row_number = 1\n",
    "'''\n",
    "\n",
    "pysqldf = lambda q: sqldf(q, globals())\n",
    "pysqldf(query)"
   ]
  },
  {
   "cell_type": "markdown",
   "id": "68595728",
   "metadata": {
    "hidden": true
   },
   "source": [
    "### Вывести строки с минимальным и максимальным значением"
   ]
  },
  {
   "cell_type": "markdown",
   "id": "fc23e48d",
   "metadata": {
    "hidden": true
   },
   "source": [
    "```sql\n",
    "-- Через cte + union\n",
    "with \n",
    "\n",
    "min_max_vals as (\n",
    "    (select gr, max(val) as val, 'Highest val' as val_type from data group by gr)\n",
    "    union all\n",
    "    (select gr, min(val) as val, 'Lowest val' as val_type from data group by gr)\n",
    ")\n",
    "\n",
    "select\n",
    "    d.worker_id, d.salary, d.department, mm.salary_type\n",
    "from data d right join min_max_vals mm on d.gr = mm.gr and d.val = mm.val\n",
    "```"
   ]
  },
  {
   "cell_type": "markdown",
   "id": "44586819",
   "metadata": {
    "hidden": true
   },
   "source": [
    "```sql\n",
    "-- Через cte + window\n",
    "\n",
    "ranked_vals as (\n",
    "    select *\n",
    "        , row_number() over (partition by gr order by val desc) as max_rank\n",
    "        , row_number() over (partition by gr order by val asc) as min_rank\n",
    "        , (\n",
    "        case\n",
    "            when row_number() over (partition by gr order by val desc) = 1 then 'Highest val'\n",
    "            when row_number() over (partition by gr order by val asc) = 1 then 'Lowest val' \n",
    "        end\n",
    "        ) as val_type\n",
    "    from data\n",
    "\n",
    ")\n",
    "\n",
    "select \n",
    "    data_id, val, gr, val_type\n",
    "from ranked_vals\n",
    "where max_rank = 1 or min_rank = 1\n",
    "```"
   ]
  },
  {
   "cell_type": "markdown",
   "id": "39cee711",
   "metadata": {
    "hidden": true
   },
   "source": [
    "#### Примеры задач:"
   ]
  },
  {
   "cell_type": "markdown",
   "id": "f79b4a84",
   "metadata": {
    "hidden": true
   },
   "source": [
    "- [Stratascratch: Workers With The Highest And Lowest Salaries - Medium](https://platform.stratascratch.com/coding/10152-workers-with-the-highest-and-lowest-salaries/solutions?code_type=1)"
   ]
  },
  {
   "cell_type": "markdown",
   "id": "d6cf60bd",
   "metadata": {
    "hidden": true
   },
   "source": [
    "### Работа с последовательностями строк"
   ]
  },
  {
   "cell_type": "markdown",
   "id": "ae9a1d08",
   "metadata": {
    "hidden": true
   },
   "source": [
    "#### Вывести предыдущую, текущую и следующую строки в контексте группы"
   ]
  },
  {
   "cell_type": "markdown",
   "id": "5da0c7a0",
   "metadata": {
    "hidden": true
   },
   "source": [
    "```sql\n",
    "select  \n",
    "      group_col\n",
    "    , lag(created_at, 1) over (partition by group_col order by created_at asc) as prev_row\n",
    "    , created_at as cur_row\n",
    "    , lead(created_at, 1) over (partition by group_col order by created_at asc) as next_row\n",
    "from data\n",
    "```"
   ]
  },
  {
   "cell_type": "markdown",
   "id": "a7592d53",
   "metadata": {
    "hidden": true
   },
   "source": [
    "##### Примеры задач:"
   ]
  },
  {
   "cell_type": "markdown",
   "id": "6530735b",
   "metadata": {
    "hidden": true
   },
   "source": [
    "- [Stratascratch:Finding User Purchases - Medium](https://platform.stratascratch.com/coding/10322-finding-user-purchases?code_type=1)"
   ]
  },
  {
   "cell_type": "markdown",
   "id": "3abefce0",
   "metadata": {
    "hidden": true
   },
   "source": [
    "##### Пример:"
   ]
  },
  {
   "cell_type": "code",
   "execution_count": 32,
   "id": "66242f54",
   "metadata": {
    "hidden": true
   },
   "outputs": [
    {
     "data": {
      "text/html": [
       "<div>\n",
       "<style scoped>\n",
       "    .dataframe tbody tr th:only-of-type {\n",
       "        vertical-align: middle;\n",
       "    }\n",
       "\n",
       "    .dataframe tbody tr th {\n",
       "        vertical-align: top;\n",
       "    }\n",
       "\n",
       "    .dataframe thead th {\n",
       "        text-align: right;\n",
       "    }\n",
       "</style>\n",
       "<table border=\"1\" class=\"dataframe\">\n",
       "  <thead>\n",
       "    <tr style=\"text-align: right;\">\n",
       "      <th></th>\n",
       "      <th>id</th>\n",
       "      <th>user_id</th>\n",
       "      <th>created_at</th>\n",
       "      <th>amount</th>\n",
       "    </tr>\n",
       "  </thead>\n",
       "  <tbody>\n",
       "    <tr>\n",
       "      <th>0</th>\n",
       "      <td>1</td>\n",
       "      <td>1</td>\n",
       "      <td>2023-04-21 14:00:00</td>\n",
       "      <td>5</td>\n",
       "    </tr>\n",
       "    <tr>\n",
       "      <th>1</th>\n",
       "      <td>2</td>\n",
       "      <td>1</td>\n",
       "      <td>2023-04-21 14:05:30</td>\n",
       "      <td>6</td>\n",
       "    </tr>\n",
       "    <tr>\n",
       "      <th>2</th>\n",
       "      <td>3</td>\n",
       "      <td>1</td>\n",
       "      <td>2023-04-21 14:10:40</td>\n",
       "      <td>10</td>\n",
       "    </tr>\n",
       "    <tr>\n",
       "      <th>3</th>\n",
       "      <td>4</td>\n",
       "      <td>1</td>\n",
       "      <td>2023-04-21 17:10:40</td>\n",
       "      <td>2</td>\n",
       "    </tr>\n",
       "    <tr>\n",
       "      <th>4</th>\n",
       "      <td>5</td>\n",
       "      <td>2</td>\n",
       "      <td>2023-04-21 15:30:00</td>\n",
       "      <td>15</td>\n",
       "    </tr>\n",
       "    <tr>\n",
       "      <th>5</th>\n",
       "      <td>6</td>\n",
       "      <td>2</td>\n",
       "      <td>2023-04-21 15:40:00</td>\n",
       "      <td>8</td>\n",
       "    </tr>\n",
       "    <tr>\n",
       "      <th>6</th>\n",
       "      <td>7</td>\n",
       "      <td>3</td>\n",
       "      <td>2023-04-22 13:25:25</td>\n",
       "      <td>16</td>\n",
       "    </tr>\n",
       "    <tr>\n",
       "      <th>7</th>\n",
       "      <td>8</td>\n",
       "      <td>4</td>\n",
       "      <td>2023-04-21 16:00:00</td>\n",
       "      <td>13</td>\n",
       "    </tr>\n",
       "    <tr>\n",
       "      <th>8</th>\n",
       "      <td>9</td>\n",
       "      <td>4</td>\n",
       "      <td>2023-04-22 16:00:00</td>\n",
       "      <td>2</td>\n",
       "    </tr>\n",
       "    <tr>\n",
       "      <th>9</th>\n",
       "      <td>10</td>\n",
       "      <td>4</td>\n",
       "      <td>2023-04-24 16:00:00</td>\n",
       "      <td>3</td>\n",
       "    </tr>\n",
       "    <tr>\n",
       "      <th>10</th>\n",
       "      <td>11</td>\n",
       "      <td>4</td>\n",
       "      <td>2023-04-26 16:00:00</td>\n",
       "      <td>9</td>\n",
       "    </tr>\n",
       "    <tr>\n",
       "      <th>11</th>\n",
       "      <td>12</td>\n",
       "      <td>4</td>\n",
       "      <td>2023-04-27 16:00:00</td>\n",
       "      <td>4</td>\n",
       "    </tr>\n",
       "    <tr>\n",
       "      <th>12</th>\n",
       "      <td>13</td>\n",
       "      <td>5</td>\n",
       "      <td>2023-04-21 13:30:35</td>\n",
       "      <td>4</td>\n",
       "    </tr>\n",
       "    <tr>\n",
       "      <th>13</th>\n",
       "      <td>14</td>\n",
       "      <td>5</td>\n",
       "      <td>2023-04-21 13:36:35</td>\n",
       "      <td>9</td>\n",
       "    </tr>\n",
       "    <tr>\n",
       "      <th>14</th>\n",
       "      <td>15</td>\n",
       "      <td>5</td>\n",
       "      <td>2023-04-21 15:20:38</td>\n",
       "      <td>3</td>\n",
       "    </tr>\n",
       "  </tbody>\n",
       "</table>\n",
       "</div>"
      ],
      "text/plain": [
       "    id  user_id          created_at  amount\n",
       "0    1        1 2023-04-21 14:00:00       5\n",
       "1    2        1 2023-04-21 14:05:30       6\n",
       "2    3        1 2023-04-21 14:10:40      10\n",
       "3    4        1 2023-04-21 17:10:40       2\n",
       "4    5        2 2023-04-21 15:30:00      15\n",
       "5    6        2 2023-04-21 15:40:00       8\n",
       "6    7        3 2023-04-22 13:25:25      16\n",
       "7    8        4 2023-04-21 16:00:00      13\n",
       "8    9        4 2023-04-22 16:00:00       2\n",
       "9   10        4 2023-04-24 16:00:00       3\n",
       "10  11        4 2023-04-26 16:00:00       9\n",
       "11  12        4 2023-04-27 16:00:00       4\n",
       "12  13        5 2023-04-21 13:30:35       4\n",
       "13  14        5 2023-04-21 13:36:35       9\n",
       "14  15        5 2023-04-21 15:20:38       3"
      ]
     },
     "execution_count": 32,
     "metadata": {},
     "output_type": "execute_result"
    }
   ],
   "source": [
    "transactions = pd.DataFrame({\n",
    "    'id': [\n",
    "        1, 2, 3, 4, \n",
    "        5, 6, \n",
    "        7, \n",
    "        8, 9, 10, 11, 12, \n",
    "        13, 14, 15\n",
    "    ],\n",
    "    'user_id': [\n",
    "        1, 1, 1, 1, \n",
    "        2, 2, \n",
    "        3, \n",
    "        4, 4, 4, 4, 4, \n",
    "        5, 5, 5\n",
    "    ],\n",
    "    'created_at': [\n",
    "        dt.datetime(2023, 4, 21, 14, 0, 0), dt.datetime(2023, 4, 21, 14, 5, 30), dt.datetime(2023, 4, 21, 14, 10, 40), dt.datetime(2023, 4, 21, 17, 10, 40), \n",
    "        dt.datetime(2023, 4, 21, 15, 30, 0), dt.datetime(2023, 4, 21, 15, 40, 0), \n",
    "        dt.datetime(2023, 4, 22, 13, 25, 25),\n",
    "        dt.datetime(2023, 4, 21, 16, 0, 0), dt.datetime(2023, 4, 22, 16, 0, 0), dt.datetime(2023, 4, 24, 16, 0, 0), dt.datetime(2023, 4, 26, 16, 0, 0), dt.datetime(2023, 4, 27, 16, 0, 0),\n",
    "        dt.datetime(2023, 4, 21, 13, 30, 35), dt.datetime(2023, 4, 21, 13, 36, 35), dt.datetime(2023, 4, 21, 15, 20, 38),\n",
    "    ],\n",
    "    'amount': [\n",
    "        5, 6, 10, 2, \n",
    "        15, 8, \n",
    "        16, \n",
    "        13, 2, 3, 9 , 4, \n",
    "        4, 9, 3\n",
    "    ],\n",
    "})\n",
    "\n",
    "transactions"
   ]
  },
  {
   "cell_type": "code",
   "execution_count": 40,
   "id": "4bbb9eda",
   "metadata": {
    "hidden": true
   },
   "outputs": [
    {
     "data": {
      "text/html": [
       "<div>\n",
       "<style scoped>\n",
       "    .dataframe tbody tr th:only-of-type {\n",
       "        vertical-align: middle;\n",
       "    }\n",
       "\n",
       "    .dataframe tbody tr th {\n",
       "        vertical-align: top;\n",
       "    }\n",
       "\n",
       "    .dataframe thead th {\n",
       "        text-align: right;\n",
       "    }\n",
       "</style>\n",
       "<table border=\"1\" class=\"dataframe\">\n",
       "  <thead>\n",
       "    <tr style=\"text-align: right;\">\n",
       "      <th></th>\n",
       "      <th>user_id</th>\n",
       "      <th>prev_transaction</th>\n",
       "      <th>cur_transaction</th>\n",
       "      <th>next_transaction</th>\n",
       "    </tr>\n",
       "  </thead>\n",
       "  <tbody>\n",
       "    <tr>\n",
       "      <th>0</th>\n",
       "      <td>1</td>\n",
       "      <td>None</td>\n",
       "      <td>2023-04-21 14:00:00.000000</td>\n",
       "      <td>2023-04-21 14:05:30.000000</td>\n",
       "    </tr>\n",
       "    <tr>\n",
       "      <th>1</th>\n",
       "      <td>1</td>\n",
       "      <td>2023-04-21 14:00:00.000000</td>\n",
       "      <td>2023-04-21 14:05:30.000000</td>\n",
       "      <td>2023-04-21 14:10:40.000000</td>\n",
       "    </tr>\n",
       "    <tr>\n",
       "      <th>2</th>\n",
       "      <td>1</td>\n",
       "      <td>2023-04-21 14:05:30.000000</td>\n",
       "      <td>2023-04-21 14:10:40.000000</td>\n",
       "      <td>2023-04-21 17:10:40.000000</td>\n",
       "    </tr>\n",
       "    <tr>\n",
       "      <th>3</th>\n",
       "      <td>1</td>\n",
       "      <td>2023-04-21 14:10:40.000000</td>\n",
       "      <td>2023-04-21 17:10:40.000000</td>\n",
       "      <td>None</td>\n",
       "    </tr>\n",
       "    <tr>\n",
       "      <th>4</th>\n",
       "      <td>2</td>\n",
       "      <td>None</td>\n",
       "      <td>2023-04-21 15:30:00.000000</td>\n",
       "      <td>2023-04-21 15:40:00.000000</td>\n",
       "    </tr>\n",
       "    <tr>\n",
       "      <th>5</th>\n",
       "      <td>2</td>\n",
       "      <td>2023-04-21 15:30:00.000000</td>\n",
       "      <td>2023-04-21 15:40:00.000000</td>\n",
       "      <td>None</td>\n",
       "    </tr>\n",
       "    <tr>\n",
       "      <th>6</th>\n",
       "      <td>3</td>\n",
       "      <td>None</td>\n",
       "      <td>2023-04-22 13:25:25.000000</td>\n",
       "      <td>None</td>\n",
       "    </tr>\n",
       "    <tr>\n",
       "      <th>7</th>\n",
       "      <td>4</td>\n",
       "      <td>None</td>\n",
       "      <td>2023-04-21 16:00:00.000000</td>\n",
       "      <td>2023-04-22 16:00:00.000000</td>\n",
       "    </tr>\n",
       "    <tr>\n",
       "      <th>8</th>\n",
       "      <td>4</td>\n",
       "      <td>2023-04-21 16:00:00.000000</td>\n",
       "      <td>2023-04-22 16:00:00.000000</td>\n",
       "      <td>2023-04-24 16:00:00.000000</td>\n",
       "    </tr>\n",
       "    <tr>\n",
       "      <th>9</th>\n",
       "      <td>4</td>\n",
       "      <td>2023-04-22 16:00:00.000000</td>\n",
       "      <td>2023-04-24 16:00:00.000000</td>\n",
       "      <td>2023-04-26 16:00:00.000000</td>\n",
       "    </tr>\n",
       "    <tr>\n",
       "      <th>10</th>\n",
       "      <td>4</td>\n",
       "      <td>2023-04-24 16:00:00.000000</td>\n",
       "      <td>2023-04-26 16:00:00.000000</td>\n",
       "      <td>2023-04-27 16:00:00.000000</td>\n",
       "    </tr>\n",
       "    <tr>\n",
       "      <th>11</th>\n",
       "      <td>4</td>\n",
       "      <td>2023-04-26 16:00:00.000000</td>\n",
       "      <td>2023-04-27 16:00:00.000000</td>\n",
       "      <td>None</td>\n",
       "    </tr>\n",
       "    <tr>\n",
       "      <th>12</th>\n",
       "      <td>5</td>\n",
       "      <td>None</td>\n",
       "      <td>2023-04-21 13:30:35.000000</td>\n",
       "      <td>2023-04-21 13:36:35.000000</td>\n",
       "    </tr>\n",
       "    <tr>\n",
       "      <th>13</th>\n",
       "      <td>5</td>\n",
       "      <td>2023-04-21 13:30:35.000000</td>\n",
       "      <td>2023-04-21 13:36:35.000000</td>\n",
       "      <td>2023-04-21 15:20:38.000000</td>\n",
       "    </tr>\n",
       "    <tr>\n",
       "      <th>14</th>\n",
       "      <td>5</td>\n",
       "      <td>2023-04-21 13:36:35.000000</td>\n",
       "      <td>2023-04-21 15:20:38.000000</td>\n",
       "      <td>None</td>\n",
       "    </tr>\n",
       "  </tbody>\n",
       "</table>\n",
       "</div>"
      ],
      "text/plain": [
       "    user_id            prev_transaction             cur_transaction  \\\n",
       "0         1                        None  2023-04-21 14:00:00.000000   \n",
       "1         1  2023-04-21 14:00:00.000000  2023-04-21 14:05:30.000000   \n",
       "2         1  2023-04-21 14:05:30.000000  2023-04-21 14:10:40.000000   \n",
       "3         1  2023-04-21 14:10:40.000000  2023-04-21 17:10:40.000000   \n",
       "4         2                        None  2023-04-21 15:30:00.000000   \n",
       "5         2  2023-04-21 15:30:00.000000  2023-04-21 15:40:00.000000   \n",
       "6         3                        None  2023-04-22 13:25:25.000000   \n",
       "7         4                        None  2023-04-21 16:00:00.000000   \n",
       "8         4  2023-04-21 16:00:00.000000  2023-04-22 16:00:00.000000   \n",
       "9         4  2023-04-22 16:00:00.000000  2023-04-24 16:00:00.000000   \n",
       "10        4  2023-04-24 16:00:00.000000  2023-04-26 16:00:00.000000   \n",
       "11        4  2023-04-26 16:00:00.000000  2023-04-27 16:00:00.000000   \n",
       "12        5                        None  2023-04-21 13:30:35.000000   \n",
       "13        5  2023-04-21 13:30:35.000000  2023-04-21 13:36:35.000000   \n",
       "14        5  2023-04-21 13:36:35.000000  2023-04-21 15:20:38.000000   \n",
       "\n",
       "              next_transaction  \n",
       "0   2023-04-21 14:05:30.000000  \n",
       "1   2023-04-21 14:10:40.000000  \n",
       "2   2023-04-21 17:10:40.000000  \n",
       "3                         None  \n",
       "4   2023-04-21 15:40:00.000000  \n",
       "5                         None  \n",
       "6                         None  \n",
       "7   2023-04-22 16:00:00.000000  \n",
       "8   2023-04-24 16:00:00.000000  \n",
       "9   2023-04-26 16:00:00.000000  \n",
       "10  2023-04-27 16:00:00.000000  \n",
       "11                        None  \n",
       "12  2023-04-21 13:36:35.000000  \n",
       "13  2023-04-21 15:20:38.000000  \n",
       "14                        None  "
      ]
     },
     "execution_count": 40,
     "metadata": {},
     "output_type": "execute_result"
    }
   ],
   "source": [
    "query = '''\n",
    "\n",
    "select  \n",
    "      user_id\n",
    "    , lag(created_at, 1) over (partition by user_id order by created_at asc) as prev_transaction\n",
    "    , created_at as cur_transaction\n",
    "    , lead(created_at, 1) over (partition by user_id order by created_at asc) as next_transaction\n",
    "from transactions\n",
    "'''\n",
    "\n",
    "pysqldf = lambda q: sqldf(q, globals())\n",
    "pysqldf(query)"
   ]
  },
  {
   "cell_type": "markdown",
   "id": "09d1fb11",
   "metadata": {
    "heading_collapsed": true
   },
   "source": [
    "## Скалярные пользовательские функции - User Defined Functions (UDF): Scalar functions"
   ]
  },
  {
   "cell_type": "markdown",
   "id": "d637437e",
   "metadata": {
    "hidden": true
   },
   "source": [
    "Как и в других языках программирования, в SQL вы также можете инкапсулировать логику в функции, которые принимают параметры, а возвращают значение или набор значений. Пользовательские функции используются в ситуациях, когда нашу задачу нельзя решить с помощью встроенных функций.\n",
    "\n",
    "Как было сказано ранее, скалярные отличаются тем, что возвращают только одно число."
   ]
  },
  {
   "cell_type": "markdown",
   "id": "928be2f4",
   "metadata": {
    "hidden": true
   },
   "source": [
    "```sql\n",
    "create function frequency_students (name_student string) returns int64 as (\n",
    "    \n",
    "    select \n",
    "        count(1)\n",
    "    from \n",
    "        presence\n",
    "    where\n",
    "        name = name_student\n",
    "        and\n",
    "        is_present = True\n",
    "    \n",
    ");\n",
    "\n",
    "create function average_students (name_student string) returns float64 as (\n",
    "\n",
    "    select\n",
    "        avg(grade)\n",
    "    from\n",
    "        exams\n",
    "    where\n",
    "        name = name_student\n",
    "\n",
    ");\n",
    "\n",
    "select\n",
    "      std_id\n",
    "    , name\n",
    "    , average_students(name) as average_grades\n",
    "    , frequency_students(name) as quantity_of_presence\n",
    "from\n",
    "    students\n",
    "```"
   ]
  },
  {
   "cell_type": "markdown",
   "id": "b7159769",
   "metadata": {
    "heading_collapsed": true
   },
   "source": [
    "## Табличные пользовательские функции - User Defined Functions (UDF): Table functions"
   ]
  },
  {
   "cell_type": "markdown",
   "id": "1c290f9b",
   "metadata": {
    "hidden": true
   },
   "source": [
    "В отличии от скалярных функций, табличные функции принимают параметры и возвращают таблицу вместо одного значения. В отличае от CTE, табличные функции могут использоваться в контексте всей базы, а не только одного запроса.\n",
    "\n",
    "```sql\n",
    "create table function count_students_by_surname(name_student string, first_letter_surname string) as (\n",
    "\n",
    "    with  \n",
    "\n",
    "    student_filtered_by_name as (\n",
    "        select surname from students where name = name_student\n",
    "    ),\n",
    "\n",
    "    count_of_students_by_surname as (\n",
    "        select\n",
    "              surname\n",
    "            , count(1) as count_students\n",
    "        from \n",
    "            students_filtered_by_name\n",
    "        group by surname\n",
    "    )\n",
    "\n",
    "    select\n",
    "          surnamae\n",
    "        , count_students\n",
    "    from\n",
    "        count_of_students_by_name\n",
    "    where\n",
    "        surname like concat(first_letter_surname, '%')\n",
    "\n",
    ");\n",
    "\n",
    "select \n",
    "      surname\n",
    "    , count_students\n",
    "from\n",
    "    count_students_by_surname('Robert', 'P')\n",
    "```"
   ]
  },
  {
   "cell_type": "markdown",
   "id": "2eb8fcc9",
   "metadata": {
    "heading_collapsed": true
   },
   "source": [
    "## Временные таблицы - Temporary Tables"
   ]
  },
  {
   "cell_type": "markdown",
   "id": "9e11901d",
   "metadata": {
    "hidden": true
   },
   "source": [
    "Как исходит из названия временные таблицы не хранятся в базе данных, а находятся в кеше и удаляются либо самим пользователем, либо когда закончится сессия.\n",
    "\n",
    "В отличае от CTE и табличных функций, временные таблицы обладают характеристиками обычных таблиц - в них можно добавлять и удалять строки.\n",
    "\n",
    "Основная функция временных таблиц - хранить и обрабатывать промежуточные результаты запроса, чтобы оптимизировать время выполнения/выделенные ресурсы более сложного запроса. Например, вместо применения вычислений к таблицам с миллионами строк для получения подмножества данных вы можете сначала отфильтровать это подмножество во временную таблицу, а затем выполнить вычисления. Таким образом, мы работаем только с теми данными, которые нам нужны, и не тратим ресурсы на обработку запросов.\n",
    "\n",
    "Синтаксис создания временных таблиц похож с созданием обычных. Нужон только добавить temporary после create:\n",
    "\n",
    "```sql\n",
    "create temporary table name_of_table as (\n",
    "    select [columns] from [table]\n",
    ");\n",
    "```"
   ]
  }
 ],
 "metadata": {
  "hide_input": false,
  "kernelspec": {
   "display_name": "Python 3 (ipykernel)",
   "language": "python",
   "name": "python3"
  },
  "language_info": {
   "codemirror_mode": {
    "name": "ipython",
    "version": 3
   },
   "file_extension": ".py",
   "mimetype": "text/x-python",
   "name": "python",
   "nbconvert_exporter": "python",
   "pygments_lexer": "ipython3",
   "version": "3.10.2"
  },
  "toc": {
   "base_numbering": 1,
   "nav_menu": {},
   "number_sections": true,
   "sideBar": true,
   "skip_h1_title": false,
   "title_cell": "Table of Contents",
   "title_sidebar": "Contents",
   "toc_cell": false,
   "toc_position": {
    "height": "calc(100% - 180px)",
    "left": "10px",
    "top": "150px",
    "width": "222.737px"
   },
   "toc_section_display": true,
   "toc_window_display": false
  }
 },
 "nbformat": 4,
 "nbformat_minor": 5
}
