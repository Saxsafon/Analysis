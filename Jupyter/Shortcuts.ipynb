{
 "cells": [
  {
   "cell_type": "markdown",
   "metadata": {},
   "source": [
    "## Статьи\n",
    "https://towardsdatascience.com/jypyter-notebook-shortcuts-bf0101a98330\n",
    "    \n",
    "*If you start doing some action with the mouse, stop and think if there is a shortcut. If there is a one - use it*"
   ]
  },
  {
   "cell_type": "markdown",
   "metadata": {},
   "source": [
    "### Shortcuts in both modes:"
   ]
  },
  {
   "cell_type": "code",
   "execution_count": null,
   "metadata": {},
   "outputs": [],
   "source": [
    "Shift + Enter - run the current cell, select below\n",
    "Ctrl + Enter -  run selected cells\n",
    "Alt + Enter -  run the current cell, insert below\n",
    "Ctrl + S -  save and checkpoint"
   ]
  },
  {
   "cell_type": "markdown",
   "metadata": {},
   "source": [
    "### While in command mode (press Esc to activate):"
   ]
  },
  {
   "cell_type": "markdown",
   "metadata": {},
   "source": [
    "Enter -  take you into edit mode\n",
    "\n",
    "H - show all shortcuts\n",
    "Up - select cell above\n",
    "Down - select cell below\n",
    "Shift + Up - extend selected cells above\n",
    "Shift + Down - extend selected cells below\n",
    "\n",
    "A - insert cell above\n",
    "B - insert cell below\n",
    "X - cut selected cells\n",
    "C  - copy selected cells\n",
    "V - paste cells below\n",
    "Shift + V - paste cells above\n",
    "\n",
    "D + D (press the key twice) -  delete selected cells\n",
    "Z - undo cell deletion\n",
    "S - Save and Checkpoint\n",
    "\n",
    "Y - change the cell type to Code\n",
    "M - change the cell type to Markdown\n",
    "P - open the command palette.\n",
    "\n",
    "\n",
    "Shift + Space - scroll notebook up\n",
    "Space -  scroll notebook down"
   ]
  },
  {
   "cell_type": "markdown",
   "metadata": {},
   "source": [
    "### While in edit mode (press Enter to activate):"
   ]
  },
  {
   "cell_type": "code",
   "execution_count": null,
   "metadata": {},
   "outputs": [],
   "source": [
    "Esc - take you into command mode\n",
    "Tab - code completion or indent\n",
    "Shift + Tab - tooltip\n",
    "\n",
    "Ctrl + ] - indent\n",
    "Ctrl + [ - dedent\n",
    "\n",
    "Ctrl + A - select all\n",
    "Ctrl + Z - undo\n",
    "Ctrl + Shift + Z or Ctrl + Y - redo\n",
    "\n",
    "Down - move cursor down\n",
    "Up - move cursor up\n",
    "Ctrl + Home - go to cell start\n",
    "Ctrl + End - go to cell end\n",
    "Ctrl + Left - go one word left\n",
    "Ctrl + Right - go one word right\n",
    "\n",
    "Ctrl + Shift + P - open the command palette"
   ]
  },
  {
   "cell_type": "code",
   "execution_count": null,
   "metadata": {},
   "outputs": [],
   "source": []
  }
 ],
 "metadata": {
  "kernelspec": {
   "display_name": "venv",
   "language": "python",
   "name": "venv"
  },
  "language_info": {
   "codemirror_mode": {
    "name": "ipython",
    "version": 3
   },
   "file_extension": ".py",
   "mimetype": "text/x-python",
   "name": "python",
   "nbconvert_exporter": "python",
   "pygments_lexer": "ipython3",
   "version": "3.7.3"
  }
 },
 "nbformat": 4,
 "nbformat_minor": 4
}
