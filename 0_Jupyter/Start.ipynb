{
 "cells": [
  {
   "cell_type": "markdown",
   "metadata": {},
   "source": [
    "# Установка и настройка Python - наш основной инструмент"
   ]
  },
  {
   "cell_type": "markdown",
   "metadata": {},
   "source": [
    "### 1. Скачайте установщик с официального сайта (https://www.python.org/downloads/) и установить на свой компьютер\n",
    "\n",
    "#### Подробнее об этом читайте здесь -  https://thecode.media/py-install/"
   ]
  },
  {
   "cell_type": "markdown",
   "metadata": {},
   "source": [
    "### 2. Добавьте пути к Python в список системных переменных\n",
    "<img src=\"data/img/system_variables.png\" width=\"800\">\n",
    "\n",
    "### Проверьте, что пути к исполняемому файлу python.exe и папке Scripts есть в списке переменных среды. После этого вы сможете пользоваться функционалом Python прямо из терминала\n",
    "<img src=\"data/img/cmder.png\" width=\"800\">\n",
    "\n",
    "#### Подробнее об этом читайте здесь -https://www.istocks.club/%D0%BA%D0%B0%D0%BA-%D0%B4%D0%BE%D0%B1%D0%B0%D0%B2%D0%B8%D1%82%D1%8C-python-%D0%B2-%D0%BF%D0%B5%D1%80%D0%B5%D0%BC%D0%B5%D0%BD%D0%BD%D1%83%D1%8E-path-windows/2020-10-14/"
   ]
  },
  {
   "cell_type": "markdown",
   "metadata": {},
   "source": [
    "### А что такое pip? Читайте здесь - https://pythonworld.ru/osnovy/pip.html"
   ]
  },
  {
   "cell_type": "markdown",
   "metadata": {},
   "source": [
    "#### Как установить пакет с помощью pip не из кеша, а непосредственно из интернета?"
   ]
  },
  {
   "cell_type": "code",
   "execution_count": null,
   "metadata": {},
   "outputs": [],
   "source": [
    "pip install --no-cache-dir pandas"
   ]
  },
  {
   "cell_type": "markdown",
   "metadata": {},
   "source": [
    "### 3. Установите jupyter\n",
    "\n",
    "#### Подробнее об этом читайте здесь - https://www.8host.com/blog/ustanovka-jupyter-notebook-dlya-python-3/"
   ]
  },
  {
   "cell_type": "markdown",
   "metadata": {},
   "source": [
    "### А что такое jupyter? Читайте здесь - https://thecode.media/jupyter/"
   ]
  },
  {
   "cell_type": "markdown",
   "metadata": {},
   "source": [
    "### После успешной установки вы сможете запустить веб-интерфейс jupyter notebook и начать работать)\n",
    "<img src=\"data/img/jupyter.png\" width=\"800\">\n",
    "<img src=\"data/img/jupyter_interface.png\" width=\"800\">"
   ]
  },
  {
   "cell_type": "markdown",
   "metadata": {},
   "source": [
    "### А если я хочу запусить его на диске D? Допишите опцию в команде:\n",
    "<img src=\"data/img/jupyter_D.png\" width=\"800\">"
   ]
  },
  {
   "cell_type": "markdown",
   "metadata": {},
   "source": [
    "### Не хочу каждый раз запускать его из терминала. Как делать это с иконки на рабочем столе?"
   ]
  },
  {
   "cell_type": "markdown",
   "metadata": {},
   "source": [
    "### Вариант для cmd - здесь все просто\n",
    "### Создаем ярлык, как показано на рисунке\n",
    "\n",
    "<img src=\"data/img/icon-0.png\" width=\"800\">"
   ]
  },
  {
   "cell_type": "markdown",
   "metadata": {},
   "source": [
    "### Вариант для cmder - здесь есть один нюанс\n",
    "### Программа cmder допускает создание task-ов, шаблонов запуска командной строки, где можно прописать условия и набор команд, которые нужно выполнить при запуске. Прежде всего вам нужно создать task для запуска ноутбука\n",
    "\n",
    "<img src=\"data/img/icon-1.png\" width=\"800\">\n",
    "<img src=\"data/img/icon-2.png\" width=\"800\">\n",
    "<img src=\"data/img/icon-3.png\" width=\"800\">\n",
    "\n",
    "### После этого нужно создать ярлык в том месте, где вы хотите запускать свои ноутбуки (например, на рабочем столе)\n",
    "\n",
    "<img src=\"data/img/icon-4.png\" width=\"600\">"
   ]
  },
  {
   "cell_type": "markdown",
   "metadata": {},
   "source": [
    "### Так или иначе - сохраняем ярлык\n",
    "<img src=\"data/img/icon-5.png\" width=\"600\">\n",
    "<img src=\"data/img/icon-6.png\" width=\"400\">"
   ]
  },
  {
   "cell_type": "markdown",
   "metadata": {},
   "source": [
    "# Виртуальное окружение"
   ]
  },
  {
   "cell_type": "markdown",
   "metadata": {},
   "source": [
    "Для различных проектов используются разные пакеты. В некоторых случаях может быть необходимы пакеты определенных версий. Чтобы избежать конфликтов между проектами используется практика создания отельного виртуального окружения под каждый проект, со своей отельной версией python и прочих необходимых пакетов. "
   ]
  },
  {
   "cell_type": "markdown",
   "metadata": {},
   "source": [
    "## Создание виртуального окружения"
   ]
  },
  {
   "cell_type": "markdown",
   "metadata": {},
   "source": [
    "python -m venv <название виртуального окружения>"
   ]
  },
  {
   "cell_type": "markdown",
   "metadata": {},
   "source": [
    "## Как создать виртуальное окружение более старшей версии python, чем базовая?\n",
    "\n",
    "Пакет **Pyenv** - менеджер версий python"
   ]
  },
  {
   "cell_type": "markdown",
   "metadata": {},
   "source": [
    "### Установка пакета\n",
    "\n",
    "#### Скачиваем исходники в домашнюю директорию\n",
    "```python\n",
    "git clone https://github.com/pyenv/pyenv.git ~/.pyenv\n",
    "```\n",
    "\n",
    "#### Добавление переменных в PATH\n",
    "```python\n",
    "echo 'export PYENV_ROOT=\"$HOME/.pyenv\"' >> ~/.bashrc\n",
    "echo 'export PATH=\"$PYENV_ROOT/bin:$PATH\"' >> ~/.bashrc\n",
    "```\n",
    "\n",
    "#### Добавление функции автозаполнения\n",
    "\n",
    "```python\n",
    "echo -e 'if command -v pyenv 1>/dev/null 2>&1; then\\n  eval \"$(pyenv init -)\"\\nfi' >> ~/.bashrc\n",
    "```\n",
    "#### Перезапускаем оболочку и проверяем, что все \"ок\""
   ]
  },
  {
   "cell_type": "markdown",
   "metadata": {},
   "source": [
    "### Использование\n",
    "\n",
    "#### Узнаем какие версии питона вообще есть\n",
    "Скорее всего, их будет много\n",
    "\n",
    "```python\n",
    "pyenv install --list | grep \" 3\\.\"\n",
    "```\n",
    "#### Устанавливаем необходимую версию питона\n",
    "```python\n",
    "pyenv install 3.8.6\n",
    "```\n",
    "####  Проверка версий установленных через pyenv\n",
    "```python\n",
    "pyenv versions \n",
    "```\n",
    "\n",
    "#### Дальше есть 2 пути:\n",
    "##### a) Переключаемся на нужную версию и создаем виртуальную среду\n",
    "```python\n",
    "pyenv local 3.8.6\n",
    "which python3.8\n",
    "python3.8 -m venv ./venv_name\n",
    "source ./venv_name/bin/activate\n",
    "```\n",
    "##### б) Создаем среду с помощью пакета virtualenv\n",
    "```python\n",
    "pyenv virtualenv 3.8.6 project_name\n",
    "pyenv local project_name\n",
    "pip install something\n",
    "```"
   ]
  },
  {
   "cell_type": "markdown",
   "metadata": {},
   "source": [
    "### Удаление версии установленной с помощью pyenv\n",
    "\n",
    "```python\n",
    "pyenv uninstall 3.8.6\n",
    "```"
   ]
  },
  {
   "cell_type": "markdown",
   "metadata": {},
   "source": [
    "## Установка зависимостей\n",
    "\n",
    "pip install <название пакета> - установить пакет\n",
    "pip install "
   ]
  },
  {
   "cell_type": "markdown",
   "metadata": {},
   "source": [
    "### Как сделать так, чтобы виртуальное окружение отображалось в jupyter-е?"
   ]
  },
  {
   "cell_type": "markdown",
   "metadata": {},
   "source": [
    "python -m ipykernel install --user --name=venv"
   ]
  },
  {
   "cell_type": "markdown",
   "metadata": {},
   "source": [
    "### Как удалить виртуальное окружение из списка в jupyter-е?"
   ]
  },
  {
   "cell_type": "markdown",
   "metadata": {},
   "source": [
    "jupyter kernelspec uninstall unwanted-kernel"
   ]
  }
 ],
 "metadata": {
  "kernelspec": {
   "display_name": "venv",
   "language": "python",
   "name": "venv"
  },
  "language_info": {
   "codemirror_mode": {
    "name": "ipython",
    "version": 3
   },
   "file_extension": ".py",
   "mimetype": "text/x-python",
   "name": "python",
   "nbconvert_exporter": "python",
   "pygments_lexer": "ipython3",
   "version": "3.7.3"
  },
  "toc": {
   "base_numbering": 1,
   "nav_menu": {},
   "number_sections": true,
   "sideBar": true,
   "skip_h1_title": false,
   "title_cell": "Table of Contents",
   "title_sidebar": "Contents",
   "toc_cell": false,
   "toc_position": {},
   "toc_section_display": true,
   "toc_window_display": false
  }
 },
 "nbformat": 4,
 "nbformat_minor": 5
}
