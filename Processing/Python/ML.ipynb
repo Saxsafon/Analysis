{
 "cells": [
  {
   "cell_type": "markdown",
   "id": "48acf869",
   "metadata": {},
   "source": [
    "# Настройка ноутбука"
   ]
  },
  {
   "cell_type": "code",
   "execution_count": 17,
   "id": "2818a418",
   "metadata": {},
   "outputs": [],
   "source": [
    "import pandas as pd\n",
    "import numpy as np\n",
    "import datetime as dt\n",
    "\n",
    "import sklearn as sk\n",
    "import graphviz"
   ]
  },
  {
   "cell_type": "code",
   "execution_count": 6,
   "id": "a8937f39",
   "metadata": {},
   "outputs": [
    {
     "data": {
      "text/html": [
       "<style>.container { width:100% !important; }</style>"
      ],
      "text/plain": [
       "<IPython.core.display.HTML object>"
      ]
     },
     "metadata": {},
     "output_type": "display_data"
    }
   ],
   "source": [
    "# Расширить рабочее поле ноутбука на весь экран\n",
    "from IPython.display import display, HTML\n",
    "display(HTML(\"<style>.container { width:100% !important; }</style>\"))"
   ]
  },
  {
   "cell_type": "markdown",
   "id": "3a8b9c01",
   "metadata": {},
   "source": [
    "# Описание"
   ]
  },
  {
   "cell_type": "markdown",
   "id": "e859704e",
   "metadata": {},
   "source": [
    "# Практики"
   ]
  },
  {
   "cell_type": "markdown",
   "id": "76f8f9f0",
   "metadata": {},
   "source": [
    "### DecisionTreeClassifier"
   ]
  },
  {
   "cell_type": "markdown",
   "id": "6ab83573",
   "metadata": {},
   "source": [
    "[Karpov.courses: Машинное обучение в аналитике: как работают деревья решений](https://www.youtube.com/watch?v=Pu6ALdXRBtY&ab_channel=karpov.courses)"
   ]
  },
  {
   "cell_type": "code",
   "execution_count": 7,
   "id": "3682a5ae",
   "metadata": {},
   "outputs": [],
   "source": [
    "df = pd.DataFrame({\n",
    "    'x1': [1, 1, 1, 0, 0, 0, 0, 1],\n",
    "    'x2': [0, 0, 0, 1, 0, 0, 0, 1],\n",
    "    'y': [1, 1, 1, 1, 0, 0, 0, 0]\n",
    "})"
   ]
  },
  {
   "cell_type": "code",
   "execution_count": 15,
   "id": "2ee33de3",
   "metadata": {},
   "outputs": [],
   "source": [
    "clf = sk.tree.DecisionTreeClassifier(criterion='entropy')\n",
    "clf = clf.fit(df[['x1', 'x2']], df['y'])"
   ]
  },
  {
   "cell_type": "code",
   "execution_count": 19,
   "id": "70bf36a9",
   "metadata": {},
   "outputs": [],
   "source": [
    "# dot_data = sk.tree.export_graphviz(\n",
    "#     clf, out_file=None, filled=True\n",
    "# )\n",
    "\n",
    "# graph = graphviz.Source(dot_data, format='png')\n",
    "# graph"
   ]
  }
 ],
 "metadata": {
  "hide_input": false,
  "kernelspec": {
   "display_name": "venv",
   "language": "python",
   "name": "venv"
  },
  "language_info": {
   "codemirror_mode": {
    "name": "ipython",
    "version": 3
   },
   "file_extension": ".py",
   "mimetype": "text/x-python",
   "name": "python",
   "nbconvert_exporter": "python",
   "pygments_lexer": "ipython3",
   "version": "3.10.2"
  },
  "toc": {
   "base_numbering": 1,
   "nav_menu": {},
   "number_sections": true,
   "sideBar": true,
   "skip_h1_title": false,
   "title_cell": "Table of Contents",
   "title_sidebar": "Contents",
   "toc_cell": false,
   "toc_position": {},
   "toc_section_display": true,
   "toc_window_display": false
  }
 },
 "nbformat": 4,
 "nbformat_minor": 5
}
