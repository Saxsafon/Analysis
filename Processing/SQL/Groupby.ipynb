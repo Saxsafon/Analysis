{
 "cells": [
  {
   "cell_type": "markdown",
   "metadata": {},
   "source": [
    "# Настройка ноутбука"
   ]
  },
  {
   "cell_type": "code",
   "execution_count": 4,
   "metadata": {},
   "outputs": [],
   "source": [
    "import pandas as pd\n",
    "import numpy as np\n",
    "from sklearn import datasets\n",
    "import datetime as dt\n",
    "\n",
    "from pandasql import sqldf"
   ]
  },
  {
   "cell_type": "code",
   "execution_count": 5,
   "metadata": {},
   "outputs": [],
   "source": [
    "import warnings\n",
    "warnings.filterwarnings('ignore')"
   ]
  },
  {
   "cell_type": "code",
   "execution_count": 1,
   "metadata": {},
   "outputs": [
    {
     "data": {
      "text/html": [
       "<style>.container { width:100% !important; }</style>"
      ],
      "text/plain": [
       "<IPython.core.display.HTML object>"
      ]
     },
     "metadata": {},
     "output_type": "display_data"
    }
   ],
   "source": [
    "# Расширить рабочее поле ноутбука на весь экран\n",
    "from IPython.display import display, HTML\n",
    "display(HTML(\"<style>.container { width:100% !important; }</style>\"))"
   ]
  },
  {
   "cell_type": "markdown",
   "metadata": {},
   "source": [
    "# Описание"
   ]
  },
  {
   "cell_type": "markdown",
   "metadata": {},
   "source": [
    "В ноутбук занесены практики работы с оператором group by в языке SQL."
   ]
  },
  {
   "cell_type": "markdown",
   "metadata": {},
   "source": [
    "# Практики"
   ]
  },
  {
   "cell_type": "markdown",
   "metadata": {},
   "source": [
    "## Агрегирование значений\n",
    "\n",
    "Выделение максимального, минимального, среднего, ... значения из группы. Или самой **ранней, средней, поздей** записи. "
   ]
  },
  {
   "cell_type": "markdown",
   "metadata": {},
   "source": [
    "```sql\n",
    "select cat, max(val) from data group by cat\n",
    "```"
   ]
  },
  {
   "cell_type": "markdown",
   "metadata": {},
   "source": [
    "При этом в группировке можно использовать псевдоним из select-а (хотя это по идее противоречит порядку выполнения команд), или номер колонки начиная с 1."
   ]
  },
  {
   "cell_type": "markdown",
   "metadata": {},
   "source": [
    "```sql\n",
    "select id as id_col, sum(val) from data group by id_col\n",
    "select id, sum(val) from data group by 1\n",
    "```"
   ]
  },
  {
   "cell_type": "markdown",
   "metadata": {},
   "source": [
    "#### Примеры задач:"
   ]
  },
  {
   "cell_type": "markdown",
   "metadata": {},
   "source": [
    "- [Stratascratch: Bikes Last Used - Easy](https://platform.stratascratch.com/coding/10176-bikes-last-used?code_type=1)\n",
    "- [Stratascratch: Number Of Units Per Nationality - Medium](https://platform.stratascratch.com/coding/10156-number-of-units-per-nationality?code_type=1)\n",
    "- [Stratascratch: Top Ranked Songs - Medium](https://platform.stratascratch.com/coding/9991-top-ranked-songs?code_type=1)\n",
    "- [Stratascratch: Largest Olympics - Medium](https://platform.stratascratch.com/coding/9942-largest-olympics?code_type=1)\n",
    "- [Stratascratch: Highest Cost Orders - Medium](https://platform.stratascratch.com/coding/9915-highest-cost-orders?code_type=1)"
   ]
  },
  {
   "cell_type": "markdown",
   "metadata": {},
   "source": [
    "### Посчитать процент значений"
   ]
  },
  {
   "cell_type": "markdown",
   "metadata": {},
   "source": [
    "Соотношение значений между двумя группами.\n",
    "Функция count не учитывает значения NaN. Поэтому можно использовать left join с count для рассчета процента. \n",
    "\n",
    "```sql\n",
    "select\n",
    "      a.date\n",
    "    , count(b.id)::float/count(a.id) as rate\n",
    "from table_a a left join table_b b on a.id = b.id\n",
    "group by a.date\n",
    "order by a.date\n",
    "```"
   ]
  },
  {
   "cell_type": "markdown",
   "metadata": {},
   "source": [
    "#### Примеры задач:"
   ]
  },
  {
   "cell_type": "markdown",
   "metadata": {},
   "source": [
    "- [InterviewQuery: Employee Salaries - Medium](https://www.interviewquery.com/questions/employee-salaries)\n",
    "- [Stratascratch: Acceptance Rate By Date - Medium](https://platform.stratascratch.com/coding/10285-acceptance-rate-by-date?tabname=question)\n",
    "- [Stratascratch: Popularity Percentage - Hard](https://platform.stratascratch.com/coding/10284-popularity-percentage?tabname=question)"
   ]
  },
  {
   "cell_type": "markdown",
   "metadata": {},
   "source": [
    "### Выделить значения с определенными агрегатами"
   ]
  },
  {
   "cell_type": "markdown",
   "metadata": {},
   "source": [
    "Например, выделить города, у которых средняя цена за недвижимость превышает среднюю цену по всей стране:"
   ]
  },
  {
   "cell_type": "markdown",
   "metadata": {},
   "source": [
    "```sql\n",
    "select city\n",
    "from data\n",
    "group by city\n",
    "having avg(price) > (select avg(price) from data)\n",
    "\n",
    "```"
   ]
  },
  {
   "cell_type": "markdown",
   "metadata": {},
   "source": [
    "#### Примеры задач"
   ]
  },
  {
   "cell_type": "markdown",
   "metadata": {},
   "source": [
    "- [Stratascratch: Cities With The Most Expensive Homes - Medium](https://platform.stratascratch.com/coding/10315-cities-with-the-most-expensive-homes?code_type=1)"
   ]
  }
 ],
 "metadata": {
  "hide_input": false,
  "kernelspec": {
   "display_name": "venv",
   "language": "python",
   "name": "venv"
  },
  "language_info": {
   "codemirror_mode": {
    "name": "ipython",
    "version": 3
   },
   "file_extension": ".py",
   "mimetype": "text/x-python",
   "name": "python",
   "nbconvert_exporter": "python",
   "pygments_lexer": "ipython3",
   "version": "3.10.2"
  },
  "toc": {
   "base_numbering": 1,
   "nav_menu": {},
   "number_sections": true,
   "sideBar": true,
   "skip_h1_title": false,
   "title_cell": "Table of Contents",
   "title_sidebar": "Contents",
   "toc_cell": false,
   "toc_position": {},
   "toc_section_display": true,
   "toc_window_display": false
  }
 },
 "nbformat": 4,
 "nbformat_minor": 4
}
