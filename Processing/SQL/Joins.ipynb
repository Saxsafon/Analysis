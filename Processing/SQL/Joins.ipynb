{
 "cells": [
  {
   "cell_type": "markdown",
   "metadata": {},
   "source": [
    "# Настройка ноутбука"
   ]
  },
  {
   "cell_type": "code",
   "execution_count": 4,
   "metadata": {},
   "outputs": [],
   "source": [
    "import pandas as pd\n",
    "import numpy as np\n",
    "from sklearn import datasets\n",
    "import datetime as dt\n",
    "\n",
    "from pandasql import sqldf"
   ]
  },
  {
   "cell_type": "code",
   "execution_count": 2,
   "metadata": {},
   "outputs": [],
   "source": [
    "import warnings\n",
    "warnings.filterwarnings('ignore')"
   ]
  },
  {
   "cell_type": "code",
   "execution_count": 3,
   "metadata": {},
   "outputs": [
    {
     "data": {
      "text/html": [
       "<style>.container { width:100% !important; }</style>"
      ],
      "text/plain": [
       "<IPython.core.display.HTML object>"
      ]
     },
     "metadata": {},
     "output_type": "display_data"
    }
   ],
   "source": [
    "from IPython.core.display import display, HTML\n",
    "display(HTML(\"<style>.container { width:100% !important; }</style>\"))"
   ]
  },
  {
   "cell_type": "markdown",
   "metadata": {},
   "source": [
    "# Описание"
   ]
  },
  {
   "cell_type": "code",
   "execution_count": null,
   "metadata": {},
   "outputs": [],
   "source": []
  },
  {
   "cell_type": "markdown",
   "metadata": {},
   "source": [
    "# Виды join-ов"
   ]
  },
  {
   "cell_type": "markdown",
   "metadata": {},
   "source": [
    "<img src=\"../../img/sql_joins.PNG\" width=\"500\">"
   ]
  },
  {
   "cell_type": "markdown",
   "metadata": {},
   "source": [
    "INNER JOIN — возвращает записи, имеющиеся в обеих таблицах\n",
    "\n",
    "LEFT JOIN — возвращает записи из левой таблицы, даже если такие записи отсутствуют в правой таблице\n",
    "\n",
    "RIGHT JOIN — возвращает записи из правой таблицы, даже если такие записи отсутствуют в левой таблице\n",
    "\n",
    "FULL JOIN — возвращает все записи объединяемых таблиц\n",
    "\n",
    "CROSS JOIN — возвращает все возможные комбинации строк обеих таблиц\n",
    "\n",
    "SELF JOIN — используется для объединения таблицы с самой собой"
   ]
  },
  {
   "cell_type": "markdown",
   "metadata": {},
   "source": [
    "# Практики"
   ]
  },
  {
   "cell_type": "markdown",
   "metadata": {},
   "source": [
    "## Объединение таблиц"
   ]
  },
  {
   "cell_type": "markdown",
   "metadata": {},
   "source": [
    "```sql\n",
    "select\n",
    "    t1.val, t2.val, t3.val, ...\n",
    "from\n",
    "         table1 t1\n",
    "    join table2 t2 on t1.id = t2.id\n",
    "    join table3 t3 on t2.id = t3.id\n",
    "```"
   ]
  },
  {
   "cell_type": "markdown",
   "metadata": {},
   "source": [
    "#### Примеры задач"
   ]
  },
  {
   "cell_type": "markdown",
   "metadata": {},
   "source": [
    "- [Stratascratch: Number Of Units Per Nationality - Medium](https://platform.stratascratch.com/coding/10156-number-of-units-per-nationality?code_type=1)\n",
    "- [Stratascratch: Income By Title and Gender - Medium](https://platform.stratascratch.com/coding/10077-income-by-title-and-gender?tabname=solutions)\n",
    "- [Stratascratch: Distances Traveled - Medium](https://platform.stratascratch.com/coding/10324-distances-traveled/solutions?code_type=1)\n",
    "- [Stratascratch: Expensive Projects - Medium](https://platform.stratascratch.com/coding/10301-expensive-projects?code_type=1)"
   ]
  },
  {
   "cell_type": "markdown",
   "metadata": {},
   "source": [
    "## Перебор комбинаций - self join"
   ]
  },
  {
   "cell_type": "markdown",
   "metadata": {},
   "source": [
    "Порой возникает необходимость выделить строки в таблице по разнице определенного параметра между ними (хронологического или количественного). \n",
    "В таких случаях подойдет такое решение: \n",
    "- получить комбинации строк через self merge, \n",
    "- посчитать искомый параметр и \n",
    "- отсортировать по нему\n",
    "- ограничить количество строк\n",
    "\n",
    "При этом нужно добавить два фильтра:\n",
    "\n",
    "1) Идентификаторы объединяемых таблиц не должны совпадать - это исключит комбинации одинаковых строк\n",
    "\n",
    "2) Значение одной из строк должно быть больше или равно чем другое - это исключит обратный комбинации строк (a - b = 30, b - a = -30)\n",
    "\n",
    "**Замечание:** Второй вильтр допускает одну неточность. Как быть со строками разница между которыми равна нулю? Второй фильтр в этом случаи не исключит обратные комбинации. Если же сделать, чтобы одна строка была строго больше второй, тогда эти строки вообще не попадут в выборку. "
   ]
  },
  {
   "cell_type": "markdown",
   "metadata": {},
   "source": [
    "### Вариант 1 - join on"
   ]
  },
  {
   "cell_type": "markdown",
   "metadata": {},
   "source": [
    "```sql\n",
    "select \n",
    "    a.id as a_id, b.id as b_id, b.val - a.val as diff\n",
    "from\n",
    "\n",
    "    table a join table b on a.id != b.id and b.val >= a.val\n",
    "order by a_id asc, diff asc\n",
    "limit 1\n",
    "```"
   ]
  },
  {
   "cell_type": "markdown",
   "metadata": {},
   "source": [
    "### Вариант 2 - cross join"
   ]
  },
  {
   "cell_type": "markdown",
   "metadata": {},
   "source": [
    "```sql\n",
    "select \n",
    "    a.id as a_id, b.id as b_id, b.val - a.val as diff\n",
    "from\n",
    "\n",
    "    table a cross join table b where a.id != b.id and b.val >= a.val\n",
    "order by a_id asc, diff asc\n",
    "limit 1\n",
    "```"
   ]
  },
  {
   "cell_type": "markdown",
   "metadata": {},
   "source": [
    "#### Примеры задач"
   ]
  },
  {
   "cell_type": "markdown",
   "metadata": {},
   "source": [
    "- [Interviewquery: Closest SAT Scores - Medium](https://www.interviewquery.com/questions/closest-sat-scores)\n",
    "- [Stratascratch: Finding User Purchases - Medium](https://platform.stratascratch.com/coding/10322-finding-user-purchases?code_type=1)\n",
    "- [Stratascratch: Find matching hosts and guests in a way that they are both of the same gender and nationality - Medium](https://platform.stratascratch.com/coding/10078-find-matching-hosts-and-guests-in-a-way-that-they-are-both-of-the-same-gender-and-nationality?code_type=1)\n",
    "- [Stratascratch: Employee and Manager Salaries - Medium](https://platform.stratascratch.com/coding/9894-employee-and-manager-salaries?tabname=question)"
   ]
  },
  {
   "cell_type": "code",
   "execution_count": null,
   "metadata": {},
   "outputs": [],
   "source": []
  }
 ],
 "metadata": {
  "hide_input": false,
  "kernelspec": {
   "display_name": "venv",
   "language": "python",
   "name": "venv"
  },
  "language_info": {
   "codemirror_mode": {
    "name": "ipython",
    "version": 3
   },
   "file_extension": ".py",
   "mimetype": "text/x-python",
   "name": "python",
   "nbconvert_exporter": "python",
   "pygments_lexer": "ipython3",
   "version": "3.10.2"
  },
  "toc": {
   "base_numbering": 1,
   "nav_menu": {},
   "number_sections": true,
   "sideBar": true,
   "skip_h1_title": false,
   "title_cell": "Table of Contents",
   "title_sidebar": "Contents",
   "toc_cell": false,
   "toc_position": {},
   "toc_section_display": true,
   "toc_window_display": false
  }
 },
 "nbformat": 4,
 "nbformat_minor": 4
}
