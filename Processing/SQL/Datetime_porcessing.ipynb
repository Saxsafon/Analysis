{
 "cells": [
  {
   "cell_type": "markdown",
   "metadata": {},
   "source": [
    "# Настройка ноутбука"
   ]
  },
  {
   "cell_type": "code",
   "execution_count": 4,
   "metadata": {},
   "outputs": [],
   "source": [
    "import pandas as pd\n",
    "import numpy as np\n",
    "from sklearn import datasets\n",
    "import datetime as dt\n",
    "\n",
    "from pandasql import sqldf"
   ]
  },
  {
   "cell_type": "code",
   "execution_count": 2,
   "metadata": {},
   "outputs": [],
   "source": [
    "import warnings\n",
    "warnings.filterwarnings('ignore')"
   ]
  },
  {
   "cell_type": "code",
   "execution_count": 3,
   "metadata": {},
   "outputs": [
    {
     "data": {
      "text/html": [
       "<style>.container { width:100% !important; }</style>"
      ],
      "text/plain": [
       "<IPython.core.display.HTML object>"
      ]
     },
     "metadata": {},
     "output_type": "display_data"
    }
   ],
   "source": [
    "from IPython.core.display import display, HTML\n",
    "display(HTML(\"<style>.container { width:100% !important; }</style>\"))"
   ]
  },
  {
   "cell_type": "markdown",
   "metadata": {},
   "source": [
    "# Описние"
   ]
  },
  {
   "cell_type": "markdown",
   "metadata": {},
   "source": [
    "Ноутбук с набором практик по работе со строка с помощью языка PostgreSQL"
   ]
  },
  {
   "cell_type": "markdown",
   "metadata": {},
   "source": [
    "## Ресурсы\n",
    "\n",
    "- [PosgreSQL doc: Date/Time Types](https://www.postgresql.org/docs/current/datatype-datetime.html)\n",
    "- [PosgreSQL doc: Data Type Formatting Functions](https://www.postgresql.org/docs/current/functions-formatting.html)"
   ]
  },
  {
   "cell_type": "markdown",
   "metadata": {},
   "source": [
    "# Практики"
   ]
  },
  {
   "cell_type": "markdown",
   "metadata": {},
   "source": [
    "## Выделить данные за определенный период"
   ]
  },
  {
   "cell_type": "markdown",
   "metadata": {},
   "source": [
    "### Примеры задач"
   ]
  },
  {
   "cell_type": "markdown",
   "metadata": {},
   "source": [
    "- [Stratascratch: Customer Revenue In March - Medium](https://platform.stratascratch.com/coding/9782-customer-revenue-in-march?code_type=1)\n",
    "- [Stratascratch: Number of violations - Medium](https://platform.stratascratch.com/coding/9728-inspections-that-resulted-in-violations?code_type=1)"
   ]
  },
  {
   "cell_type": "markdown",
   "metadata": {},
   "source": [
    "### Получить текущий год"
   ]
  },
  {
   "cell_type": "markdown",
   "metadata": {},
   "source": [
    "```sql\n",
    "select value from data where date_part('year', current_date) - year_col <= 20\n",
    "```"
   ]
  },
  {
   "cell_type": "markdown",
   "metadata": {},
   "source": [
    "#### Примеры задач:"
   ]
  },
  {
   "cell_type": "markdown",
   "metadata": {},
   "source": [
    "- [Stratascratch: Find the top-ranked songs for the past 20 years - Medium](https://platform.stratascratch.com/coding/10283-find-the-top-ranked-songs-for-the-past-30-years?code_type=1)"
   ]
  },
  {
   "cell_type": "markdown",
   "metadata": {},
   "source": [
    "### Выделить данные за определенный год-месяц"
   ]
  },
  {
   "cell_type": "markdown",
   "metadata": {},
   "source": [
    "```sql\n",
    "select \n",
    "    val1, val2, val3, ...\n",
    "from df \n",
    "where to_char(order_date, 'yyyy-mm') = '2019-03'\n",
    "```"
   ]
  },
  {
   "cell_type": "markdown",
   "metadata": {},
   "source": [
    "### Выделить данные за определенный период"
   ]
  },
  {
   "cell_type": "markdown",
   "metadata": {},
   "source": [
    "```sql\n",
    "select\n",
    "    val1, val2, val3, ...\n",
    "from df\n",
    "where date(date_col) between date_start and date_end\n",
    "\n",
    "```"
   ]
  },
  {
   "cell_type": "markdown",
   "metadata": {},
   "source": [
    "### Выделить данные за определенный период в течении дня"
   ]
  },
  {
   "cell_type": "markdown",
   "metadata": {},
   "source": [
    "```python\n",
    "date_start = '2022-08-01'\n",
    "date_end = '2022-08-01'\n",
    "\n",
    "time_start = '00:00:00'\n",
    "time_end = '06:00:00'\n",
    "\n",
    "datetime_start = f'{date_start} {time_start}' \n",
    "datetime_end = f'{date_end} {time_end}'\n",
    "```"
   ]
  },
  {
   "cell_type": "markdown",
   "metadata": {},
   "source": [
    "```sql\n",
    "select\n",
    "    val1, val2, val3, ...\n",
    "from\n",
    "    df\n",
    "where \n",
    "    to_char(ch.timestamp, 'YYYY-MM-DD HH24:MI:SS') >= 'datetime_start' \n",
    "    and \n",
    "    to_char(ch.timestamp, 'YYYY-MM-DD HH24:MI:SS') <= 'datetime_end'\n",
    "```"
   ]
  },
  {
   "cell_type": "markdown",
   "metadata": {},
   "source": [
    "### Посчитать количество дней/месяцев/лет между датами"
   ]
  },
  {
   "cell_type": "markdown",
   "metadata": {},
   "source": [
    "```sql\n",
    "select \n",
    "      start_date, end_date\n",
    "    , end_date - start_date as n_days\n",
    "    , (end_date - start_date)::decimal / 30 as n_months\n",
    "    , (end_date - start_date)::decimal / 365 as n_years\n",
    "from data\n",
    "```\n",
    "\n",
    "**Замечание:** я пробовал использовать для расчета выражения\n",
    "```sql\n",
    "extract(month FROM age(end_date, start_date))\n",
    "date_part('month', age(end_date, start_date))\n",
    "```\n",
    "однако результат этих функций видимо зависит от настроек базы или сервера и может отличатся от результата первых вариантов на 2 месяца. Поэтому пока я предпочитаю простой подход."
   ]
  },
  {
   "cell_type": "markdown",
   "metadata": {},
   "source": [
    "#### Примеры задач:"
   ]
  },
  {
   "cell_type": "markdown",
   "metadata": {},
   "source": [
    "- [Stratascratch: Risky Projects - Medium](https://platform.stratascratch.com/coding/10304-risky-projects?code_type=1)"
   ]
  }
 ],
 "metadata": {
  "hide_input": false,
  "kernelspec": {
   "display_name": "venv",
   "language": "python",
   "name": "venv"
  },
  "language_info": {
   "codemirror_mode": {
    "name": "ipython",
    "version": 3
   },
   "file_extension": ".py",
   "mimetype": "text/x-python",
   "name": "python",
   "nbconvert_exporter": "python",
   "pygments_lexer": "ipython3",
   "version": "3.10.2"
  },
  "toc": {
   "base_numbering": 1,
   "nav_menu": {},
   "number_sections": true,
   "sideBar": true,
   "skip_h1_title": false,
   "title_cell": "Table of Contents",
   "title_sidebar": "Contents",
   "toc_cell": false,
   "toc_position": {},
   "toc_section_display": true,
   "toc_window_display": false
  }
 },
 "nbformat": 4,
 "nbformat_minor": 4
}
