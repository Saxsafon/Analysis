{
 "cells": [
  {
   "cell_type": "code",
   "execution_count": 1,
   "metadata": {},
   "outputs": [],
   "source": [
    "import numpy as np\n",
    "import pandas as pd"
   ]
  },
  {
   "cell_type": "code",
   "execution_count": 2,
   "metadata": {},
   "outputs": [],
   "source": [
    "from openpyxl import load_workbook\n",
    "from openpyxl.utils import get_column_letter\n",
    "from openpyxl import Workbook"
   ]
  },
  {
   "cell_type": "markdown",
   "metadata": {},
   "source": [
    "### Выгрузка отформатированных датафреймов в разные листы"
   ]
  },
  {
   "cell_type": "code",
   "execution_count": 15,
   "metadata": {},
   "outputs": [
    {
     "data": {
      "text/html": [
       "<style  type=\"text/css\" >\n",
       "#T_a079fa7a_1c2a_11ec_b98b_792d8567d212row0_col1,#T_a079fa7a_1c2a_11ec_b98b_792d8567d212row4_col2{\n",
       "            background-color:  #ffffff;\n",
       "            color:  #000000;\n",
       "        }#T_a079fa7a_1c2a_11ec_b98b_792d8567d212row0_col2,#T_a079fa7a_1c2a_11ec_b98b_792d8567d212row4_col1{\n",
       "            background-color:  #000000;\n",
       "            color:  #f1f1f1;\n",
       "        }#T_a079fa7a_1c2a_11ec_b98b_792d8567d212row1_col1,#T_a079fa7a_1c2a_11ec_b98b_792d8567d212row3_col2{\n",
       "            background-color:  #d9d9d9;\n",
       "            color:  #000000;\n",
       "        }#T_a079fa7a_1c2a_11ec_b98b_792d8567d212row1_col2,#T_a079fa7a_1c2a_11ec_b98b_792d8567d212row3_col1{\n",
       "            background-color:  #515151;\n",
       "            color:  #f1f1f1;\n",
       "        }#T_a079fa7a_1c2a_11ec_b98b_792d8567d212row2_col1,#T_a079fa7a_1c2a_11ec_b98b_792d8567d212row2_col2{\n",
       "            background-color:  #959595;\n",
       "            color:  #000000;\n",
       "        }</style><table id=\"T_a079fa7a_1c2a_11ec_b98b_792d8567d212\" ><thead>    <tr>        <th class=\"blank level0\" ></th>        <th class=\"col_heading level0 col0\" >col1</th>        <th class=\"col_heading level0 col1\" >col2</th>        <th class=\"col_heading level0 col2\" >col3</th>    </tr></thead><tbody>\n",
       "                <tr>\n",
       "                        <th id=\"T_a079fa7a_1c2a_11ec_b98b_792d8567d212level0_row0\" class=\"row_heading level0 row0\" >0</th>\n",
       "                        <td id=\"T_a079fa7a_1c2a_11ec_b98b_792d8567d212row0_col0\" class=\"data row0 col0\" >A</td>\n",
       "                        <td id=\"T_a079fa7a_1c2a_11ec_b98b_792d8567d212row0_col1\" class=\"data row0 col1\" >1</td>\n",
       "                        <td id=\"T_a079fa7a_1c2a_11ec_b98b_792d8567d212row0_col2\" class=\"data row0 col2\" >5</td>\n",
       "            </tr>\n",
       "            <tr>\n",
       "                        <th id=\"T_a079fa7a_1c2a_11ec_b98b_792d8567d212level0_row1\" class=\"row_heading level0 row1\" >1</th>\n",
       "                        <td id=\"T_a079fa7a_1c2a_11ec_b98b_792d8567d212row1_col0\" class=\"data row1 col0\" >B</td>\n",
       "                        <td id=\"T_a079fa7a_1c2a_11ec_b98b_792d8567d212row1_col1\" class=\"data row1 col1\" >2</td>\n",
       "                        <td id=\"T_a079fa7a_1c2a_11ec_b98b_792d8567d212row1_col2\" class=\"data row1 col2\" >4</td>\n",
       "            </tr>\n",
       "            <tr>\n",
       "                        <th id=\"T_a079fa7a_1c2a_11ec_b98b_792d8567d212level0_row2\" class=\"row_heading level0 row2\" >2</th>\n",
       "                        <td id=\"T_a079fa7a_1c2a_11ec_b98b_792d8567d212row2_col0\" class=\"data row2 col0\" >C</td>\n",
       "                        <td id=\"T_a079fa7a_1c2a_11ec_b98b_792d8567d212row2_col1\" class=\"data row2 col1\" >3</td>\n",
       "                        <td id=\"T_a079fa7a_1c2a_11ec_b98b_792d8567d212row2_col2\" class=\"data row2 col2\" >3</td>\n",
       "            </tr>\n",
       "            <tr>\n",
       "                        <th id=\"T_a079fa7a_1c2a_11ec_b98b_792d8567d212level0_row3\" class=\"row_heading level0 row3\" >3</th>\n",
       "                        <td id=\"T_a079fa7a_1c2a_11ec_b98b_792d8567d212row3_col0\" class=\"data row3 col0\" >D</td>\n",
       "                        <td id=\"T_a079fa7a_1c2a_11ec_b98b_792d8567d212row3_col1\" class=\"data row3 col1\" >4</td>\n",
       "                        <td id=\"T_a079fa7a_1c2a_11ec_b98b_792d8567d212row3_col2\" class=\"data row3 col2\" >2</td>\n",
       "            </tr>\n",
       "            <tr>\n",
       "                        <th id=\"T_a079fa7a_1c2a_11ec_b98b_792d8567d212level0_row4\" class=\"row_heading level0 row4\" >4</th>\n",
       "                        <td id=\"T_a079fa7a_1c2a_11ec_b98b_792d8567d212row4_col0\" class=\"data row4 col0\" >E</td>\n",
       "                        <td id=\"T_a079fa7a_1c2a_11ec_b98b_792d8567d212row4_col1\" class=\"data row4 col1\" >5</td>\n",
       "                        <td id=\"T_a079fa7a_1c2a_11ec_b98b_792d8567d212row4_col2\" class=\"data row4 col2\" >1</td>\n",
       "            </tr>\n",
       "    </tbody></table>"
      ],
      "text/plain": [
       "<pandas.io.formats.style.Styler at 0x7f6588d18278>"
      ]
     },
     "execution_count": 15,
     "metadata": {},
     "output_type": "execute_result"
    }
   ],
   "source": [
    "df1 = pd.DataFrame({\n",
    "    'col1': ['A','B','C','D','E'],\n",
    "    'col2': [1, 2, 3, 4, 5],\n",
    "    'col3': [5, 4, 3, 2, 1]\n",
    "})\n",
    "\n",
    "df1_coldict = {key: value for value, key in enumerate(df1.columns)}\n",
    "df1_widths = {col: len(col) + 8 for col in df1.columns}\n",
    "\n",
    "df1 = (\n",
    "    df1.style\n",
    "        .format({col: \"{}\" for col in df1.columns})\n",
    "        .background_gradient(subset=['col2','col3'], cmap='Greys')\n",
    ")\n",
    "df1"
   ]
  },
  {
   "cell_type": "code",
   "execution_count": 16,
   "metadata": {},
   "outputs": [
    {
     "data": {
      "text/html": [
       "<style  type=\"text/css\" >\n",
       "#T_a115c46e_1c2a_11ec_b98b_792d8567d212row0_col1,#T_a115c46e_1c2a_11ec_b98b_792d8567d212row1_col5,#T_a115c46e_1c2a_11ec_b98b_792d8567d212row2_col1{\n",
       "            background-color:  #00441b;\n",
       "            color:  #f1f1f1;\n",
       "        }#T_a115c46e_1c2a_11ec_b98b_792d8567d212row0_col2,#T_a115c46e_1c2a_11ec_b98b_792d8567d212row1_col4,#T_a115c46e_1c2a_11ec_b98b_792d8567d212row2_col2{\n",
       "            background-color:  #228a44;\n",
       "            color:  #000000;\n",
       "        }#T_a115c46e_1c2a_11ec_b98b_792d8567d212row0_col3,#T_a115c46e_1c2a_11ec_b98b_792d8567d212row1_col3,#T_a115c46e_1c2a_11ec_b98b_792d8567d212row2_col3{\n",
       "            background-color:  #73c476;\n",
       "            color:  #000000;\n",
       "        }#T_a115c46e_1c2a_11ec_b98b_792d8567d212row0_col4,#T_a115c46e_1c2a_11ec_b98b_792d8567d212row1_col2,#T_a115c46e_1c2a_11ec_b98b_792d8567d212row2_col4{\n",
       "            background-color:  #c7e9c0;\n",
       "            color:  #000000;\n",
       "        }#T_a115c46e_1c2a_11ec_b98b_792d8567d212row0_col5,#T_a115c46e_1c2a_11ec_b98b_792d8567d212row1_col1,#T_a115c46e_1c2a_11ec_b98b_792d8567d212row2_col5{\n",
       "            background-color:  #f7fcf5;\n",
       "            color:  #000000;\n",
       "        }</style><table id=\"T_a115c46e_1c2a_11ec_b98b_792d8567d212\" ><thead>    <tr>        <th class=\"blank level0\" ></th>        <th class=\"col_heading level0 col0\" >col1</th>        <th class=\"col_heading level0 col1\" >col2</th>        <th class=\"col_heading level0 col2\" >col3</th>        <th class=\"col_heading level0 col3\" >col4</th>        <th class=\"col_heading level0 col4\" >col5</th>        <th class=\"col_heading level0 col5\" >col6</th>    </tr></thead><tbody>\n",
       "                <tr>\n",
       "                        <th id=\"T_a115c46e_1c2a_11ec_b98b_792d8567d212level0_row0\" class=\"row_heading level0 row0\" >0</th>\n",
       "                        <td id=\"T_a115c46e_1c2a_11ec_b98b_792d8567d212row0_col0\" class=\"data row0 col0\" >a</td>\n",
       "                        <td id=\"T_a115c46e_1c2a_11ec_b98b_792d8567d212row0_col1\" class=\"data row0 col1\" >5</td>\n",
       "                        <td id=\"T_a115c46e_1c2a_11ec_b98b_792d8567d212row0_col2\" class=\"data row0 col2\" >4</td>\n",
       "                        <td id=\"T_a115c46e_1c2a_11ec_b98b_792d8567d212row0_col3\" class=\"data row0 col3\" >3</td>\n",
       "                        <td id=\"T_a115c46e_1c2a_11ec_b98b_792d8567d212row0_col4\" class=\"data row0 col4\" >2</td>\n",
       "                        <td id=\"T_a115c46e_1c2a_11ec_b98b_792d8567d212row0_col5\" class=\"data row0 col5\" >1</td>\n",
       "            </tr>\n",
       "            <tr>\n",
       "                        <th id=\"T_a115c46e_1c2a_11ec_b98b_792d8567d212level0_row1\" class=\"row_heading level0 row1\" >1</th>\n",
       "                        <td id=\"T_a115c46e_1c2a_11ec_b98b_792d8567d212row1_col0\" class=\"data row1 col0\" >b</td>\n",
       "                        <td id=\"T_a115c46e_1c2a_11ec_b98b_792d8567d212row1_col1\" class=\"data row1 col1\" >1</td>\n",
       "                        <td id=\"T_a115c46e_1c2a_11ec_b98b_792d8567d212row1_col2\" class=\"data row1 col2\" >2</td>\n",
       "                        <td id=\"T_a115c46e_1c2a_11ec_b98b_792d8567d212row1_col3\" class=\"data row1 col3\" >3</td>\n",
       "                        <td id=\"T_a115c46e_1c2a_11ec_b98b_792d8567d212row1_col4\" class=\"data row1 col4\" >4</td>\n",
       "                        <td id=\"T_a115c46e_1c2a_11ec_b98b_792d8567d212row1_col5\" class=\"data row1 col5\" >5</td>\n",
       "            </tr>\n",
       "            <tr>\n",
       "                        <th id=\"T_a115c46e_1c2a_11ec_b98b_792d8567d212level0_row2\" class=\"row_heading level0 row2\" >2</th>\n",
       "                        <td id=\"T_a115c46e_1c2a_11ec_b98b_792d8567d212row2_col0\" class=\"data row2 col0\" >c</td>\n",
       "                        <td id=\"T_a115c46e_1c2a_11ec_b98b_792d8567d212row2_col1\" class=\"data row2 col1\" >50</td>\n",
       "                        <td id=\"T_a115c46e_1c2a_11ec_b98b_792d8567d212row2_col2\" class=\"data row2 col2\" >40</td>\n",
       "                        <td id=\"T_a115c46e_1c2a_11ec_b98b_792d8567d212row2_col3\" class=\"data row2 col3\" >30</td>\n",
       "                        <td id=\"T_a115c46e_1c2a_11ec_b98b_792d8567d212row2_col4\" class=\"data row2 col4\" >20</td>\n",
       "                        <td id=\"T_a115c46e_1c2a_11ec_b98b_792d8567d212row2_col5\" class=\"data row2 col5\" >10</td>\n",
       "            </tr>\n",
       "    </tbody></table>"
      ],
      "text/plain": [
       "<pandas.io.formats.style.Styler at 0x7f6588d370f0>"
      ]
     },
     "execution_count": 16,
     "metadata": {},
     "output_type": "execute_result"
    }
   ],
   "source": [
    "df2 = pd.DataFrame({\n",
    "    'col1': ['a','b','c'],\n",
    "    'col2': [5,1,50],\n",
    "    'col3': [4,2,40],\n",
    "    'col4': [3,3,30],\n",
    "    'col5': [2,4,20],\n",
    "    'col6': [1,5,10]\n",
    "})\n",
    "\n",
    "df2_coldict = {key: value for value, key in enumerate(df2.columns)}\n",
    "df2_widths = {col: len(col) + 8 for col in df2.columns}\n",
    "\n",
    "df2 = (\n",
    "    df2.style\n",
    "        .format({col: \"{}\" for col in df2.columns})\n",
    "        .background_gradient(subset=['col2','col3','col4','col5','col6'], axis=1, cmap='Greens')\n",
    ")\n",
    "\n",
    "df2"
   ]
  },
  {
   "cell_type": "code",
   "execution_count": 17,
   "metadata": {},
   "outputs": [],
   "source": [
    "writer = pd.ExcelWriter('data/result/ex.xlsx', engine='openpyxl')\n",
    "book = Workbook()\n",
    "\n",
    "book.remove(book['Sheet'])"
   ]
  },
  {
   "cell_type": "code",
   "execution_count": null,
   "metadata": {},
   "outputs": [],
   "source": [
    "for sheetname, coldict, widths, df in zip(\n",
    "    ['df1', 'df2'], \n",
    "    [df1_coldict, oper_performance_coldict, mean_delay_coldict], \n",
    "    [oper_load_widths, oper_performance_widths, mean_delay_widths], \n",
    "    [tmp_oper_load, tmp_oper_performance, tmp_mean_delay]):\n",
    "    \n",
    "    sheet = book.create_sheet(sheetname)\n",
    "    print(sheet)\n",
    "    \n",
    "    for col in widths:\n",
    "        sheet.column_dimensions[get_column_letter(coldict[col]+1)].width = widths[col]\n",
    "    \n",
    "    writer.book = book\n",
    "    writer.sheets = dict((ws.title, ws) for ws in writer.book.worksheets)\n",
    "    \n",
    "    df.to_excel(writer, sheet_name = sheetname, index=False)\n",
    "\n",
    "\n",
    "writer.save()"
   ]
  }
 ],
 "metadata": {
  "kernelspec": {
   "display_name": "venv",
   "language": "python",
   "name": "venv"
  },
  "language_info": {
   "codemirror_mode": {
    "name": "ipython",
    "version": 3
   },
   "file_extension": ".py",
   "mimetype": "text/x-python",
   "name": "python",
   "nbconvert_exporter": "python",
   "pygments_lexer": "ipython3",
   "version": "3.7.3"
  }
 },
 "nbformat": 4,
 "nbformat_minor": 4
}
