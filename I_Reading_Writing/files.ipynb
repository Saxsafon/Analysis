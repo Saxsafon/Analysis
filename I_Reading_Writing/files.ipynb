{
 "cells": [
  {
   "cell_type": "code",
   "execution_count": 4,
   "metadata": {},
   "outputs": [],
   "source": [
    "import pandas as pd\n",
    "import numpy as np\n",
    "\n",
    "from tqdm.notebook import tqdm\n",
    "\n",
    "import os"
   ]
  },
  {
   "cell_type": "markdown",
   "metadata": {},
   "source": [
    "# Считать несколько файлов из папки"
   ]
  },
  {
   "cell_type": "markdown",
   "metadata": {},
   "source": [
    "#### Решение в лоб"
   ]
  },
  {
   "cell_type": "code",
   "execution_count": 5,
   "metadata": {},
   "outputs": [
    {
     "data": {
      "application/vnd.jupyter.widget-view+json": {
       "model_id": "cd1bbe80ecd14497810fb2394d950287",
       "version_major": 2,
       "version_minor": 0
      },
      "text/plain": [
       "HBox(children=(HTML(value=''), FloatProgress(value=0.0, max=3.0), HTML(value='')))"
      ]
     },
     "metadata": {},
     "output_type": "display_data"
    },
    {
     "name": "stdout",
     "output_type": "stream",
     "text": [
      "df1.xlsx\n",
      "df2.xlsx\n",
      "df3.xlsx\n",
      "\n"
     ]
    }
   ],
   "source": [
    "path = 'data/input/'\n",
    "\n",
    "files = []\n",
    "for file in tqdm([file for file in os.listdir(path) if file[-5:] == '.xlsx']):\n",
    "    print(file)\n",
    "    file = pd.read_excel(path + file)\n",
    "\n",
    "    files.append(file)\n",
    "    \n",
    "df = pd.concat(files)"
   ]
  },
  {
   "cell_type": "markdown",
   "metadata": {},
   "source": [
    "#### Решение с расчетом на использование дат"
   ]
  },
  {
   "cell_type": "code",
   "execution_count": null,
   "metadata": {},
   "outputs": [],
   "source": [
    "def read_files(start, end, files_storage, template='dialogs_', extension='feather'):\n",
    "    \n",
    "    dates_list = [str(timestamp.date()) for timestamp in pd.date_range(start=start, end=end)]\n",
    "    files = []\n",
    "    \n",
    "    for date in tqdm(dates_list):\n",
    "        path = f\"{files_storage}/{template}{date}.{extension}\"\n",
    "    \n",
    "        if extension == 'feather':\n",
    "            file = pd.read_feather(path)\n",
    "        elif extension == 'csv':\n",
    "            file = pd.read_csv(path)\n",
    "        elif extension == 'xlsx':\n",
    "            file = pd.read_excel(path)\n",
    "            \n",
    "        files.append(file)\n",
    "        \n",
    "    data = pd.concat(files)\n",
    "    \n",
    "    return data"
   ]
  }
 ],
 "metadata": {
  "kernelspec": {
   "display_name": "venv",
   "language": "python",
   "name": "venv"
  },
  "language_info": {
   "codemirror_mode": {
    "name": "ipython",
    "version": 3
   },
   "file_extension": ".py",
   "mimetype": "text/x-python",
   "name": "python",
   "nbconvert_exporter": "python",
   "pygments_lexer": "ipython3",
   "version": "3.7.3"
  }
 },
 "nbformat": 4,
 "nbformat_minor": 4
}
