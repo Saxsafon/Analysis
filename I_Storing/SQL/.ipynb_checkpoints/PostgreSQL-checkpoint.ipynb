{
 "cells": [
  {
   "cell_type": "code",
   "execution_count": null,
   "metadata": {},
   "outputs": [],
   "source": [
    "from datetime import datetime, timedelta\n",
    "import pandas as pd\n",
    "import psycopg2 # С установкой пакета psycopg2 могут возникнуть проблемы. Лучше установить версию psycopg2-binary\n",
    "from psycopg2.extras import RealDictCursor\n",
    "from tqdm.notebook import tqdm"
   ]
  },
  {
   "cell_type": "code",
   "execution_count": null,
   "metadata": {},
   "outputs": [],
   "source": [
    "POSTGRES = {\n",
    "    'dbname': '<название базы данных>',\n",
    "    'user': '<имя пользователя>',\n",
    "    'password': '<пароль>',\n",
    "    'host': '<имя хоста>',\n",
    "    'port': 5432 # <номер порта>,\n",
    "}"
   ]
  },
  {
   "cell_type": "code",
   "execution_count": null,
   "metadata": {},
   "outputs": [],
   "source": [
    "class Postgres:\n",
    "    def __init__(self):\n",
    "        try:\n",
    "            self._conn = psycopg2.connect(**POSTGRES)\n",
    "        except Exception as conn_error:\n",
    "            print(conn_error)\n",
    "            raise conn_error\n",
    "        self._conn.set_client_encoding('UTF8')\n",
    "\n",
    "    def execute(self, sql_give, args=None):\n",
    "        if args is None:\n",
    "            args = {}\n",
    "\n",
    "        with self._conn.cursor(cursor_factory=RealDictCursor) as cursor:\n",
    "            if isinstance(args, list):\n",
    "                for i in args:\n",
    "                    cursor.execute(sql_give, i)\n",
    "            else:\n",
    "                cursor.execute(sql_give, args)\n",
    "        self._conn.commit()\n",
    "\n",
    "    @classmethod\n",
    "    def fetchall(cls, sql_give):\n",
    "        pg = cls()\n",
    "        try:\n",
    "            return pg._fetchall(sql_give)\n",
    "        except psycopg2.Error as fetch_error:\n",
    "            print(fetch_error)\n",
    "        finally:\n",
    "            pg.close()\n",
    "\n",
    "    def _fetchall(self, sql_give):\n",
    "        with self._conn.cursor(cursor_factory=RealDictCursor) as cursor:\n",
    "            cursor.execute(sql_give)\n",
    "            return cursor.fetchall()\n",
    "\n",
    "    def close(self):\n",
    "        self._conn.close()"
   ]
  },
  {
   "cell_type": "markdown",
   "metadata": {},
   "source": [
    "## Простые запросы"
   ]
  },
  {
   "cell_type": "markdown",
   "metadata": {},
   "source": [
    "### Посмотреть общую схему таблиц в базе данных"
   ]
  },
  {
   "cell_type": "code",
   "execution_count": null,
   "metadata": {},
   "outputs": [],
   "source": [
    "get_schema_sql = \"\"\"\n",
    "SELECT table_schema, table_name\n",
    "FROM information_schema.tables\n",
    "ORDER BY table_schema,table_name;\n",
    "\"\"\"\n",
    "conn = Postgres()\n",
    "data = pd.DataFrame(\n",
    "    conn.fetchall(get_schema_sql)\n",
    ")\n",
    "conn.close()\n",
    "\n",
    "for table_schema in data.table_schema.unique():\n",
    "    print(data[data['table_schema'] == table_schema].to_markdown(), end='\\n \\n')"
   ]
  },
  {
   "cell_type": "markdown",
   "metadata": {},
   "source": [
    "### Создать таблицу"
   ]
  },
  {
   "cell_type": "code",
   "execution_count": null,
   "metadata": {},
   "outputs": [],
   "source": [
    "create_table_sql = \"\"\"\n",
    "CREATE TABLE reports.example_table (\n",
    "    id integer not null PRIMARY KEY,\n",
    "    col1 text,\n",
    "    col2 text,\n",
    "    col3 text,\n",
    "    col4 bool\n",
    ");\n",
    "CREATE unique index on reports.example_table (id);\n",
    "\"\"\"\n",
    "# conn = Postgres()\n",
    "# conn.execute(create_table_sql)\n",
    "# conn.close()"
   ]
  },
  {
   "cell_type": "markdown",
   "metadata": {},
   "source": [
    "### Добавить запись в таблицу"
   ]
  },
  {
   "cell_type": "code",
   "execution_count": null,
   "metadata": {},
   "outputs": [],
   "source": [
    "def insert_test(element):\n",
    "    if isinstance(element, str):\n",
    "        return element.strip()\n",
    "    return element\n",
    "\n",
    "insert_into_sql = \"\"\"\n",
    "INSERT INTO reports.example_table (\n",
    "    id,\n",
    "    col1,\n",
    "    col2,\n",
    "    col3,\n",
    "    col4\n",
    ") VALUES (%s,%s,%s,%s,%s);\n",
    "\"\"\"\n",
    "\n",
    "add = pd.DataFrame([\n",
    "    [1, '1','A','a', False],\n",
    "    [2, '2','B','b', True],\n",
    "    [3, '3','C','c', False]\n",
    "], columns = ['id','col1','col2','col3','col4'])\n",
    "\n",
    "# conn = Postgres()\n",
    "\n",
    "# for row in add.values:\n",
    "#     display(row)\n",
    "#     conn.execute(insert_into_sql, \n",
    "#                  tuple(insert_test(element) for element in row))\n",
    "    \n",
    "# conn.close()"
   ]
  },
  {
   "cell_type": "markdown",
   "metadata": {},
   "source": [
    "### Получить данные из таблицы"
   ]
  },
  {
   "cell_type": "code",
   "execution_count": null,
   "metadata": {},
   "outputs": [],
   "source": [
    "select_sql = \"\"\"\n",
    "SELECT * FROM reports.bot_themes\n",
    "WHERE meaningful = False AND sub_theme IS NOT NULL;\n",
    "\"\"\""
   ]
  },
  {
   "cell_type": "code",
   "execution_count": null,
   "metadata": {},
   "outputs": [],
   "source": [
    "select_sql = \"\"\"\n",
    "SELECT * FROM reports.example_table\n",
    "WHERE col4 = False;\n",
    "\n",
    "\"\"\"\n",
    "\n",
    "# conn = Postgres()\n",
    "# data = pd.DataFrame(\n",
    "#     conn.fetchall(select_sql)\n",
    "# )\n",
    "# conn.close()\n",
    "\n",
    "# data"
   ]
  },
  {
   "cell_type": "markdown",
   "metadata": {},
   "source": [
    "### Изменить таблицу"
   ]
  },
  {
   "cell_type": "code",
   "execution_count": null,
   "metadata": {},
   "outputs": [],
   "source": [
    "alter_table_sql = \"\"\"\n",
    "ALTER TABLE reports.example_table\n",
    "ALTER COLUMN col1 TYPE integer USING col1::integer;\n",
    "\"\"\"\n",
    "\n",
    "# conn = Postgres()\n",
    "# conn.execute(alter_table_sql)\n",
    "# conn.close()"
   ]
  },
  {
   "cell_type": "markdown",
   "metadata": {},
   "source": [
    "### Удалить записи из таблицы"
   ]
  },
  {
   "cell_type": "code",
   "execution_count": null,
   "metadata": {},
   "outputs": [],
   "source": [
    "delete_values_sql = \"\"\"\n",
    "DELETE from reports.common_statistics\n",
    "WHERE to_char(common_statistics.common__date, 'YYYY-MM-DD HH24:MI:SS') = '2021-05-26 15:37:55';\n",
    "\"\"\""
   ]
  },
  {
   "cell_type": "code",
   "execution_count": null,
   "metadata": {},
   "outputs": [],
   "source": [
    "delete_values_sql = \"\"\"\n",
    "DELETE from reports.example_table\n",
    "WHERE col4 = True;\n",
    "\"\"\"\n",
    "\n",
    "# conn = Postgres()\n",
    "# conn.execute(delete_values_sql)\n",
    "# conn.close()"
   ]
  },
  {
   "cell_type": "markdown",
   "metadata": {},
   "source": [
    "### Удалить таблицу"
   ]
  },
  {
   "cell_type": "code",
   "execution_count": null,
   "metadata": {},
   "outputs": [],
   "source": [
    "drop_table_sql = \"\"\"DROP table reports.example_table;\"\"\"\n",
    "\n",
    "# conn = Postgres()\n",
    "# conn.execute(drop_table_sql)\n",
    "# conn.close()"
   ]
  }
 ],
 "metadata": {
  "kernelspec": {
   "display_name": "venv",
   "language": "python",
   "name": "venv"
  },
  "language_info": {
   "codemirror_mode": {
    "name": "ipython",
    "version": 3
   },
   "file_extension": ".py",
   "mimetype": "text/x-python",
   "name": "python",
   "nbconvert_exporter": "python",
   "pygments_lexer": "ipython3",
   "version": "3.7.3"
  }
 },
 "nbformat": 4,
 "nbformat_minor": 4
}
