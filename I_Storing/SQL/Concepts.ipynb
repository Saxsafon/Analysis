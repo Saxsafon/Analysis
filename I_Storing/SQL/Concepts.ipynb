{
 "cells": [
  {
   "cell_type": "markdown",
   "id": "cf251be4",
   "metadata": {},
   "source": [
    "# Настройка ноутбука"
   ]
  },
  {
   "cell_type": "code",
   "execution_count": 8,
   "id": "b354021b",
   "metadata": {},
   "outputs": [],
   "source": [
    "import pandas as pd\n",
    "import numpy as np\n",
    "from sklearn import datasets\n",
    "import datetime as dt\n",
    "\n",
    "from pandasql import sqldf"
   ]
  },
  {
   "cell_type": "code",
   "execution_count": 9,
   "id": "5343e663",
   "metadata": {},
   "outputs": [],
   "source": [
    "import warnings\n",
    "warnings.filterwarnings('ignore')"
   ]
  },
  {
   "cell_type": "code",
   "execution_count": 10,
   "id": "261e5230",
   "metadata": {},
   "outputs": [
    {
     "data": {
      "text/html": [
       "<style>.container { width:100% !important; }</style>"
      ],
      "text/plain": [
       "<IPython.core.display.HTML object>"
      ]
     },
     "metadata": {},
     "output_type": "display_data"
    }
   ],
   "source": [
    "from IPython.core.display import display, HTML\n",
    "display(HTML(\"<style>.container { width:100% !important; }</style>\"))"
   ]
  },
  {
   "cell_type": "markdown",
   "id": "199401aa",
   "metadata": {},
   "source": [
    "# Описание"
   ]
  },
  {
   "cell_type": "markdown",
   "id": "5e5a523c",
   "metadata": {},
   "source": [
    "Ноутбук формализует основные концепты языка SQL. Приведены основные практики с примерами задач, где они могут использоваться "
   ]
  },
  {
   "cell_type": "markdown",
   "id": "0ffb4c58",
   "metadata": {},
   "source": [
    "## Ресурсы\n",
    "\n",
    "[7 Advanced SQL Concepts You Need to Know!](https://medium.com/dp6-us-blog/7-advanced-sql-concepts-you-need-to-know-45fa149ba0b0)"
   ]
  },
  {
   "cell_type": "markdown",
   "id": "167626d5",
   "metadata": {},
   "source": [
    "# Концепты"
   ]
  },
  {
   "cell_type": "markdown",
   "id": "5642016f",
   "metadata": {},
   "source": [
    "## Порядок выполнения команд - execution order"
   ]
  },
  {
   "cell_type": "markdown",
   "id": "aeeb44b1",
   "metadata": {},
   "source": [
    "Python - это императивный язык программирования, в нем мы описываем **как** сделать то, что нам нужно. А SQL это декларативный язык, в нем мы описываем **что** хотим получить. Разница между этими двумя подходами проявляется в последновательности исполнения комманд. В SQL они выполняются не в порядке их ввода (как в питоне), а в строго заданной последовательности:\n",
    "\n",
    "[Ресурс](https://techrocks.ru/2021/03/05/order-of-sql-operations/)\n",
    "\n",
    "1. FROM (выбор таблицы) / JOIN (комбинация с подходящими по условию данными из второй таблицы)\n",
    "2. WHERE (фильтрация строк)\n",
    "3. GROUP BY (агрегирование данных)\n",
    "4. HAVING (фильтрация агрегированных данных)\n",
    "5. SELECT (возврат результирующего датасета) / CASE (if-else выражения)\n",
    "6. DISTINCT\n",
    "7. UNION (объединение )\n",
    "8. ORDER BY (сортировка)\n",
    "9. LIMIT, TOP OFFSET\n",
    "\n",
    "Как правило, запрос исполняется именно в такой последовательности.\n",
    "\n",
    "Однако, в последних SQL-диалектах допускаются отходы от этой последовательности. Так в SQLite можно использовать в GROUP BY обозначения из SELECT. Хотя по идее это равносильно обращению к еще не заданной переменной. Это видно на примере ниже:"
   ]
  },
  {
   "cell_type": "markdown",
   "id": "a70d41bf",
   "metadata": {
    "heading_collapsed": true
   },
   "source": [
    "### Пример"
   ]
  },
  {
   "cell_type": "code",
   "execution_count": 4,
   "id": "67d11b20",
   "metadata": {
    "hidden": true
   },
   "outputs": [
    {
     "data": {
      "text/html": [
       "<div>\n",
       "<style scoped>\n",
       "    .dataframe tbody tr th:only-of-type {\n",
       "        vertical-align: middle;\n",
       "    }\n",
       "\n",
       "    .dataframe tbody tr th {\n",
       "        vertical-align: top;\n",
       "    }\n",
       "\n",
       "    .dataframe thead th {\n",
       "        text-align: right;\n",
       "    }\n",
       "</style>\n",
       "<table border=\"1\" class=\"dataframe\">\n",
       "  <thead>\n",
       "    <tr style=\"text-align: right;\">\n",
       "      <th></th>\n",
       "      <th>name</th>\n",
       "    </tr>\n",
       "  </thead>\n",
       "  <tbody>\n",
       "    <tr>\n",
       "      <th>0</th>\n",
       "      <td>Robert</td>\n",
       "    </tr>\n",
       "    <tr>\n",
       "      <th>1</th>\n",
       "      <td>Rojer</td>\n",
       "    </tr>\n",
       "    <tr>\n",
       "      <th>2</th>\n",
       "      <td>Rex</td>\n",
       "    </tr>\n",
       "    <tr>\n",
       "      <th>3</th>\n",
       "      <td>Alex</td>\n",
       "    </tr>\n",
       "    <tr>\n",
       "      <th>4</th>\n",
       "      <td>Jason</td>\n",
       "    </tr>\n",
       "  </tbody>\n",
       "</table>\n",
       "</div>"
      ],
      "text/plain": [
       "     name\n",
       "0  Robert\n",
       "1   Rojer\n",
       "2     Rex\n",
       "3    Alex\n",
       "4   Jason"
      ]
     },
     "execution_count": 4,
     "metadata": {},
     "output_type": "execute_result"
    }
   ],
   "source": [
    "df = pd.DataFrame({\n",
    "    'name': ['Robert', 'Rojer', 'Rex', 'Alex', 'Jason', 'Thomas', 'Tobias'],\n",
    "})\n",
    "df.head()"
   ]
  },
  {
   "cell_type": "code",
   "execution_count": 5,
   "id": "9e419afd",
   "metadata": {
    "hidden": true
   },
   "outputs": [
    {
     "data": {
      "text/html": [
       "<div>\n",
       "<style scoped>\n",
       "    .dataframe tbody tr th:only-of-type {\n",
       "        vertical-align: middle;\n",
       "    }\n",
       "\n",
       "    .dataframe tbody tr th {\n",
       "        vertical-align: top;\n",
       "    }\n",
       "\n",
       "    .dataframe thead th {\n",
       "        text-align: right;\n",
       "    }\n",
       "</style>\n",
       "<table border=\"1\" class=\"dataframe\">\n",
       "  <thead>\n",
       "    <tr style=\"text-align: right;\">\n",
       "      <th></th>\n",
       "      <th>first_letter</th>\n",
       "      <th>n_rows</th>\n",
       "    </tr>\n",
       "  </thead>\n",
       "  <tbody>\n",
       "    <tr>\n",
       "      <th>0</th>\n",
       "      <td>R</td>\n",
       "      <td>3</td>\n",
       "    </tr>\n",
       "    <tr>\n",
       "      <th>1</th>\n",
       "      <td>T</td>\n",
       "      <td>2</td>\n",
       "    </tr>\n",
       "    <tr>\n",
       "      <th>2</th>\n",
       "      <td>A</td>\n",
       "      <td>1</td>\n",
       "    </tr>\n",
       "    <tr>\n",
       "      <th>3</th>\n",
       "      <td>J</td>\n",
       "      <td>1</td>\n",
       "    </tr>\n",
       "  </tbody>\n",
       "</table>\n",
       "</div>"
      ],
      "text/plain": [
       "  first_letter  n_rows\n",
       "0            R       3\n",
       "1            T       2\n",
       "2            A       1\n",
       "3            J       1"
      ]
     },
     "execution_count": 5,
     "metadata": {},
     "output_type": "execute_result"
    }
   ],
   "source": [
    "# Почему это работает?\n",
    "query = \"\"\"\n",
    "select\n",
    "      substr(name, 1, 1) as first_letter\n",
    "    , count(1) as n_rows\n",
    "from\n",
    "    df\n",
    "group by \n",
    "    first_letter\n",
    "order by\n",
    "    n_rows desc\n",
    "\"\"\"\n",
    "\n",
    "pysqldf = lambda q: sqldf(q, globals())\n",
    "pysqldf(query)"
   ]
  },
  {
   "cell_type": "code",
   "execution_count": 6,
   "id": "adf957be",
   "metadata": {
    "hidden": true
   },
   "outputs": [
    {
     "data": {
      "text/html": [
       "<div>\n",
       "<style scoped>\n",
       "    .dataframe tbody tr th:only-of-type {\n",
       "        vertical-align: middle;\n",
       "    }\n",
       "\n",
       "    .dataframe tbody tr th {\n",
       "        vertical-align: top;\n",
       "    }\n",
       "\n",
       "    .dataframe thead th {\n",
       "        text-align: right;\n",
       "    }\n",
       "</style>\n",
       "<table border=\"1\" class=\"dataframe\">\n",
       "  <thead>\n",
       "    <tr style=\"text-align: right;\">\n",
       "      <th></th>\n",
       "      <th>first_letter</th>\n",
       "      <th>n_rows</th>\n",
       "    </tr>\n",
       "  </thead>\n",
       "  <tbody>\n",
       "    <tr>\n",
       "      <th>0</th>\n",
       "      <td>R</td>\n",
       "      <td>3</td>\n",
       "    </tr>\n",
       "    <tr>\n",
       "      <th>1</th>\n",
       "      <td>T</td>\n",
       "      <td>2</td>\n",
       "    </tr>\n",
       "    <tr>\n",
       "      <th>2</th>\n",
       "      <td>A</td>\n",
       "      <td>1</td>\n",
       "    </tr>\n",
       "    <tr>\n",
       "      <th>3</th>\n",
       "      <td>J</td>\n",
       "      <td>1</td>\n",
       "    </tr>\n",
       "  </tbody>\n",
       "</table>\n",
       "</div>"
      ],
      "text/plain": [
       "  first_letter  n_rows\n",
       "0            R       3\n",
       "1            T       2\n",
       "2            A       1\n",
       "3            J       1"
      ]
     },
     "execution_count": 6,
     "metadata": {},
     "output_type": "execute_result"
    }
   ],
   "source": [
    "query = \"\"\"\n",
    "select\n",
    "      substr(name, 1, 1) as first_letter\n",
    "    , count(name) as n_rows\n",
    "from\n",
    "    df\n",
    "group by \n",
    "    substr(name, 1, 1)\n",
    "order by\n",
    "    n_rows desc\n",
    "\"\"\"\n",
    "\n",
    "pysqldf = lambda q: sqldf(q, globals())\n",
    "pysqldf(query)"
   ]
  },
  {
   "cell_type": "markdown",
   "id": "9702bd38",
   "metadata": {},
   "source": [
    "## Подзапросы - subqueries"
   ]
  },
  {
   "cell_type": "markdown",
   "id": "412f0cd2",
   "metadata": {},
   "source": [
    "Есть три основных способа использования подзапросов:"
   ]
  },
  {
   "cell_type": "markdown",
   "id": "501696a9",
   "metadata": {
    "heading_collapsed": true
   },
   "source": [
    "### 1) Как источник данных для основного запроса"
   ]
  },
  {
   "cell_type": "markdown",
   "id": "1da2637d",
   "metadata": {
    "hidden": true
   },
   "source": [
    "Эта практика обычно используется для получения подмножества или фильтрации записей."
   ]
  },
  {
   "cell_type": "markdown",
   "id": "9f6b49a5",
   "metadata": {
    "hidden": true
   },
   "source": [
    "```sql\n",
    "select\n",
    "    val1, val2, ...\n",
    "from (select val1, val2, ... from data where val1 == 'A') df\n",
    "```"
   ]
  },
  {
   "cell_type": "markdown",
   "id": "6a084562",
   "metadata": {
    "hidden": true
   },
   "source": [
    "#### Пример"
   ]
  },
  {
   "cell_type": "code",
   "execution_count": 7,
   "id": "650004eb",
   "metadata": {
    "hidden": true
   },
   "outputs": [
    {
     "data": {
      "text/html": [
       "<div>\n",
       "<style scoped>\n",
       "    .dataframe tbody tr th:only-of-type {\n",
       "        vertical-align: middle;\n",
       "    }\n",
       "\n",
       "    .dataframe tbody tr th {\n",
       "        vertical-align: top;\n",
       "    }\n",
       "\n",
       "    .dataframe thead th {\n",
       "        text-align: right;\n",
       "    }\n",
       "</style>\n",
       "<table border=\"1\" class=\"dataframe\">\n",
       "  <thead>\n",
       "    <tr style=\"text-align: right;\">\n",
       "      <th></th>\n",
       "      <th>name</th>\n",
       "      <th>surname</th>\n",
       "    </tr>\n",
       "  </thead>\n",
       "  <tbody>\n",
       "    <tr>\n",
       "      <th>0</th>\n",
       "      <td>Robert</td>\n",
       "      <td>Pattison</td>\n",
       "    </tr>\n",
       "    <tr>\n",
       "      <th>1</th>\n",
       "      <td>Robert</td>\n",
       "      <td>Paulson</td>\n",
       "    </tr>\n",
       "    <tr>\n",
       "      <th>2</th>\n",
       "      <td>Rex</td>\n",
       "      <td>Roberts</td>\n",
       "    </tr>\n",
       "  </tbody>\n",
       "</table>\n",
       "</div>"
      ],
      "text/plain": [
       "     name   surname\n",
       "0  Robert  Pattison\n",
       "1  Robert   Paulson\n",
       "2     Rex   Roberts"
      ]
     },
     "execution_count": 7,
     "metadata": {},
     "output_type": "execute_result"
    }
   ],
   "source": [
    "df = pd.DataFrame({\n",
    "    'name': ['Robert', 'Robert', 'Rex'],\n",
    "    'surname': ['Pattison', 'Paulson', 'Roberts']\n",
    "})\n",
    "\n",
    "df.head()"
   ]
  },
  {
   "cell_type": "code",
   "execution_count": 8,
   "id": "6f39d27c",
   "metadata": {
    "hidden": true
   },
   "outputs": [
    {
     "data": {
      "text/html": [
       "<div>\n",
       "<style scoped>\n",
       "    .dataframe tbody tr th:only-of-type {\n",
       "        vertical-align: middle;\n",
       "    }\n",
       "\n",
       "    .dataframe tbody tr th {\n",
       "        vertical-align: top;\n",
       "    }\n",
       "\n",
       "    .dataframe thead th {\n",
       "        text-align: right;\n",
       "    }\n",
       "</style>\n",
       "<table border=\"1\" class=\"dataframe\">\n",
       "  <thead>\n",
       "    <tr style=\"text-align: right;\">\n",
       "      <th></th>\n",
       "      <th>surname</th>\n",
       "      <th>n_students</th>\n",
       "    </tr>\n",
       "  </thead>\n",
       "  <tbody>\n",
       "    <tr>\n",
       "      <th>0</th>\n",
       "      <td>Pattison</td>\n",
       "      <td>1</td>\n",
       "    </tr>\n",
       "    <tr>\n",
       "      <th>1</th>\n",
       "      <td>Paulson</td>\n",
       "      <td>1</td>\n",
       "    </tr>\n",
       "  </tbody>\n",
       "</table>\n",
       "</div>"
      ],
      "text/plain": [
       "    surname  n_students\n",
       "0  Pattison           1\n",
       "1   Paulson           1"
      ]
     },
     "execution_count": 8,
     "metadata": {},
     "output_type": "execute_result"
    }
   ],
   "source": [
    "query = \"\"\"\n",
    "select\n",
    "      surname\n",
    "    , count(surname) as n_students\n",
    "from\n",
    "    (select surname from df where name = 'Robert') as t\n",
    "group by \n",
    "    t.surname\n",
    "\"\"\"\n",
    "\n",
    "pysqldf = lambda q: sqldf(q, globals())\n",
    "pysqldf(query)"
   ]
  },
  {
   "cell_type": "markdown",
   "id": "12add150",
   "metadata": {
    "hidden": true
   },
   "source": [
    "Технически мы неограничены в количестве уровней подзапросов. Однако читаемость кода уменьшается с каждым уровнем."
   ]
  },
  {
   "cell_type": "markdown",
   "id": "8323899f",
   "metadata": {},
   "source": [
    "### 2) Внутри списка колонок выбранных в select-е"
   ]
  },
  {
   "cell_type": "markdown",
   "id": "88fedd5e",
   "metadata": {},
   "source": [
    "Это может быть полезно, когда для расчета нужных метрик необходимы данные из другой таблицы, при этом не хочется их объединять.\n",
    "\n",
    "Либо, когда нужно получить сумму для рассчета процентов"
   ]
  },
  {
   "cell_type": "markdown",
   "id": "56443a2e",
   "metadata": {},
   "source": [
    "```sql\n",
    "select \n",
    "      id\n",
    "    , sum(val)*100/(select sum(val) from data) as pct\n",
    "from data\n",
    "group by id  \n",
    "```"
   ]
  },
  {
   "cell_type": "markdown",
   "id": "cf3297ca",
   "metadata": {
    "heading_collapsed": true
   },
   "source": [
    "#### Пример"
   ]
  },
  {
   "cell_type": "code",
   "execution_count": 9,
   "id": "718663b5",
   "metadata": {
    "hidden": true
   },
   "outputs": [
    {
     "data": {
      "text/html": [
       "<div>\n",
       "<style scoped>\n",
       "    .dataframe tbody tr th:only-of-type {\n",
       "        vertical-align: middle;\n",
       "    }\n",
       "\n",
       "    .dataframe tbody tr th {\n",
       "        vertical-align: top;\n",
       "    }\n",
       "\n",
       "    .dataframe thead th {\n",
       "        text-align: right;\n",
       "    }\n",
       "</style>\n",
       "<table border=\"1\" class=\"dataframe\">\n",
       "  <thead>\n",
       "    <tr style=\"text-align: right;\">\n",
       "      <th></th>\n",
       "      <th>std_id</th>\n",
       "      <th>name</th>\n",
       "    </tr>\n",
       "  </thead>\n",
       "  <tbody>\n",
       "    <tr>\n",
       "      <th>0</th>\n",
       "      <td>1</td>\n",
       "      <td>Robert Pattison</td>\n",
       "    </tr>\n",
       "    <tr>\n",
       "      <th>1</th>\n",
       "      <td>2</td>\n",
       "      <td>Robert Paulson</td>\n",
       "    </tr>\n",
       "    <tr>\n",
       "      <th>2</th>\n",
       "      <td>3</td>\n",
       "      <td>Rex Roberts</td>\n",
       "    </tr>\n",
       "    <tr>\n",
       "      <th>3</th>\n",
       "      <td>4</td>\n",
       "      <td>Thomas Edison</td>\n",
       "    </tr>\n",
       "    <tr>\n",
       "      <th>4</th>\n",
       "      <td>5</td>\n",
       "      <td>Bonny Bones</td>\n",
       "    </tr>\n",
       "  </tbody>\n",
       "</table>\n",
       "</div>"
      ],
      "text/plain": [
       "   std_id             name\n",
       "0       1  Robert Pattison\n",
       "1       2   Robert Paulson\n",
       "2       3      Rex Roberts\n",
       "3       4    Thomas Edison\n",
       "4       5      Bonny Bones"
      ]
     },
     "execution_count": 9,
     "metadata": {},
     "output_type": "execute_result"
    }
   ],
   "source": [
    "students = pd.DataFrame({\n",
    "    'std_id': [1, 2, 3, 4, 5, 6],\n",
    "    'name': ['Robert Pattison', 'Robert Paulson', 'Rex Roberts', 'Thomas Edison', 'Bonny Bones', 'Elison Woods'],\n",
    "})\n",
    "\n",
    "students.head()"
   ]
  },
  {
   "cell_type": "code",
   "execution_count": 10,
   "id": "7bd42d9b",
   "metadata": {
    "hidden": true
   },
   "outputs": [
    {
     "data": {
      "text/html": [
       "<div>\n",
       "<style scoped>\n",
       "    .dataframe tbody tr th:only-of-type {\n",
       "        vertical-align: middle;\n",
       "    }\n",
       "\n",
       "    .dataframe tbody tr th {\n",
       "        vertical-align: top;\n",
       "    }\n",
       "\n",
       "    .dataframe thead th {\n",
       "        text-align: right;\n",
       "    }\n",
       "</style>\n",
       "<table border=\"1\" class=\"dataframe\">\n",
       "  <thead>\n",
       "    <tr style=\"text-align: right;\">\n",
       "      <th></th>\n",
       "      <th>std_id</th>\n",
       "      <th>lesson_id</th>\n",
       "      <th>is_present</th>\n",
       "    </tr>\n",
       "  </thead>\n",
       "  <tbody>\n",
       "    <tr>\n",
       "      <th>0</th>\n",
       "      <td>1</td>\n",
       "      <td>1</td>\n",
       "      <td>True</td>\n",
       "    </tr>\n",
       "    <tr>\n",
       "      <th>1</th>\n",
       "      <td>2</td>\n",
       "      <td>1</td>\n",
       "      <td>False</td>\n",
       "    </tr>\n",
       "    <tr>\n",
       "      <th>2</th>\n",
       "      <td>3</td>\n",
       "      <td>1</td>\n",
       "      <td>False</td>\n",
       "    </tr>\n",
       "    <tr>\n",
       "      <th>3</th>\n",
       "      <td>4</td>\n",
       "      <td>1</td>\n",
       "      <td>True</td>\n",
       "    </tr>\n",
       "    <tr>\n",
       "      <th>4</th>\n",
       "      <td>5</td>\n",
       "      <td>1</td>\n",
       "      <td>True</td>\n",
       "    </tr>\n",
       "  </tbody>\n",
       "</table>\n",
       "</div>"
      ],
      "text/plain": [
       "   std_id  lesson_id  is_present\n",
       "0       1          1        True\n",
       "1       2          1       False\n",
       "2       3          1       False\n",
       "3       4          1        True\n",
       "4       5          1        True"
      ]
     },
     "execution_count": 10,
     "metadata": {},
     "output_type": "execute_result"
    }
   ],
   "source": [
    "presence = pd.DataFrame({\n",
    "    'std_id': [\n",
    "        1, 2, 3, 4, 5, 6,\n",
    "        1, 2, 3, 4, 5, 6,\n",
    "        1, 2, 3, 4, 5, 6,\n",
    "    ],\n",
    "    'lesson_id': [\n",
    "        1, 1, 1, 1, 1, 1,\n",
    "        2, 2, 2, 2, 2, 2,\n",
    "        3, 3, 3, 3, 3, 3,\n",
    "    ],\n",
    "    \n",
    "    'is_present': [\n",
    "        True, False, False, True, True, True,\n",
    "        True, True, True, True, True, True,\n",
    "        False, True, True, True, True, False,\n",
    "    ],\n",
    "})\n",
    "\n",
    "presence.head()"
   ]
  },
  {
   "cell_type": "code",
   "execution_count": 11,
   "id": "abd90ff5",
   "metadata": {
    "hidden": true
   },
   "outputs": [
    {
     "data": {
      "text/html": [
       "<div>\n",
       "<style scoped>\n",
       "    .dataframe tbody tr th:only-of-type {\n",
       "        vertical-align: middle;\n",
       "    }\n",
       "\n",
       "    .dataframe tbody tr th {\n",
       "        vertical-align: top;\n",
       "    }\n",
       "\n",
       "    .dataframe thead th {\n",
       "        text-align: right;\n",
       "    }\n",
       "</style>\n",
       "<table border=\"1\" class=\"dataframe\">\n",
       "  <thead>\n",
       "    <tr style=\"text-align: right;\">\n",
       "      <th></th>\n",
       "      <th>std_id</th>\n",
       "      <th>exam_id</th>\n",
       "      <th>grade</th>\n",
       "    </tr>\n",
       "  </thead>\n",
       "  <tbody>\n",
       "    <tr>\n",
       "      <th>0</th>\n",
       "      <td>1</td>\n",
       "      <td>1</td>\n",
       "      <td>5</td>\n",
       "    </tr>\n",
       "    <tr>\n",
       "      <th>1</th>\n",
       "      <td>2</td>\n",
       "      <td>1</td>\n",
       "      <td>2</td>\n",
       "    </tr>\n",
       "    <tr>\n",
       "      <th>2</th>\n",
       "      <td>3</td>\n",
       "      <td>1</td>\n",
       "      <td>3</td>\n",
       "    </tr>\n",
       "    <tr>\n",
       "      <th>3</th>\n",
       "      <td>4</td>\n",
       "      <td>1</td>\n",
       "      <td>4</td>\n",
       "    </tr>\n",
       "    <tr>\n",
       "      <th>4</th>\n",
       "      <td>5</td>\n",
       "      <td>1</td>\n",
       "      <td>3</td>\n",
       "    </tr>\n",
       "  </tbody>\n",
       "</table>\n",
       "</div>"
      ],
      "text/plain": [
       "   std_id  exam_id  grade\n",
       "0       1        1      5\n",
       "1       2        1      2\n",
       "2       3        1      3\n",
       "3       4        1      4\n",
       "4       5        1      3"
      ]
     },
     "execution_count": 11,
     "metadata": {},
     "output_type": "execute_result"
    }
   ],
   "source": [
    "exams = pd.DataFrame({\n",
    "    'std_id': [\n",
    "        1, 2, 3, 4, 5, 6,\n",
    "        1, 2, 3, 4, 5, 6,\n",
    "    ],\n",
    "    'exam_id': [\n",
    "        1, 1, 1, 1, 1, 1,\n",
    "        2, 2, 2, 2, 2, 2,\n",
    "    ],\n",
    "    'grade': [\n",
    "        5, 2, 3, 4, 3, 5,\n",
    "        4, 4, 4, 5, 4, 5,\n",
    "    ],\n",
    "})\n",
    "\n",
    "exams.head()"
   ]
  },
  {
   "cell_type": "code",
   "execution_count": 12,
   "id": "74a31b43",
   "metadata": {
    "hidden": true
   },
   "outputs": [
    {
     "data": {
      "text/html": [
       "<div>\n",
       "<style scoped>\n",
       "    .dataframe tbody tr th:only-of-type {\n",
       "        vertical-align: middle;\n",
       "    }\n",
       "\n",
       "    .dataframe tbody tr th {\n",
       "        vertical-align: top;\n",
       "    }\n",
       "\n",
       "    .dataframe thead th {\n",
       "        text-align: right;\n",
       "    }\n",
       "</style>\n",
       "<table border=\"1\" class=\"dataframe\">\n",
       "  <thead>\n",
       "    <tr style=\"text-align: right;\">\n",
       "      <th></th>\n",
       "      <th>name</th>\n",
       "      <th>average_grades</th>\n",
       "      <th>quantity_of_presence</th>\n",
       "    </tr>\n",
       "  </thead>\n",
       "  <tbody>\n",
       "    <tr>\n",
       "      <th>0</th>\n",
       "      <td>Robert Pattison</td>\n",
       "      <td>4.5</td>\n",
       "      <td>2</td>\n",
       "    </tr>\n",
       "    <tr>\n",
       "      <th>1</th>\n",
       "      <td>Robert Paulson</td>\n",
       "      <td>3.0</td>\n",
       "      <td>2</td>\n",
       "    </tr>\n",
       "    <tr>\n",
       "      <th>2</th>\n",
       "      <td>Rex Roberts</td>\n",
       "      <td>3.5</td>\n",
       "      <td>2</td>\n",
       "    </tr>\n",
       "    <tr>\n",
       "      <th>3</th>\n",
       "      <td>Thomas Edison</td>\n",
       "      <td>4.5</td>\n",
       "      <td>3</td>\n",
       "    </tr>\n",
       "    <tr>\n",
       "      <th>4</th>\n",
       "      <td>Bonny Bones</td>\n",
       "      <td>3.5</td>\n",
       "      <td>3</td>\n",
       "    </tr>\n",
       "    <tr>\n",
       "      <th>5</th>\n",
       "      <td>Elison Woods</td>\n",
       "      <td>5.0</td>\n",
       "      <td>2</td>\n",
       "    </tr>\n",
       "  </tbody>\n",
       "</table>\n",
       "</div>"
      ],
      "text/plain": [
       "              name  average_grades  quantity_of_presence\n",
       "0  Robert Pattison             4.5                     2\n",
       "1   Robert Paulson             3.0                     2\n",
       "2      Rex Roberts             3.5                     2\n",
       "3    Thomas Edison             4.5                     3\n",
       "4      Bonny Bones             3.5                     3\n",
       "5     Elison Woods             5.0                     2"
      ]
     },
     "execution_count": 12,
     "metadata": {},
     "output_type": "execute_result"
    }
   ],
   "source": [
    "query = \"\"\"\n",
    "select\n",
    "     name\n",
    "    , (\n",
    "        select avg(grade)\n",
    "        from exams e\n",
    "        where s.std_id = e.std_id\n",
    "    \n",
    "    ) as average_grades\n",
    "    \n",
    "    , (\n",
    "        select count(is_present)\n",
    "        from presence p\n",
    "        where s.std_id = p.std_id and p.is_present = True\n",
    "    ) as quantity_of_presence\n",
    "from\n",
    "    students s\n",
    "\"\"\"\n",
    "\n",
    "pysqldf = lambda q: sqldf(q, globals())\n",
    "pysqldf(query)"
   ]
  },
  {
   "cell_type": "markdown",
   "id": "7b152541",
   "metadata": {},
   "source": [
    "#### Примеры задач"
   ]
  },
  {
   "cell_type": "markdown",
   "id": "1e9a313c",
   "metadata": {},
   "source": [
    "- [Stratascratch: Popularity Percentage - Hard](https://platform.stratascratch.com/coding/10284-popularity-percentage?tabname=question)"
   ]
  },
  {
   "cell_type": "markdown",
   "id": "89c3fb8d",
   "metadata": {},
   "source": [
    "### 3) Как внешний фильтр запроса"
   ]
  },
  {
   "cell_type": "markdown",
   "id": "7cd2da6c",
   "metadata": {},
   "source": [
    "```sql\n",
    "select\n",
    "    id, val1, val2, ...\n",
    "from data\n",
    "where id in (select id from data where cat = True)\n",
    "```"
   ]
  },
  {
   "cell_type": "markdown",
   "id": "f79b97c0",
   "metadata": {},
   "source": [
    "Чтобы отфильтровать данные по нескольким полям, нужно перечислеть их в скобках:\n",
    "\n",
    "```sql\n",
    "select\n",
    "    id, val1, val2, ..., val\n",
    "from data\n",
    "where (id, val) in (select id, max(val) from data group by id)\n",
    "```"
   ]
  },
  {
   "cell_type": "markdown",
   "id": "7b1bff81",
   "metadata": {
    "heading_collapsed": true
   },
   "source": [
    "#### Пример"
   ]
  },
  {
   "cell_type": "code",
   "execution_count": 13,
   "id": "18b642f1",
   "metadata": {
    "hidden": true
   },
   "outputs": [
    {
     "data": {
      "text/html": [
       "<div>\n",
       "<style scoped>\n",
       "    .dataframe tbody tr th:only-of-type {\n",
       "        vertical-align: middle;\n",
       "    }\n",
       "\n",
       "    .dataframe tbody tr th {\n",
       "        vertical-align: top;\n",
       "    }\n",
       "\n",
       "    .dataframe thead th {\n",
       "        text-align: right;\n",
       "    }\n",
       "</style>\n",
       "<table border=\"1\" class=\"dataframe\">\n",
       "  <thead>\n",
       "    <tr style=\"text-align: right;\">\n",
       "      <th></th>\n",
       "      <th>std_id</th>\n",
       "      <th>name</th>\n",
       "    </tr>\n",
       "  </thead>\n",
       "  <tbody>\n",
       "    <tr>\n",
       "      <th>0</th>\n",
       "      <td>1</td>\n",
       "      <td>Robert Pattison</td>\n",
       "    </tr>\n",
       "    <tr>\n",
       "      <th>1</th>\n",
       "      <td>2</td>\n",
       "      <td>Robert Paulson</td>\n",
       "    </tr>\n",
       "    <tr>\n",
       "      <th>2</th>\n",
       "      <td>3</td>\n",
       "      <td>Rex Roberts</td>\n",
       "    </tr>\n",
       "    <tr>\n",
       "      <th>3</th>\n",
       "      <td>4</td>\n",
       "      <td>Thomas Edison</td>\n",
       "    </tr>\n",
       "    <tr>\n",
       "      <th>4</th>\n",
       "      <td>5</td>\n",
       "      <td>Bonny Bones</td>\n",
       "    </tr>\n",
       "  </tbody>\n",
       "</table>\n",
       "</div>"
      ],
      "text/plain": [
       "   std_id             name\n",
       "0       1  Robert Pattison\n",
       "1       2   Robert Paulson\n",
       "2       3      Rex Roberts\n",
       "3       4    Thomas Edison\n",
       "4       5      Bonny Bones"
      ]
     },
     "execution_count": 13,
     "metadata": {},
     "output_type": "execute_result"
    }
   ],
   "source": [
    "students = pd.DataFrame({\n",
    "    'std_id': [1, 2, 3, 4, 5, 6],\n",
    "    'name': ['Robert Pattison', 'Robert Paulson', 'Rex Roberts', 'Thomas Edison', 'Bonny Bones', 'Elison Woods'],\n",
    "})\n",
    "\n",
    "students.head()"
   ]
  },
  {
   "cell_type": "code",
   "execution_count": 14,
   "id": "5c230e21",
   "metadata": {
    "hidden": true
   },
   "outputs": [
    {
     "data": {
      "text/html": [
       "<div>\n",
       "<style scoped>\n",
       "    .dataframe tbody tr th:only-of-type {\n",
       "        vertical-align: middle;\n",
       "    }\n",
       "\n",
       "    .dataframe tbody tr th {\n",
       "        vertical-align: top;\n",
       "    }\n",
       "\n",
       "    .dataframe thead th {\n",
       "        text-align: right;\n",
       "    }\n",
       "</style>\n",
       "<table border=\"1\" class=\"dataframe\">\n",
       "  <thead>\n",
       "    <tr style=\"text-align: right;\">\n",
       "      <th></th>\n",
       "      <th>std_id</th>\n",
       "      <th>lesson_id</th>\n",
       "      <th>is_present</th>\n",
       "    </tr>\n",
       "  </thead>\n",
       "  <tbody>\n",
       "    <tr>\n",
       "      <th>0</th>\n",
       "      <td>1</td>\n",
       "      <td>1</td>\n",
       "      <td>True</td>\n",
       "    </tr>\n",
       "    <tr>\n",
       "      <th>1</th>\n",
       "      <td>2</td>\n",
       "      <td>1</td>\n",
       "      <td>False</td>\n",
       "    </tr>\n",
       "    <tr>\n",
       "      <th>2</th>\n",
       "      <td>3</td>\n",
       "      <td>1</td>\n",
       "      <td>False</td>\n",
       "    </tr>\n",
       "    <tr>\n",
       "      <th>3</th>\n",
       "      <td>4</td>\n",
       "      <td>1</td>\n",
       "      <td>True</td>\n",
       "    </tr>\n",
       "    <tr>\n",
       "      <th>4</th>\n",
       "      <td>5</td>\n",
       "      <td>1</td>\n",
       "      <td>True</td>\n",
       "    </tr>\n",
       "  </tbody>\n",
       "</table>\n",
       "</div>"
      ],
      "text/plain": [
       "   std_id  lesson_id  is_present\n",
       "0       1          1        True\n",
       "1       2          1       False\n",
       "2       3          1       False\n",
       "3       4          1        True\n",
       "4       5          1        True"
      ]
     },
     "execution_count": 14,
     "metadata": {},
     "output_type": "execute_result"
    }
   ],
   "source": [
    "presence = pd.DataFrame({\n",
    "    'std_id': [\n",
    "        1, 2, 3, 4, 5, 6,\n",
    "        1, 2, 3, 4, 5, 6,\n",
    "        1, 2, 3, 4, 5, 6,\n",
    "    ],\n",
    "    'lesson_id': [\n",
    "        1, 1, 1, 1, 1, 1,\n",
    "        2, 2, 2, 2, 2, 2,\n",
    "        3, 3, 3, 3, 3, 3,\n",
    "    ],\n",
    "    \n",
    "    'is_present': [\n",
    "        True, False, False, True, True, True,\n",
    "        True, True, True, True, True, True,\n",
    "        False, True, True, True, True, False,\n",
    "    ],\n",
    "})\n",
    "\n",
    "presence.head()"
   ]
  },
  {
   "cell_type": "code",
   "execution_count": 15,
   "id": "36c7df8c",
   "metadata": {
    "hidden": true
   },
   "outputs": [
    {
     "data": {
      "text/html": [
       "<div>\n",
       "<style scoped>\n",
       "    .dataframe tbody tr th:only-of-type {\n",
       "        vertical-align: middle;\n",
       "    }\n",
       "\n",
       "    .dataframe tbody tr th {\n",
       "        vertical-align: top;\n",
       "    }\n",
       "\n",
       "    .dataframe thead th {\n",
       "        text-align: right;\n",
       "    }\n",
       "</style>\n",
       "<table border=\"1\" class=\"dataframe\">\n",
       "  <thead>\n",
       "    <tr style=\"text-align: right;\">\n",
       "      <th></th>\n",
       "      <th>std_id</th>\n",
       "      <th>name</th>\n",
       "    </tr>\n",
       "  </thead>\n",
       "  <tbody>\n",
       "    <tr>\n",
       "      <th>0</th>\n",
       "      <td>1</td>\n",
       "      <td>Robert Pattison</td>\n",
       "    </tr>\n",
       "    <tr>\n",
       "      <th>1</th>\n",
       "      <td>2</td>\n",
       "      <td>Robert Paulson</td>\n",
       "    </tr>\n",
       "    <tr>\n",
       "      <th>2</th>\n",
       "      <td>3</td>\n",
       "      <td>Rex Roberts</td>\n",
       "    </tr>\n",
       "    <tr>\n",
       "      <th>3</th>\n",
       "      <td>4</td>\n",
       "      <td>Thomas Edison</td>\n",
       "    </tr>\n",
       "    <tr>\n",
       "      <th>4</th>\n",
       "      <td>5</td>\n",
       "      <td>Bonny Bones</td>\n",
       "    </tr>\n",
       "    <tr>\n",
       "      <th>5</th>\n",
       "      <td>6</td>\n",
       "      <td>Elison Woods</td>\n",
       "    </tr>\n",
       "  </tbody>\n",
       "</table>\n",
       "</div>"
      ],
      "text/plain": [
       "   std_id             name\n",
       "0       1  Robert Pattison\n",
       "1       2   Robert Paulson\n",
       "2       3      Rex Roberts\n",
       "3       4    Thomas Edison\n",
       "4       5      Bonny Bones\n",
       "5       6     Elison Woods"
      ]
     },
     "execution_count": 15,
     "metadata": {},
     "output_type": "execute_result"
    }
   ],
   "source": [
    "query = \"\"\"\n",
    "select\n",
    "      std_id\n",
    "    , name\n",
    "from\n",
    "    students\n",
    "where\n",
    "    std_id in (select std_id from presence where is_present = True)\n",
    "\"\"\"\n",
    "\n",
    "pysqldf = lambda q: sqldf(q, globals())\n",
    "pysqldf(query)"
   ]
  },
  {
   "cell_type": "markdown",
   "id": "8b95eedd",
   "metadata": {
    "hidden": true
   },
   "source": [
    "В большинстве случаев можно добиться тех же результатов не прибегая к подзапросам, а используя join-ы. Однак, если основной запрос явно не использует колонки из другой таблицы, лучше воспользоваться постзапросами, поскольку процедура объединения довольно затратна."
   ]
  },
  {
   "cell_type": "markdown",
   "id": "53e8e4ac",
   "metadata": {},
   "source": [
    "#### Примеры задач"
   ]
  },
  {
   "cell_type": "markdown",
   "id": "8d0e4bb4",
   "metadata": {},
   "source": [
    "- [Stratascratch: Finding Updated Records - Easy](https://platform.stratascratch.com/coding/10299-finding-updated-records?tabname=question)\n",
    "- [Stratascratch: Find all posts which were reacted to with a heart - Easy](https://platform.stratascratch.com/coding/10087-find-all-posts-which-were-reacted-to-with-a-heart?tabname=solutions)\n",
    "- [Stratascratch: Top Cool Votes - Medium](https://platform.stratascratch.com/coding/10060-top-cool-votes?tabname=solutions)\n",
    "- [Stratascratch: Workers With The Highest Salaries - Medium](https://platform.stratascratch.com/coding/10353-workers-with-the-highest-salaries?code_type=1)\n",
    "- [Stratascratch: Highest Target Under Manager - Medium](https://platform.stratascratch.com/coding/9905-highest-target-under-manager?tabname=question)\n",
    "- [Stratascratch: Highest Energy Consumption - Medium](https://platform.stratascratch.com/coding/10064-highest-energy-consumption?tabname=solutions)\n",
    "- [Stratascratch: Highest Cost Orders - Medium](https://platform.stratascratch.com/coding/9915-highest-cost-orders?code_type=1)\n",
    "- [Stratascratch: Highest Salary In Department - Medium](https://platform.stratascratch.com/coding/9897-highest-salary-in-department?tabname=solutions)"
   ]
  },
  {
   "cell_type": "markdown",
   "id": "a17ed798",
   "metadata": {},
   "source": [
    "## Case"
   ]
  },
  {
   "cell_type": "markdown",
   "id": "1e7b126b",
   "metadata": {},
   "source": [
    "### Фильтрование значений перед агрегированием - Filtering values before aggregating"
   ]
  },
  {
   "cell_type": "markdown",
   "id": "ccbcb572",
   "metadata": {},
   "source": [
    "Хорошее решение, когда нужно подсчитать сумму по определенной категории значений:\n",
    "```sql\n",
    "select sum(case where cat=True then value end) from data\n",
    "```"
   ]
  },
  {
   "cell_type": "markdown",
   "id": "1c36244e",
   "metadata": {},
   "source": [
    "Это будет работать и после группировки:\n",
    "```sql\n",
    "select sum(case where cat=True then value end) from data group by date\n",
    "```"
   ]
  },
  {
   "cell_type": "markdown",
   "id": "d7fb7cd7",
   "metadata": {},
   "source": [
    "#### Примеры задач"
   ]
  },
  {
   "cell_type": "markdown",
   "id": "42eac033",
   "metadata": {},
   "source": [
    "- [Stratascratch: Salaries Differences - Easy](https://platform.stratascratch.com/coding/10308-salaries-differences?tabname=solutions)\n",
    "- [Stratascratch: Find the rate of processed tickets for each type - Medium](https://platform.stratascratch.com/coding/9781-find-the-rate-of-processed-tickets-for-each-type?tabname=solutions)\n",
    "- [Stratascratch: Premium vs Freemium - Hard](https://platform.stratascratch.com/coding/10300-premium-vs-freemium?tabname=solutions)"
   ]
  },
  {
   "cell_type": "markdown",
   "id": "351ee925",
   "metadata": {},
   "source": [
    "### Введение колонки категориального признака - Introduction of a categorical attribute column"
   ]
  },
  {
   "cell_type": "markdown",
   "id": "24d3c5f5",
   "metadata": {},
   "source": [
    "```sql\n",
    "select\n",
    "      id\n",
    "    , (\n",
    "        case\n",
    "            when val = 0 then 'zero'\n",
    "            when val between 1 and 5 then '1-5'\n",
    "            when val > 5 then '>5'\n",
    "        end\n",
    "    ) as new_cat\n",
    "    , ...\n",
    "from data\n",
    "```"
   ]
  },
  {
   "cell_type": "markdown",
   "id": "c9f871d4",
   "metadata": {},
   "source": [
    "#### Примеры задач"
   ]
  },
  {
   "cell_type": "markdown",
   "id": "ccb96620",
   "metadata": {},
   "source": [
    "- [Stratascratch: Classify Business Type - Medium](https://platform.stratascratch.com/coding/9726-classify-business-type?tabname=question)\n",
    "- [Stratascratch: Host Popularity Rental Prices - Hard](https://platform.stratascratch.com/coding/9632-host-popularity-rental-prices?code_type=1)"
   ]
  },
  {
   "cell_type": "markdown",
   "id": "cf72ccc9",
   "metadata": {},
   "source": [
    "## Табличные выражения - Common Table Expressions (CTEs)"
   ]
  },
  {
   "cell_type": "markdown",
   "id": "4d058856",
   "metadata": {},
   "source": [
    "Проблема подзапросов в том, что они вредят читаемости запросов. Для решения этой проблемы были введены табличные выражения. Они позволяют инкапсулировать отдельные части запроса в отдельные блоки и обращаться к ним из основного запроса. "
   ]
  },
  {
   "cell_type": "markdown",
   "id": "00c87c7f",
   "metadata": {
    "heading_collapsed": true
   },
   "source": [
    "#### Пример"
   ]
  },
  {
   "cell_type": "code",
   "execution_count": 127,
   "id": "32dc01e6",
   "metadata": {
    "hidden": true
   },
   "outputs": [
    {
     "data": {
      "text/html": [
       "<div>\n",
       "<style scoped>\n",
       "    .dataframe tbody tr th:only-of-type {\n",
       "        vertical-align: middle;\n",
       "    }\n",
       "\n",
       "    .dataframe tbody tr th {\n",
       "        vertical-align: top;\n",
       "    }\n",
       "\n",
       "    .dataframe thead th {\n",
       "        text-align: right;\n",
       "    }\n",
       "</style>\n",
       "<table border=\"1\" class=\"dataframe\">\n",
       "  <thead>\n",
       "    <tr style=\"text-align: right;\">\n",
       "      <th></th>\n",
       "      <th>name</th>\n",
       "      <th>surname</th>\n",
       "    </tr>\n",
       "  </thead>\n",
       "  <tbody>\n",
       "    <tr>\n",
       "      <th>0</th>\n",
       "      <td>Robert</td>\n",
       "      <td>Pattison</td>\n",
       "    </tr>\n",
       "    <tr>\n",
       "      <th>1</th>\n",
       "      <td>Robert</td>\n",
       "      <td>Paulson</td>\n",
       "    </tr>\n",
       "    <tr>\n",
       "      <th>2</th>\n",
       "      <td>Rex</td>\n",
       "      <td>Roberts</td>\n",
       "    </tr>\n",
       "    <tr>\n",
       "      <th>3</th>\n",
       "      <td>Robert</td>\n",
       "      <td>De Niro</td>\n",
       "    </tr>\n",
       "  </tbody>\n",
       "</table>\n",
       "</div>"
      ],
      "text/plain": [
       "     name   surname\n",
       "0  Robert  Pattison\n",
       "1  Robert   Paulson\n",
       "2     Rex   Roberts\n",
       "3  Robert   De Niro"
      ]
     },
     "execution_count": 127,
     "metadata": {},
     "output_type": "execute_result"
    }
   ],
   "source": [
    "df = pd.DataFrame({\n",
    "    'name': ['Robert', 'Robert', 'Rex', 'Robert'],\n",
    "    'surname': ['Pattison', 'Paulson', 'Roberts', 'De Niro']\n",
    "})\n",
    "\n",
    "df.head()"
   ]
  },
  {
   "cell_type": "code",
   "execution_count": 128,
   "id": "284c8ec3",
   "metadata": {
    "hidden": true
   },
   "outputs": [
    {
     "data": {
      "text/html": [
       "<div>\n",
       "<style scoped>\n",
       "    .dataframe tbody tr th:only-of-type {\n",
       "        vertical-align: middle;\n",
       "    }\n",
       "\n",
       "    .dataframe tbody tr th {\n",
       "        vertical-align: top;\n",
       "    }\n",
       "\n",
       "    .dataframe thead th {\n",
       "        text-align: right;\n",
       "    }\n",
       "</style>\n",
       "<table border=\"1\" class=\"dataframe\">\n",
       "  <thead>\n",
       "    <tr style=\"text-align: right;\">\n",
       "      <th></th>\n",
       "      <th>surname</th>\n",
       "      <th>n_students</th>\n",
       "    </tr>\n",
       "  </thead>\n",
       "  <tbody>\n",
       "    <tr>\n",
       "      <th>0</th>\n",
       "      <td>De Niro</td>\n",
       "      <td>1</td>\n",
       "    </tr>\n",
       "    <tr>\n",
       "      <th>1</th>\n",
       "      <td>Pattison</td>\n",
       "      <td>1</td>\n",
       "    </tr>\n",
       "    <tr>\n",
       "      <th>2</th>\n",
       "      <td>Paulson</td>\n",
       "      <td>1</td>\n",
       "    </tr>\n",
       "  </tbody>\n",
       "</table>\n",
       "</div>"
      ],
      "text/plain": [
       "    surname  n_students\n",
       "0   De Niro           1\n",
       "1  Pattison           1\n",
       "2   Paulson           1"
      ]
     },
     "execution_count": 128,
     "metadata": {},
     "output_type": "execute_result"
    }
   ],
   "source": [
    "query = \"\"\"\n",
    "with robert_table as (\n",
    "    select surname from df where name = 'Robert'\n",
    ")\n",
    "\n",
    "select\n",
    "      surname\n",
    "    , count(surname) as n_students\n",
    "from\n",
    "    robert_table\n",
    "group by \n",
    "    robert_table.surname\n",
    "\"\"\"\n",
    "\n",
    "pysqldf = lambda q: sqldf(q, globals())\n",
    "pysqldf(query)"
   ]
  },
  {
   "cell_type": "code",
   "execution_count": 129,
   "id": "0511ee53",
   "metadata": {
    "hidden": true
   },
   "outputs": [
    {
     "data": {
      "text/html": [
       "<div>\n",
       "<style scoped>\n",
       "    .dataframe tbody tr th:only-of-type {\n",
       "        vertical-align: middle;\n",
       "    }\n",
       "\n",
       "    .dataframe tbody tr th {\n",
       "        vertical-align: top;\n",
       "    }\n",
       "\n",
       "    .dataframe thead th {\n",
       "        text-align: right;\n",
       "    }\n",
       "</style>\n",
       "<table border=\"1\" class=\"dataframe\">\n",
       "  <thead>\n",
       "    <tr style=\"text-align: right;\">\n",
       "      <th></th>\n",
       "      <th>surname</th>\n",
       "      <th>n_students</th>\n",
       "    </tr>\n",
       "  </thead>\n",
       "  <tbody>\n",
       "    <tr>\n",
       "      <th>0</th>\n",
       "      <td>Pattison</td>\n",
       "      <td>1</td>\n",
       "    </tr>\n",
       "    <tr>\n",
       "      <th>1</th>\n",
       "      <td>Paulson</td>\n",
       "      <td>1</td>\n",
       "    </tr>\n",
       "  </tbody>\n",
       "</table>\n",
       "</div>"
      ],
      "text/plain": [
       "    surname  n_students\n",
       "0  Pattison           1\n",
       "1   Paulson           1"
      ]
     },
     "execution_count": 129,
     "metadata": {},
     "output_type": "execute_result"
    }
   ],
   "source": [
    "query = \"\"\"\n",
    "with \n",
    "\n",
    "robert_table as (\n",
    "    select surname from df where name = 'Robert'\n",
    "),\n",
    "\n",
    "surname_count as (\n",
    "    select \n",
    "          surname\n",
    "        , count(surname) as n_students \n",
    "    from \n",
    "        robert_table \n",
    "    group by \n",
    "        robert_table.surname\n",
    ")\n",
    "\n",
    "\n",
    "select\n",
    "      surname\n",
    "    , n_students\n",
    "from \n",
    "    surname_count\n",
    "where\n",
    "    surname like 'P%'\n",
    "      \n",
    "\"\"\"\n",
    "\n",
    "pysqldf = lambda q: sqldf(q, globals())\n",
    "pysqldf(query)"
   ]
  },
  {
   "cell_type": "markdown",
   "id": "6b206e0f",
   "metadata": {
    "hidden": true
   },
   "source": [
    "Особенность CTE в том, что после создания мы можем обащаться к каждому блоку из основного заброса. Что позволяет сильно его упростить.\n",
    "Однако это работает только для первого запроса. Если выполнить сразу два запроса подряд, то второй выведет ошибку.\n",
    "\n",
    "<img src=\"../../img/CTE.PNG\" width=\"800\">"
   ]
  },
  {
   "cell_type": "markdown",
   "id": "a0e3ee30",
   "metadata": {},
   "source": [
    "#### Прмеры задач"
   ]
  },
  {
   "cell_type": "markdown",
   "id": "ec6e6164",
   "metadata": {},
   "source": [
    "- [Stratascratch: Users By Average Session Time - Medium](https://platform.stratascratch.com/coding/10352-users-by-avg-session-time?tabname=question)\n",
    "- [Income By Title and Gender](https://platform.stratascratch.com/coding/10077-income-by-title-and-gender?tabname=solutions)"
   ]
  },
  {
   "cell_type": "markdown",
   "id": "5f755059",
   "metadata": {},
   "source": [
    "## Оконные функции - window functions"
   ]
  },
  {
   "cell_type": "markdown",
   "id": "d4453adb",
   "metadata": {},
   "source": [
    "В SQL есть несколько типов функций. Скалярные функции принимают на вход одно значение и возвращают тоже одно (например concat, upper, lower). Агрегирующие функции принимают на вход набор значений и возращают одно значение (sum, min, max, avg и т.д.). \n",
    "\n",
    "Есть также третий тип функций, которые принимают на вход набор строк, выполняют преобразования в контексте этого набора и возвращают приобразованные значения  - это оконные функции (RANK, DENSE_RANK, ROW_NUMBER). \n",
    "\n",
    "<img src=\"../../img/window_functions.PNG\" width=\"800\">"
   ]
  },
  {
   "cell_type": "markdown",
   "id": "c6bf8da1",
   "metadata": {},
   "source": [
    "### Примеры задач"
   ]
  },
  {
   "cell_type": "markdown",
   "id": "47ff2924",
   "metadata": {},
   "source": [
    "- [Stratascratch: Ranking Most Active Guests - Medium](https://platform.stratascratch.com/coding/10159-ranking-most-active-guests?tabname=question)\n",
    "- [Stratascratch:Finding User Purchases - Medium](https://platform.stratascratch.com/coding/10322-finding-user-purchases?code_type=1)\n",
    "- [Stratascratch: Marketing Campaign Success [Advanced] - Hard](https://platform.stratascratch.com/coding/514-marketing-campaign-success-advanced?tabname=question)\n",
    "- [Stratascratch: Monthly Percentage Difference - Hard](https://platform.stratascratch.com/coding/10319-monthly-percentage-difference?tabname=question)"
   ]
  },
  {
   "cell_type": "markdown",
   "id": "ac2882b9",
   "metadata": {
    "heading_collapsed": true
   },
   "source": [
    "### Пример"
   ]
  },
  {
   "cell_type": "code",
   "execution_count": 130,
   "id": "5db6e5b0",
   "metadata": {
    "hidden": true
   },
   "outputs": [
    {
     "data": {
      "text/html": [
       "<div>\n",
       "<style scoped>\n",
       "    .dataframe tbody tr th:only-of-type {\n",
       "        vertical-align: middle;\n",
       "    }\n",
       "\n",
       "    .dataframe tbody tr th {\n",
       "        vertical-align: top;\n",
       "    }\n",
       "\n",
       "    .dataframe thead th {\n",
       "        text-align: right;\n",
       "    }\n",
       "</style>\n",
       "<table border=\"1\" class=\"dataframe\">\n",
       "  <thead>\n",
       "    <tr style=\"text-align: right;\">\n",
       "      <th></th>\n",
       "      <th>name</th>\n",
       "      <th>exam_id</th>\n",
       "      <th>grade</th>\n",
       "    </tr>\n",
       "  </thead>\n",
       "  <tbody>\n",
       "    <tr>\n",
       "      <th>0</th>\n",
       "      <td>Robert Pattison</td>\n",
       "      <td>1</td>\n",
       "      <td>5</td>\n",
       "    </tr>\n",
       "    <tr>\n",
       "      <th>1</th>\n",
       "      <td>Robert Paulson</td>\n",
       "      <td>1</td>\n",
       "      <td>2</td>\n",
       "    </tr>\n",
       "    <tr>\n",
       "      <th>2</th>\n",
       "      <td>Rex Roberts</td>\n",
       "      <td>1</td>\n",
       "      <td>3</td>\n",
       "    </tr>\n",
       "    <tr>\n",
       "      <th>3</th>\n",
       "      <td>Thomas Edison</td>\n",
       "      <td>1</td>\n",
       "      <td>4</td>\n",
       "    </tr>\n",
       "    <tr>\n",
       "      <th>4</th>\n",
       "      <td>Bonny Bones</td>\n",
       "      <td>1</td>\n",
       "      <td>3</td>\n",
       "    </tr>\n",
       "  </tbody>\n",
       "</table>\n",
       "</div>"
      ],
      "text/plain": [
       "              name  exam_id  grade\n",
       "0  Robert Pattison        1      5\n",
       "1   Robert Paulson        1      2\n",
       "2      Rex Roberts        1      3\n",
       "3    Thomas Edison        1      4\n",
       "4      Bonny Bones        1      3"
      ]
     },
     "execution_count": 130,
     "metadata": {},
     "output_type": "execute_result"
    }
   ],
   "source": [
    "exams = pd.DataFrame({\n",
    "    'name': [\n",
    "        'Robert Pattison', 'Robert Paulson', 'Rex Roberts', 'Thomas Edison', 'Bonny Bones', 'Elison Woods',\n",
    "        'Robert Pattison', 'Robert Paulson', 'Rex Roberts', 'Thomas Edison', 'Bonny Bones', 'Elison Woods',\n",
    "    ],\n",
    "    'exam_id': [\n",
    "        1, 1, 1, 1, 1, 1,\n",
    "        2, 2, 2, 2, 2, 2,\n",
    "    ],\n",
    "    'grade': [\n",
    "        5, 2, 3, 4, 3, 5,\n",
    "        4, 4, 4, 5, 4, 5,\n",
    "    ],\n",
    "})\n",
    "\n",
    "exams.head()"
   ]
  },
  {
   "cell_type": "code",
   "execution_count": 131,
   "id": "cbc5764f",
   "metadata": {
    "hidden": true
   },
   "outputs": [
    {
     "data": {
      "text/html": [
       "<div>\n",
       "<style scoped>\n",
       "    .dataframe tbody tr th:only-of-type {\n",
       "        vertical-align: middle;\n",
       "    }\n",
       "\n",
       "    .dataframe tbody tr th {\n",
       "        vertical-align: top;\n",
       "    }\n",
       "\n",
       "    .dataframe thead th {\n",
       "        text-align: right;\n",
       "    }\n",
       "</style>\n",
       "<table border=\"1\" class=\"dataframe\">\n",
       "  <thead>\n",
       "    <tr style=\"text-align: right;\">\n",
       "      <th></th>\n",
       "      <th>row_number</th>\n",
       "      <th>name</th>\n",
       "      <th>grade</th>\n",
       "    </tr>\n",
       "  </thead>\n",
       "  <tbody>\n",
       "    <tr>\n",
       "      <th>0</th>\n",
       "      <td>1</td>\n",
       "      <td>Robert Pattison</td>\n",
       "      <td>5</td>\n",
       "    </tr>\n",
       "    <tr>\n",
       "      <th>1</th>\n",
       "      <td>2</td>\n",
       "      <td>Robert Paulson</td>\n",
       "      <td>2</td>\n",
       "    </tr>\n",
       "    <tr>\n",
       "      <th>2</th>\n",
       "      <td>3</td>\n",
       "      <td>Rex Roberts</td>\n",
       "      <td>3</td>\n",
       "    </tr>\n",
       "    <tr>\n",
       "      <th>3</th>\n",
       "      <td>4</td>\n",
       "      <td>Thomas Edison</td>\n",
       "      <td>4</td>\n",
       "    </tr>\n",
       "    <tr>\n",
       "      <th>4</th>\n",
       "      <td>5</td>\n",
       "      <td>Bonny Bones</td>\n",
       "      <td>3</td>\n",
       "    </tr>\n",
       "    <tr>\n",
       "      <th>5</th>\n",
       "      <td>6</td>\n",
       "      <td>Elison Woods</td>\n",
       "      <td>5</td>\n",
       "    </tr>\n",
       "    <tr>\n",
       "      <th>6</th>\n",
       "      <td>7</td>\n",
       "      <td>Robert Pattison</td>\n",
       "      <td>4</td>\n",
       "    </tr>\n",
       "    <tr>\n",
       "      <th>7</th>\n",
       "      <td>8</td>\n",
       "      <td>Robert Paulson</td>\n",
       "      <td>4</td>\n",
       "    </tr>\n",
       "    <tr>\n",
       "      <th>8</th>\n",
       "      <td>9</td>\n",
       "      <td>Rex Roberts</td>\n",
       "      <td>4</td>\n",
       "    </tr>\n",
       "    <tr>\n",
       "      <th>9</th>\n",
       "      <td>10</td>\n",
       "      <td>Thomas Edison</td>\n",
       "      <td>5</td>\n",
       "    </tr>\n",
       "    <tr>\n",
       "      <th>10</th>\n",
       "      <td>11</td>\n",
       "      <td>Bonny Bones</td>\n",
       "      <td>4</td>\n",
       "    </tr>\n",
       "    <tr>\n",
       "      <th>11</th>\n",
       "      <td>12</td>\n",
       "      <td>Elison Woods</td>\n",
       "      <td>5</td>\n",
       "    </tr>\n",
       "  </tbody>\n",
       "</table>\n",
       "</div>"
      ],
      "text/plain": [
       "    row_number             name  grade\n",
       "0            1  Robert Pattison      5\n",
       "1            2   Robert Paulson      2\n",
       "2            3      Rex Roberts      3\n",
       "3            4    Thomas Edison      4\n",
       "4            5      Bonny Bones      3\n",
       "5            6     Elison Woods      5\n",
       "6            7  Robert Pattison      4\n",
       "7            8   Robert Paulson      4\n",
       "8            9      Rex Roberts      4\n",
       "9           10    Thomas Edison      5\n",
       "10          11      Bonny Bones      4\n",
       "11          12     Elison Woods      5"
      ]
     },
     "execution_count": 131,
     "metadata": {},
     "output_type": "execute_result"
    }
   ],
   "source": [
    "query = \"\"\"\n",
    "select \n",
    "      row_number() over () as row_number\n",
    "    , name\n",
    "    , grade\n",
    "FROM \n",
    "    exams\n",
    "\"\"\"\n",
    "\n",
    "pysqldf = lambda q: sqldf(q, globals())\n",
    "pysqldf(query)"
   ]
  },
  {
   "cell_type": "code",
   "execution_count": 132,
   "id": "46497008",
   "metadata": {
    "hidden": true
   },
   "outputs": [
    {
     "data": {
      "text/html": [
       "<div>\n",
       "<style scoped>\n",
       "    .dataframe tbody tr th:only-of-type {\n",
       "        vertical-align: middle;\n",
       "    }\n",
       "\n",
       "    .dataframe tbody tr th {\n",
       "        vertical-align: top;\n",
       "    }\n",
       "\n",
       "    .dataframe thead th {\n",
       "        text-align: right;\n",
       "    }\n",
       "</style>\n",
       "<table border=\"1\" class=\"dataframe\">\n",
       "  <thead>\n",
       "    <tr style=\"text-align: right;\">\n",
       "      <th></th>\n",
       "      <th>row_number</th>\n",
       "      <th>name</th>\n",
       "      <th>grade</th>\n",
       "    </tr>\n",
       "  </thead>\n",
       "  <tbody>\n",
       "    <tr>\n",
       "      <th>0</th>\n",
       "      <td>1</td>\n",
       "      <td>Bonny Bones</td>\n",
       "      <td>3</td>\n",
       "    </tr>\n",
       "    <tr>\n",
       "      <th>1</th>\n",
       "      <td>2</td>\n",
       "      <td>Bonny Bones</td>\n",
       "      <td>4</td>\n",
       "    </tr>\n",
       "    <tr>\n",
       "      <th>2</th>\n",
       "      <td>1</td>\n",
       "      <td>Elison Woods</td>\n",
       "      <td>5</td>\n",
       "    </tr>\n",
       "    <tr>\n",
       "      <th>3</th>\n",
       "      <td>2</td>\n",
       "      <td>Elison Woods</td>\n",
       "      <td>5</td>\n",
       "    </tr>\n",
       "    <tr>\n",
       "      <th>4</th>\n",
       "      <td>1</td>\n",
       "      <td>Rex Roberts</td>\n",
       "      <td>3</td>\n",
       "    </tr>\n",
       "    <tr>\n",
       "      <th>5</th>\n",
       "      <td>2</td>\n",
       "      <td>Rex Roberts</td>\n",
       "      <td>4</td>\n",
       "    </tr>\n",
       "    <tr>\n",
       "      <th>6</th>\n",
       "      <td>1</td>\n",
       "      <td>Robert Pattison</td>\n",
       "      <td>5</td>\n",
       "    </tr>\n",
       "    <tr>\n",
       "      <th>7</th>\n",
       "      <td>2</td>\n",
       "      <td>Robert Pattison</td>\n",
       "      <td>4</td>\n",
       "    </tr>\n",
       "    <tr>\n",
       "      <th>8</th>\n",
       "      <td>1</td>\n",
       "      <td>Robert Paulson</td>\n",
       "      <td>2</td>\n",
       "    </tr>\n",
       "    <tr>\n",
       "      <th>9</th>\n",
       "      <td>2</td>\n",
       "      <td>Robert Paulson</td>\n",
       "      <td>4</td>\n",
       "    </tr>\n",
       "    <tr>\n",
       "      <th>10</th>\n",
       "      <td>1</td>\n",
       "      <td>Thomas Edison</td>\n",
       "      <td>4</td>\n",
       "    </tr>\n",
       "    <tr>\n",
       "      <th>11</th>\n",
       "      <td>2</td>\n",
       "      <td>Thomas Edison</td>\n",
       "      <td>5</td>\n",
       "    </tr>\n",
       "  </tbody>\n",
       "</table>\n",
       "</div>"
      ],
      "text/plain": [
       "    row_number             name  grade\n",
       "0            1      Bonny Bones      3\n",
       "1            2      Bonny Bones      4\n",
       "2            1     Elison Woods      5\n",
       "3            2     Elison Woods      5\n",
       "4            1      Rex Roberts      3\n",
       "5            2      Rex Roberts      4\n",
       "6            1  Robert Pattison      5\n",
       "7            2  Robert Pattison      4\n",
       "8            1   Robert Paulson      2\n",
       "9            2   Robert Paulson      4\n",
       "10           1    Thomas Edison      4\n",
       "11           2    Thomas Edison      5"
      ]
     },
     "execution_count": 132,
     "metadata": {},
     "output_type": "execute_result"
    }
   ],
   "source": [
    "query = \"\"\"\n",
    "select\n",
    "      row_number() over (partition by name) as row_number\n",
    "    , name\n",
    "    , grade\n",
    "FROM \n",
    "    exams\n",
    "\"\"\"\n",
    "\n",
    "pysqldf = lambda q: sqldf(q, globals())\n",
    "pysqldf(query)"
   ]
  },
  {
   "cell_type": "markdown",
   "id": "94d4d91d",
   "metadata": {
    "heading_collapsed": true
   },
   "source": [
    "### Посчитать процентное изменение"
   ]
  },
  {
   "cell_type": "markdown",
   "id": "931f816e",
   "metadata": {
    "hidden": true
   },
   "source": [
    "```sql \n",
    "select \n",
    "      to_char(created_at::date, 'YYYY-MM') as year_month\n",
    "    , round(\n",
    "        (sum(value) - lag(sum(value),1) over (w)) *100/lag(sum(value),1) over (w), 2\n",
    "    ) as revenue_diff\n",
    "from df\n",
    "group by year_month\n",
    "window w as (order by to_char(created_at::date, 'YYYY-MM'))\n",
    "```"
   ]
  },
  {
   "cell_type": "markdown",
   "id": "a63ac83d",
   "metadata": {},
   "source": [
    "### Отранжировать суммы"
   ]
  },
  {
   "cell_type": "markdown",
   "id": "a53e43dc",
   "metadata": {},
   "source": [
    "```sql \n",
    "select\n",
    "      dense_rank() over (order by sum(value_col) desc)\n",
    "    , id_col\n",
    "    , sum(value_col) as values_sum\n",
    "from df\n",
    "group by id_col\n",
    "```"
   ]
  },
  {
   "cell_type": "markdown",
   "id": "aa5b0906",
   "metadata": {},
   "source": [
    "### Отранжировать значения в каждой группе (от максимального к минимальному)"
   ]
  },
  {
   "cell_type": "markdown",
   "id": "9fe78caf",
   "metadata": {},
   "source": [
    "```sql \n",
    "select\n",
    "      dense_rank() over (partition by gr order by val desc)\n",
    "    , gr\n",
    "    , val\n",
    "from df\n",
    "```"
   ]
  },
  {
   "cell_type": "markdown",
   "id": "55a7f8c9",
   "metadata": {
    "heading_collapsed": true
   },
   "source": [
    "## Скалярные пользовательские функции - User Defined Functions (UDF): Scalar functions"
   ]
  },
  {
   "cell_type": "markdown",
   "id": "f6055492",
   "metadata": {
    "hidden": true
   },
   "source": [
    "Как и в других языках программирования, в SQL вы также можете инкапсулировать логику в функции, которые принимают параметры, а возвращают значение или набор значений. Пользовательские функции используются в ситуациях, когда нашу задачу нельзя решить с помощью встроенных функций.\n",
    "\n",
    "Как было сказано ранее, скалярные отличаются тем, что возвращают только одно число."
   ]
  },
  {
   "cell_type": "markdown",
   "id": "71c41fc7",
   "metadata": {
    "hidden": true
   },
   "source": [
    "```sql\n",
    "create function frequency_students (name_student string) returns int64 as (\n",
    "    \n",
    "    select \n",
    "        count(1)\n",
    "    from \n",
    "        presence\n",
    "    where\n",
    "        name = name_student\n",
    "        and\n",
    "        is_present = True\n",
    "    \n",
    ");\n",
    "\n",
    "create function average_students (name_student string) returns float64 as (\n",
    "\n",
    "    select\n",
    "        avg(grade)\n",
    "    from\n",
    "        exams\n",
    "    where\n",
    "        name = name_student\n",
    "\n",
    ");\n",
    "\n",
    "select\n",
    "      std_id\n",
    "    , name\n",
    "    , average_students(name) as average_grades\n",
    "    , frequency_students(name) as quantity_of_presence\n",
    "from\n",
    "    students\n",
    "```"
   ]
  },
  {
   "cell_type": "markdown",
   "id": "66819239",
   "metadata": {
    "heading_collapsed": true
   },
   "source": [
    "## Табличные пользовательские функции - User Defined Functions (UDF): Table functions"
   ]
  },
  {
   "cell_type": "markdown",
   "id": "61e52da7",
   "metadata": {
    "hidden": true
   },
   "source": [
    "В отличии от скалярных функций, табличные функции принимают параметры и возвращают таблицу вместо одного значения. В отличае от CTE, табличные функции могут использоваться в контексте всей базы, а не только одного запроса.\n",
    "\n",
    "```sql\n",
    "create table function count_students_by_surname(name_student string, first_letter_surname string) as (\n",
    "\n",
    "    with  \n",
    "\n",
    "    student_filtered_by_name as (\n",
    "        select surname from students where name = name_student\n",
    "    ),\n",
    "\n",
    "    count_of_students_by_surname as (\n",
    "        select\n",
    "              surname\n",
    "            , count(1) as count_students\n",
    "        from \n",
    "            students_filtered_by_name\n",
    "        group by surname\n",
    "    )\n",
    "\n",
    "    select\n",
    "          surnamae\n",
    "        , count_students\n",
    "    from\n",
    "        count_of_students_by_name\n",
    "    where\n",
    "        surname like concat(first_letter_surname, '%')\n",
    "\n",
    ");\n",
    "\n",
    "select \n",
    "      surname\n",
    "    , count_students\n",
    "from\n",
    "    count_students_by_surname('Robert', 'P')\n",
    "```"
   ]
  },
  {
   "cell_type": "markdown",
   "id": "3cedae08",
   "metadata": {
    "heading_collapsed": true
   },
   "source": [
    "## Временные таблицы - Temporary Tables"
   ]
  },
  {
   "cell_type": "markdown",
   "id": "ce3c9967",
   "metadata": {
    "hidden": true
   },
   "source": [
    "Как исходит из названия временные таблицы не хранятся в базе данных, а находятся в кеше и удаляются либо самим пользователем, либо когда закончится сессия.\n",
    "\n",
    "В отличае от CTE и табличных функций, временные таблицы обладают характеристиками обычных таблиц - в них можно добавлять и удалять строки.\n",
    "\n",
    "Основная функция временных таблиц - хранить и обрабатывать промежуточные результаты запроса, чтобы оптимизировать время выполнения/выделенные ресурсы более сложного запроса. Например, вместо применения вычислений к таблицам с миллионами строк для получения подмножества данных вы можете сначала отфильтровать это подмножество во временную таблицу, а затем выполнить вычисления. Таким образом, мы работаем только с теми данными, которые нам нужны, и не тратим ресурсы на обработку запросов.\n",
    "\n",
    "Синтаксис создания временных таблиц похож с созданием обычных. Нужон только добавить temporary после create:\n",
    "\n",
    "```sql\n",
    "create temporary table name_of_table as (\n",
    "    select [columns] from [table]\n",
    ");\n",
    "```"
   ]
  },
  {
   "cell_type": "code",
   "execution_count": null,
   "id": "3f328d5c",
   "metadata": {
    "hidden": true
   },
   "outputs": [],
   "source": []
  }
 ],
 "metadata": {
  "kernelspec": {
   "display_name": "venv",
   "language": "python",
   "name": "venv"
  },
  "language_info": {
   "codemirror_mode": {
    "name": "ipython",
    "version": 3
   },
   "file_extension": ".py",
   "mimetype": "text/x-python",
   "name": "python",
   "nbconvert_exporter": "python",
   "pygments_lexer": "ipython3",
   "version": "3.10.2"
  },
  "toc": {
   "base_numbering": 1,
   "nav_menu": {},
   "number_sections": true,
   "sideBar": true,
   "skip_h1_title": false,
   "title_cell": "Table of Contents",
   "title_sidebar": "Contents",
   "toc_cell": false,
   "toc_position": {
    "height": "calc(100% - 180px)",
    "left": "10px",
    "top": "150px",
    "width": "222.737px"
   },
   "toc_section_display": true,
   "toc_window_display": false
  }
 },
 "nbformat": 4,
 "nbformat_minor": 5
}
