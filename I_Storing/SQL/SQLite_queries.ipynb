{
 "cells": [
  {
   "cell_type": "code",
   "execution_count": 2,
   "metadata": {},
   "outputs": [
    {
     "name": "stderr",
     "output_type": "stream",
     "text": [
      "/DataScience/safonkin/PycharmProjects/venv/lib/python3.7/site-packages/sklearn/feature_extraction/image.py:167: DeprecationWarning: `np.int` is a deprecated alias for the builtin `int`. To silence this warning, use `int` by itself. Doing this will not modify any behavior and is safe. When replacing `np.int`, you may wish to use e.g. `np.int64` or `np.int32` to specify the precision. If you wish to review your current use, check the release note link for additional information.\n",
      "Deprecated in NumPy 1.20; for more details and guidance: https://numpy.org/devdocs/release/1.20.0-notes.html#deprecations\n",
      "  dtype=np.int):\n"
     ]
    }
   ],
   "source": [
    "import pandas as pd\n",
    "import numpy as np\n",
    "from sklearn import datasets"
   ]
  },
  {
   "cell_type": "code",
   "execution_count": 17,
   "metadata": {},
   "outputs": [
    {
     "data": {
      "text/html": [
       "<style>.container { width:100% !important; }</style>"
      ],
      "text/plain": [
       "<IPython.core.display.HTML object>"
      ]
     },
     "metadata": {},
     "output_type": "display_data"
    }
   ],
   "source": [
    "from IPython.core.display import display, HTML\n",
    "display(HTML(\"<style>.container { width:100% !important; }</style>\"))"
   ]
  },
  {
   "cell_type": "code",
   "execution_count": 18,
   "metadata": {},
   "outputs": [
    {
     "data": {
      "text/html": [
       "<div>\n",
       "<style scoped>\n",
       "    .dataframe tbody tr th:only-of-type {\n",
       "        vertical-align: middle;\n",
       "    }\n",
       "\n",
       "    .dataframe tbody tr th {\n",
       "        vertical-align: top;\n",
       "    }\n",
       "\n",
       "    .dataframe thead th {\n",
       "        text-align: right;\n",
       "    }\n",
       "</style>\n",
       "<table border=\"1\" class=\"dataframe\">\n",
       "  <thead>\n",
       "    <tr style=\"text-align: right;\">\n",
       "      <th></th>\n",
       "      <th>datetime_str</th>\n",
       "      <th>group_col</th>\n",
       "      <th>sub_group_col</th>\n",
       "      <th>val_id</th>\n",
       "      <th>value</th>\n",
       "    </tr>\n",
       "  </thead>\n",
       "  <tbody>\n",
       "    <tr>\n",
       "      <th>0</th>\n",
       "      <td>16-10-2021 23:56:10</td>\n",
       "      <td>A</td>\n",
       "      <td>a1</td>\n",
       "      <td>0001</td>\n",
       "      <td>93</td>\n",
       "    </tr>\n",
       "    <tr>\n",
       "      <th>1</th>\n",
       "      <td>16-10-2021 23:58:30</td>\n",
       "      <td>A</td>\n",
       "      <td>a1</td>\n",
       "      <td>0002</td>\n",
       "      <td>78</td>\n",
       "    </tr>\n",
       "    <tr>\n",
       "      <th>2</th>\n",
       "      <td>16-10-2021 23:58:35</td>\n",
       "      <td>B</td>\n",
       "      <td>b1</td>\n",
       "      <td>0003</td>\n",
       "      <td>22</td>\n",
       "    </tr>\n",
       "    <tr>\n",
       "      <th>3</th>\n",
       "      <td>16-10-2021 23:58:56</td>\n",
       "      <td>B</td>\n",
       "      <td>b2</td>\n",
       "      <td>0004</td>\n",
       "      <td>12</td>\n",
       "    </tr>\n",
       "    <tr>\n",
       "      <th>4</th>\n",
       "      <td>16-10-2021 23:59:21</td>\n",
       "      <td>C</td>\n",
       "      <td>c1</td>\n",
       "      <td>0005</td>\n",
       "      <td>49</td>\n",
       "    </tr>\n",
       "  </tbody>\n",
       "</table>\n",
       "</div>"
      ],
      "text/plain": [
       "          datetime_str group_col sub_group_col val_id  value\n",
       "0  16-10-2021 23:56:10         A            a1   0001     93\n",
       "1  16-10-2021 23:58:30         A            a1   0002     78\n",
       "2  16-10-2021 23:58:35         B            b1   0003     22\n",
       "3  16-10-2021 23:58:56         B            b2   0004     12\n",
       "4  16-10-2021 23:59:21         C            c1   0005     49"
      ]
     },
     "execution_count": 18,
     "metadata": {},
     "output_type": "execute_result"
    }
   ],
   "source": [
    "data = pd.DataFrame([\n",
    "            ['16-10-2021 23:56:10', 'A', 'a1', '0001', np.random.randint(100)], \n",
    "            ['16-10-2021 23:58:30', 'A', 'a1', '0002', np.random.randint(100)],\n",
    "            ['16-10-2021 23:58:35', 'B', 'b1', '0003', np.random.randint(100)],\n",
    "            ['16-10-2021 23:58:56', 'B', 'b2', '0004', np.random.randint(100)],\n",
    "            ['16-10-2021 23:59:21', 'C', 'c1', '0005', np.random.randint(100)],\n",
    "            ['16-10-2021 23:59:42', 'C', 'c1', '0006', np.random.randint(100)],\n",
    "\n",
    "            ['17-10-2021 00:03:05', 'A', 'a1', '0007', np.random.randint(100)],\n",
    "            ['17-10-2021 00:03:25', 'A', 'a2', '0008', np.random.randint(100)],\n",
    "            ['17-10-2021 00:03:48', 'A', 'a3', '0009', np.random.randint(100)],\n",
    "            ['17-10-2021 00:05:24', 'B', 'b1', '0010', np.random.randint(100)],\n",
    "            ['17-10-2021 00:05:36', 'B', 'b1', '0011', np.random.randint(100)],\n",
    "            ['17-10-2021 00:05:44', 'B', 'b2', '0012', np.random.randint(100)],\n",
    "            ['17-10-2021 00:06:03', 'B', 'b2', '0013', np.random.randint(100)],\n",
    "            ['17-10-2021 03:12:13', 'B', 'b3', '0014', np.random.randint(100)],\n",
    "            ['17-10-2021 03:12:46', 'C', 'c1', '0015', np.random.randint(100)],\n",
    "            ['17-10-2021 13:06:54', 'C', 'c1', '0016', np.random.randint(100)], \n",
    "            ['17-10-2021 13:12:10', 'C', 'c2', '0017', np.random.randint(100)], \n",
    "            ['17-10-2021 19:48:30', 'C', 'c2', '0018', np.random.randint(100)], \n",
    "\n",
    "            ['18-10-2021 00:06:05', 'C', 'c1', '0019', np.random.randint(100)], \n",
    "            ['18-10-2021 03:08:03', 'C', 'c2', '0020', np.random.randint(100)],\n",
    "            ['18-10-2021 12:07:08', 'C', 'c3', '0021', np.random.randint(100)],\n",
    "    \n",
    "            ['19-10-2021 00:04:03', 'A', 'a1', '0022', np.random.randint(100)], \n",
    "            ['19-10-2021 02:08:20', 'A', 'a2', '0023', np.random.randint(100)],\n",
    "            ['19-10-2021 10:03:08', 'B', 'a2', '0024', np.random.randint(100)],\n",
    "            ['19-10-2021 12:07:08', 'B', 'b1', '0025', np.random.randint(100)],\n",
    "    \n",
    "], columns=['datetime_str','group_col', 'sub_group_col','val_id', 'value'])\n",
    "\n",
    "data.head()"
   ]
  },
  {
   "cell_type": "code",
   "execution_count": 43,
   "metadata": {},
   "outputs": [],
   "source": [
    "query = \"\"\"\n",
    "SELECT\n",
    "    group_col,\n",
    "    sub_group_col,\n",
    "    max(value) OVER (PARTITION BY sub_group_col ORDER BY sub_group_col)  AS max_value\n",
    "FROM\n",
    "    data\n",
    "LIMIT 5\n",
    "\"\"\"\n",
    "\n",
    "query = \"\"\"\n",
    "SELECT \n",
    "    group_col || \" - \" || sub_group_col AS concat\n",
    "FROM \n",
    "    data \n",
    "LIMIT 5\n",
    "\"\"\""
   ]
  },
  {
   "cell_type": "code",
   "execution_count": 44,
   "metadata": {},
   "outputs": [
    {
     "data": {
      "text/html": [
       "<div>\n",
       "<style scoped>\n",
       "    .dataframe tbody tr th:only-of-type {\n",
       "        vertical-align: middle;\n",
       "    }\n",
       "\n",
       "    .dataframe tbody tr th {\n",
       "        vertical-align: top;\n",
       "    }\n",
       "\n",
       "    .dataframe thead th {\n",
       "        text-align: right;\n",
       "    }\n",
       "</style>\n",
       "<table border=\"1\" class=\"dataframe\">\n",
       "  <thead>\n",
       "    <tr style=\"text-align: right;\">\n",
       "      <th></th>\n",
       "      <th>concat</th>\n",
       "    </tr>\n",
       "  </thead>\n",
       "  <tbody>\n",
       "    <tr>\n",
       "      <th>0</th>\n",
       "      <td>A - a1</td>\n",
       "    </tr>\n",
       "    <tr>\n",
       "      <th>1</th>\n",
       "      <td>A - a1</td>\n",
       "    </tr>\n",
       "    <tr>\n",
       "      <th>2</th>\n",
       "      <td>B - b1</td>\n",
       "    </tr>\n",
       "    <tr>\n",
       "      <th>3</th>\n",
       "      <td>B - b2</td>\n",
       "    </tr>\n",
       "    <tr>\n",
       "      <th>4</th>\n",
       "      <td>C - c1</td>\n",
       "    </tr>\n",
       "  </tbody>\n",
       "</table>\n",
       "</div>"
      ],
      "text/plain": [
       "   concat\n",
       "0  A - a1\n",
       "1  A - a1\n",
       "2  B - b1\n",
       "3  B - b2\n",
       "4  C - c1"
      ]
     },
     "execution_count": 44,
     "metadata": {},
     "output_type": "execute_result"
    }
   ],
   "source": [
    "from pandasql import sqldf\n",
    "\n",
    "pysqldf = lambda q: sqldf(q, globals())\n",
    "pysqldf(query)"
   ]
  },
  {
   "cell_type": "markdown",
   "metadata": {},
   "source": [
    "## Функции обработки строк"
   ]
  },
  {
   "cell_type": "markdown",
   "metadata": {},
   "source": []
  },
  {
   "cell_type": "code",
   "execution_count": null,
   "metadata": {},
   "outputs": [],
   "source": []
  }
 ],
 "metadata": {
  "kernelspec": {
   "display_name": "venv",
   "language": "python",
   "name": "venv"
  },
  "language_info": {
   "codemirror_mode": {
    "name": "ipython",
    "version": 3
   },
   "file_extension": ".py",
   "mimetype": "text/x-python",
   "name": "python",
   "nbconvert_exporter": "python",
   "pygments_lexer": "ipython3",
   "version": "3.10.2"
  }
 },
 "nbformat": 4,
 "nbformat_minor": 4
}
