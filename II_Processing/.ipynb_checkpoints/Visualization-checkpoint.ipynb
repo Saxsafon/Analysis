{
 "cells": [
  {
   "cell_type": "code",
   "execution_count": null,
   "metadata": {},
   "outputs": [],
   "source": [
    "import pandas as pd\n",
    "import numpy as np\n",
    "\n",
    "import datetime as dt"
   ]
  },
  {
   "cell_type": "code",
   "execution_count": null,
   "metadata": {},
   "outputs": [],
   "source": [
    "from IPython.core.display import display, HTML # Расширить рабочее поле ноутбука на весь экран\n",
    "display(HTML(\"<style>.container { width:100% !important; }</style>\"))"
   ]
  },
  {
   "cell_type": "code",
   "execution_count": null,
   "metadata": {},
   "outputs": [],
   "source": [
    "pd.options.display.max_colwidth = 300 # Увеличить длинну отображаемых строк"
   ]
  },
  {
   "cell_type": "markdown",
   "metadata": {},
   "source": [
    "# Генерация данных"
   ]
  },
  {
   "cell_type": "code",
   "execution_count": null,
   "metadata": {},
   "outputs": [],
   "source": [
    "data = pd.DataFrame([\n",
    "            ['16-10-2021', '23:56:10', 'A', 'a1', '0001'], \n",
    "            ['16-10-2021', '23:58:30', 'A', 'a1', '0002'],\n",
    "            ['16-10-2021', '23:58:35', 'B', 'b1', '0003'],\n",
    "            ['16-10-2021', '23:58:56', 'B', 'b2', '0004'],\n",
    "            ['16-10-2021', '23:59:21', 'C', 'c1', '0005'],\n",
    "            ['16-10-2021', '23:59:42', 'C', 'c1', '0006'],\n",
    "\n",
    "            ['17-10-2021', '00:03:05', 'A', 'a1', '0007'],\n",
    "            ['17-10-2021', '00:03:25', 'A', 'a2', '0008'],\n",
    "            ['17-10-2021', '00:03:48', 'A', 'a3', '0009'],\n",
    "            ['17-10-2021', '00:05:24', 'B', 'b1', '0010'],\n",
    "            ['17-10-2021', '00:05:36', 'B', 'b1', '0011'],\n",
    "            ['17-10-2021', '00:05:44', 'B', 'b2', '0012'],\n",
    "            ['17-10-2021', '00:06:03', 'B', 'b2', '0013'],\n",
    "            ['17-10-2021', '03:12:13', 'B', 'b3', '0014'],\n",
    "            ['17-10-2021', '03:12:46', 'C', 'c1', '0015'],\n",
    "            ['17-10-2021', '13:06:54', 'C', 'c1', '0016'], \n",
    "            ['17-10-2021', '13:12:10', 'C', 'c2', '0017'], \n",
    "            ['17-10-2021', '19:48:30', 'C', 'c2', '0018'], \n",
    "\n",
    "            ['18-10-2021', '00:06:05', 'C', 'c1', '0019'], \n",
    "            ['18-10-2021', '03:08:03', 'C', 'c2', '0020'],\n",
    "            ['18-10-2021', '12:07:08', 'C', 'c3', '0021'],\n",
    "    \n",
    "            ['19-10-2021', '00:04:03', 'A', 'a1', '0022'], \n",
    "            ['19-10-2021', '02:08:20', 'A', 'a2', '0023'],\n",
    "            ['19-10-2021', '10:03:08', 'B', 'a2', '0024'],\n",
    "            ['19-10-2021', '12:07:08', 'B', 'b1', '0025'],\n",
    "    \n",
    "], columns=['str_date', 'str_time','group', 'sub_group','val_id'])\n",
    "\n",
    "data['datetime'] = data.apply(lambda row:  dt.datetime.strptime(f'{row.str_date} {row.str_time}', '%d-%m-%Y %H:%M:%S'), axis=1)\n",
    "\n",
    "data['date'] = data.datetime.dt.date\n",
    "data['time'] = data.datetime.dt.time\n",
    "data['week'] = data.datetime.dt.isocalendar().week # Получить номер недели\n",
    "data['weekday'] = data.datetime.dt.strftime('%A') # Получить день недели (на английском)\n",
    "\n",
    "\n",
    "datetime_cols = ['datetime', 'date','time','week','weekday']\n",
    "group_cols = ['group', 'sub_group']\n",
    "data = data[[*datetime_cols, *group_cols, 'val_id']]\n",
    "\n",
    "data"
   ]
  },
  {
   "cell_type": "markdown",
   "metadata": {},
   "source": [
    "# Pandas"
   ]
  },
  {
   "cell_type": "markdown",
   "metadata": {},
   "source": [
    "## Таблица"
   ]
  },
  {
   "cell_type": "code",
   "execution_count": null,
   "metadata": {},
   "outputs": [],
   "source": [
    "table = (\n",
    "    data\n",
    "        .pivot_table(\n",
    "                    index=['date', 'weekday'], \n",
    "                    columns=['group','sub_group'], \n",
    "                    values='val_id', \n",
    "                    aggfunc='nunique'\n",
    "        )\n",
    "        .fillna(0)\n",
    ")\n",
    "table"
   ]
  },
  {
   "cell_type": "code",
   "execution_count": null,
   "metadata": {},
   "outputs": [],
   "source": [
    "print(table.columns)\n",
    "A_cols = [col for col in table.columns if 'A' in col]\n",
    "B_cols = [col for col in table.columns if 'B' in col]\n",
    "C_cols = [col for col in table.columns if 'C' in col]"
   ]
  },
  {
   "cell_type": "code",
   "execution_count": null,
   "metadata": {},
   "outputs": [],
   "source": [
    "table_styled = (\n",
    "    table.style\n",
    "\n",
    "            .set_properties(**{\n",
    "                'text-align': 'center', \n",
    "                'width': '200px'})\n",
    "            .format({col: \"{}\" for col in table.columns})\n",
    "            .background_gradient(subset=A_cols, cmap='Greens')\n",
    "            .background_gradient(subset=B_cols, cmap='Greys')\n",
    "            .background_gradient(subset=C_cols, cmap='Reds')\n",
    "            .set_table_styles([{'selector': 'th', 'props': [('border-color', 'black'), \n",
    "                                                            ('border-style','solid')]}])\n",
    "    \n",
    ")\n",
    "\n",
    "table_styled"
   ]
  },
  {
   "cell_type": "markdown",
   "metadata": {},
   "source": [
    "# Plotly\n",
    "\n",
    "https://plotly.com/python/"
   ]
  },
  {
   "cell_type": "code",
   "execution_count": null,
   "metadata": {},
   "outputs": [],
   "source": [
    "import plotly.express as px\n",
    "import plotly.graph_objects as go"
   ]
  },
  {
   "cell_type": "markdown",
   "metadata": {},
   "source": [
    "В Plotly есть два отдельных пакета для рисования графиков: express и graph_objects. Первый как, говорят создатели, новее быстрее и лучше. Однако во втором, на мой взгляд, удобнее проводить тонкую настройку графиков. Потому я чаще всего пользуюсь graph_objects  "
   ]
  },
  {
   "cell_type": "markdown",
   "metadata": {},
   "source": [
    "## Bar chart - столбчатые диаграммы"
   ]
  },
  {
   "cell_type": "markdown",
   "metadata": {},
   "source": [
    "### Быстрый вариант"
   ]
  },
  {
   "cell_type": "code",
   "execution_count": null,
   "metadata": {},
   "outputs": [],
   "source": [
    "data.head()"
   ]
  },
  {
   "cell_type": "code",
   "execution_count": null,
   "metadata": {},
   "outputs": [],
   "source": [
    "x_col = 'date'\n",
    "y_col = 'val_id'\n",
    "group_col = 'group'\n",
    "\n",
    "df = data.groupby([x_col, group_col], as_index=False)[y_col].nunique()\n",
    "print(df.to_markdown())\n",
    "\n",
    "fig = px.bar(df, x=x_col, y=y_col, color=group_col, title=\"Динамика значений\")\n",
    "fig.show()"
   ]
  },
  {
   "cell_type": "code",
   "execution_count": null,
   "metadata": {},
   "outputs": [],
   "source": [
    "x_col = 'date'\n",
    "y_col = 'val_id'\n",
    "group_col = 'group'\n",
    "\n",
    "df = data.pivot_table(index=x_col, columns=group_col, values=y_col, aggfunc='nunique').fillna(0).reset_index()\n",
    "print(df.to_markdown())\n",
    "\n",
    "xaxis_title = \"Дата\"\n",
    "yaxis_title = 'Количество значений'\n",
    "title = 'Динамика значений'\n",
    "\n",
    "fig = go.Figure(data=[\n",
    "    go.Bar(name=group, x=df[x_col], y=df[group])\n",
    "    \n",
    "    for group in data[group_col].unique()\n",
    "])\n",
    "\n",
    "fig.update_layout(\n",
    "    title = title,\n",
    "    xaxis_title=xaxis_title,\n",
    "    yaxis_title=yaxis_title,\n",
    "    width=800,\n",
    "    height=600,\n",
    "    barmode='stack',\n",
    ")\n",
    "\n",
    "fig.show()"
   ]
  },
  {
   "cell_type": "markdown",
   "metadata": {},
   "source": [
    "### Диаграмма с текстами"
   ]
  },
  {
   "cell_type": "code",
   "execution_count": null,
   "metadata": {},
   "outputs": [],
   "source": [
    "x_col = 'date'\n",
    "y_col = 'val_id'\n",
    "group_col = 'group'\n",
    "\n",
    "df = data.pivot_table(index=x_col, columns=group_col, values=y_col, aggfunc='nunique').fillna(0).reset_index()\n",
    "\n",
    "# Посчитаем проценты для каждой группы\n",
    "groups = data[group_col].unique().tolist()\n",
    "df['Sum'] = df[groups].sum(axis=1)\n",
    "for group in data[group_col].unique():\n",
    "    df[f\"{group}%\"] = df.apply(lambda row: f\"{int(np.round(row[group]*100/row['Sum']))}%\", axis=1)\n",
    "\n",
    "\n",
    "print(df.to_markdown())\n",
    "\n",
    "xaxis_title = \"Дата\"\n",
    "yaxis_title = 'Количество значений'\n",
    "title = 'Динамика значений'\n",
    "\n",
    "fig = go.Figure(data=[\n",
    "    go.Bar(\n",
    "        name=group, \n",
    "        x=df[x_col], y=df[group], \n",
    "        text=df[f'{group}%'],  textposition = 'inside'\n",
    "    )\n",
    "    \n",
    "    for group in data[group_col].unique()\n",
    "])\n",
    "\n",
    "fig.update_layout(\n",
    "    title = title,\n",
    "    xaxis_title=xaxis_title,\n",
    "    yaxis_title=yaxis_title,\n",
    "    width=800,\n",
    "    height=600,\n",
    "    barmode='stack',\n",
    ")\n",
    "\n",
    "fig.show()"
   ]
  },
  {
   "cell_type": "markdown",
   "metadata": {},
   "source": [
    "## Pie chart - круговые диаграммы"
   ]
  },
  {
   "cell_type": "markdown",
   "metadata": {},
   "source": [
    "### Простой вариант с текстами"
   ]
  },
  {
   "cell_type": "code",
   "execution_count": null,
   "metadata": {},
   "outputs": [],
   "source": [
    "df = data.group.value_counts().reset_index().rename(columns={'index': 'Группа','group': 'Количество'})\n",
    "print(df.to_markdown())\n",
    "\n",
    "fig = px.pie(df, names='Группа', values= 'Количество')\n",
    "fig.update_traces(textposition='inside', textinfo='value+percent+label')\n",
    "\n",
    "fig.show(\"notebook\")"
   ]
  },
  {
   "cell_type": "markdown",
   "metadata": {},
   "source": [
    "### Кргуговая диаграмма с текстами в легенде (бывает полезно, когда есть маленькие доли)"
   ]
  },
  {
   "cell_type": "code",
   "execution_count": null,
   "metadata": {},
   "outputs": [],
   "source": [
    "df = data.group.value_counts().reset_index().rename(columns={'index': 'Группа','group': 'Количество'})\n",
    "\n",
    "df['Процент'] = df.apply(lambda row: np.round(row['Количество']*100/df['Количество'].sum(), 3), axis=1)\n",
    "df['Текст'] = df.apply(lambda row: f\"{row['Группа']} ({row['Процент']}%) ({row['Количество']})\", axis=1)\n",
    "\n",
    "fig = go.Figure(data=[\n",
    "    go.Pie(labels=df['Текст'], values=df['Процент'])\n",
    "])\n",
    "\n",
    "\n",
    "\n",
    "\n",
    "fig.update_traces(hoverinfo='label+percent', textinfo='none', textfont_size=20)\n",
    "fig.show()"
   ]
  },
  {
   "cell_type": "markdown",
   "metadata": {},
   "source": [
    "##  Line chart - линейный график"
   ]
  },
  {
   "cell_type": "markdown",
   "metadata": {},
   "source": [
    "#### В некоторых случаях проще воспользоваться методом .scatter"
   ]
  },
  {
   "cell_type": "code",
   "execution_count": null,
   "metadata": {},
   "outputs": [],
   "source": [
    "x_col = 'date'\n",
    "y_col = 'val_id'\n",
    "group_col = 'group'\n",
    "\n",
    "df = data.pivot_table(index=x_col, columns=group_col, values=y_col, aggfunc='nunique').fillna(0).reset_index()\n",
    "print(df.to_markdown())\n",
    "\n",
    "xaxis_title = \"Дата\"\n",
    "yaxis_title = 'Количество значений'\n",
    "title = 'Динамика значений'\n",
    "\n",
    "fig = go.Figure(data=[\n",
    "    go.Scatter(x=df[x_col], y=df[group], name=group)\n",
    "    \n",
    "    for group in data[group_col].unique()\n",
    "\n",
    "])\n",
    "\n",
    "fig.update_layout(\n",
    "    title=title,\n",
    "    xaxis_title=xaxis_title,\n",
    "    yaxis_title=yaxis_title\n",
    ")\n",
    "\n",
    "fig.show()"
   ]
  },
  {
   "cell_type": "markdown",
   "metadata": {},
   "source": [
    "### Скользящее среднее"
   ]
  },
  {
   "cell_type": "code",
   "execution_count": null,
   "metadata": {},
   "outputs": [],
   "source": [
    "dates = pd.date_range(start='09/01/2021', end='10/30/2021')\n",
    "values = np.random.choice(range(100), len(dates), replace=True)\n",
    "\n",
    "df = pd.DataFrame({\n",
    "    'date': dates,\n",
    "    'value': values,\n",
    "})\n",
    "\n",
    "df['rolling'] = df.value.rolling(7).mean()\n",
    "\n",
    "df.head(15)"
   ]
  },
  {
   "cell_type": "markdown",
   "metadata": {},
   "source": [
    "### Вертикальные линии и выделения областей\n",
    "\n",
    "- https://plotly.com/python/horizontal-vertical-shapes/"
   ]
  },
  {
   "cell_type": "code",
   "execution_count": null,
   "metadata": {},
   "outputs": [],
   "source": [
    "x_col = 'date'\n",
    "y_col1 = 'value'\n",
    "y_col2 = 'rolling'\n",
    "\n",
    "xaxis_title = \"Дата\"\n",
    "yaxis_title = 'Количество'\n",
    "\n",
    "fig = go.Figure(data=[\n",
    "    go.Scatter(x=df[x_col], y=df[y_col1], marker_color='#D7DBDD', name = 'Количество в день'),\n",
    "    go.Scatter(x=df[x_col], y=df[y_col2], marker_color='#4D5656', name = 'Среднее количество за неделю')\n",
    "])\n",
    "\n",
    "fig.update_layout(\n",
    "    xaxis_title=xaxis_title,\n",
    "    yaxis_title=yaxis_title\n",
    ")\n",
    "\n",
    "fig.add_vrect(\n",
    "    x0='2021-09-16', \n",
    "    x1='2021-09-16',\n",
    "    line_width=1, \n",
    "    line_dash=\"dash\", \n",
    "    line_color=\"green\",\n",
    "    annotation_text=\"Началальная дата\",\n",
    "\n",
    ")\n",
    "\n",
    "\n",
    "fig.add_vrect(\n",
    "    x0='2021-10-10', \n",
    "    x1='2021-10-17', \n",
    "    fillcolor=\"green\", \n",
    "    opacity=0.25, \n",
    "    line_width=0,\n",
    "    annotation_text=\"Зеленая зона\",\n",
    "\n",
    ")\n",
    "\n",
    "fig.add_hrect(\n",
    "    y0=0, \n",
    "    y1=20,\n",
    "    fillcolor=\"red\",\n",
    "    opacity=0.25, \n",
    "    line_width=0,\n",
    "    annotation_text=\"Красная зона\",\n",
    "\n",
    ")\n",
    "\n",
    "fig.show()"
   ]
  },
  {
   "cell_type": "markdown",
   "metadata": {},
   "source": [
    "### Горизонтальные линии и разноцветные маркеры"
   ]
  },
  {
   "cell_type": "code",
   "execution_count": null,
   "metadata": {},
   "outputs": [],
   "source": []
  },
  {
   "cell_type": "markdown",
   "metadata": {},
   "source": [
    "## Визуализация катировок"
   ]
  },
  {
   "cell_type": "code",
   "execution_count": null,
   "metadata": {},
   "outputs": [],
   "source": [
    "stock = pd.read_csv('data/stock.csv')\n",
    "stock.head()"
   ]
  },
  {
   "cell_type": "markdown",
   "metadata": {},
   "source": [
    "### Candlestick Charts - японские свечи\n",
    "https://plotly.com/python/candlestick-charts/"
   ]
  },
  {
   "cell_type": "code",
   "execution_count": null,
   "metadata": {},
   "outputs": [],
   "source": [
    "fig = go.Figure(data=[\n",
    "    go.Candlestick(\n",
    "        x=df['hour'],\n",
    "        open=df['open'],\n",
    "        high=df['high'],\n",
    "        low=df['low'],\n",
    "        close=df['close'])\n",
    "])\n",
    "\n",
    "fig.update_layout(xaxis_rangeslider_visible=False)\n",
    "\n",
    "fig.show()"
   ]
  },
  {
   "cell_type": "markdown",
   "metadata": {},
   "source": [
    "### OHLC Charts\n",
    "https://plotly.com/python/ohlc-charts/"
   ]
  },
  {
   "cell_type": "code",
   "execution_count": null,
   "metadata": {},
   "outputs": [],
   "source": [
    "fig = go.Figure(data=[\n",
    "    go.Ohlc(\n",
    "        x=df['hour'],\n",
    "        open=df['open'],\n",
    "        high=df['high'],\n",
    "        low=df['low'],\n",
    "        close=df['close'])\n",
    "])\n",
    "\n",
    "fig.update(layout_xaxis_rangeslider_visible=False)\n",
    "\n",
    "fig.show()"
   ]
  }
 ],
 "metadata": {
  "kernelspec": {
   "display_name": "venv",
   "language": "python",
   "name": "venv"
  },
  "language_info": {
   "codemirror_mode": {
    "name": "ipython",
    "version": 3
   },
   "file_extension": ".py",
   "mimetype": "text/x-python",
   "name": "python",
   "nbconvert_exporter": "python",
   "pygments_lexer": "ipython3",
   "version": "3.7.3"
  }
 },
 "nbformat": 4,
 "nbformat_minor": 4
}
