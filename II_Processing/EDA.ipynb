{
 "cells": [
  {
   "cell_type": "markdown",
   "metadata": {},
   "source": [
    "# Настройка ноутбука"
   ]
  },
  {
   "cell_type": "code",
   "execution_count": 2,
   "metadata": {},
   "outputs": [],
   "source": [
    "import pandas as pd\n",
    "import numpy as np\n",
    "\n",
    "import datetime as dt\n",
    "\n",
    "import matplotlib.pyplot as plt"
   ]
  },
  {
   "cell_type": "code",
   "execution_count": 3,
   "metadata": {},
   "outputs": [
    {
     "data": {
      "text/html": [
       "<style>.container { width:100% !important; }</style>"
      ],
      "text/plain": [
       "<IPython.core.display.HTML object>"
      ]
     },
     "metadata": {},
     "output_type": "display_data"
    }
   ],
   "source": [
    "# Расширить рабочее поле ноутбука на весь экран\n",
    "from IPython.display import display, HTML\n",
    "display(HTML(\"<style>.container { width:100% !important; }</style>\"))"
   ]
  },
  {
   "cell_type": "code",
   "execution_count": 4,
   "metadata": {},
   "outputs": [],
   "source": [
    "# Увеличить длинну отображаемых строк\n",
    "pd.options.display.max_colwidth = 300"
   ]
  },
  {
   "cell_type": "markdown",
   "metadata": {},
   "source": [
    "# Описание"
   ]
  },
  {
   "cell_type": "markdown",
   "metadata": {},
   "source": [
    "- [Medium: 8 Seaborn Plots for Univariate Exploratory Data Analysis (EDA) in Python](https://towardsdatascience.com/8-seaborn-plots-for-univariate-exploratory-data-analysis-eda-in-python-9d280b6fe67f)"
   ]
  },
  {
   "cell_type": "markdown",
   "metadata": {},
   "source": [
    "# Генерация данных"
   ]
  },
  {
   "cell_type": "code",
   "execution_count": 5,
   "metadata": {},
   "outputs": [],
   "source": [
    "init_data = pd.DataFrame([\n",
    "            ['16-10-2021', '23:56:10', 'A', 'a1', '0001', 5, np.nan],\n",
    "            ['16-10-2021', '23:56:10', 'A', 'a1', '0001', 5, np.nan],\n",
    "            ['16-10-2021', '23:58:30', 'A', 'a1', '0002', np.random.randint(100), np.nan],\n",
    "            ['16-10-2021', '23:58:35', 'B', 'b1', '0003', np.random.randint(100), np.nan],\n",
    "            ['16-10-2021', '23:58:36', 'B', 'b1', np.nan, np.nan, np.nan],\n",
    "            ['16-10-2021', '23:58:42', np.nan, 'c1', np.nan, np.random.randint(100), np.nan],\n",
    "            ['16-10-2021', '23:58:59', np.nan, 'c1', np.nan, np.random.randint(100), np.nan],\n",
    "            ['16-10-2021', '23:58:56', 'B', 'b2', '0004', np.random.randint(100), np.nan],\n",
    "            ['16-10-2021', '23:59:21', 'C', 'c1', '0005', np.random.randint(100), np.nan],\n",
    "            ['16-10-2021', '23:59:42', 'C', 'c1', '0006', np.random.randint(100), np.nan],\n",
    "\n",
    "            ['17-10-2021', '00:03:05', 'A', 'a1', '0007', np.random.randint(100), np.nan],\n",
    "            ['17-10-2021', '00:03:25', 'A', 'a2', '0008', np.random.randint(100), np.nan],\n",
    "            ['17-10-2021', '00:03:48', 'A', 'a3', '0009', np.random.randint(100), np.nan],\n",
    "            ['17-10-2021', '00:05:24', 'B', 'b1', '0010', 3, np.nan],\n",
    "            ['17-10-2021', '00:05:24', 'B', 'b1', '0010', 3, np.nan],\n",
    "            ['17-10-2021', '00:05:36', 'B', 'b1', '0011', np.random.randint(100), np.nan],\n",
    "            ['17-10-2021', '00:05:44', 'B', 'b2', '0012', np.random.randint(100), np.nan],\n",
    "            ['17-10-2021', '00:05:48', np.nan, np.nan, np.nan, np.random.randint(100), np.nan],\n",
    "            ['17-10-2021', '00:06:01', np.nan, np.nan, np.nan, np.nan, np.nan],\n",
    "            ['17-10-2021', '00:06:03', 'B', 'b2', '0013', np.random.randint(100), np.nan],\n",
    "            ['17-10-2021', '03:12:13', 'B', 'b3', '0014', np.random.randint(100), np.nan],\n",
    "            ['17-10-2021', '03:12:46', 'C', 'c1', '0015', np.random.randint(100), np.nan],\n",
    "            ['17-10-2021', '13:06:54', 'C', 'c1', '0016', 1, np.nan],\n",
    "            ['17-10-2021', '13:06:54', 'C', 'c1', '0016', 1, np.nan],\n",
    "            ['17-10-2021', '13:12:10', 'C', 'c2', '0017', np.random.randint(100), np.nan], \n",
    "            ['17-10-2021', '19:48:30', 'C', 'c2', '0018', np.random.randint(100), np.nan], \n",
    "\n",
    "            ['18-10-2021', '00:06:05', 'C', 'c1', '0019', np.random.randint(100), np.nan], \n",
    "            ['18-10-2021', '03:08:03', 'C', 'c2', '0020', np.random.randint(100), np.nan],\n",
    "            ['18-10-2021', '04:08:03', 'C', np.nan, np.nan, np.nan, np.nan],\n",
    "            ['18-10-2021', '12:07:08', 'C', 'c3', '0021', np.random.randint(100), np.nan],\n",
    "    \n",
    "            ['19-10-2021', '00:04:03', 'A', 'a1', '0022', np.random.randint(100), np.nan],\n",
    "            ['19-10-2021', '00:04:33','00:04:04', np.nan, np.nan, np.nan, np.nan],\n",
    "            ['19-10-2021', '00:04:43', np.nan, np.nan, np.nan, np.nan, np.nan],\n",
    "            ['19-10-2021', '00:05:02', np.nan, np.nan, np.nan, np.nan, np.nan],\n",
    "            ['19-10-2021','00:05:05', np.nan, np.nan, np.nan, np.nan, np.nan],\n",
    "            ['19-10-2021', '02:08:20', 'A', 'a2', '0023', np.random.randint(100), np.nan],\n",
    "            ['19-10-2021', '10:03:08', 'B', 'a2', '0024', 8, np.nan],\n",
    "            ['19-10-2021', '10:03:08', 'B', 'a2', '0024', 8, np.nan],\n",
    "            ['19-10-2021', '12:07:08', 'B', 'b1', '0025', np.random.randint(100), np.nan],\n",
    "    \n",
    "], columns=['str_date', 'str_time','group', 'sub_group','val_id', '$value', '$zero'])"
   ]
  },
  {
   "cell_type": "code",
   "execution_count": 6,
   "metadata": {},
   "outputs": [],
   "source": [
    "data = init_data.copy()"
   ]
  },
  {
   "cell_type": "markdown",
   "metadata": {},
   "source": [
    "# EDA (Exploratory Data Analysis)\n",
    "\n",
    "1. Univariate analysis - фокусируемся на одном значении (колонке) за раз\n",
    "2. multivariate analysis - фокусируемся сразу на нескольких значениях\n",
    "\n",
    "**Основные типы данных:**\n",
    "- Numerical - числовые \n",
    "- Categorical - категориальные\n",
    "- Ordinal - числовые данные обозначающие порядок\n"
   ]
  },
  {
   "cell_type": "markdown",
   "metadata": {},
   "source": [
    "# Характеристики датасета"
   ]
  },
  {
   "cell_type": "markdown",
   "metadata": {},
   "source": [
    "## Вид датасета"
   ]
  },
  {
   "cell_type": "code",
   "execution_count": 7,
   "metadata": {},
   "outputs": [
    {
     "name": "stdout",
     "output_type": "stream",
     "text": [
      "Первые 5 записей: \n"
     ]
    },
    {
     "data": {
      "text/html": [
       "<div>\n",
       "<style scoped>\n",
       "    .dataframe tbody tr th:only-of-type {\n",
       "        vertical-align: middle;\n",
       "    }\n",
       "\n",
       "    .dataframe tbody tr th {\n",
       "        vertical-align: top;\n",
       "    }\n",
       "\n",
       "    .dataframe thead th {\n",
       "        text-align: right;\n",
       "    }\n",
       "</style>\n",
       "<table border=\"1\" class=\"dataframe\">\n",
       "  <thead>\n",
       "    <tr style=\"text-align: right;\">\n",
       "      <th></th>\n",
       "      <th>str_date</th>\n",
       "      <th>str_time</th>\n",
       "      <th>group</th>\n",
       "      <th>sub_group</th>\n",
       "      <th>val_id</th>\n",
       "      <th>$value</th>\n",
       "      <th>$zero</th>\n",
       "    </tr>\n",
       "  </thead>\n",
       "  <tbody>\n",
       "    <tr>\n",
       "      <th>0</th>\n",
       "      <td>16-10-2021</td>\n",
       "      <td>23:56:10</td>\n",
       "      <td>A</td>\n",
       "      <td>a1</td>\n",
       "      <td>0001</td>\n",
       "      <td>5.0</td>\n",
       "      <td>NaN</td>\n",
       "    </tr>\n",
       "    <tr>\n",
       "      <th>1</th>\n",
       "      <td>16-10-2021</td>\n",
       "      <td>23:56:10</td>\n",
       "      <td>A</td>\n",
       "      <td>a1</td>\n",
       "      <td>0001</td>\n",
       "      <td>5.0</td>\n",
       "      <td>NaN</td>\n",
       "    </tr>\n",
       "    <tr>\n",
       "      <th>2</th>\n",
       "      <td>16-10-2021</td>\n",
       "      <td>23:58:30</td>\n",
       "      <td>A</td>\n",
       "      <td>a1</td>\n",
       "      <td>0002</td>\n",
       "      <td>45.0</td>\n",
       "      <td>NaN</td>\n",
       "    </tr>\n",
       "    <tr>\n",
       "      <th>3</th>\n",
       "      <td>16-10-2021</td>\n",
       "      <td>23:58:35</td>\n",
       "      <td>B</td>\n",
       "      <td>b1</td>\n",
       "      <td>0003</td>\n",
       "      <td>96.0</td>\n",
       "      <td>NaN</td>\n",
       "    </tr>\n",
       "    <tr>\n",
       "      <th>4</th>\n",
       "      <td>16-10-2021</td>\n",
       "      <td>23:58:36</td>\n",
       "      <td>B</td>\n",
       "      <td>b1</td>\n",
       "      <td>NaN</td>\n",
       "      <td>NaN</td>\n",
       "      <td>NaN</td>\n",
       "    </tr>\n",
       "  </tbody>\n",
       "</table>\n",
       "</div>"
      ],
      "text/plain": [
       "     str_date  str_time group sub_group val_id  $value  $zero\n",
       "0  16-10-2021  23:56:10     A        a1   0001     5.0    NaN\n",
       "1  16-10-2021  23:56:10     A        a1   0001     5.0    NaN\n",
       "2  16-10-2021  23:58:30     A        a1   0002    45.0    NaN\n",
       "3  16-10-2021  23:58:35     B        b1   0003    96.0    NaN\n",
       "4  16-10-2021  23:58:36     B        b1    NaN     NaN    NaN"
      ]
     },
     "metadata": {},
     "output_type": "display_data"
    },
    {
     "name": "stdout",
     "output_type": "stream",
     "text": [
      "\n",
      "Последние 5 записей: \n"
     ]
    },
    {
     "data": {
      "text/html": [
       "<div>\n",
       "<style scoped>\n",
       "    .dataframe tbody tr th:only-of-type {\n",
       "        vertical-align: middle;\n",
       "    }\n",
       "\n",
       "    .dataframe tbody tr th {\n",
       "        vertical-align: top;\n",
       "    }\n",
       "\n",
       "    .dataframe thead th {\n",
       "        text-align: right;\n",
       "    }\n",
       "</style>\n",
       "<table border=\"1\" class=\"dataframe\">\n",
       "  <thead>\n",
       "    <tr style=\"text-align: right;\">\n",
       "      <th></th>\n",
       "      <th>str_date</th>\n",
       "      <th>str_time</th>\n",
       "      <th>group</th>\n",
       "      <th>sub_group</th>\n",
       "      <th>val_id</th>\n",
       "      <th>$value</th>\n",
       "      <th>$zero</th>\n",
       "    </tr>\n",
       "  </thead>\n",
       "  <tbody>\n",
       "    <tr>\n",
       "      <th>34</th>\n",
       "      <td>19-10-2021</td>\n",
       "      <td>00:05:05</td>\n",
       "      <td>NaN</td>\n",
       "      <td>NaN</td>\n",
       "      <td>NaN</td>\n",
       "      <td>NaN</td>\n",
       "      <td>NaN</td>\n",
       "    </tr>\n",
       "    <tr>\n",
       "      <th>35</th>\n",
       "      <td>19-10-2021</td>\n",
       "      <td>02:08:20</td>\n",
       "      <td>A</td>\n",
       "      <td>a2</td>\n",
       "      <td>0023</td>\n",
       "      <td>99.0</td>\n",
       "      <td>NaN</td>\n",
       "    </tr>\n",
       "    <tr>\n",
       "      <th>36</th>\n",
       "      <td>19-10-2021</td>\n",
       "      <td>10:03:08</td>\n",
       "      <td>B</td>\n",
       "      <td>a2</td>\n",
       "      <td>0024</td>\n",
       "      <td>8.0</td>\n",
       "      <td>NaN</td>\n",
       "    </tr>\n",
       "    <tr>\n",
       "      <th>37</th>\n",
       "      <td>19-10-2021</td>\n",
       "      <td>10:03:08</td>\n",
       "      <td>B</td>\n",
       "      <td>a2</td>\n",
       "      <td>0024</td>\n",
       "      <td>8.0</td>\n",
       "      <td>NaN</td>\n",
       "    </tr>\n",
       "    <tr>\n",
       "      <th>38</th>\n",
       "      <td>19-10-2021</td>\n",
       "      <td>12:07:08</td>\n",
       "      <td>B</td>\n",
       "      <td>b1</td>\n",
       "      <td>0025</td>\n",
       "      <td>75.0</td>\n",
       "      <td>NaN</td>\n",
       "    </tr>\n",
       "  </tbody>\n",
       "</table>\n",
       "</div>"
      ],
      "text/plain": [
       "      str_date  str_time group sub_group val_id  $value  $zero\n",
       "34  19-10-2021  00:05:05   NaN       NaN    NaN     NaN    NaN\n",
       "35  19-10-2021  02:08:20     A        a2   0023    99.0    NaN\n",
       "36  19-10-2021  10:03:08     B        a2   0024     8.0    NaN\n",
       "37  19-10-2021  10:03:08     B        a2   0024     8.0    NaN\n",
       "38  19-10-2021  12:07:08     B        b1   0025    75.0    NaN"
      ]
     },
     "metadata": {},
     "output_type": "display_data"
    }
   ],
   "source": [
    "print(\"Первые 5 записей: \")\n",
    "display(data.head(5))\n",
    "\n",
    "print(\"\\nПоследние 5 записей: \")\n",
    "display(data.tail(5))"
   ]
  },
  {
   "cell_type": "markdown",
   "metadata": {},
   "source": [
    "## Размер датасета"
   ]
  },
  {
   "cell_type": "code",
   "execution_count": 8,
   "metadata": {},
   "outputs": [
    {
     "data": {
      "text/plain": [
       "(39, 7)"
      ]
     },
     "execution_count": 8,
     "metadata": {},
     "output_type": "execute_result"
    }
   ],
   "source": [
    "data.shape"
   ]
  },
  {
   "cell_type": "markdown",
   "metadata": {},
   "source": [
    "## Список колонок"
   ]
  },
  {
   "cell_type": "code",
   "execution_count": 9,
   "metadata": {},
   "outputs": [
    {
     "data": {
      "text/plain": [
       "Index(['str_date', 'str_time', 'group', 'sub_group', 'val_id', '$value',\n",
       "       '$zero'],\n",
       "      dtype='object')"
      ]
     },
     "execution_count": 9,
     "metadata": {},
     "output_type": "execute_result"
    }
   ],
   "source": [
    "data.columns"
   ]
  },
  {
   "cell_type": "code",
   "execution_count": 10,
   "metadata": {},
   "outputs": [],
   "source": [
    "cols = ['$zero']\n",
    "data = data.drop(cols, axis=1)"
   ]
  },
  {
   "cell_type": "markdown",
   "metadata": {},
   "source": [
    "## Типы данных в колонках"
   ]
  },
  {
   "cell_type": "code",
   "execution_count": 11,
   "metadata": {},
   "outputs": [
    {
     "data": {
      "text/plain": [
       "str_date      object\n",
       "str_time      object\n",
       "group         object\n",
       "sub_group     object\n",
       "val_id        object\n",
       "$value       float64\n",
       "dtype: object"
      ]
     },
     "execution_count": 11,
     "metadata": {},
     "output_type": "execute_result"
    }
   ],
   "source": [
    "data.dtypes"
   ]
  },
  {
   "cell_type": "code",
   "execution_count": 12,
   "metadata": {},
   "outputs": [],
   "source": [
    "data = data.rename(columns={'$value': 'value'})"
   ]
  },
  {
   "cell_type": "code",
   "execution_count": 13,
   "metadata": {},
   "outputs": [
    {
     "data": {
      "text/plain": [
       "str_date             object\n",
       "str_time             object\n",
       "group                object\n",
       "sub_group            object\n",
       "val_id               object\n",
       "value               float64\n",
       "datetime     datetime64[ns]\n",
       "date                 object\n",
       "time                 object\n",
       "week                 UInt32\n",
       "dtype: object"
      ]
     },
     "execution_count": 13,
     "metadata": {},
     "output_type": "execute_result"
    }
   ],
   "source": [
    "data['datetime'] = data.apply(lambda row:  dt.datetime.strptime(f'{row.str_date} {row.str_time}', '%d-%m-%Y %H:%M:%S'), axis=1)\n",
    "\n",
    "data['date'] = data.datetime.dt.date\n",
    "data['time'] = data.datetime.dt.time\n",
    "data['week'] = data.datetime.dt.isocalendar().week # Получить номер недели\n",
    "data.dtypes"
   ]
  },
  {
   "cell_type": "code",
   "execution_count": 14,
   "metadata": {},
   "outputs": [],
   "source": [
    "col = 'week'\n",
    "data[col] = data[col].astype('int')"
   ]
  },
  {
   "cell_type": "markdown",
   "metadata": {},
   "source": [
    "## Работа с пустыми значениями"
   ]
  },
  {
   "cell_type": "markdown",
   "metadata": {},
   "source": [
    "### Подсчет"
   ]
  },
  {
   "cell_type": "code",
   "execution_count": 15,
   "metadata": {},
   "outputs": [
    {
     "data": {
      "text/html": [
       "<div>\n",
       "<style scoped>\n",
       "    .dataframe tbody tr th:only-of-type {\n",
       "        vertical-align: middle;\n",
       "    }\n",
       "\n",
       "    .dataframe tbody tr th {\n",
       "        vertical-align: top;\n",
       "    }\n",
       "\n",
       "    .dataframe thead th {\n",
       "        text-align: right;\n",
       "    }\n",
       "</style>\n",
       "<table border=\"1\" class=\"dataframe\">\n",
       "  <thead>\n",
       "    <tr style=\"text-align: right;\">\n",
       "      <th></th>\n",
       "      <th>num</th>\n",
       "      <th>%</th>\n",
       "    </tr>\n",
       "  </thead>\n",
       "  <tbody>\n",
       "    <tr>\n",
       "      <th>str_date</th>\n",
       "      <td>0</td>\n",
       "      <td>0.00</td>\n",
       "    </tr>\n",
       "    <tr>\n",
       "      <th>str_time</th>\n",
       "      <td>0</td>\n",
       "      <td>0.00</td>\n",
       "    </tr>\n",
       "    <tr>\n",
       "      <th>group</th>\n",
       "      <td>7</td>\n",
       "      <td>17.95</td>\n",
       "    </tr>\n",
       "    <tr>\n",
       "      <th>sub_group</th>\n",
       "      <td>7</td>\n",
       "      <td>17.95</td>\n",
       "    </tr>\n",
       "    <tr>\n",
       "      <th>val_id</th>\n",
       "      <td>10</td>\n",
       "      <td>25.64</td>\n",
       "    </tr>\n",
       "    <tr>\n",
       "      <th>value</th>\n",
       "      <td>7</td>\n",
       "      <td>17.95</td>\n",
       "    </tr>\n",
       "    <tr>\n",
       "      <th>datetime</th>\n",
       "      <td>0</td>\n",
       "      <td>0.00</td>\n",
       "    </tr>\n",
       "    <tr>\n",
       "      <th>date</th>\n",
       "      <td>0</td>\n",
       "      <td>0.00</td>\n",
       "    </tr>\n",
       "    <tr>\n",
       "      <th>time</th>\n",
       "      <td>0</td>\n",
       "      <td>0.00</td>\n",
       "    </tr>\n",
       "    <tr>\n",
       "      <th>week</th>\n",
       "      <td>0</td>\n",
       "      <td>0.00</td>\n",
       "    </tr>\n",
       "  </tbody>\n",
       "</table>\n",
       "</div>"
      ],
      "text/plain": [
       "           num      %\n",
       "str_date     0   0.00\n",
       "str_time     0   0.00\n",
       "group        7  17.95\n",
       "sub_group    7  17.95\n",
       "val_id      10  25.64\n",
       "value        7  17.95\n",
       "datetime     0   0.00\n",
       "date         0   0.00\n",
       "time         0   0.00\n",
       "week         0   0.00"
      ]
     },
     "execution_count": 15,
     "metadata": {},
     "output_type": "execute_result"
    }
   ],
   "source": [
    "pd.concat([\n",
    "    data.isna().sum().rename('num'),\n",
    "    np.round(data.isnull().sum() / data.shape[0] * 100, 2).rename('%'),\n",
    "], axis=1)"
   ]
  },
  {
   "cell_type": "markdown",
   "metadata": {},
   "source": [
    "### Визуализация"
   ]
  },
  {
   "cell_type": "code",
   "execution_count": 16,
   "metadata": {},
   "outputs": [
    {
     "data": {
      "image/png": "[encoded data removed]",
      "text/plain": [
       "<Figure size 720x576 with 1 Axes>"
      ]
     },
     "metadata": {
      "needs_background": "light"
     },
     "output_type": "display_data"
    }
   ],
   "source": [
    "plt.figure(figsize=(10, 8))\n",
    "plt.imshow(data.isna(), aspect=\"auto\", interpolation=\"nearest\", cmap=\"gray\")\n",
    "plt.xlabel(\"Column Number\")\n",
    "plt.ylabel(\"Sample Number\");"
   ]
  },
  {
   "cell_type": "code",
   "execution_count": 17,
   "metadata": {},
   "outputs": [
    {
     "ename": "ModuleNotFoundError",
     "evalue": "No module named 'missingno'",
     "output_type": "error",
     "traceback": [
      "\u001b[1;31m---------------------------------------------------------------------------\u001b[0m",
      "\u001b[1;31mModuleNotFoundError\u001b[0m                       Traceback (most recent call last)",
      "Input \u001b[1;32mIn [17]\u001b[0m, in \u001b[0;36m<cell line: 1>\u001b[1;34m()\u001b[0m\n\u001b[1;32m----> 1\u001b[0m \u001b[38;5;28;01mimport\u001b[39;00m \u001b[38;5;21;01mmissingno\u001b[39;00m \u001b[38;5;28;01mas\u001b[39;00m \u001b[38;5;21;01mmsno\u001b[39;00m\n\u001b[0;32m      2\u001b[0m \u001b[38;5;66;03m# Здесь вроде ошибка\u001b[39;00m\n\u001b[0;32m      3\u001b[0m msno\u001b[38;5;241m.\u001b[39mmatrix(data, labels\u001b[38;5;241m=\u001b[39m\u001b[38;5;28;01mTrue\u001b[39;00m, sort\u001b[38;5;241m=\u001b[39m\u001b[38;5;124m\"\u001b[39m\u001b[38;5;124mdescending\u001b[39m\u001b[38;5;124m\"\u001b[39m)\n",
      "\u001b[1;31mModuleNotFoundError\u001b[0m: No module named 'missingno'"
     ]
    }
   ],
   "source": [
    "import missingno as msno\n",
    "# Здесь вроде ошибка\n",
    "msno.matrix(data, labels=True, sort=\"descending\");"
   ]
  },
  {
   "cell_type": "markdown",
   "metadata": {},
   "source": [
    "### Заполнение"
   ]
  },
  {
   "cell_type": "code",
   "execution_count": 18,
   "metadata": {},
   "outputs": [],
   "source": [
    "val = 0\n",
    "data = data.fillna(val)"
   ]
  },
  {
   "cell_type": "markdown",
   "metadata": {},
   "source": [
    "## Дубликаты"
   ]
  },
  {
   "cell_type": "code",
   "execution_count": 19,
   "metadata": {},
   "outputs": [
    {
     "data": {
      "text/plain": [
       "4"
      ]
     },
     "execution_count": 19,
     "metadata": {},
     "output_type": "execute_result"
    }
   ],
   "source": [
    "data.duplicated().sum()"
   ]
  },
  {
   "cell_type": "code",
   "execution_count": 20,
   "metadata": {},
   "outputs": [
    {
     "data": {
      "text/html": [
       "<div>\n",
       "<style scoped>\n",
       "    .dataframe tbody tr th:only-of-type {\n",
       "        vertical-align: middle;\n",
       "    }\n",
       "\n",
       "    .dataframe tbody tr th {\n",
       "        vertical-align: top;\n",
       "    }\n",
       "\n",
       "    .dataframe thead th {\n",
       "        text-align: right;\n",
       "    }\n",
       "</style>\n",
       "<table border=\"1\" class=\"dataframe\">\n",
       "  <thead>\n",
       "    <tr style=\"text-align: right;\">\n",
       "      <th></th>\n",
       "      <th>str_date</th>\n",
       "      <th>str_time</th>\n",
       "      <th>group</th>\n",
       "      <th>sub_group</th>\n",
       "      <th>val_id</th>\n",
       "      <th>value</th>\n",
       "      <th>datetime</th>\n",
       "      <th>date</th>\n",
       "      <th>time</th>\n",
       "      <th>week</th>\n",
       "    </tr>\n",
       "  </thead>\n",
       "  <tbody>\n",
       "    <tr>\n",
       "      <th>1</th>\n",
       "      <td>16-10-2021</td>\n",
       "      <td>23:56:10</td>\n",
       "      <td>A</td>\n",
       "      <td>a1</td>\n",
       "      <td>0001</td>\n",
       "      <td>5.0</td>\n",
       "      <td>2021-10-16 23:56:10</td>\n",
       "      <td>2021-10-16</td>\n",
       "      <td>23:56:10</td>\n",
       "      <td>41</td>\n",
       "    </tr>\n",
       "    <tr>\n",
       "      <th>14</th>\n",
       "      <td>17-10-2021</td>\n",
       "      <td>00:05:24</td>\n",
       "      <td>B</td>\n",
       "      <td>b1</td>\n",
       "      <td>0010</td>\n",
       "      <td>3.0</td>\n",
       "      <td>2021-10-17 00:05:24</td>\n",
       "      <td>2021-10-17</td>\n",
       "      <td>00:05:24</td>\n",
       "      <td>41</td>\n",
       "    </tr>\n",
       "    <tr>\n",
       "      <th>23</th>\n",
       "      <td>17-10-2021</td>\n",
       "      <td>13:06:54</td>\n",
       "      <td>C</td>\n",
       "      <td>c1</td>\n",
       "      <td>0016</td>\n",
       "      <td>1.0</td>\n",
       "      <td>2021-10-17 13:06:54</td>\n",
       "      <td>2021-10-17</td>\n",
       "      <td>13:06:54</td>\n",
       "      <td>41</td>\n",
       "    </tr>\n",
       "    <tr>\n",
       "      <th>37</th>\n",
       "      <td>19-10-2021</td>\n",
       "      <td>10:03:08</td>\n",
       "      <td>B</td>\n",
       "      <td>a2</td>\n",
       "      <td>0024</td>\n",
       "      <td>8.0</td>\n",
       "      <td>2021-10-19 10:03:08</td>\n",
       "      <td>2021-10-19</td>\n",
       "      <td>10:03:08</td>\n",
       "      <td>42</td>\n",
       "    </tr>\n",
       "  </tbody>\n",
       "</table>\n",
       "</div>"
      ],
      "text/plain": [
       "      str_date  str_time group sub_group val_id  value            datetime  \\\n",
       "1   16-10-2021  23:56:10     A        a1   0001    5.0 2021-10-16 23:56:10   \n",
       "14  17-10-2021  00:05:24     B        b1   0010    3.0 2021-10-17 00:05:24   \n",
       "23  17-10-2021  13:06:54     C        c1   0016    1.0 2021-10-17 13:06:54   \n",
       "37  19-10-2021  10:03:08     B        a2   0024    8.0 2021-10-19 10:03:08   \n",
       "\n",
       "          date      time  week  \n",
       "1   2021-10-16  23:56:10    41  \n",
       "14  2021-10-17  00:05:24    41  \n",
       "23  2021-10-17  13:06:54    41  \n",
       "37  2021-10-19  10:03:08    42  "
      ]
     },
     "execution_count": 20,
     "metadata": {},
     "output_type": "execute_result"
    }
   ],
   "source": [
    "data[data.duplicated()]"
   ]
  },
  {
   "cell_type": "code",
   "execution_count": 21,
   "metadata": {},
   "outputs": [],
   "source": [
    "data = data.drop_duplicates()"
   ]
  },
  {
   "cell_type": "markdown",
   "metadata": {},
   "source": [
    "# Распределение данных"
   ]
  },
  {
   "cell_type": "markdown",
   "metadata": {},
   "source": [
    "## Статистики числовых данных\n",
    "\n",
    "- Количество значений\n",
    "- Среднее (математическое ожидание) - expected value, mean, average\n",
    "- Стандартное отклонение (корень из дисперсии)\n",
    "- Минимальное значения\n",
    "- Квантили 25%, 50%, 75%\n",
    "- Максимальное значение\n"
   ]
  },
  {
   "cell_type": "code",
   "execution_count": 22,
   "metadata": {},
   "outputs": [
    {
     "data": {
      "text/html": [
       "<div>\n",
       "<style scoped>\n",
       "    .dataframe tbody tr th:only-of-type {\n",
       "        vertical-align: middle;\n",
       "    }\n",
       "\n",
       "    .dataframe tbody tr th {\n",
       "        vertical-align: top;\n",
       "    }\n",
       "\n",
       "    .dataframe thead th {\n",
       "        text-align: right;\n",
       "    }\n",
       "</style>\n",
       "<table border=\"1\" class=\"dataframe\">\n",
       "  <thead>\n",
       "    <tr style=\"text-align: right;\">\n",
       "      <th></th>\n",
       "      <th>count</th>\n",
       "      <th>mean</th>\n",
       "      <th>std</th>\n",
       "      <th>min</th>\n",
       "      <th>25%</th>\n",
       "      <th>50%</th>\n",
       "      <th>75%</th>\n",
       "      <th>max</th>\n",
       "    </tr>\n",
       "  </thead>\n",
       "  <tbody>\n",
       "    <tr>\n",
       "      <th>value</th>\n",
       "      <td>35.0</td>\n",
       "      <td>37.200000</td>\n",
       "      <td>36.704544</td>\n",
       "      <td>0.0</td>\n",
       "      <td>2.0</td>\n",
       "      <td>26.0</td>\n",
       "      <td>69.5</td>\n",
       "      <td>99.0</td>\n",
       "    </tr>\n",
       "    <tr>\n",
       "      <th>week</th>\n",
       "      <td>35.0</td>\n",
       "      <td>41.342857</td>\n",
       "      <td>0.481594</td>\n",
       "      <td>41.0</td>\n",
       "      <td>41.0</td>\n",
       "      <td>41.0</td>\n",
       "      <td>42.0</td>\n",
       "      <td>42.0</td>\n",
       "    </tr>\n",
       "  </tbody>\n",
       "</table>\n",
       "</div>"
      ],
      "text/plain": [
       "       count       mean        std   min   25%   50%   75%   max\n",
       "value   35.0  37.200000  36.704544   0.0   2.0  26.0  69.5  99.0\n",
       "week    35.0  41.342857   0.481594  41.0  41.0  41.0  42.0  42.0"
      ]
     },
     "execution_count": 22,
     "metadata": {},
     "output_type": "execute_result"
    }
   ],
   "source": [
    "statistics = data.describe().T\n",
    "statistics"
   ]
  },
  {
   "cell_type": "code",
   "execution_count": 23,
   "metadata": {},
   "outputs": [
    {
     "data": {
      "text/html": [
       "<div>\n",
       "<style scoped>\n",
       "    .dataframe tbody tr th:only-of-type {\n",
       "        vertical-align: middle;\n",
       "    }\n",
       "\n",
       "    .dataframe tbody tr th {\n",
       "        vertical-align: top;\n",
       "    }\n",
       "\n",
       "    .dataframe thead th {\n",
       "        text-align: right;\n",
       "    }\n",
       "</style>\n",
       "<table border=\"1\" class=\"dataframe\">\n",
       "  <thead>\n",
       "    <tr style=\"text-align: right;\">\n",
       "      <th></th>\n",
       "      <th>str_date</th>\n",
       "      <th>str_time</th>\n",
       "      <th>group</th>\n",
       "      <th>sub_group</th>\n",
       "      <th>val_id</th>\n",
       "      <th>date</th>\n",
       "      <th>time</th>\n",
       "    </tr>\n",
       "  </thead>\n",
       "  <tbody>\n",
       "    <tr>\n",
       "      <th>count</th>\n",
       "      <td>35</td>\n",
       "      <td>35</td>\n",
       "      <td>35</td>\n",
       "      <td>35</td>\n",
       "      <td>35</td>\n",
       "      <td>35</td>\n",
       "      <td>35</td>\n",
       "    </tr>\n",
       "    <tr>\n",
       "      <th>unique</th>\n",
       "      <td>4</td>\n",
       "      <td>34</td>\n",
       "      <td>5</td>\n",
       "      <td>10</td>\n",
       "      <td>26</td>\n",
       "      <td>4</td>\n",
       "      <td>34</td>\n",
       "    </tr>\n",
       "    <tr>\n",
       "      <th>top</th>\n",
       "      <td>17-10-2021</td>\n",
       "      <td>12:07:08</td>\n",
       "      <td>B</td>\n",
       "      <td>c1</td>\n",
       "      <td>0</td>\n",
       "      <td>2021-10-17</td>\n",
       "      <td>12:07:08</td>\n",
       "    </tr>\n",
       "    <tr>\n",
       "      <th>freq</th>\n",
       "      <td>14</td>\n",
       "      <td>2</td>\n",
       "      <td>10</td>\n",
       "      <td>7</td>\n",
       "      <td>10</td>\n",
       "      <td>14</td>\n",
       "      <td>2</td>\n",
       "    </tr>\n",
       "  </tbody>\n",
       "</table>\n",
       "</div>"
      ],
      "text/plain": [
       "          str_date  str_time group sub_group  val_id        date      time\n",
       "count           35        35    35        35      35          35        35\n",
       "unique           4        34     5        10      26           4        34\n",
       "top     17-10-2021  12:07:08     B        c1       0  2021-10-17  12:07:08\n",
       "freq            14         2    10         7      10          14         2"
      ]
     },
     "execution_count": 23,
     "metadata": {},
     "output_type": "execute_result"
    }
   ],
   "source": [
    "data.describe(include='object')"
   ]
  },
  {
   "cell_type": "markdown",
   "metadata": {},
   "source": [
    "- Дисперсия\n",
    "- Медиана"
   ]
  },
  {
   "cell_type": "code",
   "execution_count": 24,
   "metadata": {},
   "outputs": [],
   "source": [
    "for func in [np.var, np.median]:\n",
    "    statistics[func.__name__] = [func(data[col]) for col in statistics.index]"
   ]
  },
  {
   "cell_type": "markdown",
   "metadata": {},
   "source": [
    "- Мода"
   ]
  },
  {
   "cell_type": "code",
   "execution_count": 25,
   "metadata": {},
   "outputs": [],
   "source": [
    "from scipy import stats\n",
    "\n",
    "statistics['mode'] = [stats.mode(data[col])[0][0] for col in statistics.index]"
   ]
  },
  {
   "cell_type": "code",
   "execution_count": 26,
   "metadata": {},
   "outputs": [
    {
     "data": {
      "text/html": [
       "<div>\n",
       "<style scoped>\n",
       "    .dataframe tbody tr th:only-of-type {\n",
       "        vertical-align: middle;\n",
       "    }\n",
       "\n",
       "    .dataframe tbody tr th {\n",
       "        vertical-align: top;\n",
       "    }\n",
       "\n",
       "    .dataframe thead th {\n",
       "        text-align: right;\n",
       "    }\n",
       "</style>\n",
       "<table border=\"1\" class=\"dataframe\">\n",
       "  <thead>\n",
       "    <tr style=\"text-align: right;\">\n",
       "      <th></th>\n",
       "      <th>count</th>\n",
       "      <th>mean</th>\n",
       "      <th>std</th>\n",
       "      <th>min</th>\n",
       "      <th>25%</th>\n",
       "      <th>50%</th>\n",
       "      <th>75%</th>\n",
       "      <th>max</th>\n",
       "      <th>var</th>\n",
       "      <th>median</th>\n",
       "      <th>mode</th>\n",
       "    </tr>\n",
       "  </thead>\n",
       "  <tbody>\n",
       "    <tr>\n",
       "      <th>value</th>\n",
       "      <td>35.0</td>\n",
       "      <td>37.46</td>\n",
       "      <td>35.41</td>\n",
       "      <td>0.0</td>\n",
       "      <td>2.0</td>\n",
       "      <td>37.0</td>\n",
       "      <td>70.5</td>\n",
       "      <td>96.0</td>\n",
       "      <td>1217.96</td>\n",
       "      <td>37.0</td>\n",
       "      <td>0.0</td>\n",
       "    </tr>\n",
       "    <tr>\n",
       "      <th>week</th>\n",
       "      <td>35.0</td>\n",
       "      <td>41.34</td>\n",
       "      <td>0.48</td>\n",
       "      <td>41.0</td>\n",
       "      <td>41.0</td>\n",
       "      <td>41.0</td>\n",
       "      <td>42.0</td>\n",
       "      <td>42.0</td>\n",
       "      <td>0.23</td>\n",
       "      <td>41.0</td>\n",
       "      <td>41.0</td>\n",
       "    </tr>\n",
       "  </tbody>\n",
       "</table>\n",
       "</div>"
      ],
      "text/plain": [
       "       count   mean    std   min   25%   50%   75%   max      var  median  \\\n",
       "value   35.0  37.46  35.41   0.0   2.0  37.0  70.5  96.0  1217.96    37.0   \n",
       "week    35.0  41.34   0.48  41.0  41.0  41.0  42.0  42.0     0.23    41.0   \n",
       "\n",
       "       mode  \n",
       "value   0.0  \n",
       "week   41.0  "
      ]
     },
     "execution_count": 26,
     "metadata": {},
     "output_type": "execute_result"
    }
   ],
   "source": [
    "statistics = np.round(statistics, 2)\n",
    "statistics"
   ]
  },
  {
   "cell_type": "markdown",
   "metadata": {},
   "source": [
    "## Категориальные данные"
   ]
  },
  {
   "cell_type": "code",
   "execution_count": 27,
   "metadata": {},
   "outputs": [
    {
     "data": {
      "text/plain": [
       "B           10\n",
       "C           10\n",
       "A            7\n",
       "0            7\n",
       "00:04:04     1\n",
       "Name: group, dtype: int64"
      ]
     },
     "execution_count": 27,
     "metadata": {},
     "output_type": "execute_result"
    }
   ],
   "source": [
    "data.group.value_counts()"
   ]
  },
  {
   "cell_type": "markdown",
   "metadata": {},
   "source": [
    "# Графики"
   ]
  },
  {
   "cell_type": "markdown",
   "metadata": {},
   "source": [
    "## Распределение числовых значений"
   ]
  },
  {
   "cell_type": "code",
   "execution_count": null,
   "metadata": {},
   "outputs": [],
   "source": []
  },
  {
   "cell_type": "markdown",
   "metadata": {},
   "source": [
    "## Обнаружение выбросов"
   ]
  },
  {
   "cell_type": "code",
   "execution_count": null,
   "metadata": {},
   "outputs": [],
   "source": []
  },
  {
   "cell_type": "markdown",
   "metadata": {},
   "source": [
    "## Выделение закономерностей"
   ]
  },
  {
   "cell_type": "markdown",
   "metadata": {},
   "source": [
    "### Heat map"
   ]
  },
  {
   "cell_type": "code",
   "execution_count": null,
   "metadata": {},
   "outputs": [],
   "source": []
  },
  {
   "cell_type": "markdown",
   "metadata": {},
   "source": [
    "### Scatter plot"
   ]
  },
  {
   "cell_type": "markdown",
   "metadata": {},
   "source": [
    "# Пакеты для EDA"
   ]
  },
  {
   "cell_type": "markdown",
   "metadata": {},
   "source": [
    "## DataPrep"
   ]
  },
  {
   "cell_type": "code",
   "execution_count": null,
   "metadata": {},
   "outputs": [],
   "source": [
    "from dataprep.eda import create_report\n",
    "\n",
    "create_report(init_data)"
   ]
  },
  {
   "cell_type": "code",
   "execution_count": null,
   "metadata": {},
   "outputs": [],
   "source": [
    "create_report(data)"
   ]
  },
  {
   "cell_type": "markdown",
   "metadata": {},
   "source": [
    "## Pandas Profiling"
   ]
  },
  {
   "cell_type": "code",
   "execution_count": null,
   "metadata": {},
   "outputs": [],
   "source": [
    "from pandas_profiling import ProfileReport\n",
    "\n",
    "profile = ProfileReport(init_data, title=\"Report\")\n",
    "profile"
   ]
  },
  {
   "cell_type": "code",
   "execution_count": null,
   "metadata": {},
   "outputs": [],
   "source": [
    "profile = ProfileReport(data, title=\"Report\")\n",
    "profile"
   ]
  },
  {
   "cell_type": "markdown",
   "metadata": {},
   "source": [
    "## SweetViz"
   ]
  },
  {
   "cell_type": "code",
   "execution_count": null,
   "metadata": {},
   "outputs": [],
   "source": [
    "import sweetviz as sv\n",
    "\n",
    "analyze_report = sv.analyze(init_data)\n",
    "analyze_report.show_html(report.html, open_browser=False)"
   ]
  },
  {
   "cell_type": "code",
   "execution_count": null,
   "metadata": {},
   "outputs": [],
   "source": [
    "analyze_report = sv.analyze(data)\n",
    "analyze_report.show_html(report.html, open_browser=False)"
   ]
  },
  {
   "cell_type": "markdown",
   "metadata": {},
   "source": [
    "## AutoViz"
   ]
  },
  {
   "cell_type": "code",
   "execution_count": null,
   "metadata": {},
   "outputs": [],
   "source": [
    "from autoviz.AutoViz_Class import AutoViz_Class\n",
    "\n",
    "AV = AutoViz_Class()\n",
    "\n",
    "dft = AV.AutoViz(\n",
    "    filename=\"\",\n",
    "    dfte=init_data,\n",
    "    lowess=False,\n",
    "    chart_format=\"bokeh\",\n",
    "    max_rows_analyzed=150000,\n",
    "    max_cols_analyzed=30\n",
    ")"
   ]
  },
  {
   "cell_type": "code",
   "execution_count": null,
   "metadata": {},
   "outputs": [],
   "source": [
    "dft = AV.AutoViz(\n",
    "    filename=\"\",\n",
    "    dfte=data,\n",
    "    lowess=False,\n",
    "    chart_format=\"bokeh\",\n",
    "    max_rows_analyzed=150000,\n",
    "    max_cols_analyzed=30\n",
    ")"
   ]
  },
  {
   "cell_type": "code",
   "execution_count": null,
   "metadata": {},
   "outputs": [],
   "source": []
  }
 ],
 "metadata": {
  "kernelspec": {
   "display_name": "venv",
   "language": "python",
   "name": "venv"
  },
  "language_info": {
   "codemirror_mode": {
    "name": "ipython",
    "version": 3
   },
   "file_extension": ".py",
   "mimetype": "text/x-python",
   "name": "python",
   "nbconvert_exporter": "python",
   "pygments_lexer": "ipython3",
   "version": "3.10.2"
  }
 },
 "nbformat": 4,
 "nbformat_minor": 4
}
