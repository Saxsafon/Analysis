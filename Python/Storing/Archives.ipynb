{
 "cells": [
  {
   "cell_type": "code",
   "execution_count": 75,
   "metadata": {},
   "outputs": [],
   "source": [
    "import pandas as pd\n",
    "import numpy as np\n",
    "\n",
    "from zipfile import ZipFile\n",
    "from py7zr import py7zr\n",
    "import shutil\n",
    "\n",
    "\n",
    "import os"
   ]
  },
  {
   "cell_type": "markdown",
   "metadata": {},
   "source": [
    "# Теория"
   ]
  },
  {
   "cell_type": "markdown",
   "metadata": {},
   "source": [
    "## От чего зависит эффективность сжатия данных?"
   ]
  },
  {
   "cell_type": "markdown",
   "metadata": {},
   "source": [
    "# Практика"
   ]
  },
  {
   "cell_type": "code",
   "execution_count": 69,
   "metadata": {},
   "outputs": [],
   "source": [
    "df1 = pd.DataFrame({\n",
    "    'col1': [1, 2 , 3],\n",
    "    'col2': ['A', 'B', 'C'],\n",
    "    'col3': ['a', 'b', 'c']\n",
    "})\n",
    "\n",
    "df2 = pd.DataFrame({\n",
    "    'col1': [4, 5, 6],\n",
    "    'col2': ['D', 'E', 'F'],\n",
    "    'col3': ['d', 'e', 'f']\n",
    "})\n",
    "\n",
    "df3 = pd.DataFrame({\n",
    "    'col1': [7, 8, 9],\n",
    "    'col2': ['G', 'H', 'I'],\n",
    "    'col3': ['g', 'h', 'i']\n",
    "})\n"
   ]
  },
  {
   "cell_type": "code",
   "execution_count": 70,
   "metadata": {},
   "outputs": [],
   "source": [
    "for df, name in zip([df1, df2, df3], ['df1', 'df2', 'df3']):\n",
    "    df.to_excel(f'data/input/{name}.xlsx', index=False)\n",
    "    df.to_excel(f'data/input/files/{name}.xlsx')"
   ]
  },
  {
   "cell_type": "markdown",
   "metadata": {},
   "source": [
    "## 7z"
   ]
  },
  {
   "cell_type": "markdown",
   "metadata": {},
   "source": [
    "#### По неясной причине этот покет добавляет в архив не только файл, но и путь к нему"
   ]
  },
  {
   "cell_type": "markdown",
   "metadata": {},
   "source": [
    "### Запаковать файл в архив"
   ]
  },
  {
   "cell_type": "code",
   "execution_count": 72,
   "metadata": {},
   "outputs": [],
   "source": [
    "input_file = 'data/input/df3.xlsx'\n",
    "result = 'data/results/df3.7z'\n",
    "\n",
    "with py7zr.SevenZipFile(result, 'w') as z:\n",
    "    z.writeall(input_file)"
   ]
  },
  {
   "cell_type": "markdown",
   "metadata": {},
   "source": [
    "### Запаковать датафрейм в архив"
   ]
  },
  {
   "cell_type": "code",
   "execution_count": 57,
   "metadata": {},
   "outputs": [],
   "source": [
    "df_name = 'df2'\n",
    "df = df2\n",
    "\n",
    "result = f'data/results/{df_name}.7z'\n",
    "\n",
    "with py7zr.SevenZipFile(result, 'w') as z:\n",
    "    input_file = f'{df_name}.xlsx'\n",
    "    \n",
    "    df.to_excel(input_file, index=False) # Сохраняем файл\n",
    "    z.writeall(input_file) # Архивируем\n",
    "    os.remove(input_file) # Удаляем сохраненный файл"
   ]
  },
  {
   "cell_type": "markdown",
   "metadata": {},
   "source": [
    "### Запаковать несколько файлов в архив"
   ]
  },
  {
   "cell_type": "code",
   "execution_count": 58,
   "metadata": {},
   "outputs": [],
   "source": [
    "result = 'data/results/files.7z'\n",
    "files_list = ['df1.xlsx', 'df2.xlsx']\n",
    "files_path = 'data/input/files'\n",
    "\n",
    "\n",
    "with py7zr.SevenZipFile(result, 'w') as z:\n",
    "    for file in files_list:\n",
    "        input_file = f'{files_path}/{file}'\n",
    "        z.writeall(input_file)"
   ]
  },
  {
   "cell_type": "markdown",
   "metadata": {},
   "source": [
    "### Добавить файл в уже существующий архив"
   ]
  },
  {
   "cell_type": "code",
   "execution_count": 59,
   "metadata": {},
   "outputs": [],
   "source": [
    "archive = 'data/results/files.7z'\n",
    "file = 'data/input/files/df3.xlsx'\n",
    "\n",
    "with py7zr.SevenZipFile(archive, 'a') as arch:\n",
    "    arch.write(file)"
   ]
  },
  {
   "cell_type": "markdown",
   "metadata": {},
   "source": [
    "### Запаковать директорию в архив"
   ]
  },
  {
   "cell_type": "code",
   "execution_count": 60,
   "metadata": {},
   "outputs": [],
   "source": [
    "input_dir = f'data/input/files'\n",
    "result = 'data/results/dir.7z'\n",
    "\n",
    "with py7zr.SevenZipFile(result, 'w') as z:\n",
    "    z.writeall(input_dir)"
   ]
  },
  {
   "cell_type": "markdown",
   "metadata": {},
   "source": [
    "### Распаковать один архив"
   ]
  },
  {
   "cell_type": "code",
   "execution_count": 67,
   "metadata": {},
   "outputs": [],
   "source": [
    "archive = 'data/input/df1.7z'\n",
    "extraction_path = 'data/results/'\n",
    "\n",
    "with py7zr.SevenZipFile(archive, mode='r') as z:\n",
    "    z.extractall(extraction_path)"
   ]
  },
  {
   "cell_type": "markdown",
   "metadata": {},
   "source": [
    "### Распаковать архив и сохранить содержимое в папке"
   ]
  },
  {
   "cell_type": "code",
   "execution_count": 63,
   "metadata": {},
   "outputs": [],
   "source": [
    "archive_name = 'files'\n",
    "\n",
    "archive_path = f'data/input/{archive_name}.7z'\n",
    "extraction_path = f'data/results/{archive_name}'\n",
    "\n",
    "with py7zr.SevenZipFile(archive_path, mode='r') as z:\n",
    "    os.mkdir(extraction_path)\n",
    "    z.extractall(extraction_path)"
   ]
  },
  {
   "cell_type": "markdown",
   "metadata": {},
   "source": [
    "### Распаковать один файл из архива"
   ]
  },
  {
   "cell_type": "code",
   "execution_count": null,
   "metadata": {},
   "outputs": [],
   "source": [
    "with py7zr.SevenZipFile('', mode='r') as z:\n",
    "    z.extract(targets=['rootdir/filename'])"
   ]
  },
  {
   "cell_type": "markdown",
   "metadata": {},
   "source": [
    "### Как распаковать несколько архивов 7z"
   ]
  },
  {
   "cell_type": "code",
   "execution_count": null,
   "metadata": {},
   "outputs": [],
   "source": []
  },
  {
   "cell_type": "code",
   "execution_count": null,
   "metadata": {},
   "outputs": [],
   "source": []
  },
  {
   "cell_type": "markdown",
   "metadata": {},
   "source": [
    "## zip"
   ]
  },
  {
   "cell_type": "markdown",
   "metadata": {},
   "source": [
    "### Запаковать файл в архив"
   ]
  },
  {
   "cell_type": "code",
   "execution_count": null,
   "metadata": {},
   "outputs": [],
   "source": [
    "file_name = 'file.csv'\n",
    "archive_name = 'data'\n",
    "\n",
    "input_path = f'data/input'\n",
    "output_path = f'data/results/{archive_name}'\n",
    "\n",
    "shutil.make_archive(output_path, 'zip', input_path, file_name)"
   ]
  },
  {
   "cell_type": "markdown",
   "metadata": {},
   "source": [
    "### Запаковать несколько файлов в zip"
   ]
  },
  {
   "cell_type": "code",
   "execution_count": null,
   "metadata": {},
   "outputs": [],
   "source": [
    "zips_path = 'data/calls_stress/input/zips/*.zip'\n",
    "\n",
    "zip_files = glob(zips_path)\n",
    "\n",
    "for zf in zip_files:\n",
    "    print(zf)\n",
    "    with ZipFile(zf, 'r') as zipObj:\n",
    "        output_path = xls_path\n",
    "        zipObj.extractall(output_path)\n",
    "    print('number of files:', len(zipObj.filelist))\n",
    "    for i in range(len(zipObj.filelist)):\n",
    "        print(zipObj.filelist[i].filename)\n",
    "    os.remove(zf)\n",
    "    print('\\n')"
   ]
  },
  {
   "cell_type": "code",
   "execution_count": null,
   "metadata": {},
   "outputs": [],
   "source": []
  },
  {
   "cell_type": "markdown",
   "metadata": {},
   "source": [
    "### Запаковать несколько файлов в архив"
   ]
  },
  {
   "cell_type": "code",
   "execution_count": null,
   "metadata": {},
   "outputs": [],
   "source": []
  },
  {
   "cell_type": "markdown",
   "metadata": {},
   "source": [
    "### Запаковать содержимое директории в архив"
   ]
  },
  {
   "cell_type": "markdown",
   "metadata": {},
   "source": [
    "#### С помощью shutil"
   ]
  },
  {
   "cell_type": "code",
   "execution_count": 79,
   "metadata": {},
   "outputs": [
    {
     "data": {
      "text/plain": [
       "'/home/safonkin/projects/Memo/Analytics/Stages/1. PreProcessing/Reading/data/results/files.zip'"
      ]
     },
     "execution_count": 79,
     "metadata": {},
     "output_type": "execute_result"
    }
   ],
   "source": [
    "input_dir_name = 'files'\n",
    "arcive_name = 'files'\n",
    "\n",
    "input_path = f'data/input/{file_name}'\n",
    "output_path = f'data/results/{archive_name}'\n",
    "\n",
    "shutil.make_archive(output_path, 'zip', input_path)"
   ]
  },
  {
   "cell_type": "markdown",
   "metadata": {},
   "source": [
    "### Распаковать zip"
   ]
  },
  {
   "cell_type": "code",
   "execution_count": null,
   "metadata": {},
   "outputs": [],
   "source": [
    "path_to_zip_file = ''\n",
    "directory_to_extract_to = ''\n",
    "\n",
    "with ZipFile(path_to_zip_file, 'r') as zip_ref:\n",
    "    zip_ref.extractall(directory_to_extract_to)"
   ]
  }
 ],
 "metadata": {
  "kernelspec": {
   "display_name": "venv",
   "language": "python",
   "name": "venv"
  },
  "language_info": {
   "codemirror_mode": {
    "name": "ipython",
    "version": 3
   },
   "file_extension": ".py",
   "mimetype": "text/x-python",
   "name": "python",
   "nbconvert_exporter": "python",
   "pygments_lexer": "ipython3",
   "version": "3.7.3"
  }
 },
 "nbformat": 4,
 "nbformat_minor": 4
}
