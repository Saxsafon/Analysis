{
 "cells": [
  {
   "cell_type": "markdown",
   "id": "cf251be4",
   "metadata": {},
   "source": [
    "# Настройка ноутбука"
   ]
  },
  {
   "cell_type": "code",
   "execution_count": 1,
   "id": "7f92299d",
   "metadata": {},
   "outputs": [],
   "source": [
    "import numpy as np\n",
    "import pandas as pd"
   ]
  },
  {
   "cell_type": "code",
   "execution_count": 2,
   "id": "29d84346",
   "metadata": {},
   "outputs": [
    {
     "data": {
      "text/html": [
       "<style>.container { width:100% !important; }</style>"
      ],
      "text/plain": [
       "<IPython.core.display.HTML object>"
      ]
     },
     "metadata": {},
     "output_type": "display_data"
    }
   ],
   "source": [
    "# Расширить рабочее поле ноутбука на весь экран\n",
    "from IPython.display import display, HTML\n",
    "display(HTML(\"<style>.container { width:100% !important; }</style>\"))"
   ]
  },
  {
   "cell_type": "markdown",
   "id": "09ce7530",
   "metadata": {},
   "source": [
    "# Описание"
   ]
  },
  {
   "cell_type": "markdown",
   "id": "40d2130a",
   "metadata": {},
   "source": [
    "[BigQuery Jupyter Notebook Connection: Easy Steps to Simplify Analytics & Visualization](https://hevodata.com/learn/bigquery-jupyter-notebook/)"
   ]
  },
  {
   "cell_type": "markdown",
   "id": "9393dfee",
   "metadata": {},
   "source": [
    "# Практики"
   ]
  },
  {
   "cell_type": "markdown",
   "id": "71260209",
   "metadata": {},
   "source": [
    "### Настройка подключения"
   ]
  },
  {
   "cell_type": "markdown",
   "id": "a7369a5a",
   "metadata": {},
   "source": [
    "```python\n",
    "client = bigquery.Client() - создание клиента\n",
    "dataset_ref = client.dataset(\"hacker_news\", project=\"bigquery-public-data\") - создание ссылки на публичный датасет\n",
    "```"
   ]
  },
  {
   "cell_type": "markdown",
   "id": "1438ceb5",
   "metadata": {},
   "source": [
    "```python\n",
    "dataset = client.get_dataset(dataset_ref) - загрузка датасета\n",
    "\n",
    "client.list_tables(dataset) - получить список таблиц в датасете\n",
    "for table in client.list_tables(dataset):\n",
    "    print(table.full_table_id) - вывод полного идентификатора таблицы\n",
    "    print(table.table_id) - вывод названия таблицы\n",
    "```"
   ]
  },
  {
   "cell_type": "markdown",
   "id": "ce20be11",
   "metadata": {},
   "source": [
    "```python\n",
    "table_ref = dataset_ref.table(\"full\") - создание ссылки на конкретную таблицу\n",
    "table = client.get_table(table_ref) - загрузка таблицы\n",
    "table.schema - получить схему таблицы\n",
    "```"
   ]
  },
  {
   "cell_type": "markdown",
   "id": "85a3f900",
   "metadata": {},
   "source": [
    "```python\n",
    "\n",
    "client.list_rows(table, max_results=5).to_dataframe() - получить список строк в конкретной таблице\n",
    "\n",
    "query = 'SELECT ... FROM ... WHERE ...'\n",
    "query_job = client.query(query)\n",
    "\n",
    "query_job.to_dataframe()\n",
    "```"
   ]
  },
  {
   "cell_type": "markdown",
   "id": "17237d32",
   "metadata": {},
   "source": [
    "### Создать конфиг запуска, чтобы оценить размер возвращаемых запросом данных без его запуска "
   ]
  },
  {
   "cell_type": "markdown",
   "id": "7a3849db",
   "metadata": {},
   "source": [
    "```python\n",
    "dry_run_config = bigquery.QueryJobConfig(dry_run=True) - измерить объем данных, возвращаемых запросом, без его выполнения\n",
    "\n",
    "dry_run_query_job = client.query(query, job_config=dry_run_config) - \"сухой\" запуск запроса\n",
    "\n",
    "\n",
    "ONE_MB = 1000*1000\n",
    "safe_config = bigquery.QueryJobConfig(maximum_bytes_billed=ONE_MB)\n",
    "safe_query_job = client.query(query, job_config=safe_config) - Запрос с ограничением на количество сканируемых данных\n",
    "```"
   ]
  }
 ],
 "metadata": {
  "kernelspec": {
   "display_name": "venv",
   "language": "python",
   "name": "venv"
  },
  "language_info": {
   "codemirror_mode": {
    "name": "ipython",
    "version": 3
   },
   "file_extension": ".py",
   "mimetype": "text/x-python",
   "name": "python",
   "nbconvert_exporter": "python",
   "pygments_lexer": "ipython3",
   "version": "3.10.2"
  }
 },
 "nbformat": 4,
 "nbformat_minor": 5
}
