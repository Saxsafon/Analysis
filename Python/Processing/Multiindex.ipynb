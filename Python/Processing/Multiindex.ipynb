{
 "cells": [
  {
   "cell_type": "markdown",
   "metadata": {},
   "source": [
    "# Notebook setting"
   ]
  },
  {
   "cell_type": "code",
   "execution_count": 1,
   "metadata": {},
   "outputs": [],
   "source": [
    "import pandas as pd"
   ]
  },
  {
   "cell_type": "code",
   "execution_count": 2,
   "metadata": {},
   "outputs": [
    {
     "data": {
      "text/html": [
       "<style>.container { width:100% !important; }</style>"
      ],
      "text/plain": [
       "<IPython.core.display.HTML object>"
      ]
     },
     "metadata": {},
     "output_type": "display_data"
    }
   ],
   "source": [
    "from IPython.core.display import display, HTML\n",
    "display(HTML(\"<style>.container { width:100% !important; }</style>\"))"
   ]
  },
  {
   "cell_type": "markdown",
   "metadata": {},
   "source": [
    "# Data Generation"
   ]
  },
  {
   "cell_type": "code",
   "execution_count": 5,
   "metadata": {},
   "outputs": [
    {
     "data": {
      "text/html": [
       "<div>\n",
       "<style scoped>\n",
       "    .dataframe tbody tr th:only-of-type {\n",
       "        vertical-align: middle;\n",
       "    }\n",
       "\n",
       "    .dataframe tbody tr th {\n",
       "        vertical-align: top;\n",
       "    }\n",
       "\n",
       "    .dataframe thead th {\n",
       "        text-align: right;\n",
       "    }\n",
       "</style>\n",
       "<table border=\"1\" class=\"dataframe\">\n",
       "  <thead>\n",
       "    <tr style=\"text-align: right;\">\n",
       "      <th></th>\n",
       "      <th>G1__subgroup_1__A</th>\n",
       "      <th>G1__subgroup_1__B</th>\n",
       "      <th>G1__subgroup_1__C</th>\n",
       "      <th>G1__subgroup_2__D</th>\n",
       "      <th>G1__subgroup_2__E</th>\n",
       "      <th>G1__subgroup_3__F</th>\n",
       "      <th>G1__subgroup_3__G</th>\n",
       "      <th>G2__subgroup_1__A</th>\n",
       "      <th>G2__subgroup_1__B</th>\n",
       "      <th>G2__subgroup_2__C</th>\n",
       "      <th>G2__subgroup_2__D</th>\n",
       "    </tr>\n",
       "  </thead>\n",
       "  <tbody>\n",
       "    <tr>\n",
       "      <th>0</th>\n",
       "      <td>1</td>\n",
       "      <td>4</td>\n",
       "      <td>7</td>\n",
       "      <td>10</td>\n",
       "      <td>13</td>\n",
       "      <td>16</td>\n",
       "      <td>19</td>\n",
       "      <td>22</td>\n",
       "      <td>25</td>\n",
       "      <td>28</td>\n",
       "      <td>31</td>\n",
       "    </tr>\n",
       "    <tr>\n",
       "      <th>1</th>\n",
       "      <td>2</td>\n",
       "      <td>5</td>\n",
       "      <td>8</td>\n",
       "      <td>11</td>\n",
       "      <td>14</td>\n",
       "      <td>17</td>\n",
       "      <td>20</td>\n",
       "      <td>23</td>\n",
       "      <td>26</td>\n",
       "      <td>29</td>\n",
       "      <td>32</td>\n",
       "    </tr>\n",
       "    <tr>\n",
       "      <th>2</th>\n",
       "      <td>3</td>\n",
       "      <td>6</td>\n",
       "      <td>9</td>\n",
       "      <td>12</td>\n",
       "      <td>15</td>\n",
       "      <td>18</td>\n",
       "      <td>21</td>\n",
       "      <td>24</td>\n",
       "      <td>27</td>\n",
       "      <td>30</td>\n",
       "      <td>33</td>\n",
       "    </tr>\n",
       "  </tbody>\n",
       "</table>\n",
       "</div>"
      ],
      "text/plain": [
       "   G1__subgroup_1__A  G1__subgroup_1__B  G1__subgroup_1__C  G1__subgroup_2__D  \\\n",
       "0                  1                  4                  7                 10   \n",
       "1                  2                  5                  8                 11   \n",
       "2                  3                  6                  9                 12   \n",
       "\n",
       "   G1__subgroup_2__E  G1__subgroup_3__F  G1__subgroup_3__G  G2__subgroup_1__A  \\\n",
       "0                 13                 16                 19                 22   \n",
       "1                 14                 17                 20                 23   \n",
       "2                 15                 18                 21                 24   \n",
       "\n",
       "   G2__subgroup_1__B  G2__subgroup_2__C  G2__subgroup_2__D  \n",
       "0                 25                 28                 31  \n",
       "1                 26                 29                 32  \n",
       "2                 27                 30                 33  "
      ]
     },
     "execution_count": 5,
     "metadata": {},
     "output_type": "execute_result"
    }
   ],
   "source": [
    "data_string = pd.DataFrame({\n",
    "    'G1__subgroup_1__A': [1, 2, 3],\n",
    "    'G1__subgroup_1__B': [4, 5, 6],\n",
    "    'G1__subgroup_1__C': [7, 8, 9],\n",
    "    \n",
    "    'G1__subgroup_2__D': [10, 11, 12],\n",
    "    'G1__subgroup_2__E': [13, 14, 15],\n",
    "    \n",
    "    'G1__subgroup_3__F': [16, 17 ,18],\n",
    "    'G1__subgroup_3__G': [19, 20, 21],\n",
    "    \n",
    "    \n",
    "    'G2__subgroup_1__A': [22, 23, 24],\n",
    "    'G2__subgroup_1__B': [25, 26, 27],\n",
    "    \n",
    "    'G2__subgroup_2__C': [28, 29, 30],\n",
    "    'G2__subgroup_2__D': [31, 32, 33],\n",
    "})\n",
    "\n",
    "data"
   ]
  },
  {
   "cell_type": "markdown",
   "metadata": {},
   "source": [
    "# String cols to Multiindex"
   ]
  },
  {
   "cell_type": "code",
   "execution_count": 8,
   "metadata": {},
   "outputs": [
    {
     "data": {
      "text/html": [
       "<div>\n",
       "<style scoped>\n",
       "    .dataframe tbody tr th:only-of-type {\n",
       "        vertical-align: middle;\n",
       "    }\n",
       "\n",
       "    .dataframe tbody tr th {\n",
       "        vertical-align: top;\n",
       "    }\n",
       "\n",
       "    .dataframe thead tr th {\n",
       "        text-align: left;\n",
       "    }\n",
       "</style>\n",
       "<table border=\"1\" class=\"dataframe\">\n",
       "  <thead>\n",
       "    <tr>\n",
       "      <th></th>\n",
       "      <th colspan=\"7\" halign=\"left\">G1</th>\n",
       "      <th colspan=\"4\" halign=\"left\">G2</th>\n",
       "    </tr>\n",
       "    <tr>\n",
       "      <th></th>\n",
       "      <th colspan=\"3\" halign=\"left\">subgroup_1</th>\n",
       "      <th colspan=\"2\" halign=\"left\">subgroup_2</th>\n",
       "      <th colspan=\"2\" halign=\"left\">subgroup_3</th>\n",
       "      <th colspan=\"2\" halign=\"left\">subgroup_1</th>\n",
       "      <th colspan=\"2\" halign=\"left\">subgroup_2</th>\n",
       "    </tr>\n",
       "    <tr>\n",
       "      <th></th>\n",
       "      <th>A</th>\n",
       "      <th>B</th>\n",
       "      <th>C</th>\n",
       "      <th>D</th>\n",
       "      <th>E</th>\n",
       "      <th>F</th>\n",
       "      <th>G</th>\n",
       "      <th>A</th>\n",
       "      <th>B</th>\n",
       "      <th>C</th>\n",
       "      <th>D</th>\n",
       "    </tr>\n",
       "  </thead>\n",
       "  <tbody>\n",
       "    <tr>\n",
       "      <th>0</th>\n",
       "      <td>1</td>\n",
       "      <td>4</td>\n",
       "      <td>7</td>\n",
       "      <td>10</td>\n",
       "      <td>13</td>\n",
       "      <td>16</td>\n",
       "      <td>19</td>\n",
       "      <td>22</td>\n",
       "      <td>25</td>\n",
       "      <td>28</td>\n",
       "      <td>31</td>\n",
       "    </tr>\n",
       "    <tr>\n",
       "      <th>1</th>\n",
       "      <td>2</td>\n",
       "      <td>5</td>\n",
       "      <td>8</td>\n",
       "      <td>11</td>\n",
       "      <td>14</td>\n",
       "      <td>17</td>\n",
       "      <td>20</td>\n",
       "      <td>23</td>\n",
       "      <td>26</td>\n",
       "      <td>29</td>\n",
       "      <td>32</td>\n",
       "    </tr>\n",
       "    <tr>\n",
       "      <th>2</th>\n",
       "      <td>3</td>\n",
       "      <td>6</td>\n",
       "      <td>9</td>\n",
       "      <td>12</td>\n",
       "      <td>15</td>\n",
       "      <td>18</td>\n",
       "      <td>21</td>\n",
       "      <td>24</td>\n",
       "      <td>27</td>\n",
       "      <td>30</td>\n",
       "      <td>33</td>\n",
       "    </tr>\n",
       "  </tbody>\n",
       "</table>\n",
       "</div>"
      ],
      "text/plain": [
       "          G1                                             G2                   \n",
       "  subgroup_1       subgroup_2     subgroup_3     subgroup_1     subgroup_2    \n",
       "           A  B  C          D   E          F   G          A   B          C   D\n",
       "0          1  4  7         10  13         16  19         22  25         28  31\n",
       "1          2  5  8         11  14         17  20         23  26         29  32\n",
       "2          3  6  9         12  15         18  21         24  27         30  33"
      ]
     },
     "execution_count": 8,
     "metadata": {},
     "output_type": "execute_result"
    }
   ],
   "source": [
    "def string_to_multiindex(str_cols_list, sep='__'):\n",
    "    splited = [col.split(sep) for col in str_cols_list]\n",
    "    \n",
    "    max_len = max(len(sublist) for sublist in splited)\n",
    "    scaled = [tuple([*sublist, *['']*(max_len - len(sublist))]) for sublist in splited]\n",
    "    \n",
    "    return scaled\n",
    "\n",
    "multiindex_cols = string_to_multiindex(data_string.columns)\n",
    "\n",
    "\n",
    "data_multi = data_string.copy()\n",
    "data_multi.columns = pd.MultiIndex.from_tuples(multiindex_cols)\n",
    "\n",
    "data_multi"
   ]
  }
 ],
 "metadata": {
  "hide_input": false,
  "kernelspec": {
   "display_name": "venv",
   "language": "python",
   "name": "venv"
  },
  "language_info": {
   "codemirror_mode": {
    "name": "ipython",
    "version": 3
   },
   "file_extension": ".py",
   "mimetype": "text/x-python",
   "name": "python",
   "nbconvert_exporter": "python",
   "pygments_lexer": "ipython3",
   "version": "3.10.2"
  },
  "toc": {
   "base_numbering": 1,
   "nav_menu": {},
   "number_sections": true,
   "sideBar": true,
   "skip_h1_title": false,
   "title_cell": "Table of Contents",
   "title_sidebar": "Contents",
   "toc_cell": false,
   "toc_position": {},
   "toc_section_display": true,
   "toc_window_display": false
  }
 },
 "nbformat": 4,
 "nbformat_minor": 4
}
