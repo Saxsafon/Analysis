{
 "cells": [
  {
   "cell_type": "markdown",
   "metadata": {},
   "source": [
    "# Настройка ноутбука"
   ]
  },
  {
   "cell_type": "code",
   "execution_count": 2,
   "metadata": {},
   "outputs": [],
   "source": [
    "import pandas as pd\n",
    "import numpy as np\n",
    "\n",
    "import datetime as dt\n",
    "\n",
    "import matplotlib.pyplot as plt"
   ]
  },
  {
   "cell_type": "code",
   "execution_count": 3,
   "metadata": {},
   "outputs": [
    {
     "data": {
      "text/html": [
       "<style>.container { width:100% !important; }</style>"
      ],
      "text/plain": [
       "<IPython.core.display.HTML object>"
      ]
     },
     "metadata": {},
     "output_type": "display_data"
    }
   ],
   "source": [
    "# Расширить рабочее поле ноутбука на весь экран\n",
    "from IPython.display import display, HTML\n",
    "display(HTML(\"<style>.container { width:100% !important; }</style>\"))"
   ]
  },
  {
   "cell_type": "code",
   "execution_count": 162,
   "metadata": {},
   "outputs": [],
   "source": [
    "import warnings\n",
    "warnings.filterwarnings('ignore')"
   ]
  },
  {
   "cell_type": "code",
   "execution_count": 4,
   "metadata": {},
   "outputs": [],
   "source": [
    "# Увеличить длинну отображаемых строк\n",
    "pd.options.display.max_colwidth = 300"
   ]
  },
  {
   "cell_type": "markdown",
   "metadata": {},
   "source": [
    "# Описание"
   ]
  },
  {
   "cell_type": "markdown",
   "metadata": {},
   "source": [
    "- [Medium: 8 Seaborn Plots for Univariate Exploratory Data Analysis (EDA) in Python](https://towardsdatascience.com/8-seaborn-plots-for-univariate-exploratory-data-analysis-eda-in-python-9d280b6fe67f)"
   ]
  },
  {
   "cell_type": "markdown",
   "metadata": {
    "heading_collapsed": true
   },
   "source": [
    "# Генерация данных"
   ]
  },
  {
   "cell_type": "code",
   "execution_count": 131,
   "metadata": {
    "hidden": true
   },
   "outputs": [],
   "source": [
    "init_data = pd.DataFrame([\n",
    "            ['16-10-2021', '23:56:10', 'A', 'a1', '0001', 5, np.nan],\n",
    "            ['16-10-2021', '23:56:10', 'A', 'a1', '0001', 5, np.nan],\n",
    "            ['16-10-2021', '23:58:30', 'A', 'a1', '0002', np.random.randint(100), np.nan],\n",
    "            ['16-10-2021', '23:58:35', 'B', 'b1', '0003', np.random.randint(100), np.nan],\n",
    "            ['16-10-2021', '23:58:36', 'B', 'b1', np.nan, np.nan, np.nan],\n",
    "            ['16-10-2021', '23:58:42', np.nan, 'c1', np.nan, np.random.randint(100), np.nan],\n",
    "            ['16-10-2021', '23:58:59', np.nan, 'c1', np.nan, np.random.randint(100), np.nan],\n",
    "            ['16-10-2021', '23:58:56', 'B', 'b2', '0004', np.random.randint(100), np.nan],\n",
    "            ['16-10-2021', '23:59:21', 'C', 'c1', '0005', np.random.randint(100), np.nan],\n",
    "            ['16-10-2021', '23:59:42', 'C', 'c1', '0006', np.random.randint(100), np.nan],\n",
    "\n",
    "            ['17-10-2021', '00:03:05', 'A', 'a1', '0007', np.random.randint(100), np.nan],\n",
    "            ['17-10-2021', '00:03:25', 'A', 'a2', '0008', np.random.randint(100), np.nan],\n",
    "            ['17-10-2021', '00:03:48', 'A', 'a3', '0009', np.random.randint(100), np.nan],\n",
    "            ['17-10-2021', '00:05:24', 'B', 'b1', '0010', 3, np.nan],\n",
    "            ['17-10-2021', '00:05:24', 'B', 'b1', '0010', 3, np.nan],\n",
    "            ['17-10-2021', '00:05:36', 'B', 'b1', '0011', np.random.randint(100), np.nan],\n",
    "            ['17-10-2021', '00:05:44', 'B', 'b2', '0012', np.random.randint(100), np.nan],\n",
    "            ['17-10-2021', '00:05:48', np.nan, np.nan, np.nan, np.random.randint(100), np.nan],\n",
    "            ['17-10-2021', '00:06:01', np.nan, np.nan, np.nan, np.nan, np.nan],\n",
    "            ['17-10-2021', '00:06:03', 'B', 'b2', '0013', np.random.randint(100), np.nan],\n",
    "            ['17-10-2021', '03:12:13', 'B', 'b3', '0014', np.random.randint(100), np.nan],\n",
    "            ['17-10-2021', '03:12:46', 'C', 'c1', '0015', np.random.randint(100), np.nan],\n",
    "            ['17-10-2021', '13:06:54', 'C', 'c1', '0016', 1, np.nan],\n",
    "            ['17-10-2021', '13:06:54', 'C', 'c1', '0016', 1, np.nan],\n",
    "            ['17-10-2021', '13:12:10', 'C', 'c2', '0017', np.random.randint(100), np.nan], \n",
    "            ['17-10-2021', '19:48:30', 'C', 'c2', '0018', np.random.randint(100), np.nan], \n",
    "\n",
    "            ['18-10-2021', '00:06:05', 'C', 'c1', '0019', np.random.randint(100), np.nan], \n",
    "            ['18-10-2021', '03:08:03', 'C', 'c2', '0020', np.random.randint(100), np.nan],\n",
    "            ['18-10-2021', '04:08:03', 'C', np.nan, np.nan, np.nan, np.nan],\n",
    "            ['18-10-2021', '12:07:08', 'C', 'c3', '0021', np.random.randint(100), np.nan],\n",
    "    \n",
    "            ['19-10-2021', '00:04:03', 'A', 'a1', '0022', np.random.randint(100), np.nan],\n",
    "            ['19-10-2021', '00:04:33','00:04:04', np.nan, np.nan, np.nan, np.nan],\n",
    "            ['19-10-2021', '00:04:43', np.nan, np.nan, np.nan, np.nan, np.nan],\n",
    "            ['19-10-2021', '00:05:02', np.nan, np.nan, np.nan, np.nan, np.nan],\n",
    "            ['19-10-2021','00:05:05', np.nan, np.nan, np.nan, np.nan, np.nan],\n",
    "            ['19-10-2021', '02:08:20', 'A', 'a2', '0023', np.random.randint(100), np.nan],\n",
    "            ['19-10-2021', '10:03:08', 'B', 'a2', '0024', 8, np.nan],\n",
    "            ['19-10-2021', '10:03:08', 'B', 'a2', '0024', 8, np.nan],\n",
    "            ['19-10-2021', '12:07:08', 'B', 'b1', '0025', np.random.randint(100), np.nan],\n",
    "    \n",
    "], columns=['str_date', 'str_time','group', 'sub_group','val_id', '$value', '$zero'])"
   ]
  },
  {
   "cell_type": "code",
   "execution_count": 132,
   "metadata": {
    "hidden": true
   },
   "outputs": [],
   "source": [
    "data = init_data.copy()"
   ]
  },
  {
   "cell_type": "markdown",
   "metadata": {},
   "source": [
    "# EDA (Exploratory Data Analysis)\n",
    "\n",
    "1. Univariate analysis - фокусируемся на одном значении (колонке) за раз\n",
    "2. Multivariate analysis - фокусируемся сразу на нескольких значениях\n",
    "\n",
    "**Основные типы данных:**\n",
    "- Numerical - числовые \n",
    "- Categorical - категориальные\n",
    "- Ordinal - числовые данные обозначающие порядок\n"
   ]
  },
  {
   "cell_type": "markdown",
   "metadata": {},
   "source": [
    "## Просмотр датасета"
   ]
  },
  {
   "cell_type": "markdown",
   "metadata": {},
   "source": [
    "Вывести датасет:"
   ]
  },
  {
   "cell_type": "code",
   "execution_count": 133,
   "metadata": {},
   "outputs": [
    {
     "name": "stdout",
     "output_type": "stream",
     "text": [
      "Первые 5 записей: \n"
     ]
    },
    {
     "data": {
      "text/html": [
       "<div>\n",
       "<style scoped>\n",
       "    .dataframe tbody tr th:only-of-type {\n",
       "        vertical-align: middle;\n",
       "    }\n",
       "\n",
       "    .dataframe tbody tr th {\n",
       "        vertical-align: top;\n",
       "    }\n",
       "\n",
       "    .dataframe thead th {\n",
       "        text-align: right;\n",
       "    }\n",
       "</style>\n",
       "<table border=\"1\" class=\"dataframe\">\n",
       "  <thead>\n",
       "    <tr style=\"text-align: right;\">\n",
       "      <th></th>\n",
       "      <th>str_date</th>\n",
       "      <th>str_time</th>\n",
       "      <th>group</th>\n",
       "      <th>sub_group</th>\n",
       "      <th>val_id</th>\n",
       "      <th>$value</th>\n",
       "      <th>$zero</th>\n",
       "    </tr>\n",
       "  </thead>\n",
       "  <tbody>\n",
       "    <tr>\n",
       "      <th>0</th>\n",
       "      <td>16-10-2021</td>\n",
       "      <td>23:56:10</td>\n",
       "      <td>A</td>\n",
       "      <td>a1</td>\n",
       "      <td>0001</td>\n",
       "      <td>5.0</td>\n",
       "      <td>NaN</td>\n",
       "    </tr>\n",
       "    <tr>\n",
       "      <th>1</th>\n",
       "      <td>16-10-2021</td>\n",
       "      <td>23:56:10</td>\n",
       "      <td>A</td>\n",
       "      <td>a1</td>\n",
       "      <td>0001</td>\n",
       "      <td>5.0</td>\n",
       "      <td>NaN</td>\n",
       "    </tr>\n",
       "    <tr>\n",
       "      <th>2</th>\n",
       "      <td>16-10-2021</td>\n",
       "      <td>23:58:30</td>\n",
       "      <td>A</td>\n",
       "      <td>a1</td>\n",
       "      <td>0002</td>\n",
       "      <td>70.0</td>\n",
       "      <td>NaN</td>\n",
       "    </tr>\n",
       "    <tr>\n",
       "      <th>3</th>\n",
       "      <td>16-10-2021</td>\n",
       "      <td>23:58:35</td>\n",
       "      <td>B</td>\n",
       "      <td>b1</td>\n",
       "      <td>0003</td>\n",
       "      <td>2.0</td>\n",
       "      <td>NaN</td>\n",
       "    </tr>\n",
       "    <tr>\n",
       "      <th>4</th>\n",
       "      <td>16-10-2021</td>\n",
       "      <td>23:58:36</td>\n",
       "      <td>B</td>\n",
       "      <td>b1</td>\n",
       "      <td>NaN</td>\n",
       "      <td>NaN</td>\n",
       "      <td>NaN</td>\n",
       "    </tr>\n",
       "  </tbody>\n",
       "</table>\n",
       "</div>"
      ],
      "text/plain": [
       "     str_date  str_time group sub_group val_id  $value  $zero\n",
       "0  16-10-2021  23:56:10     A        a1   0001     5.0    NaN\n",
       "1  16-10-2021  23:56:10     A        a1   0001     5.0    NaN\n",
       "2  16-10-2021  23:58:30     A        a1   0002    70.0    NaN\n",
       "3  16-10-2021  23:58:35     B        b1   0003     2.0    NaN\n",
       "4  16-10-2021  23:58:36     B        b1    NaN     NaN    NaN"
      ]
     },
     "metadata": {},
     "output_type": "display_data"
    },
    {
     "name": "stdout",
     "output_type": "stream",
     "text": [
      "\n",
      "Последние 5 записей: \n"
     ]
    },
    {
     "data": {
      "text/html": [
       "<div>\n",
       "<style scoped>\n",
       "    .dataframe tbody tr th:only-of-type {\n",
       "        vertical-align: middle;\n",
       "    }\n",
       "\n",
       "    .dataframe tbody tr th {\n",
       "        vertical-align: top;\n",
       "    }\n",
       "\n",
       "    .dataframe thead th {\n",
       "        text-align: right;\n",
       "    }\n",
       "</style>\n",
       "<table border=\"1\" class=\"dataframe\">\n",
       "  <thead>\n",
       "    <tr style=\"text-align: right;\">\n",
       "      <th></th>\n",
       "      <th>str_date</th>\n",
       "      <th>str_time</th>\n",
       "      <th>group</th>\n",
       "      <th>sub_group</th>\n",
       "      <th>val_id</th>\n",
       "      <th>$value</th>\n",
       "      <th>$zero</th>\n",
       "    </tr>\n",
       "  </thead>\n",
       "  <tbody>\n",
       "    <tr>\n",
       "      <th>34</th>\n",
       "      <td>19-10-2021</td>\n",
       "      <td>00:05:05</td>\n",
       "      <td>NaN</td>\n",
       "      <td>NaN</td>\n",
       "      <td>NaN</td>\n",
       "      <td>NaN</td>\n",
       "      <td>NaN</td>\n",
       "    </tr>\n",
       "    <tr>\n",
       "      <th>35</th>\n",
       "      <td>19-10-2021</td>\n",
       "      <td>02:08:20</td>\n",
       "      <td>A</td>\n",
       "      <td>a2</td>\n",
       "      <td>0023</td>\n",
       "      <td>1.0</td>\n",
       "      <td>NaN</td>\n",
       "    </tr>\n",
       "    <tr>\n",
       "      <th>36</th>\n",
       "      <td>19-10-2021</td>\n",
       "      <td>10:03:08</td>\n",
       "      <td>B</td>\n",
       "      <td>a2</td>\n",
       "      <td>0024</td>\n",
       "      <td>8.0</td>\n",
       "      <td>NaN</td>\n",
       "    </tr>\n",
       "    <tr>\n",
       "      <th>37</th>\n",
       "      <td>19-10-2021</td>\n",
       "      <td>10:03:08</td>\n",
       "      <td>B</td>\n",
       "      <td>a2</td>\n",
       "      <td>0024</td>\n",
       "      <td>8.0</td>\n",
       "      <td>NaN</td>\n",
       "    </tr>\n",
       "    <tr>\n",
       "      <th>38</th>\n",
       "      <td>19-10-2021</td>\n",
       "      <td>12:07:08</td>\n",
       "      <td>B</td>\n",
       "      <td>b1</td>\n",
       "      <td>0025</td>\n",
       "      <td>12.0</td>\n",
       "      <td>NaN</td>\n",
       "    </tr>\n",
       "  </tbody>\n",
       "</table>\n",
       "</div>"
      ],
      "text/plain": [
       "      str_date  str_time group sub_group val_id  $value  $zero\n",
       "34  19-10-2021  00:05:05   NaN       NaN    NaN     NaN    NaN\n",
       "35  19-10-2021  02:08:20     A        a2   0023     1.0    NaN\n",
       "36  19-10-2021  10:03:08     B        a2   0024     8.0    NaN\n",
       "37  19-10-2021  10:03:08     B        a2   0024     8.0    NaN\n",
       "38  19-10-2021  12:07:08     B        b1   0025    12.0    NaN"
      ]
     },
     "metadata": {},
     "output_type": "display_data"
    }
   ],
   "source": [
    "print(\"Первые 5 записей: \")\n",
    "display(data.head(5))\n",
    "\n",
    "print(\"\\nПоследние 5 записей: \")\n",
    "display(data.tail(5))"
   ]
  },
  {
   "cell_type": "markdown",
   "metadata": {},
   "source": [
    "Вывести размер датасета:"
   ]
  },
  {
   "cell_type": "code",
   "execution_count": 134,
   "metadata": {},
   "outputs": [
    {
     "data": {
      "text/plain": [
       "(39, 7)"
      ]
     },
     "execution_count": 134,
     "metadata": {},
     "output_type": "execute_result"
    }
   ],
   "source": [
    "data.shape"
   ]
  },
  {
   "cell_type": "markdown",
   "metadata": {
    "heading_collapsed": true
   },
   "source": [
    "## Пустые значения"
   ]
  },
  {
   "cell_type": "markdown",
   "metadata": {
    "hidden": true
   },
   "source": [
    "### Подсчет"
   ]
  },
  {
   "cell_type": "code",
   "execution_count": 135,
   "metadata": {
    "hidden": true
   },
   "outputs": [
    {
     "data": {
      "text/html": [
       "<div>\n",
       "<style scoped>\n",
       "    .dataframe tbody tr th:only-of-type {\n",
       "        vertical-align: middle;\n",
       "    }\n",
       "\n",
       "    .dataframe tbody tr th {\n",
       "        vertical-align: top;\n",
       "    }\n",
       "\n",
       "    .dataframe thead th {\n",
       "        text-align: right;\n",
       "    }\n",
       "</style>\n",
       "<table border=\"1\" class=\"dataframe\">\n",
       "  <thead>\n",
       "    <tr style=\"text-align: right;\">\n",
       "      <th></th>\n",
       "      <th>num</th>\n",
       "      <th>%</th>\n",
       "    </tr>\n",
       "  </thead>\n",
       "  <tbody>\n",
       "    <tr>\n",
       "      <th>str_date</th>\n",
       "      <td>0</td>\n",
       "      <td>0.00</td>\n",
       "    </tr>\n",
       "    <tr>\n",
       "      <th>str_time</th>\n",
       "      <td>0</td>\n",
       "      <td>0.00</td>\n",
       "    </tr>\n",
       "    <tr>\n",
       "      <th>group</th>\n",
       "      <td>7</td>\n",
       "      <td>17.95</td>\n",
       "    </tr>\n",
       "    <tr>\n",
       "      <th>sub_group</th>\n",
       "      <td>7</td>\n",
       "      <td>17.95</td>\n",
       "    </tr>\n",
       "    <tr>\n",
       "      <th>val_id</th>\n",
       "      <td>10</td>\n",
       "      <td>25.64</td>\n",
       "    </tr>\n",
       "    <tr>\n",
       "      <th>$value</th>\n",
       "      <td>7</td>\n",
       "      <td>17.95</td>\n",
       "    </tr>\n",
       "    <tr>\n",
       "      <th>$zero</th>\n",
       "      <td>39</td>\n",
       "      <td>100.00</td>\n",
       "    </tr>\n",
       "  </tbody>\n",
       "</table>\n",
       "</div>"
      ],
      "text/plain": [
       "           num       %\n",
       "str_date     0    0.00\n",
       "str_time     0    0.00\n",
       "group        7   17.95\n",
       "sub_group    7   17.95\n",
       "val_id      10   25.64\n",
       "$value       7   17.95\n",
       "$zero       39  100.00"
      ]
     },
     "execution_count": 135,
     "metadata": {},
     "output_type": "execute_result"
    }
   ],
   "source": [
    "pd.concat([\n",
    "    data.isna().sum().rename('num'),\n",
    "    np.round(data.isnull().sum() / data.shape[0] * 100, 2).rename('%'),\n",
    "], axis=1)"
   ]
  },
  {
   "cell_type": "markdown",
   "metadata": {
    "hidden": true
   },
   "source": [
    "### Визуализация"
   ]
  },
  {
   "cell_type": "code",
   "execution_count": 136,
   "metadata": {
    "hidden": true
   },
   "outputs": [
    {
     "data": {
      "image/png": "[encoded data removed]",
      "text/plain": [
       "<Figure size 720x576 with 1 Axes>"
      ]
     },
     "metadata": {
      "needs_background": "light"
     },
     "output_type": "display_data"
    }
   ],
   "source": [
    "plt.figure(figsize=(10, 8))\n",
    "plt.imshow(data.isna(), aspect=\"auto\", interpolation=\"nearest\", cmap=\"gray\")\n",
    "plt.xlabel(\"Column Number\")\n",
    "plt.ylabel(\"Sample Number\");"
   ]
  },
  {
   "cell_type": "code",
   "execution_count": 137,
   "metadata": {
    "hidden": true
   },
   "outputs": [],
   "source": [
    "# import missingno as msno\n",
    "# # Здесь вроде ошибка\n",
    "# msno.matrix(data, labels=True, sort=\"descending\");"
   ]
  },
  {
   "cell_type": "markdown",
   "metadata": {
    "hidden": true
   },
   "source": [
    "### Заполнение"
   ]
  },
  {
   "cell_type": "code",
   "execution_count": 138,
   "metadata": {
    "hidden": true
   },
   "outputs": [],
   "source": [
    "val = 0\n",
    "data = data.fillna(val)"
   ]
  },
  {
   "cell_type": "markdown",
   "metadata": {
    "heading_collapsed": true
   },
   "source": [
    "## Типы данных в колонках"
   ]
  },
  {
   "cell_type": "markdown",
   "metadata": {
    "hidden": true
   },
   "source": [
    "Вывести список колонок:"
   ]
  },
  {
   "cell_type": "code",
   "execution_count": 139,
   "metadata": {
    "hidden": true
   },
   "outputs": [
    {
     "data": {
      "text/plain": [
       "Index(['str_date', 'str_time', 'group', 'sub_group', 'val_id', '$value',\n",
       "       '$zero'],\n",
       "      dtype='object')"
      ]
     },
     "execution_count": 139,
     "metadata": {},
     "output_type": "execute_result"
    }
   ],
   "source": [
    "data.columns"
   ]
  },
  {
   "cell_type": "markdown",
   "metadata": {
    "hidden": true
   },
   "source": [
    "Удаление колонок:"
   ]
  },
  {
   "cell_type": "code",
   "execution_count": 140,
   "metadata": {
    "hidden": true
   },
   "outputs": [],
   "source": [
    "cols = ['$zero']\n",
    "data = data.drop(cols, axis=1)"
   ]
  },
  {
   "cell_type": "markdown",
   "metadata": {
    "hidden": true
   },
   "source": [
    "Переименование колонок:"
   ]
  },
  {
   "cell_type": "code",
   "execution_count": 141,
   "metadata": {
    "hidden": true
   },
   "outputs": [],
   "source": [
    "data = data.rename(columns={'$value': 'value'})"
   ]
  },
  {
   "cell_type": "markdown",
   "metadata": {
    "hidden": true
   },
   "source": [
    "Посмотреть типы данных:"
   ]
  },
  {
   "cell_type": "markdown",
   "metadata": {
    "hidden": true
   },
   "source": [
    "[Practical Business Python: Overview of Pandas Data Types](https://pbpython.com/pandas_dtypes.html)\n",
    "<img src=\"data/img/dtypes.png\" width=\"800\">"
   ]
  },
  {
   "cell_type": "code",
   "execution_count": 142,
   "metadata": {
    "hidden": true
   },
   "outputs": [
    {
     "data": {
      "text/plain": [
       "str_date      object\n",
       "str_time      object\n",
       "group         object\n",
       "sub_group     object\n",
       "val_id        object\n",
       "value        float64\n",
       "dtype: object"
      ]
     },
     "metadata": {},
     "output_type": "display_data"
    },
    {
     "name": "stdout",
     "output_type": "stream",
     "text": [
      "<class 'pandas.core.frame.DataFrame'>\n",
      "RangeIndex: 39 entries, 0 to 38\n",
      "Data columns (total 6 columns):\n",
      " #   Column     Non-Null Count  Dtype  \n",
      "---  ------     --------------  -----  \n",
      " 0   str_date   39 non-null     object \n",
      " 1   str_time   39 non-null     object \n",
      " 2   group      39 non-null     object \n",
      " 3   sub_group  39 non-null     object \n",
      " 4   val_id     39 non-null     object \n",
      " 5   value      39 non-null     float64\n",
      "dtypes: float64(1), object(5)\n",
      "memory usage: 2.0+ KB\n"
     ]
    },
    {
     "data": {
      "text/plain": [
       "None"
      ]
     },
     "metadata": {},
     "output_type": "display_data"
    }
   ],
   "source": [
    "display(data.dtypes)\n",
    "display(data.info())"
   ]
  },
  {
   "cell_type": "markdown",
   "metadata": {
    "hidden": true
   },
   "source": [
    "Удалить строки с другим типом данных"
   ]
  },
  {
   "cell_type": "code",
   "execution_count": 143,
   "metadata": {
    "hidden": true
   },
   "outputs": [
    {
     "data": {
      "text/html": [
       "<div>\n",
       "<style scoped>\n",
       "    .dataframe tbody tr th:only-of-type {\n",
       "        vertical-align: middle;\n",
       "    }\n",
       "\n",
       "    .dataframe tbody tr th {\n",
       "        vertical-align: top;\n",
       "    }\n",
       "\n",
       "    .dataframe thead th {\n",
       "        text-align: right;\n",
       "    }\n",
       "</style>\n",
       "<table border=\"1\" class=\"dataframe\">\n",
       "  <thead>\n",
       "    <tr style=\"text-align: right;\">\n",
       "      <th></th>\n",
       "      <th>str_date</th>\n",
       "      <th>str_time</th>\n",
       "      <th>group</th>\n",
       "      <th>sub_group</th>\n",
       "      <th>val_id</th>\n",
       "      <th>value</th>\n",
       "    </tr>\n",
       "  </thead>\n",
       "  <tbody>\n",
       "    <tr>\n",
       "      <th>0</th>\n",
       "      <td>16-10-2021</td>\n",
       "      <td>23:56:10</td>\n",
       "      <td>A</td>\n",
       "      <td>a1</td>\n",
       "      <td>0001</td>\n",
       "      <td>5.0</td>\n",
       "    </tr>\n",
       "    <tr>\n",
       "      <th>1</th>\n",
       "      <td>16-10-2021</td>\n",
       "      <td>23:56:10</td>\n",
       "      <td>A</td>\n",
       "      <td>a1</td>\n",
       "      <td>0001</td>\n",
       "      <td>5.0</td>\n",
       "    </tr>\n",
       "    <tr>\n",
       "      <th>2</th>\n",
       "      <td>16-10-2021</td>\n",
       "      <td>23:58:30</td>\n",
       "      <td>A</td>\n",
       "      <td>a1</td>\n",
       "      <td>0002</td>\n",
       "      <td>70.0</td>\n",
       "    </tr>\n",
       "    <tr>\n",
       "      <th>3</th>\n",
       "      <td>16-10-2021</td>\n",
       "      <td>23:58:35</td>\n",
       "      <td>B</td>\n",
       "      <td>b1</td>\n",
       "      <td>0003</td>\n",
       "      <td>2.0</td>\n",
       "    </tr>\n",
       "    <tr>\n",
       "      <th>4</th>\n",
       "      <td>16-10-2021</td>\n",
       "      <td>23:58:36</td>\n",
       "      <td>B</td>\n",
       "      <td>b1</td>\n",
       "      <td>0</td>\n",
       "      <td>0.0</td>\n",
       "    </tr>\n",
       "  </tbody>\n",
       "</table>\n",
       "</div>"
      ],
      "text/plain": [
       "     str_date  str_time group sub_group val_id  value\n",
       "0  16-10-2021  23:56:10     A        a1   0001    5.0\n",
       "1  16-10-2021  23:56:10     A        a1   0001    5.0\n",
       "2  16-10-2021  23:58:30     A        a1   0002   70.0\n",
       "3  16-10-2021  23:58:35     B        b1   0003    2.0\n",
       "4  16-10-2021  23:58:36     B        b1      0    0.0"
      ]
     },
     "execution_count": 143,
     "metadata": {},
     "output_type": "execute_result"
    }
   ],
   "source": [
    "data_types = [str]\n",
    "\n",
    "data = data.loc[data.group.apply(lambda x: type(x) in data_types)]\n",
    "data.head()"
   ]
  },
  {
   "cell_type": "markdown",
   "metadata": {
    "hidden": true
   },
   "source": [
    "Изменить тип данных колонки"
   ]
  },
  {
   "cell_type": "code",
   "execution_count": 144,
   "metadata": {
    "hidden": true
   },
   "outputs": [
    {
     "data": {
      "text/html": [
       "<div>\n",
       "<style scoped>\n",
       "    .dataframe tbody tr th:only-of-type {\n",
       "        vertical-align: middle;\n",
       "    }\n",
       "\n",
       "    .dataframe tbody tr th {\n",
       "        vertical-align: top;\n",
       "    }\n",
       "\n",
       "    .dataframe thead th {\n",
       "        text-align: right;\n",
       "    }\n",
       "</style>\n",
       "<table border=\"1\" class=\"dataframe\">\n",
       "  <thead>\n",
       "    <tr style=\"text-align: right;\">\n",
       "      <th></th>\n",
       "      <th>str_date</th>\n",
       "      <th>str_time</th>\n",
       "      <th>group</th>\n",
       "      <th>sub_group</th>\n",
       "      <th>val_id</th>\n",
       "      <th>value</th>\n",
       "    </tr>\n",
       "  </thead>\n",
       "  <tbody>\n",
       "    <tr>\n",
       "      <th>0</th>\n",
       "      <td>16-10-2021</td>\n",
       "      <td>23:56:10</td>\n",
       "      <td>A</td>\n",
       "      <td>a1</td>\n",
       "      <td>0001</td>\n",
       "      <td>5</td>\n",
       "    </tr>\n",
       "    <tr>\n",
       "      <th>1</th>\n",
       "      <td>16-10-2021</td>\n",
       "      <td>23:56:10</td>\n",
       "      <td>A</td>\n",
       "      <td>a1</td>\n",
       "      <td>0001</td>\n",
       "      <td>5</td>\n",
       "    </tr>\n",
       "    <tr>\n",
       "      <th>2</th>\n",
       "      <td>16-10-2021</td>\n",
       "      <td>23:58:30</td>\n",
       "      <td>A</td>\n",
       "      <td>a1</td>\n",
       "      <td>0002</td>\n",
       "      <td>70</td>\n",
       "    </tr>\n",
       "    <tr>\n",
       "      <th>3</th>\n",
       "      <td>16-10-2021</td>\n",
       "      <td>23:58:35</td>\n",
       "      <td>B</td>\n",
       "      <td>b1</td>\n",
       "      <td>0003</td>\n",
       "      <td>2</td>\n",
       "    </tr>\n",
       "    <tr>\n",
       "      <th>4</th>\n",
       "      <td>16-10-2021</td>\n",
       "      <td>23:58:36</td>\n",
       "      <td>B</td>\n",
       "      <td>b1</td>\n",
       "      <td>0</td>\n",
       "      <td>0</td>\n",
       "    </tr>\n",
       "    <tr>\n",
       "      <th>7</th>\n",
       "      <td>16-10-2021</td>\n",
       "      <td>23:58:56</td>\n",
       "      <td>B</td>\n",
       "      <td>b2</td>\n",
       "      <td>0004</td>\n",
       "      <td>26</td>\n",
       "    </tr>\n",
       "    <tr>\n",
       "      <th>8</th>\n",
       "      <td>16-10-2021</td>\n",
       "      <td>23:59:21</td>\n",
       "      <td>C</td>\n",
       "      <td>c1</td>\n",
       "      <td>0005</td>\n",
       "      <td>41</td>\n",
       "    </tr>\n",
       "    <tr>\n",
       "      <th>9</th>\n",
       "      <td>16-10-2021</td>\n",
       "      <td>23:59:42</td>\n",
       "      <td>C</td>\n",
       "      <td>c1</td>\n",
       "      <td>0006</td>\n",
       "      <td>5</td>\n",
       "    </tr>\n",
       "    <tr>\n",
       "      <th>10</th>\n",
       "      <td>17-10-2021</td>\n",
       "      <td>00:03:05</td>\n",
       "      <td>A</td>\n",
       "      <td>a1</td>\n",
       "      <td>0007</td>\n",
       "      <td>85</td>\n",
       "    </tr>\n",
       "    <tr>\n",
       "      <th>11</th>\n",
       "      <td>17-10-2021</td>\n",
       "      <td>00:03:25</td>\n",
       "      <td>A</td>\n",
       "      <td>a2</td>\n",
       "      <td>0008</td>\n",
       "      <td>22</td>\n",
       "    </tr>\n",
       "    <tr>\n",
       "      <th>12</th>\n",
       "      <td>17-10-2021</td>\n",
       "      <td>00:03:48</td>\n",
       "      <td>A</td>\n",
       "      <td>a3</td>\n",
       "      <td>0009</td>\n",
       "      <td>31</td>\n",
       "    </tr>\n",
       "    <tr>\n",
       "      <th>13</th>\n",
       "      <td>17-10-2021</td>\n",
       "      <td>00:05:24</td>\n",
       "      <td>B</td>\n",
       "      <td>b1</td>\n",
       "      <td>0010</td>\n",
       "      <td>3</td>\n",
       "    </tr>\n",
       "    <tr>\n",
       "      <th>14</th>\n",
       "      <td>17-10-2021</td>\n",
       "      <td>00:05:24</td>\n",
       "      <td>B</td>\n",
       "      <td>b1</td>\n",
       "      <td>0010</td>\n",
       "      <td>3</td>\n",
       "    </tr>\n",
       "    <tr>\n",
       "      <th>15</th>\n",
       "      <td>17-10-2021</td>\n",
       "      <td>00:05:36</td>\n",
       "      <td>B</td>\n",
       "      <td>b1</td>\n",
       "      <td>0011</td>\n",
       "      <td>95</td>\n",
       "    </tr>\n",
       "    <tr>\n",
       "      <th>16</th>\n",
       "      <td>17-10-2021</td>\n",
       "      <td>00:05:44</td>\n",
       "      <td>B</td>\n",
       "      <td>b2</td>\n",
       "      <td>0012</td>\n",
       "      <td>49</td>\n",
       "    </tr>\n",
       "    <tr>\n",
       "      <th>19</th>\n",
       "      <td>17-10-2021</td>\n",
       "      <td>00:06:03</td>\n",
       "      <td>B</td>\n",
       "      <td>b2</td>\n",
       "      <td>0013</td>\n",
       "      <td>61</td>\n",
       "    </tr>\n",
       "    <tr>\n",
       "      <th>20</th>\n",
       "      <td>17-10-2021</td>\n",
       "      <td>03:12:13</td>\n",
       "      <td>B</td>\n",
       "      <td>b3</td>\n",
       "      <td>0014</td>\n",
       "      <td>57</td>\n",
       "    </tr>\n",
       "    <tr>\n",
       "      <th>21</th>\n",
       "      <td>17-10-2021</td>\n",
       "      <td>03:12:46</td>\n",
       "      <td>C</td>\n",
       "      <td>c1</td>\n",
       "      <td>0015</td>\n",
       "      <td>41</td>\n",
       "    </tr>\n",
       "    <tr>\n",
       "      <th>22</th>\n",
       "      <td>17-10-2021</td>\n",
       "      <td>13:06:54</td>\n",
       "      <td>C</td>\n",
       "      <td>c1</td>\n",
       "      <td>0016</td>\n",
       "      <td>1</td>\n",
       "    </tr>\n",
       "    <tr>\n",
       "      <th>23</th>\n",
       "      <td>17-10-2021</td>\n",
       "      <td>13:06:54</td>\n",
       "      <td>C</td>\n",
       "      <td>c1</td>\n",
       "      <td>0016</td>\n",
       "      <td>1</td>\n",
       "    </tr>\n",
       "    <tr>\n",
       "      <th>24</th>\n",
       "      <td>17-10-2021</td>\n",
       "      <td>13:12:10</td>\n",
       "      <td>C</td>\n",
       "      <td>c2</td>\n",
       "      <td>0017</td>\n",
       "      <td>64</td>\n",
       "    </tr>\n",
       "    <tr>\n",
       "      <th>25</th>\n",
       "      <td>17-10-2021</td>\n",
       "      <td>19:48:30</td>\n",
       "      <td>C</td>\n",
       "      <td>c2</td>\n",
       "      <td>0018</td>\n",
       "      <td>62</td>\n",
       "    </tr>\n",
       "    <tr>\n",
       "      <th>26</th>\n",
       "      <td>18-10-2021</td>\n",
       "      <td>00:06:05</td>\n",
       "      <td>C</td>\n",
       "      <td>c1</td>\n",
       "      <td>0019</td>\n",
       "      <td>52</td>\n",
       "    </tr>\n",
       "    <tr>\n",
       "      <th>27</th>\n",
       "      <td>18-10-2021</td>\n",
       "      <td>03:08:03</td>\n",
       "      <td>C</td>\n",
       "      <td>c2</td>\n",
       "      <td>0020</td>\n",
       "      <td>11</td>\n",
       "    </tr>\n",
       "    <tr>\n",
       "      <th>28</th>\n",
       "      <td>18-10-2021</td>\n",
       "      <td>04:08:03</td>\n",
       "      <td>C</td>\n",
       "      <td>0</td>\n",
       "      <td>0</td>\n",
       "      <td>0</td>\n",
       "    </tr>\n",
       "    <tr>\n",
       "      <th>29</th>\n",
       "      <td>18-10-2021</td>\n",
       "      <td>12:07:08</td>\n",
       "      <td>C</td>\n",
       "      <td>c3</td>\n",
       "      <td>0021</td>\n",
       "      <td>20</td>\n",
       "    </tr>\n",
       "    <tr>\n",
       "      <th>30</th>\n",
       "      <td>19-10-2021</td>\n",
       "      <td>00:04:03</td>\n",
       "      <td>A</td>\n",
       "      <td>a1</td>\n",
       "      <td>0022</td>\n",
       "      <td>31</td>\n",
       "    </tr>\n",
       "    <tr>\n",
       "      <th>31</th>\n",
       "      <td>19-10-2021</td>\n",
       "      <td>00:04:33</td>\n",
       "      <td>00:04:04</td>\n",
       "      <td>0</td>\n",
       "      <td>0</td>\n",
       "      <td>0</td>\n",
       "    </tr>\n",
       "    <tr>\n",
       "      <th>35</th>\n",
       "      <td>19-10-2021</td>\n",
       "      <td>02:08:20</td>\n",
       "      <td>A</td>\n",
       "      <td>a2</td>\n",
       "      <td>0023</td>\n",
       "      <td>1</td>\n",
       "    </tr>\n",
       "    <tr>\n",
       "      <th>36</th>\n",
       "      <td>19-10-2021</td>\n",
       "      <td>10:03:08</td>\n",
       "      <td>B</td>\n",
       "      <td>a2</td>\n",
       "      <td>0024</td>\n",
       "      <td>8</td>\n",
       "    </tr>\n",
       "    <tr>\n",
       "      <th>37</th>\n",
       "      <td>19-10-2021</td>\n",
       "      <td>10:03:08</td>\n",
       "      <td>B</td>\n",
       "      <td>a2</td>\n",
       "      <td>0024</td>\n",
       "      <td>8</td>\n",
       "    </tr>\n",
       "    <tr>\n",
       "      <th>38</th>\n",
       "      <td>19-10-2021</td>\n",
       "      <td>12:07:08</td>\n",
       "      <td>B</td>\n",
       "      <td>b1</td>\n",
       "      <td>0025</td>\n",
       "      <td>12</td>\n",
       "    </tr>\n",
       "  </tbody>\n",
       "</table>\n",
       "</div>"
      ],
      "text/plain": [
       "      str_date  str_time     group sub_group val_id  value\n",
       "0   16-10-2021  23:56:10         A        a1   0001      5\n",
       "1   16-10-2021  23:56:10         A        a1   0001      5\n",
       "2   16-10-2021  23:58:30         A        a1   0002     70\n",
       "3   16-10-2021  23:58:35         B        b1   0003      2\n",
       "4   16-10-2021  23:58:36         B        b1      0      0\n",
       "7   16-10-2021  23:58:56         B        b2   0004     26\n",
       "8   16-10-2021  23:59:21         C        c1   0005     41\n",
       "9   16-10-2021  23:59:42         C        c1   0006      5\n",
       "10  17-10-2021  00:03:05         A        a1   0007     85\n",
       "11  17-10-2021  00:03:25         A        a2   0008     22\n",
       "12  17-10-2021  00:03:48         A        a3   0009     31\n",
       "13  17-10-2021  00:05:24         B        b1   0010      3\n",
       "14  17-10-2021  00:05:24         B        b1   0010      3\n",
       "15  17-10-2021  00:05:36         B        b1   0011     95\n",
       "16  17-10-2021  00:05:44         B        b2   0012     49\n",
       "19  17-10-2021  00:06:03         B        b2   0013     61\n",
       "20  17-10-2021  03:12:13         B        b3   0014     57\n",
       "21  17-10-2021  03:12:46         C        c1   0015     41\n",
       "22  17-10-2021  13:06:54         C        c1   0016      1\n",
       "23  17-10-2021  13:06:54         C        c1   0016      1\n",
       "24  17-10-2021  13:12:10         C        c2   0017     64\n",
       "25  17-10-2021  19:48:30         C        c2   0018     62\n",
       "26  18-10-2021  00:06:05         C        c1   0019     52\n",
       "27  18-10-2021  03:08:03         C        c2   0020     11\n",
       "28  18-10-2021  04:08:03         C         0      0      0\n",
       "29  18-10-2021  12:07:08         C        c3   0021     20\n",
       "30  19-10-2021  00:04:03         A        a1   0022     31\n",
       "31  19-10-2021  00:04:33  00:04:04         0      0      0\n",
       "35  19-10-2021  02:08:20         A        a2   0023      1\n",
       "36  19-10-2021  10:03:08         B        a2   0024      8\n",
       "37  19-10-2021  10:03:08         B        a2   0024      8\n",
       "38  19-10-2021  12:07:08         B        b1   0025     12"
      ]
     },
     "execution_count": 144,
     "metadata": {},
     "output_type": "execute_result"
    }
   ],
   "source": [
    "col = 'value'\n",
    "data[col] = data[col].fillna(0).astype('int')\n",
    "data"
   ]
  },
  {
   "cell_type": "markdown",
   "metadata": {
    "heading_collapsed": true
   },
   "source": [
    "## Дубликаты"
   ]
  },
  {
   "cell_type": "code",
   "execution_count": 145,
   "metadata": {
    "hidden": true
   },
   "outputs": [
    {
     "data": {
      "text/plain": [
       "4"
      ]
     },
     "execution_count": 145,
     "metadata": {},
     "output_type": "execute_result"
    }
   ],
   "source": [
    "data.duplicated().sum()"
   ]
  },
  {
   "cell_type": "code",
   "execution_count": 146,
   "metadata": {
    "hidden": true
   },
   "outputs": [
    {
     "data": {
      "text/html": [
       "<div>\n",
       "<style scoped>\n",
       "    .dataframe tbody tr th:only-of-type {\n",
       "        vertical-align: middle;\n",
       "    }\n",
       "\n",
       "    .dataframe tbody tr th {\n",
       "        vertical-align: top;\n",
       "    }\n",
       "\n",
       "    .dataframe thead th {\n",
       "        text-align: right;\n",
       "    }\n",
       "</style>\n",
       "<table border=\"1\" class=\"dataframe\">\n",
       "  <thead>\n",
       "    <tr style=\"text-align: right;\">\n",
       "      <th></th>\n",
       "      <th>str_date</th>\n",
       "      <th>str_time</th>\n",
       "      <th>group</th>\n",
       "      <th>sub_group</th>\n",
       "      <th>val_id</th>\n",
       "      <th>value</th>\n",
       "    </tr>\n",
       "  </thead>\n",
       "  <tbody>\n",
       "    <tr>\n",
       "      <th>1</th>\n",
       "      <td>16-10-2021</td>\n",
       "      <td>23:56:10</td>\n",
       "      <td>A</td>\n",
       "      <td>a1</td>\n",
       "      <td>0001</td>\n",
       "      <td>5</td>\n",
       "    </tr>\n",
       "    <tr>\n",
       "      <th>14</th>\n",
       "      <td>17-10-2021</td>\n",
       "      <td>00:05:24</td>\n",
       "      <td>B</td>\n",
       "      <td>b1</td>\n",
       "      <td>0010</td>\n",
       "      <td>3</td>\n",
       "    </tr>\n",
       "    <tr>\n",
       "      <th>23</th>\n",
       "      <td>17-10-2021</td>\n",
       "      <td>13:06:54</td>\n",
       "      <td>C</td>\n",
       "      <td>c1</td>\n",
       "      <td>0016</td>\n",
       "      <td>1</td>\n",
       "    </tr>\n",
       "    <tr>\n",
       "      <th>37</th>\n",
       "      <td>19-10-2021</td>\n",
       "      <td>10:03:08</td>\n",
       "      <td>B</td>\n",
       "      <td>a2</td>\n",
       "      <td>0024</td>\n",
       "      <td>8</td>\n",
       "    </tr>\n",
       "  </tbody>\n",
       "</table>\n",
       "</div>"
      ],
      "text/plain": [
       "      str_date  str_time group sub_group val_id  value\n",
       "1   16-10-2021  23:56:10     A        a1   0001      5\n",
       "14  17-10-2021  00:05:24     B        b1   0010      3\n",
       "23  17-10-2021  13:06:54     C        c1   0016      1\n",
       "37  19-10-2021  10:03:08     B        a2   0024      8"
      ]
     },
     "execution_count": 146,
     "metadata": {},
     "output_type": "execute_result"
    }
   ],
   "source": [
    "data[data.duplicated()]"
   ]
  },
  {
   "cell_type": "code",
   "execution_count": 147,
   "metadata": {
    "hidden": true
   },
   "outputs": [],
   "source": [
    "data = data.drop_duplicates()"
   ]
  },
  {
   "cell_type": "markdown",
   "metadata": {},
   "source": [
    "## Распределение данных"
   ]
  },
  {
   "cell_type": "markdown",
   "metadata": {},
   "source": [
    "### Статистики числовых данных"
   ]
  },
  {
   "cell_type": "markdown",
   "metadata": {},
   "source": [
    "**Метод describe:**\n",
    "- Количество значений\n",
    "- Среднее (математическое ожидание) - expected value, mean, average\n",
    "- Стандартное отклонение (корень из дисперсии)\n",
    "- Минимальное значения\n",
    "- Квантили 25%, 50%, 75%\n",
    "- Максимальное значение"
   ]
  },
  {
   "cell_type": "code",
   "execution_count": 148,
   "metadata": {},
   "outputs": [
    {
     "data": {
      "text/html": [
       "<div>\n",
       "<style scoped>\n",
       "    .dataframe tbody tr th:only-of-type {\n",
       "        vertical-align: middle;\n",
       "    }\n",
       "\n",
       "    .dataframe tbody tr th {\n",
       "        vertical-align: top;\n",
       "    }\n",
       "\n",
       "    .dataframe thead th {\n",
       "        text-align: right;\n",
       "    }\n",
       "</style>\n",
       "<table border=\"1\" class=\"dataframe\">\n",
       "  <thead>\n",
       "    <tr style=\"text-align: right;\">\n",
       "      <th></th>\n",
       "      <th>count</th>\n",
       "      <th>mean</th>\n",
       "      <th>std</th>\n",
       "      <th>min</th>\n",
       "      <th>25%</th>\n",
       "      <th>50%</th>\n",
       "      <th>75%</th>\n",
       "      <th>max</th>\n",
       "    </tr>\n",
       "  </thead>\n",
       "  <tbody>\n",
       "    <tr>\n",
       "      <th>value</th>\n",
       "      <td>28.0</td>\n",
       "      <td>30.535714</td>\n",
       "      <td>28.735682</td>\n",
       "      <td>0.0</td>\n",
       "      <td>4.5</td>\n",
       "      <td>24.0</td>\n",
       "      <td>53.25</td>\n",
       "      <td>95.0</td>\n",
       "    </tr>\n",
       "  </tbody>\n",
       "</table>\n",
       "</div>"
      ],
      "text/plain": [
       "       count       mean        std  min  25%   50%    75%   max\n",
       "value   28.0  30.535714  28.735682  0.0  4.5  24.0  53.25  95.0"
      ]
     },
     "execution_count": 148,
     "metadata": {},
     "output_type": "execute_result"
    }
   ],
   "source": [
    "statistics = data.describe().T\n",
    "statistics"
   ]
  },
  {
   "cell_type": "code",
   "execution_count": 149,
   "metadata": {},
   "outputs": [
    {
     "data": {
      "text/html": [
       "<div>\n",
       "<style scoped>\n",
       "    .dataframe tbody tr th:only-of-type {\n",
       "        vertical-align: middle;\n",
       "    }\n",
       "\n",
       "    .dataframe tbody tr th {\n",
       "        vertical-align: top;\n",
       "    }\n",
       "\n",
       "    .dataframe thead th {\n",
       "        text-align: right;\n",
       "    }\n",
       "</style>\n",
       "<table border=\"1\" class=\"dataframe\">\n",
       "  <thead>\n",
       "    <tr style=\"text-align: right;\">\n",
       "      <th></th>\n",
       "      <th>str_date</th>\n",
       "      <th>str_time</th>\n",
       "      <th>group</th>\n",
       "      <th>sub_group</th>\n",
       "      <th>val_id</th>\n",
       "    </tr>\n",
       "  </thead>\n",
       "  <tbody>\n",
       "    <tr>\n",
       "      <th>count</th>\n",
       "      <td>28</td>\n",
       "      <td>28</td>\n",
       "      <td>28</td>\n",
       "      <td>28</td>\n",
       "      <td>28</td>\n",
       "    </tr>\n",
       "    <tr>\n",
       "      <th>unique</th>\n",
       "      <td>4</td>\n",
       "      <td>27</td>\n",
       "      <td>4</td>\n",
       "      <td>10</td>\n",
       "      <td>26</td>\n",
       "    </tr>\n",
       "    <tr>\n",
       "      <th>top</th>\n",
       "      <td>17-10-2021</td>\n",
       "      <td>12:07:08</td>\n",
       "      <td>B</td>\n",
       "      <td>b1</td>\n",
       "      <td>0</td>\n",
       "    </tr>\n",
       "    <tr>\n",
       "      <th>freq</th>\n",
       "      <td>12</td>\n",
       "      <td>2</td>\n",
       "      <td>10</td>\n",
       "      <td>5</td>\n",
       "      <td>3</td>\n",
       "    </tr>\n",
       "  </tbody>\n",
       "</table>\n",
       "</div>"
      ],
      "text/plain": [
       "          str_date  str_time group sub_group  val_id\n",
       "count           28        28    28        28      28\n",
       "unique           4        27     4        10      26\n",
       "top     17-10-2021  12:07:08     B        b1       0\n",
       "freq            12         2    10         5       3"
      ]
     },
     "execution_count": 149,
     "metadata": {},
     "output_type": "execute_result"
    }
   ],
   "source": [
    "data.describe(include='object')"
   ]
  },
  {
   "cell_type": "markdown",
   "metadata": {},
   "source": [
    "**Дисперсия и Медиана**"
   ]
  },
  {
   "cell_type": "code",
   "execution_count": 150,
   "metadata": {},
   "outputs": [],
   "source": [
    "for func in [np.var, np.median]:\n",
    "    statistics[func.__name__] = [func(data[col]) for col in statistics.index]"
   ]
  },
  {
   "cell_type": "markdown",
   "metadata": {},
   "source": [
    "**Мода**"
   ]
  },
  {
   "cell_type": "code",
   "execution_count": 151,
   "metadata": {},
   "outputs": [],
   "source": [
    "from scipy import stats\n",
    "\n",
    "statistics['mode'] = [stats.mode(data[col])[0][0] for col in statistics.index]"
   ]
  },
  {
   "cell_type": "code",
   "execution_count": 152,
   "metadata": {},
   "outputs": [
    {
     "data": {
      "text/html": [
       "<div>\n",
       "<style scoped>\n",
       "    .dataframe tbody tr th:only-of-type {\n",
       "        vertical-align: middle;\n",
       "    }\n",
       "\n",
       "    .dataframe tbody tr th {\n",
       "        vertical-align: top;\n",
       "    }\n",
       "\n",
       "    .dataframe thead th {\n",
       "        text-align: right;\n",
       "    }\n",
       "</style>\n",
       "<table border=\"1\" class=\"dataframe\">\n",
       "  <thead>\n",
       "    <tr style=\"text-align: right;\">\n",
       "      <th></th>\n",
       "      <th>count</th>\n",
       "      <th>mean</th>\n",
       "      <th>std</th>\n",
       "      <th>min</th>\n",
       "      <th>25%</th>\n",
       "      <th>50%</th>\n",
       "      <th>75%</th>\n",
       "      <th>max</th>\n",
       "      <th>var</th>\n",
       "      <th>median</th>\n",
       "      <th>mode</th>\n",
       "    </tr>\n",
       "  </thead>\n",
       "  <tbody>\n",
       "    <tr>\n",
       "      <th>value</th>\n",
       "      <td>28.0</td>\n",
       "      <td>30.54</td>\n",
       "      <td>28.74</td>\n",
       "      <td>0.0</td>\n",
       "      <td>4.5</td>\n",
       "      <td>24.0</td>\n",
       "      <td>53.25</td>\n",
       "      <td>95.0</td>\n",
       "      <td>796.25</td>\n",
       "      <td>24.0</td>\n",
       "      <td>0</td>\n",
       "    </tr>\n",
       "  </tbody>\n",
       "</table>\n",
       "</div>"
      ],
      "text/plain": [
       "       count   mean    std  min  25%   50%    75%   max     var  median  mode\n",
       "value   28.0  30.54  28.74  0.0  4.5  24.0  53.25  95.0  796.25    24.0     0"
      ]
     },
     "execution_count": 152,
     "metadata": {},
     "output_type": "execute_result"
    }
   ],
   "source": [
    "statistics = np.round(statistics, 2)\n",
    "statistics"
   ]
  },
  {
   "cell_type": "markdown",
   "metadata": {},
   "source": [
    "### Рассчет персентиля"
   ]
  },
  {
   "cell_type": "markdown",
   "metadata": {},
   "source": [
    "95-й прецентиль — это такое число, что 95% элементов массива меньше или равны этому числу."
   ]
  },
  {
   "cell_type": "code",
   "execution_count": 168,
   "metadata": {},
   "outputs": [
    {
     "data": {
      "text/html": [
       "<div>\n",
       "<style scoped>\n",
       "    .dataframe tbody tr th:only-of-type {\n",
       "        vertical-align: middle;\n",
       "    }\n",
       "\n",
       "    .dataframe tbody tr th {\n",
       "        vertical-align: top;\n",
       "    }\n",
       "\n",
       "    .dataframe thead th {\n",
       "        text-align: right;\n",
       "    }\n",
       "</style>\n",
       "<table border=\"1\" class=\"dataframe\">\n",
       "  <thead>\n",
       "    <tr style=\"text-align: right;\">\n",
       "      <th></th>\n",
       "      <th>group</th>\n",
       "      <th>value</th>\n",
       "      <th>percentile</th>\n",
       "    </tr>\n",
       "  </thead>\n",
       "  <tbody>\n",
       "    <tr>\n",
       "      <th>31</th>\n",
       "      <td>00:04:04</td>\n",
       "      <td>0</td>\n",
       "      <td>1.00</td>\n",
       "    </tr>\n",
       "    <tr>\n",
       "      <th>35</th>\n",
       "      <td>A</td>\n",
       "      <td>1</td>\n",
       "      <td>0.14</td>\n",
       "    </tr>\n",
       "    <tr>\n",
       "      <th>0</th>\n",
       "      <td>A</td>\n",
       "      <td>5</td>\n",
       "      <td>0.29</td>\n",
       "    </tr>\n",
       "    <tr>\n",
       "      <th>11</th>\n",
       "      <td>A</td>\n",
       "      <td>22</td>\n",
       "      <td>0.43</td>\n",
       "    </tr>\n",
       "    <tr>\n",
       "      <th>12</th>\n",
       "      <td>A</td>\n",
       "      <td>31</td>\n",
       "      <td>0.64</td>\n",
       "    </tr>\n",
       "    <tr>\n",
       "      <th>30</th>\n",
       "      <td>A</td>\n",
       "      <td>31</td>\n",
       "      <td>0.64</td>\n",
       "    </tr>\n",
       "    <tr>\n",
       "      <th>2</th>\n",
       "      <td>A</td>\n",
       "      <td>70</td>\n",
       "      <td>0.86</td>\n",
       "    </tr>\n",
       "    <tr>\n",
       "      <th>10</th>\n",
       "      <td>A</td>\n",
       "      <td>85</td>\n",
       "      <td>1.00</td>\n",
       "    </tr>\n",
       "    <tr>\n",
       "      <th>4</th>\n",
       "      <td>B</td>\n",
       "      <td>0</td>\n",
       "      <td>0.10</td>\n",
       "    </tr>\n",
       "    <tr>\n",
       "      <th>3</th>\n",
       "      <td>B</td>\n",
       "      <td>2</td>\n",
       "      <td>0.20</td>\n",
       "    </tr>\n",
       "    <tr>\n",
       "      <th>13</th>\n",
       "      <td>B</td>\n",
       "      <td>3</td>\n",
       "      <td>0.30</td>\n",
       "    </tr>\n",
       "    <tr>\n",
       "      <th>36</th>\n",
       "      <td>B</td>\n",
       "      <td>8</td>\n",
       "      <td>0.40</td>\n",
       "    </tr>\n",
       "    <tr>\n",
       "      <th>38</th>\n",
       "      <td>B</td>\n",
       "      <td>12</td>\n",
       "      <td>0.50</td>\n",
       "    </tr>\n",
       "    <tr>\n",
       "      <th>7</th>\n",
       "      <td>B</td>\n",
       "      <td>26</td>\n",
       "      <td>0.60</td>\n",
       "    </tr>\n",
       "    <tr>\n",
       "      <th>16</th>\n",
       "      <td>B</td>\n",
       "      <td>49</td>\n",
       "      <td>0.70</td>\n",
       "    </tr>\n",
       "    <tr>\n",
       "      <th>20</th>\n",
       "      <td>B</td>\n",
       "      <td>57</td>\n",
       "      <td>0.80</td>\n",
       "    </tr>\n",
       "    <tr>\n",
       "      <th>19</th>\n",
       "      <td>B</td>\n",
       "      <td>61</td>\n",
       "      <td>0.90</td>\n",
       "    </tr>\n",
       "    <tr>\n",
       "      <th>15</th>\n",
       "      <td>B</td>\n",
       "      <td>95</td>\n",
       "      <td>1.00</td>\n",
       "    </tr>\n",
       "    <tr>\n",
       "      <th>28</th>\n",
       "      <td>C</td>\n",
       "      <td>0</td>\n",
       "      <td>0.10</td>\n",
       "    </tr>\n",
       "    <tr>\n",
       "      <th>22</th>\n",
       "      <td>C</td>\n",
       "      <td>1</td>\n",
       "      <td>0.20</td>\n",
       "    </tr>\n",
       "    <tr>\n",
       "      <th>9</th>\n",
       "      <td>C</td>\n",
       "      <td>5</td>\n",
       "      <td>0.30</td>\n",
       "    </tr>\n",
       "    <tr>\n",
       "      <th>27</th>\n",
       "      <td>C</td>\n",
       "      <td>11</td>\n",
       "      <td>0.40</td>\n",
       "    </tr>\n",
       "    <tr>\n",
       "      <th>29</th>\n",
       "      <td>C</td>\n",
       "      <td>20</td>\n",
       "      <td>0.50</td>\n",
       "    </tr>\n",
       "    <tr>\n",
       "      <th>8</th>\n",
       "      <td>C</td>\n",
       "      <td>41</td>\n",
       "      <td>0.65</td>\n",
       "    </tr>\n",
       "    <tr>\n",
       "      <th>21</th>\n",
       "      <td>C</td>\n",
       "      <td>41</td>\n",
       "      <td>0.65</td>\n",
       "    </tr>\n",
       "    <tr>\n",
       "      <th>26</th>\n",
       "      <td>C</td>\n",
       "      <td>52</td>\n",
       "      <td>0.80</td>\n",
       "    </tr>\n",
       "    <tr>\n",
       "      <th>25</th>\n",
       "      <td>C</td>\n",
       "      <td>62</td>\n",
       "      <td>0.90</td>\n",
       "    </tr>\n",
       "    <tr>\n",
       "      <th>24</th>\n",
       "      <td>C</td>\n",
       "      <td>64</td>\n",
       "      <td>1.00</td>\n",
       "    </tr>\n",
       "  </tbody>\n",
       "</table>\n",
       "</div>"
      ],
      "text/plain": [
       "       group  value  percentile\n",
       "31  00:04:04      0        1.00\n",
       "35         A      1        0.14\n",
       "0          A      5        0.29\n",
       "11         A     22        0.43\n",
       "12         A     31        0.64\n",
       "30         A     31        0.64\n",
       "2          A     70        0.86\n",
       "10         A     85        1.00\n",
       "4          B      0        0.10\n",
       "3          B      2        0.20\n",
       "13         B      3        0.30\n",
       "36         B      8        0.40\n",
       "38         B     12        0.50\n",
       "7          B     26        0.60\n",
       "16         B     49        0.70\n",
       "20         B     57        0.80\n",
       "19         B     61        0.90\n",
       "15         B     95        1.00\n",
       "28         C      0        0.10\n",
       "22         C      1        0.20\n",
       "9          C      5        0.30\n",
       "27         C     11        0.40\n",
       "29         C     20        0.50\n",
       "8          C     41        0.65\n",
       "21         C     41        0.65\n",
       "26         C     52        0.80\n",
       "25         C     62        0.90\n",
       "24         C     64        1.00"
      ]
     },
     "execution_count": 168,
     "metadata": {},
     "output_type": "execute_result"
    }
   ],
   "source": [
    "data[\"percentile\"] = round(data.groupby('group')['value'].rank(pct=True), 2)\n",
    "data[['group', 'value', 'percentile']].sort_values(['group', 'percentile'])"
   ]
  },
  {
   "cell_type": "markdown",
   "metadata": {},
   "source": [
    "#### Примеры задач:"
   ]
  },
  {
   "cell_type": "markdown",
   "metadata": {},
   "source": [
    "- [Stratascratch: Top Percentile Fraud - Medium](https://platform.stratascratch.com/coding/10303-top-percentile-fraud?code_type=2)"
   ]
  },
  {
   "cell_type": "markdown",
   "metadata": {},
   "source": [
    "## Распределение по категориям"
   ]
  },
  {
   "cell_type": "code",
   "execution_count": 70,
   "metadata": {},
   "outputs": [
    {
     "data": {
      "text/plain": [
       "B           10\n",
       "C           10\n",
       "A            7\n",
       "0            7\n",
       "00:04:04     1\n",
       "Name: group, dtype: int64"
      ]
     },
     "execution_count": 70,
     "metadata": {},
     "output_type": "execute_result"
    }
   ],
   "source": [
    "data.group.value_counts()"
   ]
  },
  {
   "cell_type": "markdown",
   "metadata": {
    "heading_collapsed": true
   },
   "source": [
    "# Графики"
   ]
  },
  {
   "cell_type": "markdown",
   "metadata": {
    "heading_collapsed": true,
    "hidden": true
   },
   "source": [
    "## Распределение числовых значений"
   ]
  },
  {
   "cell_type": "code",
   "execution_count": null,
   "metadata": {
    "hidden": true
   },
   "outputs": [],
   "source": []
  },
  {
   "cell_type": "markdown",
   "metadata": {
    "hidden": true
   },
   "source": [
    "## Обнаружение выбросов"
   ]
  },
  {
   "cell_type": "code",
   "execution_count": null,
   "metadata": {
    "hidden": true
   },
   "outputs": [],
   "source": []
  },
  {
   "cell_type": "markdown",
   "metadata": {
    "hidden": true
   },
   "source": [
    "## Выделение закономерностей"
   ]
  },
  {
   "cell_type": "markdown",
   "metadata": {
    "hidden": true
   },
   "source": [
    "### Heat map"
   ]
  },
  {
   "cell_type": "code",
   "execution_count": null,
   "metadata": {
    "hidden": true
   },
   "outputs": [],
   "source": []
  },
  {
   "cell_type": "markdown",
   "metadata": {
    "hidden": true
   },
   "source": [
    "### Scatter plot"
   ]
  },
  {
   "cell_type": "markdown",
   "metadata": {},
   "source": [
    "# Пакеты для EDA"
   ]
  },
  {
   "cell_type": "markdown",
   "metadata": {},
   "source": [
    "## DataPrep"
   ]
  },
  {
   "cell_type": "code",
   "execution_count": null,
   "metadata": {},
   "outputs": [],
   "source": [
    "from dataprep.eda import create_report\n",
    "\n",
    "create_report(init_data)"
   ]
  },
  {
   "cell_type": "code",
   "execution_count": null,
   "metadata": {},
   "outputs": [],
   "source": [
    "create_report(data)"
   ]
  },
  {
   "cell_type": "markdown",
   "metadata": {},
   "source": [
    "## Pandas Profiling"
   ]
  },
  {
   "cell_type": "code",
   "execution_count": null,
   "metadata": {},
   "outputs": [],
   "source": [
    "from pandas_profiling import ProfileReport\n",
    "\n",
    "profile = ProfileReport(init_data, title=\"Report\")\n",
    "profile"
   ]
  },
  {
   "cell_type": "code",
   "execution_count": null,
   "metadata": {},
   "outputs": [],
   "source": [
    "profile = ProfileReport(data, title=\"Report\")\n",
    "profile"
   ]
  },
  {
   "cell_type": "markdown",
   "metadata": {},
   "source": [
    "## SweetViz"
   ]
  },
  {
   "cell_type": "code",
   "execution_count": null,
   "metadata": {},
   "outputs": [],
   "source": [
    "import sweetviz as sv\n",
    "\n",
    "analyze_report = sv.analyze(init_data)\n",
    "analyze_report.show_html(report.html, open_browser=False)"
   ]
  },
  {
   "cell_type": "code",
   "execution_count": null,
   "metadata": {},
   "outputs": [],
   "source": [
    "analyze_report = sv.analyze(data)\n",
    "analyze_report.show_html(report.html, open_browser=False)"
   ]
  },
  {
   "cell_type": "markdown",
   "metadata": {},
   "source": [
    "## AutoViz"
   ]
  },
  {
   "cell_type": "code",
   "execution_count": null,
   "metadata": {},
   "outputs": [],
   "source": [
    "from autoviz.AutoViz_Class import AutoViz_Class\n",
    "\n",
    "AV = AutoViz_Class()\n",
    "\n",
    "dft = AV.AutoViz(\n",
    "    filename=\"\",\n",
    "    dfte=init_data,\n",
    "    lowess=False,\n",
    "    chart_format=\"bokeh\",\n",
    "    max_rows_analyzed=150000,\n",
    "    max_cols_analyzed=30\n",
    ")"
   ]
  },
  {
   "cell_type": "code",
   "execution_count": null,
   "metadata": {},
   "outputs": [],
   "source": [
    "dft = AV.AutoViz(\n",
    "    filename=\"\",\n",
    "    dfte=data,\n",
    "    lowess=False,\n",
    "    chart_format=\"bokeh\",\n",
    "    max_rows_analyzed=150000,\n",
    "    max_cols_analyzed=30\n",
    ")"
   ]
  },
  {
   "cell_type": "code",
   "execution_count": null,
   "metadata": {},
   "outputs": [],
   "source": []
  }
 ],
 "metadata": {
  "hide_input": false,
  "kernelspec": {
   "display_name": "venv",
   "language": "python",
   "name": "venv"
  },
  "language_info": {
   "codemirror_mode": {
    "name": "ipython",
    "version": 3
   },
   "file_extension": ".py",
   "mimetype": "text/x-python",
   "name": "python",
   "nbconvert_exporter": "python",
   "pygments_lexer": "ipython3",
   "version": "3.10.2"
  },
  "toc": {
   "base_numbering": 1,
   "nav_menu": {},
   "number_sections": true,
   "sideBar": true,
   "skip_h1_title": false,
   "title_cell": "Table of Contents",
   "title_sidebar": "Contents",
   "toc_cell": false,
   "toc_position": {},
   "toc_section_display": true,
   "toc_window_display": false
  }
 },
 "nbformat": 4,
 "nbformat_minor": 4
}
