{
 "cells": [
  {
   "cell_type": "markdown",
   "id": "da9ed033",
   "metadata": {},
   "source": [
    "# Настройка ноутбука"
   ]
  },
  {
   "cell_type": "code",
   "execution_count": 10,
   "id": "bdb17727",
   "metadata": {},
   "outputs": [],
   "source": [
    "import pandas as pd\n",
    "import numpy as np\n",
    "import datetime as dt\n",
    "\n",
    "from sklearn.linear_model import LinearRegression\n",
    "# import graphviz"
   ]
  },
  {
   "cell_type": "code",
   "execution_count": 15,
   "id": "b3cc94d9",
   "metadata": {},
   "outputs": [],
   "source": [
    "import seaborn as sns\n",
    "import matplotlib.pyplot as plt\n",
    "%matplotlib inline"
   ]
  },
  {
   "cell_type": "code",
   "execution_count": 11,
   "id": "a38b2a9a",
   "metadata": {},
   "outputs": [
    {
     "data": {
      "text/html": [
       "<style>.container { width:100% !important; }</style>"
      ],
      "text/plain": [
       "<IPython.core.display.HTML object>"
      ]
     },
     "metadata": {},
     "output_type": "display_data"
    }
   ],
   "source": [
    "# Расширить рабочее поле ноутбука на весь экран\n",
    "from IPython.display import display, HTML\n",
    "display(HTML(\"<style>.container { width:100% !important; }</style>\"))"
   ]
  },
  {
   "cell_type": "markdown",
   "id": "1b50d23e",
   "metadata": {},
   "source": [
    "# Описание"
   ]
  },
  {
   "cell_type": "markdown",
   "id": "4fbbe902",
   "metadata": {},
   "source": [
    "# Практики"
   ]
  },
  {
   "cell_type": "code",
   "execution_count": 18,
   "id": "b1f3a916",
   "metadata": {},
   "outputs": [
    {
     "data": {
      "text/plain": [
       "0    11\n",
       "1    12\n",
       "2    17\n",
       "3    16\n",
       "4    19\n",
       "5    20\n",
       "6    25\n",
       "7    25\n",
       "8    26\n",
       "9    27\n",
       "Name: x1, dtype: int64"
      ]
     },
     "execution_count": 18,
     "metadata": {},
     "output_type": "execute_result"
    }
   ],
   "source": [
    "fact = pd.DataFrame({\n",
    "    'x1': [1, 2, 3, 4, 5, 6, 7, 8, 9, 10],\n",
    "#     'x2': [10, 9, 8, 7, 6, 5, 4, 3, 2, 1],\n",
    "})\n",
    "\n",
    "b = 10\n",
    "a1 = 2\n",
    "a2 = 3\n",
    "e = np.random.choice(range(-3, 3), size=10, replace=True)\n",
    "\n",
    "y_th = b + a1 * fact['x1']\n",
    "y_obs = b + a1 * fact['x1'] + e\n",
    "y_obs"
   ]
  },
  {
   "cell_type": "code",
   "execution_count": 19,
   "id": "23d8b013",
   "metadata": {},
   "outputs": [
    {
     "data": {
      "text/plain": [
       "(0.9529192448040615, array([1.88]), np.float64(9.47))"
      ]
     },
     "execution_count": 19,
     "metadata": {},
     "output_type": "execute_result"
    }
   ],
   "source": [
    "x = fact.values\n",
    "y = y_obs\n",
    "\n",
    "reg = LinearRegression().fit(x, y)\n",
    "reg.score(x, y), np.round(reg.coef_, 2), np.round(reg.intercept_, 2)"
   ]
  },
  {
   "cell_type": "code",
   "execution_count": 20,
   "id": "9171fb42",
   "metadata": {},
   "outputs": [
    {
     "data": {
      "image/png": "[encoded data removed]",
      "text/plain": [
       "<Figure size 432x288 with 1 Axes>"
      ]
     },
     "metadata": {
      "needs_background": "light"
     },
     "output_type": "display_data"
    }
   ],
   "source": [
    "plt.scatter(fact['x1'], y)\n",
    "plt.plot(x, y_th, c='blue', alpha=0.5)\n",
    "plt.plot(x, reg.predict(x), c='red');"
   ]
  },
  {
   "cell_type": "code",
   "execution_count": null,
   "id": "eb16bbe3",
   "metadata": {},
   "outputs": [],
   "source": []
  }
 ],
 "metadata": {
  "hide_input": false,
  "kernelspec": {
   "display_name": "Python 3 (ipykernel)",
   "language": "python",
   "name": "python3"
  },
  "language_info": {
   "codemirror_mode": {
    "name": "ipython",
    "version": 3
   },
   "file_extension": ".py",
   "mimetype": "text/x-python",
   "name": "python",
   "nbconvert_exporter": "python",
   "pygments_lexer": "ipython3",
   "version": "3.10.2"
  },
  "toc": {
   "base_numbering": 1,
   "nav_menu": {},
   "number_sections": true,
   "sideBar": true,
   "skip_h1_title": false,
   "title_cell": "Table of Contents",
   "title_sidebar": "Contents",
   "toc_cell": false,
   "toc_position": {},
   "toc_section_display": true,
   "toc_window_display": false
  }
 },
 "nbformat": 4,
 "nbformat_minor": 5
}
