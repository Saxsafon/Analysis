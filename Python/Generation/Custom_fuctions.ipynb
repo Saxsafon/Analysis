{
 "cells": [
  {
   "cell_type": "code",
   "execution_count": null,
   "metadata": {},
   "outputs": [],
   "source": [
    "import pandas as pd\n",
    "import numpy as np\n",
    "import random\n",
    "\n",
    "from itertools import cycle"
   ]
  },
  {
   "cell_type": "markdown",
   "metadata": {},
   "source": [
    "Порой возникает необъодимость протестировать код. Для этого полезно уметь генерировать синтетические данные. В этом ноутбуке я привел ряд практик, которые позволят делать это быстро и легко\n",
    "\n",
    "# Полезные ресурсы:\n",
    "https://towardsdatascience.com/generating-fake-data-with-pandas-very-quickly-b99467d4c618"
   ]
  },
  {
   "cell_type": "markdown",
   "metadata": {},
   "source": [
    "## Создание данных в ручную"
   ]
  },
  {
   "cell_type": "code",
   "execution_count": null,
   "metadata": {},
   "outputs": [],
   "source": [
    "df = pd.DataFrame({\n",
    "    'Name':['Tom', 'Brad', 'Kyle', 'Jerry'],\n",
    "    'Age':[20, 21, 19, 18],\n",
    "    'Height' : [6.1, 5.9, 6.0, 6.1]\n",
    "})\n",
    "\n",
    "df"
   ]
  },
  {
   "cell_type": "markdown",
   "metadata": {},
   "source": [
    "Такой способ подойдет, если нужно быстро проверить функциональность, которая не требует большого разнообразия  и объема данных. И даже в этом случае "
   ]
  },
  {
   "cell_type": "markdown",
   "metadata": {},
   "source": [
    "# Готовые шаблоны\n",
    "Но долго считается, надо бы оптимизировать"
   ]
  },
  {
   "cell_type": "markdown",
   "metadata": {},
   "source": [
    "### Шаблон 1"
   ]
  },
  {
   "cell_type": "code",
   "execution_count": null,
   "metadata": {},
   "outputs": [],
   "source": [
    "N = 500\n",
    "\n",
    "df = pd.DataFrame({\n",
    "    'name': [],\n",
    "    'val1': [],\n",
    "    'val2': [],\n",
    "    'val3': []\n",
    "})"
   ]
  },
  {
   "cell_type": "markdown",
   "metadata": {},
   "source": [
    "### Шаблон 2\n",
    "\n",
    "Этот вариант исполняется слишком долго"
   ]
  },
  {
   "cell_type": "code",
   "execution_count": null,
   "metadata": {},
   "outputs": [],
   "source": [
    "N = 300\n",
    "\n",
    "datetimes = pd.Series(pd.date_range(start='2021-07-01',end='2021-07-30', freq='S'))\n",
    "dates = datetimes.dt.date.unique().tolist()\n",
    "times = datetimes.dt.time.unique().tolist()\n",
    "\n",
    "groups_list = ['A', 'B', 'C']\n",
    "subgroup_list = ['a', 'b', 'c' , 'd']\n",
    "\n",
    "value_min = 1\n",
    "value_max = 100\n",
    "\n",
    "df = pd.DataFrame({\n",
    "    'date': [np.random.choice(dates, 1, replace=True)[0] for i in range(N)],\n",
    "    'time': [np.random.choice(times, 1, replace=True)[0] for i in range(N)],\n",
    "    'group': [np.random.choice(groups_list, 1, replace=True)[0] for i in range(N)],\n",
    "    'sub_group': [np.random.choice(subgroup_list, 1, replace=True)[0] for i in range(N)],\n",
    "    'value': np.random.sample(range(value_min, value_max), N)\n",
    "}).sort_values(['date', 'time'])"
   ]
  },
  {
   "cell_type": "markdown",
   "metadata": {},
   "source": [
    "# Мелкие генераторы"
   ]
  },
  {
   "cell_type": "markdown",
   "metadata": {},
   "source": [
    "### Сгенерировать имена"
   ]
  },
  {
   "cell_type": "code",
   "execution_count": null,
   "metadata": {},
   "outputs": [],
   "source": [
    "from faker.providers.person.en import Provider\n",
    "\n",
    "def random_names(name_type, size):\n",
    "    \"\"\"\n",
    "    Generate n-length ndarray of person names.\n",
    "    name_type: a string, either first_names or last_names\n",
    "    \"\"\"\n",
    "    names = getattr(Provider, name_type)\n",
    "    return np.random.choice(names, size=size)"
   ]
  },
  {
   "cell_type": "markdown",
   "metadata": {},
   "source": [
    "### Сгенерировать пол"
   ]
  },
  {
   "cell_type": "code",
   "execution_count": null,
   "metadata": {},
   "outputs": [],
   "source": [
    "def random_genders(size, p=(0.49, 0.49, 0.01, 0.01)):\n",
    "    \"\"\"Generate n-length ndarray of genders.\"\"\"\n",
    "    gender = (\"M\", \"F\", \"O\", \"\")\n",
    "    return np.random.choice(gender, size=size, p=p)"
   ]
  },
  {
   "cell_type": "markdown",
   "metadata": {},
   "source": [
    "### Сгенерировать дату"
   ]
  },
  {
   "cell_type": "code",
   "execution_count": null,
   "metadata": {},
   "outputs": [],
   "source": [
    "def random_dates(start, end, size):\n",
    "    \"\"\"\n",
    "    Generate random dates within range between start and end.    \n",
    "    Adapted from: https://stackoverflow.com/a/50668285\n",
    "    \"\"\"\n",
    "    # Unix timestamp is in nanoseconds by default, so divide it by\n",
    "    # 24*60*60*10**9 to convert to days.\n",
    "    divide_by = 24 * 60 * 60 * 10**9\n",
    "    start_u = start.value // divide_by\n",
    "    end_u = end.value // divide_by\n",
    "    return pd.to_datetime(np.random.randint(start_u, end_u, size), unit=\"D\")"
   ]
  },
  {
   "cell_type": "code",
   "execution_count": null,
   "metadata": {},
   "outputs": [],
   "source": []
  },
  {
   "cell_type": "code",
   "execution_count": null,
   "metadata": {},
   "outputs": [],
   "source": [
    "size = 100  \n",
    "df = pd.DataFrame(columns=['First', 'Last', 'Gender', 'Birthdate'])\n",
    "df['First'] = random_names('first_names', size)\n",
    "df['Last'] = random_names('last_names', size) \n",
    "df['Gender'] = random_genders(size)\n",
    "df['Birthdate'] = random_dates(start=pd.to_datetime('1940-01-01'), end=pd.to_datetime('2008-01-01'), size=size)\n",
    "\n",
    "df.head()"
   ]
  },
  {
   "cell_type": "markdown",
   "metadata": {},
   "source": [
    "# Блошие генераторы"
   ]
  },
  {
   "cell_type": "code",
   "execution_count": null,
   "metadata": {},
   "outputs": [],
   "source": [
    "def generate_fake_dataframe(size, cols, col_names = None, intervals = None, seed = None):\n",
    "    \n",
    "    categories_dict = {'animals': ['cow', 'rabbit', 'duck', 'shrimp', 'pig', 'goat', 'crab', 'deer', 'bee', 'sheep', 'fish', 'turkey', 'dove', 'chicken', 'horse'],\n",
    "                       'names'  : ['James', 'Mary', 'Robert', 'Patricia', 'John', 'Jennifer', 'Michael', 'Linda', 'William', 'Elizabeth', 'Ahmed', 'Barbara', 'Richard', 'Susan', 'Salomon', 'Juan Luis'],\n",
    "                       'cities' : ['Stockholm', 'Denver', 'Moscow', 'Marseille', 'Palermo', 'Tokyo', 'Lisbon', 'Oslo', 'Nairobi', 'Río de Janeiro', 'Berlin', 'Bogotá', 'Manila', 'Madrid', 'Milwaukee'],\n",
    "                       'colors' : ['red', 'orange', 'yellow', 'green', 'blue', 'indigo', 'purple', 'pink', 'silver', 'gold', 'beige', 'brown', 'grey', 'black', 'white']\n",
    "                      }\n",
    "    \n",
    "    default_intervals = {\"i\" : (0,10), \"f\" : (0,100), \"c\" : (\"names\", 5), \"d\" : (\"2020-01-01\",\"2020-12-31\")}\n",
    "    rng = np.random.default_rng(seed)\n",
    "    \n",
    "\n",
    "    first_c = default_intervals[\"c\"][0]\n",
    "    categories_names = cycle([first_c] + [c for c in categories_dict.keys() if c != first_c])\n",
    "    default_intervals[\"c\"] = (categories_names, default_intervals[\"c\"][1])\n",
    "    \n",
    "    if isinstance(col_names,list):\n",
    "        assert len(col_names) == len(cols), f\"The fake DataFrame should have {len(cols)} columns but col_names is a list with {len(col_names)} elements\"\n",
    "    elif col_names is None:\n",
    "        suffix = {\"c\" : \"cat\", \"i\" : \"int\", \"f\" : \"float\", \"d\" : \"date\"}\n",
    "        col_names = [f\"column_{str(i)}_{suffix.get(col)}\" for i, col in enumerate(cols)]\n",
    "\n",
    "    if isinstance(intervals,list):\n",
    "        assert len(intervals) == len(cols), f\"The fake DataFrame should have {len(cols)} columns but intervals is a list with {len(intervals)} elements\"\n",
    "    else:\n",
    "        if isinstance(intervals,dict):\n",
    "            assert len(set(intervals.keys()) - set(default_intervals.keys())) == 0, f\"The intervals parameter has invalid keys\"\n",
    "            default_intervals.update(intervals)\n",
    "        intervals = [default_intervals[col] for col in cols]\n",
    "        \n",
    "        \n",
    "    df = pd.DataFrame()\n",
    "    for col, col_name, interval in zip(cols, col_names, intervals):\n",
    "        \n",
    "        if interval is None:\n",
    "            interval = default_intervals[col]\n",
    "        assert (len(interval) == 2 and isinstance(interval, tuple)) or isinstance(interval, list), f\"This interval {interval} is neither a tuple of two elements nor a list of strings.\"\n",
    "        \n",
    "        if col in (\"i\",\"f\",\"d\"):\n",
    "            start, end = interval\n",
    "        if col == \"i\":\n",
    "            df[col_name] = rng.integers(start, end, size)\n",
    "        elif col == \"f\":\n",
    "            df[col_name] = rng.uniform(start, end, size)\n",
    "        \n",
    "        elif col == \"c\":\n",
    "            if isinstance(interval, list):\n",
    "                categories = np.array(interval)\n",
    "            else:\n",
    "                cat_family, length = interval\n",
    "                if isinstance(cat_family, cycle):\n",
    "                    cat_family = next(cat_family)\n",
    "                assert cat_family in categories_dict.keys(), f\"There are no samples for category '{cat_family}'. Consider passing a list of samples or use one of the available categories: {categories_dict.keys()}\"\n",
    "                categories = rng.choice(categories_dict[cat_family], length, replace = False, shuffle = True)\n",
    "            df[col_name] = rng.choice(categories, size, shuffle = True)\n",
    "        \n",
    "        elif col == \"d\":\n",
    "            df[col_name] = rng.choice(pd.date_range(start, end), size)\n",
    "            \n",
    "    return df       "
   ]
  },
  {
   "cell_type": "code",
   "execution_count": null,
   "metadata": {},
   "outputs": [],
   "source": [
    "generate_fake_dataframe(size = 1000, cols =  \"cififficcd\")"
   ]
  },
  {
   "cell_type": "code",
   "execution_count": null,
   "metadata": {},
   "outputs": [],
   "source": [
    "df1 = generate_fake_dataframe(\n",
    "    size = 10, \n",
    "    cols = \"cccfd\", \n",
    "    col_names=[\"name\", \"pet\", \"city\",\"height\", \"birthday\"],\n",
    "    intervals = {\"f\" : (1.72,1.95), \"d\" : (\"1996-01-01\",\"1996-12-31\")},\n",
    "    seed=42\n",
    ")\n",
    "\n",
    "df1"
   ]
  },
  {
   "cell_type": "code",
   "execution_count": null,
   "metadata": {},
   "outputs": [],
   "source": [
    "df2 = generate_fake_dataframe(\n",
    "  size = 30, \n",
    "  cols = \"cicffcd\", \n",
    "  col_names = [\"user\", \"age\", \"residence\", \"weight\",\"height\", \"pet\", \"registered\"],\n",
    "  intervals = [(\"names\",15), (18,25),(\"cities\", 15), (73.2,95.0),\n",
    "               (1.65,1.95), (\"animals\", 11), None],\n",
    "  seed = None)\n",
    "\n",
    "df2.head(10)"
   ]
  },
  {
   "cell_type": "code",
   "execution_count": null,
   "metadata": {},
   "outputs": [],
   "source": [
    "df3 = generate_fake_dataframe(\n",
    "    size = 20,\n",
    "    cols = \"cfcc\",\n",
    "    col_names = [\"runner\", \"total_time\", \"skill\", \"adult\"],\n",
    "    intervals = [\n",
    "        (\"names\", 15),\n",
    "        (70,100),\n",
    "        [\"stamina\", \"endurance\", \"speed\"],\n",
    "        [True, False],\n",
    "    ]\n",
    ")\n",
    "\n",
    "df3.head(10)"
   ]
  },
  {
   "cell_type": "code",
   "execution_count": null,
   "metadata": {},
   "outputs": [],
   "source": [
    "df4 = generate_fake_dataframe(\n",
    "    size = 20,\n",
    "    cols = \"ifccc\",\n",
    "    col_names = [\"id\", \"target\", \"one_hot_1\", \"one_hot_2\", \"one_hot_3\"],\n",
    "    intervals = {\"c\" : [0,1]}\n",
    ")\n",
    "\n",
    "df4"
   ]
  }
 ],
 "metadata": {
  "hide_input": false,
  "kernelspec": {
   "display_name": "venv",
   "language": "python",
   "name": "venv"
  },
  "language_info": {
   "codemirror_mode": {
    "name": "ipython",
    "version": 3
   },
   "file_extension": ".py",
   "mimetype": "text/x-python",
   "name": "python",
   "nbconvert_exporter": "python",
   "pygments_lexer": "ipython3",
   "version": "3.10.2"
  },
  "toc": {
   "base_numbering": 1,
   "nav_menu": {},
   "number_sections": true,
   "sideBar": true,
   "skip_h1_title": false,
   "title_cell": "Table of Contents",
   "title_sidebar": "Contents",
   "toc_cell": false,
   "toc_position": {},
   "toc_section_display": true,
   "toc_window_display": false
  }
 },
 "nbformat": 4,
 "nbformat_minor": 4
}
