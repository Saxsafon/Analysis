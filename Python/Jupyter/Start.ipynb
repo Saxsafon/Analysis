{
 "cells": [
  {
   "cell_type": "markdown",
   "id": "64c1ceaa",
   "metadata": {},
   "source": [
    "# Python"
   ]
  },
  {
   "cell_type": "markdown",
   "id": "f1f959cc",
   "metadata": {},
   "source": [
    "## 1. Скачайте установщик с официального сайта и установить на свой компьютер"
   ]
  },
  {
   "cell_type": "markdown",
   "id": "0f8401be",
   "metadata": {},
   "source": [
    "- [Ссылка на установщик python](https://www.python.org/downloads/)\n",
    "- [Туториал по установке python](https://thecode.media/py-install/)"
   ]
  },
  {
   "cell_type": "markdown",
   "id": "c45493bc",
   "metadata": {},
   "source": [
    "## 2. Добавьте пути к Python в список системных переменных"
   ]
  },
  {
   "cell_type": "markdown",
   "id": "521d06ee",
   "metadata": {},
   "source": [
    "<img src=\"../../data/img/system_variables.png\" width=\"800\">\n",
    "\n",
    "Проверьте, что пути к исполняемому файлу python.exe и папке Scripts есть в списке переменных среды. После этого вы сможете пользоваться функционалом Python прямо из терминала\n",
    "<img src=\"../../data/img/cmder.png\" width=\"800\">"
   ]
  },
  {
   "cell_type": "markdown",
   "id": "812d8a2b",
   "metadata": {},
   "source": [
    "- [Что такое pip?](https://pythonworld.ru/osnovy/pip.html)\n",
    "- [Как добавить Python в переменную PATH Windows?](https://www.istocks.club/%D0%BA%D0%B0%D0%BA-%D0%B4%D0%BE%D0%B1%D0%B0%D0%B2%D0%B8%D1%82%D1%8C-python-%D0%B2-%D0%BF%D0%B5%D1%80%D0%B5%D0%BC%D0%B5%D0%BD%D0%BD%D1%83%D1%8E-path-windows/2020-10-14/)"
   ]
  },
  {
   "cell_type": "markdown",
   "id": "99b2c16f",
   "metadata": {},
   "source": [
    "#### Как установить пакет с помощью pip не из кеша, а непосредственно из интернета?"
   ]
  },
  {
   "cell_type": "markdown",
   "id": "fb1aa2c6",
   "metadata": {},
   "source": [
    "```terminal\n",
    "pip install --no-cache-dir pandas\n",
    "```"
   ]
  },
  {
   "cell_type": "markdown",
   "id": "4aef1b70",
   "metadata": {},
   "source": [
    "# Jupyter Notebook"
   ]
  },
  {
   "cell_type": "markdown",
   "id": "4306c61b",
   "metadata": {},
   "source": [
    "- [Что такое Jupyter Notebook?](ttps://thecode.media/jupyter/)\n",
    "- [Как установить Jupyter Notebook?](https://www.8host.com/blog/ustanovka-jupyter-notebook-dlya-python-3/)"
   ]
  },
  {
   "cell_type": "markdown",
   "id": "998d229a",
   "metadata": {},
   "source": [
    "### После успешной установки вы сможете запустить веб-интерфейс jupyter notebook и начать работать)"
   ]
  },
  {
   "cell_type": "markdown",
   "id": "28f86bd8",
   "metadata": {},
   "source": [
    "<img src=\"../../data/img/jupyter.png\" width=\"800\">\n",
    "<img src=\"../../data/img/jupyter_interface.png\" width=\"800\">"
   ]
  },
  {
   "cell_type": "markdown",
   "id": "f45ed51e",
   "metadata": {},
   "source": [
    "### А если я хочу запусить его на диске D?"
   ]
  },
  {
   "cell_type": "markdown",
   "id": "0ce1e6e2",
   "metadata": {},
   "source": [
    "Допишите опцию в команде:\n",
    "<img src=\"../../data/img/jupyter_D.png\" width=\"800\">"
   ]
  },
  {
   "cell_type": "markdown",
   "id": "3642116f",
   "metadata": {},
   "source": [
    "### Не хочу каждый раз запускать его из терминала. Как делать это с иконки на рабочем столе?"
   ]
  },
  {
   "cell_type": "markdown",
   "id": "c513e370",
   "metadata": {},
   "source": [
    "#### Вариант для cmd - здесь все просто"
   ]
  },
  {
   "cell_type": "markdown",
   "id": "16edde0b",
   "metadata": {},
   "source": [
    "Создаем ярлык, как показано на рисунке:\n",
    "\n",
    "<img src=\"../../data/img/icon-0.png\" width=\"800\">"
   ]
  },
  {
   "cell_type": "markdown",
   "id": "7a0b5014",
   "metadata": {},
   "source": [
    "#### Вариант для cmder - здесь есть один нюанс"
   ]
  },
  {
   "cell_type": "markdown",
   "id": "3108445a",
   "metadata": {},
   "source": [
    "Программа cmder допускает создание task-ов, шаблонов запуска командной строки, где можно прописать условия и набор команд, которые нужно выполнить при запуске. Прежде всего вам нужно создать task для запуска ноутбука\n",
    "\n",
    "<img src=\"../../data/img/icon-1.png\" width=\"800\">\n",
    "<img src=\"../../data/img/icon-2.png\" width=\"800\">\n",
    "<img src=\"../../data/img/icon-3.png\" width=\"800\">\n",
    "\n",
    "После этого нужно создать ярлык в том месте, где вы хотите запускать свои ноутбуки (например, на рабочем столе)\n",
    "\n",
    "<img src=\"../../data/img/icon-4.png\" width=\"600\">"
   ]
  },
  {
   "cell_type": "markdown",
   "id": "5f32006c",
   "metadata": {},
   "source": [
    "Так или иначе - сохраняем ярлык\n",
    "<img src=\"../../data/img/icon-5.png\" width=\"600\">\n",
    "<img src=\"../../data/img/icon-6.png\" width=\"400\">"
   ]
  },
  {
   "cell_type": "markdown",
   "id": "e3cc94ab",
   "metadata": {},
   "source": [
    "## Jupyter extensions"
   ]
  },
  {
   "cell_type": "markdown",
   "id": "3419028f",
   "metadata": {},
   "source": [
    "- [Medium: Jupyter Notebook Extensions](https://towards../../datascience.com/jupyter-notebook-extensions-517fa69d2231)"
   ]
  },
  {
   "cell_type": "markdown",
   "id": "d0024287",
   "metadata": {},
   "source": [
    "Чтобы jupyter notebook поддерживал расширения, нужно загрузить несколько дополнительных пакетов. Для этого выполните эту команду в терминале:\n",
    "\n",
    "```terminal\n",
    "pip install jupyter_contrib_nbextensions && jupyter contrib nbextension install\n",
    "```"
   ]
  },
  {
   "cell_type": "markdown",
   "id": "d0e316e1",
   "metadata": {},
   "source": [
    "### Базовый набор расширений"
   ]
  },
  {
   "cell_type": "markdown",
   "id": "8ac1b857",
   "metadata": {},
   "source": [
    "После установки пакетов перезапустите jupyter notebook. В веб интерфейсе должен появиться новый раздел меню. В нем вы можете активировать интересующие вас расширения. Для начала можно выбрать эти три из доступных:\n",
    "\n",
    "<img src=\"../../data/img/extension.png\" width=\"800\">"
   ]
  },
  {
   "cell_type": "markdown",
   "id": "10331533",
   "metadata": {},
   "source": [
    "# Создание виртуального окружения"
   ]
  },
  {
   "cell_type": "markdown",
   "id": "7f345c76",
   "metadata": {},
   "source": [
    "Для различных проектов используются разные пакеты. В некоторых случаях может быть необходимы пакеты определенных версий. Чтобы избежать конфликтов между проектами используется практика создания отельного виртуального окружения под каждый проект, со своей отельной версией python и прочих необходимых пакетов. "
   ]
  },
  {
   "cell_type": "markdown",
   "id": "517377dd",
   "metadata": {},
   "source": [
    "## Как создать виртуальное окружение?"
   ]
  },
  {
   "cell_type": "markdown",
   "id": "d6099cf3",
   "metadata": {},
   "source": [
    "python -m venv <название виртуального окружения>"
   ]
  },
  {
   "cell_type": "markdown",
   "id": "fc072ff6",
   "metadata": {},
   "source": [
    "## Как создать виртуальное окружение более старшей версии python, чем базовая?"
   ]
  },
  {
   "cell_type": "markdown",
   "id": "233e2813",
   "metadata": {},
   "source": [
    "Для этого можно использовать пакет **Pyenv** - менеджер версий python"
   ]
  },
  {
   "cell_type": "markdown",
   "id": "3ff7fc5a",
   "metadata": {},
   "source": [
    "### Установка Pyenv"
   ]
  },
  {
   "cell_type": "markdown",
   "id": "9a33ec18",
   "metadata": {},
   "source": [
    "Скачиваем исходники в домашнюю директорию\n",
    "```python\n",
    "git clone https://github.com/pyenv/pyenv.git ~/.pyenv\n",
    "```\n",
    "\n",
    "Добавляем переменных в PATH\n",
    "```python\n",
    "echo 'export PYENV_ROOT=\"$HOME/.pyenv\"' >> ~/.bashrc\n",
    "echo 'export PATH=\"$PYENV_ROOT/bin:$PATH\"' >> ~/.bashrc\n",
    "```\n",
    "\n",
    "Добавляем функции автозаполнения\n",
    "\n",
    "```python\n",
    "echo -e 'if command -v pyenv 1>/dev/null 2>&1; then\\n  eval \"$(pyenv init -)\"\\nfi' >> ~/.bashrc\n",
    "```\n",
    "Перезапускаем оболочку и проверяем, что все \"ок\""
   ]
  },
  {
   "cell_type": "markdown",
   "id": "f3f680e7",
   "metadata": {},
   "source": [
    "### Использование Pyenv"
   ]
  },
  {
   "cell_type": "markdown",
   "id": "11c531ec",
   "metadata": {},
   "source": [
    "Узнаем какие версии питона вообще есть. Скорее всего, их будет много\n",
    "\n",
    "```python\n",
    "pyenv install --list | grep \" 3\\.\"\n",
    "```\n",
    "\n",
    "Устанавливаем необходимую версию питона\n",
    "```python\n",
    "pyenv install 3.8.6\n",
    "```\n",
    "Проверяем версий установленных через pyenv\n",
    "```python\n",
    "pyenv versions \n",
    "```\n",
    "\n",
    "**Дальше есть 2 пути:**\n",
    "\n",
    "a) Переключаемся на нужную версию и создаем виртуальную среду\n",
    "```python\n",
    "pyenv local 3.8.6\n",
    "which python3.8\n",
    "python3.8 -m venv ./venv_name\n",
    "source ./venv_name/bin/activate\n",
    "```\n",
    "б) Создаем среду с помощью пакета virtualenv\n",
    "```python\n",
    "pyenv virtualenv 3.8.6 project_name\n",
    "pyenv local project_name\n",
    "pip install something\n",
    "```"
   ]
  },
  {
   "cell_type": "markdown",
   "id": "47861bb3",
   "metadata": {},
   "source": [
    "### Удаление версии установленной с помощью pyenv"
   ]
  },
  {
   "cell_type": "markdown",
   "id": "5c90c5e7",
   "metadata": {},
   "source": [
    "```python\n",
    "pyenv uninstall 3.8.6\n",
    "```"
   ]
  },
  {
   "cell_type": "markdown",
   "id": "885a506c",
   "metadata": {},
   "source": [
    "## Установка зависимостей"
   ]
  },
  {
   "cell_type": "markdown",
   "id": "9365dbd0",
   "metadata": {},
   "source": [
    "```terminal\n",
    "pip install <название пакета> - установить пакет\n",
    "pip install \n",
    "```"
   ]
  },
  {
   "cell_type": "markdown",
   "id": "e76970f4",
   "metadata": {},
   "source": [
    "### Как сделать так, чтобы виртуальное окружение отображалось в jupyter-е?"
   ]
  },
  {
   "cell_type": "markdown",
   "id": "939dd1e3",
   "metadata": {},
   "source": [
    "```terminal\n",
    "python -m ipykernel install --user --name=venv\n",
    "```"
   ]
  },
  {
   "cell_type": "markdown",
   "id": "2023c38a",
   "metadata": {},
   "source": [
    "### Как удалить виртуальное окружение из списка в jupyter-е?"
   ]
  },
  {
   "cell_type": "markdown",
   "id": "cbd1a030",
   "metadata": {},
   "source": [
    "```terminal\n",
    "jupyter kernelspec uninstall unwanted-kernel\n",
    "```"
   ]
  }
 ],
 "metadata": {
  "hide_input": false,
  "kernelspec": {
   "display_name": "venv",
   "language": "python",
   "name": "venv"
  },
  "language_info": {
   "codemirror_mode": {
    "name": "ipython",
    "version": 3
   },
   "file_extension": ".py",
   "mimetype": "text/x-python",
   "name": "python",
   "nbconvert_exporter": "python",
   "pygments_lexer": "ipython3",
   "version": "3.10.2"
  },
  "toc": {
   "base_numbering": 1,
   "nav_menu": {},
   "number_sections": true,
   "sideBar": true,
   "skip_h1_title": false,
   "title_cell": "Table of Contents",
   "title_sidebar": "Contents",
   "toc_cell": false,
   "toc_position": {
    "height": "calc(100% - 180px)",
    "left": "10px",
    "top": "150px",
    "width": "233px"
   },
   "toc_section_display": true,
   "toc_window_display": true
  }
 },
 "nbformat": 4,
 "nbformat_minor": 5
}
